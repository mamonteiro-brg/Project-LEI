{
 "cells": [
  {
   "cell_type": "markdown",
   "metadata": {},
   "source": [
    "## Weave For SIDER"
   ]
  },
  {
   "cell_type": "code",
   "execution_count": null,
   "metadata": {},
   "outputs": [],
   "source": [
    "- Featurization=WeaveFeaturizer\n",
    "\n",
    "Utilizamos modelos Weave"
   ]
  },
  {
   "cell_type": "code",
   "execution_count": 1,
   "metadata": {},
   "outputs": [],
   "source": [
    "\"\"\"\n",
    "Script that trains Weave models on SIDER dataset.\n",
    "\"\"\"\n",
    "\n",
    "from __future__ import print_function\n",
    "from __future__ import division\n",
    "from __future__ import unicode_literals\n",
    "\n",
    "import numpy as np\n",
    "import tensorflow as tf\n",
    "import deepchem as dc"
   ]
  },
  {
   "cell_type": "code",
   "execution_count": 2,
   "metadata": {},
   "outputs": [],
   "source": [
    "import numpy as np\n",
    "np.random.seed(123)\n",
    "import tensorflow as tf\n",
    "tf.set_random_seed(123)\n",
    "import deepchem as dc"
   ]
  },
  {
   "cell_type": "code",
   "execution_count": 2,
   "metadata": {},
   "outputs": [
    {
     "name": "stdout",
     "output_type": "stream",
     "text": [
      "Loading raw samples now.\n",
      "shard_size: 8192\n",
      "About to start loading CSV from /tmp/sider.csv.gz\n",
      "Loading shard 1 of size 8192.\n",
      "Featurizing sample 0\n",
      "Featurizing sample 1000\n",
      "TIMING: featurizing shard 0 took 5.252 s\n",
      "TIMING: dataset construction took 7.709 s\n",
      "Loading dataset from disk.\n",
      "TIMING: dataset construction took 2.932 s\n",
      "Loading dataset from disk.\n",
      "TIMING: dataset construction took 2.181 s\n",
      "Loading dataset from disk.\n",
      "TIMING: dataset construction took 0.919 s\n",
      "Loading dataset from disk.\n",
      "TIMING: dataset construction took 1.216 s\n",
      "Loading dataset from disk.\n"
     ]
    }
   ],
   "source": [
    "sider_tasks, sider_datasets, transformers = dc.molnet.load_sider(\n",
    "    featurizer='Weave')\n",
    "train_dataset, valid_dataset, test_dataset = sider_datasets\n"
   ]
  },
  {
   "cell_type": "code",
   "execution_count": 3,
   "metadata": {},
   "outputs": [],
   "source": [
    "# Fit models\n",
    "metric = dc.metrics.Metric(\n",
    "    dc.metrics.roc_auc_score, np.mean, mode=\"classification\")"
   ]
  },
  {
   "cell_type": "code",
   "execution_count": 4,
   "metadata": {},
   "outputs": [],
   "source": [
    "max_atoms_train = max([mol.get_num_atoms() for mol in train_dataset.X])\n",
    "max_atoms_valid = max([mol.get_num_atoms() for mol in valid_dataset.X])\n",
    "max_atoms_test = max([mol.get_num_atoms() for mol in test_dataset.X])\n",
    "max_atoms = max([max_atoms_train, max_atoms_valid, max_atoms_test])"
   ]
  },
  {
   "cell_type": "code",
   "execution_count": 8,
   "metadata": {},
   "outputs": [
    {
     "ename": "NameError",
     "evalue": "name 'n_atom_feat' is not defined",
     "output_type": "error",
     "traceback": [
      "\u001b[0;31m---------------------------------------------------------------------------\u001b[0m",
      "\u001b[0;31mNameError\u001b[0m                                 Traceback (most recent call last)",
      "\u001b[0;32m<ipython-input-8-d7cebb490da4>\u001b[0m in \u001b[0;36m<module>\u001b[0;34m\u001b[0m\n\u001b[1;32m     12\u001b[0m     \u001b[0mbatch_size\u001b[0m\u001b[0;34m,\u001b[0m\u001b[0;34m\u001b[0m\u001b[0;34m\u001b[0m\u001b[0m\n\u001b[1;32m     13\u001b[0m     \u001b[0mmax_atoms\u001b[0m\u001b[0;34m=\u001b[0m\u001b[0mmax_atoms\u001b[0m\u001b[0;34m,\u001b[0m\u001b[0;34m\u001b[0m\u001b[0;34m\u001b[0m\u001b[0m\n\u001b[0;32m---> 14\u001b[0;31m     \u001b[0mn_atom_feat\u001b[0m\u001b[0;34m=\u001b[0m\u001b[0mn_atom_feat\u001b[0m\u001b[0;34m,\u001b[0m\u001b[0;34m\u001b[0m\u001b[0;34m\u001b[0m\u001b[0m\n\u001b[0m\u001b[1;32m     15\u001b[0m     n_pair_feat=n_pair_feat)\n\u001b[1;32m     16\u001b[0m \u001b[0;34m\u001b[0m\u001b[0m\n",
      "\u001b[0;31mNameError\u001b[0m: name 'n_atom_feat' is not defined"
     ]
    }
   ],
   "source": [
    "_atom_feat = 75\n",
    "n_pair_feat = 14\n",
    "# Batch size of models\n",
    "batch_size = 64\n",
    "n_feat = 128\n",
    "\n",
    "from deepchem.models.tensorgraph.models.graph_models import WeaveTensorGraph, DTNNTensorGraph, DAGTensorGraph, GraphConvTensorGraph, MPNNTensorGraph\n",
    "\n",
    "\n",
    "#The original code isn't working properly\n",
    "graph = WeaveTensorGraph(\n",
    "    batch_size,\n",
    "    max_atoms=max_atoms,\n",
    "    n_atom_feat=n_atom_feat,\n",
    "    n_pair_feat=n_pair_feat)\n",
    "\n",
    "#graph = dc.models.WeaveTensorGraph(\n",
    "    #batch_size\n",
    "    #max_atoms=max_atoms\n",
    "    #n_atom_feat=n_atom_feat,\n",
    "    #n_pair_feat=n_pair_feat\n",
    "#    )"
   ]
  },
  {
   "cell_type": "code",
   "execution_count": null,
   "metadata": {},
   "outputs": [],
   "source": []
  },
  {
   "cell_type": "code",
   "execution_count": null,
   "metadata": {},
   "outputs": [],
   "source": []
  },
  {
   "cell_type": "code",
   "execution_count": null,
   "metadata": {},
   "outputs": [],
   "source": []
  },
  {
   "cell_type": "code",
   "execution_count": null,
   "metadata": {},
   "outputs": [],
   "source": []
  }
 ],
 "metadata": {
  "kernelspec": {
   "display_name": "Python 3",
   "language": "python",
   "name": "python3"
  },
  "language_info": {
   "codemirror_mode": {
    "name": "ipython",
    "version": 3
   },
   "file_extension": ".py",
   "mimetype": "text/x-python",
   "name": "python",
   "nbconvert_exporter": "python",
   "pygments_lexer": "ipython3",
   "version": "3.6.8"
  }
 },
 "nbformat": 4,
 "nbformat_minor": 2
}
