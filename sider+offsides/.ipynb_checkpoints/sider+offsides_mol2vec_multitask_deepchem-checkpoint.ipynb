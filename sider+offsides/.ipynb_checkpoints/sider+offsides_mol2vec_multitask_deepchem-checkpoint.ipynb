{
 "cells": [
  {
   "cell_type": "markdown",
   "metadata": {},
   "source": [
    "# Sider+Offsides with Mol2Vec"
   ]
  },
  {
   "cell_type": "code",
   "execution_count": null,
   "metadata": {},
   "outputs": [],
   "source": []
  },
  {
   "cell_type": "markdown",
   "metadata": {},
   "source": [
    "# Implementação da Baseline"
   ]
  },
  {
   "cell_type": "markdown",
   "metadata": {},
   "source": [
    " - Nesta implementação vamos usar um modelo Mol2vec pre-treinado para criar embeddings dos compostos (Algo que esteja implementado no DeepChem). \n",
    "\n",
    "- Depois vamos usar os embeddings (carregados como NumpyDataset) como input para um modelo MultitaskClassifier."
   ]
  },
  {
   "cell_type": "code",
   "execution_count": 94,
   "metadata": {},
   "outputs": [],
   "source": [
    "from mol2vec.features import mol2alt_sentence, MolSentence, DfVec, sentences2vec\n",
    "from gensim.models import Word2Vec\n",
    "from gensim.models import word2vec\n",
    "from rdkit import Chem\n",
    "import pandas as pd\n",
    "import numpy as np\n",
    "from keras.callbacks import ModelCheckpoint, Callback\n",
    "import matplotlib.pyplot as plt\n",
    "import deepchem as dc\n",
    "from sklearn.model_selection import train_test_split\n",
    "from skmultilearn.model_selection import iterative_train_test_split\n",
    "from deepchem.data.datasets import NumpyDataset\n",
    "import warnings\n",
    "warnings.filterwarnings('ignore')"
   ]
  },
  {
   "cell_type": "code",
   "execution_count": 95,
   "metadata": {},
   "outputs": [],
   "source": [
    "\"\"\"\n",
    "OFFSIDES dataset loader.\n",
    "\"\"\"\n",
    "from __future__ import division\n",
    "from __future__ import unicode_literals\n",
    "\n",
    "import os\n",
    "import logging\n",
    "import deepchem\n",
    "\n",
    "logger = logging.getLogger(__name__)\n",
    "\n",
    "\n",
    "def load_sider_offsides_for_mol2vec(featurizer='ECFP', split='index', reload=True, K=4):\n",
    "  \"\"\"Load SIDER OFFSIDES datasets. Does not do train/test split\"\"\"\n",
    "  # Load Sider dataset\n",
    "  logger.info(\"About to load soderoffsides dataset.\")\n",
    "  data_dir = deepchem.utils.get_data_dir()\n",
    "  if reload:\n",
    "    save_dir = os.path.join(data_dir, \"sideroffsides/\" + featurizer + \"/\" + str(split))\n",
    "    print(save_dir)\n",
    "    dataset_file = os.path.join(\"/home/mamonteiro/source-code/Project-LEI/sider+offsides/\", \"sider+offsides_combined.csv.gz\")\n",
    "\n",
    "\n",
    "  SIDER_OFFSIDES_tasks = sorted([ 'Hepatobiliary disorders',\n",
    "       'Metabolism and nutrition disorders', 'Product issues', 'Eye disorders',\n",
    "       'Investigations', 'Musculoskeletal and connective tissue disorders',\n",
    "       'Gastrointestinal disorders', 'Social circumstances',\n",
    "       'Immune system disorders', 'Reproductive system and breast disorders',\n",
    "       'Neoplasms benign, malignant and unspecified (incl cysts and polyps)',\n",
    "       'General disorders and administration site conditions',\n",
    "       'Endocrine disorders', 'Surgical and medical procedures',\n",
    "       'Vascular disorders', 'Blood and lymphatic system disorders',\n",
    "       'Skin and subcutaneous tissue disorders',\n",
    "       'Congenital, familial and genetic disorders',\n",
    "       'Infections and infestations',\n",
    "       'Respiratory, thoracic and mediastinal disorders',\n",
    "       'Psychiatric disorders', 'Renal and urinary disorders',\n",
    "       'Pregnancy, puerperium and perinatal conditions',\n",
    "       'Ear and labyrinth disorders', 'Cardiac disorders',\n",
    "       'Nervous system disorders',\n",
    "       'Injury, poisoning and procedural complications'\n",
    "  ])\n",
    "\n",
    "  if reload:\n",
    "    loaded, all_dataset, transformers = deepchem.utils.save.load_dataset_from_disk(save_dir)\n",
    "    if loaded:\n",
    "      return SIDER_OFFSIDES_tasks, all_dataset, transformers\n",
    "\n",
    "  # Featurize MUV dataset\n",
    "  logger.info(\"About to featurize OFFSIDES dataset.\")\n",
    "\n",
    "  if featurizer == 'ECFP':\n",
    "    featurizer = deepchem.feat.CircularFingerprint(size=1024)\n",
    "  elif featurizer == 'GraphConv':\n",
    "    featurizer = deepchem.feat.ConvMolFeaturizer()\n",
    "  elif featurizer == 'Weave':\n",
    "    featurizer = deepchem.feat.WeaveFeaturizer()\n",
    "  elif featurizer == 'Raw':\n",
    "    featurizer = deepchem.feat.RawFeaturizer()\n",
    "\n",
    "  loader = deepchem.data.CSVLoader(\n",
    "      tasks=SIDER_OFFSIDES_tasks, smiles_field=\"smiles\", featurizer=featurizer)\n",
    "  dataset = loader.featurize(dataset_file)\n",
    "\n",
    "  # Initialize transformers\n",
    "  transformers = [\n",
    "      deepchem.trans.BalancingTransformer(transform_w=True, dataset=dataset)\n",
    "  ]\n",
    "  logger.info(\"About to transform data\")\n",
    "  for transformer in transformers:\n",
    "    dataset = transformer.transform(dataset)\n",
    "\n",
    "  if split == None:\n",
    "    return OFFSIDES_tasks, (dataset, None, None), transformers\n",
    "\n",
    "  splitters = {\n",
    "      'index': deepchem.splits.IndexSplitter(),\n",
    "      'random': deepchem.splits.RandomSplitter(),\n",
    "      'scaffold': deepchem.splits.ScaffoldSplitter(),\n",
    "      'task': deepchem.splits.TaskSplitter()\n",
    "  }\n",
    "  splitter = splitters[split]\n",
    "  if split == 'task':\n",
    "    fold_datasets = splitter.k_fold_split(dataset, K)\n",
    "    all_dataset = fold_datasets\n",
    "  else:\n",
    "    train, valid, test = splitter.train_valid_test_split(dataset)\n",
    "    all_dataset = (train, valid, test)\n",
    "    if reload:\n",
    "      deepchem.utils.save.save_dataset_to_disk(save_dir, train, valid, test,\n",
    "                                               transformers)\n",
    "  return SIDER_OFFSIDES_tasks, all_dataset, transformers\n"
   ]
  },
  {
   "cell_type": "code",
   "execution_count": 96,
   "metadata": {},
   "outputs": [
    {
     "name": "stdout",
     "output_type": "stream",
     "text": [
      "/tmp/sideroffsides/ECFP/index\n",
      "Loading dataset from disk.\n",
      "Loading dataset from disk.\n",
      "Loading dataset from disk.\n"
     ]
    }
   ],
   "source": [
    "tasks, datasets, transformers = load_sider_offsides_for_mol2vec()\n",
    "train_dataset, valid_dataset, test_dataset = datasets\n",
    "train_smiles = train_dataset.ids\n",
    "valid_smiles = valid_dataset.ids"
   ]
  },
  {
   "cell_type": "code",
   "execution_count": 97,
   "metadata": {},
   "outputs": [
    {
     "data": {
      "text/plain": [
       "1352"
      ]
     },
     "execution_count": 97,
     "metadata": {},
     "output_type": "execute_result"
    }
   ],
   "source": [
    "len(train_dataset)"
   ]
  },
  {
   "cell_type": "code",
   "execution_count": 98,
   "metadata": {},
   "outputs": [
    {
     "data": {
      "text/plain": [
       "array(['CC12CCC3C(C1CCC2=O)CC=C4C3(CCC(C4)O)C', 'C[N+](C)(C)CC(CC(=O)O)O',\n",
       "       'C(CC(=O)O)CN', ...,\n",
       "       'COC1=C(C(=NC=C1)CS(=O)C2=NC3=C(N2)C=C(C=C3)OC(F)F)OC',\n",
       "       'COC1=C(C=C(C=C1)CC2=NC=CC3=CC(=C(C=C32)OC)OC)OC',\n",
       "       'C1C(C(C(C(C1N)OC2C(C(C(C(O2)CO)O)O)N)OC3C(C(C(O3)CO)OC4C(C(C(C(O4)CN)O)O)N)O)O)N'],\n",
       "      dtype=object)"
      ]
     },
     "execution_count": 98,
     "metadata": {},
     "output_type": "execute_result"
    }
   ],
   "source": [
    "train_dataset.ids"
   ]
  },
  {
   "cell_type": "code",
   "execution_count": 99,
   "metadata": {},
   "outputs": [],
   "source": [
    "#df['smiles'][0:5]"
   ]
  },
  {
   "cell_type": "code",
   "execution_count": 100,
   "metadata": {},
   "outputs": [],
   "source": [
    "# Get SMILES from file\n",
    "def getSMILES(filepath):\n",
    "    df = pd.read_csv(filepath)    \n",
    "    #smiles = list(df['SMILES or PubChem ID'].dropna())\n",
    "    smiles_df = df[['smiles']].dropna()\n",
    "    # some cases have 2 SMILES per compound, which I think are isomers (by looking at the molecular drawings)\n",
    "    # keeping only the first SMILE string:\n",
    "    #smiles = [x.split(';')[0] for x in smiles]\n",
    "    return smiles_df"
   ]
  },
  {
   "cell_type": "code",
   "execution_count": 101,
   "metadata": {},
   "outputs": [],
   "source": [
    "# Generate molecules from SMILES strings\n",
    "def generateEmbeddings(smiles_df, trained_model):\n",
    "    smiles = list(smiles_df['smiles'])\n",
    "    smiles = [x.split(';')[0] for x in smiles]\n",
    "    # SMILES to Mol\n",
    "    molecules = [Chem.MolFromSmiles(x) for x in smiles]\n",
    "    # Load previously trained mol2vec model\n",
    "    model = Word2Vec.load(trained_model)\n",
    "    # Convert molecules to sentences and then to embeddings\n",
    "    sentences = [mol2alt_sentence(x, 1) for x in molecules]\n",
    "    vectors = [DfVec(x) for x in sentences2vec(sentences, model, unseen='UNK')]\n",
    "    vec_df = pd.DataFrame(data=np.array([x.vec for x in vectors]))\n",
    "    vec_df.columns = ['mol2vec_' + str(x+1) for x in vec_df.columns.values]\n",
    "    vec_df.index = smiles_df.index.values\n",
    "    return pd.concat([smiles_df, vec_df], axis=1)"
   ]
  },
  {
   "cell_type": "code",
   "execution_count": 102,
   "metadata": {},
   "outputs": [],
   "source": [
    "def createDataset(original_data, embeddings_df, output):\n",
    "    original_df = pd.read_csv(original_data)\n",
    "    df = original_df.merge(embeddings_df, how='outer', on=\"smiles\")\n",
    "    df.to_csv(output, index=False)    "
   ]
  },
  {
   "cell_type": "code",
   "execution_count": 103,
   "metadata": {},
   "outputs": [],
   "source": [
    "train_smiles_from_offsides=train_dataset.ids\n",
    "valid_smiles_from_offsides=valid_dataset.ids\n",
    "test_smiles_from_offsides=test_dataset.ids"
   ]
  },
  {
   "cell_type": "code",
   "execution_count": 104,
   "metadata": {},
   "outputs": [
    {
     "data": {
      "text/plain": [
       "numpy.ndarray"
      ]
     },
     "execution_count": 104,
     "metadata": {},
     "output_type": "execute_result"
    }
   ],
   "source": [
    "type(train_smiles_from_offsides)"
   ]
  },
  {
   "cell_type": "code",
   "execution_count": 105,
   "metadata": {},
   "outputs": [],
   "source": [
    "train_smiles_from_offsides=pd.DataFrame(train_smiles_from_offsides,  columns=['smiles'])\n",
    "valid_smiles_from_offsides=pd.DataFrame(valid_smiles_from_offsides,  columns=['smiles'])\n",
    "test_smiles_from_offsides=pd.DataFrame(test_smiles_from_offsides,  columns=['smiles'])"
   ]
  },
  {
   "cell_type": "code",
   "execution_count": 106,
   "metadata": {},
   "outputs": [
    {
     "data": {
      "text/plain": [
       "1352"
      ]
     },
     "execution_count": 106,
     "metadata": {},
     "output_type": "execute_result"
    }
   ],
   "source": [
    "len(train_smiles_from_offsides)"
   ]
  },
  {
   "cell_type": "code",
   "execution_count": 107,
   "metadata": {},
   "outputs": [
    {
     "name": "stdout",
     "output_type": "stream",
     "text": [
      "current directory is : /home/mamonteiro/source-code/Project-LEI/sider+offsides\n",
      "Directory name is : sider+offsides\n"
     ]
    }
   ],
   "source": [
    "import os\n",
    " \n",
    "dirpath = os.getcwd()\n",
    "print(\"current directory is : \" + dirpath)\n",
    "foldername = os.path.basename(dirpath)\n",
    "print(\"Directory name is : \" + foldername)"
   ]
  },
  {
   "cell_type": "code",
   "execution_count": 108,
   "metadata": {},
   "outputs": [
    {
     "name": "stderr",
     "output_type": "stream",
     "text": [
      "WARNING:smart_open.smart_open_lib:this function is deprecated, use smart_open.open instead\n",
      "WARNING:smart_open.smart_open_lib:this function is deprecated, use smart_open.open instead\n",
      "WARNING:smart_open.smart_open_lib:this function is deprecated, use smart_open.open instead\n",
      "WARNING:smart_open.smart_open_lib:this function is deprecated, use smart_open.open instead\n",
      "WARNING:smart_open.smart_open_lib:this function is deprecated, use smart_open.open instead\n",
      "WARNING:smart_open.smart_open_lib:this function is deprecated, use smart_open.open instead\n"
     ]
    }
   ],
   "source": [
    "#Estas 3 linhas deveriam ser feitas de outra maneira\n",
    "#Deveriamos fazer o mesmo com o dataset completo mas neste momento vai ficar assim pelo receio que tenho de nao ter o dataset dividido como suposto\n",
    "\n",
    "train_embeddings_generated_from_mol2vec = generateEmbeddings(train_smiles_from_offsides, '/home/mamonteiro/source-code/Project-LEI/mol2vec/examples/models/model_300dim.pkl')\n",
    "\n",
    "valid_embeddings_generated_from_mol2vec = generateEmbeddings(valid_smiles_from_offsides, '/home/mamonteiro/source-code/Project-LEI/mol2vec/examples/models/model_300dim.pkl')\n",
    "test_embeddings_generated_from_mol2vec = generateEmbeddings(test_smiles_from_offsides, '/home/mamonteiro/source-code/Project-LEI/mol2vec/examples/models/model_300dim.pkl')"
   ]
  },
  {
   "cell_type": "code",
   "execution_count": 109,
   "metadata": {},
   "outputs": [
    {
     "data": {
      "text/html": [
       "<div>\n",
       "<style scoped>\n",
       "    .dataframe tbody tr th:only-of-type {\n",
       "        vertical-align: middle;\n",
       "    }\n",
       "\n",
       "    .dataframe tbody tr th {\n",
       "        vertical-align: top;\n",
       "    }\n",
       "\n",
       "    .dataframe thead th {\n",
       "        text-align: right;\n",
       "    }\n",
       "</style>\n",
       "<table border=\"1\" class=\"dataframe\">\n",
       "  <thead>\n",
       "    <tr style=\"text-align: right;\">\n",
       "      <th></th>\n",
       "      <th>smiles</th>\n",
       "      <th>mol2vec_1</th>\n",
       "      <th>mol2vec_2</th>\n",
       "      <th>mol2vec_3</th>\n",
       "      <th>mol2vec_4</th>\n",
       "      <th>mol2vec_5</th>\n",
       "      <th>mol2vec_6</th>\n",
       "      <th>mol2vec_7</th>\n",
       "      <th>mol2vec_8</th>\n",
       "      <th>mol2vec_9</th>\n",
       "      <th>...</th>\n",
       "      <th>mol2vec_291</th>\n",
       "      <th>mol2vec_292</th>\n",
       "      <th>mol2vec_293</th>\n",
       "      <th>mol2vec_294</th>\n",
       "      <th>mol2vec_295</th>\n",
       "      <th>mol2vec_296</th>\n",
       "      <th>mol2vec_297</th>\n",
       "      <th>mol2vec_298</th>\n",
       "      <th>mol2vec_299</th>\n",
       "      <th>mol2vec_300</th>\n",
       "    </tr>\n",
       "  </thead>\n",
       "  <tbody>\n",
       "    <tr>\n",
       "      <th>0</th>\n",
       "      <td>CC12CCC3C(C1CCC2=O)CC=C4C3(CCC(C4)O)C</td>\n",
       "      <td>-1.687902</td>\n",
       "      <td>-4.574107</td>\n",
       "      <td>-3.788245</td>\n",
       "      <td>0.820349</td>\n",
       "      <td>-1.165568</td>\n",
       "      <td>-7.593350</td>\n",
       "      <td>-8.685431</td>\n",
       "      <td>3.990403</td>\n",
       "      <td>0.837541</td>\n",
       "      <td>...</td>\n",
       "      <td>1.517185</td>\n",
       "      <td>14.211781</td>\n",
       "      <td>-2.282333</td>\n",
       "      <td>-1.685342</td>\n",
       "      <td>-10.677238</td>\n",
       "      <td>-8.447270</td>\n",
       "      <td>-10.454116</td>\n",
       "      <td>-1.177601</td>\n",
       "      <td>-10.021074</td>\n",
       "      <td>2.415180</td>\n",
       "    </tr>\n",
       "    <tr>\n",
       "      <th>1</th>\n",
       "      <td>C[N+](C)(C)CC(CC(=O)O)O</td>\n",
       "      <td>2.769547</td>\n",
       "      <td>-3.059868</td>\n",
       "      <td>-1.797269</td>\n",
       "      <td>-0.953987</td>\n",
       "      <td>4.924242</td>\n",
       "      <td>0.454827</td>\n",
       "      <td>-9.468398</td>\n",
       "      <td>1.997672</td>\n",
       "      <td>2.284252</td>\n",
       "      <td>...</td>\n",
       "      <td>-1.738315</td>\n",
       "      <td>-0.433908</td>\n",
       "      <td>6.375163</td>\n",
       "      <td>1.494671</td>\n",
       "      <td>-5.280170</td>\n",
       "      <td>-2.230168</td>\n",
       "      <td>3.010262</td>\n",
       "      <td>-5.875394</td>\n",
       "      <td>-4.850206</td>\n",
       "      <td>0.262021</td>\n",
       "    </tr>\n",
       "    <tr>\n",
       "      <th>2</th>\n",
       "      <td>C(CC(=O)O)CN</td>\n",
       "      <td>-0.599405</td>\n",
       "      <td>0.307458</td>\n",
       "      <td>-0.714178</td>\n",
       "      <td>-0.674214</td>\n",
       "      <td>2.840279</td>\n",
       "      <td>-0.157350</td>\n",
       "      <td>-3.893690</td>\n",
       "      <td>-0.316774</td>\n",
       "      <td>1.240166</td>\n",
       "      <td>...</td>\n",
       "      <td>-0.479649</td>\n",
       "      <td>2.350071</td>\n",
       "      <td>2.795008</td>\n",
       "      <td>2.045637</td>\n",
       "      <td>-3.803340</td>\n",
       "      <td>-0.811048</td>\n",
       "      <td>0.601341</td>\n",
       "      <td>-3.857245</td>\n",
       "      <td>-3.734070</td>\n",
       "      <td>-1.403350</td>\n",
       "    </tr>\n",
       "    <tr>\n",
       "      <th>3</th>\n",
       "      <td>C1C(N(C2=C(N1)NC(=NC2=O)N)C=O)CNC3=CC=C(C=C3)C...</td>\n",
       "      <td>1.644671</td>\n",
       "      <td>-4.325292</td>\n",
       "      <td>-5.132446</td>\n",
       "      <td>4.536877</td>\n",
       "      <td>2.365319</td>\n",
       "      <td>-1.383428</td>\n",
       "      <td>-16.086567</td>\n",
       "      <td>-2.104912</td>\n",
       "      <td>9.071654</td>\n",
       "      <td>...</td>\n",
       "      <td>-0.469195</td>\n",
       "      <td>12.227261</td>\n",
       "      <td>11.296147</td>\n",
       "      <td>3.872406</td>\n",
       "      <td>-12.161841</td>\n",
       "      <td>-6.847059</td>\n",
       "      <td>-4.032226</td>\n",
       "      <td>-7.607767</td>\n",
       "      <td>-16.263073</td>\n",
       "      <td>-3.654300</td>\n",
       "    </tr>\n",
       "    <tr>\n",
       "      <th>4</th>\n",
       "      <td>CCCCCC(C=CC1C(CC(=O)C1CC=CCCCC(=O)O)O)O</td>\n",
       "      <td>-0.658838</td>\n",
       "      <td>-3.338789</td>\n",
       "      <td>-3.176840</td>\n",
       "      <td>-0.045156</td>\n",
       "      <td>6.762016</td>\n",
       "      <td>-4.120831</td>\n",
       "      <td>-17.303051</td>\n",
       "      <td>-0.583435</td>\n",
       "      <td>3.757764</td>\n",
       "      <td>...</td>\n",
       "      <td>-7.855739</td>\n",
       "      <td>6.595695</td>\n",
       "      <td>7.846533</td>\n",
       "      <td>1.867607</td>\n",
       "      <td>-9.597700</td>\n",
       "      <td>-8.820236</td>\n",
       "      <td>-5.526588</td>\n",
       "      <td>-5.572998</td>\n",
       "      <td>-11.429805</td>\n",
       "      <td>-4.801989</td>\n",
       "    </tr>\n",
       "  </tbody>\n",
       "</table>\n",
       "<p>5 rows × 301 columns</p>\n",
       "</div>"
      ],
      "text/plain": [
       "                                              smiles  mol2vec_1  mol2vec_2  \\\n",
       "0              CC12CCC3C(C1CCC2=O)CC=C4C3(CCC(C4)O)C  -1.687902  -4.574107   \n",
       "1                            C[N+](C)(C)CC(CC(=O)O)O   2.769547  -3.059868   \n",
       "2                                       C(CC(=O)O)CN  -0.599405   0.307458   \n",
       "3  C1C(N(C2=C(N1)NC(=NC2=O)N)C=O)CNC3=CC=C(C=C3)C...   1.644671  -4.325292   \n",
       "4            CCCCCC(C=CC1C(CC(=O)C1CC=CCCCC(=O)O)O)O  -0.658838  -3.338789   \n",
       "\n",
       "   mol2vec_3  mol2vec_4  mol2vec_5  mol2vec_6  mol2vec_7  mol2vec_8  \\\n",
       "0  -3.788245   0.820349  -1.165568  -7.593350  -8.685431   3.990403   \n",
       "1  -1.797269  -0.953987   4.924242   0.454827  -9.468398   1.997672   \n",
       "2  -0.714178  -0.674214   2.840279  -0.157350  -3.893690  -0.316774   \n",
       "3  -5.132446   4.536877   2.365319  -1.383428 -16.086567  -2.104912   \n",
       "4  -3.176840  -0.045156   6.762016  -4.120831 -17.303051  -0.583435   \n",
       "\n",
       "   mol2vec_9  ...  mol2vec_291  mol2vec_292  mol2vec_293  mol2vec_294  \\\n",
       "0   0.837541  ...     1.517185    14.211781    -2.282333    -1.685342   \n",
       "1   2.284252  ...    -1.738315    -0.433908     6.375163     1.494671   \n",
       "2   1.240166  ...    -0.479649     2.350071     2.795008     2.045637   \n",
       "3   9.071654  ...    -0.469195    12.227261    11.296147     3.872406   \n",
       "4   3.757764  ...    -7.855739     6.595695     7.846533     1.867607   \n",
       "\n",
       "   mol2vec_295  mol2vec_296  mol2vec_297  mol2vec_298  mol2vec_299  \\\n",
       "0   -10.677238    -8.447270   -10.454116    -1.177601   -10.021074   \n",
       "1    -5.280170    -2.230168     3.010262    -5.875394    -4.850206   \n",
       "2    -3.803340    -0.811048     0.601341    -3.857245    -3.734070   \n",
       "3   -12.161841    -6.847059    -4.032226    -7.607767   -16.263073   \n",
       "4    -9.597700    -8.820236    -5.526588    -5.572998   -11.429805   \n",
       "\n",
       "   mol2vec_300  \n",
       "0     2.415180  \n",
       "1     0.262021  \n",
       "2    -1.403350  \n",
       "3    -3.654300  \n",
       "4    -4.801989  \n",
       "\n",
       "[5 rows x 301 columns]"
      ]
     },
     "execution_count": 109,
     "metadata": {},
     "output_type": "execute_result"
    }
   ],
   "source": [
    "train_embeddings_generated_from_mol2vec.head()"
   ]
  },
  {
   "cell_type": "code",
   "execution_count": 110,
   "metadata": {},
   "outputs": [
    {
     "data": {
      "text/plain": [
       "(1352, 169, 169)"
      ]
     },
     "execution_count": 110,
     "metadata": {},
     "output_type": "execute_result"
    }
   ],
   "source": [
    "len(train_embeddings_generated_from_mol2vec),len(valid_embeddings_generated_from_mol2vec),len(test_embeddings_generated_from_mol2vec) "
   ]
  },
  {
   "cell_type": "code",
   "execution_count": 111,
   "metadata": {},
   "outputs": [
    {
     "data": {
      "text/plain": [
       "'CC12CCC3C(C1CCC2=O)CC=C4C3(CCC(C4)O)C'"
      ]
     },
     "execution_count": 111,
     "metadata": {},
     "output_type": "execute_result"
    }
   ],
   "source": [
    "train_embeddings_generated_from_mol2vec.iloc[0][0]"
   ]
  },
  {
   "cell_type": "markdown",
   "metadata": {},
   "source": [
    "\n",
    "# Multitask Networks On SIDER+OFFSIDES"
   ]
  },
  {
   "cell_type": "code",
   "execution_count": 112,
   "metadata": {},
   "outputs": [],
   "source": [
    "import os\n",
    "import deepchem as dc"
   ]
  },
  {
   "cell_type": "markdown",
   "metadata": {},
   "source": [
    "The dataset that we must manipulate is thhe follwoing one: dataset\n",
    "\n",
    "In this dataset has as columns the SMILES\n",
    "                               The side efects\n",
    "                               and finally the embeddings\n",
    "        \n",
    "We need to split this dataset in order to provide this data to multitask model"
   ]
  },
  {
   "cell_type": "code",
   "execution_count": 113,
   "metadata": {},
   "outputs": [],
   "source": [
    "#dataset=dataset.drop(['smiles'], axis=1)"
   ]
  },
  {
   "cell_type": "code",
   "execution_count": 114,
   "metadata": {},
   "outputs": [],
   "source": [
    "train_embeddings=train_embeddings_generated_from_mol2vec.drop(['smiles'], axis=1)\n",
    "valid_embeddings=valid_embeddings_generated_from_mol2vec.drop(['smiles'], axis=1)\n",
    "test_embeddings=test_embeddings_generated_from_mol2vec.drop(['smiles'], axis=1)"
   ]
  },
  {
   "cell_type": "code",
   "execution_count": 115,
   "metadata": {},
   "outputs": [
    {
     "data": {
      "text/html": [
       "<div>\n",
       "<style scoped>\n",
       "    .dataframe tbody tr th:only-of-type {\n",
       "        vertical-align: middle;\n",
       "    }\n",
       "\n",
       "    .dataframe tbody tr th {\n",
       "        vertical-align: top;\n",
       "    }\n",
       "\n",
       "    .dataframe thead th {\n",
       "        text-align: right;\n",
       "    }\n",
       "</style>\n",
       "<table border=\"1\" class=\"dataframe\">\n",
       "  <thead>\n",
       "    <tr style=\"text-align: right;\">\n",
       "      <th></th>\n",
       "      <th>mol2vec_1</th>\n",
       "      <th>mol2vec_2</th>\n",
       "      <th>mol2vec_3</th>\n",
       "      <th>mol2vec_4</th>\n",
       "      <th>mol2vec_5</th>\n",
       "      <th>mol2vec_6</th>\n",
       "      <th>mol2vec_7</th>\n",
       "      <th>mol2vec_8</th>\n",
       "      <th>mol2vec_9</th>\n",
       "      <th>mol2vec_10</th>\n",
       "      <th>...</th>\n",
       "      <th>mol2vec_291</th>\n",
       "      <th>mol2vec_292</th>\n",
       "      <th>mol2vec_293</th>\n",
       "      <th>mol2vec_294</th>\n",
       "      <th>mol2vec_295</th>\n",
       "      <th>mol2vec_296</th>\n",
       "      <th>mol2vec_297</th>\n",
       "      <th>mol2vec_298</th>\n",
       "      <th>mol2vec_299</th>\n",
       "      <th>mol2vec_300</th>\n",
       "    </tr>\n",
       "  </thead>\n",
       "  <tbody>\n",
       "    <tr>\n",
       "      <th>0</th>\n",
       "      <td>-1.687902</td>\n",
       "      <td>-4.574107</td>\n",
       "      <td>-3.788245</td>\n",
       "      <td>0.820349</td>\n",
       "      <td>-1.165568</td>\n",
       "      <td>-7.593350</td>\n",
       "      <td>-8.685431</td>\n",
       "      <td>3.990403</td>\n",
       "      <td>0.837541</td>\n",
       "      <td>-1.743650</td>\n",
       "      <td>...</td>\n",
       "      <td>1.517185</td>\n",
       "      <td>14.211781</td>\n",
       "      <td>-2.282333</td>\n",
       "      <td>-1.685342</td>\n",
       "      <td>-10.677238</td>\n",
       "      <td>-8.447270</td>\n",
       "      <td>-10.454116</td>\n",
       "      <td>-1.177601</td>\n",
       "      <td>-10.021074</td>\n",
       "      <td>2.415180</td>\n",
       "    </tr>\n",
       "    <tr>\n",
       "      <th>1</th>\n",
       "      <td>2.769547</td>\n",
       "      <td>-3.059868</td>\n",
       "      <td>-1.797269</td>\n",
       "      <td>-0.953987</td>\n",
       "      <td>4.924242</td>\n",
       "      <td>0.454827</td>\n",
       "      <td>-9.468398</td>\n",
       "      <td>1.997672</td>\n",
       "      <td>2.284252</td>\n",
       "      <td>-0.435059</td>\n",
       "      <td>...</td>\n",
       "      <td>-1.738315</td>\n",
       "      <td>-0.433908</td>\n",
       "      <td>6.375163</td>\n",
       "      <td>1.494671</td>\n",
       "      <td>-5.280170</td>\n",
       "      <td>-2.230168</td>\n",
       "      <td>3.010262</td>\n",
       "      <td>-5.875394</td>\n",
       "      <td>-4.850206</td>\n",
       "      <td>0.262021</td>\n",
       "    </tr>\n",
       "    <tr>\n",
       "      <th>2</th>\n",
       "      <td>-0.599405</td>\n",
       "      <td>0.307458</td>\n",
       "      <td>-0.714178</td>\n",
       "      <td>-0.674214</td>\n",
       "      <td>2.840279</td>\n",
       "      <td>-0.157350</td>\n",
       "      <td>-3.893690</td>\n",
       "      <td>-0.316774</td>\n",
       "      <td>1.240166</td>\n",
       "      <td>-1.818650</td>\n",
       "      <td>...</td>\n",
       "      <td>-0.479649</td>\n",
       "      <td>2.350071</td>\n",
       "      <td>2.795008</td>\n",
       "      <td>2.045637</td>\n",
       "      <td>-3.803340</td>\n",
       "      <td>-0.811048</td>\n",
       "      <td>0.601341</td>\n",
       "      <td>-3.857245</td>\n",
       "      <td>-3.734070</td>\n",
       "      <td>-1.403350</td>\n",
       "    </tr>\n",
       "    <tr>\n",
       "      <th>3</th>\n",
       "      <td>1.644671</td>\n",
       "      <td>-4.325292</td>\n",
       "      <td>-5.132446</td>\n",
       "      <td>4.536877</td>\n",
       "      <td>2.365319</td>\n",
       "      <td>-1.383428</td>\n",
       "      <td>-16.086567</td>\n",
       "      <td>-2.104912</td>\n",
       "      <td>9.071654</td>\n",
       "      <td>2.479271</td>\n",
       "      <td>...</td>\n",
       "      <td>-0.469195</td>\n",
       "      <td>12.227261</td>\n",
       "      <td>11.296147</td>\n",
       "      <td>3.872406</td>\n",
       "      <td>-12.161841</td>\n",
       "      <td>-6.847059</td>\n",
       "      <td>-4.032226</td>\n",
       "      <td>-7.607767</td>\n",
       "      <td>-16.263073</td>\n",
       "      <td>-3.654300</td>\n",
       "    </tr>\n",
       "    <tr>\n",
       "      <th>4</th>\n",
       "      <td>-0.658838</td>\n",
       "      <td>-3.338789</td>\n",
       "      <td>-3.176840</td>\n",
       "      <td>-0.045156</td>\n",
       "      <td>6.762016</td>\n",
       "      <td>-4.120831</td>\n",
       "      <td>-17.303051</td>\n",
       "      <td>-0.583435</td>\n",
       "      <td>3.757764</td>\n",
       "      <td>-3.908807</td>\n",
       "      <td>...</td>\n",
       "      <td>-7.855739</td>\n",
       "      <td>6.595695</td>\n",
       "      <td>7.846533</td>\n",
       "      <td>1.867607</td>\n",
       "      <td>-9.597700</td>\n",
       "      <td>-8.820236</td>\n",
       "      <td>-5.526588</td>\n",
       "      <td>-5.572998</td>\n",
       "      <td>-11.429805</td>\n",
       "      <td>-4.801989</td>\n",
       "    </tr>\n",
       "  </tbody>\n",
       "</table>\n",
       "<p>5 rows × 300 columns</p>\n",
       "</div>"
      ],
      "text/plain": [
       "   mol2vec_1  mol2vec_2  mol2vec_3  mol2vec_4  mol2vec_5  mol2vec_6  \\\n",
       "0  -1.687902  -4.574107  -3.788245   0.820349  -1.165568  -7.593350   \n",
       "1   2.769547  -3.059868  -1.797269  -0.953987   4.924242   0.454827   \n",
       "2  -0.599405   0.307458  -0.714178  -0.674214   2.840279  -0.157350   \n",
       "3   1.644671  -4.325292  -5.132446   4.536877   2.365319  -1.383428   \n",
       "4  -0.658838  -3.338789  -3.176840  -0.045156   6.762016  -4.120831   \n",
       "\n",
       "   mol2vec_7  mol2vec_8  mol2vec_9  mol2vec_10  ...  mol2vec_291  mol2vec_292  \\\n",
       "0  -8.685431   3.990403   0.837541   -1.743650  ...     1.517185    14.211781   \n",
       "1  -9.468398   1.997672   2.284252   -0.435059  ...    -1.738315    -0.433908   \n",
       "2  -3.893690  -0.316774   1.240166   -1.818650  ...    -0.479649     2.350071   \n",
       "3 -16.086567  -2.104912   9.071654    2.479271  ...    -0.469195    12.227261   \n",
       "4 -17.303051  -0.583435   3.757764   -3.908807  ...    -7.855739     6.595695   \n",
       "\n",
       "   mol2vec_293  mol2vec_294  mol2vec_295  mol2vec_296  mol2vec_297  \\\n",
       "0    -2.282333    -1.685342   -10.677238    -8.447270   -10.454116   \n",
       "1     6.375163     1.494671    -5.280170    -2.230168     3.010262   \n",
       "2     2.795008     2.045637    -3.803340    -0.811048     0.601341   \n",
       "3    11.296147     3.872406   -12.161841    -6.847059    -4.032226   \n",
       "4     7.846533     1.867607    -9.597700    -8.820236    -5.526588   \n",
       "\n",
       "   mol2vec_298  mol2vec_299  mol2vec_300  \n",
       "0    -1.177601   -10.021074     2.415180  \n",
       "1    -5.875394    -4.850206     0.262021  \n",
       "2    -3.857245    -3.734070    -1.403350  \n",
       "3    -7.607767   -16.263073    -3.654300  \n",
       "4    -5.572998   -11.429805    -4.801989  \n",
       "\n",
       "[5 rows x 300 columns]"
      ]
     },
     "execution_count": 115,
     "metadata": {},
     "output_type": "execute_result"
    }
   ],
   "source": [
    "train_embeddings.head()"
   ]
  },
  {
   "cell_type": "code",
   "execution_count": 116,
   "metadata": {},
   "outputs": [
    {
     "data": {
      "text/plain": [
       "False"
      ]
     },
     "execution_count": 116,
     "metadata": {},
     "output_type": "execute_result"
    }
   ],
   "source": [
    "train_embeddings.isnull().any().any()"
   ]
  },
  {
   "cell_type": "code",
   "execution_count": 117,
   "metadata": {},
   "outputs": [
    {
     "data": {
      "text/plain": [
       "300"
      ]
     },
     "execution_count": 117,
     "metadata": {},
     "output_type": "execute_result"
    }
   ],
   "source": [
    "len(train_embeddings.columns)"
   ]
  },
  {
   "cell_type": "code",
   "execution_count": 118,
   "metadata": {},
   "outputs": [
    {
     "data": {
      "text/plain": [
       "1352"
      ]
     },
     "execution_count": 118,
     "metadata": {},
     "output_type": "execute_result"
    }
   ],
   "source": [
    "len(train_embeddings)"
   ]
  },
  {
   "cell_type": "code",
   "execution_count": 119,
   "metadata": {},
   "outputs": [],
   "source": [
    "NCA1 = 100\n",
    "NCA2 = 100\n",
    "DROPRATE = 0.2\n",
    "EP = 50\n",
    "BATCH_SIZE = 128\n",
    "VAL_RATIO = 0.1\n",
    "TEST_RATIO = 0.1"
   ]
  },
  {
   "cell_type": "code",
   "execution_count": 120,
   "metadata": {},
   "outputs": [],
   "source": [
    "# VERFICAR SE É NECESSÁRIO\n",
    "from deepchem.data.datasets import NumpyDataset # import NumpyDataset"
   ]
  },
  {
   "cell_type": "code",
   "execution_count": 121,
   "metadata": {},
   "outputs": [],
   "source": [
    "train_embeddings_dataset = dc.data.NumpyDataset(train_embeddings,\n",
    "                                                train_dataset.y,\n",
    "                                                train_dataset.w,\n",
    "                                                train_dataset.ids)"
   ]
  },
  {
   "cell_type": "code",
   "execution_count": 122,
   "metadata": {},
   "outputs": [],
   "source": [
    "valid_embeddings_dataset = dc.data.NumpyDataset(valid_embeddings,\n",
    "                                                valid_dataset.y,\n",
    "                                                valid_dataset.w,\n",
    "                                                valid_dataset.ids)"
   ]
  },
  {
   "cell_type": "code",
   "execution_count": 123,
   "metadata": {},
   "outputs": [],
   "source": [
    "test_embeddings_dataset = dc.data.NumpyDataset(test_embeddings,\n",
    "                                                test_dataset.y,\n",
    "                                                test_dataset.w,\n",
    "                                                test_dataset.ids)"
   ]
  },
  {
   "cell_type": "code",
   "execution_count": 124,
   "metadata": {},
   "outputs": [],
   "source": [
    "nb_epochs=[50,100, 150, 200,250,300,400,500,1000]\n",
    "losses = []\n",
    "loss =0"
   ]
  },
  {
   "cell_type": "code",
   "execution_count": 125,
   "metadata": {},
   "outputs": [
    {
     "name": "stdout",
     "output_type": "stream",
     "text": [
      "Epoch 50 loss: 2600.783439\n",
      "Epoch 100 loss: 2310.072023\n",
      "Epoch 150 loss: 2282.796738\n",
      "Epoch 200 loss: 2240.528351\n",
      "Epoch 250 loss: 2221.412093\n",
      "Epoch 300 loss: 2204.941147\n",
      "Epoch 400 loss: 2169.904631\n",
      "Epoch 500 loss: 2148.496690\n",
      "Epoch 1000 loss: 2132.555502\n"
     ]
    }
   ],
   "source": [
    "model = dc.models.MultitaskClassifier(n_tasks=27,\n",
    "                                      n_features=300,\n",
    "                                      layer_sizes=[512])\n",
    "\n",
    "for epoch in nb_epochs :\n",
    "    loss = model.fit(train_embeddings_dataset, epoch=epoch)\n",
    "    print(\"Epoch %d loss: %f\" % (epoch, loss))\n",
    "    losses.append(loss)"
   ]
  },
  {
   "cell_type": "code",
   "execution_count": 126,
   "metadata": {},
   "outputs": [
    {
     "data": {
      "text/plain": [
       "<module 'matplotlib.pyplot' from '/home/mamonteiro/anaconda3/envs/lei/lib/python3.6/site-packages/matplotlib/pyplot.py'>"
      ]
     },
     "execution_count": 126,
     "metadata": {},
     "output_type": "execute_result"
    },
    {
     "data": {
      "image/png": "[encoded data removed]",
      "text/plain": [
       "<Figure size 720x504 with 1 Axes>"
      ]
     },
     "metadata": {},
     "output_type": "display_data"
    }
   ],
   "source": [
    "import matplotlib.pyplot as plot\n",
    "\n",
    "plot.figure(figsize=(10,7))\n",
    "plot.ylabel(\"Loss\")\n",
    "plot.xlabel(\"Epoch\")\n",
    "x = nb_epochs\n",
    "y = losses\n",
    "plot.scatter(x, y)\n",
    "plot"
   ]
  },
  {
   "cell_type": "code",
   "execution_count": 127,
   "metadata": {},
   "outputs": [
    {
     "name": "stdout",
     "output_type": "stream",
     "text": [
      "computed_metrics: [0.7457833696705427, 0.7458553415789071, 0.6940381653540726, 0.7803914498869362, 0.7885882389468455, 0.6904071326660873, 0.7098423262462032, 0.7106237296603722, 0.7521203155818541, 0.736236597488763, 0.6944780383785916, 0.6981741118295184, 0.666773097826087, 0.7503163536213184, 0.7618997119664833, 0.6912450902832715, 0.7283720361226034, 0.8219860974867234, 0.889950332452135, 0.7268887817809374, 0.7343201101735466, 0.7195251992367269, 0.7402148571833151, 0.6970249368686869, 0.7993485580442101, 0.6782806513409962, 0.7441545076806524]\n",
      "Training set ROC AUC: {'mean-roc_auc_score': 0.7369199681243108}\n"
     ]
    }
   ],
   "source": [
    "import numpy as np\n",
    "metric = dc.metrics.Metric(dc.metrics.roc_auc_score, np.mean, mode=\"classification\")\n",
    "train_score = model.evaluate(train_embeddings_dataset, [metric], transformers)\n",
    "print('Training set ROC AUC:', train_score)"
   ]
  },
  {
   "cell_type": "code",
   "execution_count": 128,
   "metadata": {},
   "outputs": [
    {
     "name": "stdout",
     "output_type": "stream",
     "text": [
      "computed_metrics: [0.6332279390629492, 0.5473195567535192, 0.46140939597315433, 0.5476334036780224, 0.4549910873440285, 0.5123249299719888, 0.6413110698824984, 0.39192982456140346, 0.6150182123844214, 0.5767375886524824, 0.6068155784650631, 0.47780938833570413, 0.5108471074380165, 0.6057416267942584, 0.5860879563092842, 0.5788770053475936, 0.6042053184910328, 0.6793478260869565, 0.9523809523809523, 0.5292758089368259, 0.5823310423825888, 0.5636952044719035, 0.5275229357798166, 0.5952906548933039, 0.5652173913043479, 0.36037735849056607, 0.5258373205741627]\n",
      "Validation set ROC AUC: {'mean-roc_auc_score': 0.5642060549906239}\n"
     ]
    }
   ],
   "source": [
    "valid_score = model.evaluate(valid_embeddings_dataset, [metric], transformers)\n",
    "print('Validation set ROC AUC:', valid_score)"
   ]
  },
  {
   "cell_type": "code",
   "execution_count": 129,
   "metadata": {},
   "outputs": [
    {
     "name": "stdout",
     "output_type": "stream",
     "text": [
      "computed_metrics: [0.49152173913043473, 0.4516129032258065, 0.5626934984520124, 0.5676763242610476, 0.5963888888888889, 0.4315250911129801, 0.558682855040471, 0.4431578947368422, 0.7164668949771691, 0.6001610305958132, 0.6007177033492823, 0.5334289496910856, 0.541564039408867, 0.5804315476190476, 0.49597423510466987, 0.49161821705426356, 0.4980684326710817, 0.5584905660377358, 0.592814371257485, 0.5790178571428573, 0.5748890532544378, 0.5616370808678501, 0.4923264736658528, 0.36033353186420486, 0.4974025974025974, 0.4700503355704698, 0.5051971326164875]\n",
      "Validation set ROC AUC: {'mean-roc_auc_score': 0.5316240461111016}\n"
     ]
    }
   ],
   "source": [
    "test_score = model.evaluate(test_embeddings_dataset, [metric], transformers)\n",
    "print('Validation set ROC AUC:', test_score)"
   ]
  },
  {
   "cell_type": "markdown",
   "metadata": {},
   "source": [
    "\n",
    "# Valores da Baseline ...."
   ]
  },
  {
   "cell_type": "code",
   "execution_count": 130,
   "metadata": {},
   "outputs": [
    {
     "data": {
      "text/plain": [
       "[(0, 0.5582052484166566)]"
      ]
     },
     "execution_count": 130,
     "metadata": {},
     "output_type": "execute_result"
    },
    {
     "data": {
      "image/png": "[encoded data removed]",
      "text/plain": [
       "<Figure size 720x288 with 1 Axes>"
      ]
     },
     "metadata": {},
     "output_type": "display_data"
    }
   ],
   "source": [
    "import seaborn as sns\n",
    "\n",
    "sns.set(rc={'figure.figsize':(10,4)})\n",
    "sns.set(style=\"whitegrid\")\n",
    "ax = sns.barplot(x=[test_score['mean-roc_auc_score']],\n",
    "                 y=['First Scenario'])\n",
    "ax.set(xlim=(0, None))"
   ]
  },
  {
   "cell_type": "markdown",
   "metadata": {},
   "source": [
    "# # Valores com hyperparameters"
   ]
  },
  {
   "cell_type": "code",
   "execution_count": 131,
   "metadata": {},
   "outputs": [],
   "source": [
    "sider_offsides_tasks = sorted([ 'Hepatobiliary disorders',\n",
    "   'Metabolism and nutrition disorders', 'Product issues', 'Eye disorders',\n",
    "   'Investigations', 'Musculoskeletal and connective tissue disorders',\n",
    "   'Gastrointestinal disorders', 'Social circumstances',\n",
    "   'Immune system disorders', 'Reproductive system and breast disorders',\n",
    "   'Neoplasms benign, malignant and unspecified (incl cysts and polyps)',\n",
    "   'General disorders and administration site conditions',\n",
    "   'Endocrine disorders', 'Surgical and medical procedures',\n",
    "   'Vascular disorders', 'Blood and lymphatic system disorders',\n",
    "   'Skin and subcutaneous tissue disorders',\n",
    "   'Congenital, familial and genetic disorders',\n",
    "   'Infections and infestations',\n",
    "   'Respiratory, thoracic and mediastinal disorders',\n",
    "   'Psychiatric disorders', 'Renal and urinary disorders',\n",
    "   'Pregnancy, puerperium and perinatal conditions',\n",
    "   'Ear and labyrinth disorders', 'Cardiac disorders',\n",
    "   'Nervous system disorders',\n",
    "   'Injury, poisoning and procedural complications'\n",
    "])\n"
   ]
  },
  {
   "cell_type": "code",
   "execution_count": 132,
   "metadata": {},
   "outputs": [],
   "source": [
    "params_dict = {\"activation\": [\"relu\",\"sigmoid\",\"tanh\"],\n",
    "               \"optimizer\": ['RMSprop','adam'],\n",
    "               \"momentum\": [.9],\n",
    "               \"dropouts\": [.5,0.2],\n",
    "               \"nb_layers\": [512],\n",
    "               \"penalty\": [0.]\n",
    "              }\n",
    "\n",
    "n_features = train_dataset.get_data_shape()[0]\n",
    "\n",
    "def model_builder(model_params, model_dir):\n",
    "    model = dc.models.MultitaskClassifier(\n",
    "    len(sider_offsides_tasks), n_features, **model_params)\n",
    "    return model"
   ]
  },
  {
   "cell_type": "code",
   "execution_count": 133,
   "metadata": {},
   "outputs": [
    {
     "data": {
      "text/plain": [
       "1024"
      ]
     },
     "execution_count": 133,
     "metadata": {},
     "output_type": "execute_result"
    }
   ],
   "source": [
    "train_dataset.get_data_shape()[0]"
   ]
  },
  {
   "cell_type": "code",
   "execution_count": 134,
   "metadata": {},
   "outputs": [
    {
     "data": {
      "text/plain": [
       "1352"
      ]
     },
     "execution_count": 134,
     "metadata": {},
     "output_type": "execute_result"
    }
   ],
   "source": [
    "len(train_dataset)"
   ]
  },
  {
   "cell_type": "code",
   "execution_count": 135,
   "metadata": {},
   "outputs": [
    {
     "name": "stdout",
     "output_type": "stream",
     "text": [
      "Fitting model 1/12\n",
      "hyperparameters: {'activation': 'relu', 'optimizer': 'RMSprop', 'momentum': 0.9, 'dropouts': 0.5, 'nb_layers': 512, 'penalty': 0.0}\n",
      "computed_metrics: [0.5227076746191435, 0.5768194070080863, 0.6345637583892617, 0.479951763641845, 0.5374331550802138, 0.5176470588235293, 0.5893630179344465, 0.4392982456140351, 0.5383861025497338, 0.5682269503546099, 0.5667955326460481, 0.5093883357041251, 0.5432162534435261, 0.5733652312599682, 0.5487208968094279, 0.6559714795008913, 0.531230674087817, 0.75, 0.10119047619047618, 0.5087827426810478, 0.5486827033218786, 0.550456016475434, 0.5093272171253823, 0.5187637969094923, 0.4997022036926742, 0.48930817610062893, 0.5676236044657097]\n",
      "Model 1/12, Metric mean-roc_auc_score, Validation set 0: 0.532479\n",
      "\tbest_validation_score so far: 0.532479\n",
      "Fitting model 2/12\n",
      "hyperparameters: {'activation': 'relu', 'optimizer': 'RMSprop', 'momentum': 0.9, 'dropouts': 0.2, 'nb_layers': 512, 'penalty': 0.0}\n",
      "computed_metrics: [0.5240011497556769, 0.5426774483378256, 0.6459731543624161, 0.48221284293035876, 0.5276292335115864, 0.5285714285714286, 0.5550401978973407, 0.4392982456140351, 0.5061641916503221, 0.574468085106383, 0.5197594501718212, 0.5096728307254623, 0.5290977961432507, 0.5588516746411484, 0.5327680367921817, 0.678698752228164, 0.5299938157081014, 0.6591614906832298, 0.1369047619047619, 0.5109399075500771, 0.5393757159221076, 0.5547219770520742, 0.4975535168195719, 0.4919058130978661, 0.5035735556879095, 0.569811320754717, 0.5792663476874003]\n",
      "Model 2/12, Metric mean-roc_auc_score, Validation set 1: 0.526966\n",
      "\tbest_validation_score so far: 0.532479\n",
      "Fitting model 3/12\n",
      "hyperparameters: {'activation': 'relu', 'optimizer': 'adam', 'momentum': 0.9, 'dropouts': 0.5, 'nb_layers': 512, 'penalty': 0.0}\n",
      "computed_metrics: [0.5182523713710836, 0.5771188978736148, 0.6167785234899329, 0.48507687669580946, 0.5189393939393939, 0.5196078431372548, 0.6035868893011749, 0.4614035087719298, 0.5063042869151022, 0.5768794326241136, 0.5400916380297823, 0.514651493598862, 0.5559573002754821, 0.5728867623604466, 0.5467088243748204, 0.6459447415329769, 0.5732838589981447, 0.7243788819875776, 0.11904761904761905, 0.5057010785824345, 0.5463917525773196, 0.5380994410120624, 0.48379204892966354, 0.5382634289919058, 0.5080405002977963, 0.5088050314465409, 0.5681020733652313]\n",
      "Model 3/12, Metric mean-roc_auc_score, Validation set 2: 0.532374\n",
      "\tbest_validation_score so far: 0.532479\n",
      "Fitting model 4/12\n",
      "hyperparameters: {'activation': 'relu', 'optimizer': 'adam', 'momentum': 0.9, 'dropouts': 0.2, 'nb_layers': 512, 'penalty': 0.0}\n",
      "computed_metrics: [0.5127910319057201, 0.5597484276729561, 0.6483221476510067, 0.4876394332227917, 0.5334224598930482, 0.530672268907563, 0.5735930735930737, 0.43543859649122807, 0.5096665732698235, 0.5767375886524823, 0.5074455899198167, 0.509103840682788, 0.5254820936639119, 0.549920255183413, 0.5544696751940212, 0.6842691622103387, 0.5411255411255411, 0.6645962732919255, 0.11309523809523811, 0.4956856702619415, 0.5538373424971363, 0.5548690791409238, 0.4902140672782874, 0.5080941869021339, 0.507147111375819, 0.5490566037735849, 0.5822966507177033]\n",
      "Model 4/12, Metric mean-roc_auc_score, Validation set 3: 0.528101\n",
      "\tbest_validation_score so far: 0.532479\n",
      "Fitting model 5/12\n",
      "hyperparameters: {'activation': 'sigmoid', 'optimizer': 'RMSprop', 'momentum': 0.9, 'dropouts': 0.5, 'nb_layers': 512, 'penalty': 0.0}\n",
      "computed_metrics: [0.5123598735268755, 0.5654387541179994, 0.6647651006711409, 0.4746759119686464, 0.5245098039215687, 0.5439775910364146, 0.562461348175634, 0.4554385964912281, 0.5144298122723452, 0.5787234042553191, 0.5594215349369989, 0.5150782361308677, 0.5519972451790633, 0.589792663476874, 0.5781833860304686, 0.6715686274509803, 0.5482374768089053, 0.7274844720496894, 0.09523809523809523, 0.49630200308166406, 0.568012600229095, 0.5779641070903206, 0.49480122324159015, 0.5441501103752759, 0.484514592019059, 0.5119496855345911, 0.5639553429027113]\n",
      "Model 5/12, Metric mean-roc_auc_score, Validation set 4: 0.536127\n",
      "\tbest_validation_score so far: 0.536127\n",
      "Fitting model 6/12\n",
      "hyperparameters: {'activation': 'sigmoid', 'optimizer': 'RMSprop', 'momentum': 0.9, 'dropouts': 0.2, 'nb_layers': 512, 'penalty': 0.0}\n",
      "computed_metrics: [0.5376544984190859, 0.5709793351302785, 0.6325503355704698, 0.4801025022610793, 0.5345365418894831, 0.5352941176470588, 0.5652442795299939, 0.4529824561403509, 0.5190529560100868, 0.5611347517730497, 0.5329324169530355, 0.5210526315789474, 0.5349517906336088, 0.5419457735247208, 0.5365047427421672, 0.6880570409982174, 0.5383426097711812, 0.6653726708074534, 0.125, 0.4947611710323575, 0.5453894616265751, 0.5498676081200352, 0.4977064220183486, 0.513980868285504, 0.49791542584871945, 0.539622641509434, 0.5700159489633174]\n",
      "Model 6/12, Metric mean-roc_auc_score, Validation set 5: 0.528998\n",
      "\tbest_validation_score so far: 0.536127\n",
      "Fitting model 7/12\n",
      "hyperparameters: {'activation': 'sigmoid', 'optimizer': 'adam', 'momentum': 0.9, 'dropouts': 0.5, 'nb_layers': 512, 'penalty': 0.0}\n",
      "computed_metrics: [0.5357861454440932, 0.5480682839173405, 0.6416107382550336, 0.48703647874585465, 0.5287433155080214, 0.5354341736694678, 0.5837971552257266, 0.4463157894736842, 0.5186326702157467, 0.5570212765957447, 0.5554123711340206, 0.5140825035561878, 0.5380509641873279, 0.5722488038277512, 0.5500143719459615, 0.6755793226381461, 0.5581323438466295, 0.7228260869565217, 0.07142857142857141, 0.5431432973805855, 0.5388029782359679, 0.555604589585172, 0.48685015290519873, 0.5077262693156732, 0.5327575938058369, 0.530188679245283, 0.5829346092503986]\n",
      "Model 7/12, Metric mean-roc_auc_score, Validation set 6: 0.534009\n",
      "\tbest_validation_score so far: 0.536127\n",
      "Fitting model 8/12\n",
      "hyperparameters: {'activation': 'sigmoid', 'optimizer': 'adam', 'momentum': 0.9, 'dropouts': 0.2, 'nb_layers': 512, 'penalty': 0.0}\n",
      "computed_metrics: [0.5064673756826674, 0.5588499550763701, 0.6654362416107382, 0.48115767259571907, 0.5405525846702317, 0.5250700280112044, 0.5788497217068646, 0.4424561403508772, 0.5046231437377418, 0.575177304964539, 0.5380870561282932, 0.5109530583214794, 0.5370179063360883, 0.5446570972886763, 0.5449841908594424, 0.6869429590017825, 0.5080395794681509, 0.6583850931677018, 0.1369047619047619, 0.5217257318952235, 0.5525486827033218, 0.559576345984113, 0.5062691131498471, 0.5058866813833701, 0.501488981536629, 0.5289308176100629, 0.5807017543859649]\n",
      "Model 8/12, Metric mean-roc_auc_score, Validation set 7: 0.529694\n",
      "\tbest_validation_score so far: 0.536127\n",
      "Fitting model 9/12\n",
      "hyperparameters: {'activation': 'tanh', 'optimizer': 'RMSprop', 'momentum': 0.9, 'dropouts': 0.5, 'nb_layers': 512, 'penalty': 0.0}\n",
      "computed_metrics: [0.5342052313883301, 0.5549565738244984, 0.623489932885906, 0.48221284293035876, 0.5204991087344029, 0.5345938375350139, 0.5423623995052567, 0.44, 0.5130288596245447, 0.5676595744680851, 0.5488258877434136, 0.49743954480796587, 0.5516528925619835, 0.5623604465709728, 0.5363610232825524, 0.6662210338680927, 0.5132962275819418, 0.7204968944099379, 0.10714285714285712, 0.509090909090909, 0.554553264604811, 0.5636952044719035, 0.4974006116207951, 0.5044150110375276, 0.5032757593805837, 0.5182389937106918, 0.5633173843700159]\n",
      "Model 9/12, Metric mean-roc_auc_score, Validation set 8: 0.527066\n",
      "\tbest_validation_score so far: 0.536127\n",
      "Fitting model 10/12\n",
      "hyperparameters: {'activation': 'tanh', 'optimizer': 'RMSprop', 'momentum': 0.9, 'dropouts': 0.2, 'nb_layers': 512, 'penalty': 0.0}\n",
      "computed_metrics: [0.5240011497556769, 0.5555555555555556, 0.6463087248322148, 0.48055471811878203, 0.5443404634581105, 0.5394957983193277, 0.5686456400742115, 0.4638596491228071, 0.522135051835248, 0.5724822695035462, 0.5402348224513174, 0.5182076813655762, 0.5459710743801653, 0.549920255183413, 0.5225639551595287, 0.6691176470588235, 0.536178107606679, 0.6809006211180124, 0.14880952380952384, 0.514637904468413, 0.5423825887743413, 0.5776699029126213, 0.5048929663608563, 0.4985283296541575, 0.48868374032162, 0.5710691823899371, 0.5695374800637958]\n",
      "Model 10/12, Metric mean-roc_auc_score, Validation set 9: 0.533211\n",
      "\tbest_validation_score so far: 0.536127\n",
      "Fitting model 11/12\n",
      "hyperparameters: {'activation': 'tanh', 'optimizer': 'adam', 'momentum': 0.9, 'dropouts': 0.5, 'nb_layers': 512, 'penalty': 0.0}\n"
     ]
    },
    {
     "name": "stdout",
     "output_type": "stream",
     "text": [
      "computed_metrics: [0.5245760275941362, 0.5616951182988918, 0.5949664429530201, 0.49261380765752183, 0.5267379679144386, 0.5343137254901961, 0.543908472479901, 0.45298245614035093, 0.5257775287195293, 0.5747517730496454, 0.5472508591065293, 0.5115220483641536, 0.5232438016528925, 0.5690590111642744, 0.529893647599885, 0.6753565062388591, 0.5080395794681509, 0.7344720496894409, 0.0892857142857143, 0.49984591679506934, 0.5657216494845361, 0.5532509561635774, 0.4969418960244648, 0.5312729948491538, 0.5250148898153664, 0.5333333333333333, 0.5944178628389154]\n",
      "Model 11/12, Metric mean-roc_auc_score, Validation set 10: 0.530379\n",
      "\tbest_validation_score so far: 0.536127\n",
      "Fitting model 12/12\n",
      "hyperparameters: {'activation': 'tanh', 'optimizer': 'adam', 'momentum': 0.9, 'dropouts': 0.2, 'nb_layers': 512, 'penalty': 0.0}\n",
      "computed_metrics: [0.5054613394653635, 0.5616951182988918, 0.6446308724832215, 0.485378353934278, 0.5381016042780749, 0.5260504201680671, 0.5590599876314163, 0.45122807017543853, 0.513869431213225, 0.5802836879432625, 0.5143184421534936, 0.5082503556187767, 0.5056818181818181, 0.5623604465709728, 0.5211267605633803, 0.6771390374331551, 0.5482374768089054, 0.6746894409937888, 0.11904761904761905, 0.5029275808936826, 0.5353665521191294, 0.5701676963812886, 0.5022935779816513, 0.493009565857248, 0.49672424061941634, 0.5352201257861635, 0.5854864433811802]\n",
      "Model 12/12, Metric mean-roc_auc_score, Validation set 11: 0.526585\n",
      "\tbest_validation_score so far: 0.536127\n",
      "computed_metrics: [0.8820191375968991, 0.8686818564570278, 0.9215283618608613, 0.9222397307836121, 0.966194734227521, 0.8647123976871668, 0.8265097373592996, 0.8343545255316974, 0.8953913074105382, 0.8598793632462667, 0.8267951827399873, 0.8387618594429127, 0.8082552083333333, 0.860377777226399, 0.8545096884001047, 0.8826539534496398, 0.8380032474754215, 0.986313127896357, 0.9968957782584316, 0.8660213412593218, 0.8626769604238881, 0.891586357295191, 0.8423402921066473, 0.8147524350649351, 0.9798638559508124, 0.8997207294621088, 0.860407600756042]\n",
      "Best hyperparameters: ('sigmoid', 'RMSprop', 0.9, 0.5, 512, 0.0)\n",
      "train_score: 0.879683\n",
      "validation_score: 0.536127\n"
     ]
    }
   ],
   "source": [
    "\n",
    "metric = dc.metrics.Metric(dc.metrics.roc_auc_score, np.mean)\n",
    "optimizer = dc.hyper.HyperparamOpt(model_builder)\n",
    "best_dnn, best_hyperparams, all_results = optimizer.hyperparam_search(\n",
    "    params_dict, train_dataset, valid_dataset, [], metric)"
   ]
  },
  {
   "cell_type": "code",
   "execution_count": 136,
   "metadata": {},
   "outputs": [
    {
     "data": {
      "text/plain": [
       "MultitaskClassifier(activation_fns=None, bias_init_consts=None, dropouts=None,\n",
       "                    layer_sizes=None, n_classes=2, n_features=1024, n_tasks=27,\n",
       "                    weight_decay_penalty=None, weight_decay_penalty_type=None,\n",
       "                    weight_init_stddevs=None)"
      ]
     },
     "execution_count": 136,
     "metadata": {},
     "output_type": "execute_result"
    }
   ],
   "source": [
    "best_dnn"
   ]
  },
  {
   "cell_type": "code",
   "execution_count": 137,
   "metadata": {},
   "outputs": [
    {
     "data": {
      "text/plain": [
       "('sigmoid', 'RMSprop', 0.9, 0.5, 512, 0.0)"
      ]
     },
     "execution_count": 137,
     "metadata": {},
     "output_type": "execute_result"
    }
   ],
   "source": [
    "best_hyperparams"
   ]
  },
  {
   "cell_type": "code",
   "execution_count": 138,
   "metadata": {},
   "outputs": [],
   "source": [
    "obj=best_dnn.fit(train_dataset,**params_dict)"
   ]
  },
  {
   "cell_type": "code",
   "execution_count": 139,
   "metadata": {},
   "outputs": [],
   "source": [
    "metric = dc.metrics.Metric(dc.metrics.roc_auc_score, np.mean)"
   ]
  },
  {
   "cell_type": "code",
   "execution_count": 140,
   "metadata": {},
   "outputs": [
    {
     "name": "stdout",
     "output_type": "stream",
     "text": [
      "computed_metrics: [0.9439649951550387, 0.9312180812090591, 0.9615979784960331, 0.9742468351049622, 0.9870653253849975, 0.9235576974651091, 0.8940866758978023, 0.8982672283602258, 0.9553412933220626, 0.9220092727828539, 0.893877312749614, 0.8991015276237944, 0.864002490942029, 0.929601325514781, 0.9233150039277298, 0.9329183495024358, 0.9011288313537078, 0.9956744917633529, 0.9992589922294319, 0.9298924903937557, 0.9307826523347688, 0.94667350833026, 0.9064763118501437, 0.8810808982683982, 0.9926804274630362, 0.9565917798676421, 0.9243789932023447]\n",
      "{'mean-roc_auc_score': 0.9332885470553841}\n"
     ]
    }
   ],
   "source": [
    "train_scores = best_dnn.evaluate(train_dataset, [metric], transformers)\n",
    "print(train_scores)"
   ]
  },
  {
   "cell_type": "code",
   "execution_count": 141,
   "metadata": {},
   "outputs": [
    {
     "name": "stdout",
     "output_type": "stream",
     "text": [
      "computed_metrics: [0.4670882437482035, 0.5444743935309972, 0.6540268456375838, 0.49713596623454925, 0.5392156862745097, 0.5366946778711484, 0.5457637600494742, 0.4782456140350877, 0.5091061922107032, 0.5487943262411348, 0.5230526918671248, 0.5287339971550498, 0.5304752066115702, 0.5470494417862839, 0.5587812589824663, 0.6535204991087344, 0.5451453308596166, 0.7290372670807455, 0.029761904761904764, 0.5163328197226502, 0.5277777777777778, 0.5286849073256841, 0.5062691131498471, 0.5272259013980869, 0.4928528886241811, 0.5672955974842767, 0.5971291866028707]\n",
      "{'mean-roc_auc_score': 0.5270248702271209}\n"
     ]
    }
   ],
   "source": [
    "valid_scores = best_dnn.evaluate(valid_dataset, [metric], transformers)\n",
    "print(valid_scores)"
   ]
  },
  {
   "cell_type": "code",
   "execution_count": 142,
   "metadata": {},
   "outputs": [
    {
     "name": "stdout",
     "output_type": "stream",
     "text": [
      "computed_metrics: [0.5627536231884058, 0.5123605667772083, 0.4311145510835913, 0.587211003804507, 0.5572222222222223, 0.4879450518643118, 0.5566593083149375, 0.4870175438596491, 0.579480593607306, 0.5144927536231885, 0.5432216905901117, 0.5083848190644307, 0.5724137931034483, 0.549404761904762, 0.48888888888888893, 0.5901162790697674, 0.45327446651949965, 0.4, 0.1526946107784431, 0.5266369047619048, 0.5494082840236687, 0.5459284305438152, 0.5008719916288804, 0.5696843359142346, 0.3588744588744589, 0.47919463087248326, 0.49677419354838714]\n",
      "{'mean-roc_auc_score': 0.5022973984604634}\n"
     ]
    }
   ],
   "source": [
    "test_scores_v1 = best_dnn.evaluate(test_dataset, [metric], transformers)\n",
    "print(test_scores_v1)"
   ]
  },
  {
   "cell_type": "code",
   "execution_count": 143,
   "metadata": {},
   "outputs": [
    {
     "data": {
      "text/plain": [
       "[(0, 0.5582052484166566)]"
      ]
     },
     "execution_count": 143,
     "metadata": {},
     "output_type": "execute_result"
    },
    {
     "data": {
      "image/png": "[encoded data removed]",
      "text/plain": [
       "<Figure size 720x288 with 1 Axes>"
      ]
     },
     "metadata": {},
     "output_type": "display_data"
    }
   ],
   "source": [
    "import seaborn as sns\n",
    "\n",
    "sns.set(rc={'figure.figsize':(10,4)})\n",
    "sns.set(style=\"whitegrid\")\n",
    "ax = sns.barplot(x=[test_score['mean-roc_auc_score'],test_scores_v1['mean-roc_auc_score']],\n",
    "                 y=['First Scenario','Second Scenario'])\n",
    "ax.set(xlim=(0, None))"
   ]
  },
  {
   "cell_type": "code",
   "execution_count": null,
   "metadata": {},
   "outputs": [],
   "source": []
  }
 ],
 "metadata": {
  "kernelspec": {
   "display_name": "Python 3",
   "language": "python",
   "name": "python3"
  },
  "language_info": {
   "codemirror_mode": {
    "name": "ipython",
    "version": 3
   },
   "file_extension": ".py",
   "mimetype": "text/x-python",
   "name": "python",
   "nbconvert_exporter": "python",
   "pygments_lexer": "ipython3",
   "version": "3.6.8"
  }
 },
 "nbformat": 4,
 "nbformat_minor": 2
}
