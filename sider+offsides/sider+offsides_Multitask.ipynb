{
 "cells": [
  {
   "cell_type": "markdown",
   "metadata": {},
   "source": [
    "# Sider+Offsides Multitask Classifier"
   ]
  },
  {
   "cell_type": "code",
   "execution_count": 26,
   "metadata": {},
   "outputs": [],
   "source": [
    "import numpy as np\n",
    "import tensorflow as tf\n",
    "import deepchem as dc"
   ]
  },
  {
   "cell_type": "code",
   "execution_count": 27,
   "metadata": {},
   "outputs": [],
   "source": [
    "\"\"\"\n",
    "OFFSIDES dataset loader.\n",
    "\"\"\"\n",
    "from __future__ import division\n",
    "from __future__ import unicode_literals\n",
    "\n",
    "import os\n",
    "import logging\n",
    "import deepchem\n",
    "\n",
    "logger = logging.getLogger(__name__)\n",
    "\n",
    "\n",
    "def load_sider_offsides(featurizer='ECFP', split='index', reload=True, K=4):\n",
    "  logger.info(\"About to load sider+ofssides dataset.\")\n",
    "  data_dir = deepchem.utils.get_data_dir()\n",
    "  if reload:\n",
    "    save_dir = os.path.join(data_dir, \"sideroffsides/\" + featurizer + \"/\" + str(split))\n",
    "\n",
    "  dataset_file = os.path.join(\"/home/mamonteiro/source-code/Project-LEI/sider+offsides/\", \"sider+offsides_combined.csv.gz\")\n",
    "\n",
    "\n",
    "  dataset = deepchem.utils.save.load_from_disk(dataset_file)\n",
    "  logger.info(\"Columns of dataset: %s\" % str(dataset.columns.values))\n",
    "  logger.info(\"Number of examples in dataset: %s\" % str(dataset.shape[0]))\n",
    "  SIDER_OFFSIDES_tasks = dataset.columns.values[1:].tolist()\n",
    "\n",
    "  if reload:\n",
    "    loaded, all_dataset, transformers = deepchem.utils.save.load_dataset_from_disk(\n",
    "        save_dir)\n",
    "    if loaded:\n",
    "      return SIDER_OFFSIDES_tasks, all_dataset, transformers\n",
    "\n",
    "  # Featurize OFFSIDES dataset\n",
    "  logger.info(\"About to featurize OFFSIDES dataset.\")\n",
    "  if featurizer == 'ECFP':\n",
    "    featurizer = deepchem.feat.CircularFingerprint(size=1024)\n",
    "  elif featurizer == 'GraphConv':\n",
    "    featurizer = deepchem.feat.ConvMolFeaturizer()\n",
    "  elif featurizer == 'Weave':\n",
    "    featurizer = deepchem.feat.WeaveFeaturizer()\n",
    "  elif featurizer == 'Raw':\n",
    "    featurizer = deepchem.feat.RawFeaturizer()\n",
    "\n",
    "  logger.info(\"SIDER OFFSIDES tasks: %s\" % str(SIDER_OFFSIDES_tasks))\n",
    "  logger.info(\"%d tasks in total\" % len(SIDER_OFFSIDES_tasks))\n",
    "\n",
    "  loader = deepchem.data.CSVLoader(\n",
    "      tasks=SIDER_OFFSIDES_tasks, smiles_field=\"smiles\", featurizer=featurizer)\n",
    "  dataset = loader.featurize(dataset_file)\n",
    "  logger.info(\"%d datapoints in SIDER OFFSIDES dataset\" % len(dataset))\n",
    "\n",
    "  # Initialize transformers\n",
    "  transformers = [\n",
    "      deepchem.trans.BalancingTransformer(transform_w=True, dataset=dataset)\n",
    "  ]\n",
    "  logger.info(\"About to transform data\")\n",
    "  for transformer in transformers:\n",
    "    dataset = transformer.transform(dataset)\n",
    "\n",
    "  if split == None:\n",
    "    return SIDER_OFFSIDES_tasks, (dataset, None, None), transformers\n",
    "\n",
    "  splitters = {\n",
    "      'index': deepchem.splits.IndexSplitter(),\n",
    "      'random': deepchem.splits.RandomSplitter(),\n",
    "      'scaffold': deepchem.splits.ScaffoldSplitter(),\n",
    "      'task': deepchem.splits.TaskSplitter()\n",
    "  }\n",
    "  splitter = splitters[split]\n",
    "  if split == 'task':\n",
    "    fold_datasets = splitter.k_fold_split(dataset, K)\n",
    "    all_dataset = fold_datasets\n",
    "  else:\n",
    "    train, valid, test = splitter.train_valid_test_split(dataset)\n",
    "    if reload:\n",
    "      deepchem.utils.save.save_dataset_to_disk(save_dir, train, valid, test,\n",
    "                                               transformers)\n",
    "    all_dataset = (train, valid, test)\n",
    "  return SIDER_OFFSIDES_tasks, all_dataset, transformers\n"
   ]
  },
  {
   "cell_type": "code",
   "execution_count": 28,
   "metadata": {},
   "outputs": [
    {
     "name": "stdout",
     "output_type": "stream",
     "text": [
      "Loading dataset from disk.\n",
      "Loading dataset from disk.\n",
      "Loading dataset from disk.\n"
     ]
    }
   ],
   "source": [
    "Sideroffsides_tasks, Sideroffsides_datasets, transformers = load_sider_offsides(featurizer='GraphConv',reload=True)\n",
    "train_dataset, valid_dataset, test_dataset = Sideroffsides_datasets"
   ]
  },
  {
   "cell_type": "code",
   "execution_count": 29,
   "metadata": {},
   "outputs": [],
   "source": [
    "featurizer = dc.feat.CircularFingerprint(size = 1352)"
   ]
  },
  {
   "cell_type": "code",
   "execution_count": 30,
   "metadata": {},
   "outputs": [],
   "source": [
    "loader = dc.data.CSVLoader(tasks=Sideroffsides_tasks, \n",
    "                           smiles_field=\"smiles\",\n",
    "                           featurizer=featurizer)"
   ]
  },
  {
   "cell_type": "code",
   "execution_count": 31,
   "metadata": {},
   "outputs": [
    {
     "name": "stdout",
     "output_type": "stream",
     "text": [
      "Loading raw samples now.\n",
      "shard_size: 8192\n",
      "About to start loading CSV from sider+offsides_combined.csv\n",
      "Loading shard 1 of size 8192.\n",
      "Featurizing sample 0\n",
      "Featurizing sample 1000\n",
      "TIMING: featurizing shard 0 took 2.518 s\n",
      "TIMING: dataset construction took 2.577 s\n",
      "Loading dataset from disk.\n"
     ]
    },
    {
     "data": {
      "text/plain": [
       "1690"
      ]
     },
     "execution_count": 31,
     "metadata": {},
     "output_type": "execute_result"
    }
   ],
   "source": [
    "dataset = loader.featurize('sider+offsides_combined.csv')\n",
    "len(dataset)"
   ]
  },
  {
   "cell_type": "code",
   "execution_count": 32,
   "metadata": {},
   "outputs": [
    {
     "data": {
      "text/plain": [
       "(1352, 27)"
      ]
     },
     "execution_count": 32,
     "metadata": {},
     "output_type": "execute_result"
    }
   ],
   "source": [
    "train_dataset.y.shape"
   ]
  },
  {
   "cell_type": "code",
   "execution_count": 33,
   "metadata": {},
   "outputs": [
    {
     "data": {
      "text/plain": [
       "(169, 27)"
      ]
     },
     "execution_count": 33,
     "metadata": {},
     "output_type": "execute_result"
    }
   ],
   "source": [
    "valid_dataset.y.shape"
   ]
  },
  {
   "cell_type": "code",
   "execution_count": 34,
   "metadata": {},
   "outputs": [
    {
     "data": {
      "text/plain": [
       "(169, 27)"
      ]
     },
     "execution_count": 34,
     "metadata": {},
     "output_type": "execute_result"
    }
   ],
   "source": [
    "test_dataset.y.shape"
   ]
  },
  {
   "cell_type": "code",
   "execution_count": 35,
   "metadata": {},
   "outputs": [
    {
     "name": "stdout",
     "output_type": "stream",
     "text": [
      "Computing train/valid/test indices\n",
      "TIMING: dataset construction took 0.072 s\n",
      "Loading dataset from disk.\n",
      "TIMING: dataset construction took 0.039 s\n",
      "Loading dataset from disk.\n",
      "TIMING: dataset construction took 0.030 s\n",
      "Loading dataset from disk.\n"
     ]
    }
   ],
   "source": [
    "splitter = dc.splits.RandomSplitter('offsides.csv')\n",
    "train_dataset, valid_dataset, test_dataset = splitter.train_valid_test_split(\n",
    "    dataset)\n",
    "#NOTE THE RENAMING:\n",
    "valid_dataset, test_dataset = test_dataset, valid_dataset"
   ]
  },
  {
   "cell_type": "code",
   "execution_count": 36,
   "metadata": {},
   "outputs": [
    {
     "data": {
      "text/plain": [
       "1352"
      ]
     },
     "execution_count": 36,
     "metadata": {},
     "output_type": "execute_result"
    }
   ],
   "source": [
    "n_features = train_dataset.y.shape[0]\n",
    "n_features"
   ]
  },
  {
   "cell_type": "code",
   "execution_count": 37,
   "metadata": {},
   "outputs": [],
   "source": [
    "params_dict = {\"activation\": [\"relu\"],\n",
    "               \"optimizer\": [\"Adam\"],\n",
    "               \"momentum\": [.9],\n",
    "               \"penalty\": [0.]\n",
    "              }\n",
    "\n",
    "\n",
    "n_features = train_dataset.y.shape[0]\n",
    "def model_builder(model_params, model_dir):\n",
    "    model = dc.models.MultitaskClassifier(\n",
    "    len(Sideroffsides_tasks), n_features, **model_params)\n",
    "    return model"
   ]
  },
  {
   "cell_type": "code",
   "execution_count": 38,
   "metadata": {},
   "outputs": [
    {
     "name": "stdout",
     "output_type": "stream",
     "text": [
      "Fitting model 1/1\n",
      "hyperparameters: {'activation': 'relu', 'optimizer': 'Adam', 'momentum': 0.9, 'penalty': 0.0}\n",
      "computed_metrics: [0.6064516129032258, 0.5492559523809524, 0.6077247191011236, 0.5299205236091631, 0.5906810035842294, 0.6212078651685393, 0.6238325281803543, 0.6083333333333334, 0.6071761416589003, 0.6385287910762737, 0.7245817245817247, 0.5768766958094664, 0.1369047619047619, 0.6343230823612585, 0.6471698113207547, 0.5315371762740184, 0.6526982212842931, 0.6044802867383513, 0.43647798742138366, 0.6109467455621302, 0.5877712031558185, 0.5913325804630153, 0.6613141380583242, 0.5813988095238096, 0.6351868196528391, 0.5728867623604466, 0.548230593607306]\n",
      "Model 1/1, Metric mean-roc_auc_score, Validation set 0: 0.582120\n",
      "\tbest_validation_score so far: 0.582120\n",
      "computed_metrics: [0.9099437265945804, 0.8992048137271837, 0.8871263756467838, 0.9068572172945983, 0.9266688131433992, 0.8817486978596751, 0.9054233931464921, 0.9251117554669567, 0.8917527397500087, 0.9057634614539457, 0.9149372919449569, 0.8999099179362298, 0.9022594567149023, 0.9050829967910792, 0.9146574769188723, 0.9087001100155971, 0.905883072407045, 0.9056406556406557, 0.9331967213114755, 0.8880019982724294, 0.9017023468929155, 0.8902534842595511, 0.9061178977272728, 0.9032379858718724, 0.8900202424357214, 0.9028934612248216, 0.9010482111334057]\n",
      "Best hyperparameters: ('relu', 'Adam', 0.9, 0.0)\n",
      "train_score: 0.904191\n",
      "validation_score: 0.582120\n"
     ]
    }
   ],
   "source": [
    "metric = dc.metrics.Metric(dc.metrics.roc_auc_score, np.mean)\n",
    "optimizer = dc.hyper.HyperparamOpt(model_builder)\n",
    "best_dnn, best_hyperparams, all_results = optimizer.hyperparam_search(params_dict, train_dataset, valid_dataset, [], metric)"
   ]
  },
  {
   "cell_type": "code",
   "execution_count": 39,
   "metadata": {},
   "outputs": [
    {
     "data": {
      "text/plain": [
       "MultitaskClassifier(activation_fns=None, bias_init_consts=None, dropouts=None,\n",
       "                    layer_sizes=None, n_classes=2, n_features=1352, n_tasks=27,\n",
       "                    weight_decay_penalty=None, weight_decay_penalty_type=None,\n",
       "                    weight_init_stddevs=None)"
      ]
     },
     "execution_count": 39,
     "metadata": {},
     "output_type": "execute_result"
    }
   ],
   "source": [
    "best_dnn"
   ]
  },
  {
   "cell_type": "code",
   "execution_count": 40,
   "metadata": {},
   "outputs": [
    {
     "data": {
      "text/plain": [
       "('relu', 'Adam', 0.9, 0.0)"
      ]
     },
     "execution_count": 40,
     "metadata": {},
     "output_type": "execute_result"
    }
   ],
   "source": [
    "best_hyperparams"
   ]
  },
  {
   "cell_type": "code",
   "execution_count": 41,
   "metadata": {},
   "outputs": [
    {
     "data": {
      "text/plain": [
       "{\"('relu', 'Adam', 0.9, 0.0)\": 0.5821196248546592}"
      ]
     },
     "execution_count": 41,
     "metadata": {},
     "output_type": "execute_result"
    }
   ],
   "source": [
    "all_results"
   ]
  },
  {
   "cell_type": "code",
   "execution_count": 42,
   "metadata": {},
   "outputs": [],
   "source": [
    "model=model_builder(params_dict,params_dict)"
   ]
  },
  {
   "cell_type": "code",
   "execution_count": 43,
   "metadata": {},
   "outputs": [
    {
     "data": {
      "text/plain": [
       "227.32129157392163"
      ]
     },
     "execution_count": 43,
     "metadata": {},
     "output_type": "execute_result"
    }
   ],
   "source": [
    "model.fit(train_dataset, nb_epoch=100)"
   ]
  },
  {
   "cell_type": "code",
   "execution_count": 44,
   "metadata": {},
   "outputs": [],
   "source": [
    "obj=best_dnn.fit(train_dataset,**params_dict,epochs=100)"
   ]
  },
  {
   "cell_type": "code",
   "execution_count": 45,
   "metadata": {},
   "outputs": [],
   "source": [
    "metric = dc.metrics.Metric(dc.metrics.roc_auc_score, np.mean)"
   ]
  },
  {
   "cell_type": "code",
   "execution_count": 46,
   "metadata": {},
   "outputs": [
    {
     "name": "stdout",
     "output_type": "stream",
     "text": [
      "computed_metrics: [0.9994289830627592, 0.999482927391029, 0.999541998266488, 0.9993039542398519, 0.9981058793157961, 0.9995623057731868, 0.9996129148412651, 0.9995244999050726, 0.999530245206167, 0.9997432499011165, 0.9986058986917712, 0.999067007196666, 0.9992579139570762, 0.999464967796278, 0.9999615670398934, 0.9998955548128342, 0.9994711925866236, 0.9989248643094797, 0.9994102359056377, 0.9994955100393502, 0.9994365703136132, 0.9996963310221663, 0.9993210227272727, 0.9994188676618994, 0.9993720109853687, 0.999297529455935, 0.999449579509446]\n"
     ]
    }
   ],
   "source": [
    "train_scores = model.evaluate(train_dataset, [metric], transformers)"
   ]
  },
  {
   "cell_type": "code",
   "execution_count": 47,
   "metadata": {},
   "outputs": [
    {
     "name": "stdout",
     "output_type": "stream",
     "text": [
      "computed_metrics: [0.5383512544802868, 0.5177083333333333, 0.556320224719101, 0.5348293595137915, 0.6047491039426522, 0.5787921348314606, 0.5794283413848631, 0.5832638888888888, 0.5709847778813296, 0.5679077479650286, 0.6853281853281854, 0.5550572806753089, 0.48809523809523814, 0.6134676564156946, 0.719496855345912, 0.5089807852965748, 0.6055924027735906, 0.5844982078853047, 0.5465408805031446, 0.6151380670611439, 0.5635038038884193, 0.5295031055900621, 0.6223698781838316, 0.5799107142857143, 0.5819358634892615, 0.5390749601275917, 0.4853025114155251]\n"
     ]
    }
   ],
   "source": [
    "valid_scores = model.evaluate(valid_dataset, [metric], transformers)"
   ]
  },
  {
   "cell_type": "code",
   "execution_count": 48,
   "metadata": {},
   "outputs": [
    {
     "name": "stdout",
     "output_type": "stream",
     "text": [
      "computed_metrics: [0.45886850152905195, 0.5213203463203464, 0.4920100925147183, 0.49408284023668636, 0.5258467023172906, 0.5419520547945205, 0.576421248835042, 0.5895278167367929, 0.5440476190476191, 0.5824111822947001, 0.5949367088607596, 0.5228070175438597, 0.0892857142857143, 0.5870748299319728, 0.4138888888888889, 0.45721173161912415, 0.6029761904761906, 0.5839793281653747, 0.5110294117647058, 0.5483091787439613, 0.492430613961312, 0.4843005326604991, 0.6406423034330011, 0.5321061643835616, 0.5661016949152543, 0.5193236714975845, 0.5012605042016807]\n"
     ]
    }
   ],
   "source": [
    "test_scores = model.evaluate(test_dataset, [metric], transformers)"
   ]
  },
  {
   "cell_type": "code",
   "execution_count": 49,
   "metadata": {},
   "outputs": [
    {
     "name": "stdout",
     "output_type": "stream",
     "text": [
      "{'mean-roc_auc_score': 0.9993845771079276}\n",
      "{'mean-roc_auc_score': 0.5724493171593051}\n",
      "{'mean-roc_auc_score': 0.5175612181466746}\n"
     ]
    }
   ],
   "source": [
    "print(train_scores)\n",
    "print(valid_scores)\n",
    "print(test_scores)"
   ]
  },
  {
   "cell_type": "code",
   "execution_count": 51,
   "metadata": {},
   "outputs": [
    {
     "data": {
      "text/plain": [
       "[(0.0, 0.5434392790540082)]"
      ]
     },
     "execution_count": 51,
     "metadata": {},
     "output_type": "execute_result"
    },
    {
     "data": {
      "image/png": "[encoded data removed]",
      "text/plain": [
       "<Figure size 504x216 with 1 Axes>"
      ]
     },
     "metadata": {},
     "output_type": "display_data"
    }
   ],
   "source": [
    "import seaborn as sns\n",
    "\n",
    "\n",
    "sns.set(rc={'figure.figsize':(7,3)})\n",
    "\n",
    "sns.set(style=\"whitegrid\")\n",
    "ax = sns.barplot(x=test_scores['mean-roc_auc_score'],\n",
    "                    y=['First Scenario'])\n",
    "                    \n",
    "ax.set(xlim=(0.0, None))"
   ]
  }
 ],
 "metadata": {
  "kernelspec": {
   "display_name": "Python 3",
   "language": "python",
   "name": "python3"
  },
  "language_info": {
   "codemirror_mode": {
    "name": "ipython",
    "version": 3
   },
   "file_extension": ".py",
   "mimetype": "text/x-python",
   "name": "python",
   "nbconvert_exporter": "python",
   "pygments_lexer": "ipython3",
   "version": "3.6.8"
  }
 },
 "nbformat": 4,
 "nbformat_minor": 2
}
