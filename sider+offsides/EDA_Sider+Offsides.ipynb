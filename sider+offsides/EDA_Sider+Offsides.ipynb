{
 "cells": [
  {
   "cell_type": "markdown",
   "metadata": {},
   "source": [
    "# EDA Sider + Offsides"
   ]
  },
  {
   "cell_type": "code",
   "execution_count": null,
   "metadata": {
    "scrolled": true
   },
   "outputs": [],
   "source": [
    "!pip install imblearn"
   ]
  },
  {
   "cell_type": "code",
   "execution_count": null,
   "metadata": {},
   "outputs": [],
   "source": [
    "import seaborn as sns        # also python's library for visualisations\n",
    "color = sns.color_palette()\n",
    "sns.set_style('darkgrid')\n"
   ]
  },
  {
   "cell_type": "code",
   "execution_count": null,
   "metadata": {},
   "outputs": [],
   "source": [
    "%matplotlib inline\n",
    "import pandas as pd\n",
    "import matplotlib\n",
    "import numpy as np\n",
    "import matplotlib.pyplot as plt\n",
    "\n",
    "\n",
    "Offsides_siderDataset=pd.read_csv('sider+offsides_combined.csv')"
   ]
  },
  {
   "cell_type": "code",
   "execution_count": null,
   "metadata": {},
   "outputs": [],
   "source": [
    "sideroffsides_tasks=Offsides_siderDataset.columns\n",
    "sideroffsides_tasks"
   ]
  },
  {
   "cell_type": "code",
   "execution_count": null,
   "metadata": {},
   "outputs": [],
   "source": [
    "# library and data\n",
    "import seaborn as sns\n",
    "import matplotlib.pyplot as plt\n",
    " \n",
    "# plot\n",
    "#f, axes = plt.subplots(2, 2, figsize=(7, 7), sharex=True)\n",
    "#sns.distplot( Offsides_siderDataset['Hepatobiliary disorders'] , color=\"olive\", ax=axes[0, 0])\n",
    "#sns.distplot( Offsides_siderDataset['Renal and urinary disorders'] , color=\"olive\", ax=axes[0, 1])\n",
    "\n",
    "\n",
    "# Set up the matplotlib figure\n",
    "f, axes = plt.subplots(4,3, figsize=(30, 40), sharex=True)\n",
    "sns.despine(left=True)\n",
    "\n",
    "# Plot a simple histogram with binsize determined automatically\n",
    "sns.countplot(Offsides_siderDataset['Renal and urinary disorders'],ax=axes[0, 0])\n",
    "sns.countplot(Offsides_siderDataset['Respiratory, thoracic and mediastinal disorders'],ax=axes[0, 1])\n",
    "sns.countplot(Offsides_siderDataset['Skin and subcutaneous tissue disorders'],    ax=axes[0, 2])\n",
    "sns.countplot(Offsides_siderDataset['Congenital, familial and genetic disorders'],ax=axes[1, 0])\n",
    "sns.countplot(Offsides_siderDataset['Hepatobiliary disorders'],ax=axes[1, 1])\n",
    "sns.countplot(Offsides_siderDataset['Infections and infestations'], ax=axes[1, 2])\n",
    "sns.countplot(Offsides_siderDataset['Cardiac disorders'],ax=axes[2, 0])\n",
    "sns.countplot(Offsides_siderDataset['Ear and labyrinth disorders'],ax=axes[2, 1])\n",
    "sns.countplot(Offsides_siderDataset['Investigations'],    ax=axes[2, 2])\n",
    "sns.countplot(Offsides_siderDataset['Vascular disorders'],ax=axes[3, 0])\n",
    "sns.countplot(Offsides_siderDataset['Endocrine disorders'],ax=axes[3, 1])\n",
    "sns.countplot(Offsides_siderDataset['Immune system disorders'],ax=axes[3, 2])\n"
   ]
  },
  {
   "cell_type": "code",
   "execution_count": null,
   "metadata": {},
   "outputs": [],
   "source": [
    "# Set up the matplotlib figure\n",
    "f, axes = plt.subplots(5,3, figsize=(30, 50), sharex=True)\n",
    "sns.despine(left=True)\n",
    "\n",
    "# Plot a simple histogram with binsize determined automatically\n",
    "sns.countplot(Offsides_siderDataset['Product issues'],ax=axes[0, 0])\n",
    "sns.countplot(Offsides_siderDataset['Blood and lymphatic system disorders'],ax=axes[0, 1])\n",
    "sns.countplot(Offsides_siderDataset['Pregnancy, puerperium and perinatal conditions'],ax=axes[0, 2])\n",
    "\n",
    "sns.countplot(Offsides_siderDataset['Surgical and medical procedures'],ax=axes[1,0])\n",
    "sns.countplot(Offsides_siderDataset['Psychiatric disorders'],ax=axes[1, 1])\n",
    "sns.countplot(Offsides_siderDataset['Reproductive system and breast disorders'],ax=axes[1, 2])\n",
    "\n",
    "sns.countplot(Offsides_siderDataset['Social circumstances'],ax=axes[2, 0])\n",
    "sns.countplot(Offsides_siderDataset['Eye disorders'],ax=axes[2, 1])\n",
    "sns.countplot(Offsides_siderDataset['Gastrointestinal disorders'],ax=axes[2, 2])\n",
    "\n",
    "sns.countplot(Offsides_siderDataset['General disorders and administration site conditions'],ax=axes[3, 0])\n",
    "sns.countplot(Offsides_siderDataset['Neoplasms benign, malignant and unspecified (incl cysts and polyps)'],ax=axes[3, 1])\n",
    "sns.countplot(Offsides_siderDataset['Injury, poisoning and procedural complications'],ax=axes[3, 2])\n",
    "\n",
    "sns.countplot(Offsides_siderDataset['Musculoskeletal and connective tissue disorders'],ax=axes[4, 0])\n",
    "sns.countplot(Offsides_siderDataset['Metabolism and nutrition disorders'],ax=axes[4, 1])\n",
    "sns.countplot(Offsides_siderDataset['Nervous system disorders'],ax=axes[4, 2])\n"
   ]
  },
  {
   "cell_type": "code",
   "execution_count": null,
   "metadata": {},
   "outputs": [],
   "source": [
    "Offsides_siderDataset=Offsides_siderDataset.drop(['smiles'], axis=1)\n",
    "Offsides_siderDataset.head(2)"
   ]
  },
  {
   "cell_type": "code",
   "execution_count": null,
   "metadata": {},
   "outputs": [],
   "source": [
    "sns.set_style('dark')\n",
    "\n",
    "fig = plt.figure(figsize = (20,40))\n",
    "fig.subplots_adjust(hspace = 0.30, \n",
    "                    wspace = 0.30)\n",
    "k=0\n",
    "for i in range(1, len(Offsides_siderDataset.columns) + 1):\n",
    "    ax = fig.add_subplot(11, 3, i)\n",
    "    sns.distplot(Offsides_siderDataset[Offsides_siderDataset.columns[k]],color = 'teal')\n",
    "    k = k + 1\n",
    "    if k == len(Offsides_siderDataset.columns): break\n",
    "plt.show()\n",
    "\n"
   ]
  },
  {
   "cell_type": "code",
   "execution_count": null,
   "metadata": {},
   "outputs": [],
   "source": [
    "fig, ax = plt.subplots(figsize=(15, 8))\n",
    "corr = Offsides_siderDataset.corr()\n",
    "sns.heatmap(corr, \n",
    "            mask = np.zeros_like(corr, \n",
    "                                 dtype=np.bool), \n",
    "            cmap = sns.diverging_palette(275, \n",
    "                                         150, \n",
    "                                         as_cmap=True), \n",
    "            square = True, \n",
    "            ax = ax)\n",
    "plt.title('Correlation matrix of the imbalanced data')"
   ]
  },
  {
   "cell_type": "code",
   "execution_count": null,
   "metadata": {},
   "outputs": [],
   "source": [
    "from imblearn.over_sampling import SMOTE"
   ]
  },
  {
   "cell_type": "code",
   "execution_count": null,
   "metadata": {},
   "outputs": [],
   "source": []
  },
  {
   "cell_type": "code",
   "execution_count": null,
   "metadata": {},
   "outputs": [],
   "source": [
    "#Offsides_siderDataset['Product issues']\n",
    "\n",
    "X = Offsides_siderDataset.drop('Product issues', axis = 1)\n",
    "y = Offsides_siderDataset['Product issues']\n",
    "cols = X.columns.tolist()"
   ]
  },
  {
   "cell_type": "code",
   "execution_count": null,
   "metadata": {},
   "outputs": [],
   "source": [
    "len(Offsides_siderDataset)"
   ]
  },
  {
   "cell_type": "code",
   "execution_count": null,
   "metadata": {},
   "outputs": [],
   "source": [
    "sns.countplot(Offsides_siderDataset['Social circumstances'])"
   ]
  },
  {
   "cell_type": "code",
   "execution_count": null,
   "metadata": {},
   "outputs": [],
   "source": [
    "sm = SMOTE(random_state=101)\n",
    "X_sm, y_sm = sm.fit_sample(X, y.ravel())\n",
    "bal_data = pd.DataFrame(X_sm)\n",
    "bal_data.columns = cols\n",
    "bal_data['Product issues'] = y_sm\n",
    "sns.set_style('dark')\n",
    "plt.figure(figsize = (10,5))\n",
    "sns.countplot(bal_data['Product issues'],alpha =.60,palette= ['lightgreen','red'])\n",
    "plt.title('Product issues')\n",
    "plt.ylabel('# Cases')\n",
    "plt.show()"
   ]
  },
  {
   "cell_type": "markdown",
   "metadata": {},
   "source": [
    "# Social circumstances"
   ]
  },
  {
   "cell_type": "code",
   "execution_count": null,
   "metadata": {},
   "outputs": [],
   "source": [
    "sns.countplot(Offsides_siderDataset['Social circumstances'])"
   ]
  },
  {
   "cell_type": "code",
   "execution_count": null,
   "metadata": {},
   "outputs": [],
   "source": [
    "#Offsides_siderDataset['Product issues']\n",
    "\n",
    "X = Offsides_siderDataset.drop('Social circumstances', axis = 1)\n",
    "y = Offsides_siderDataset['Social circumstances']\n",
    "cols = X.columns.tolist()"
   ]
  },
  {
   "cell_type": "code",
   "execution_count": null,
   "metadata": {},
   "outputs": [],
   "source": [
    "sm = SMOTE(random_state=101)\n",
    "X_sm, y_sm = sm.fit_sample(X, y.ravel())\n",
    "bal_data = pd.DataFrame(X_sm)\n",
    "bal_data.columns = cols\n",
    "bal_data['Social circumstances'] = y_sm\n",
    "sns.set_style('dark')\n",
    "plt.figure(figsize = (10,5))\n",
    "sns.countplot(bal_data['Social circumstances'], \n",
    "              alpha =.60, \n",
    "              palette= ['lightgreen','red'])\n",
    "plt.title('Social circumstances')\n",
    "plt.ylabel('# Cases')\n",
    "plt.show()"
   ]
  },
  {
   "cell_type": "code",
   "execution_count": null,
   "metadata": {},
   "outputs": [],
   "source": [
    "type(bal_data)"
   ]
  },
  {
   "cell_type": "code",
   "execution_count": null,
   "metadata": {},
   "outputs": [],
   "source": [
    "len(bal_data)"
   ]
  },
  {
   "cell_type": "code",
   "execution_count": null,
   "metadata": {
    "scrolled": true
   },
   "outputs": [],
   "source": [
    "#bal_data = bal_data.drop('smiles', axis = 1)\n",
    "fig, ax = plt.subplots(figsize=(10, 8))\n",
    "corr = bal_data.corr()\n",
    "sns.heatmap(corr, \n",
    "            mask = np.zeros_like(corr, \n",
    "                                 dtype=np.bool), \n",
    "            cmap = sns.diverging_palette(275, \n",
    "                                         150, \n",
    "                                         as_cmap=True), \n",
    "            square = True, \n",
    "            ax = ax)\n",
    "plt.title('Correlation matrix of the balanced data (SMOTE)')"
   ]
  },
  {
   "cell_type": "code",
   "execution_count": null,
   "metadata": {},
   "outputs": [],
   "source": [
    "bal_data.to_csv('sider+offsides_combined-v1.csv',index=False)"
   ]
  },
  {
   "cell_type": "code",
   "execution_count": null,
   "metadata": {},
   "outputs": [],
   "source": [
    "from sklearn.metrics import classification_report, confusion_matrix, accuracy_score, f1_score, precision_score, recall_score, roc_curve, auc"
   ]
  },
  {
   "cell_type": "code",
   "execution_count": null,
   "metadata": {},
   "outputs": [],
   "source": [
    "#test_predictions = tg.predict_on_generator(data_generator(test_dataset, predict=True))\n",
    "#test_predictions = reshape_y_pred(test_dataset.y, test_predictions)\n",
    "#test_scores_4 = metric.compute_metric(test_dataset.y, test_predictions, test_dataset.w)\n",
    "#print(\"Test  ROC-AUC Score: %f\" % test_scores_4)\n",
    "\n",
    "fpr_lreg_all, tpr_lreg_all, thresholds = roc_curve(test_predictions, \n",
    "                                                   test_dataset.y)\n",
    "roc_auc_lreg_all = auc(fpr_lreg_all,\n",
    "                       tpr_lreg_all)\n",
    "plt.title('Receiver Operating Characteristic - LReg (All features)')\n",
    "plt.plot(fpr_lreg_all, \n",
    "         tpr_lreg_all, \n",
    "         'b',\n",
    "         label='AUC = %0.3f'% roc_auc_lreg_all)\n",
    "plt.legend(loc='lower right')\n",
    "plt.plot([0,1],[0,1],'r--')\n",
    "plt.xlim([-0.1,1.0])\n",
    "plt.ylim([-0.1,1.01])\n",
    "plt.ylabel('True Positive Rate')\n",
    "plt.xlabel('False Positive Rate')\n",
    "plt.show()"
   ]
  },
  {
   "cell_type": "code",
   "execution_count": null,
   "metadata": {},
   "outputs": [],
   "source": []
  }
 ],
 "metadata": {
  "kernelspec": {
   "display_name": "Python 3",
   "language": "python",
   "name": "python3"
  },
  "language_info": {
   "codemirror_mode": {
    "name": "ipython",
    "version": 3
   },
   "file_extension": ".py",
   "mimetype": "text/x-python",
   "name": "python",
   "nbconvert_exporter": "python",
   "pygments_lexer": "ipython3",
   "version": "3.6.8"
  }
 },
 "nbformat": 4,
 "nbformat_minor": 2
}
