{
 "cells": [
  {
   "cell_type": "markdown",
   "metadata": {},
   "source": [
    "# Sider Multitask Classifier"
   ]
  },
  {
   "cell_type": "code",
   "execution_count": null,
   "metadata": {},
   "outputs": [],
   "source": []
  },
  {
   "cell_type": "markdown",
   "metadata": {},
   "source": [
    "# Baseline "
   ]
  },
  {
   "cell_type": "code",
   "execution_count": 39,
   "metadata": {},
   "outputs": [],
   "source": [
    "import numpy as np\n",
    "import tensorflow as tf\n",
    "import deepchem as dc"
   ]
  },
  {
   "cell_type": "code",
   "execution_count": 40,
   "metadata": {},
   "outputs": [
    {
     "name": "stdout",
     "output_type": "stream",
     "text": [
      "Loading dataset from disk.\n",
      "Loading dataset from disk.\n",
      "Loading dataset from disk.\n"
     ]
    }
   ],
   "source": [
    "sider_tasks, sider_datasets, transformers = dc.molnet.load_sider(featurizer = 'GraphConv')\n",
    "train_dataset, valid_dataset, test_dataset = sider_datasets"
   ]
  },
  {
   "cell_type": "code",
   "execution_count": 41,
   "metadata": {},
   "outputs": [
    {
     "data": {
      "text/plain": [
       "(<deepchem.data.datasets.DiskDataset at 0x7f4f085cb080>,\n",
       " <deepchem.data.datasets.DiskDataset at 0x7f4f62c2c7b8>,\n",
       " <deepchem.data.datasets.DiskDataset at 0x7f4fb0066748>)"
      ]
     },
     "execution_count": 41,
     "metadata": {},
     "output_type": "execute_result"
    }
   ],
   "source": [
    "sider_datasets"
   ]
  },
  {
   "cell_type": "code",
   "execution_count": 42,
   "metadata": {},
   "outputs": [
    {
     "data": {
      "text/plain": [
       "(1141, 27)"
      ]
     },
     "execution_count": 42,
     "metadata": {},
     "output_type": "execute_result"
    }
   ],
   "source": [
    "train_dataset.y.shape"
   ]
  },
  {
   "cell_type": "code",
   "execution_count": 8,
   "metadata": {},
   "outputs": [
    {
     "data": {
      "text/plain": [
       "(143, 27)"
      ]
     },
     "execution_count": 8,
     "metadata": {},
     "output_type": "execute_result"
    }
   ],
   "source": [
    "valid_dataset.y.shape"
   ]
  },
  {
   "cell_type": "code",
   "execution_count": 9,
   "metadata": {},
   "outputs": [
    {
     "data": {
      "text/plain": [
       "(143, 27)"
      ]
     },
     "execution_count": 9,
     "metadata": {},
     "output_type": "execute_result"
    }
   ],
   "source": [
    "test_dataset.y.shape"
   ]
  },
  {
   "cell_type": "code",
   "execution_count": 10,
   "metadata": {},
   "outputs": [],
   "source": [
    "featurizer = dc.feat.CircularFingerprint(size = 1024)"
   ]
  },
  {
   "cell_type": "code",
   "execution_count": 11,
   "metadata": {},
   "outputs": [],
   "source": [
    "loader = dc.data.CSVLoader(\n",
    "      tasks=sider_tasks, smiles_field=\"smiles\",\n",
    "      featurizer=featurizer)"
   ]
  },
  {
   "cell_type": "code",
   "execution_count": 12,
   "metadata": {},
   "outputs": [
    {
     "name": "stdout",
     "output_type": "stream",
     "text": [
      "Loading raw samples now.\n",
      "shard_size: 8192\n",
      "About to start loading CSV from sider.csv\n",
      "Loading shard 1 of size 8192.\n",
      "Featurizing sample 0\n",
      "Featurizing sample 1000\n",
      "TIMING: featurizing shard 0 took 1.878 s\n",
      "TIMING: dataset construction took 1.928 s\n",
      "Loading dataset from disk.\n"
     ]
    }
   ],
   "source": [
    "dataset = loader.featurize('sider.csv')"
   ]
  },
  {
   "cell_type": "code",
   "execution_count": 13,
   "metadata": {},
   "outputs": [
    {
     "data": {
      "text/plain": [
       "['Hepatobiliary disorders',\n",
       " 'Metabolism and nutrition disorders',\n",
       " 'Product issues',\n",
       " 'Eye disorders',\n",
       " 'Investigations',\n",
       " 'Musculoskeletal and connective tissue disorders',\n",
       " 'Gastrointestinal disorders',\n",
       " 'Social circumstances',\n",
       " 'Immune system disorders',\n",
       " 'Reproductive system and breast disorders',\n",
       " 'Neoplasms benign, malignant and unspecified (incl cysts and polyps)',\n",
       " 'General disorders and administration site conditions',\n",
       " 'Endocrine disorders',\n",
       " 'Surgical and medical procedures',\n",
       " 'Vascular disorders',\n",
       " 'Blood and lymphatic system disorders',\n",
       " 'Skin and subcutaneous tissue disorders',\n",
       " 'Congenital, familial and genetic disorders',\n",
       " 'Infections and infestations',\n",
       " 'Respiratory, thoracic and mediastinal disorders',\n",
       " 'Psychiatric disorders',\n",
       " 'Renal and urinary disorders',\n",
       " 'Pregnancy, puerperium and perinatal conditions',\n",
       " 'Ear and labyrinth disorders',\n",
       " 'Cardiac disorders',\n",
       " 'Nervous system disorders',\n",
       " 'Injury, poisoning and procedural complications']"
      ]
     },
     "execution_count": 13,
     "metadata": {},
     "output_type": "execute_result"
    }
   ],
   "source": [
    "sider_tasks"
   ]
  },
  {
   "cell_type": "code",
   "execution_count": 14,
   "metadata": {},
   "outputs": [
    {
     "name": "stdout",
     "output_type": "stream",
     "text": [
      "Computing train/valid/test indices\n",
      "TIMING: dataset construction took 0.086 s\n",
      "Loading dataset from disk.\n",
      "TIMING: dataset construction took 0.023 s\n",
      "Loading dataset from disk.\n",
      "TIMING: dataset construction took 0.025 s\n",
      "Loading dataset from disk.\n"
     ]
    }
   ],
   "source": [
    "splitter = dc.splits.RandomSplitter('sider.csv')\n",
    "train_dataset, valid_dataset, test_dataset = splitter.train_valid_test_split(\n",
    "    dataset)\n",
    "#NOTE THE RENAMING:\n",
    "valid_dataset, test_dataset = test_dataset, valid_dataset\n"
   ]
  },
  {
   "cell_type": "code",
   "execution_count": 15,
   "metadata": {},
   "outputs": [],
   "source": [
    "n_features = train_dataset.get_data_shape()[0]"
   ]
  },
  {
   "cell_type": "code",
   "execution_count": 16,
   "metadata": {},
   "outputs": [],
   "source": [
    "params_dict = {\"activation\": [\"relu\"],\n",
    "               \"optimizer\": [\"Adam\"],\n",
    "               \"momentum\": [.9],\n",
    "               \"penalty\": [0.]\n",
    "              }\n",
    "\n",
    "n_features = train_dataset.get_data_shape()[0]\n",
    "def model_builder(model_params, model_dir):\n",
    "    model = dc.models.MultitaskClassifier(\n",
    "    len(sider_tasks), n_features, **model_params)\n",
    "    return model"
   ]
  },
  {
   "cell_type": "code",
   "execution_count": 17,
   "metadata": {},
   "outputs": [
    {
     "name": "stdout",
     "output_type": "stream",
     "text": [
      "Fitting model 1/1\n",
      "hyperparameters: {'activation': 'relu', 'optimizer': 'Adam', 'momentum': 0.9, 'penalty': 0.0}\n",
      "WARNING:tensorflow:From /home/mamonteiro/anaconda3/envs/lei/lib/python3.6/site-packages/tensorflow/python/ops/resource_variable_ops.py:435: colocate_with (from tensorflow.python.framework.ops) is deprecated and will be removed in a future version.\n",
      "Instructions for updating:\n",
      "Colocations handled automatically by placer.\n"
     ]
    },
    {
     "name": "stderr",
     "output_type": "stream",
     "text": [
      "WARNING:tensorflow:From /home/mamonteiro/anaconda3/envs/lei/lib/python3.6/site-packages/tensorflow/python/ops/resource_variable_ops.py:435: colocate_with (from tensorflow.python.framework.ops) is deprecated and will be removed in a future version.\n",
      "Instructions for updating:\n",
      "Colocations handled automatically by placer.\n"
     ]
    },
    {
     "name": "stdout",
     "output_type": "stream",
     "text": [
      "computed_metrics: [0.7574334898278561, 0.6680810938236681, 0.8591549295774648, 0.6835699797160243, 0.6850756081525312, 0.6422743498215195, 0.7332677165354331, 0.667016806722689, 0.6227810650887575, 0.7349019607843137, 0.6985968699406369, 0.6367684478371503, 0.7220205686630368, 0.5483996877439501, 0.6637884511602806, 0.6639412997903564, 0.6398496240601503, 0.5570999248685199, 0.706766917293233, 0.6723610402855686, 0.7037203047960556, 0.6567520625271385, 0.6361323155216285, 0.6027397260273972, 0.646845694799659, 0.729235880398671, 0.5457194083370686]\n",
      "Model 1/1, Metric mean-roc_auc_score, Validation set 0: 0.669789\n",
      "\tbest_validation_score so far: 0.669789\n",
      "computed_metrics: [0.9178287620139698, 0.9154011716112922, 0.9154546354012071, 0.9134219009475432, 0.9366761754869172, 0.9082591600414793, 0.9684436574246189, 0.9226579978362934, 0.9117930259749192, 0.9280192375106858, 0.9270714110933074, 0.9680947537926943, 0.9289264682046572, 0.9338337967253629, 0.9325831009604744, 0.9240337692758149, 0.9671571041615366, 0.9265191786533249, 0.9057938138343048, 0.9190808326357138, 0.9326209489813819, 0.918316160072002, 0.9301152737752162, 0.9061260105143084, 0.9300359908386955, 0.9736132922313344, 0.90966233056779]\n",
      "Best hyperparameters: ('relu', 'Adam', 0.9, 0.0)\n",
      "train_score: 0.928576\n",
      "validation_score: 0.669789\n"
     ]
    }
   ],
   "source": [
    "\n",
    "metric = dc.metrics.Metric(dc.metrics.roc_auc_score, np.mean)\n",
    "optimizer = dc.hyper.HyperparamOpt(model_builder)\n",
    "best_dnn, best_hyperparams, all_results = optimizer.hyperparam_search(\n",
    "    params_dict, train_dataset, valid_dataset, [], metric)"
   ]
  },
  {
   "cell_type": "code",
   "execution_count": 18,
   "metadata": {},
   "outputs": [
    {
     "data": {
      "text/plain": [
       "MultitaskClassifier(activation_fns=None, bias_init_consts=None, dropouts=None,\n",
       "                    layer_sizes=None, n_classes=2, n_features=1024, n_tasks=27,\n",
       "                    weight_decay_penalty=None, weight_decay_penalty_type=None,\n",
       "                    weight_init_stddevs=None)"
      ]
     },
     "execution_count": 18,
     "metadata": {},
     "output_type": "execute_result"
    }
   ],
   "source": [
    "best_dnn"
   ]
  },
  {
   "cell_type": "code",
   "execution_count": 19,
   "metadata": {},
   "outputs": [
    {
     "data": {
      "text/plain": [
       "('relu', 'Adam', 0.9, 0.0)"
      ]
     },
     "execution_count": 19,
     "metadata": {},
     "output_type": "execute_result"
    }
   ],
   "source": [
    "best_hyperparams"
   ]
  },
  {
   "cell_type": "code",
   "execution_count": 20,
   "metadata": {},
   "outputs": [
    {
     "data": {
      "text/plain": [
       "{\"('relu', 'Adam', 0.9, 0.0)\": 0.6697887120037317}"
      ]
     },
     "execution_count": 20,
     "metadata": {},
     "output_type": "execute_result"
    }
   ],
   "source": [
    "all_results"
   ]
  },
  {
   "cell_type": "code",
   "execution_count": 21,
   "metadata": {},
   "outputs": [
    {
     "data": {
      "text/plain": [
       "142.26870628850378"
      ]
     },
     "execution_count": 21,
     "metadata": {},
     "output_type": "execute_result"
    }
   ],
   "source": [
    "model=model_builder(params_dict,params_dict)\n",
    "model.fit(train_dataset, nb_epoch=100)"
   ]
  },
  {
   "cell_type": "code",
   "execution_count": 22,
   "metadata": {},
   "outputs": [],
   "source": [
    "obj=best_dnn.fit(train_dataset,**params_dict,epochs=100)"
   ]
  },
  {
   "cell_type": "code",
   "execution_count": 23,
   "metadata": {},
   "outputs": [],
   "source": [
    "metric = dc.metrics.Metric(dc.metrics.roc_auc_score, np.mean)"
   ]
  },
  {
   "cell_type": "code",
   "execution_count": 24,
   "metadata": {},
   "outputs": [
    {
     "name": "stdout",
     "output_type": "stream",
     "text": [
      "computed_metrics: [0.9998258398219559, 0.9998820403748576, 1.0, 0.9999837191885643, 0.9999016328939603, 0.999913584514345, 0.9998581407634962, 0.9984244855945467, 0.9999503274566894, 0.9999784746523657, 0.9992718389126127, 0.9999788117637087, 0.9999909953716211, 0.9999073215940686, 0.9998340193865356, 0.9999560804216279, 0.999907658212263, 0.9996221596831353, 0.999932853751842, 0.9999698145405371, 0.9999542365512666, 0.9997617582243046, 0.9975888568683957, 0.9999612532857214, 0.9999491038644708, 0.9999806122646813, 0.999726859913278]\n"
     ]
    }
   ],
   "source": [
    "train_scores = model.evaluate(train_dataset, [metric], transformers)"
   ]
  },
  {
   "cell_type": "code",
   "execution_count": 25,
   "metadata": {},
   "outputs": [
    {
     "name": "stdout",
     "output_type": "stream",
     "text": [
      "computed_metrics: [0.7206572769953052, 0.6338991041961339, 0.6549295774647887, 0.7208924949290061, 0.7021696252465484, 0.6195818459969402, 0.7197342519685039, 0.5669642857142857, 0.611439842209073, 0.7090196078431372, 0.7128980032379925, 0.66793893129771, 0.7087114337568058, 0.5385441061670571, 0.6508364813815435, 0.6446540880503144, 0.5067669172932331, 0.635236664162284, 0.6885338345864662, 0.6277409484956655, 0.6922904527117885, 0.6457881024750326, 0.6278625954198473, 0.5657534246575342, 0.6643755328218244, 0.6926910299003322, 0.6069027341999104]\n"
     ]
    }
   ],
   "source": [
    "valid_scores = model.evaluate(valid_dataset, [metric], transformers)"
   ]
  },
  {
   "cell_type": "code",
   "execution_count": 26,
   "metadata": {},
   "outputs": [
    {
     "name": "stdout",
     "output_type": "stream",
     "text": [
      "computed_metrics: [0.7140618879749314, 0.509016973125884, 0.6761904761904762, 0.6121703853955375, 0.6436781609195402, 0.5217599234815877, 0.7703125, 0.5332633053221288, 0.6243836844464365, 0.5946791862284821, 0.5349514563106796, 0.4881944444444444, 0.6591269841269841, 0.5341880341880342, 0.6202064896755163, 0.7073375262054507, 0.5523114355231143, 0.5078895463510849, 0.5825545171339563, 0.6139087200407956, 0.5927835051546392, 0.6313504125054277, 0.6431952662721894, 0.6359546165884195, 0.6551155115511551, 0.6240601503759398, 0.5517006802721087]\n"
     ]
    }
   ],
   "source": [
    "test_scores = model.evaluate(test_dataset, [metric], transformers)"
   ]
  },
  {
   "cell_type": "code",
   "execution_count": 27,
   "metadata": {},
   "outputs": [
    {
     "name": "stdout",
     "output_type": "stream",
     "text": [
      "{'mean-roc_auc_score': 0.9997412029581797}\n",
      "{'mean-roc_auc_score': 0.6495115997473727}\n",
      "{'mean-roc_auc_score': 0.6049757696224054}\n"
     ]
    }
   ],
   "source": [
    "print(train_scores)\n",
    "print(valid_scores)\n",
    "print(test_scores)"
   ]
  },
  {
   "cell_type": "code",
   "execution_count": 38,
   "metadata": {},
   "outputs": [
    {
     "data": {
      "text/plain": [
       "[(0, 0.6352245581035256)]"
      ]
     },
     "execution_count": 38,
     "metadata": {},
     "output_type": "execute_result"
    },
    {
     "data": {
      "image/png": "[encoded data removed]",
      "text/plain": [
       "<Figure size 720x216 with 1 Axes>"
      ]
     },
     "metadata": {},
     "output_type": "display_data"
    }
   ],
   "source": [
    "import seaborn as sns\n",
    "\n",
    "\n",
    "sns.set(rc={'figure.figsize':(10,3)})\n",
    "sns.set(style=\"whitegrid\")\n",
    "ax = sns.barplot(x=[test_scores['mean-roc_auc_score']],\n",
    "                 y=['First Scenario'])\n",
    "ax.set(xlim=(0, None))"
   ]
  },
  {
   "cell_type": "markdown",
   "metadata": {},
   "source": [
    "\n",
    "# Changing the most important hyperparameters"
   ]
  },
  {
   "cell_type": "code",
   "execution_count": 29,
   "metadata": {},
   "outputs": [],
   "source": [
    "params_dict = {\"activation\": [\"relu\",\"sigmoid\",\"tanh\"],\n",
    "               \"optimizer\": ['RMSprop','adam'],\n",
    "               \"momentum\": [.9],\n",
    "               \"dropouts\": [.5,0.2],\n",
    "               \"nb_layers\": [512],\n",
    "               \"penalty\": [0.]\n",
    "              }\n",
    "\n",
    "n_features = train_dataset.get_data_shape()[0]\n",
    "\n",
    "def model_builder(model_params, model_dir):\n",
    "    model = dc.models.MultitaskClassifier(\n",
    "    len(sider_tasks), n_features, **model_params)\n",
    "    return model\n"
   ]
  },
  {
   "cell_type": "code",
   "execution_count": 30,
   "metadata": {},
   "outputs": [
    {
     "name": "stdout",
     "output_type": "stream",
     "text": [
      "Fitting model 1/12\n",
      "hyperparameters: {'activation': 'relu', 'optimizer': 'RMSprop', 'momentum': 0.9, 'dropouts': 0.5, 'nb_layers': 512, 'penalty': 0.0}\n",
      "computed_metrics: [0.780907668231612, 0.6501650165016502, 0.9295774647887324, 0.6920892494929006, 0.6725838264299803, 0.6443141254462009, 0.7534448818897638, 0.6621148459383753, 0.6267258382642998, 0.7272549019607844, 0.6783594171613601, 0.6367684478371501, 0.7135511191772534, 0.5647931303669009, 0.681057744198597, 0.6666666666666667, 0.6398496240601503, 0.5405709992486852, 0.6924812030075187, 0.6896991330953596, 0.6869116987897803, 0.6593573599652627, 0.655852417302799, 0.6027397260273973, 0.6517476555839727, 0.7419712070874861, 0.5459435230838189]\n",
      "Model 1/12, Metric mean-roc_auc_score, Validation set 0: 0.673611\n",
      "\tbest_validation_score so far: 0.673611\n",
      "Fitting model 2/12\n",
      "hyperparameters: {'activation': 'relu', 'optimizer': 'RMSprop', 'momentum': 0.9, 'dropouts': 0.2, 'nb_layers': 512, 'penalty': 0.0}\n",
      "computed_metrics: [0.7654538341158059, 0.6499292786421499, 1.0, 0.6858012170385395, 0.6725838264299802, 0.63488016318205, 0.7347440944881889, 0.6869747899159664, 0.6338757396449705, 0.7276470588235294, 0.6886130599028601, 0.6329516539440203, 0.7250453720508168, 0.5597189695550351, 0.6562331354560174, 0.6802935010482181, 0.6022556390977444, 0.5815176558978212, 0.7090225563909774, 0.6626721060683325, 0.6918422232182879, 0.6580547112462007, 0.6488549618320612, 0.5925636007827788, 0.6474850809889172, 0.7447397563676633, 0.5389959659345585]\n",
      "Model 2/12, Metric mean-roc_auc_score, Validation set 1: 0.674546\n",
      "\tbest_validation_score so far: 0.674546\n",
      "Fitting model 3/12\n",
      "hyperparameters: {'activation': 'relu', 'optimizer': 'adam', 'momentum': 0.9, 'dropouts': 0.5, 'nb_layers': 512, 'penalty': 0.0}\n",
      "computed_metrics: [0.7619327073552425, 0.6659594530881661, 0.9225352112676056, 0.6914807302231237, 0.6814595660749507, 0.655532891381948, 0.7450787401574803, 0.6827731092436975, 0.6469428007889546, 0.7296078431372549, 0.6856449001618996, 0.6520356234096691, 0.7229280096793709, 0.581576893052303, 0.6743119266055045, 0.6624737945492662, 0.6097744360902255, 0.5864012021036815, 0.7037593984962406, 0.6677715451300357, 0.6949798296727925, 0.653712548849327, 0.6698473282442748, 0.5960861056751467, 0.6511082693947143, 0.7375415282392026, 0.5690273419991037]\n",
      "Model 3/12, Metric mean-roc_auc_score, Validation set 2: 0.677862\n",
      "\tbest_validation_score so far: 0.677862\n",
      "Fitting model 4/12\n",
      "hyperparameters: {'activation': 'relu', 'optimizer': 'adam', 'momentum': 0.9, 'dropouts': 0.2, 'nb_layers': 512, 'penalty': 0.0}\n",
      "computed_metrics: [0.7674100156494522, 0.6506364922206505, 1.0, 0.6878296146044625, 0.6798159105851413, 0.6443141254462009, 0.7357283464566929, 0.6904761904761905, 0.6314102564102564, 0.7270588235294116, 0.6832164058283865, 0.6463104325699746, 0.7126436781609196, 0.5585480093676816, 0.675661090124123, 0.6727463312368972, 0.624812030075188, 0.5740045078888054, 0.6962406015037594, 0.6662417134115246, 0.7055132227700582, 0.6658706035605733, 0.6615776081424937, 0.598238747553816, 0.6462063086104006, 0.7596899224806202, 0.5277902285970417]\n",
      "Model 4/12, Metric mean-roc_auc_score, Validation set 3: 0.677407\n",
      "\tbest_validation_score so far: 0.677862\n",
      "Fitting model 5/12\n",
      "hyperparameters: {'activation': 'sigmoid', 'optimizer': 'RMSprop', 'momentum': 0.9, 'dropouts': 0.5, 'nb_layers': 512, 'penalty': 0.0}\n",
      "computed_metrics: [0.7713223787167449, 0.6584158415841583, 0.9929577464788732, 0.6845841784989858, 0.6775147928994083, 0.6453340132585416, 0.7273622047244095, 0.6684173669467788, 0.6321499013806706, 0.7345098039215687, 0.6837560712358337, 0.635496183206107, 0.734422262552934, 0.5956284153005464, 0.6583917970858068, 0.6781970649895178, 0.6278195488721805, 0.5781367392937641, 0.7042606516290726, 0.664966853646099, 0.6911698789780367, 0.6526270082501087, 0.6609414758269719, 0.6029354207436399, 0.6560102301790282, 0.7403100775193798, 0.5394441954280591]\n",
      "Model 5/12, Metric mean-roc_auc_score, Validation set 4: 0.677670\n",
      "\tbest_validation_score so far: 0.677862\n",
      "Fitting model 6/12\n",
      "hyperparameters: {'activation': 'sigmoid', 'optimizer': 'RMSprop', 'momentum': 0.9, 'dropouts': 0.2, 'nb_layers': 512, 'penalty': 0.0}\n",
      "computed_metrics: [0.7650625978090768, 0.6610089580386611, 0.9859154929577465, 0.6853955375253549, 0.6923076923076923, 0.641509433962264, 0.7627952755905512, 0.6673669467787114, 0.6410256410256411, 0.7317647058823529, 0.6958985429033999, 0.633587786259542, 0.7217180883242589, 0.5480093676814988, 0.6635186184565569, 0.6683438155136269, 0.6225563909774436, 0.5924117205108941, 0.7085213032581453, 0.6698113207547169, 0.6887046167637831, 0.6665219279201042, 0.6755725190839694, 0.585518590998043, 0.6385336743393009, 0.7397563676633444, 0.5374271627073062]\n",
      "Model 6/12, Metric mean-roc_auc_score, Validation set 5: 0.677428\n",
      "\tbest_validation_score so far: 0.677862\n",
      "Fitting model 7/12\n",
      "hyperparameters: {'activation': 'sigmoid', 'optimizer': 'adam', 'momentum': 0.9, 'dropouts': 0.5, 'nb_layers': 512, 'penalty': 0.0}\n",
      "computed_metrics: [0.7799295774647887, 0.6607732201791607, 0.9647887323943662, 0.6829614604462475, 0.6788297172912559, 0.6371749107598164, 0.7455708661417324, 0.6509103641456583, 0.6306706114398422, 0.7131372549019608, 0.686184565569347, 0.6634860050890585, 0.7126436781609196, 0.5304449648711944, 0.6815974096060442, 0.6849056603773584, 0.6293233082706767, 0.553343350864012, 0.6962406015037593, 0.6698113207547169, 0.7077543702375616, 0.6556665219279201, 0.6870229007633588, 0.6146771037181997, 0.6572890025575449, 0.7524916943521595, 0.5338413267593007]\n",
      "Model 7/12, Metric mean-roc_auc_score, Validation set 6: 0.676351\n",
      "\tbest_validation_score so far: 0.677862\n",
      "Fitting model 8/12\n",
      "hyperparameters: {'activation': 'sigmoid', 'optimizer': 'adam', 'momentum': 0.9, 'dropouts': 0.2, 'nb_layers': 512, 'penalty': 0.0}\n",
      "computed_metrics: [0.7582159624413145, 0.6534653465346534, 0.9788732394366197, 0.6965517241379311, 0.6808021038790268, 0.6425293217746049, 0.7431102362204725, 0.6719187675070027, 0.6469428007889546, 0.7270588235294116, 0.6886130599028601, 0.6482188295165394, 0.7244404113732608, 0.5429352068696331, 0.6613599568267674, 0.6672955974842767, 0.6203007518796992, 0.5747558226897069, 0.699498746867168, 0.6754207037225906, 0.6902734199910354, 0.6595744680851063, 0.6456743002544529, 0.586692759295499, 0.6395993179880648, 0.7613510520487266, 0.5313760645450472]\n",
      "Model 8/12, Metric mean-roc_auc_score, Validation set 7: 0.674698\n",
      "\tbest_validation_score so far: 0.677862\n",
      "Fitting model 9/12\n",
      "hyperparameters: {'activation': 'tanh', 'optimizer': 'RMSprop', 'momentum': 0.9, 'dropouts': 0.5, 'nb_layers': 512, 'penalty': 0.0}\n",
      "computed_metrics: [0.7646713615023475, 0.6501650165016502, 0.9507042253521126, 0.6862068965517241, 0.6755424063116371, 0.6489036206017338, 0.7583661417322834, 0.6719187675070029, 0.6272189349112427, 0.7256862745098039, 0.6834862385321101, 0.6361323155216285, 0.721415607985481, 0.5573770491803278, 0.6791689152725311, 0.6752620545073376, 0.6218045112781955, 0.5608564988730278, 0.7005012531328321, 0.665221825599184, 0.7021515015688031, 0.6606600086843248, 0.6412213740458015, 0.6058708414872799, 0.652387041773231, 0.7508305647840532, 0.5396683101748094]\n",
      "Model 9/12, Metric mean-roc_auc_score, Validation set 8: 0.674570\n",
      "\tbest_validation_score so far: 0.677862\n",
      "Fitting model 10/12\n",
      "hyperparameters: {'activation': 'tanh', 'optimizer': 'RMSprop', 'momentum': 0.9, 'dropouts': 0.2, 'nb_layers': 512, 'penalty': 0.0}\n",
      "computed_metrics: [0.7636932707355243, 0.6513437057991514, 0.9859154929577465, 0.6872210953346856, 0.6850756081525313, 0.6384497705252423, 0.7431102362204725, 0.6722689075630252, 0.6259861932938856, 0.7313725490196078, 0.7075013491635186, 0.6450381679389313, 0.7147610405323654, 0.5425448868071818, 0.6662169454937938, 0.6740041928721174, 0.6067669172932332, 0.562359128474831, 0.706516290726817, 0.6644569097399287, 0.6963245181532945, 0.6630481980026053, 0.6463104325699744, 0.5949119373776908, 0.6481244671781756, 0.7475083056478404, 0.5275661138502914]\n",
      "Model 10/12, Metric mean-roc_auc_score, Validation set 9: 0.674015\n",
      "\tbest_validation_score so far: 0.677862\n",
      "Fitting model 11/12\n",
      "hyperparameters: {'activation': 'tanh', 'optimizer': 'adam', 'momentum': 0.9, 'dropouts': 0.5, 'nb_layers': 512, 'penalty': 0.0}\n"
     ]
    },
    {
     "name": "stdout",
     "output_type": "stream",
     "text": [
      "computed_metrics: [0.7693661971830986, 0.6537010843941536, 0.8732394366197183, 0.6791075050709938, 0.6896778435239974, 0.65068842427333, 0.7509842519685039, 0.6701680672268908, 0.6338757396449703, 0.7225490196078432, 0.6778197517539126, 0.6234096692111959, 0.7326073805202662, 0.557767369242779, 0.6694549379384781, 0.6668763102725367, 0.6030075187969925, 0.5465815176558978, 0.693734335839599, 0.6764405915349312, 0.6900493052442851, 0.6608771168041685, 0.6685750636132315, 0.6107632093933464, 0.6502557544757033, 0.7342192691029901, 0.5336172120125504]\n",
      "Model 11/12, Metric mean-roc_auc_score, Validation set 10: 0.669978\n",
      "\tbest_validation_score so far: 0.677862\n",
      "Fitting model 12/12\n",
      "hyperparameters: {'activation': 'tanh', 'optimizer': 'adam', 'momentum': 0.9, 'dropouts': 0.2, 'nb_layers': 512, 'penalty': 0.0}\n",
      "computed_metrics: [0.7685837245696401, 0.6595945308816595, 0.971830985915493, 0.6959432048681542, 0.6824457593688363, 0.6453340132585415, 0.7204724409448819, 0.6799719887955182, 0.6323964497041421, 0.7264705882352941, 0.6880733944954128, 0.6526717557251909, 0.7220205686630368, 0.5483996877439501, 0.6672962763086885, 0.6721174004192871, 0.62406015037594, 0.5766341096919609, 0.7170426065162907, 0.6715961244263131, 0.6936351411922905, 0.6665219279201042, 0.6488549618320609, 0.5988258317025441, 0.6378942881500427, 0.7458471760797343, 0.547288211564321]\n",
      "Model 12/12, Metric mean-roc_auc_score, Validation set 11: 0.676364\n",
      "\tbest_validation_score so far: 0.677862\n",
      "computed_metrics: [0.9162628616520865, 0.9071585159590299, 0.9051523696448006, 0.9146690111035134, 0.9399370450521346, 0.9011226811844681, 0.9672794333457256, 0.9241757433802137, 0.9219950021779499, 0.9306576301207266, 0.9214079359691844, 0.9503813882532417, 0.9293676949952276, 0.931177015755329, 0.9332824326118709, 0.9260020170473029, 0.9695887712386111, 0.9350766103814885, 0.9117135722529927, 0.9178774389851247, 0.9324073862206257, 0.9148616543244191, 0.9381556195965419, 0.9166651167980956, 0.930588577453012, 0.9749413521006611, 0.9142749837823073]\n",
      "Best hyperparameters: ('relu', 'adam', 0.9, 0.5, 512, 0.0)\n",
      "train_score: 0.928747\n",
      "validation_score: 0.677862\n"
     ]
    }
   ],
   "source": [
    "\n",
    "metric = dc.metrics.Metric(dc.metrics.roc_auc_score, np.mean)\n",
    "optimizer = dc.hyper.HyperparamOpt(model_builder)\n",
    "best_dnn, best_hyperparams, all_results = optimizer.hyperparam_search(\n",
    "    params_dict, train_dataset, valid_dataset, [], metric)"
   ]
  },
  {
   "cell_type": "code",
   "execution_count": 31,
   "metadata": {},
   "outputs": [],
   "source": [
    "#model=model_builder(params_dict,params_dict)\n",
    "#model.fit(train_dataset,nb_epoch=100)"
   ]
  },
  {
   "cell_type": "code",
   "execution_count": 32,
   "metadata": {},
   "outputs": [],
   "source": [
    "obj=best_dnn.fit(train_dataset,**params_dict)"
   ]
  },
  {
   "cell_type": "code",
   "execution_count": 33,
   "metadata": {},
   "outputs": [],
   "source": [
    "metric = dc.metrics.Metric(dc.metrics.roc_auc_score, np.mean)"
   ]
  },
  {
   "cell_type": "code",
   "execution_count": 34,
   "metadata": {},
   "outputs": [
    {
     "name": "stdout",
     "output_type": "stream",
     "text": [
      "computed_metrics: [0.9586346458537547, 0.9623382138372085, 0.9611160581775008, 0.9632639770766175, 0.9777198504819988, 0.9594567346468488, 0.9883235173263937, 0.9674656275273877, 0.9606899134169361, 0.9711191335740073, 0.9664592032457435, 0.9851216204763116, 0.9712572262142741, 0.9742724745134383, 0.9741534988713318, 0.965288893226625, 0.9883854551424116, 0.9663617886178862, 0.9591478596679709, 0.9682469090089509, 0.9741550923277578, 0.9627416334120855, 0.974178674351585, 0.9622436517383326, 0.9751590504235286, 0.9916729676806453, 0.9638055242582539]\n",
      "{'mean-roc_auc_score': 0.970102933151696}\n"
     ]
    }
   ],
   "source": [
    "train_scores = best_dnn.evaluate(train_dataset, [metric], transformers)\n",
    "print(train_scores)\n"
   ]
  },
  {
   "cell_type": "code",
   "execution_count": 35,
   "metadata": {},
   "outputs": [
    {
     "name": "stdout",
     "output_type": "stream",
     "text": [
      "computed_metrics: [0.761150234741784, 0.6577086280056577, 0.9295774647887324, 0.7105476673427993, 0.6738987508218277, 0.6356450790413055, 0.7563976377952756, 0.626750700280112, 0.6087278106508875, 0.7415686274509805, 0.6875337290879655, 0.6819338422391857, 0.7090139140955838, 0.5464480874316939, 0.6618996222342148, 0.6742138364779875, 0.6082706766917293, 0.5796393688955672, 0.7032581453634086, 0.6379398266190719, 0.6954280591662931, 0.6658706035605731, 0.6418575063613231, 0.6023483365949119, 0.6476982097186701, 0.7209302325581395, 0.5510981622590767]\n",
      "{'mean-roc_auc_score': 0.6710131392694355}\n"
     ]
    }
   ],
   "source": [
    "valid_scores = best_dnn.evaluate(valid_dataset, [metric], transformers)\n",
    "print(valid_scores)\n"
   ]
  },
  {
   "cell_type": "code",
   "execution_count": 36,
   "metadata": {},
   "outputs": [
    {
     "name": "stdout",
     "output_type": "stream",
     "text": [
      "computed_metrics: [0.7138660399529965, 0.5016501650165016, 0.6952380952380952, 0.6450304259634888, 0.6642468239564429, 0.5954088952654232, 0.8270833333333334, 0.48179271708683474, 0.6878081577767816, 0.6306729264475743, 0.5293689320388348, 0.5101851851851852, 0.6249433106575963, 0.5059171597633136, 0.6339233038348082, 0.7255765199161425, 0.583941605839416, 0.5292570677186061, 0.6150051921079958, 0.5979092299847016, 0.6145226355894218, 0.6387320885801129, 0.6798816568047337, 0.6173708920187794, 0.6640735502121642, 0.6676691729323307, 0.5467120181405896]\n",
      "{'mean-roc_auc_score': 0.6195476704208224}\n"
     ]
    }
   ],
   "source": [
    "test_scores_v1 = best_dnn.evaluate(test_dataset, [metric], transformers)\n",
    "print(test_scores_v1)"
   ]
  },
  {
   "cell_type": "code",
   "execution_count": 37,
   "metadata": {},
   "outputs": [
    {
     "data": {
      "text/plain": [
       "[(0, 0.6505250539418634)]"
      ]
     },
     "execution_count": 37,
     "metadata": {},
     "output_type": "execute_result"
    },
    {
     "data": {
      "image/png": "[encoded data removed]",
      "text/plain": [
       "<Figure size 720x288 with 1 Axes>"
      ]
     },
     "metadata": {},
     "output_type": "display_data"
    }
   ],
   "source": [
    "import seaborn as sns\n",
    "\n",
    "sns.set(rc={'figure.figsize':(10,4)})\n",
    "sns.set(style=\"whitegrid\")\n",
    "ax = sns.barplot(x=[test_scores['mean-roc_auc_score'],test_scores_v1['mean-roc_auc_score']],\n",
    "                 y=['First Scenario','Second Scenario'])\n",
    "ax.set(xlim=(0, None))"
   ]
  },
  {
   "cell_type": "code",
   "execution_count": null,
   "metadata": {},
   "outputs": [],
   "source": []
  }
 ],
 "metadata": {
  "kernelspec": {
   "display_name": "Python 3",
   "language": "python",
   "name": "python3"
  },
  "language_info": {
   "codemirror_mode": {
    "name": "ipython",
    "version": 3
   },
   "file_extension": ".py",
   "mimetype": "text/x-python",
   "name": "python",
   "nbconvert_exporter": "python",
   "pygments_lexer": "ipython3",
   "version": "3.6.8"
  }
 },
 "nbformat": 4,
 "nbformat_minor": 2
}
