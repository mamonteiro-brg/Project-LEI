{
 "cells": [
  {
   "cell_type": "markdown",
   "metadata": {},
   "source": [
    "# Offsides Multitask Classifier"
   ]
  },
  {
   "cell_type": "code",
   "execution_count": null,
   "metadata": {},
   "outputs": [],
   "source": []
  },
  {
   "cell_type": "markdown",
   "metadata": {},
   "source": [
    "# Baseline"
   ]
  },
  {
   "cell_type": "code",
   "execution_count": 1,
   "metadata": {
    "scrolled": true
   },
   "outputs": [
    {
     "name": "stderr",
     "output_type": "stream",
     "text": [
      "/home/mamonteiro/anaconda3/envs/lei/lib/python3.6/site-packages/sklearn/externals/joblib/__init__.py:15: DeprecationWarning: sklearn.externals.joblib is deprecated in 0.21 and will be removed in 0.23. Please import this functionality directly from joblib, which can be installed with: pip install joblib. If this warning is raised when loading pickled models, you may need to re-serialize those models with scikit-learn 0.21+.\n",
      "  warnings.warn(msg, category=DeprecationWarning)\n"
     ]
    }
   ],
   "source": [
    "import numpy as np\n",
    "import tensorflow as tf\n",
    "import deepchem as dc"
   ]
  },
  {
   "cell_type": "code",
   "execution_count": 2,
   "metadata": {},
   "outputs": [],
   "source": [
    "\"\"\"\n",
    "OFFSIDES dataset loader.\n",
    "\"\"\"\n",
    "from __future__ import division\n",
    "from __future__ import unicode_literals\n",
    "\n",
    "import os\n",
    "import logging\n",
    "import deepchem\n",
    "\n",
    "logger = logging.getLogger(__name__)\n",
    "\n",
    "\n",
    "def load_offsides(featurizer='ECFP', split='index', reload=True, K=4):\n",
    "  logger.info(\"About to load ofssides dataset.\")\n",
    "  data_dir = deepchem.utils.get_data_dir()\n",
    "  if reload:\n",
    "    save_dir = os.path.join(data_dir, \"offsides/\" + featurizer + \"/\" + str(split))\n",
    "\n",
    "  dataset_file = os.path.join(\"./\", \"offsides.csv.gz\")\n",
    "\n",
    "\n",
    "  dataset = deepchem.utils.save.load_from_disk(dataset_file)\n",
    "  logger.info(\"Columns of dataset: %s\" % str(dataset.columns.values))\n",
    "  logger.info(\"Number of examples in dataset: %s\" % str(dataset.shape[0]))\n",
    "  OFFSIDES_tasks = dataset.columns.values[1:].tolist()\n",
    "\n",
    "  if reload:\n",
    "    loaded, all_dataset, transformers = deepchem.utils.save.load_dataset_from_disk(\n",
    "        save_dir)\n",
    "    if loaded:\n",
    "      return OFFSIDES_tasks, all_dataset, transformers\n",
    "\n",
    "  # Featurize OFFSIDES dataset\n",
    "  logger.info(\"About to featurize OFFSIDES dataset.\")\n",
    "  if featurizer == 'ECFP':\n",
    "    featurizer = deepchem.feat.CircularFingerprint(size=1024)\n",
    "  elif featurizer == 'GraphConv':\n",
    "    featurizer = deepchem.feat.ConvMolFeaturizer()\n",
    "  elif featurizer == 'Weave':\n",
    "    featurizer = deepchem.feat.WeaveFeaturizer()\n",
    "  elif featurizer == 'Raw':\n",
    "    featurizer = deepchem.feat.RawFeaturizer()\n",
    "\n",
    "  logger.info(\"OFFSIDES tasks: %s\" % str(OFFSIDES_tasks))\n",
    "  logger.info(\"%d tasks in total\" % len(OFFSIDES_tasks))\n",
    "\n",
    "  loader = deepchem.data.CSVLoader(\n",
    "      tasks=OFFSIDES_tasks, smiles_field=\"smiles\", featurizer=featurizer)\n",
    "  dataset = loader.featurize(dataset_file)\n",
    "  logger.info(\"%d datapoints in OFFSIDES dataset\" % len(dataset))\n",
    "\n",
    "  # Initialize transformers\n",
    "  transformers = [\n",
    "      deepchem.trans.BalancingTransformer(transform_w=True, dataset=dataset)\n",
    "  ]\n",
    "  logger.info(\"About to transform data\")\n",
    "  for transformer in transformers:\n",
    "    dataset = transformer.transform(dataset)\n",
    "\n",
    "  if split == None:\n",
    "    return OFFSIDES_tasks, (dataset, None, None), transformers\n",
    "\n",
    "  splitters = {\n",
    "      'index': deepchem.splits.IndexSplitter(),\n",
    "      'random': deepchem.splits.RandomSplitter(),\n",
    "      'scaffold': deepchem.splits.ScaffoldSplitter(),\n",
    "      'task': deepchem.splits.TaskSplitter()\n",
    "  }\n",
    "  splitter = splitters[split]\n",
    "  if split == 'task':\n",
    "    fold_datasets = splitter.k_fold_split(dataset, K)\n",
    "    all_dataset = fold_datasets\n",
    "  else:\n",
    "    train, valid, test = splitter.train_valid_test_split(dataset)\n",
    "    if reload:\n",
    "      deepchem.utils.save.save_dataset_to_disk(save_dir, train, valid, test,\n",
    "                                               transformers)\n",
    "    all_dataset = (train, valid, test)\n",
    "  return OFFSIDES_tasks, all_dataset, transformers\n"
   ]
  },
  {
   "cell_type": "code",
   "execution_count": 3,
   "metadata": {},
   "outputs": [
    {
     "name": "stdout",
     "output_type": "stream",
     "text": [
      "Loading raw samples now.\n",
      "shard_size: 8192\n",
      "About to start loading CSV from /home/mamonteiro/source-code/Project-LEI/offsides/offsides.csv.gz\n",
      "Loading shard 1 of size 8192.\n",
      "Featurizing sample 0\n",
      "TIMING: featurizing shard 0 took 1.521 s\n",
      "TIMING: dataset construction took 1.816 s\n",
      "Loading dataset from disk.\n",
      "TIMING: dataset construction took 0.308 s\n",
      "Loading dataset from disk.\n",
      "TIMING: dataset construction took 0.283 s\n",
      "Loading dataset from disk.\n",
      "TIMING: dataset construction took 0.167 s\n",
      "Loading dataset from disk.\n",
      "TIMING: dataset construction took 0.117 s\n",
      "Loading dataset from disk.\n"
     ]
    }
   ],
   "source": [
    "offsides_tasks, offsides_datasets, transformers = load_offsides(featurizer='GraphConv',reload=True)\n",
    "train_dataset, valid_dataset, test_dataset = offsides_datasets"
   ]
  },
  {
   "cell_type": "code",
   "execution_count": 4,
   "metadata": {},
   "outputs": [],
   "source": [
    "featurizer = dc.feat.CircularFingerprint(size = 704)"
   ]
  },
  {
   "cell_type": "code",
   "execution_count": 5,
   "metadata": {},
   "outputs": [],
   "source": [
    "loader = dc.data.CSVLoader(\n",
    "      tasks=offsides_tasks, smiles_field=\"smiles\",\n",
    "      featurizer=featurizer)"
   ]
  },
  {
   "cell_type": "code",
   "execution_count": 6,
   "metadata": {},
   "outputs": [
    {
     "name": "stdout",
     "output_type": "stream",
     "text": [
      "Loading raw samples now.\n",
      "shard_size: 8192\n",
      "About to start loading CSV from offsides.csv\n",
      "Loading shard 1 of size 8192.\n",
      "Featurizing sample 0\n",
      "TIMING: featurizing shard 0 took 0.969 s\n",
      "TIMING: dataset construction took 0.995 s\n",
      "Loading dataset from disk.\n"
     ]
    }
   ],
   "source": [
    "dataset = loader.featurize('offsides.csv')"
   ]
  },
  {
   "cell_type": "code",
   "execution_count": 7,
   "metadata": {},
   "outputs": [
    {
     "data": {
      "text/plain": [
       "(704, 27)"
      ]
     },
     "execution_count": 7,
     "metadata": {},
     "output_type": "execute_result"
    }
   ],
   "source": [
    "train_dataset.y.shape"
   ]
  },
  {
   "cell_type": "code",
   "execution_count": 8,
   "metadata": {},
   "outputs": [
    {
     "data": {
      "text/plain": [
       "(88, 27)"
      ]
     },
     "execution_count": 8,
     "metadata": {},
     "output_type": "execute_result"
    }
   ],
   "source": [
    "valid_dataset.y.shape"
   ]
  },
  {
   "cell_type": "code",
   "execution_count": 9,
   "metadata": {},
   "outputs": [
    {
     "data": {
      "text/plain": [
       "(89, 27)"
      ]
     },
     "execution_count": 9,
     "metadata": {},
     "output_type": "execute_result"
    }
   ],
   "source": [
    "test_dataset.y.shape"
   ]
  },
  {
   "cell_type": "code",
   "execution_count": 10,
   "metadata": {},
   "outputs": [
    {
     "name": "stdout",
     "output_type": "stream",
     "text": [
      "Computing train/valid/test indices\n",
      "TIMING: dataset construction took 0.092 s\n",
      "Loading dataset from disk.\n",
      "TIMING: dataset construction took 0.029 s\n",
      "Loading dataset from disk.\n",
      "TIMING: dataset construction took 0.029 s\n",
      "Loading dataset from disk.\n"
     ]
    }
   ],
   "source": [
    "splitter = dc.splits.RandomSplitter('offsides.csv')\n",
    "train_dataset, valid_dataset, test_dataset = splitter.train_valid_test_split(\n",
    "    dataset)\n",
    "#NOTE THE RENAMING:\n",
    "valid_dataset, test_dataset = test_dataset, valid_dataset\n"
   ]
  },
  {
   "cell_type": "code",
   "execution_count": 11,
   "metadata": {},
   "outputs": [
    {
     "data": {
      "text/plain": [
       "704"
      ]
     },
     "execution_count": 11,
     "metadata": {},
     "output_type": "execute_result"
    }
   ],
   "source": [
    "n_features = train_dataset.y.shape[0]\n",
    "n_features"
   ]
  },
  {
   "cell_type": "code",
   "execution_count": 12,
   "metadata": {},
   "outputs": [],
   "source": [
    "params_dict = {\"activation\": [\"relu\"],\n",
    "               \"optimizer\": [\"Adam\"],\n",
    "               \"momentum\": [.9],\n",
    "               \"penalty\": [0.]\n",
    "              }\n",
    "\n",
    "\n",
    "n_features = train_dataset.y.shape[0]\n",
    "def model_builder(model_params, model_dir):\n",
    "    model = dc.models.MultitaskClassifier(\n",
    "    len(offsides_tasks), n_features, **model_params)\n",
    "    return model"
   ]
  },
  {
   "cell_type": "code",
   "execution_count": 13,
   "metadata": {},
   "outputs": [
    {
     "name": "stdout",
     "output_type": "stream",
     "text": [
      "Fitting model 1/1\n",
      "hyperparameters: {'activation': 'relu', 'optimizer': 'Adam', 'momentum': 0.9, 'penalty': 0.0}\n",
      "WARNING:tensorflow:From /home/mamonteiro/anaconda3/envs/lei/lib/python3.6/site-packages/tensorflow/python/ops/resource_variable_ops.py:435: colocate_with (from tensorflow.python.framework.ops) is deprecated and will be removed in a future version.\n",
      "Instructions for updating:\n",
      "Colocations handled automatically by placer.\n"
     ]
    },
    {
     "name": "stderr",
     "output_type": "stream",
     "text": [
      "WARNING:tensorflow:From /home/mamonteiro/anaconda3/envs/lei/lib/python3.6/site-packages/tensorflow/python/ops/resource_variable_ops.py:435: colocate_with (from tensorflow.python.framework.ops) is deprecated and will be removed in a future version.\n",
      "Instructions for updating:\n",
      "Colocations handled automatically by placer.\n"
     ]
    },
    {
     "name": "stdout",
     "output_type": "stream",
     "text": [
      "computed_metrics: [0.5714285714285714, 0.6247086247086246, 0.6338028169014085, 0.4900900900900901, 0.7972222222222223, 0.45291005291005293, 0.440952380952381, 0.5172413793103448, 0.40634920634920635, 0.60801393728223, 0.7238095238095237, 0.7309523809523809, 0.3045977011494253, 0.38152610441767065, 0.604978354978355, 0.5270676691729324, 0.6002331002331003, 0.48227848101265824, 0.38675958188153303, 0.5809716599190283, 0.6784037558685445, 0.3517316017316018, 0.485, 0.5466165413533834, 0.5571428571428572, 0.6970588235294117, 0.5751633986928104]\n",
      "Model 1/1, Metric mean-roc_auc_score, Validation set 0: 0.546556\n",
      "\tbest_validation_score so far: 0.546556\n",
      "computed_metrics: [0.9574141978542188, 0.942433774834437, 0.9255415927839026, 0.9075145797789895, 0.952195016133843, 0.8967852451450278, 0.9519746577876433, 0.9587228607918263, 0.9008755775257664, 0.9513916015624999, 0.957641115321092, 0.9585843373493976, 0.9338848039215686, 0.9531854073431898, 0.9513888888888888, 0.8989012885411873, 0.9581029185867895, 0.9380693112090571, 0.9667549462533105, 0.9370494655729555, 0.931644409531291, 0.9166381278538813, 0.9118297792213905, 0.9351174345076784, 0.9372232880755609, 0.9560109471997864, 0.9336503623188406]\n",
      "Best hyperparameters: ('relu', 'Adam', 0.9, 0.0)\n",
      "train_score: 0.937797\n",
      "validation_score: 0.546556\n"
     ]
    }
   ],
   "source": [
    "metric = dc.metrics.Metric(dc.metrics.roc_auc_score, np.mean)\n",
    "optimizer = dc.hyper.HyperparamOpt(model_builder)\n",
    "best_dnn, best_hyperparams, all_results = optimizer.hyperparam_search(params_dict, train_dataset, valid_dataset, [], metric)"
   ]
  },
  {
   "cell_type": "code",
   "execution_count": 14,
   "metadata": {},
   "outputs": [
    {
     "data": {
      "text/plain": [
       "MultitaskClassifier(activation_fns=None, bias_init_consts=None, dropouts=None,\n",
       "                    layer_sizes=None, n_classes=2, n_features=704, n_tasks=27,\n",
       "                    weight_decay_penalty=None, weight_decay_penalty_type=None,\n",
       "                    weight_init_stddevs=None)"
      ]
     },
     "execution_count": 14,
     "metadata": {},
     "output_type": "execute_result"
    }
   ],
   "source": [
    "best_dnn"
   ]
  },
  {
   "cell_type": "code",
   "execution_count": 15,
   "metadata": {},
   "outputs": [
    {
     "data": {
      "text/plain": [
       "('relu', 'Adam', 0.9, 0.0)"
      ]
     },
     "execution_count": 15,
     "metadata": {},
     "output_type": "execute_result"
    }
   ],
   "source": [
    "best_hyperparams"
   ]
  },
  {
   "cell_type": "code",
   "execution_count": 16,
   "metadata": {},
   "outputs": [
    {
     "data": {
      "text/plain": [
       "{\"('relu', 'Adam', 0.9, 0.0)\": 0.5465559562222351}"
      ]
     },
     "execution_count": 16,
     "metadata": {},
     "output_type": "execute_result"
    }
   ],
   "source": [
    "all_results"
   ]
  },
  {
   "cell_type": "code",
   "execution_count": 17,
   "metadata": {},
   "outputs": [],
   "source": [
    "model=model_builder(params_dict,params_dict)"
   ]
  },
  {
   "cell_type": "code",
   "execution_count": 18,
   "metadata": {},
   "outputs": [
    {
     "data": {
      "text/plain": [
       "360.65040076732635"
      ]
     },
     "execution_count": 18,
     "metadata": {},
     "output_type": "execute_result"
    }
   ],
   "source": [
    "model.fit(train_dataset, nb_epoch=100)"
   ]
  },
  {
   "cell_type": "code",
   "execution_count": 19,
   "metadata": {},
   "outputs": [],
   "source": [
    "obj=best_dnn.fit(train_dataset,**params_dict,epochs=100)"
   ]
  },
  {
   "cell_type": "code",
   "execution_count": 20,
   "metadata": {},
   "outputs": [],
   "source": [
    "metric = dc.metrics.Metric(dc.metrics.roc_auc_score, np.mean)"
   ]
  },
  {
   "cell_type": "code",
   "execution_count": 21,
   "metadata": {},
   "outputs": [
    {
     "name": "stdout",
     "output_type": "stream",
     "text": [
      "computed_metrics: [0.999980598723396, 1.0, 1.0, 0.9996654735222292, 1.0, 0.9998934923847056, 1.0, 0.9979054916985952, 0.9998869180317276, 1.0, 1.0, 1.0, 1.0, 0.9996251083671126, 1.0, 0.9999712379199264, 0.999942396313364, 1.0, 0.9998753699953263, 1.0, 1.0, 1.0, 1.0, 0.9999661246612466, 1.0, 0.9999554991878601, 0.9999284897025171]\n"
     ]
    }
   ],
   "source": [
    "train_scores = model.evaluate(train_dataset, [metric], transformers)"
   ]
  },
  {
   "cell_type": "code",
   "execution_count": 22,
   "metadata": {},
   "outputs": [
    {
     "name": "stdout",
     "output_type": "stream",
     "text": [
      "computed_metrics: [0.5522648083623694, 0.6282051282051282, 0.5532081377151801, 0.33603603603603605, 0.6472222222222223, 0.3878306878306878, 0.41333333333333333, 0.6091954022988506, 0.45873015873015877, 0.5278745644599303, 0.5880952380952381, 0.5738095238095238, 0.5229885057471264, 0.4618473895582329, 0.5489718614718615, 0.4909774436090225, 0.5582750582750583, 0.31424050632911393, 0.3693379790940766, 0.5678137651821862, 0.6095461658841941, 0.29761904761904756, 0.4525, 0.5729323308270677, 0.46952380952380957, 0.6294117647058823, 0.6462418300653595]\n"
     ]
    }
   ],
   "source": [
    "valid_scores = model.evaluate(valid_dataset, [metric], transformers)"
   ]
  },
  {
   "cell_type": "code",
   "execution_count": 23,
   "metadata": {},
   "outputs": [
    {
     "name": "stdout",
     "output_type": "stream",
     "text": [
      "computed_metrics: [0.5230769230769231, 0.5339912280701755, 0.33494208494208494, 0.42471042471042475, 0.6722891566265061, 0.517304189435337, 0.7845528455284553, 0.47126436781609193, 0.5883264462809918, 0.5390625, 0.5167548500881834, 0.4885361552028219, 0.3614457831325302, 0.4578125, 0.5647058823529412, 0.49642857142857144, 0.48632974316487154, 0.4287179487179487, 0.571875, 0.46975973487986744, 0.64818763326226, 0.7068493150684931, 0.5579427083333334, 0.5749792874896438, 0.680921052631579, 0.5756410256410256, 0.5607305936073059]\n"
     ]
    }
   ],
   "source": [
    "test_scores = model.evaluate(test_dataset, [metric], transformers)"
   ]
  },
  {
   "cell_type": "code",
   "execution_count": 24,
   "metadata": {},
   "outputs": [
    {
     "name": "stdout",
     "output_type": "stream",
     "text": [
      "{'mean-roc_auc_score': 0.9998739333521484}\n",
      "{'mean-roc_auc_score': 0.5106678777403962}\n",
      "{'mean-roc_auc_score': 0.5384125167217915}\n"
     ]
    }
   ],
   "source": [
    "print(train_scores)\n",
    "print(valid_scores)\n",
    "print(test_scores)"
   ]
  },
  {
   "cell_type": "code",
   "execution_count": 25,
   "metadata": {},
   "outputs": [
    {
     "data": {
      "text/plain": [
       "[(0, 0.565333142557881)]"
      ]
     },
     "execution_count": 25,
     "metadata": {},
     "output_type": "execute_result"
    }
   ],
   "source": [
    "import seaborn as sns\n",
    "\n",
    "\n",
    "sns.set(rc={'figure.figsize':(10,3)})\n",
    "sns.set(style=\"whitegrid\")\n",
    "ax = sns.barplot(x=[test_scores['mean-roc_auc_score']],\n",
    "                 y=['First Scenario'])\n",
    "ax.set(xlim=(0, None))"
   ]
  },
  {
   "cell_type": "markdown",
   "metadata": {},
   "source": [
    "\n",
    "# Changing the most important hyperparameters"
   ]
  },
  {
   "cell_type": "code",
   "execution_count": 26,
   "metadata": {},
   "outputs": [],
   "source": [
    "params_dict = {\"activation\": [\"relu\",\"sigmoid\",\"tanh\"],\n",
    "               \"optimizer\": ['RMSprop','adam'],\n",
    "               \"momentum\": [.9],\n",
    "               \"dropouts\": [.5,0.2],\n",
    "               \"nb_layers\": [512],\n",
    "               \"penalty\": [0.]\n",
    "              }\n",
    "\n",
    "n_features = train_dataset.get_data_shape()[0]\n",
    "\n",
    "def model_builder(model_params, model_dir):\n",
    "    model = dc.models.MultitaskClassifier(\n",
    "    len(offsides_tasks), n_features, **model_params)\n",
    "    return model"
   ]
  },
  {
   "cell_type": "code",
   "execution_count": 27,
   "metadata": {},
   "outputs": [
    {
     "name": "stdout",
     "output_type": "stream",
     "text": [
      "Fitting model 1/12\n",
      "hyperparameters: {'activation': 'relu', 'optimizer': 'RMSprop', 'momentum': 0.9, 'dropouts': 0.5, 'nb_layers': 512, 'penalty': 0.0}\n",
      "computed_metrics: [0.5696864111498259, 0.6421911421911422, 0.6431924882629108, 0.45585585585585586, 0.7986111111111112, 0.4296296296296296, 0.4380952380952381, 0.5287356321839081, 0.4158730158730159, 0.5261324041811848, 0.7023809523809523, 0.7, 0.3620689655172414, 0.38152610441767065, 0.6233766233766234, 0.518796992481203, 0.592074592074592, 0.5468354430379747, 0.4494773519163763, 0.6082995951417004, 0.6815336463223787, 0.35389610389610393, 0.5218750000000001, 0.5451127819548872, 0.5514285714285714, 0.6852941176470588, 0.5531045751633987]\n",
      "Model 1/12, Metric mean-roc_auc_score, Validation set 0: 0.549077\n",
      "\tbest_validation_score so far: 0.549077\n",
      "Fitting model 2/12\n",
      "hyperparameters: {'activation': 'relu', 'optimizer': 'RMSprop', 'momentum': 0.9, 'dropouts': 0.2, 'nb_layers': 512, 'penalty': 0.0}\n",
      "computed_metrics: [0.5418118466898955, 0.6456876456876457, 0.6314553990610329, 0.4378378378378378, 0.7972222222222223, 0.43333333333333335, 0.3933333333333333, 0.5689655172413793, 0.4126984126984127, 0.6114982578397212, 0.680952380952381, 0.7214285714285714, 0.7126436781609196, 0.39357429718875503, 0.5887445887445888, 0.4842105263157894, 0.6048951048951048, 0.479746835443038, 0.4355400696864112, 0.5799595141700404, 0.6604068857589984, 0.3560606060606061, 0.5018750000000001, 0.5308270676691729, 0.5476190476190477, 0.6823529411764706, 0.6062091503267975]\n",
      "Model 2/12, Metric mean-roc_auc_score, Validation set 1: 0.557070\n",
      "\tbest_validation_score so far: 0.557070\n",
      "Fitting model 3/12\n",
      "hyperparameters: {'activation': 'relu', 'optimizer': 'adam', 'momentum': 0.9, 'dropouts': 0.5, 'nb_layers': 512, 'penalty': 0.0}\n",
      "computed_metrics: [0.5749128919860627, 0.6328671328671329, 0.6619718309859155, 0.4603603603603603, 0.8013888888888889, 0.4634920634920635, 0.41238095238095235, 0.5, 0.45185185185185184, 0.6045296167247387, 0.6952380952380952, 0.7095238095238094, 0.41954022988505746, 0.4417670682730924, 0.5573593073593073, 0.5150375939849625, 0.5897435897435898, 0.4924050632911392, 0.4059233449477352, 0.6285425101214575, 0.6909233176838812, 0.3268398268398268, 0.5106250000000001, 0.5323308270676692, 0.5485714285714285, 0.6882352941176471, 0.5473856209150327]\n",
      "Model 3/12, Metric mean-roc_auc_score, Validation set 2: 0.550509\n",
      "\tbest_validation_score so far: 0.557070\n",
      "Fitting model 4/12\n",
      "hyperparameters: {'activation': 'relu', 'optimizer': 'adam', 'momentum': 0.9, 'dropouts': 0.2, 'nb_layers': 512, 'penalty': 0.0}\n",
      "computed_metrics: [0.5487804878048781, 0.6608391608391608, 0.6439749608763693, 0.44684684684684683, 0.7916666666666667, 0.437037037037037, 0.3923809523809524, 0.6149425287356322, 0.4206349206349207, 0.5627177700348431, 0.730952380952381, 0.7380952380952381, 0.7471264367816092, 0.3433734939759036, 0.6125541125541126, 0.5135338345864662, 0.5641025641025641, 0.4924050632911392, 0.4442508710801394, 0.6305668016194332, 0.6940532081377151, 0.33874458874458874, 0.514375, 0.5218045112781955, 0.5466666666666666, 0.7058823529411765, 0.5612745098039216]\n",
      "Model 4/12, Metric mean-roc_auc_score, Validation set 3: 0.563688\n",
      "\tbest_validation_score so far: 0.563688\n",
      "Fitting model 5/12\n",
      "hyperparameters: {'activation': 'sigmoid', 'optimizer': 'RMSprop', 'momentum': 0.9, 'dropouts': 0.5, 'nb_layers': 512, 'penalty': 0.0}\n",
      "computed_metrics: [0.5888501742160279, 0.6118881118881119, 0.662754303599374, 0.4423423423423423, 0.7847222222222222, 0.44232804232804235, 0.3933333333333333, 0.5344827586206896, 0.45978835978835975, 0.5592334494773519, 0.7, 0.7285714285714286, 0.4022988505747126, 0.3353413654618474, 0.5995670995670996, 0.5112781954887218, 0.5815850815850816, 0.49746835443037973, 0.3850174216027874, 0.5647773279352226, 0.664319248826291, 0.3474025974025974, 0.5149999999999999, 0.5451127819548872, 0.5285714285714285, 0.6852941176470588, 0.5727124183006536]\n",
      "Model 5/12, Metric mean-roc_auc_score, Validation set 4: 0.542372\n",
      "\tbest_validation_score so far: 0.563688\n",
      "Fitting model 6/12\n",
      "hyperparameters: {'activation': 'sigmoid', 'optimizer': 'RMSprop', 'momentum': 0.9, 'dropouts': 0.2, 'nb_layers': 512, 'penalty': 0.0}\n",
      "computed_metrics: [0.5679442508710801, 0.6398601398601398, 0.647887323943662, 0.4891891891891892, 0.7972222222222223, 0.45502645502645506, 0.35619047619047617, 0.5747126436781609, 0.4264550264550264, 0.573170731707317, 0.7142857142857143, 0.7309523809523809, 0.632183908045977, 0.3534136546184739, 0.6515151515151516, 0.5052631578947369, 0.5990675990675991, 0.47088607594936704, 0.4512195121951219, 0.6275303643724697, 0.6854460093896715, 0.3474025974025974, 0.5025000000000001, 0.531578947368421, 0.5361904761904761, 0.6941176470588235, 0.582516339869281]\n",
      "Model 6/12, Metric mean-roc_auc_score, Validation set 5: 0.560879\n",
      "\tbest_validation_score so far: 0.563688\n",
      "Fitting model 7/12\n",
      "hyperparameters: {'activation': 'sigmoid', 'optimizer': 'adam', 'momentum': 0.9, 'dropouts': 0.5, 'nb_layers': 512, 'penalty': 0.0}\n",
      "computed_metrics: [0.5644599303135889, 0.604895104895105, 0.6322378716744914, 0.48018018018018016, 0.7888888888888889, 0.44391534391534393, 0.42952380952380953, 0.6379310344827587, 0.46984126984126984, 0.5749128919860627, 0.6261904761904762, 0.6547619047619049, 0.32183908045977017, 0.37148594377510036, 0.58008658008658, 0.5203007518796992, 0.5664335664335665, 0.4886075949367089, 0.3519163763066202, 0.6163967611336032, 0.6791862284820032, 0.33225108225108224, 0.5162499999999999, 0.5112781954887218, 0.5314285714285715, 0.6794117647058824, 0.5375816993464053]\n",
      "Model 7/12, Metric mean-roc_auc_score, Validation set 6: 0.537489\n",
      "\tbest_validation_score so far: 0.563688\n",
      "Fitting model 8/12\n",
      "hyperparameters: {'activation': 'sigmoid', 'optimizer': 'adam', 'momentum': 0.9, 'dropouts': 0.2, 'nb_layers': 512, 'penalty': 0.0}\n",
      "computed_metrics: [0.5696864111498259, 0.6177156177156177, 0.6306729264475743, 0.472972972972973, 0.8125, 0.4534391534391534, 0.38190476190476186, 0.5459770114942528, 0.44074074074074077, 0.5696864111498259, 0.6142857142857143, 0.7142857142857142, 0.7471264367816093, 0.3755020080321285, 0.6103896103896105, 0.5, 0.6107226107226107, 0.5050632911392405, 0.3745644599303136, 0.611336032388664, 0.6729264475743348, 0.3354978354978355, 0.515, 0.5293233082706768, 0.5342857142857143, 0.6970588235294117, 0.5866013071895425]\n",
      "Model 8/12, Metric mean-roc_auc_score, Validation set 7: 0.556639\n",
      "\tbest_validation_score so far: 0.563688\n",
      "Fitting model 9/12\n",
      "hyperparameters: {'activation': 'tanh', 'optimizer': 'RMSprop', 'momentum': 0.9, 'dropouts': 0.5, 'nb_layers': 512, 'penalty': 0.0}\n",
      "computed_metrics: [0.5209059233449478, 0.627039627039627, 0.6408450704225352, 0.4747747747747748, 0.7930555555555556, 0.4619047619047619, 0.4247619047619048, 0.5862068965517242, 0.4576719576719577, 0.5574912891986062, 0.6904761904761905, 0.6976190476190476, 0.43103448275862066, 0.3795180722891566, 0.6006493506493507, 0.5045112781954887, 0.6130536130536131, 0.46329113924050636, 0.41289198606271776, 0.5860323886639676, 0.7018779342723004, 0.3268398268398268, 0.49875, 0.5300751879699248, 0.5190476190476191, 0.726470588235294, 0.5702614379084967]\n",
      "Model 9/12, Metric mean-roc_auc_score, Validation set 8: 0.548039\n",
      "\tbest_validation_score so far: 0.563688\n",
      "Fitting model 10/12\n",
      "hyperparameters: {'activation': 'tanh', 'optimizer': 'RMSprop', 'momentum': 0.9, 'dropouts': 0.2, 'nb_layers': 512, 'penalty': 0.0}\n",
      "computed_metrics: [0.5627177700348431, 0.6491841491841492, 0.622848200312989, 0.4765765765765766, 0.8013888888888889, 0.4417989417989418, 0.38761904761904764, 0.5919540229885057, 0.4068783068783069, 0.5888501742160279, 0.6857142857142857, 0.7285714285714285, 0.7413793103448276, 0.3413654618473896, 0.6082251082251082, 0.49774436090225566, 0.5850815850815851, 0.5037974683544304, 0.4111498257839721, 0.6032388663967612, 0.6838810641627544, 0.3257575757575758, 0.5225, 0.550375939849624, 0.539047619047619, 0.7058823529411765, 0.5604575163398693]\n",
      "Model 10/12, Metric mean-roc_auc_score, Validation set 9: 0.560148\n",
      "\tbest_validation_score so far: 0.563688\n",
      "Fitting model 11/12\n",
      "hyperparameters: {'activation': 'tanh', 'optimizer': 'adam', 'momentum': 0.9, 'dropouts': 0.5, 'nb_layers': 512, 'penalty': 0.0}\n"
     ]
    },
    {
     "name": "stdout",
     "output_type": "stream",
     "text": [
      "computed_metrics: [0.5557491289198606, 0.6398601398601399, 0.6580594679186228, 0.4837837837837837, 0.7972222222222223, 0.44285714285714284, 0.440952380952381, 0.6436781609195402, 0.4396825396825397, 0.5331010452961673, 0.6595238095238095, 0.6714285714285714, 0.5747126436781609, 0.38152610441767065, 0.5844155844155845, 0.5428571428571428, 0.6258741258741258, 0.4949367088607595, 0.4250871080139373, 0.6153846153846154, 0.6682316118935836, 0.3398268398268398, 0.54125, 0.5541353383458647, 0.49238095238095236, 0.7029411764705882, 0.5694444444444444]\n",
      "Model 11/12, Metric mean-roc_auc_score, Validation set 10: 0.558478\n",
      "\tbest_validation_score so far: 0.563688\n",
      "Fitting model 12/12\n",
      "hyperparameters: {'activation': 'tanh', 'optimizer': 'adam', 'momentum': 0.9, 'dropouts': 0.2, 'nb_layers': 512, 'penalty': 0.0}\n",
      "computed_metrics: [0.554006968641115, 0.6655011655011656, 0.6424100156494523, 0.4567567567567568, 0.8083333333333333, 0.4433862433862434, 0.38476190476190475, 0.5459770114942528, 0.4455026455026455, 0.5662020905923344, 0.7333333333333334, 0.6904761904761905, 0.7183908045977012, 0.3594377510040161, 0.6287878787878789, 0.5060150375939849, 0.56993006993007, 0.4810126582278481, 0.4024390243902439, 0.6356275303643725, 0.6744913928012519, 0.3344155844155844, 0.5137499999999999, 0.524812030075188, 0.5561904761904761, 0.7294117647058824, 0.5792483660130718]\n",
      "Model 12/12, Metric mean-roc_auc_score, Validation set 11: 0.561134\n",
      "\tbest_validation_score so far: 0.563688\n",
      "computed_metrics: [0.9743709136061154, 0.958112582781457, 0.9493177087348701, 0.9254675007526845, 0.9739146939992951, 0.9288529129832783, 0.9710506844247133, 0.9838058748403576, 0.9178217181997351, 0.9687255859374999, 0.9779461770135043, 0.9756024096385543, 0.984375, 0.9730078024321095, 0.9752259700176367, 0.9216904433195274, 0.9669546850998465, 0.955181056088497, 0.9854182894531858, 0.9521501367138951, 0.9484158156585494, 0.9482448630136987, 0.9363837499411571, 0.9500225835591689, 0.9541396103896105, 0.9735887679950159, 0.9474160945842867]\n",
      "Best hyperparameters: ('relu', 'adam', 0.9, 0.2, 512, 0.0)\n",
      "train_score: 0.958415\n",
      "validation_score: 0.563688\n"
     ]
    }
   ],
   "source": [
    "\n",
    "metric = dc.metrics.Metric(dc.metrics.roc_auc_score, np.mean)\n",
    "optimizer = dc.hyper.HyperparamOpt(model_builder)\n",
    "best_dnn, best_hyperparams, all_results = optimizer.hyperparam_search(\n",
    "    params_dict, train_dataset, valid_dataset, [], metric)"
   ]
  },
  {
   "cell_type": "code",
   "execution_count": 28,
   "metadata": {},
   "outputs": [],
   "source": [
    "obj=best_dnn.fit(train_dataset,**params_dict)"
   ]
  },
  {
   "cell_type": "code",
   "execution_count": 29,
   "metadata": {},
   "outputs": [],
   "source": [
    "metric = dc.metrics.Metric(dc.metrics.roc_auc_score, np.mean)"
   ]
  },
  {
   "cell_type": "code",
   "execution_count": 30,
   "metadata": {},
   "outputs": [
    {
     "name": "stdout",
     "output_type": "stream",
     "text": [
      "computed_metrics: [0.994722852763712, 0.9918377483443708, 0.9862308226042711, 0.9653765095507308, 0.9951191735133816, 0.9661039514325274, 0.9914446910839808, 0.9947892720306514, 0.9574407935123259, 0.9914306640625, 0.9939441044075261, 0.9916415662650603, 0.9969362745098038, 0.98931558846271, 0.994157848324515, 0.9625901211842307, 0.9883448540706605, 0.9842191686111832, 0.9962610998597912, 0.9829573701217996, 0.9791961246399581, 0.9834332191780821, 0.9738737466459539, 0.9805894308943089, 0.9816447756788667, 0.9957056716285072, 0.9804300152555302]\n",
      "{'mean-roc_auc_score': 0.9848050910606273}\n"
     ]
    }
   ],
   "source": [
    "train_scores = best_dnn.evaluate(train_dataset, [metric], transformers)\n",
    "print(train_scores)\n"
   ]
  },
  {
   "cell_type": "code",
   "execution_count": 31,
   "metadata": {},
   "outputs": [
    {
     "name": "stdout",
     "output_type": "stream",
     "text": [
      "computed_metrics: [0.5905923344947734, 0.6608391608391608, 0.6158059467918623, 0.4378378378378378, 0.7458333333333333, 0.4343915343915344, 0.3933333333333333, 0.6264367816091954, 0.417989417989418, 0.5627177700348431, 0.719047619047619, 0.7095238095238094, 0.8045977011494253, 0.3514056224899599, 0.6006493506493507, 0.5022556390977444, 0.5617715617715617, 0.4582278481012658, 0.43205574912891986, 0.6103238866396761, 0.6572769953051643, 0.31493506493506496, 0.48375, 0.5285714285714286, 0.5228571428571428, 0.6705882352941177, 0.5923202614379084]\n",
      "{'mean-roc_auc_score': 0.5557753839502019}\n"
     ]
    }
   ],
   "source": [
    "valid_scores = best_dnn.evaluate(valid_dataset, [metric], transformers)\n",
    "print(valid_scores)\n"
   ]
  },
  {
   "cell_type": "code",
   "execution_count": 32,
   "metadata": {},
   "outputs": [
    {
     "name": "stdout",
     "output_type": "stream",
     "text": [
      "computed_metrics: [0.6038461538461538, 0.5767543859649122, 0.31756756756756754, 0.444015444015444, 0.7831325301204819, 0.5258044930176078, 0.8861788617886179, 0.7701149425287357, 0.5872933884297521, 0.546875, 0.5820105820105821, 0.6402116402116402, 0.5204819277108435, 0.39375000000000004, 0.5960784313725491, 0.5142857142857143, 0.5004142502071252, 0.4297435897435897, 0.60625, 0.5260977630488815, 0.6716417910447761, 0.6940639269406392, 0.6048177083333333, 0.7025683512841756, 0.6546052631578947, 0.6307692307692307, 0.5808219178082192]\n",
      "{'mean-roc_auc_score': 0.5885257353780913}\n"
     ]
    }
   ],
   "source": [
    "test_scores_v1 = best_dnn.evaluate(test_dataset, [metric], transformers)\n",
    "print(test_scores_v1)"
   ]
  },
  {
   "cell_type": "code",
   "execution_count": 33,
   "metadata": {},
   "outputs": [
    {
     "data": {
      "text/plain": [
       "[(0, 0.6179520221469958)]"
      ]
     },
     "execution_count": 33,
     "metadata": {},
     "output_type": "execute_result"
    },
    {
     "data": {
      "image/png": "[encoded data removed]",
      "text/plain": [
       "<Figure size 720x288 with 1 Axes>"
      ]
     },
     "metadata": {},
     "output_type": "display_data"
    }
   ],
   "source": [
    "import seaborn as sns\n",
    "\n",
    "sns.set(rc={'figure.figsize':(10,4)})\n",
    "sns.set(style=\"whitegrid\")\n",
    "ax = sns.barplot(x=[test_scores['mean-roc_auc_score'],test_scores_v1['mean-roc_auc_score']],\n",
    "                 y=['First Scenario','Second Scenario'])\n",
    "ax.set(xlim=(0, None))"
   ]
  },
  {
   "cell_type": "code",
   "execution_count": null,
   "metadata": {},
   "outputs": [],
   "source": []
  }
 ],
 "metadata": {
  "kernelspec": {
   "display_name": "Python 3",
   "language": "python",
   "name": "python3"
  },
  "language_info": {
   "codemirror_mode": {
    "name": "ipython",
    "version": 3
   },
   "file_extension": ".py",
   "mimetype": "text/x-python",
   "name": "python",
   "nbconvert_exporter": "python",
   "pygments_lexer": "ipython3",
   "version": "3.6.8"
  }
 },
 "nbformat": 4,
 "nbformat_minor": 2
}
