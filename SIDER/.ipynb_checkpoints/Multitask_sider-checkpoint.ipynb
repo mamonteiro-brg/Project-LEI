{
 "cells": [
  {
   "cell_type": "code",
   "execution_count": 1,
   "metadata": {},
   "outputs": [
    {
     "name": "stderr",
     "output_type": "stream",
     "text": [
      "/home/mamonteiro/anaconda3/envs/lei/lib/python3.6/site-packages/sklearn/externals/joblib/__init__.py:15: DeprecationWarning: sklearn.externals.joblib is deprecated in 0.21 and will be removed in 0.23. Please import this functionality directly from joblib, which can be installed with: pip install joblib. If this warning is raised when loading pickled models, you may need to re-serialize those models with scikit-learn 0.21+.\n",
      "  warnings.warn(msg, category=DeprecationWarning)\n"
     ]
    }
   ],
   "source": [
    "import numpy as np\n",
    "import tensorflow as tf\n",
    "import deepchem as dc"
   ]
  },
  {
   "cell_type": "code",
   "execution_count": 2,
   "metadata": {},
   "outputs": [
    {
     "name": "stdout",
     "output_type": "stream",
     "text": [
      "Loading dataset from disk.\n",
      "Loading dataset from disk.\n",
      "Loading dataset from disk.\n"
     ]
    }
   ],
   "source": [
    "sider_tasks, sider_datasets, transformers = dc.molnet.load_sider(featurizer = 'GraphConv')\n",
    "train_dataset, valid_dataset, test_dataset = sider_datasets"
   ]
  },
  {
   "cell_type": "code",
   "execution_count": 3,
   "metadata": {},
   "outputs": [
    {
     "data": {
      "text/plain": [
       "(<deepchem.data.datasets.DiskDataset at 0x7f1c4c2c8b00>,\n",
       " <deepchem.data.datasets.DiskDataset at 0x7f1bffa10278>,\n",
       " <deepchem.data.datasets.DiskDataset at 0x7f1bffa10d30>)"
      ]
     },
     "execution_count": 3,
     "metadata": {},
     "output_type": "execute_result"
    }
   ],
   "source": [
    "sider_datasets"
   ]
  },
  {
   "cell_type": "code",
   "execution_count": 4,
   "metadata": {},
   "outputs": [
    {
     "data": {
      "text/plain": [
       "(1141, 27)"
      ]
     },
     "execution_count": 4,
     "metadata": {},
     "output_type": "execute_result"
    }
   ],
   "source": [
    "train_dataset.y.shape"
   ]
  },
  {
   "cell_type": "code",
   "execution_count": 5,
   "metadata": {},
   "outputs": [
    {
     "name": "stdout",
     "output_type": "stream",
     "text": [
      "[[1. 1. 0. ... 1. 1. 0.]\n",
      " [0. 1. 0. ... 0. 1. 0.]\n",
      " [0. 1. 0. ... 0. 1. 0.]\n",
      " ...\n",
      " [1. 1. 0. ... 1. 1. 1.]\n",
      " [1. 1. 0. ... 1. 1. 1.]\n",
      " [1. 1. 0. ... 1. 1. 1.]]\n"
     ]
    }
   ],
   "source": [
    "print(train_dataset.y)"
   ]
  },
  {
   "cell_type": "code",
   "execution_count": 6,
   "metadata": {},
   "outputs": [
    {
     "data": {
      "text/plain": [
       "(143, 27)"
      ]
     },
     "execution_count": 6,
     "metadata": {},
     "output_type": "execute_result"
    }
   ],
   "source": [
    "valid_dataset.y.shape"
   ]
  },
  {
   "cell_type": "code",
   "execution_count": 7,
   "metadata": {},
   "outputs": [
    {
     "data": {
      "text/plain": [
       "(143, 27)"
      ]
     },
     "execution_count": 7,
     "metadata": {},
     "output_type": "execute_result"
    }
   ],
   "source": [
    "test_dataset.y.shape"
   ]
  },
  {
   "cell_type": "code",
   "execution_count": 8,
   "metadata": {},
   "outputs": [],
   "source": [
    "featurizer = dc.feat.CircularFingerprint(size = 1024)"
   ]
  },
  {
   "cell_type": "code",
   "execution_count": 9,
   "metadata": {},
   "outputs": [],
   "source": [
    "loader = dc.data.CSVLoader(\n",
    "      tasks=sider_tasks, smiles_field=\"smiles\",\n",
    "      featurizer=featurizer)"
   ]
  },
  {
   "cell_type": "code",
   "execution_count": 10,
   "metadata": {},
   "outputs": [
    {
     "name": "stdout",
     "output_type": "stream",
     "text": [
      "Loading raw samples now.\n",
      "shard_size: 8192\n",
      "About to start loading CSV from sider.csv\n",
      "Loading shard 1 of size 8192.\n",
      "Featurizing sample 0\n",
      "Featurizing sample 1000\n",
      "TIMING: featurizing shard 0 took 1.951 s\n",
      "TIMING: dataset construction took 2.003 s\n",
      "Loading dataset from disk.\n"
     ]
    }
   ],
   "source": [
    "dataset = loader.featurize('sider.csv')"
   ]
  },
  {
   "cell_type": "code",
   "execution_count": 11,
   "metadata": {},
   "outputs": [
    {
     "data": {
      "text/plain": [
       "['Hepatobiliary disorders',\n",
       " 'Metabolism and nutrition disorders',\n",
       " 'Product issues',\n",
       " 'Eye disorders',\n",
       " 'Investigations',\n",
       " 'Musculoskeletal and connective tissue disorders',\n",
       " 'Gastrointestinal disorders',\n",
       " 'Social circumstances',\n",
       " 'Immune system disorders',\n",
       " 'Reproductive system and breast disorders',\n",
       " 'Neoplasms benign, malignant and unspecified (incl cysts and polyps)',\n",
       " 'General disorders and administration site conditions',\n",
       " 'Endocrine disorders',\n",
       " 'Surgical and medical procedures',\n",
       " 'Vascular disorders',\n",
       " 'Blood and lymphatic system disorders',\n",
       " 'Skin and subcutaneous tissue disorders',\n",
       " 'Congenital, familial and genetic disorders',\n",
       " 'Infections and infestations',\n",
       " 'Respiratory, thoracic and mediastinal disorders',\n",
       " 'Psychiatric disorders',\n",
       " 'Renal and urinary disorders',\n",
       " 'Pregnancy, puerperium and perinatal conditions',\n",
       " 'Ear and labyrinth disorders',\n",
       " 'Cardiac disorders',\n",
       " 'Nervous system disorders',\n",
       " 'Injury, poisoning and procedural complications']"
      ]
     },
     "execution_count": 11,
     "metadata": {},
     "output_type": "execute_result"
    }
   ],
   "source": [
    "sider_tasks"
   ]
  },
  {
   "cell_type": "code",
   "execution_count": 12,
   "metadata": {},
   "outputs": [
    {
     "name": "stdout",
     "output_type": "stream",
     "text": [
      "Computing train/valid/test indices\n",
      "TIMING: dataset construction took 0.094 s\n",
      "Loading dataset from disk.\n",
      "TIMING: dataset construction took 0.026 s\n",
      "Loading dataset from disk.\n",
      "TIMING: dataset construction took 0.028 s\n",
      "Loading dataset from disk.\n"
     ]
    }
   ],
   "source": [
    "splitter = dc.splits.RandomSplitter('sider.csv')\n",
    "train_dataset, valid_dataset, test_dataset = splitter.train_valid_test_split(\n",
    "    dataset)\n",
    "#NOTE THE RENAMING:\n",
    "valid_dataset, test_dataset = test_dataset, valid_dataset\n"
   ]
  },
  {
   "cell_type": "code",
   "execution_count": 13,
   "metadata": {},
   "outputs": [],
   "source": [
    "params_dict = {\"activation\": [\"relu\"],\n",
    "               \"momentum\": [.9],\n",
    "               \"penalty\": [0.]\n",
    "              }\n",
    "\n",
    "n_features = train_dataset.get_data_shape()[0]\n",
    "def model_builder(model_params, model_dir):\n",
    "    model = dc.models.MultitaskClassifier(\n",
    "    len(sider_tasks), n_features, **model_params)\n",
    "    return model"
   ]
  },
  {
   "cell_type": "code",
   "execution_count": 14,
   "metadata": {},
   "outputs": [
    {
     "name": "stdout",
     "output_type": "stream",
     "text": [
      "Fitting model 1/1\n",
      "hyperparameters: {'activation': 'relu', 'momentum': 0.9, 'penalty': 0.0}\n",
      "WARNING:tensorflow:From /home/mamonteiro/anaconda3/envs/lei/lib/python3.6/site-packages/tensorflow/python/ops/resource_variable_ops.py:435: colocate_with (from tensorflow.python.framework.ops) is deprecated and will be removed in a future version.\n",
      "Instructions for updating:\n",
      "Colocations handled automatically by placer.\n"
     ]
    },
    {
     "name": "stderr",
     "output_type": "stream",
     "text": [
      "WARNING:tensorflow:From /home/mamonteiro/anaconda3/envs/lei/lib/python3.6/site-packages/tensorflow/python/ops/resource_variable_ops.py:435: colocate_with (from tensorflow.python.framework.ops) is deprecated and will be removed in a future version.\n",
      "Instructions for updating:\n",
      "Colocations handled automatically by placer.\n"
     ]
    },
    {
     "name": "stdout",
     "output_type": "stream",
     "text": [
      "computed_metrics: [0.6118935837245696, 0.5471074380165288, 0.6126760563380282, 0.5977011494252873, 0.6690865093768905, 0.5738167607468518, 0.7098560354374308, 0.6104053236539625, 0.5766843971631206, 0.6948356807511737, 0.682932578972183, 0.5110192837465566, 0.5593167701863353, 0.5280511811023623, 0.5357142857142858, 0.6768665850673194, 0.6475826972010179, 0.4962732919254658, 0.5612947658402204, 0.6042899408284024, 0.5647598488936859, 0.5846276383910792, 0.5764462809917356, 0.6047520661157024, 0.5403111739745403, 0.7258953168044078, 0.5602409638554217]\n",
      "Model 1/1, Metric mean-roc_auc_score, Validation set 0: 0.598683\n",
      "\tbest_validation_score so far: 0.598683\n",
      "computed_metrics: [0.9305686560999217, 0.9079706603250564, 0.917675204052913, 0.92200485995321, 0.9355027766568667, 0.9164193867457964, 0.9725139002825631, 0.9283839580065936, 0.9166272193795131, 0.9198377581120943, 0.9181565188058695, 0.9615192862765678, 0.9300174703925131, 0.9043591654247392, 0.9263188583840758, 0.9307367575615108, 0.9706712223079467, 0.925558004960044, 0.9228907867494824, 0.9219246656017555, 0.930064219981021, 0.9235943072359432, 0.9263042650418889, 0.9067225463863419, 0.9259228398380103, 0.9718432127422673, 0.9164024475038242]\n",
      "Best hyperparameters: ('relu', 0.9, 0.0)\n",
      "train_score: 0.928908\n",
      "validation_score: 0.598683\n"
     ]
    }
   ],
   "source": [
    "\n",
    "metric = dc.metrics.Metric(dc.metrics.roc_auc_score, np.mean)\n",
    "optimizer = dc.hyper.HyperparamOpt(model_builder)\n",
    "best_dnn, best_hyperparams, all_results = optimizer.hyperparam_search(\n",
    "    params_dict, train_dataset, valid_dataset, [], metric)"
   ]
  },
  {
   "cell_type": "code",
   "execution_count": 26,
   "metadata": {},
   "outputs": [
    {
     "data": {
      "text/plain": [
       "<deepchem.feat.fingerprints.CircularFingerprint at 0x7f1c4c2c83c8>"
      ]
     },
     "execution_count": 26,
     "metadata": {},
     "output_type": "execute_result"
    }
   ],
   "source": [
    "featurizer"
   ]
  },
  {
   "cell_type": "code",
   "execution_count": 15,
   "metadata": {},
   "outputs": [
    {
     "data": {
      "text/plain": [
       "MultitaskClassifier(activation_fns=None, bias_init_consts=None, dropouts=None,\n",
       "                    layer_sizes=None, n_classes=2, n_features=1024, n_tasks=27,\n",
       "                    weight_decay_penalty=None, weight_decay_penalty_type=None,\n",
       "                    weight_init_stddevs=None)"
      ]
     },
     "execution_count": 15,
     "metadata": {},
     "output_type": "execute_result"
    }
   ],
   "source": [
    "best_dnn"
   ]
  },
  {
   "cell_type": "code",
   "execution_count": 16,
   "metadata": {},
   "outputs": [
    {
     "data": {
      "text/plain": [
       "('relu', 0.9, 0.0)"
      ]
     },
     "execution_count": 16,
     "metadata": {},
     "output_type": "execute_result"
    }
   ],
   "source": [
    "best_hyperparams"
   ]
  },
  {
   "cell_type": "code",
   "execution_count": 17,
   "metadata": {},
   "outputs": [
    {
     "data": {
      "text/plain": [
       "{\"('relu', 0.9, 0.0)\": 0.5986828742312802}"
      ]
     },
     "execution_count": 17,
     "metadata": {},
     "output_type": "execute_result"
    }
   ],
   "source": [
    "all_results"
   ]
  },
  {
   "cell_type": "code",
   "execution_count": 18,
   "metadata": {},
   "outputs": [],
   "source": [
    "model=model_builder(params_dict,params_dict)"
   ]
  },
  {
   "cell_type": "code",
   "execution_count": 109,
   "metadata": {},
   "outputs": [
    {
     "data": {
      "text/plain": [
       "99.48109311777917"
      ]
     },
     "execution_count": 109,
     "metadata": {},
     "output_type": "execute_result"
    }
   ],
   "source": [
    "model.fit(train_dataset, nb_epoch=100)"
   ]
  },
  {
   "cell_type": "code",
   "execution_count": 110,
   "metadata": {},
   "outputs": [],
   "source": [
    "obj=best_dnn.fit(train_dataset,**params_dict,epochs=100)"
   ]
  },
  {
   "cell_type": "code",
   "execution_count": 111,
   "metadata": {},
   "outputs": [
    {
     "data": {
      "text/plain": [
       "195.0651073773702"
      ]
     },
     "execution_count": 111,
     "metadata": {},
     "output_type": "execute_result"
    }
   ],
   "source": [
    "obj"
   ]
  },
  {
   "cell_type": "code",
   "execution_count": 112,
   "metadata": {},
   "outputs": [],
   "source": [
    "metric = dc.metrics.Metric(dc.metrics.roc_auc_score, np.mean)"
   ]
  },
  {
   "cell_type": "code",
   "execution_count": 113,
   "metadata": {},
   "outputs": [
    {
     "name": "stdout",
     "output_type": "stream",
     "text": [
      "computed_metrics: [0.9997293956297395, 1.0, 1.0, 1.0, 1.0, 1.0, 1.0, 0.999989455814591, 0.9999961566547523, 0.9999938536807232, 1.0, 1.0, 1.0, 0.9994710504106787, 0.9999912448892041, 1.0, 1.0, 0.9999819647126721, 0.9999926311833582, 0.999968154641063, 0.9999944733875187, 1.0, 1.0, 1.0, 0.9999945014662757, 1.0, 0.9999693468842811]\n",
      "computed_metrics: [0.6750298685782556, 0.7306122448979592, 0.5460992907801419, 0.7058702791461412, 0.7056489262371615, 0.512534435261708, 0.8540145985401462, 0.5374361430395913, 0.5733044365119837, 0.7026269185360094, 0.7079148732663797, 0.7629629629629631, 0.6633999013806706, 0.48342670401493926, 0.6482153660012099, 0.6825275397796817, 0.5433298319327731, 0.7266666666666667, 0.6287790697674418, 0.6223254504504505, 0.6783923303834809, 0.5175268817204302, 0.6701907131011609, 0.5514041633935586, 0.6875294672324375, 0.7079831932773109, 0.6103920118343196]\n"
     ]
    }
   ],
   "source": [
    "train_scores = model.evaluate(train_dataset, [metric], transformers)\n",
    "test_scores = model.evaluate(test_dataset, [metric], transformers)"
   ]
  },
  {
   "cell_type": "code",
   "execution_count": 114,
   "metadata": {},
   "outputs": [
    {
     "name": "stdout",
     "output_type": "stream",
     "text": [
      "{'mean-roc_auc_score': 0.9999656381242539}\n",
      "{'mean-roc_auc_score': 0.6457831210627768}\n"
     ]
    }
   ],
   "source": [
    "print(train_scores)\n",
    "print(test_scores)"
   ]
  },
  {
   "cell_type": "code",
   "execution_count": 115,
   "metadata": {},
   "outputs": [
    {
     "data": {
      "text/plain": [
       "195.0651073773702"
      ]
     },
     "execution_count": 115,
     "metadata": {},
     "output_type": "execute_result"
    }
   ],
   "source": [
    "obj"
   ]
  },
  {
   "cell_type": "code",
   "execution_count": 116,
   "metadata": {},
   "outputs": [
    {
     "name": "stdout",
     "output_type": "stream",
     "text": [
      "TIMING: dataset construction took 0.020 s\n",
      "Loading dataset from disk.\n"
     ]
    }
   ],
   "source": [
    "x = train_dataset.merge([valid_dataset],merge_dir=\"/home/mamonteiro/source-code/Project-LEI/SIDER/\")"
   ]
  },
  {
   "cell_type": "code",
   "execution_count": 117,
   "metadata": {},
   "outputs": [
    {
     "data": {
      "text/plain": [
       "(1024,)"
      ]
     },
     "execution_count": 117,
     "metadata": {},
     "output_type": "execute_result"
    }
   ],
   "source": [
    "x.get_data_shape()"
   ]
  },
  {
   "cell_type": "code",
   "execution_count": null,
   "metadata": {},
   "outputs": [],
   "source": []
  }
 ],
 "metadata": {
  "kernelspec": {
   "display_name": "Python 3",
   "language": "python",
   "name": "python3"
  },
  "language_info": {
   "codemirror_mode": {
    "name": "ipython",
    "version": 3
   },
   "file_extension": ".py",
   "mimetype": "text/x-python",
   "name": "python",
   "nbconvert_exporter": "python",
   "pygments_lexer": "ipython3",
   "version": "3.6.8"
  }
 },
 "nbformat": 4,
 "nbformat_minor": 2
}
