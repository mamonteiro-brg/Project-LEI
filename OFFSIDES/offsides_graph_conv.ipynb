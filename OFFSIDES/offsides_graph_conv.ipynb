{
 "cells": [
  {
   "cell_type": "markdown",
   "metadata": {},
   "source": [
    "## Graph Convolutions For SIDER"
   ]
  },
  {
   "cell_type": "markdown",
   "metadata": {},
   "source": [
    "Featurization=ConvMolFeaturizer\n",
    "\n",
    "É utilizado com modelos GraphConvModel.\n",
    "\n",
    "Alternativamente, também implementamos este modelo (GraphConvModel) usando layers do TensorGraph"
   ]
  },
  {
   "cell_type": "code",
   "execution_count": null,
   "metadata": {},
   "outputs": [],
   "source": []
  },
  {
   "cell_type": "code",
   "execution_count": 1,
   "metadata": {},
   "outputs": [
    {
     "name": "stderr",
     "output_type": "stream",
     "text": [
      "/home/mamonteiro/anaconda3/envs/lei/lib/python3.6/site-packages/sklearn/externals/joblib/__init__.py:15: DeprecationWarning: sklearn.externals.joblib is deprecated in 0.21 and will be removed in 0.23. Please import this functionality directly from joblib, which can be installed with: pip install joblib. If this warning is raised when loading pickled models, you may need to re-serialize those models with scikit-learn 0.21+.\n",
      "  warnings.warn(msg, category=DeprecationWarning)\n"
     ]
    }
   ],
   "source": [
    "\"\"\"\n",
    "OFFSIDES dataset loader.\n",
    "\"\"\"\n",
    "from __future__ import division\n",
    "from __future__ import unicode_literals\n",
    "\n",
    "import os\n",
    "import logging\n",
    "import deepchem\n",
    "\n",
    "logger = logging.getLogger(__name__)\n",
    "\n",
    "\n",
    "def load_offsides(featurizer='ECFP', split='index', reload=True, K=4):\n",
    "  logger.info(\"About to load ofssides dataset.\")\n",
    "  data_dir = deepchem.utils.get_data_dir()\n",
    "  if reload:\n",
    "    save_dir = os.path.join(data_dir, \"offsides/\" + featurizer + \"/\" + str(split))\n",
    "\n",
    "  dataset_file = os.path.join(\"/home/mamonteiro/source-code/Project-LEI/OFFSIDES/\", \"offsides.csv.gz\")\n",
    "\n",
    "\n",
    "  dataset = deepchem.utils.save.load_from_disk(dataset_file)\n",
    "  logger.info(\"Columns of dataset: %s\" % str(dataset.columns.values))\n",
    "  logger.info(\"Number of examples in dataset: %s\" % str(dataset.shape[0]))\n",
    "  OFFSIDES_tasks = dataset.columns.values[1:].tolist()\n",
    "\n",
    "  if reload:\n",
    "    loaded, all_dataset, transformers = deepchem.utils.save.load_dataset_from_disk(\n",
    "        save_dir)\n",
    "    if loaded:\n",
    "      return OFFSIDES_tasks, all_dataset, transformers\n",
    "\n",
    "  # Featurize OFFSIDES dataset\n",
    "  logger.info(\"About to featurize OFFSIDES dataset.\")\n",
    "  if featurizer == 'ECFP':\n",
    "    featurizer = deepchem.feat.CircularFingerprint(size=1024)\n",
    "  elif featurizer == 'GraphConv':\n",
    "    featurizer = deepchem.feat.ConvMolFeaturizer()\n",
    "  elif featurizer == 'Weave':\n",
    "    featurizer = deepchem.feat.WeaveFeaturizer()\n",
    "  elif featurizer == 'Raw':\n",
    "    featurizer = deepchem.feat.RawFeaturizer()\n",
    "\n",
    "  logger.info(\"OFFSIDES tasks: %s\" % str(OFFSIDES_tasks))\n",
    "  logger.info(\"%d tasks in total\" % len(OFFSIDES_tasks))\n",
    "\n",
    "  loader = deepchem.data.CSVLoader(\n",
    "      tasks=OFFSIDES_tasks, smiles_field=\"smiles\", featurizer=featurizer)\n",
    "  dataset = loader.featurize(dataset_file)\n",
    "  logger.info(\"%d datapoints in OFFSIDES dataset\" % len(dataset))\n",
    "\n",
    "  # Initialize transformers\n",
    "  transformers = [\n",
    "      deepchem.trans.BalancingTransformer(transform_w=True, dataset=dataset)\n",
    "  ]\n",
    "  logger.info(\"About to transform data\")\n",
    "  for transformer in transformers:\n",
    "    dataset = transformer.transform(dataset)\n",
    "\n",
    "  if split == None:\n",
    "    return OFFSIDES_tasks, (dataset, None, None), transformers\n",
    "\n",
    "  splitters = {\n",
    "      'index': deepchem.splits.IndexSplitter(),\n",
    "      'random': deepchem.splits.RandomSplitter(),\n",
    "      'scaffold': deepchem.splits.ScaffoldSplitter(),\n",
    "      'task': deepchem.splits.TaskSplitter()\n",
    "  }\n",
    "  splitter = splitters[split]\n",
    "  if split == 'task':\n",
    "    fold_datasets = splitter.k_fold_split(dataset, K)\n",
    "    all_dataset = fold_datasets\n",
    "  else:\n",
    "    train, valid, test = splitter.train_valid_test_split(dataset)\n",
    "    if reload:\n",
    "      deepchem.utils.save.save_dataset_to_disk(save_dir, train, valid, test,\n",
    "                                               transformers)\n",
    "    all_dataset = (train, valid, test)\n",
    "  return OFFSIDES_tasks, all_dataset, transformers\n"
   ]
  },
  {
   "cell_type": "code",
   "execution_count": 2,
   "metadata": {},
   "outputs": [
    {
     "data": {
      "text/plain": [
       "'/tmp'"
      ]
     },
     "execution_count": 2,
     "metadata": {},
     "output_type": "execute_result"
    }
   ],
   "source": [
    "deepchem.utils.get_data_dir()"
   ]
  },
  {
   "cell_type": "code",
   "execution_count": null,
   "metadata": {},
   "outputs": [],
   "source": []
  },
  {
   "cell_type": "code",
   "execution_count": 3,
   "metadata": {},
   "outputs": [],
   "source": [
    "from __future__ import division\n",
    "from __future__ import print_function\n",
    "from __future__ import unicode_literals\n",
    "\n",
    "import warnings\n",
    "warnings.filterwarnings('ignore')"
   ]
  },
  {
   "cell_type": "code",
   "execution_count": 4,
   "metadata": {},
   "outputs": [],
   "source": [
    "import numpy as np\n",
    "import tensorflow as tf\n",
    "import deepchem as dc\n",
    "import pandas as pd\n",
    "from deepchem.models.tensorgraph.models.graph_models import GraphConvModel\n"
   ]
  },
  {
   "cell_type": "markdown",
   "metadata": {},
   "source": [
    "# Load OFFSIDES Dataset"
   ]
  },
  {
   "cell_type": "markdown",
   "metadata": {},
   "source": [
    "All MoleculeNet datasets are split into training, validation and test subsets following a 80/10/10 ratio. \n",
    "\n",
    "Different  splittings are recommended depending on each dataset's contents."
   ]
  },
  {
   "cell_type": "code",
   "execution_count": 5,
   "metadata": {
    "scrolled": true
   },
   "outputs": [
    {
     "name": "stdout",
     "output_type": "stream",
     "text": [
      "Loading dataset from disk.\n",
      "Loading dataset from disk.\n",
      "Loading dataset from disk.\n"
     ]
    }
   ],
   "source": [
    "sider_tasks, sider_datasets, transformers = load_offsides(featurizer='GraphConv',reload=True)\n",
    "train_dataset, valid_dataset, test_dataset = sider_datasets"
   ]
  },
  {
   "cell_type": "code",
   "execution_count": 6,
   "metadata": {},
   "outputs": [
    {
     "data": {
      "text/plain": [
       "1141"
      ]
     },
     "execution_count": 6,
     "metadata": {},
     "output_type": "execute_result"
    }
   ],
   "source": [
    "len(train_dataset)"
   ]
  },
  {
   "cell_type": "code",
   "execution_count": 7,
   "metadata": {},
   "outputs": [
    {
     "data": {
      "text/plain": [
       "['Renal and urinary disorders',\n",
       " 'Respiratory, thoracic and mediastinal disorders',\n",
       " 'Skin and subcutaneous tissue disorders',\n",
       " 'Congenital, familial and genetic disorders',\n",
       " 'Hepatobiliary disorders',\n",
       " 'Infections and infestations',\n",
       " 'Cardiac disorders',\n",
       " 'Ear and labyrinth disorders',\n",
       " 'Investigations',\n",
       " 'Vascular disorders',\n",
       " 'Endocrine disorders',\n",
       " 'Immune system disorders',\n",
       " 'Product issues',\n",
       " 'Blood and lymphatic system disorders',\n",
       " 'Pregnancy, puerperium and perinatal conditions',\n",
       " 'Surgical and medical procedures',\n",
       " 'Psychiatric disorders',\n",
       " 'Reproductive system and breast disorders',\n",
       " 'Social circumstances',\n",
       " 'Eye disorders',\n",
       " 'Gastrointestinal disorders',\n",
       " 'General disorders and administration site conditions',\n",
       " 'Neoplasms benign, malignant and unspecified (incl cysts and polyps)',\n",
       " 'Injury, poisoning and procedural complications',\n",
       " 'Musculoskeletal and connective tissue disorders',\n",
       " 'Metabolism and nutrition disorders',\n",
       " 'Nervous system disorders']"
      ]
     },
     "execution_count": 7,
     "metadata": {},
     "output_type": "execute_result"
    }
   ],
   "source": [
    "sider_tasks"
   ]
  },
  {
   "cell_type": "markdown",
   "metadata": {},
   "source": [
    "Different classification and regress metrics are recommended based on previous works and dataset's contents:\n",
    "          ROC-AUC:  Area Under Curve of Receiver Operating Characteristics\n",
    "          PRC-AUC:  Area Under Curve of Precision Recall Curve\n",
    "          RMSE: Root-Mean-Square Error\n",
    "          MAE: Mean Absolute Error"
   ]
  },
  {
   "cell_type": "code",
   "execution_count": 8,
   "metadata": {},
   "outputs": [],
   "source": [
    "num_epochs = [10,20,30,40,50,60]\n",
    "losses = []\n",
    "loss =0\n",
    "\n",
    "model = GraphConvModel(\n",
    "    27, batch_size=50, mode='classification')"
   ]
  },
  {
   "cell_type": "code",
   "execution_count": 9,
   "metadata": {
    "scrolled": true
   },
   "outputs": [
    {
     "name": "stdout",
     "output_type": "stream",
     "text": [
      "WARNING:tensorflow:From /home/mamonteiro/anaconda3/envs/lei/lib/python3.6/site-packages/tensorflow/python/ops/resource_variable_ops.py:435: colocate_with (from tensorflow.python.framework.ops) is deprecated and will be removed in a future version.\n",
      "Instructions for updating:\n",
      "Colocations handled automatically by placer.\n"
     ]
    },
    {
     "name": "stderr",
     "output_type": "stream",
     "text": [
      "WARNING:tensorflow:From /home/mamonteiro/anaconda3/envs/lei/lib/python3.6/site-packages/tensorflow/python/ops/resource_variable_ops.py:435: colocate_with (from tensorflow.python.framework.ops) is deprecated and will be removed in a future version.\n",
      "Instructions for updating:\n",
      "Colocations handled automatically by placer.\n"
     ]
    },
    {
     "name": "stdout",
     "output_type": "stream",
     "text": [
      "WARNING:tensorflow:From /home/mamonteiro/anaconda3/envs/lei/lib/python3.6/site-packages/tensorflow/python/ops/math_grad.py:317: div (from tensorflow.python.ops.math_ops) is deprecated and will be removed in a future version.\n",
      "Instructions for updating:\n",
      "Deprecated in favor of operator or tf.math.divide.\n"
     ]
    },
    {
     "name": "stderr",
     "output_type": "stream",
     "text": [
      "WARNING:tensorflow:From /home/mamonteiro/anaconda3/envs/lei/lib/python3.6/site-packages/tensorflow/python/ops/math_grad.py:317: div (from tensorflow.python.ops.math_ops) is deprecated and will be removed in a future version.\n",
      "Instructions for updating:\n",
      "Deprecated in favor of operator or tf.math.divide.\n"
     ]
    },
    {
     "name": "stdout",
     "output_type": "stream",
     "text": [
      "WARNING:tensorflow:From /home/mamonteiro/anaconda3/envs/lei/lib/python3.6/site-packages/tensorflow/python/ops/math_ops.py:3066: to_int32 (from tensorflow.python.ops.math_ops) is deprecated and will be removed in a future version.\n",
      "Instructions for updating:\n",
      "Use tf.cast instead.\n"
     ]
    },
    {
     "name": "stderr",
     "output_type": "stream",
     "text": [
      "WARNING:tensorflow:From /home/mamonteiro/anaconda3/envs/lei/lib/python3.6/site-packages/tensorflow/python/ops/math_ops.py:3066: to_int32 (from tensorflow.python.ops.math_ops) is deprecated and will be removed in a future version.\n",
      "Instructions for updating:\n",
      "Use tf.cast instead.\n"
     ]
    },
    {
     "name": "stdout",
     "output_type": "stream",
     "text": [
      "Epoch 10 loss: 763.515783\n",
      "Epoch 20 loss: 606.968235\n",
      "Epoch 30 loss: 360.417149\n",
      "WARNING:tensorflow:From /home/mamonteiro/anaconda3/envs/lei/lib/python3.6/site-packages/tensorflow/python/training/checkpoint_management.py:624: remove_checkpoint (from tensorflow.python.training.checkpoint_management) is deprecated and will be removed in a future version.\n",
      "Instructions for updating:\n",
      "Use standard file APIs to delete files with this prefix.\n"
     ]
    },
    {
     "name": "stderr",
     "output_type": "stream",
     "text": [
      "WARNING:tensorflow:From /home/mamonteiro/anaconda3/envs/lei/lib/python3.6/site-packages/tensorflow/python/training/checkpoint_management.py:624: remove_checkpoint (from tensorflow.python.training.checkpoint_management) is deprecated and will be removed in a future version.\n",
      "Instructions for updating:\n",
      "Use standard file APIs to delete files with this prefix.\n"
     ]
    },
    {
     "name": "stdout",
     "output_type": "stream",
     "text": [
      "Epoch 40 loss: 201.726942\n",
      "Epoch 50 loss: 125.459469\n",
      "Epoch 60 loss: 93.825830\n"
     ]
    }
   ],
   "source": [
    "for i in num_epochs:\n",
    "    # Set nb_epoch=10 for better results.\n",
    "    loss = model.fit(train_dataset, nb_epoch=i)\n",
    "    print(\"Epoch %d loss: %f\" % (i, loss))\n",
    "    losses.append(loss)"
   ]
  },
  {
   "cell_type": "code",
   "execution_count": 11,
   "metadata": {},
   "outputs": [
    {
     "data": {
      "text/plain": [
       "<module 'matplotlib.pyplot' from '/home/mamonteiro/anaconda3/envs/lei/lib/python3.6/site-packages/matplotlib/pyplot.py'>"
      ]
     },
     "execution_count": 11,
     "metadata": {},
     "output_type": "execute_result"
    },
    {
     "data": {
      "image/png": "[encoded data removed]",
      "text/plain": [
       "<Figure size 720x504 with 1 Axes>"
      ]
     },
     "metadata": {
      "needs_background": "light"
     },
     "output_type": "display_data"
    }
   ],
   "source": [
    "import matplotlib.pyplot as plot\n",
    "\n",
    "plot.figure(figsize=(10,7))\n",
    "plot.ylabel(\"Loss\")\n",
    "plot.xlabel(\"Epoch\")\n",
    "x = num_epochs\n",
    "y = losses\n",
    "plot.scatter(x, y)\n",
    "plot"
   ]
  },
  {
   "cell_type": "code",
   "execution_count": 12,
   "metadata": {},
   "outputs": [
    {
     "name": "stdout",
     "output_type": "stream",
     "text": [
      "Evaluating model\n",
      "computed_metrics: [0.9995563770794824, 0.9935007037219893, 1.0, 0.9978115998391658, 0.9948641436196022, 0.993060344514696, 0.9970579111653968, 1.0, 0.9852787355208615, 0.9986589896902143, 1.0, 0.9910123746532963, 0.9997095446164725, 0.9999941121055111, 0.994429801918322, 0.9981066023507386, 0.9883493946132937, 0.9999799085840575, 0.9949684830853007, 0.9896927430766121, 0.9954923002997507, 0.9957225317807215, 1.0, 0.9996058069562754, 0.9971469486671073, 0.9924142743221691, 0.9965982870562231]\n",
      "Training ROC-AUC Score: 0.996037\n"
     ]
    }
   ],
   "source": [
    "metric = dc.metrics.Metric(\n",
    "    dc.metrics.roc_auc_score, np.mean, mode=\"classification\")\n",
    "\n",
    "print(\"Evaluating model\")\n",
    "train_scores_1 = model.evaluate(train_dataset, [metric], transformers)\n",
    "print(\"Training ROC-AUC Score: %f\" % train_scores_1[\"mean-roc_auc_score\"])\n"
   ]
  },
  {
   "cell_type": "code",
   "execution_count": 13,
   "metadata": {},
   "outputs": [
    {
     "name": "stdout",
     "output_type": "stream",
     "text": [
      "computed_metrics: [0.6507120253164557, 0.6294200848656294, 0.5140845070422535, 0.5383846461415434, 0.6679188580015026, 0.5739348370927319, 0.5967607973421927, 0.5585593220338982, 0.5640514184397163, 0.6353797717434082, 0.6427364864864864, 0.528236914600551, 0.5587359943977591, 0.5382113821138211, 0.6224188790560472, 0.6762102196324518, 0.5724655511811023, 0.6666666666666666, 0.5202325581395348, 0.5925526173772261, 0.5576744186046512, 0.6170212765957447, 0.5992366412213741, 0.6246430028559771, 0.6353653070372031, 0.6375636132315522, 0.5443307757885764]\n",
      "Validation ROC-AUC Score: 0.594945\n"
     ]
    }
   ],
   "source": [
    "valid_scores_1 = model.evaluate(valid_dataset, [metric], transformers)\n",
    "print(\"Validation ROC-AUC Score: %f\" % valid_scores_1[\"mean-roc_auc_score\"])"
   ]
  },
  {
   "cell_type": "code",
   "execution_count": 14,
   "metadata": {},
   "outputs": [
    {
     "name": "stdout",
     "output_type": "stream",
     "text": [
      "computed_metrics: [0.6335047468354431, 0.6236146632566071, 0.5629432624113475, 0.6109803921568628, 0.7277676950998185, 0.6412698412698412, 0.7524606299212598, 0.5812324929971988, 0.5768707482993198, 0.6919014084507042, 0.638560157790927, 0.5796874999999999, 0.7017796610169492, 0.5471521942110178, 0.5471475719000471, 0.5938256658595642, 0.7012138188608776, 0.6411064425770308, 0.62677304964539, 0.6270627062706271, 0.5510204081632654, 0.6591187270501835, 0.49722222222222223, 0.6668684422921711, 0.6440251572327045, 0.7151041666666667, 0.596287451150673]\n",
      "Validation ROC-AUC Score: 0.627278\n"
     ]
    }
   ],
   "source": [
    "test_scores_1 = model.evaluate(test_dataset, [metric], transformers)\n",
    "print(\"Validation ROC-AUC Score: %f\" % test_scores_1[\"mean-roc_auc_score\"])"
   ]
  },
  {
   "cell_type": "code",
   "execution_count": 15,
   "metadata": {},
   "outputs": [],
   "source": [
    "num_epochs = [60,70,80,90]\n",
    "losses = []\n",
    "\n",
    "model = GraphConvModel(\n",
    "    len(sider_tasks), batch_size=50, mode='classification')\n",
    "# Set nb_epoch=10 for better results.\n"
   ]
  },
  {
   "cell_type": "code",
   "execution_count": 16,
   "metadata": {
    "scrolled": true
   },
   "outputs": [
    {
     "name": "stdout",
     "output_type": "stream",
     "text": [
      "Epoch 60 loss: 761.310948\n",
      "Epoch 70 loss: 658.046633\n",
      "Epoch 80 loss: 564.392338\n",
      "Epoch 90 loss: 477.114929\n"
     ]
    }
   ],
   "source": [
    "\n",
    "for i in num_epochs:\n",
    "    # Set nb_epoch=10 for better results.\n",
    "    loss = model.fit(train_dataset, nb_epoch=10)\n",
    "    print(\"Epoch %d loss: %f\" % (i, loss))\n",
    "    losses.append(loss)"
   ]
  },
  {
   "cell_type": "code",
   "execution_count": 17,
   "metadata": {
    "scrolled": true
   },
   "outputs": [
    {
     "data": {
      "text/plain": [
       "<module 'matplotlib.pyplot' from '/home/mamonteiro/anaconda3/envs/lei/lib/python3.6/site-packages/matplotlib/pyplot.py'>"
      ]
     },
     "execution_count": 17,
     "metadata": {},
     "output_type": "execute_result"
    },
    {
     "data": {
      "image/png": "[encoded data removed]",
      "text/plain": [
       "<Figure size 720x504 with 1 Axes>"
      ]
     },
     "metadata": {
      "needs_background": "light"
     },
     "output_type": "display_data"
    }
   ],
   "source": [
    "import matplotlib.pyplot as plot\n",
    "\n",
    "plot.figure(figsize=(10,7))\n",
    "plot.ylabel(\"Loss\")\n",
    "plot.xlabel(\"Epoch\")\n",
    "x = num_epochs\n",
    "y = losses\n",
    "plot.scatter(x, y)\n",
    "plot"
   ]
  },
  {
   "cell_type": "code",
   "execution_count": 18,
   "metadata": {
    "scrolled": true
   },
   "outputs": [
    {
     "name": "stdout",
     "output_type": "stream",
     "text": [
      "Evaluating model\n",
      "computed_metrics: [0.8859334565619224, 0.8523289144996206, 0.9993901866966882, 0.8761741228272548, 0.908498301795245, 0.8750281288336879, 0.9210676825839974, 0.9632780253403699, 0.8424592259714098, 0.9151272729509607, 0.9370264334457603, 0.8986114074390157, 0.9415258589481306, 0.9463789448893076, 0.8772654403173654, 0.9076103208862076, 0.9160983444526809, 0.9260434979155155, 0.8300883965536534, 0.8568526379624014, 0.8961169713749628, 0.8802942844749926, 0.9813568670711528, 0.886654101763398, 0.8741426158478374, 0.9351874003189792, 0.8651954689874292]\n",
      "Training ROC-AUC Score: 0.903546\n"
     ]
    }
   ],
   "source": [
    "metric = dc.metrics.Metric(\n",
    "    dc.metrics.roc_auc_score, np.mean, mode=\"classification\")\n",
    "\n",
    "print(\"Evaluating model\")\n",
    "train_scores_2 = model.evaluate(train_dataset, [metric], transformers)\n",
    "print(\"Training ROC-AUC Score: %f\" % train_scores_2[\"mean-roc_auc_score\"])\n",
    "\n"
   ]
  },
  {
   "cell_type": "code",
   "execution_count": 19,
   "metadata": {},
   "outputs": [
    {
     "name": "stdout",
     "output_type": "stream",
     "text": [
      "computed_metrics: [0.720134493670886, 0.6282413955681283, 0.6830985915492958, 0.5767692922830867, 0.7607062359128475, 0.568922305764411, 0.7109634551495017, 0.5616949152542373, 0.5802304964539007, 0.6210153482880756, 0.6469594594594594, 0.5778236914600552, 0.5661764705882353, 0.6077235772357723, 0.5994100294985252, 0.6822052891080232, 0.6545275590551181, 0.6167056986729118, 0.6272093023255814, 0.5833783054506205, 0.5758139534883722, 0.6684759009986974, 0.6762086513994912, 0.6150550795593634, 0.6445540116539668, 0.7080152671755726, 0.5835464620630861]\n",
      "Validation ROC-AUC Score: 0.631317\n"
     ]
    }
   ],
   "source": [
    "valid_scores_2 = model.evaluate(valid_dataset, [metric], transformers)\n",
    "print(\"Validation ROC-AUC Score: %f\" % valid_scores_2[\"mean-roc_auc_score\"])"
   ]
  },
  {
   "cell_type": "code",
   "execution_count": 20,
   "metadata": {},
   "outputs": [
    {
     "name": "stdout",
     "output_type": "stream",
     "text": [
      "computed_metrics: [0.7197389240506329, 0.6097080136402386, 0.4787234042553191, 0.5868627450980393, 0.7220205686630368, 0.6113378684807257, 0.7641486220472441, 0.5200746965452847, 0.6689342403628118, 0.6658841940532082, 0.6198224852071006, 0.6098958333333333, 0.6484745762711864, 0.5681605975723623, 0.6685525695426686, 0.5954398708635997, 0.6876750700280112, 0.6167133520074697, 0.7327127659574468, 0.6772748703441773, 0.6458966565349544, 0.6736026111791105, 0.37037037037037035, 0.54317998385795, 0.6209643605870021, 0.8026041666666666, 0.6811767260095527]\n",
      "Validation ROC-AUC Score: 0.633702\n"
     ]
    }
   ],
   "source": [
    "test_scores_2 = model.evaluate(test_dataset, [metric], transformers)\n",
    "print(\"Validation ROC-AUC Score: %f\" % test_scores_2[\"mean-roc_auc_score\"])"
   ]
  },
  {
   "cell_type": "code",
   "execution_count": 21,
   "metadata": {},
   "outputs": [
    {
     "data": {
      "text/plain": [
       "0.6337018571677595"
      ]
     },
     "execution_count": 21,
     "metadata": {},
     "output_type": "execute_result"
    }
   ],
   "source": [
    "type(test_scores_2)\n",
    "test_scores_2['mean-roc_auc_score']"
   ]
  },
  {
   "cell_type": "code",
   "execution_count": 22,
   "metadata": {},
   "outputs": [
    {
     "data": {
      "text/plain": [
       "[(0.55, 0.6653869500261475)]"
      ]
     },
     "execution_count": 22,
     "metadata": {},
     "output_type": "execute_result"
    },
    {
     "data": {
      "image/png": "[encoded data removed]",
      "text/plain": [
       "<Figure size 432x288 with 1 Axes>"
      ]
     },
     "metadata": {},
     "output_type": "display_data"
    }
   ],
   "source": [
    "import seaborn as sns\n",
    "\n",
    "sns.set(style=\"whitegrid\")\n",
    "ax = sns.barplot(x=[test_scores_1['mean-roc_auc_score'],test_scores_2['mean-roc_auc_score']],\n",
    "                 y=['First Scenario','Scenario Scenario'])\n",
    "ax.set(xlim=(0.55, None))"
   ]
  },
  {
   "cell_type": "code",
   "execution_count": 68,
   "metadata": {},
   "outputs": [],
   "source": [
    "# Hiperparameters permitidos pelo deepchem e os valores que são utilizados por defeito\n",
    "#/home/mamonteiro/source-code/knowledge-base/deepchem/deepchem/molnet/preset_hyper_parameters.py"
   ]
  },
  {
   "cell_type": "raw",
   "metadata": {},
   "source": [
    "# hps['graphconv'] = {\n",
    "    'batch_size': 64,\n",
    "    'nb_epoch': 40,\n",
    "    'learning_rate': 0.0005,\n",
    "    'n_filters': 64,\n",
    "    'n_fully_connected_nodes': 128,\n",
    "    'seed': 123\n",
    "}"
   ]
  },
  {
   "cell_type": "raw",
   "metadata": {},
   "source": [
    "batch_size = hyper_parameters['batch_size']\n",
    "nb_epoch = hyper_parameters['nb_epoch']\n",
    "learning_rate = hyper_parameters['learning_rate']\n",
    "n_filters = hyper_parameters['n_filters']\n",
    "n_fully_connected_nodes = hyper_parameters['n_fully_connected_nodes']\n",
    "    "
   ]
  },
  {
   "cell_type": "code",
   "execution_count": 69,
   "metadata": {},
   "outputs": [],
   "source": [
    "params_dict = {'batch_size' : [32,64,128,256],\n",
    "               'nb_epoch': [40,100,200],\n",
    "               'learning_rate': [0.0005,0.5,0.75,1],\n",
    "               'n_filters': [32,64,128],\n",
    "               'n_fully_connected_nodes' : [32,64,128]\n",
    "              }"
   ]
  },
  {
   "cell_type": "code",
   "execution_count": 23,
   "metadata": {},
   "outputs": [],
   "source": [
    "params_dict = {'batch_size' : [32],\n",
    "               'nb_epoch': [10,20,30,40,50,60],\n",
    "               'learning_rate': [0.0005,0.5],\n",
    "               'n_filters': [32,64],\n",
    "               'n_fully_connected_nodes' : [32,64]\n",
    "              }"
   ]
  },
  {
   "cell_type": "code",
   "execution_count": 24,
   "metadata": {},
   "outputs": [
    {
     "data": {
      "text/plain": [
       "1141"
      ]
     },
     "execution_count": 24,
     "metadata": {},
     "output_type": "execute_result"
    }
   ],
   "source": [
    "len(train_dataset)"
   ]
  },
  {
   "cell_type": "code",
   "execution_count": 25,
   "metadata": {},
   "outputs": [],
   "source": [
    "n_features = len(train_dataset)\n",
    "\n",
    "def model_builder(model_params, model_dir):\n",
    "    model = GraphConvModel(\n",
    "            len(sider_tasks), mode='classification',**model_params)\n",
    "    \n",
    "    return model\n",
    "\n"
   ]
  },
  {
   "cell_type": "code",
   "execution_count": null,
   "metadata": {},
   "outputs": [
    {
     "name": "stdout",
     "output_type": "stream",
     "text": [
      "Fitting model 1/48\n",
      "hyperparameters: {'batch_size': 32, 'nb_epoch': 10, 'learning_rate': 0.0005, 'n_filters': 32, 'n_fully_connected_nodes': 32}\n",
      "computed_metrics: [0.6435917721518988, 0.5436115040075435, 0.6830985915492958, 0.5723710515793683, 0.628099173553719, 0.5513784461152882, 0.6705426356589148, 0.6016949152542372, 0.5724734042553192, 0.6038961038961039, 0.6435810810810811, 0.47245179063360876, 0.6102941176470589, 0.6455284552845528, 0.584070796460177, 0.6732406992380099, 0.6692913385826771, 0.6237314597970336, 0.6493023255813953, 0.6270912034538585, 0.5176744186046511, 0.6465479808944855, 0.6507633587786259, 0.5771113831089352, 0.6311071268489468, 0.7334605597964376, 0.5121483375959079]\n",
      "Model 1/48, Metric mean-roc_auc_score, Validation set 0: 0.612524\n",
      "\tbest_validation_score so far: 0.612524\n",
      "Fitting model 2/48\n",
      "hyperparameters: {'batch_size': 32, 'nb_epoch': 10, 'learning_rate': 0.0005, 'n_filters': 32, 'n_fully_connected_nodes': 64}\n",
      "computed_metrics: [0.6679193037974682, 0.4842055634134842, 0.5845070422535211, 0.5831667333066772, 0.6235912847483095, 0.5791979949874686, 0.5741971207087486, 0.6538983050847458, 0.5310283687943262, 0.5651318378591106, 0.5537725225225225, 0.4228650137741047, 0.5297619047619049, 0.6658536585365853, 0.5339233038348083, 0.6922904527117884, 0.6540354330708662, 0.5823575331772053, 0.5937209302325581, 0.5836481381543444, 0.6106976744186046, 0.6118106817194963, 0.7048346055979644, 0.5552835577315381, 0.5965934558493948, 0.6927480916030535, 0.5782182438192668]\n",
      "Model 2/48, Metric mean-roc_auc_score, Validation set 1: 0.592936\n",
      "\tbest_validation_score so far: 0.612524\n",
      "Fitting model 3/48\n",
      "hyperparameters: {'batch_size': 32, 'nb_epoch': 10, 'learning_rate': 0.0005, 'n_filters': 64, 'n_fully_connected_nodes': 32}\n",
      "computed_metrics: [0.6948180379746836, 0.5511551155115513, 0.8028169014084507, 0.6169532187125151, 0.7054845980465816, 0.5052631578947369, 0.6301218161683277, 0.6054237288135593, 0.47052304964539005, 0.6357733175914995, 0.5422297297297298, 0.5764462809917356, 0.6109943977591037, 0.505691056910569, 0.5743362831858407, 0.6828776333482743, 0.6461614173228346, 0.520686963309914, 0.6569767441860466, 0.5353480841878036, 0.6120930232558139, 0.5879287885366913, 0.7735368956743003, 0.5707874337005304, 0.6376064545047064, 0.628498727735369, 0.5607416879795397]\n",
      "Model 3/48, Metric mean-roc_auc_score, Validation set 2: 0.608936\n",
      "\tbest_validation_score so far: 0.612524\n",
      "Fitting model 4/48\n",
      "hyperparameters: {'batch_size': 32, 'nb_epoch': 10, 'learning_rate': 0.0005, 'n_filters': 64, 'n_fully_connected_nodes': 64}\n",
      "computed_metrics: [0.7047072784810127, 0.5464403583215465, 0.4154929577464789, 0.5811675329868053, 0.6326070623591284, 0.5426065162907268, 0.6904761904761905, 0.639322033898305, 0.6088209219858156, 0.6131444313262495, 0.5822072072072073, 0.4380165289256198, 0.5577731092436975, 0.5621951219512196, 0.5250737463126843, 0.6656207978484985, 0.6845472440944882, 0.5932864949258392, 0.5709302325581395, 0.5388559093362115, 0.6218604651162791, 0.6115935735996527, 0.6946564885496183, 0.5587515299877601, 0.6129538323621695, 0.6494910941475827, 0.5451832907075873]\n",
      "Model 4/48, Metric mean-roc_auc_score, Validation set 3: 0.592140\n",
      "\tbest_validation_score so far: 0.612524\n",
      "Fitting model 5/48\n",
      "hyperparameters: {'batch_size': 32, 'nb_epoch': 10, 'learning_rate': 0.5, 'n_filters': 32, 'n_fully_connected_nodes': 32}\n",
      "computed_metrics: [0.5405458860759493, 0.5015912305516267, 0.7834507042253521, 0.5231907237105158, 0.47539444027047334, 0.5231203007518797, 0.6398117386489479, 0.5022881355932203, 0.45589539007092195, 0.5167256985438804, 0.6210585585585586, 0.5909090909090909, 0.48835784313725494, 0.48546747967479675, 0.5210176991150444, 0.5508740475123264, 0.5604084645669292, 0.5413739266198283, 0.5041279069767441, 0.4977064220183486, 0.5172093023255814, 0.5724598349978289, 0.48155216284987273, 0.5119339045287638, 0.543926490363066, 0.6451972010178118, 0.5331947996589941]\n",
      "Model 5/48, Metric mean-roc_auc_score, Validation set 4: 0.541807\n",
      "\tbest_validation_score so far: 0.612524\n",
      "Fitting model 6/48\n",
      "hyperparameters: {'batch_size': 32, 'nb_epoch': 10, 'learning_rate': 0.5, 'n_filters': 32, 'n_fully_connected_nodes': 64}\n",
      "computed_metrics: [0.5678896360759493, 0.5167373880245167, 0.4647887323943662, 0.5050479808076769, 0.5939143501126972, 0.5498120300751881, 0.44988925802879287, 0.501271186440678, 0.532136524822695, 0.534681227863046, 0.47578828828828834, 0.46866391184573, 0.6247373949579832, 0.4899390243902439, 0.51976401179941, 0.5763110712684896, 0.6275836614173229, 0.48097189695550346, 0.5524418604651162, 0.4838100377765785, 0.5237209302325582, 0.5468953538862353, 0.5, 0.4705222358221134, 0.5564769161810847, 0.5718829516539441, 0.5441176470588236]\n",
      "Model 6/48, Metric mean-roc_auc_score, Validation set 5: 0.527029\n",
      "\tbest_validation_score so far: 0.612524\n",
      "Fitting model 7/48\n",
      "hyperparameters: {'batch_size': 32, 'nb_epoch': 10, 'learning_rate': 0.5, 'n_filters': 64, 'n_fully_connected_nodes': 32}\n",
      "computed_metrics: [0.528035996835443, 0.4287482319660538, 0.5017605633802817, 0.49030387844862056, 0.6252817430503381, 0.505764411027569, 0.6020210409745294, 0.5940677966101695, 0.5636081560283688, 0.5283844942935851, 0.4812077702702703, 0.43302341597796146, 0.5455182072829132, 0.4845528455284553, 0.5424778761061947, 0.513334827431645, 0.6345964566929134, 0.4596994535519126, 0.5019767441860465, 0.5012817053426875, 0.4653488372093023, 0.5243703864524534, 0.5446882951653944, 0.4817931456548348, 0.6311631555356343, 0.6873409669211197, 0.5374573742540494]\n",
      "Model 7/48, Metric mean-roc_auc_score, Validation set 6: 0.531030\n",
      "\tbest_validation_score so far: 0.612524\n",
      "Fitting model 8/48\n",
      "hyperparameters: {'batch_size': 32, 'nb_epoch': 10, 'learning_rate': 0.5, 'n_filters': 64, 'n_fully_connected_nodes': 64}\n",
      "computed_metrics: [0.552462420886076, 0.4586280056577086, 0.7394366197183099, 0.48315673730507797, 0.5225394440270473, 0.537719298245614, 0.6017441860465116, 0.5499152542372882, 0.5429410460992907, 0.5541617473435655, 0.5067567567567568, 0.4421487603305785, 0.5474439775910365, 0.5284552845528455, 0.487905604719764, 0.5533953384132676, 0.5709891732283465, 0.38358704137392663, 0.5387209302325582, 0.5362924986508365, 0.5349418604651164, 0.5726769431176726, 0.4901399491094148, 0.5176968584251325, 0.5504818467055133, 0.6041666666666667, 0.5139066496163682]\n",
      "Model 8/48, Metric mean-roc_auc_score, Validation set 7: 0.534163\n",
      "\tbest_validation_score so far: 0.612524\n",
      "Fitting model 9/48\n",
      "hyperparameters: {'batch_size': 32, 'nb_epoch': 20, 'learning_rate': 0.0005, 'n_filters': 32, 'n_fully_connected_nodes': 32}\n",
      "computed_metrics: [0.6995648734177216, 0.6082036775106082, 0.7535211267605634, 0.640343862455018, 0.7024793388429752, 0.5604010025062657, 0.706533776301218, 0.6298305084745763, 0.5964095744680852, 0.6196379378197561, 0.5850225225225225, 0.5957300275482094, 0.5605742296918768, 0.6524390243902439, 0.5799410029498524, 0.6730165844912596, 0.5752952755905512, 0.660031225604996, 0.6469767441860466, 0.5701565029681597, 0.5869767441860465, 0.6756404689535389, 0.72264631043257, 0.5809873521011832, 0.6425369789332138, 0.6870229007633588, 0.5809889173060528]\n",
      "Model 9/48, Metric mean-roc_auc_score, Validation set 8: 0.633071\n",
      "\tbest_validation_score so far: 0.633071\n",
      "Fitting model 10/48\n",
      "hyperparameters: {'batch_size': 32, 'nb_epoch': 20, 'learning_rate': 0.0005, 'n_filters': 32, 'n_fully_connected_nodes': 64}\n",
      "computed_metrics: [0.6528876582278481, 0.5447901933050447, 0.18309859154929575, 0.6105557776889243, 0.7250187828700225, 0.5431077694235589, 0.6207087486157253, 0.6125423728813559, 0.5053191489361702, 0.6552538370720189, 0.6486486486486487, 0.5413223140495869, 0.5329131652661065, 0.6097560975609757, 0.6138643067846608, 0.7254594352308382, 0.6491141732283465, 0.6202185792349726, 0.562093023255814, 0.5949811117107393, 0.597906976744186, 0.667390360399479, 0.6259541984732824, 0.5422276621787026, 0.6402958314657106, 0.6323155216284987, 0.5460358056265985]\n",
      "Model 10/48, Metric mean-roc_auc_score, Validation set 9: 0.592733\n",
      "\tbest_validation_score so far: 0.633071\n",
      "Fitting model 11/48\n",
      "hyperparameters: {'batch_size': 32, 'nb_epoch': 20, 'learning_rate': 0.0005, 'n_filters': 64, 'n_fully_connected_nodes': 32}\n"
     ]
    },
    {
     "name": "stdout",
     "output_type": "stream",
     "text": [
      "computed_metrics: [0.6880933544303798, 0.5931164545025931, 0.27464788732394363, 0.5793682526989204, 0.637114951164538, 0.5421052631578948, 0.6832779623477298, 0.5583050847457627, 0.5693705673758864, 0.5997638724911452, 0.5771396396396397, 0.5034435261707988, 0.5931372549019608, 0.6626016260162602, 0.5705014749262538, 0.7151501568803227, 0.640748031496063, 0.5589383294301327, 0.6065116279069767, 0.5709660010793308, 0.5802325581395349, 0.5892314372557534, 0.739821882951654, 0.5746634026927784, 0.5900941281936352, 0.6603053435114503, 0.49467178175618076]\n",
      "Model 11/48, Metric mean-roc_auc_score, Validation set 10: 0.590864\n",
      "\tbest_validation_score so far: 0.633071\n",
      "Fitting model 12/48\n",
      "hyperparameters: {'batch_size': 32, 'nb_epoch': 20, 'learning_rate': 0.0005, 'n_filters': 64, 'n_fully_connected_nodes': 64}\n",
      "computed_metrics: [0.7054984177215189, 0.5601131541725601, 0.295774647887324, 0.5873650539784085, 0.7178812922614575, 0.5298245614035088, 0.6035437430786268, 0.6040677966101695, 0.569813829787234, 0.6160960251869343, 0.5982545045045045, 0.6074380165289257, 0.5826330532212884, 0.547560975609756, 0.605014749262537, 0.6873599282832811, 0.5841535433070866, 0.5729898516783762, 0.6202325581395349, 0.6691851052347544, 0.5934883720930233, 0.6689101172383847, 0.7436386768447838, 0.5905752753977969, 0.7012550425818019, 0.7360050890585241, 0.5492327365728901]\n",
      "Model 12/48, Metric mean-roc_auc_score, Validation set 11: 0.609182\n",
      "\tbest_validation_score so far: 0.633071\n",
      "Fitting model 13/48\n",
      "hyperparameters: {'batch_size': 32, 'nb_epoch': 20, 'learning_rate': 0.5, 'n_filters': 32, 'n_fully_connected_nodes': 32}\n",
      "computed_metrics: [0.532931170886076, 0.46004243281471, 0.772887323943662, 0.505797680927629, 0.5105184072126221, 0.5520050125313283, 0.4889258028792912, 0.4878813559322034, 0.46653368794326233, 0.5063459268004723, 0.5040822072072072, 0.3181818181818182, 0.5079656862745099, 0.5140243902439026, 0.5138643067846608, 0.5395002241147467, 0.5701279527559056, 0.46028493364558937, 0.5437790697674418, 0.46377495952509445, 0.49127906976744184, 0.5325119409465915, 0.5251272264631043, 0.5333537331701346, 0.5976019722097714, 0.5755407124681934, 0.5092178175618074]\n",
      "Model 13/48, Metric mean-roc_auc_score, Validation set 12: 0.517929\n",
      "\tbest_validation_score so far: 0.633071\n",
      "Fitting model 14/48\n",
      "hyperparameters: {'batch_size': 32, 'nb_epoch': 20, 'learning_rate': 0.5, 'n_filters': 32, 'n_fully_connected_nodes': 64}\n"
     ]
    }
   ],
   "source": [
    "metric = dc.metrics.Metric(dc.metrics.roc_auc_score, np.mean)\n",
    "optimizer = dc.hyper.HyperparamOpt(model_builder)\n",
    "best_dnn, best_hyperparams, all_results = optimizer.hyperparam_search(\n",
    "   params_dict, train_dataset, valid_dataset, [], metric)"
   ]
  },
  {
   "cell_type": "code",
   "execution_count": 74,
   "metadata": {},
   "outputs": [
    {
     "data": {
      "text/plain": [
       "GraphConvModel(dense_layer_size=128, dropout=[0.0, 0.0, 0.0],\n",
       "               graph_conv_layers=[64, 64], mode='classification', n_classes=2,\n",
       "               n_tasks=27, number_atom_features=75, uncertainty=False)"
      ]
     },
     "execution_count": 74,
     "metadata": {},
     "output_type": "execute_result"
    }
   ],
   "source": [
    "best_dnn"
   ]
  },
  {
   "cell_type": "code",
   "execution_count": 75,
   "metadata": {},
   "outputs": [
    {
     "data": {
      "text/plain": [
       "(32, 30, 0.0005, 32, 64)"
      ]
     },
     "execution_count": 75,
     "metadata": {},
     "output_type": "execute_result"
    }
   ],
   "source": [
    "best_hyperparams"
   ]
  },
  {
   "cell_type": "code",
   "execution_count": 76,
   "metadata": {},
   "outputs": [
    {
     "data": {
      "text/plain": [
       "{'(32, 10, 0.0005, 32, 32)': 0.6019293398479616,\n",
       " '(32, 10, 0.0005, 32, 64)': 0.5920945454339995,\n",
       " '(32, 10, 0.0005, 64, 32)': 0.6113205354416374,\n",
       " '(32, 10, 0.0005, 64, 64)': 0.6178708675377536,\n",
       " '(32, 10, 0.5, 32, 32)': 0.5115146344800747,\n",
       " '(32, 10, 0.5, 32, 64)': 0.5062029985011728,\n",
       " '(32, 10, 0.5, 64, 32)': 0.5262534407373384,\n",
       " '(32, 10, 0.5, 64, 64)': 0.5300091510347092,\n",
       " '(32, 20, 0.0005, 32, 32)': 0.6078059468449809,\n",
       " '(32, 20, 0.0005, 32, 64)': 0.6284899047910026,\n",
       " '(32, 20, 0.0005, 64, 32)': 0.6225265648016771,\n",
       " '(32, 20, 0.0005, 64, 64)': 0.6375174852328578,\n",
       " '(32, 20, 0.5, 32, 32)': 0.5310278519620923,\n",
       " '(32, 20, 0.5, 32, 64)': 0.5144797660452645,\n",
       " '(32, 20, 0.5, 64, 32)': 0.5225445765910889,\n",
       " '(32, 20, 0.5, 64, 64)': 0.5312238366857378,\n",
       " '(32, 30, 0.0005, 32, 32)': 0.5971049340812932,\n",
       " '(32, 30, 0.0005, 32, 64)': 0.6393240178670441,\n",
       " '(32, 30, 0.0005, 64, 32)': 0.6268121908494243,\n",
       " '(32, 30, 0.0005, 64, 64)': 0.6212120540659255,\n",
       " '(32, 30, 0.5, 32, 32)': 0.5524005958926345,\n",
       " '(32, 30, 0.5, 32, 64)': 0.5408812173613495,\n",
       " '(32, 30, 0.5, 64, 32)': 0.5339780355954479,\n",
       " '(32, 30, 0.5, 64, 64)': 0.517668605516221,\n",
       " '(32, 40, 0.0005, 32, 32)': 0.6125823649058938,\n",
       " '(32, 40, 0.0005, 32, 64)': 0.6152625927664253,\n",
       " '(32, 40, 0.0005, 64, 32)': 0.621484349677615,\n",
       " '(32, 40, 0.0005, 64, 64)': 0.6174220769225252,\n",
       " '(32, 40, 0.5, 32, 32)': 0.5286443250376682,\n",
       " '(32, 40, 0.5, 32, 64)': 0.5314052273896924,\n",
       " '(32, 40, 0.5, 64, 32)': 0.5310115870268467,\n",
       " '(32, 40, 0.5, 64, 64)': 0.5336046592484187,\n",
       " '(32, 50, 0.0005, 32, 32)': 0.6188851366493593,\n",
       " '(32, 50, 0.0005, 32, 64)': 0.6072961178085565,\n",
       " '(32, 50, 0.0005, 64, 32)': 0.6287402390113075,\n",
       " '(32, 50, 0.0005, 64, 64)': 0.6314372032803252,\n",
       " '(32, 50, 0.5, 32, 32)': 0.5403157081638649,\n",
       " '(32, 50, 0.5, 32, 64)': 0.5147183222269219,\n",
       " '(32, 50, 0.5, 64, 32)': 0.5347990181314637,\n",
       " '(32, 50, 0.5, 64, 64)': 0.5328111270914855,\n",
       " '(32, 60, 0.0005, 32, 32)': 0.6388806458080275,\n",
       " '(32, 60, 0.0005, 32, 64)': 0.6204326134987949,\n",
       " '(32, 60, 0.0005, 64, 32)': 0.62322388996349,\n",
       " '(32, 60, 0.0005, 64, 64)': 0.6375677270281543,\n",
       " '(32, 60, 0.5, 32, 32)': 0.5238335229485936,\n",
       " '(32, 60, 0.5, 32, 64)': 0.548420944285885,\n",
       " '(32, 60, 0.5, 64, 32)': 0.5347493897053403,\n",
       " '(32, 60, 0.5, 64, 64)': 0.5432269839981158}"
      ]
     },
     "execution_count": 76,
     "metadata": {},
     "output_type": "execute_result"
    }
   ],
   "source": [
    "all_results"
   ]
  },
  {
   "cell_type": "code",
   "execution_count": 77,
   "metadata": {},
   "outputs": [
    {
     "data": {
      "text/plain": [
       "329.1111399998641"
      ]
     },
     "execution_count": 77,
     "metadata": {},
     "output_type": "execute_result"
    }
   ],
   "source": [
    "###AQUI\n",
    "\n",
    "#(32, 40, 0.0005, 64, 32)\n",
    "\n",
    "#'batch_size' : [32,64,128,256],\n",
    "#'nb_epoch': [40,100,200],\n",
    "#'learning_rate': [0.0005,0.5,0.75,1],\n",
    "#'n_filters': [32,64,128],\n",
    "#'n_fully_connected_nodes' : [32,64,128]\n",
    "\n",
    "#model=model_builder(params_dict,params_dict)\n",
    "\n",
    "#model =GraphConvModel(dense_layer_size=128, dropout=[0.0, 0.0, 0.0],\n",
    "#               graph_conv_layers=[64, 64], mode='classification', n_classes=2,\n",
    "#               n_tasks=27, number_atom_features=75, uncertainty=False)\n",
    "\n",
    "\n",
    "model.fit(train_dataset,batch_size=32,nb_epoch=30,learning_rate=0.0005,n_filters=64,n_fully_connected_nodes=32)"
   ]
  },
  {
   "cell_type": "code",
   "execution_count": 78,
   "metadata": {},
   "outputs": [
    {
     "name": "stdout",
     "output_type": "stream",
     "text": [
      "Evaluating model\n",
      "computed_metrics: [0.9545440542205792, 0.9116810481404791, 0.9994370954123276, 0.9391367684184854, 0.9566545366327026, 0.9388823960684964, 0.9766620136101902, 0.9934184857383412, 0.8864370665943517, 0.9637558130951502, 0.9931092634716449, 0.9536928383472014, 0.9868158512868437, 0.993788271314178, 0.940054705685225, 0.9502434600582484, 0.9639980232270818, 0.9889647897935607, 0.9184103539591959, 0.9262603598140287, 0.9556361500736029, 0.939845183677555, 0.9983360911932341, 0.9517606262741982, 0.9498237497246089, 0.9711024720893142, 0.9307224754800387]\n",
      "Training ROC-AUC Score: 0.956784\n"
     ]
    }
   ],
   "source": [
    "metric = dc.metrics.Metric(\n",
    "    dc.metrics.roc_auc_score, np.mean, mode=\"classification\")\n",
    "\n",
    "print(\"Evaluating model\")\n",
    "train_scores_3 = model.evaluate(train_dataset, [metric], transformers)\n",
    "print(\"Training ROC-AUC Score: %f\" % train_scores_3[\"mean-roc_auc_score\"])\n"
   ]
  },
  {
   "cell_type": "code",
   "execution_count": 79,
   "metadata": {},
   "outputs": [
    {
     "name": "stdout",
     "output_type": "stream",
     "text": [
      "computed_metrics: [0.7157832278481013, 0.6282413955681283, 0.5633802816901409, 0.633546581367453, 0.6919609316303531, 0.593734335839599, 0.7535991140642303, 0.6684745762711864, 0.5554078014184397, 0.6469893742621016, 0.6447072072072072, 0.665977961432507, 0.586484593837535, 0.6252032520325204, 0.6268436578171092, 0.664051994621246, 0.7017716535433072, 0.7135050741608118, 0.6225581395348838, 0.5920129519697788, 0.6486046511627908, 0.6819366044290057, 0.7118320610687023, 0.6293349653202774, 0.6777229941730166, 0.7290076335877863, 0.5179028132992327]\n",
      "Validation ROC-AUC Score: 0.647799\n"
     ]
    }
   ],
   "source": [
    "valid_scores_3 = model.evaluate(valid_dataset, [metric], transformers)\n",
    "print(\"Validation ROC-AUC Score: %f\" % valid_scores_3[\"mean-roc_auc_score\"])"
   ]
  },
  {
   "cell_type": "code",
   "execution_count": 80,
   "metadata": {},
   "outputs": [
    {
     "name": "stdout",
     "output_type": "stream",
     "text": [
      "computed_metrics: [0.7163765822784811, 0.6549445865302643, 0.4193262411347518, 0.635686274509804, 0.7032667876588021, 0.6124716553287981, 0.7113681102362204, 0.592436974789916, 0.6256235827664398, 0.7255477308294209, 0.6309171597633136, 0.6411458333333333, 0.6749152542372882, 0.5154061624649859, 0.6388495992456389, 0.6771589991928975, 0.6718020541549954, 0.5779645191409897, 0.6695478723404256, 0.6447430457331447, 0.6430742509769865, 0.6731946144430845, 0.5148148148148148, 0.594632768361582, 0.6412997903563942, 0.6588541666666667, 0.6187038645245333]\n",
      "Validation ROC-AUC Score: 0.632743\n"
     ]
    }
   ],
   "source": [
    "test_scores_3 = model.evaluate(test_dataset, [metric], transformers)\n",
    "print(\"Validation ROC-AUC Score: %f\" % test_scores_3[\"mean-roc_auc_score\"])"
   ]
  },
  {
   "cell_type": "code",
   "execution_count": 84,
   "metadata": {},
   "outputs": [
    {
     "data": {
      "text/plain": [
       "[(0.55, 0.6757494040015568)]"
      ]
     },
     "execution_count": 84,
     "metadata": {},
     "output_type": "execute_result"
    },
    {
     "data": {
      "image/png": "[encoded data removed]",
      "text/plain": [
       "<Figure size 842.4x595.44 with 1 Axes>"
      ]
     },
     "metadata": {},
     "output_type": "display_data"
    }
   ],
   "source": [
    "import seaborn as sns\n",
    "\n",
    "\n",
    "sns.set(rc={'figure.figsize':(11.7,8.27)})\n",
    "\n",
    "sns.set(style=\"whitegrid\")\n",
    "ax = sns.barplot(x=[test_scores_1['mean-roc_auc_score'],test_scores_2['mean-roc_auc_score'],test_scores_2['mean-roc_auc_score']],\n",
    "                 y=['First Scenario','Scenario Scenario','Third Scenario'])\n",
    "ax.set(xlim=(0.55, None))"
   ]
  },
  {
   "cell_type": "markdown",
   "metadata": {},
   "source": [
    "# Another Implementation GraphConvModel"
   ]
  },
  {
   "cell_type": "markdown",
   "metadata": {},
   "source": [
    "TensorGraph - Simplicity is Beauty\n",
    "TensorGraph is a simple, lean, and clean framework on TensorFlow for building any imaginable models.\n",
    "\n"
   ]
  },
  {
   "cell_type": "markdown",
   "metadata": {},
   "source": [
    "What’s going on under the hood? \n",
    "\n",
    "Now we will build GraphConvModel ourselves.\n",
    "\n",
    "The first step is to create a TensorGraph object. \n",
    "This object will hold the “computational graph” that defines the computation that a graph convolutional network will perform.\n"
   ]
  },
  {
   "cell_type": "code",
   "execution_count": 85,
   "metadata": {},
   "outputs": [],
   "source": [
    "from deepchem.models.tensorgraph.tensor_graph import TensorGraph\n",
    "from deepchem.models.tensorgraph.layers import Dense, BatchNorm,GraphConv\n",
    "from deepchem.models.tensorgraph.layers import GraphPool, GraphGather,Dropout\n",
    "import keras\n",
    "import tensorflow as tf\n"
   ]
  },
  {
   "cell_type": "code",
   "execution_count": 86,
   "metadata": {},
   "outputs": [],
   "source": [
    "tg = TensorGraph(use_queue=False)"
   ]
  },
  {
   "cell_type": "code",
   "execution_count": 87,
   "metadata": {},
   "outputs": [],
   "source": [
    "from deepchem.models.tensorgraph.layers import Feature\n",
    "\n",
    "atom_features = Feature(shape=(None, 75))\n",
    "degree_slice = Feature(shape=(None, 2), dtype=tf.int32)\n",
    "membership = Feature(shape=(None,), dtype=tf.int32)\n",
    "\n",
    "deg_adjs = []\n",
    "for i in range(0, 10 + 1):\n",
    "    deg_adj = Feature(shape=(None, i + 1), dtype=tf.int32)\n",
    "    deg_adjs.append(deg_adj)"
   ]
  },
  {
   "cell_type": "code",
   "execution_count": 88,
   "metadata": {},
   "outputs": [
    {
     "ename": "SyntaxError",
     "evalue": "invalid syntax (<ipython-input-88-300f77e820a1>, line 3)",
     "output_type": "error",
     "traceback": [
      "\u001b[0;36m  File \u001b[0;32m\"<ipython-input-88-300f77e820a1>\"\u001b[0;36m, line \u001b[0;32m3\u001b[0m\n\u001b[0;31m    tiro a camada de dropout e verifico se esta em overfitting\u001b[0m\n\u001b[0m         ^\u001b[0m\n\u001b[0;31mSyntaxError\u001b[0m\u001b[0;31m:\u001b[0m invalid syntax\n"
     ]
    }
   ],
   "source": [
    "# ver mais um atomo na \n",
    "\n",
    "tiro a camada de dropout e verifico se esta em overfitting"
   ]
  },
  {
   "cell_type": "code",
   "execution_count": 89,
   "metadata": {},
   "outputs": [],
   "source": [
    "batch_size = 50\n",
    "\n",
    "gc1 = GraphConv(64,activation_fn=tf.nn.relu,in_layers=[atom_features, degree_slice, membership] + deg_adjs)\n",
    "dropout_1 = Dropout(dropout_prob=0.5, in_layers=[gc1])\n",
    "batch_norm1 = BatchNorm(in_layers=[dropout_1])\n",
    "gp1 = GraphPool(in_layers=[batch_norm1, degree_slice, membership] + deg_adjs)\n",
    "\n",
    "gc2 = GraphConv(64,activation_fn=tf.nn.relu,in_layers=[gp1, degree_slice, membership] + deg_adjs)\n",
    "batch_norm2 = BatchNorm(in_layers=[gc2])\n",
    "gp2 = GraphPool(in_layers=[batch_norm2, degree_slice, membership] + deg_adjs)\n",
    "\n",
    "gc3 = GraphConv(64,activation_fn=tf.nn.relu,in_layers=[gp1, degree_slice, membership] + deg_adjs)\n",
    "batch_norm3 = BatchNorm(in_layers=[gc3])\n",
    "gp3 = GraphPool(in_layers=[batch_norm3, degree_slice, membership] + deg_adjs)\n",
    "\n",
    "dense = Dense(out_channels=128, activation_fn=tf.nn.relu, in_layers=[gp3])\n",
    "batch_norm4 = BatchNorm(in_layers=[dense])\n",
    "\n",
    "readout = GraphGather(batch_size=batch_size,activation_fn=tf.nn.tanh,in_layers=[batch_norm4, degree_slice, membership] + deg_adjs)"
   ]
  },
  {
   "cell_type": "code",
   "execution_count": 90,
   "metadata": {},
   "outputs": [],
   "source": [
    "from deepchem.models.tensorgraph.layers import Dense, SoftMax, \\\n",
    "    SoftMaxCrossEntropy, WeightedError, Stack\n",
    "\n",
    "from deepchem.models.tensorgraph.layers import Label, Weights\n",
    "\n",
    "costs = []\n",
    "labels = []\n",
    "for task in range(len(sider_tasks)):\n",
    "    classification = Dense(out_channels=2, activation_fn=None, in_layers=[readout])\n",
    "\n",
    "    softmax = SoftMax(in_layers=[classification])\n",
    "    tg.add_output(softmax)\n",
    "\n",
    "    label = Label(shape=(None, 2))\n",
    "    labels.append(label)\n",
    "    cost = SoftMaxCrossEntropy(in_layers=[label, classification])\n",
    "    costs.append(cost)\n",
    "    \n",
    "all_cost = Stack(in_layers=costs, axis=1)\n",
    "weights = Weights(shape=(None, len(sider_tasks)))\n",
    "loss = WeightedError(in_layers=[all_cost, weights])\n",
    "tg.set_loss(loss)"
   ]
  },
  {
   "cell_type": "code",
   "execution_count": 91,
   "metadata": {},
   "outputs": [],
   "source": [
    "from deepchem.metrics import to_one_hot\n",
    "from deepchem.feat.mol_graphs import ConvMol\n",
    "\n",
    "def data_generator(dataset, epochs=1, predict=False, pad_batches=True):\n",
    "    for epoch in range(epochs):\n",
    "        if not predict:\n",
    "            print('Starting epoch %i' % epoch)\n",
    "        for ind, (X_b, y_b, w_b, ids_b) in enumerate(\n",
    "            dataset.iterbatches(batch_size, pad_batches=pad_batches, deterministic=True)):\n",
    "            d = {}\n",
    "\n",
    "            for index, label in enumerate(labels):\n",
    "                d[label] = to_one_hot(y_b[:, index])\n",
    "            d[weights] = w_b\n",
    "            multiConvMol = ConvMol.agglomerate_mols(X_b)\n",
    "            d[atom_features] = multiConvMol.get_atom_features()\n",
    "            d[degree_slice] = multiConvMol.deg_slice\n",
    "            d[membership] = multiConvMol.membership\n",
    "            for i in range(1, len(multiConvMol.get_deg_adjacency_lists())):\n",
    "                d[deg_adjs[i - 1]] = multiConvMol.get_deg_adjacency_lists()[i]\n",
    "            yield d"
   ]
  },
  {
   "cell_type": "code",
   "execution_count": 92,
   "metadata": {},
   "outputs": [
    {
     "name": "stdout",
     "output_type": "stream",
     "text": [
      "Starting epoch 0\n",
      "Starting epoch 1\n",
      "Starting epoch 2\n",
      "Starting epoch 3\n",
      "Starting epoch 4\n",
      "Starting epoch 5\n",
      "Starting epoch 6\n",
      "Starting epoch 7\n",
      "Starting epoch 8\n",
      "Starting epoch 9\n",
      "Starting epoch 10\n",
      "Starting epoch 11\n",
      "Starting epoch 12\n",
      "Starting epoch 13\n",
      "Starting epoch 14\n",
      "Starting epoch 15\n",
      "Starting epoch 16\n",
      "Starting epoch 17\n",
      "Starting epoch 18\n",
      "Starting epoch 19\n",
      "Starting epoch 20\n",
      "Starting epoch 21\n",
      "Starting epoch 22\n",
      "Starting epoch 23\n",
      "Starting epoch 24\n",
      "Starting epoch 25\n",
      "Starting epoch 26\n",
      "Starting epoch 27\n",
      "Starting epoch 28\n",
      "Starting epoch 29\n",
      "Starting epoch 30\n",
      "Starting epoch 31\n",
      "Starting epoch 32\n",
      "Starting epoch 33\n",
      "Starting epoch 34\n",
      "Starting epoch 35\n",
      "Starting epoch 36\n",
      "Starting epoch 37\n",
      "Starting epoch 38\n",
      "Starting epoch 39\n",
      "Starting epoch 40\n",
      "Starting epoch 41\n",
      "Starting epoch 42\n",
      "Starting epoch 43\n",
      "Starting epoch 44\n",
      "Starting epoch 45\n",
      "Starting epoch 46\n",
      "Starting epoch 47\n",
      "Starting epoch 48\n",
      "Starting epoch 49\n",
      "Starting epoch 50\n",
      "Starting epoch 51\n",
      "Starting epoch 52\n",
      "Starting epoch 53\n",
      "Starting epoch 54\n",
      "Starting epoch 55\n",
      "Starting epoch 56\n",
      "Starting epoch 57\n",
      "Starting epoch 58\n",
      "Starting epoch 59\n"
     ]
    },
    {
     "data": {
      "text/plain": [
       "643.3482242293871"
      ]
     },
     "execution_count": 92,
     "metadata": {},
     "output_type": "execute_result"
    }
   ],
   "source": [
    "# Epochs set to 1 to render tutorials online.\n",
    "# Set epochs=10 for better results.\n",
    "tg.fit_generator(data_generator(train_dataset, epochs=60))"
   ]
  },
  {
   "cell_type": "code",
   "execution_count": 33,
   "metadata": {},
   "outputs": [],
   "source": [
    "# Training dataset"
   ]
  },
  {
   "cell_type": "code",
   "execution_count": 93,
   "metadata": {
    "scrolled": false
   },
   "outputs": [],
   "source": [
    "metric = dc.metrics.Metric(\n",
    "    dc.metrics.roc_auc_score, np.mean, mode=\"classification\")\n",
    "\n",
    "def reshape_y_pred(y_true, y_pred):\n",
    "    \"\"\"\n",
    "    TensorGraph.Predict returns a list of arrays, one for each output\n",
    "    We also have to remove the padding on the last batch\n",
    "    Metrics taks results of shape (samples, n_task, prob_of_class)\n",
    "    \"\"\"\n",
    "    n_samples = len(y_true)\n",
    "    retval = np.stack(y_pred, axis=1)\n",
    "    return retval[:n_samples]\n"
   ]
  },
  {
   "cell_type": "code",
   "execution_count": 94,
   "metadata": {},
   "outputs": [
    {
     "name": "stdout",
     "output_type": "stream",
     "text": [
      "Evaluating model\n",
      "computed_metrics: [0.8015988909426988, 0.7636452062163337, 0.997560746786753, 0.750931058803367, 0.8318995633187772, 0.7852771869714501, 0.8665105953973518, 0.8125192516992833, 0.7546778754890946, 0.8163953888929899, 0.8197701780531806, 0.828328355024536, 0.8319189419005044, 0.8338671691003297, 0.7601056073327356, 0.8271514848138132, 0.8221645663454411, 0.7726053543623486, 0.7639140651225242, 0.7808105922781483, 0.7970963091778596, 0.7838810850488807, 0.893748850891708, 0.7495241966776918, 0.7875045898509216, 0.8629186602870813, 0.7572523829258184]\n",
      "----------------\n",
      "Training ROC-AUC Score: 0.809392\n"
     ]
    }
   ],
   "source": [
    "print(\"Evaluating model\")\n",
    "train_predictions = tg.predict_on_generator(data_generator(train_dataset, predict=True))\n",
    "train_predictions = reshape_y_pred(train_dataset.y, train_predictions)\n",
    "train_scores_4 = metric.compute_metric(train_dataset.y, train_predictions, train_dataset.w)\n",
    "\n",
    "print(\"----------------\")\n",
    "print(\"Training ROC-AUC Score: %f\" % train_scores_4)\n"
   ]
  },
  {
   "cell_type": "code",
   "execution_count": 95,
   "metadata": {},
   "outputs": [],
   "source": [
    "# Validation Dataset"
   ]
  },
  {
   "cell_type": "code",
   "execution_count": 96,
   "metadata": {},
   "outputs": [
    {
     "name": "stdout",
     "output_type": "stream",
     "text": [
      "computed_metrics: [0.6556566455696202, 0.5506836397925507, 0.5, 0.5889644142343062, 0.7310293012772351, 0.5819548872180451, 0.6162790697674418, 0.5884745762711865, 0.561613475177305, 0.6650924832743015, 0.5861486486486487, 0.5798898071625345, 0.5801820728291316, 0.5743902439024391, 0.5787610619469027, 0.7003585835948005, 0.6628937007874015, 0.6900858704137393, 0.6316279069767441, 0.6065839179708581, 0.574186046511628, 0.6652192792010422, 0.6825699745547074, 0.5905752753977969, 0.6342447333034513, 0.7080152671755725, 0.581841432225064]\n",
      "Valid ROC-AUC Score: 0.617308\n"
     ]
    }
   ],
   "source": [
    "valid_predictions = tg.predict_on_generator(data_generator(valid_dataset, predict=True))\n",
    "valid_predictions = reshape_y_pred(valid_dataset.y, valid_predictions)\n",
    "valid_scores_4 = metric.compute_metric(valid_dataset.y, valid_predictions, valid_dataset.w)\n",
    "print(\"Valid ROC-AUC Score: %f\" % valid_scores_4)\n"
   ]
  },
  {
   "cell_type": "code",
   "execution_count": 97,
   "metadata": {},
   "outputs": [],
   "source": [
    "# Test Dataset"
   ]
  },
  {
   "cell_type": "code",
   "execution_count": 98,
   "metadata": {
    "scrolled": true
   },
   "outputs": [
    {
     "name": "stdout",
     "output_type": "stream",
     "text": [
      "computed_metrics: [0.6853243670886076, 0.6062979539641944, 0.18439716312056736, 0.5537254901960784, 0.6509376890502119, 0.6791383219954649, 0.6706446850393701, 0.6092436974789917, 0.690702947845805, 0.6586463223787168, 0.6354783037475344, 0.6468750000000001, 0.6366101694915254, 0.46872082166199813, 0.6428571428571428, 0.5706214689265536, 0.6862745098039216, 0.5550887021475257, 0.6566932624113475, 0.68010372465818, 0.5992184107685627, 0.6960424316605467, 0.412962962962963, 0.544592413236481, 0.5498951781970649, 0.7265625, 0.6813395570994355]\n",
      "Test  ROC-AUC Score: 0.606629\n"
     ]
    }
   ],
   "source": [
    "test_predictions = tg.predict_on_generator(data_generator(test_dataset, predict=True))\n",
    "test_predictions = reshape_y_pred(test_dataset.y, test_predictions)\n",
    "test_scores_4 = metric.compute_metric(test_dataset.y, test_predictions, test_dataset.w)\n",
    "print(\"Test  ROC-AUC Score: %f\" % test_scores_4)"
   ]
  },
  {
   "cell_type": "markdown",
   "metadata": {},
   "source": [
    "\n",
    "# Comparision of Results with MoleculeNet results"
   ]
  },
  {
   "cell_type": "code",
   "execution_count": 105,
   "metadata": {
    "scrolled": false
   },
   "outputs": [
    {
     "data": {
      "text/plain": [
       "[(0.55, 0.6757494040015568)]"
      ]
     },
     "execution_count": 105,
     "metadata": {},
     "output_type": "execute_result"
    },
    {
     "data": {
      "image/png": "[encoded data removed]",
      "text/plain": [
       "<Figure size 842.4x595.44 with 1 Axes>"
      ]
     },
     "metadata": {},
     "output_type": "display_data"
    }
   ],
   "source": [
    "import seaborn as sns\n",
    "\n",
    "\n",
    "sns.set(rc={'figure.figsize':(11.7,8.27)})\n",
    "\n",
    "sns.set(style=\"whitegrid\")\n",
    "ax = sns.barplot(x=[test_scores_1['mean-roc_auc_score'],test_scores_2['mean-roc_auc_score'],test_scores_3['mean-roc_auc_score'],test_scores_4],\n",
    "                 y=['First Scenario','Scenario Scenario','Third Scenario','Modelo Desenvolvido Raiz'])\n",
    "ax.set(xlim=(0.55, None))"
   ]
  },
  {
   "cell_type": "code",
   "execution_count": 109,
   "metadata": {},
   "outputs": [
    {
     "name": "stdout",
     "output_type": "stream",
     "text": [
      "0.6435708609538636\n",
      "0.6367584160641273\n",
      "0.6327434554005175\n",
      "0.6066294517699553\n"
     ]
    }
   ],
   "source": [
    "print(test_scores_1['mean-roc_auc_score'])\n",
    "\n",
    "print(test_scores_2['mean-roc_auc_score'])\n",
    "print(test_scores_3['mean-roc_auc_score'])\n",
    "print(test_scores_4)"
   ]
  },
  {
   "cell_type": "code",
   "execution_count": 36,
   "metadata": {},
   "outputs": [
    {
     "ename": "NameError",
     "evalue": "name 'test_scores_1' is not defined",
     "output_type": "error",
     "traceback": [
      "\u001b[0;31m---------------------------------------------------------------------------\u001b[0m",
      "\u001b[0;31mNameError\u001b[0m                                 Traceback (most recent call last)",
      "\u001b[0;32m<ipython-input-36-601e5b3cb6a0>\u001b[0m in \u001b[0;36m<module>\u001b[0;34m\u001b[0m\n\u001b[1;32m      2\u001b[0m \u001b[0;34m\u001b[0m\u001b[0m\n\u001b[1;32m      3\u001b[0m \u001b[0msns\u001b[0m\u001b[0;34m.\u001b[0m\u001b[0mset\u001b[0m\u001b[0;34m(\u001b[0m\u001b[0mstyle\u001b[0m\u001b[0;34m=\u001b[0m\u001b[0;34m\"whitegrid\"\u001b[0m\u001b[0;34m)\u001b[0m\u001b[0;34m\u001b[0m\u001b[0;34m\u001b[0m\u001b[0m\n\u001b[0;32m----> 4\u001b[0;31m ax = sns.barplot(x=[test_scores_1['mean-roc_auc_score'],test_scores_2['mean-roc_auc_score'],test_scores_3['mean-roc_auc_score'],test_scores_4['mean-roc_auc_score']],\n\u001b[0m\u001b[1;32m      5\u001b[0m                  y=['First Scenario','Scenario Scenario','Third Scenario','fourth Scenario'])\n\u001b[1;32m      6\u001b[0m \u001b[0max\u001b[0m\u001b[0;34m.\u001b[0m\u001b[0mset\u001b[0m\u001b[0;34m(\u001b[0m\u001b[0mxlim\u001b[0m\u001b[0;34m=\u001b[0m\u001b[0;34m(\u001b[0m\u001b[0;36m0.55\u001b[0m\u001b[0;34m,\u001b[0m \u001b[0;32mNone\u001b[0m\u001b[0;34m)\u001b[0m\u001b[0;34m)\u001b[0m\u001b[0;34m\u001b[0m\u001b[0;34m\u001b[0m\u001b[0m\n",
      "\u001b[0;31mNameError\u001b[0m: name 'test_scores_1' is not defined"
     ]
    }
   ],
   "source": [
    "import seaborn as sns\n",
    "\n",
    "sns.set(style=\"whitegrid\")\n",
    "ax = sns.barplot(x=[test_scores_1['mean-roc_auc_score'],test_scores_2['mean-roc_auc_score'],test_scores_3['mean-roc_auc_score'],test_scores_4['mean-roc_auc_score']],\n",
    "                 y=['First Scenario','Scenario Scenario','Third Scenario','fourth Scenario'])\n",
    "ax.set(xlim=(0.55, None))"
   ]
  }
 ],
 "metadata": {
  "kernelspec": {
   "display_name": "Python 3",
   "language": "python",
   "name": "python3"
  },
  "language_info": {
   "codemirror_mode": {
    "name": "ipython",
    "version": 3
   },
   "file_extension": ".py",
   "mimetype": "text/x-python",
   "name": "python",
   "nbconvert_exporter": "python",
   "pygments_lexer": "ipython3",
   "version": "3.6.8"
  }
 },
 "nbformat": 4,
 "nbformat_minor": 2
}
