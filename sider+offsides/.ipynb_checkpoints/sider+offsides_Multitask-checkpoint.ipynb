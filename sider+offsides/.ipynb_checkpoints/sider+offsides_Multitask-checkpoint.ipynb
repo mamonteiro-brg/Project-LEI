{
 "cells": [
  {
   "cell_type": "markdown",
   "metadata": {},
   "source": [
    "# Sider+Offsides Multitask Classifier"
   ]
  },
  {
   "cell_type": "code",
   "execution_count": 1,
   "metadata": {},
   "outputs": [
    {
     "name": "stderr",
     "output_type": "stream",
     "text": [
      "/home/mamonteiro/anaconda3/envs/lei/lib/python3.6/site-packages/sklearn/externals/joblib/__init__.py:15: DeprecationWarning: sklearn.externals.joblib is deprecated in 0.21 and will be removed in 0.23. Please import this functionality directly from joblib, which can be installed with: pip install joblib. If this warning is raised when loading pickled models, you may need to re-serialize those models with scikit-learn 0.21+.\n",
      "  warnings.warn(msg, category=DeprecationWarning)\n"
     ]
    }
   ],
   "source": [
    "import numpy as np\n",
    "import tensorflow as tf\n",
    "import deepchem as dc"
   ]
  },
  {
   "cell_type": "code",
   "execution_count": 2,
   "metadata": {},
   "outputs": [],
   "source": [
    "\"\"\"\n",
    "OFFSIDES dataset loader.\n",
    "\"\"\"\n",
    "from __future__ import division\n",
    "from __future__ import unicode_literals\n",
    "\n",
    "import os\n",
    "import logging\n",
    "import deepchem\n",
    "\n",
    "logger = logging.getLogger(__name__)\n",
    "\n",
    "\n",
    "def load_sider_offsides(featurizer='ECFP', split='index', reload=True, K=4):\n",
    "  logger.info(\"About to load sider+ofssides dataset.\")\n",
    "  data_dir = deepchem.utils.get_data_dir()\n",
    "  if reload:\n",
    "    save_dir = os.path.join(data_dir, \"sideroffsides/\" + featurizer + \"/\" + str(split))\n",
    "\n",
    "  dataset_file = os.path.join(\"./\", \"sider+offsides_combined.csv.gz\")\n",
    "\n",
    "\n",
    "  dataset = deepchem.utils.save.load_from_disk(dataset_file)\n",
    "  logger.info(\"Columns of dataset: %s\" % str(dataset.columns.values))\n",
    "  logger.info(\"Number of examples in dataset: %s\" % str(dataset.shape[0]))\n",
    "  SIDER_OFFSIDES_tasks = dataset.columns.values[1:].tolist()\n",
    "\n",
    "  if reload:\n",
    "    loaded, all_dataset, transformers = deepchem.utils.save.load_dataset_from_disk(\n",
    "        save_dir)\n",
    "    if loaded:\n",
    "      return SIDER_OFFSIDES_tasks, all_dataset, transformers\n",
    "\n",
    "  # Featurize OFFSIDES dataset\n",
    "  logger.info(\"About to featurize OFFSIDES dataset.\")\n",
    "  if featurizer == 'ECFP':\n",
    "    featurizer = deepchem.feat.CircularFingerprint(size=1024)\n",
    "  elif featurizer == 'GraphConv':\n",
    "    featurizer = deepchem.feat.ConvMolFeaturizer()\n",
    "  elif featurizer == 'Weave':\n",
    "    featurizer = deepchem.feat.WeaveFeaturizer()\n",
    "  elif featurizer == 'Raw':\n",
    "    featurizer = deepchem.feat.RawFeaturizer()\n",
    "\n",
    "  logger.info(\"SIDER OFFSIDES tasks: %s\" % str(SIDER_OFFSIDES_tasks))\n",
    "  logger.info(\"%d tasks in total\" % len(SIDER_OFFSIDES_tasks))\n",
    "\n",
    "  loader = deepchem.data.CSVLoader(\n",
    "      tasks=SIDER_OFFSIDES_tasks, smiles_field=\"smiles\", featurizer=featurizer)\n",
    "  dataset = loader.featurize(dataset_file)\n",
    "  logger.info(\"%d datapoints in SIDER OFFSIDES dataset\" % len(dataset))\n",
    "\n",
    "  # Initialize transformers\n",
    "  transformers = [\n",
    "      deepchem.trans.BalancingTransformer(transform_w=True, dataset=dataset)\n",
    "  ]\n",
    "  logger.info(\"About to transform data\")\n",
    "  for transformer in transformers:\n",
    "    dataset = transformer.transform(dataset)\n",
    "\n",
    "  if split == None:\n",
    "    return SIDER_OFFSIDES_tasks, (dataset, None, None), transformers\n",
    "\n",
    "  splitters = {\n",
    "      'index': deepchem.splits.IndexSplitter(),\n",
    "      'random': deepchem.splits.RandomSplitter(),\n",
    "      'scaffold': deepchem.splits.ScaffoldSplitter(),\n",
    "      'task': deepchem.splits.TaskSplitter()\n",
    "  }\n",
    "  splitter = splitters[split]\n",
    "  if split == 'task':\n",
    "    fold_datasets = splitter.k_fold_split(dataset, K)\n",
    "    all_dataset = fold_datasets\n",
    "  else:\n",
    "    train, valid, test = splitter.train_valid_test_split(dataset)\n",
    "    if reload:\n",
    "      deepchem.utils.save.save_dataset_to_disk(save_dir, train, valid, test,\n",
    "                                               transformers)\n",
    "    all_dataset = (train, valid, test)\n",
    "  return SIDER_OFFSIDES_tasks, all_dataset, transformers\n"
   ]
  },
  {
   "cell_type": "code",
   "execution_count": 3,
   "metadata": {},
   "outputs": [
    {
     "name": "stdout",
     "output_type": "stream",
     "text": [
      "Loading raw samples now.\n",
      "shard_size: 8192\n",
      "About to start loading CSV from ./sider+offsides_combined.csv.gz\n",
      "Loading shard 1 of size 8192.\n",
      "Featurizing sample 0\n",
      "Featurizing sample 1000\n",
      "TIMING: featurizing shard 0 took 5.617 s\n",
      "TIMING: dataset construction took 7.137 s\n",
      "Loading dataset from disk.\n",
      "TIMING: dataset construction took 0.959 s\n",
      "Loading dataset from disk.\n",
      "TIMING: dataset construction took 0.842 s\n",
      "Loading dataset from disk.\n",
      "TIMING: dataset construction took 0.376 s\n",
      "Loading dataset from disk.\n",
      "TIMING: dataset construction took 0.378 s\n",
      "Loading dataset from disk.\n"
     ]
    }
   ],
   "source": [
    "Sideroffsides_tasks, Sideroffsides_datasets, transformers = load_sider_offsides(featurizer='GraphConv',reload=True)\n",
    "train_dataset, valid_dataset, test_dataset = Sideroffsides_datasets"
   ]
  },
  {
   "cell_type": "code",
   "execution_count": 4,
   "metadata": {},
   "outputs": [],
   "source": [
    "featurizer = dc.feat.CircularFingerprint(size = 1352)"
   ]
  },
  {
   "cell_type": "code",
   "execution_count": 5,
   "metadata": {},
   "outputs": [],
   "source": [
    "loader = dc.data.CSVLoader(tasks=Sideroffsides_tasks, \n",
    "                           smiles_field=\"smiles\",\n",
    "                           featurizer=featurizer)"
   ]
  },
  {
   "cell_type": "code",
   "execution_count": 6,
   "metadata": {},
   "outputs": [
    {
     "name": "stdout",
     "output_type": "stream",
     "text": [
      "Loading raw samples now.\n",
      "shard_size: 8192\n",
      "About to start loading CSV from sider+offsides_combined.csv\n",
      "Loading shard 1 of size 8192.\n",
      "Featurizing sample 0\n",
      "Featurizing sample 1000\n",
      "TIMING: featurizing shard 0 took 3.740 s\n",
      "TIMING: dataset construction took 3.839 s\n",
      "Loading dataset from disk.\n"
     ]
    },
    {
     "data": {
      "text/plain": [
       "1690"
      ]
     },
     "execution_count": 6,
     "metadata": {},
     "output_type": "execute_result"
    }
   ],
   "source": [
    "dataset = loader.featurize('sider+offsides_combined.csv')\n",
    "len(dataset)"
   ]
  },
  {
   "cell_type": "code",
   "execution_count": 7,
   "metadata": {},
   "outputs": [
    {
     "data": {
      "text/plain": [
       "(1352, 27)"
      ]
     },
     "execution_count": 7,
     "metadata": {},
     "output_type": "execute_result"
    }
   ],
   "source": [
    "train_dataset.y.shape"
   ]
  },
  {
   "cell_type": "code",
   "execution_count": 8,
   "metadata": {},
   "outputs": [
    {
     "data": {
      "text/plain": [
       "(169, 27)"
      ]
     },
     "execution_count": 8,
     "metadata": {},
     "output_type": "execute_result"
    }
   ],
   "source": [
    "valid_dataset.y.shape"
   ]
  },
  {
   "cell_type": "code",
   "execution_count": 9,
   "metadata": {},
   "outputs": [
    {
     "data": {
      "text/plain": [
       "(169, 27)"
      ]
     },
     "execution_count": 9,
     "metadata": {},
     "output_type": "execute_result"
    }
   ],
   "source": [
    "test_dataset.y.shape"
   ]
  },
  {
   "cell_type": "code",
   "execution_count": 10,
   "metadata": {},
   "outputs": [
    {
     "name": "stdout",
     "output_type": "stream",
     "text": [
      "Computing train/valid/test indices\n",
      "TIMING: dataset construction took 0.169 s\n",
      "Loading dataset from disk.\n",
      "TIMING: dataset construction took 0.060 s\n",
      "Loading dataset from disk.\n",
      "TIMING: dataset construction took 0.060 s\n",
      "Loading dataset from disk.\n"
     ]
    }
   ],
   "source": [
    "splitter = dc.splits.RandomSplitter('offsides.csv')\n",
    "train_dataset, valid_dataset, test_dataset = splitter.train_valid_test_split(\n",
    "    dataset)\n",
    "#NOTE THE RENAMING:\n",
    "valid_dataset, test_dataset = test_dataset, valid_dataset"
   ]
  },
  {
   "cell_type": "code",
   "execution_count": 11,
   "metadata": {},
   "outputs": [
    {
     "data": {
      "text/plain": [
       "1352"
      ]
     },
     "execution_count": 11,
     "metadata": {},
     "output_type": "execute_result"
    }
   ],
   "source": [
    "n_features = train_dataset.y.shape[0]\n",
    "n_features"
   ]
  },
  {
   "cell_type": "code",
   "execution_count": 12,
   "metadata": {},
   "outputs": [],
   "source": [
    "params_dict = {\"activation\": [\"relu\"],\n",
    "               \"optimizer\": [\"Adam\"],\n",
    "               \"momentum\": [.9],\n",
    "               \"penalty\": [0.]\n",
    "              }\n",
    "\n",
    "\n",
    "n_features = train_dataset.y.shape[0]\n",
    "def model_builder(model_params, model_dir):\n",
    "    model = dc.models.MultitaskClassifier(\n",
    "    len(Sideroffsides_tasks), n_features, **model_params)\n",
    "    return model"
   ]
  },
  {
   "cell_type": "code",
   "execution_count": 13,
   "metadata": {},
   "outputs": [
    {
     "name": "stdout",
     "output_type": "stream",
     "text": [
      "Fitting model 1/1\n",
      "hyperparameters: {'activation': 'relu', 'optimizer': 'Adam', 'momentum': 0.9, 'penalty': 0.0}\n",
      "WARNING:tensorflow:From /home/mamonteiro/anaconda3/envs/lei/lib/python3.6/site-packages/tensorflow/python/ops/resource_variable_ops.py:435: colocate_with (from tensorflow.python.framework.ops) is deprecated and will be removed in a future version.\n",
      "Instructions for updating:\n",
      "Colocations handled automatically by placer.\n"
     ]
    },
    {
     "name": "stderr",
     "output_type": "stream",
     "text": [
      "WARNING:tensorflow:From /home/mamonteiro/anaconda3/envs/lei/lib/python3.6/site-packages/tensorflow/python/ops/resource_variable_ops.py:435: colocate_with (from tensorflow.python.framework.ops) is deprecated and will be removed in a future version.\n",
      "Instructions for updating:\n",
      "Colocations handled automatically by placer.\n"
     ]
    },
    {
     "name": "stdout",
     "output_type": "stream",
     "text": [
      "computed_metrics: [0.4985361093038386, 0.5860515688101895, 0.4527426160337553, 0.46494252873563213, 0.5341932841932842, 0.5553376295881198, 0.6336152882205515, 0.6052757793764988, 0.5741106719367588, 0.6281156530408774, 0.7008658008658009, 0.6074950690335306, 0.4484848484848485, 0.5748966942148761, 0.5628881987577641, 0.40775401069518713, 0.5637522768670309, 0.5443636363636364, 0.5177514792899408, 0.5314625850340137, 0.5291806958473624, 0.5171156004489338, 0.551931008623922, 0.5963302752293578, 0.5792349726775956, 0.5670037926675096, 0.5334827682824321]\n",
      "Model 1/1, Metric mean-roc_auc_score, Validation set 0: 0.550626\n",
      "\tbest_validation_score so far: 0.550626\n",
      "computed_metrics: [0.9140633834849106, 0.9019010407741257, 0.8993881754035788, 0.9096054314900435, 0.9214842308047251, 0.8940018741064607, 0.9159372305486393, 0.9274721841315026, 0.9129573478876087, 0.9155981728871139, 0.9363563189731804, 0.9105810937545793, 0.8716270664941027, 0.9130503204518052, 0.9303614561766735, 0.9086282807333619, 0.9117814934192856, 0.9118007971114803, 0.9497196183461667, 0.9000542005420054, 0.9125399089735752, 0.9046232528214184, 0.9021177842062087, 0.8983490893121303, 0.9050177455270174, 0.9015607081422019, 0.9046704685302391]\n",
      "Best hyperparameters: ('relu', 'Adam', 0.9, 0.0)\n",
      "train_score: 0.910565\n",
      "validation_score: 0.550626\n"
     ]
    }
   ],
   "source": [
    "metric = dc.metrics.Metric(dc.metrics.roc_auc_score, np.mean)\n",
    "optimizer = dc.hyper.HyperparamOpt(model_builder)\n",
    "best_dnn, best_hyperparams, all_results = optimizer.hyperparam_search(params_dict, train_dataset, valid_dataset, [], metric)"
   ]
  },
  {
   "cell_type": "code",
   "execution_count": 14,
   "metadata": {},
   "outputs": [
    {
     "data": {
      "text/plain": [
       "MultitaskClassifier(activation_fns=None, bias_init_consts=None, dropouts=None,\n",
       "                    layer_sizes=None, n_classes=2, n_features=1352, n_tasks=27,\n",
       "                    weight_decay_penalty=None, weight_decay_penalty_type=None,\n",
       "                    weight_init_stddevs=None)"
      ]
     },
     "execution_count": 14,
     "metadata": {},
     "output_type": "execute_result"
    }
   ],
   "source": [
    "best_dnn"
   ]
  },
  {
   "cell_type": "code",
   "execution_count": 15,
   "metadata": {},
   "outputs": [
    {
     "data": {
      "text/plain": [
       "('relu', 'Adam', 0.9, 0.0)"
      ]
     },
     "execution_count": 15,
     "metadata": {},
     "output_type": "execute_result"
    }
   ],
   "source": [
    "best_hyperparams"
   ]
  },
  {
   "cell_type": "code",
   "execution_count": 16,
   "metadata": {},
   "outputs": [
    {
     "data": {
      "text/plain": [
       "{\"('relu', 'Adam', 0.9, 0.0)\": 0.5506264756527128}"
      ]
     },
     "execution_count": 16,
     "metadata": {},
     "output_type": "execute_result"
    }
   ],
   "source": [
    "all_results"
   ]
  },
  {
   "cell_type": "code",
   "execution_count": 17,
   "metadata": {},
   "outputs": [],
   "source": [
    "model=model_builder(params_dict,params_dict)"
   ]
  },
  {
   "cell_type": "code",
   "execution_count": 18,
   "metadata": {},
   "outputs": [
    {
     "data": {
      "text/plain": [
       "214.3611163284416"
      ]
     },
     "execution_count": 18,
     "metadata": {},
     "output_type": "execute_result"
    }
   ],
   "source": [
    "model.fit(train_dataset, nb_epoch=100)"
   ]
  },
  {
   "cell_type": "code",
   "execution_count": 19,
   "metadata": {},
   "outputs": [],
   "source": [
    "obj=best_dnn.fit(train_dataset,**params_dict,epochs=100)"
   ]
  },
  {
   "cell_type": "code",
   "execution_count": 20,
   "metadata": {},
   "outputs": [],
   "source": [
    "metric = dc.metrics.Metric(dc.metrics.roc_auc_score, np.mean)"
   ]
  },
  {
   "cell_type": "code",
   "execution_count": 21,
   "metadata": {},
   "outputs": [
    {
     "name": "stdout",
     "output_type": "stream",
     "text": [
      "computed_metrics: [0.9993654615042458, 0.9997595137722635, 0.9998117799488742, 0.9993642263587474, 0.9988997900516796, 0.9996245218948618, 0.9998001821370097, 0.9995165853743209, 0.9993876264878297, 0.9995369095165956, 0.9991544348806453, 0.9996983773433761, 0.9987546091670534, 0.9997817120375658, 0.9999007936507937, 0.9998358978656248, 0.9996450635048539, 0.9995803917497231, 0.9998744559758955, 0.9994364375461936, 0.9992324986687879, 0.999749426087261, 0.9997121598088741, 0.9992303069526627, 0.9996269070833343, 0.9993286506116208, 0.9994286216596343]\n"
     ]
    }
   ],
   "source": [
    "train_scores = model.evaluate(train_dataset, [metric], transformers)"
   ]
  },
  {
   "cell_type": "code",
   "execution_count": 22,
   "metadata": {},
   "outputs": [
    {
     "name": "stdout",
     "output_type": "stream",
     "text": [
      "computed_metrics: [0.4995120364346129, 0.6036036036036037, 0.48699015471167373, 0.4422413793103449, 0.4561834561834562, 0.5318016251050715, 0.5751488095238095, 0.6059952038369305, 0.5979319593450028, 0.5772681954137586, 0.6787878787878787, 0.5766354372123603, 0.4181818181818182, 0.5259986225895317, 0.47457298136645965, 0.5271836007130124, 0.5670916818457802, 0.5206363636363636, 0.5927021696252466, 0.5899659863945579, 0.5126262626262627, 0.5390361952861953, 0.5962223472065993, 0.6155581039755351, 0.5297131147540983, 0.5200695322376738, 0.56945222751471]\n"
     ]
    }
   ],
   "source": [
    "valid_scores = model.evaluate(valid_dataset, [metric], transformers)"
   ]
  },
  {
   "cell_type": "code",
   "execution_count": 23,
   "metadata": {},
   "outputs": [
    {
     "name": "stdout",
     "output_type": "stream",
     "text": [
      "computed_metrics: [0.4559206245933637, 0.5296502976190477, 0.5364247688428132, 0.6359180035650625, 0.5331960626757734, 0.4971988795518207, 0.5606026785714284, 0.4570668693009119, 0.4866842259291776, 0.5309405940594059, 0.5180180180180181, 0.49117599219258296, 0.7065439672801637, 0.5182795698924731, 0.5419320594479831, 0.561726659167604, 0.569378698224852, 0.5290794283815221, 0.5098245614035088, 0.5118049083566325, 0.5307935393258427, 0.5245098039215687, 0.6169823861748088, 0.5289232531500573, 0.5242486338797814, 0.5080128205128205, 0.5224789915966387]\n"
     ]
    }
   ],
   "source": [
    "test_scores = model.evaluate(test_dataset, [metric], transformers)"
   ]
  },
  {
   "cell_type": "code",
   "execution_count": 24,
   "metadata": {},
   "outputs": [
    {
     "name": "stdout",
     "output_type": "stream",
     "text": [
      "{'mean-roc_auc_score': 0.9995199015422345}\n",
      "{'mean-roc_auc_score': 0.5455966943489757}\n",
      "{'mean-roc_auc_score': 0.5347154183568764}\n"
     ]
    }
   ],
   "source": [
    "print(train_scores)\n",
    "print(valid_scores)\n",
    "print(test_scores)"
   ]
  },
  {
   "cell_type": "code",
   "execution_count": 25,
   "metadata": {},
   "outputs": [
    {
     "data": {
      "text/plain": [
       "[(0.0, 0.5614511892747203)]"
      ]
     },
     "execution_count": 25,
     "metadata": {},
     "output_type": "execute_result"
    }
   ],
   "source": [
    "import seaborn as sns\n",
    "\n",
    "\n",
    "sns.set(rc={'figure.figsize':(10,4)})\n",
    "\n",
    "sns.set(style=\"whitegrid\")\n",
    "ax = sns.barplot(x=test_scores['mean-roc_auc_score'],\n",
    "                    y=['First Scenario'])\n",
    "                    \n",
    "ax.set(xlim=(0.0, None))"
   ]
  },
  {
   "cell_type": "markdown",
   "metadata": {},
   "source": [
    "\n",
    "# Changing the most important hyperparameters"
   ]
  },
  {
   "cell_type": "code",
   "execution_count": 30,
   "metadata": {},
   "outputs": [],
   "source": [
    "params_dict = {\"activation\": [\"relu\",\"sigmoid\",\"tanh\"],\n",
    "               \"optimizer\": ['RMSprop','adam'],\n",
    "               \"momentum\": [.9],\n",
    "               \"dropouts\": [.5,0.2],\n",
    "               \"nb_layers\": [512],\n",
    "               \"penalty\": [0.]\n",
    "              }\n",
    "\n",
    "n_features = train_dataset.get_data_shape()[0]\n",
    "\n",
    "def model_builder(model_params, model_dir):\n",
    "    model = dc.models.MultitaskClassifier(\n",
    "    len(Sideroffsides_tasks), n_features, **model_params)\n",
    "    return model"
   ]
  },
  {
   "cell_type": "code",
   "execution_count": 31,
   "metadata": {},
   "outputs": [
    {
     "name": "stdout",
     "output_type": "stream",
     "text": [
      "Fitting model 1/12\n",
      "hyperparameters: {'activation': 'relu', 'optimizer': 'RMSprop', 'momentum': 0.9, 'dropouts': 0.5, 'nb_layers': 512, 'penalty': 0.0}\n",
      "computed_metrics: [0.49235523747560184, 0.5879155017086052, 0.45879043600562586, 0.443103448275862, 0.5237510237510237, 0.5542168674698795, 0.6337719298245614, 0.5971223021582734, 0.5875211744776963, 0.6169823861748089, 0.7025974025974026, 0.60387902695595, 0.3787878787878788, 0.5633608815426998, 0.563664596273292, 0.4336007130124777, 0.5473588342440802, 0.5409090909090909, 0.4822485207100592, 0.5290816326530612, 0.526374859708193, 0.5051907968574636, 0.5560554930633671, 0.5906727828746178, 0.5551001821493624, 0.5418773704171934, 0.5372653404314933]\n",
      "Model 1/12, Metric mean-roc_auc_score, Validation set 0: 0.542724\n",
      "\tbest_validation_score so far: 0.542724\n",
      "Fitting model 2/12\n",
      "hyperparameters: {'activation': 'relu', 'optimizer': 'RMSprop', 'momentum': 0.9, 'dropouts': 0.2, 'nb_layers': 512, 'penalty': 0.0}\n",
      "computed_metrics: [0.476740403383214, 0.5795278036657348, 0.4434599156118144, 0.45977011494252873, 0.5108517608517609, 0.5282992434855702, 0.6171679197994988, 0.5683453237410072, 0.5752399774138905, 0.6026919242273181, 0.7341991341991343, 0.5830046022353714, 0.4606060606060606, 0.5647382920110193, 0.5248447204968945, 0.45833333333333337, 0.5426533090467517, 0.5207272727272727, 0.5350098619329389, 0.5482993197278911, 0.5117845117845118, 0.5154320987654322, 0.568803899512561, 0.586697247706422, 0.5646630236794171, 0.5256005056890013, 0.5360044830484729]\n",
      "Model 2/12, Metric mean-roc_auc_score, Validation set 1: 0.542352\n",
      "\tbest_validation_score so far: 0.542724\n",
      "Fitting model 3/12\n",
      "hyperparameters: {'activation': 'relu', 'optimizer': 'adam', 'momentum': 0.9, 'dropouts': 0.5, 'nb_layers': 512, 'penalty': 0.0}\n",
      "computed_metrics: [0.49739752765126877, 0.5967691829760795, 0.4545710267229255, 0.45862068965517244, 0.5372645372645373, 0.5404875315214346, 0.6217105263157895, 0.6093525179856114, 0.5734048560135516, 0.6191425722831505, 0.7073593073593074, 0.613740959894806, 0.4212121212121212, 0.5575068870523416, 0.5791925465838509, 0.4322638146167558, 0.5554037644201579, 0.527090909090909, 0.49654832347140043, 0.5335034013605442, 0.5166947250280585, 0.5141694725028059, 0.5500562429696287, 0.5828746177370031, 0.5660291438979963, 0.5529393173198482, 0.5326421966937518]\n",
      "Model 3/12, Metric mean-roc_auc_score, Validation set 2: 0.546220\n",
      "\tbest_validation_score so far: 0.546220\n",
      "Fitting model 4/12\n",
      "hyperparameters: {'activation': 'relu', 'optimizer': 'adam', 'momentum': 0.9, 'dropouts': 0.2, 'nb_layers': 512, 'penalty': 0.0}\n",
      "computed_metrics: [0.47560182173064414, 0.5938179558869214, 0.4286919831223629, 0.45150862068965514, 0.5153562653562653, 0.5339030540767722, 0.6229636591478696, 0.5671462829736211, 0.5789102202145681, 0.6096709870388833, 0.7632034632034632, 0.5897435897435896, 0.5636363636363637, 0.5516528925619835, 0.4759316770186335, 0.47192513368983957, 0.557832422586521, 0.5327272727272727, 0.5527613412228798, 0.5581632653061225, 0.5011223344556678, 0.5063131313131313, 0.5479940007499062, 0.5948012232415902, 0.5734669095324832, 0.5256005056890012, 0.5413281031101149]\n",
      "Model 4/12, Metric mean-roc_auc_score, Validation set 3: 0.547621\n",
      "\tbest_validation_score so far: 0.547621\n",
      "Fitting model 5/12\n",
      "hyperparameters: {'activation': 'sigmoid', 'optimizer': 'RMSprop', 'momentum': 0.9, 'dropouts': 0.5, 'nb_layers': 512, 'penalty': 0.0}\n",
      "computed_metrics: [0.4599869876382563, 0.5994097545821684, 0.4393811533052039, 0.460919540229885, 0.5311220311220312, 0.5469319137013169, 0.6207706766917294, 0.6167865707434053, 0.588368153585545, 0.6269524759056164, 0.7307359307359307, 0.5953320184089415, 0.4242424242424242, 0.5680096418732783, 0.6001552795031055, 0.43582887700534756, 0.5605646630236794, 0.5265454545454545, 0.4970414201183432, 0.5595238095238095, 0.51010101010101, 0.5086980920314255, 0.5547431571053618, 0.5938837920489297, 0.5614754098360655, 0.5368204804045512, 0.5309610535163911]\n",
      "Model 5/12, Metric mean-roc_auc_score, Validation set 4: 0.547603\n",
      "\tbest_validation_score so far: 0.547621\n",
      "Fitting model 6/12\n",
      "hyperparameters: {'activation': 'sigmoid', 'optimizer': 'RMSprop', 'momentum': 0.9, 'dropouts': 0.2, 'nb_layers': 512, 'penalty': 0.0}\n",
      "computed_metrics: [0.4803188028627196, 0.5949052500776639, 0.4306610407876231, 0.44741379310344825, 0.5296887796887797, 0.5396469599327542, 0.6264097744360902, 0.5824940047961631, 0.5959909655561829, 0.6121635094715853, 0.735064935064935, 0.611439842209073, 0.5136363636363637, 0.5792011019283747, 0.49068322981366463, 0.4737076648841355, 0.5496357012750455, 0.5305454545454545, 0.5350098619329389, 0.5465986394557824, 0.5217452300785634, 0.5009820426487093, 0.5607424071991001, 0.5879204892966361, 0.5699757134183363, 0.5398230088495575, 0.5357242925189128]\n",
      "Model 6/12, Metric mean-roc_auc_score, Validation set 5: 0.548968\n",
      "\tbest_validation_score so far: 0.548968\n",
      "Fitting model 7/12\n",
      "hyperparameters: {'activation': 'sigmoid', 'optimizer': 'adam', 'momentum': 0.9, 'dropouts': 0.5, 'nb_layers': 512, 'penalty': 0.0}\n",
      "computed_metrics: [0.4842225113858165, 0.5938179558869214, 0.4489451476793249, 0.44080459770114944, 0.5616298116298116, 0.5364247688428131, 0.6353383458646618, 0.615347721822542, 0.5762281197063805, 0.6291126620139582, 0.7259740259740259, 0.6068376068376069, 0.36212121212121207, 0.581439393939394, 0.5535714285714286, 0.446078431372549, 0.5601092896174863, 0.5507272727272727, 0.4935897435897436, 0.5622448979591836, 0.5046296296296297, 0.5037878787878788, 0.5628046494188226, 0.6021406727828746, 0.5632969034608378, 0.5429835651074589, 0.5397870551975343]\n",
      "Model 7/12, Metric mean-roc_auc_score, Validation set 6: 0.547555\n",
      "\tbest_validation_score so far: 0.548968\n",
      "Fitting model 8/12\n",
      "hyperparameters: {'activation': 'sigmoid', 'optimizer': 'adam', 'momentum': 0.9, 'dropouts': 0.2, 'nb_layers': 512, 'penalty': 0.0}\n",
      "computed_metrics: [0.48210800260247233, 0.5817023920472196, 0.4420534458509142, 0.4508620689655172, 0.5257985257985258, 0.5294200056038105, 0.6000939849624061, 0.5731414868105515, 0.5911914172783739, 0.6021934197407777, 0.7428571428571429, 0.5889217619986851, 0.5166666666666666, 0.5568181818181819, 0.49922360248447206, 0.46301247771836007, 0.5494839101396478, 0.5165454545454546, 0.5266272189349113, 0.5438775510204081, 0.515712682379349, 0.5096801346801347, 0.5851143607049119, 0.5819571865443425, 0.5611718275652702, 0.5369785082174463, 0.5339030540767722]\n",
      "Model 8/12, Metric mean-roc_auc_score, Validation set 7: 0.544708\n",
      "\tbest_validation_score so far: 0.548968\n",
      "Fitting model 9/12\n",
      "hyperparameters: {'activation': 'tanh', 'optimizer': 'RMSprop', 'momentum': 0.9, 'dropouts': 0.5, 'nb_layers': 512, 'penalty': 0.0}\n",
      "computed_metrics: [0.4801561483409238, 0.5952159055607331, 0.44922644163150494, 0.44885057471264367, 0.5384930384930384, 0.550154104791258, 0.6328320802005013, 0.6050359712230216, 0.5614059853190287, 0.6121635094715853, 0.719047619047619, 0.6017422748191978, 0.29393939393939394, 0.5637052341597797, 0.5551242236024845, 0.43070409982174684, 0.5560109289617488, 0.5256363636363637, 0.5073964497041421, 0.5435374149659864, 0.5206228956228955, 0.5112233445566778, 0.5539932508436445, 0.5866972477064221, 0.5540376442015786, 0.5393489254108723, 0.536144578313253]\n",
      "Model 9/12, Metric mean-roc_auc_score, Validation set 8: 0.539720\n",
      "\tbest_validation_score so far: 0.548968\n",
      "Fitting model 10/12\n",
      "hyperparameters: {'activation': 'tanh', 'optimizer': 'RMSprop', 'momentum': 0.9, 'dropouts': 0.2, 'nb_layers': 512, 'penalty': 0.0}\n",
      "computed_metrics: [0.4783669486011711, 0.5886921404162784, 0.4333333333333333, 0.442528735632184, 0.5192465192465192, 0.5402073409918744, 0.6240601503759398, 0.5760191846522782, 0.5789102202145681, 0.6124958457959455, 0.7502164502164502, 0.5922090729783037, 0.6015151515151516, 0.5554407713498623, 0.468167701863354, 0.4788324420677362, 0.5582877959927139, 0.5276363636363637, 0.5133136094674556, 0.5311224489795918, 0.513608305274972, 0.5185185185185186, 0.5667416572928384, 0.5883792048929664, 0.5581360048573163, 0.5357142857142856, 0.5322219108994115]\n",
      "Model 10/12, Metric mean-roc_auc_score, Validation set 9: 0.547553\n",
      "\tbest_validation_score so far: 0.548968\n",
      "Fitting model 11/12\n",
      "hyperparameters: {'activation': 'tanh', 'optimizer': 'adam', 'momentum': 0.9, 'dropouts': 0.5, 'nb_layers': 512, 'penalty': 0.0}\n"
     ]
    },
    {
     "name": "stdout",
     "output_type": "stream",
     "text": [
      "computed_metrics: [0.49544567338972023, 0.6053122087604847, 0.4565400843881856, 0.44051724137931036, 0.5341932841932842, 0.5616419165032223, 0.6489661654135338, 0.6155875299760192, 0.5807453416149069, 0.6221335992023929, 0.6787878787878787, 0.6111111111111112, 0.4196969696969697, 0.5771349862258953, 0.5892857142857143, 0.4193404634581105, 0.5529751062537948, 0.5365454545454545, 0.5133136094674555, 0.5297619047619048, 0.5122053872053872, 0.5099607182940515, 0.5554930633670792, 0.607033639143731, 0.5837887067395264, 0.5481984829329962, 0.5465116279069767]\n",
      "Model 11/12, Metric mean-roc_auc_score, Validation set 10: 0.550083\n",
      "\tbest_validation_score so far: 0.550083\n",
      "Fitting model 12/12\n",
      "hyperparameters: {'activation': 'tanh', 'optimizer': 'adam', 'momentum': 0.9, 'dropouts': 0.2, 'nb_layers': 512, 'penalty': 0.0}\n",
      "computed_metrics: [0.468445022771633, 0.6025163094128612, 0.43136427566807317, 0.4655172413793104, 0.5225225225225225, 0.5337629588119921, 0.6055764411027569, 0.5738609112709832, 0.5886504799548278, 0.6010302426055167, 0.741991341991342, 0.5849769888231428, 0.5469696969696969, 0.5602617079889807, 0.43322981366459623, 0.4563279857397504, 0.5599574984820885, 0.5236363636363637, 0.5399408284023669, 0.555952380952381, 0.5074354657687992, 0.5137485970819304, 0.5631796025496814, 0.5900611620795106, 0.5689131754705525, 0.5453539823008848, 0.5379658167553936]\n",
      "Model 12/12, Metric mean-roc_auc_score, Validation set 11: 0.545302\n",
      "\tbest_validation_score so far: 0.550083\n",
      "computed_metrics: [0.9074340268441197, 0.8975442985913562, 0.8958371633925133, 0.9237907663113852, 0.9175534676079735, 0.9015344246646422, 0.9042793720148422, 0.9176320494350036, 0.9023591243653314, 0.9076011109580866, 0.9339862975088351, 0.9084398171214207, 0.8685746379819785, 0.9047452249508217, 0.9328286749482402, 0.9181077976446106, 0.9106591266643642, 0.910563601651901, 0.9118262470706395, 0.8998484848484849, 0.9095564598302622, 0.9031854618985405, 0.9088625994847661, 0.9029770710059172, 0.9013488017341738, 0.9056736190749235, 0.903035996835443]\n",
      "Best hyperparameters: ('tanh', 'adam', 0.9, 0.5, 512, 0.0)\n",
      "train_score: 0.907770\n",
      "validation_score: 0.550083\n"
     ]
    }
   ],
   "source": [
    "\n",
    "metric = dc.metrics.Metric(dc.metrics.roc_auc_score, np.mean)\n",
    "optimizer = dc.hyper.HyperparamOpt(model_builder)\n",
    "best_dnn, best_hyperparams, all_results = optimizer.hyperparam_search(\n",
    "    params_dict, train_dataset, valid_dataset, [], metric)"
   ]
  },
  {
   "cell_type": "code",
   "execution_count": 32,
   "metadata": {},
   "outputs": [],
   "source": [
    "obj=best_dnn.fit(train_dataset,**params_dict)"
   ]
  },
  {
   "cell_type": "code",
   "execution_count": 33,
   "metadata": {},
   "outputs": [],
   "source": [
    "metric = dc.metrics.Metric(dc.metrics.roc_auc_score, np.mean)"
   ]
  },
  {
   "cell_type": "code",
   "execution_count": 34,
   "metadata": {},
   "outputs": [
    {
     "name": "stdout",
     "output_type": "stream",
     "text": [
      "computed_metrics: [0.9685532773599177, 0.9557116907152894, 0.9526254508526806, 0.9660667970618315, 0.9664702727021041, 0.9588939049941873, 0.9671632645152539, 0.9721311902240891, 0.9511284319670863, 0.9666052655740716, 0.969445829629469, 0.9611126578939655, 0.9370711337940465, 0.9639241068595723, 0.9732617322291236, 0.9666628259784154, 0.9649931890564445, 0.9635099437061647, 0.9769068742327867, 0.9589172209903918, 0.9642873577575155, 0.9588194357819548, 0.9568434005440178, 0.9582135262573963, 0.9619687263127322, 0.9587370986238533, 0.9551413062587903]\n",
      "{'mean-roc_auc_score': 0.962043181921228}\n"
     ]
    }
   ],
   "source": [
    "train_scores = best_dnn.evaluate(train_dataset, [metric], transformers)\n",
    "print(train_scores)\n"
   ]
  },
  {
   "cell_type": "code",
   "execution_count": 35,
   "metadata": {},
   "outputs": [
    {
     "name": "stdout",
     "output_type": "stream",
     "text": [
      "computed_metrics: [0.4637280416395576, 0.5666356011183598, 0.4338959212376934, 0.435632183908046, 0.5143325143325144, 0.5319417203698515, 0.6046365914786967, 0.6177458033573142, 0.5879446640316205, 0.5892323030907278, 0.6978354978354977, 0.5930309007232084, 0.41515151515151516, 0.5246212121212122, 0.5854037267080745, 0.46167557932263814, 0.5403764420157863, 0.5232727272727273, 0.5325443786982249, 0.5460884353741496, 0.48330527497194165, 0.5109427609427609, 0.5695538057742782, 0.6102446483180428, 0.552367941712204, 0.5274968394437421, 0.5266181003082095]\n",
      "{'mean-roc_auc_score': 0.5387501900466146}\n"
     ]
    }
   ],
   "source": [
    "valid_scores = best_dnn.evaluate(valid_dataset, [metric], transformers)\n",
    "print(valid_scores)"
   ]
  },
  {
   "cell_type": "code",
   "execution_count": 36,
   "metadata": {},
   "outputs": [
    {
     "name": "stdout",
     "output_type": "stream",
     "text": [
      "computed_metrics: [0.5079700715679896, 0.5455357142857142, 0.5155505743905856, 0.6221033868092692, 0.5468059461631176, 0.4957983193277311, 0.5636904761904762, 0.4506079027355624, 0.49590283874743923, 0.5240244612696564, 0.583011583011583, 0.5126870527000651, 0.591002044989775, 0.5618279569892473, 0.601380042462845, 0.520434945631796, 0.5402366863905326, 0.5471917580591559, 0.5063157894736843, 0.4889717303510407, 0.5200842696629213, 0.5243697478991597, 0.6444001329345297, 0.520618556701031, 0.5285367334547661, 0.5197238658777119, 0.523389355742297]\n",
      "{'mean-roc_auc_score': 0.5371174794007291}\n"
     ]
    }
   ],
   "source": [
    "test_scores_v1 = best_dnn.evaluate(test_dataset, [metric], transformers)\n",
    "print(test_scores_v1)"
   ]
  },
  {
   "cell_type": "markdown",
   "metadata": {},
   "source": [
    "# Nossos resultados Finais"
   ]
  },
  {
   "cell_type": "code",
   "execution_count": 37,
   "metadata": {},
   "outputs": [
    {
     "data": {
      "text/plain": [
       "[(0, 0.5639733533707655)]"
      ]
     },
     "execution_count": 37,
     "metadata": {},
     "output_type": "execute_result"
    },
    {
     "data": {
      "image/png": "[encoded data removed]",
      "text/plain": [
       "<Figure size 720x288 with 1 Axes>"
      ]
     },
     "metadata": {},
     "output_type": "display_data"
    }
   ],
   "source": [
    "import seaborn as sns\n",
    "\n",
    "sns.set(rc={'figure.figsize':(10,4)})\n",
    "sns.set(style=\"whitegrid\")\n",
    "ax = sns.barplot(x=[test_scores['mean-roc_auc_score'],test_scores_v1['mean-roc_auc_score']],\n",
    "                 y=['First Scenario','Second Scenario'])\n",
    "ax.set(xlim=(0, None))"
   ]
  },
  {
   "cell_type": "code",
   "execution_count": null,
   "metadata": {},
   "outputs": [],
   "source": []
  }
 ],
 "metadata": {
  "kernelspec": {
   "display_name": "Python 3",
   "language": "python",
   "name": "python3"
  },
  "language_info": {
   "codemirror_mode": {
    "name": "ipython",
    "version": 3
   },
   "file_extension": ".py",
   "mimetype": "text/x-python",
   "name": "python",
   "nbconvert_exporter": "python",
   "pygments_lexer": "ipython3",
   "version": "3.6.8"
  }
 },
 "nbformat": 4,
 "nbformat_minor": 2
}
