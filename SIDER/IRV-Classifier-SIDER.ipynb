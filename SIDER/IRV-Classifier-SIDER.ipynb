{
 "cells": [
  {
   "cell_type": "markdown",
   "metadata": {},
   "source": [
    "## Multitask Networks On SIDER"
   ]
  },
  {
   "cell_type": "code",
   "execution_count": 1,
   "metadata": {},
   "outputs": [],
   "source": [
    "\"\"\"\n",
    "Script that trains multitask models on Tox21 dataset.\n",
    "\"\"\"\n",
    "from __future__ import print_function\n",
    "from __future__ import division\n",
    "from __future__ import unicode_literals\n",
    "\n",
    "import os\n",
    "import shutil\n",
    "import numpy as np\n",
    "import deepchem as dc\n",
    "import time\n",
    "from deepchem.molnet import load_sider\n"
   ]
  },
  {
   "cell_type": "code",
   "execution_count": 2,
   "metadata": {},
   "outputs": [
    {
     "name": "stdout",
     "output_type": "stream",
     "text": [
      "Loading dataset from disk.\n",
      "Loading dataset from disk.\n",
      "Loading dataset from disk.\n",
      "start similarity calculation\n",
      "similarity calculation takes 0 s\n",
      "start similarity calculation\n",
      "similarity calculation takes 0 s\n",
      "start similarity calculation\n",
      "similarity calculation takes 0 s\n"
     ]
    }
   ],
   "source": [
    "\n",
    "# Only for debug!\n",
    "np.random.seed(123)\n",
    "\n",
    "# Load Tox21 dataset\n",
    "n_features = 1024\n",
    "tox21_tasks, tox21_datasets, transformers = load_sider()\n",
    "train_dataset, valid_dataset, test_dataset = tox21_datasets\n",
    "K = 10\n",
    "# Fit models\n",
    "metric = dc.metrics.Metric(dc.metrics.roc_auc_score, np.mean)\n",
    "transformers = [dc.trans.IRVTransformer(K, len(tox21_tasks), train_dataset)]\n",
    "\n",
    "for transformer in transformers:\n",
    "  train_dataset = transformer.transform(train_dataset)\n",
    "  valid_dataset = transformer.transform(valid_dataset)\n",
    "  test_dataset = transformer.transform(test_dataset)\n"
   ]
  },
  {
   "cell_type": "code",
   "execution_count": 3,
   "metadata": {},
   "outputs": [
    {
     "name": "stdout",
     "output_type": "stream",
     "text": [
      "WARNING:tensorflow:From /home/mamonteiro/anaconda3/envs/lei_deepchem_python36/lib/python3.6/site-packages/tensorflow/python/framework/op_def_library.py:263: colocate_with (from tensorflow.python.framework.ops) is deprecated and will be removed in a future version.\n",
      "Instructions for updating:\n",
      "Colocations handled automatically by placer.\n",
      "WARNING:tensorflow:From /home/mamonteiro/anaconda3/envs/lei_deepchem_python36/lib/python3.6/site-packages/deepchem/models/tensorgraph/IRV.py:57: to_int32 (from tensorflow.python.ops.math_ops) is deprecated and will be removed in a future version.\n",
      "Instructions for updating:\n",
      "Use tf.cast instead.\n",
      "Evaluating model\n",
      "computed_metrics: [0.7133887861983981, 0.5869686162099228, 0.5545548362885824, 0.6714120454290782, 0.6686535662299853, 0.6440831452028541, 0.7355464433199559, 0.6223509661786147, 0.6202320536163948, 0.7211098398169337, 0.6833673229272885, 0.6084293435744257, 0.6963815152510124, 0.6155087140838436, 0.6587325308625203, 0.7275945236114001, 0.6328206078576724, 0.6010623336179617, 0.6009790757524897, 0.5766302809783708, 0.6714947105080507, 0.6503253144706551, 0.5845559845559845, 0.6420634773985723, 0.67014760960564, 0.7224631180223287, 0.6108820279044067]\n",
      "computed_metrics: [0.6950158227848102, 0.5520980669495521, 0.9295774647887324, 0.5903638544582167, 0.7024793388429752, 0.5849624060150376, 0.6810631229235881, 0.6776271186440678, 0.6105939716312057, 0.6824085005903189, 0.6818693693693694, 0.6418732782369146, 0.6568627450980392, 0.6203252032520324, 0.5805309734513274, 0.6848946660690274, 0.6348425196850394, 0.5218579234972678, 0.6916279069767441, 0.6743119266055047, 0.6665116279069767, 0.6875814155449413, 0.5737913486005088, 0.65687474500204, 0.6781712236665173, 0.6084605597964376, 0.540920716112532]\n",
      "Train scores\n",
      "{'mean-roc_auc_score': 0.6478421773879015}\n",
      "Validation scores\n",
      "{'mean-roc_auc_score': 0.6484258450555453}\n"
     ]
    }
   ],
   "source": [
    "\n",
    "model = dc.models.TensorflowMultitaskIRVClassifier(\n",
    "    len(tox21_tasks), K=K, learning_rate=0.001, penalty=0.05, batch_size=32)\n",
    "\n",
    "# Fit trained model\n",
    "model.fit(train_dataset, nb_epoch=10)\n",
    "\n",
    "print(\"Evaluating model\")\n",
    "train_scores = model.evaluate(train_dataset, [metric], transformers)\n",
    "valid_scores = model.evaluate(valid_dataset, [metric], transformers)\n",
    "\n",
    "print(\"Train scores\")\n",
    "print(train_scores)\n",
    "\n",
    "print(\"Validation scores\")\n",
    "print(valid_scores)"
   ]
  },
  {
   "cell_type": "code",
   "execution_count": null,
   "metadata": {},
   "outputs": [],
   "source": []
  }
 ],
 "metadata": {
  "kernelspec": {
   "display_name": "Python 3",
   "language": "python",
   "name": "python3"
  },
  "language_info": {
   "codemirror_mode": {
    "name": "ipython",
    "version": 3
   },
   "file_extension": ".py",
   "mimetype": "text/x-python",
   "name": "python",
   "nbconvert_exporter": "python",
   "pygments_lexer": "ipython3",
   "version": "3.6.8"
  }
 },
 "nbformat": 4,
 "nbformat_minor": 2
}
