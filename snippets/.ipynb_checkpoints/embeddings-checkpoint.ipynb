{
 "cells": [
  {
   "cell_type": "code",
   "execution_count": 1,
   "metadata": {},
   "outputs": [],
   "source": [
    "from mol2vec.features import mol2alt_sentence, MolSentence, DfVec, sentences2vec\n",
    "from gensim.models import Word2Vec\n",
    "from gensim.models import word2vec\n",
    "from rdkit import Chem\n",
    "import pandas as pd\n",
    "import numpy as np"
   ]
  },
  {
   "cell_type": "code",
   "execution_count": 2,
   "metadata": {},
   "outputs": [],
   "source": [
    "# Get SMILES from file\n",
    "def getSMILES(filepath):\n",
    "    df = pd.read_csv(filepath)    \n",
    "    #smiles = list(df['SMILES or PubChem ID'].dropna())\n",
    "    smiles_df = df[['SMILES or PubChem ID']].dropna()\n",
    "    # some cases have 2 SMILES per compound, which I think are isomers (by looking at the molecular drawings)\n",
    "    # keeping only the first SMILE string:\n",
    "    #smiles = [x.split(';')[0] for x in smiles]\n",
    "    return smiles_df"
   ]
  },
  {
   "cell_type": "code",
   "execution_count": 3,
   "metadata": {},
   "outputs": [],
   "source": [
    "# Generate molecules from SMILES strings\n",
    "def generateEmbeddings(smiles_df, trained_model):\n",
    "    smiles = list(smiles_df['SMILES or PubChem ID'])\n",
    "    smiles = [x.split(';')[0] for x in smiles]\n",
    "    # SMILES to Mol\n",
    "    molecules = [Chem.MolFromSmiles(x) for x in smiles]\n",
    "    # Load previously trained mol2vec model\n",
    "    model = Word2Vec.load(trained_model)\n",
    "    # Convert molecules to sentences and then to embeddings\n",
    "    sentences = [mol2alt_sentence(x, 1) for x in molecules]\n",
    "    vectors = [DfVec(x) for x in sentences2vec(sentences, model, unseen='UNK')]\n",
    "    vec_df = pd.DataFrame(data=np.array([x.vec for x in vectors]))\n",
    "    vec_df.columns = ['mol2vec_' + str(x+1) for x in vec_df.columns.values]\n",
    "    vec_df.index = smiles_df.index.values\n",
    "    return pd.concat([smiles_df, vec_df], axis=1)"
   ]
  },
  {
   "cell_type": "code",
   "execution_count": 4,
   "metadata": {},
   "outputs": [],
   "source": [
    "def createDataset(original_data, embeddings_df, output):\n",
    "    original_df = pd.read_csv(original_data)\n",
    "    df = original_df.merge(embeddings_df, how='outer', on=\"SMILES or PubChem ID\")\n",
    "    df.to_csv(output, index=False)    "
   ]
  },
  {
   "cell_type": "code",
   "execution_count": null,
   "metadata": {},
   "outputs": [],
   "source": [
    "getSMILES('data/Drug_synergy/Drug_info_release_modified2.csv')\n",
    "emb_df = generateEmbeddings(smi, 'model_300dim.pkl')\n"
   ]
  },
  {
   "cell_type": "code",
   "execution_count": null,
   "metadata": {},
   "outputs": [],
   "source": [
    "createDataset('data/Drug_synergy/Drug_info_release_modified2.csv', emb_df, 'data/Drug_synergy/Drug_info_embeddings3.csv')"
   ]
  },
  {
   "cell_type": "markdown",
   "metadata": {},
   "source": [
    "# Multitask Networks On SIDER"
   ]
  },
  {
   "cell_type": "code",
   "execution_count": null,
   "metadata": {},
   "outputs": [],
   "source": []
  },
  {
   "cell_type": "code",
   "execution_count": null,
   "metadata": {},
   "outputs": [],
   "source": []
  }
 ],
 "metadata": {
  "kernelspec": {
   "display_name": "Python 3",
   "language": "python",
   "name": "python3"
  },
  "language_info": {
   "codemirror_mode": {
    "name": "ipython",
    "version": 3
   },
   "file_extension": ".py",
   "mimetype": "text/x-python",
   "name": "python",
   "nbconvert_exporter": "python",
   "pygments_lexer": "ipython3",
   "version": "3.6.8"
  }
 },
 "nbformat": 4,
 "nbformat_minor": 2
}
