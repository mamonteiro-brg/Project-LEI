{
 "cells": [
  {
   "cell_type": "code",
   "execution_count": 5,
   "metadata": {},
   "outputs": [],
   "source": [
    "from mol2vec.features import mol2alt_sentence, MolSentence, DfVec, sentences2vec\n",
    "from gensim.models import Word2Vec\n",
    "from gensim.models import word2vec\n",
    "from rdkit import Chem\n",
    "import pandas as pd\n",
    "import numpy as np\n",
    "from keras.callbacks import ModelCheckpoint, Callback\n",
    "import matplotlib.pyplot as plt\n",
    "import deepchem as dc\n",
    "from sklearn.model_selection import train_test_split\n",
    "from skmultilearn.model_selection import iterative_train_test_split\n",
    "from deepchem.data.datasets import NumpyDataset\n"
   ]
  },
  {
   "cell_type": "code",
   "execution_count": 6,
   "metadata": {},
   "outputs": [],
   "source": [
    "\"\"\"\n",
    "SIDER dataset loader.\n",
    "\"\"\"\n",
    "from __future__ import division\n",
    "from __future__ import unicode_literals\n",
    "\n",
    "import os\n",
    "import logging\n",
    "import deepchem\n",
    "\n",
    "logger = logging.getLogger(__name__)\n",
    "\n",
    "\n",
    "def load_sider_for_mol2vec(featurizer='ECFP', split='index', reload=True, K=4):\n",
    "  \"\"\"Load MUV datasets. Does not do train/test split\"\"\"\n",
    "  # Load Sider dataset\n",
    "  logger.info(\"About to load Sider dataset.\")\n",
    "  data_dir = deepchem.utils.get_data_dir()\n",
    "  if reload:\n",
    "    save_dir = os.path.join(data_dir, \"sider/\" + featurizer + \"/\" + str(split))\n",
    "\n",
    "  #dataset_file = os.path.join(data_dir, \"muv.csv.gz\")\n",
    "  dataset_file = os.path.join(\"/home/mamonteiro/source-code/Project-LEI/sider/\", \"sider.csv.gz\")\n",
    "  #if not os.path.exists(dataset_file):\n",
    "  #  deepchem.utils.download_url(\n",
    "  #      'http://deepchem.io.s3-website-us-west-1.amazonaws.com/datasets/muv.csv.gz'\n",
    "  #  )\n",
    "\n",
    "  SIDER_tasks = sorted([ 'Hepatobiliary disorders',\n",
    "       'Metabolism and nutrition disorders', 'Product issues', 'Eye disorders',\n",
    "       'Investigations', 'Musculoskeletal and connective tissue disorders',\n",
    "       'Gastrointestinal disorders', 'Social circumstances',\n",
    "       'Immune system disorders', 'Reproductive system and breast disorders',\n",
    "       'Neoplasms benign, malignant and unspecified (incl cysts and polyps)',\n",
    "       'General disorders and administration site conditions',\n",
    "       'Endocrine disorders', 'Surgical and medical procedures',\n",
    "       'Vascular disorders', 'Blood and lymphatic system disorders',\n",
    "       'Skin and subcutaneous tissue disorders',\n",
    "       'Congenital, familial and genetic disorders',\n",
    "       'Infections and infestations',\n",
    "       'Respiratory, thoracic and mediastinal disorders',\n",
    "       'Psychiatric disorders', 'Renal and urinary disorders',\n",
    "       'Pregnancy, puerperium and perinatal conditions',\n",
    "       'Ear and labyrinth disorders', 'Cardiac disorders',\n",
    "       'Nervous system disorders',\n",
    "       'Injury, poisoning and procedural complications'\n",
    "  ])\n",
    "\n",
    "  if reload:\n",
    "    loaded, all_dataset, transformers = deepchem.utils.save.load_dataset_from_disk(\n",
    "        save_dir)\n",
    "    if loaded:\n",
    "      return SIDER_tasks, all_dataset, transformers\n",
    "\n",
    "  # Featurize MUV dataset\n",
    "  logger.info(\"About to featurize MUV dataset.\")\n",
    "\n",
    "  if featurizer == 'ECFP':\n",
    "    featurizer = deepchem.feat.CircularFingerprint(size=1024)\n",
    "  elif featurizer == 'GraphConv':\n",
    "    featurizer = deepchem.feat.ConvMolFeaturizer()\n",
    "  elif featurizer == 'Weave':\n",
    "    featurizer = deepchem.feat.WeaveFeaturizer()\n",
    "  elif featurizer == 'Raw':\n",
    "    featurizer = deepchem.feat.RawFeaturizer()\n",
    "\n",
    "  loader = deepchem.data.CSVLoader(\n",
    "      tasks=SIDER_tasks, smiles_field=\"smiles\", featurizer=featurizer)\n",
    "  dataset = loader.featurize(dataset_file)\n",
    "\n",
    "  # Initialize transformers\n",
    "  transformers = [\n",
    "      deepchem.trans.BalancingTransformer(transform_w=True, dataset=dataset)\n",
    "  ]\n",
    "  logger.info(\"About to transform data\")\n",
    "  for transformer in transformers:\n",
    "    dataset = transformer.transform(dataset)\n",
    "\n",
    "  if split == None:\n",
    "    return SIDER_tasks, (dataset, None, None), transformers\n",
    "\n",
    "  splitters = {\n",
    "      'index': deepchem.splits.IndexSplitter(),\n",
    "      'random': deepchem.splits.RandomSplitter(),\n",
    "      'scaffold': deepchem.splits.ScaffoldSplitter(),\n",
    "      'task': deepchem.splits.TaskSplitter()\n",
    "  }\n",
    "  splitter = splitters[split]\n",
    "  if split == 'task':\n",
    "    fold_datasets = splitter.k_fold_split(dataset, K)\n",
    "    all_dataset = fold_datasets\n",
    "  else:\n",
    "    train, valid, test = splitter.train_valid_test_split(dataset)\n",
    "    all_dataset = (train, valid, test)\n",
    "    if reload:\n",
    "      deepchem.utils.save.save_dataset_to_disk(save_dir, train, valid, test,\n",
    "                                               transformers)\n",
    "  return SIDER_tasks, all_dataset, transformers\n"
   ]
  },
  {
   "cell_type": "code",
   "execution_count": 8,
   "metadata": {},
   "outputs": [
    {
     "name": "stdout",
     "output_type": "stream",
     "text": [
      "Loading dataset from disk.\n",
      "Loading dataset from disk.\n",
      "Loading dataset from disk.\n"
     ]
    }
   ],
   "source": [
    "tasks, datasets, transformers = load_sider_for_mol2vec()\n",
    "train_dataset, valid_dataset, test_dataset = datasets\n",
    "train_smiles = train_dataset.ids\n",
    "valid_smiles = valid_dataset.ids\n",
    "test_smiles = test_dataset.ids"
   ]
  },
  {
   "cell_type": "code",
   "execution_count": 9,
   "metadata": {},
   "outputs": [
    {
     "data": {
      "text/plain": [
       "1141"
      ]
     },
     "execution_count": 9,
     "metadata": {},
     "output_type": "execute_result"
    }
   ],
   "source": [
    "len(train_dataset)"
   ]
  },
  {
   "cell_type": "code",
   "execution_count": 10,
   "metadata": {},
   "outputs": [
    {
     "data": {
      "text/plain": [
       "array(['C(CNCCNCCNCCN)N',\n",
       "       'CC(C)(C)C1=CC(=C(C=C1NC(=O)C2=CNC3=CC=CC=C3C2=O)O)C(C)(C)C',\n",
       "       'CC[C@]12CC(=C)[C@H]3[C@H]([C@@H]1CC[C@]2(C#C)O)CCC4=CCCC[C@H]34',\n",
       "       ..., 'CC12CC(C3(C(C1CC(C2(C(=O)CO)O)O)CCC4=CC(=O)C=CC43C)F)O',\n",
       "       'CC1=CC(=CC(=C1OC2=NC(=NC(=C2Br)N)NC3=CC=C(C=C3)C#N)C)C#N',\n",
       "       'CC1=NN=C2N1C3=C(C=C(C=C3)Cl)C(=NC2)C4=CC=CC=C4Cl'], dtype=object)"
      ]
     },
     "execution_count": 10,
     "metadata": {},
     "output_type": "execute_result"
    }
   ],
   "source": [
    "train_dataset.ids"
   ]
  },
  {
   "cell_type": "code",
   "execution_count": 13,
   "metadata": {},
   "outputs": [],
   "source": [
    "# Get SMILES from file\n",
    "def getSMILES(filepath):\n",
    "    df = pd.read_csv(filepath)    \n",
    "    smiles_df = df[['smiles']].dropna()\n",
    "    return smiles_df"
   ]
  },
  {
   "cell_type": "code",
   "execution_count": 14,
   "metadata": {},
   "outputs": [],
   "source": [
    "# Generate molecules from SMILES strings\n",
    "def generateEmbeddings(smiles_df, trained_model):\n",
    "    smiles = list(smiles_df['smiles'])\n",
    "    smiles = [x.split(';')[0] for x in smiles]\n",
    "    # SMILES to Mol\n",
    "    molecules = [Chem.MolFromSmiles(x) for x in smiles]\n",
    "    # Load previously trained mol2vec model\n",
    "    model = Word2Vec.load(trained_model)\n",
    "    # Convert molecules to sentences and then to embeddings\n",
    "    sentences = [mol2alt_sentence(x, 1) for x in molecules]\n",
    "    vectors = [DfVec(x) for x in sentences2vec(sentences, model, unseen='UNK')]\n",
    "    vec_df = pd.DataFrame(data=np.array([x.vec for x in vectors]))\n",
    "    vec_df.columns = ['mol2vec_' + str(x+1) for x in vec_df.columns.values]\n",
    "    vec_df.index = smiles_df.index.values\n",
    "    return pd.concat([smiles_df, vec_df], axis=1)"
   ]
  },
  {
   "cell_type": "code",
   "execution_count": 18,
   "metadata": {},
   "outputs": [],
   "source": [
    "train_smiles_from_sider=pd.DataFrame(train_smiles_from_sider,  columns=['smiles'])\n",
    "valid_smiles_from_sider=pd.DataFrame(valid_smiles_from_sider,  columns=['smiles'])\n",
    "test_smiles_from_sider=pd.DataFrame(test_smiles_from_sider,  columns=['smiles'])"
   ]
  },
  {
   "cell_type": "code",
   "execution_count": 19,
   "metadata": {},
   "outputs": [
    {
     "data": {
      "text/plain": [
       "1141"
      ]
     },
     "execution_count": 19,
     "metadata": {},
     "output_type": "execute_result"
    }
   ],
   "source": [
    "len(train_smiles_from_sider)"
   ]
  },
  {
   "cell_type": "code",
   "execution_count": 20,
   "metadata": {},
   "outputs": [
    {
     "name": "stdout",
     "output_type": "stream",
     "text": [
      "current directory is : /home/mamonteiro/source-code/Project-LEI/sider\n",
      "Directory name is : sider\n"
     ]
    }
   ],
   "source": [
    "import os\n",
    " \n",
    "dirpath = os.getcwd()\n",
    "print(\"current directory is : \" + dirpath)\n",
    "foldername = os.path.basename(dirpath)\n",
    "print(\"Directory name is : \" + foldername)"
   ]
  },
  {
   "cell_type": "code",
   "execution_count": 22,
   "metadata": {},
   "outputs": [
    {
     "name": "stderr",
     "output_type": "stream",
     "text": [
      "WARNING:smart_open.smart_open_lib:this function is deprecated, use smart_open.open instead\n",
      "WARNING:smart_open.smart_open_lib:this function is deprecated, use smart_open.open instead\n",
      "WARNING:smart_open.smart_open_lib:this function is deprecated, use smart_open.open instead\n",
      "WARNING:smart_open.smart_open_lib:this function is deprecated, use smart_open.open instead\n",
      "WARNING:smart_open.smart_open_lib:this function is deprecated, use smart_open.open instead\n",
      "WARNING:smart_open.smart_open_lib:this function is deprecated, use smart_open.open instead\n"
     ]
    }
   ],
   "source": [
    "#Estas 3 linhas deveriam ser feitas de outra maneira\n",
    "#Deveriamos fazer o mesmo com o dataset completo mas neste momento vai ficar assim pelo receio que tenho de nao ter o dataset dividido como suposto\n",
    "\n",
    "train_embeddings_generated_from_mol2vec = generateEmbeddings(train_smiles_from_sider, '/home/mamonteiro/source-code/Project-LEI/mol2vec/examples/models/model_300dim.pkl')\n",
    "valid_embeddings_generated_from_mol2vec = generateEmbeddings(valid_smiles_from_sider, '/home/mamonteiro/source-code/Project-LEI/mol2vec/examples/models/model_300dim.pkl')\n",
    "test_embeddings_generated_from_mol2vec = generateEmbeddings(test_smiles_from_sider, '/home/mamonteiro/source-code/Project-LEI/mol2vec/examples/models/model_300dim.pkl')"
   ]
  },
  {
   "cell_type": "code",
   "execution_count": 23,
   "metadata": {},
   "outputs": [
    {
     "data": {
      "text/html": [
       "<div>\n",
       "<style scoped>\n",
       "    .dataframe tbody tr th:only-of-type {\n",
       "        vertical-align: middle;\n",
       "    }\n",
       "\n",
       "    .dataframe tbody tr th {\n",
       "        vertical-align: top;\n",
       "    }\n",
       "\n",
       "    .dataframe thead th {\n",
       "        text-align: right;\n",
       "    }\n",
       "</style>\n",
       "<table border=\"1\" class=\"dataframe\">\n",
       "  <thead>\n",
       "    <tr style=\"text-align: right;\">\n",
       "      <th></th>\n",
       "      <th>smiles</th>\n",
       "      <th>mol2vec_1</th>\n",
       "      <th>mol2vec_2</th>\n",
       "      <th>mol2vec_3</th>\n",
       "      <th>mol2vec_4</th>\n",
       "      <th>mol2vec_5</th>\n",
       "      <th>mol2vec_6</th>\n",
       "      <th>mol2vec_7</th>\n",
       "      <th>mol2vec_8</th>\n",
       "      <th>mol2vec_9</th>\n",
       "      <th>...</th>\n",
       "      <th>mol2vec_291</th>\n",
       "      <th>mol2vec_292</th>\n",
       "      <th>mol2vec_293</th>\n",
       "      <th>mol2vec_294</th>\n",
       "      <th>mol2vec_295</th>\n",
       "      <th>mol2vec_296</th>\n",
       "      <th>mol2vec_297</th>\n",
       "      <th>mol2vec_298</th>\n",
       "      <th>mol2vec_299</th>\n",
       "      <th>mol2vec_300</th>\n",
       "    </tr>\n",
       "  </thead>\n",
       "  <tbody>\n",
       "    <tr>\n",
       "      <th>0</th>\n",
       "      <td>C(CNCCNCCNCCN)N</td>\n",
       "      <td>-0.990727</td>\n",
       "      <td>-1.723967</td>\n",
       "      <td>1.596080</td>\n",
       "      <td>0.336589</td>\n",
       "      <td>5.995870</td>\n",
       "      <td>1.602312</td>\n",
       "      <td>-7.893780</td>\n",
       "      <td>-0.770941</td>\n",
       "      <td>2.798226</td>\n",
       "      <td>...</td>\n",
       "      <td>1.845091</td>\n",
       "      <td>4.080578</td>\n",
       "      <td>5.290233</td>\n",
       "      <td>2.681949</td>\n",
       "      <td>-6.017433</td>\n",
       "      <td>0.732134</td>\n",
       "      <td>-0.161610</td>\n",
       "      <td>-7.355957</td>\n",
       "      <td>-6.514126</td>\n",
       "      <td>-4.416229</td>\n",
       "    </tr>\n",
       "    <tr>\n",
       "      <th>1</th>\n",
       "      <td>CC(C)(C)C1=CC(=C(C=C1NC(=O)C2=CNC3=CC=CC=C3C2=...</td>\n",
       "      <td>0.596306</td>\n",
       "      <td>0.060384</td>\n",
       "      <td>-4.686247</td>\n",
       "      <td>4.381831</td>\n",
       "      <td>2.139633</td>\n",
       "      <td>-0.343262</td>\n",
       "      <td>-13.849467</td>\n",
       "      <td>0.780369</td>\n",
       "      <td>9.671047</td>\n",
       "      <td>...</td>\n",
       "      <td>-0.760953</td>\n",
       "      <td>9.614191</td>\n",
       "      <td>13.119958</td>\n",
       "      <td>-0.408570</td>\n",
       "      <td>-7.577562</td>\n",
       "      <td>-4.803534</td>\n",
       "      <td>-4.880173</td>\n",
       "      <td>-7.033062</td>\n",
       "      <td>-15.572207</td>\n",
       "      <td>-4.429869</td>\n",
       "    </tr>\n",
       "    <tr>\n",
       "      <th>2</th>\n",
       "      <td>CC[C@]12CC(=C)[C@H]3[C@H]([C@@H]1CC[C@]2(C#C)O...</td>\n",
       "      <td>1.854099</td>\n",
       "      <td>-4.819261</td>\n",
       "      <td>0.775984</td>\n",
       "      <td>3.286393</td>\n",
       "      <td>1.519570</td>\n",
       "      <td>-6.281527</td>\n",
       "      <td>-10.383826</td>\n",
       "      <td>5.000489</td>\n",
       "      <td>-0.742257</td>\n",
       "      <td>...</td>\n",
       "      <td>0.873612</td>\n",
       "      <td>15.422496</td>\n",
       "      <td>-1.348580</td>\n",
       "      <td>-1.571692</td>\n",
       "      <td>-17.224537</td>\n",
       "      <td>-6.963869</td>\n",
       "      <td>-12.192692</td>\n",
       "      <td>-3.912728</td>\n",
       "      <td>-8.017673</td>\n",
       "      <td>1.265650</td>\n",
       "    </tr>\n",
       "    <tr>\n",
       "      <th>3</th>\n",
       "      <td>CCC12CC(=C)C3C(C1CC[C@]2(C#C)O)CCC4=CC(=O)CCC34</td>\n",
       "      <td>2.140168</td>\n",
       "      <td>-5.169839</td>\n",
       "      <td>-0.039611</td>\n",
       "      <td>3.000724</td>\n",
       "      <td>0.787211</td>\n",
       "      <td>-6.880911</td>\n",
       "      <td>-10.384640</td>\n",
       "      <td>5.767844</td>\n",
       "      <td>-0.478307</td>\n",
       "      <td>...</td>\n",
       "      <td>0.627151</td>\n",
       "      <td>15.921182</td>\n",
       "      <td>-1.159732</td>\n",
       "      <td>-1.260444</td>\n",
       "      <td>-17.655016</td>\n",
       "      <td>-7.629984</td>\n",
       "      <td>-13.157971</td>\n",
       "      <td>-3.574889</td>\n",
       "      <td>-8.912206</td>\n",
       "      <td>1.509292</td>\n",
       "    </tr>\n",
       "    <tr>\n",
       "      <th>4</th>\n",
       "      <td>C1C(C2=CC=CC=C2N(C3=CC=CC=C31)C(=O)N)O</td>\n",
       "      <td>-0.227203</td>\n",
       "      <td>-2.800524</td>\n",
       "      <td>-1.099674</td>\n",
       "      <td>4.259158</td>\n",
       "      <td>-1.261016</td>\n",
       "      <td>-2.570959</td>\n",
       "      <td>-8.051775</td>\n",
       "      <td>1.025365</td>\n",
       "      <td>6.135835</td>\n",
       "      <td>...</td>\n",
       "      <td>-0.972749</td>\n",
       "      <td>9.117423</td>\n",
       "      <td>7.184863</td>\n",
       "      <td>-0.012285</td>\n",
       "      <td>-7.312431</td>\n",
       "      <td>-1.483516</td>\n",
       "      <td>-4.117091</td>\n",
       "      <td>-2.378627</td>\n",
       "      <td>-9.008883</td>\n",
       "      <td>-0.717169</td>\n",
       "    </tr>\n",
       "  </tbody>\n",
       "</table>\n",
       "<p>5 rows × 301 columns</p>\n",
       "</div>"
      ],
      "text/plain": [
       "                                              smiles  mol2vec_1  mol2vec_2  \\\n",
       "0                                    C(CNCCNCCNCCN)N  -0.990727  -1.723967   \n",
       "1  CC(C)(C)C1=CC(=C(C=C1NC(=O)C2=CNC3=CC=CC=C3C2=...   0.596306   0.060384   \n",
       "2  CC[C@]12CC(=C)[C@H]3[C@H]([C@@H]1CC[C@]2(C#C)O...   1.854099  -4.819261   \n",
       "3    CCC12CC(=C)C3C(C1CC[C@]2(C#C)O)CCC4=CC(=O)CCC34   2.140168  -5.169839   \n",
       "4             C1C(C2=CC=CC=C2N(C3=CC=CC=C31)C(=O)N)O  -0.227203  -2.800524   \n",
       "\n",
       "   mol2vec_3  mol2vec_4  mol2vec_5  mol2vec_6  mol2vec_7  mol2vec_8  \\\n",
       "0   1.596080   0.336589   5.995870   1.602312  -7.893780  -0.770941   \n",
       "1  -4.686247   4.381831   2.139633  -0.343262 -13.849467   0.780369   \n",
       "2   0.775984   3.286393   1.519570  -6.281527 -10.383826   5.000489   \n",
       "3  -0.039611   3.000724   0.787211  -6.880911 -10.384640   5.767844   \n",
       "4  -1.099674   4.259158  -1.261016  -2.570959  -8.051775   1.025365   \n",
       "\n",
       "   mol2vec_9  ...  mol2vec_291  mol2vec_292  mol2vec_293  mol2vec_294  \\\n",
       "0   2.798226  ...     1.845091     4.080578     5.290233     2.681949   \n",
       "1   9.671047  ...    -0.760953     9.614191    13.119958    -0.408570   \n",
       "2  -0.742257  ...     0.873612    15.422496    -1.348580    -1.571692   \n",
       "3  -0.478307  ...     0.627151    15.921182    -1.159732    -1.260444   \n",
       "4   6.135835  ...    -0.972749     9.117423     7.184863    -0.012285   \n",
       "\n",
       "   mol2vec_295  mol2vec_296  mol2vec_297  mol2vec_298  mol2vec_299  \\\n",
       "0    -6.017433     0.732134    -0.161610    -7.355957    -6.514126   \n",
       "1    -7.577562    -4.803534    -4.880173    -7.033062   -15.572207   \n",
       "2   -17.224537    -6.963869   -12.192692    -3.912728    -8.017673   \n",
       "3   -17.655016    -7.629984   -13.157971    -3.574889    -8.912206   \n",
       "4    -7.312431    -1.483516    -4.117091    -2.378627    -9.008883   \n",
       "\n",
       "   mol2vec_300  \n",
       "0    -4.416229  \n",
       "1    -4.429869  \n",
       "2     1.265650  \n",
       "3     1.509292  \n",
       "4    -0.717169  \n",
       "\n",
       "[5 rows x 301 columns]"
      ]
     },
     "execution_count": 23,
     "metadata": {},
     "output_type": "execute_result"
    }
   ],
   "source": [
    "train_embeddings_generated_from_mol2vec.head()"
   ]
  },
  {
   "cell_type": "code",
   "execution_count": 24,
   "metadata": {},
   "outputs": [
    {
     "data": {
      "text/plain": [
       "(1141, 143, 143)"
      ]
     },
     "execution_count": 24,
     "metadata": {},
     "output_type": "execute_result"
    }
   ],
   "source": [
    "len(train_embeddings_generated_from_mol2vec),len(valid_embeddings_generated_from_mol2vec),len(test_embeddings_generated_from_mol2vec) "
   ]
  },
  {
   "cell_type": "code",
   "execution_count": 25,
   "metadata": {},
   "outputs": [
    {
     "data": {
      "text/plain": [
       "'C(CNCCNCCNCCN)N'"
      ]
     },
     "execution_count": 25,
     "metadata": {},
     "output_type": "execute_result"
    }
   ],
   "source": [
    "train_embeddings_generated_from_mol2vec.iloc[0][0]"
   ]
  },
  {
   "cell_type": "code",
   "execution_count": 29,
   "metadata": {},
   "outputs": [],
   "source": [
    "import os\n",
    "import deepchem as dc\n",
    "\n",
    "\n",
    "#current_dir = os.path.dirname(os.path.realpath(\"__file__\"))\n",
    "#dataset_file = \"medium_muv.csv.gz\"\n",
    "\n",
    "\n",
    "#dataset = dc.utils.save.load_from_disk('/home/mamonteiro/source-code/Project-LEI/SIDER/sider_embeddings.csv')\n",
    "#print(\"Columns of dataset: %s\" % str(dataset.columns.values))\n",
    "#print(\"Number of examples in dataset: %s\" % str(dataset.shape[0]))"
   ]
  },
  {
   "cell_type": "markdown",
   "metadata": {},
   "source": [
    "The dataset that we must manipulate is thhe follwoing one: dataset\n",
    "\n",
    "In this dataset has as columns the SMILES\n",
    "                               The side efects\n",
    "                               and finally the embeddings\n",
    "        \n",
    "We need to split this dataset in order to provide this data to multitask model"
   ]
  },
  {
   "cell_type": "code",
   "execution_count": 30,
   "metadata": {},
   "outputs": [],
   "source": [
    "#dataset=dataset.drop(['smiles'], axis=1)"
   ]
  },
  {
   "cell_type": "code",
   "execution_count": 31,
   "metadata": {},
   "outputs": [],
   "source": [
    "train_embeddings=train_embeddings_generated_from_mol2vec.drop(['smiles'], axis=1)\n",
    "valid_embeddings=valid_embeddings_generated_from_mol2vec.drop(['smiles'], axis=1)\n",
    "test_embeddings=test_embeddings_generated_from_mol2vec.drop(['smiles'], axis=1)"
   ]
  },
  {
   "cell_type": "code",
   "execution_count": 32,
   "metadata": {},
   "outputs": [],
   "source": [
    "#sideEfects=\n",
    "#dataset.iloc[:,0:27].head()"
   ]
  },
  {
   "cell_type": "code",
   "execution_count": 33,
   "metadata": {},
   "outputs": [],
   "source": [
    "#sideEfects= dataset.iloc[:,0:27]"
   ]
  },
  {
   "cell_type": "code",
   "execution_count": 34,
   "metadata": {},
   "outputs": [],
   "source": [
    "#sideEfects.head()"
   ]
  },
  {
   "cell_type": "code",
   "execution_count": 35,
   "metadata": {},
   "outputs": [],
   "source": [
    "#dataset.iloc[:,27:]"
   ]
  },
  {
   "cell_type": "code",
   "execution_count": 36,
   "metadata": {},
   "outputs": [],
   "source": [
    "#Retirar, nao esta aqui a fazer nada\n",
    "#embeddings=dataset.iloc[:,27:]\n",
    "#embeddings=dataset"
   ]
  },
  {
   "cell_type": "code",
   "execution_count": 37,
   "metadata": {},
   "outputs": [
    {
     "data": {
      "text/html": [
       "<div>\n",
       "<style scoped>\n",
       "    .dataframe tbody tr th:only-of-type {\n",
       "        vertical-align: middle;\n",
       "    }\n",
       "\n",
       "    .dataframe tbody tr th {\n",
       "        vertical-align: top;\n",
       "    }\n",
       "\n",
       "    .dataframe thead th {\n",
       "        text-align: right;\n",
       "    }\n",
       "</style>\n",
       "<table border=\"1\" class=\"dataframe\">\n",
       "  <thead>\n",
       "    <tr style=\"text-align: right;\">\n",
       "      <th></th>\n",
       "      <th>mol2vec_1</th>\n",
       "      <th>mol2vec_2</th>\n",
       "      <th>mol2vec_3</th>\n",
       "      <th>mol2vec_4</th>\n",
       "      <th>mol2vec_5</th>\n",
       "      <th>mol2vec_6</th>\n",
       "      <th>mol2vec_7</th>\n",
       "      <th>mol2vec_8</th>\n",
       "      <th>mol2vec_9</th>\n",
       "      <th>mol2vec_10</th>\n",
       "      <th>...</th>\n",
       "      <th>mol2vec_291</th>\n",
       "      <th>mol2vec_292</th>\n",
       "      <th>mol2vec_293</th>\n",
       "      <th>mol2vec_294</th>\n",
       "      <th>mol2vec_295</th>\n",
       "      <th>mol2vec_296</th>\n",
       "      <th>mol2vec_297</th>\n",
       "      <th>mol2vec_298</th>\n",
       "      <th>mol2vec_299</th>\n",
       "      <th>mol2vec_300</th>\n",
       "    </tr>\n",
       "  </thead>\n",
       "  <tbody>\n",
       "    <tr>\n",
       "      <th>0</th>\n",
       "      <td>-0.990727</td>\n",
       "      <td>-1.723967</td>\n",
       "      <td>1.596080</td>\n",
       "      <td>0.336589</td>\n",
       "      <td>5.995870</td>\n",
       "      <td>1.602312</td>\n",
       "      <td>-7.893780</td>\n",
       "      <td>-0.770941</td>\n",
       "      <td>2.798226</td>\n",
       "      <td>-4.712134</td>\n",
       "      <td>...</td>\n",
       "      <td>1.845091</td>\n",
       "      <td>4.080578</td>\n",
       "      <td>5.290233</td>\n",
       "      <td>2.681949</td>\n",
       "      <td>-6.017433</td>\n",
       "      <td>0.732134</td>\n",
       "      <td>-0.161610</td>\n",
       "      <td>-7.355957</td>\n",
       "      <td>-6.514126</td>\n",
       "      <td>-4.416229</td>\n",
       "    </tr>\n",
       "    <tr>\n",
       "      <th>1</th>\n",
       "      <td>0.596306</td>\n",
       "      <td>0.060384</td>\n",
       "      <td>-4.686247</td>\n",
       "      <td>4.381831</td>\n",
       "      <td>2.139633</td>\n",
       "      <td>-0.343262</td>\n",
       "      <td>-13.849467</td>\n",
       "      <td>0.780369</td>\n",
       "      <td>9.671047</td>\n",
       "      <td>4.445226</td>\n",
       "      <td>...</td>\n",
       "      <td>-0.760953</td>\n",
       "      <td>9.614191</td>\n",
       "      <td>13.119958</td>\n",
       "      <td>-0.408570</td>\n",
       "      <td>-7.577562</td>\n",
       "      <td>-4.803534</td>\n",
       "      <td>-4.880173</td>\n",
       "      <td>-7.033062</td>\n",
       "      <td>-15.572207</td>\n",
       "      <td>-4.429869</td>\n",
       "    </tr>\n",
       "    <tr>\n",
       "      <th>2</th>\n",
       "      <td>1.854099</td>\n",
       "      <td>-4.819261</td>\n",
       "      <td>0.775984</td>\n",
       "      <td>3.286393</td>\n",
       "      <td>1.519570</td>\n",
       "      <td>-6.281527</td>\n",
       "      <td>-10.383826</td>\n",
       "      <td>5.000489</td>\n",
       "      <td>-0.742257</td>\n",
       "      <td>0.579260</td>\n",
       "      <td>...</td>\n",
       "      <td>0.873612</td>\n",
       "      <td>15.422496</td>\n",
       "      <td>-1.348580</td>\n",
       "      <td>-1.571692</td>\n",
       "      <td>-17.224537</td>\n",
       "      <td>-6.963869</td>\n",
       "      <td>-12.192692</td>\n",
       "      <td>-3.912728</td>\n",
       "      <td>-8.017673</td>\n",
       "      <td>1.265650</td>\n",
       "    </tr>\n",
       "    <tr>\n",
       "      <th>3</th>\n",
       "      <td>2.140168</td>\n",
       "      <td>-5.169839</td>\n",
       "      <td>-0.039611</td>\n",
       "      <td>3.000724</td>\n",
       "      <td>0.787211</td>\n",
       "      <td>-6.880911</td>\n",
       "      <td>-10.384640</td>\n",
       "      <td>5.767844</td>\n",
       "      <td>-0.478307</td>\n",
       "      <td>0.191780</td>\n",
       "      <td>...</td>\n",
       "      <td>0.627151</td>\n",
       "      <td>15.921182</td>\n",
       "      <td>-1.159732</td>\n",
       "      <td>-1.260444</td>\n",
       "      <td>-17.655016</td>\n",
       "      <td>-7.629984</td>\n",
       "      <td>-13.157971</td>\n",
       "      <td>-3.574889</td>\n",
       "      <td>-8.912206</td>\n",
       "      <td>1.509292</td>\n",
       "    </tr>\n",
       "    <tr>\n",
       "      <th>4</th>\n",
       "      <td>-0.227203</td>\n",
       "      <td>-2.800524</td>\n",
       "      <td>-1.099674</td>\n",
       "      <td>4.259158</td>\n",
       "      <td>-1.261016</td>\n",
       "      <td>-2.570959</td>\n",
       "      <td>-8.051775</td>\n",
       "      <td>1.025365</td>\n",
       "      <td>6.135835</td>\n",
       "      <td>2.401863</td>\n",
       "      <td>...</td>\n",
       "      <td>-0.972749</td>\n",
       "      <td>9.117423</td>\n",
       "      <td>7.184863</td>\n",
       "      <td>-0.012285</td>\n",
       "      <td>-7.312431</td>\n",
       "      <td>-1.483516</td>\n",
       "      <td>-4.117091</td>\n",
       "      <td>-2.378627</td>\n",
       "      <td>-9.008883</td>\n",
       "      <td>-0.717169</td>\n",
       "    </tr>\n",
       "  </tbody>\n",
       "</table>\n",
       "<p>5 rows × 300 columns</p>\n",
       "</div>"
      ],
      "text/plain": [
       "   mol2vec_1  mol2vec_2  mol2vec_3  mol2vec_4  mol2vec_5  mol2vec_6  \\\n",
       "0  -0.990727  -1.723967   1.596080   0.336589   5.995870   1.602312   \n",
       "1   0.596306   0.060384  -4.686247   4.381831   2.139633  -0.343262   \n",
       "2   1.854099  -4.819261   0.775984   3.286393   1.519570  -6.281527   \n",
       "3   2.140168  -5.169839  -0.039611   3.000724   0.787211  -6.880911   \n",
       "4  -0.227203  -2.800524  -1.099674   4.259158  -1.261016  -2.570959   \n",
       "\n",
       "   mol2vec_7  mol2vec_8  mol2vec_9  mol2vec_10  ...  mol2vec_291  mol2vec_292  \\\n",
       "0  -7.893780  -0.770941   2.798226   -4.712134  ...     1.845091     4.080578   \n",
       "1 -13.849467   0.780369   9.671047    4.445226  ...    -0.760953     9.614191   \n",
       "2 -10.383826   5.000489  -0.742257    0.579260  ...     0.873612    15.422496   \n",
       "3 -10.384640   5.767844  -0.478307    0.191780  ...     0.627151    15.921182   \n",
       "4  -8.051775   1.025365   6.135835    2.401863  ...    -0.972749     9.117423   \n",
       "\n",
       "   mol2vec_293  mol2vec_294  mol2vec_295  mol2vec_296  mol2vec_297  \\\n",
       "0     5.290233     2.681949    -6.017433     0.732134    -0.161610   \n",
       "1    13.119958    -0.408570    -7.577562    -4.803534    -4.880173   \n",
       "2    -1.348580    -1.571692   -17.224537    -6.963869   -12.192692   \n",
       "3    -1.159732    -1.260444   -17.655016    -7.629984   -13.157971   \n",
       "4     7.184863    -0.012285    -7.312431    -1.483516    -4.117091   \n",
       "\n",
       "   mol2vec_298  mol2vec_299  mol2vec_300  \n",
       "0    -7.355957    -6.514126    -4.416229  \n",
       "1    -7.033062   -15.572207    -4.429869  \n",
       "2    -3.912728    -8.017673     1.265650  \n",
       "3    -3.574889    -8.912206     1.509292  \n",
       "4    -2.378627    -9.008883    -0.717169  \n",
       "\n",
       "[5 rows x 300 columns]"
      ]
     },
     "execution_count": 37,
     "metadata": {},
     "output_type": "execute_result"
    }
   ],
   "source": [
    "train_embeddings.head()"
   ]
  },
  {
   "cell_type": "code",
   "execution_count": 38,
   "metadata": {},
   "outputs": [
    {
     "data": {
      "text/plain": [
       "False"
      ]
     },
     "execution_count": 38,
     "metadata": {},
     "output_type": "execute_result"
    }
   ],
   "source": [
    "train_embeddings.isnull().any().any()"
   ]
  },
  {
   "cell_type": "code",
   "execution_count": 39,
   "metadata": {},
   "outputs": [
    {
     "data": {
      "text/plain": [
       "300"
      ]
     },
     "execution_count": 39,
     "metadata": {},
     "output_type": "execute_result"
    }
   ],
   "source": [
    "len(train_embeddings.columns)"
   ]
  },
  {
   "cell_type": "code",
   "execution_count": 40,
   "metadata": {},
   "outputs": [
    {
     "data": {
      "text/plain": [
       "1141"
      ]
     },
     "execution_count": 40,
     "metadata": {},
     "output_type": "execute_result"
    }
   ],
   "source": [
    "len(train_embeddings)"
   ]
  },
  {
   "cell_type": "code",
   "execution_count": 41,
   "metadata": {},
   "outputs": [],
   "source": [
    "NCA1 = 100\n",
    "NCA2 = 100\n",
    "DROPRATE = 0.2\n",
    "EP = 50\n",
    "BATCH_SIZE = 128\n",
    "VAL_RATIO = 0.1\n",
    "TEST_RATIO = 0.1"
   ]
  },
  {
   "cell_type": "code",
   "execution_count": 42,
   "metadata": {},
   "outputs": [],
   "source": [
    "# VERFICAR SE É NECESSÁRIO\n",
    "from deepchem.data.datasets import NumpyDataset # import NumpyDataset\n",
    "\n",
    "#NESTE MOMENTO NAO TENHO\n",
    "#dataset_with_weights = NumpyDataset(sideEfects) # creates numpy dataset object\n"
   ]
  },
  {
   "cell_type": "markdown",
   "metadata": {},
   "source": [
    "Iterating over NumpyDataset\n",
    "¶\n",
    "In order to iterate over NumpyDataset, we use itersamples method. \n",
    "\n",
    "We iterate over 4 quantities, namely X, y, w and ids. \n",
    "\n",
    "The first three quantities are the same as discussed above and ids is the id of the data instance. \n",
    "\n",
    "By default the id is given in order starting from 1\n"
   ]
  },
  {
   "cell_type": "markdown",
   "metadata": {},
   "source": [
    "You can also extract the ids by dataset.ids. This would return a numpy array consisting of the ids of the data instances."
   ]
  },
  {
   "cell_type": "markdown",
   "metadata": {},
   "source": [
    "dataset.ids"
   ]
  },
  {
   "cell_type": "code",
   "execution_count": 43,
   "metadata": {},
   "outputs": [],
   "source": [
    "#from deepchem.splits.splitters import IndexSplitter\n",
    "#splitter=IndexSplitter()\n",
    "#train_data,valid_data,test_data=splitter.split(dataset_with_weights,frac_train=0.7,frac_valid=0.2,frac_test=0.1)\n"
   ]
  },
  {
   "cell_type": "code",
   "execution_count": 44,
   "metadata": {},
   "outputs": [],
   "source": [
    "#train_data=[i for i in train_data]\n",
    "#valid_data=[i for i in valid_data]\n",
    "#test_data=[i for i in test_data]"
   ]
  },
  {
   "cell_type": "code",
   "execution_count": 45,
   "metadata": {},
   "outputs": [],
   "source": [
    "#len(train_data),len(valid_data),len(test_data)"
   ]
  },
  {
   "cell_type": "code",
   "execution_count": 46,
   "metadata": {},
   "outputs": [],
   "source": [
    "#dataset_with_weights"
   ]
  },
  {
   "cell_type": "code",
   "execution_count": 60,
   "metadata": {},
   "outputs": [],
   "source": [
    "train_embeddings_dataset = dc.data.NumpyDataset(train_embeddings,\n",
    "                                                train_dataset.y,\n",
    "                                                train_dataset.w,\n",
    "                                                train_dataset.ids)"
   ]
  },
  {
   "cell_type": "code",
   "execution_count": 61,
   "metadata": {},
   "outputs": [],
   "source": [
    "valid_embeddings_dataset = dc.data.NumpyDataset(valid_embeddings,\n",
    "                                                valid_dataset.y,\n",
    "                                                valid_dataset.w,\n",
    "                                                valid_dataset.ids)"
   ]
  },
  {
   "cell_type": "code",
   "execution_count": 62,
   "metadata": {},
   "outputs": [],
   "source": [
    "test_embeddings_dataset = dc.data.NumpyDataset(test_embeddings,\n",
    "                                                test_dataset.y,\n",
    "                                                test_dataset.w,\n",
    "                                                test_dataset.ids)"
   ]
  },
  {
   "cell_type": "code",
   "execution_count": 63,
   "metadata": {},
   "outputs": [],
   "source": [
    "nb_epochs=[50,100, 150, 200,250,300,400,500,1000,2000]\n",
    "losses = []\n",
    "loss =0"
   ]
  },
  {
   "cell_type": "code",
   "execution_count": 64,
   "metadata": {},
   "outputs": [
    {
     "name": "stdout",
     "output_type": "stream",
     "text": [
      "Epoch 50 loss: 1737.725124\n",
      "Epoch 100 loss: 1453.424212\n",
      "Epoch 150 loss: 1421.950373\n",
      "Epoch 200 loss: 1405.342041\n",
      "Epoch 250 loss: 1374.143151\n",
      "Epoch 300 loss: 1349.430269\n",
      "Epoch 400 loss: 1333.241439\n",
      "Epoch 500 loss: 1318.440115\n",
      "Epoch 1000 loss: 1297.899559\n",
      "Epoch 2000 loss: 1285.611590\n"
     ]
    }
   ],
   "source": [
    "model = dc.models.MultitaskClassifier(n_tasks=27,\n",
    "                                      n_features=300,\n",
    "                                      layer_sizes=[512])\n",
    "\n",
    "for epoch in nb_epochs :\n",
    "    loss = model.fit(train_embeddings_dataset, epoch=epoch)\n",
    "    print(\"Epoch %d loss: %f\" % (epoch, loss))\n",
    "    losses.append(loss)"
   ]
  },
  {
   "cell_type": "code",
   "execution_count": 65,
   "metadata": {},
   "outputs": [
    {
     "data": {
      "text/plain": [
       "<module 'matplotlib.pyplot' from '/home/mamonteiro/anaconda3/envs/lei/lib/python3.6/site-packages/matplotlib/pyplot.py'>"
      ]
     },
     "execution_count": 65,
     "metadata": {},
     "output_type": "execute_result"
    },
    {
     "data": {
      "image/png": "[encoded data removed]",
      "text/plain": [
       "<Figure size 720x504 with 1 Axes>"
      ]
     },
     "metadata": {
      "needs_background": "light"
     },
     "output_type": "display_data"
    }
   ],
   "source": [
    "import matplotlib.pyplot as plot\n",
    "\n",
    "plot.figure(figsize=(10,7))\n",
    "plot.ylabel(\"Loss\")\n",
    "plot.xlabel(\"Epoch\")\n",
    "x = nb_epochs\n",
    "y = losses\n",
    "plot.scatter(x, y)\n",
    "plot"
   ]
  },
  {
   "cell_type": "code",
   "execution_count": 66,
   "metadata": {},
   "outputs": [
    {
     "name": "stdout",
     "output_type": "stream",
     "text": [
      "computed_metrics: [0.822452933222384, 0.8049625468164794, 0.7640212969008991, 0.7481329724003277, 0.8136128861162326, 0.7660784791937195, 0.8506078055022392, 0.7886930161439442, 0.8063647566235368, 0.752810599310425, 0.7387602103614188, 0.7250992885757702, 0.8042819019893257, 0.7530451634771973, 0.7624547216515798, 0.81972409600753, 0.869063995215311, 0.8268661518661519, 0.9678206210713951, 0.79383661686078, 0.7654532714957792, 0.781599862208115, 0.7719921164342025, 0.8230572028663208, 0.8009297287307227, 0.8023183584550164, 0.7847186370676303]\n",
      "Training set ROC AUC: {'mean-roc_auc_score': 0.7966207124653494}\n"
     ]
    }
   ],
   "source": [
    "import numpy as np\n",
    "metric = dc.metrics.Metric(dc.metrics.roc_auc_score, np.mean, mode=\"classification\")\n",
    "train_score = model.evaluate(train_embeddings_dataset, [metric], transformers)\n",
    "print('Training set ROC AUC:', train_score)\n"
   ]
  },
  {
   "cell_type": "code",
   "execution_count": 67,
   "metadata": {},
   "outputs": [
    {
     "name": "stdout",
     "output_type": "stream",
     "text": [
      "computed_metrics: [0.6335723890632003, 0.6304347826086957, 0.5608899297423887, 0.587515299877601, 0.6043417366946778, 0.6265493802479007, 0.4795127353266888, 0.6439393939393939, 0.6730617088607594, 0.5518617021276596, 0.6474418604651162, 0.5594629156010229, 0.5740045078888054, 0.5928807166430929, 0.4649122807017544, 0.5968468468468469, 0.5896946564885497, 0.7201017811704835, 0.8943661971830986, 0.632093023255814, 0.5788102475032566, 0.6517119244391971, 0.5852671343766864, 0.642224409448819, 0.5847457627118644, 0.6211382113821138, 0.5327433628318584]\n",
      "Validation set ROC AUC: {'mean-roc_auc_score': 0.6096342554602721}\n"
     ]
    }
   ],
   "source": [
    "valid_score = model.evaluate(valid_embeddings_dataset, [metric], transformers)\n",
    "print('Validation set ROC AUC:', valid_score)"
   ]
  },
  {
   "cell_type": "code",
   "execution_count": 68,
   "metadata": {},
   "outputs": [
    {
     "name": "stdout",
     "output_type": "stream",
     "text": [
      "computed_metrics: [0.6523405972558515, 0.5765199161425576, 0.5765639589169, 0.6547619047619049, 0.6732203389830509, 0.6594117647058824, 0.6053149606299213, 0.5505208333333333, 0.71875, 0.6081632653061224, 0.5979609929078014, 0.5488493269648285, 0.6869328493647913, 0.6519607843137254, 0.6555555555555556, 0.6720907297830375, 0.6333333333333333, 0.46018518518518514, 0.574468085106383, 0.7477203647416413, 0.7203182374541004, 0.6830985915492958, 0.6331918906176333, 0.7054154995331465, 0.6349206349206349, 0.5709617180205415, 0.5094295143800094]\n",
      "Validation set ROC AUC: {'mean-roc_auc_score': 0.6282207716210062}\n"
     ]
    }
   ],
   "source": [
    "test_score = model.evaluate(test_embeddings_dataset, [metric], transformers)\n",
    "print('Validation set ROC AUC:', test_score)"
   ]
  },
  {
   "cell_type": "markdown",
   "metadata": {},
   "source": [
    "\n",
    "# Valores muito fracos - Melhorar ...."
   ]
  },
  {
   "cell_type": "code",
   "execution_count": null,
   "metadata": {},
   "outputs": [],
   "source": []
  }
 ],
 "metadata": {
  "kernelspec": {
   "display_name": "Python 3",
   "language": "python",
   "name": "python3"
  },
  "language_info": {
   "codemirror_mode": {
    "name": "ipython",
    "version": 3
   },
   "file_extension": ".py",
   "mimetype": "text/x-python",
   "name": "python",
   "nbconvert_exporter": "python",
   "pygments_lexer": "ipython3",
   "version": "3.6.8"
  }
 },
 "nbformat": 4,
 "nbformat_minor": 2
}
