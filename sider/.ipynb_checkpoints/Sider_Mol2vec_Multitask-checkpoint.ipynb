{
 "cells": [
  {
   "cell_type": "markdown",
   "metadata": {},
   "source": [
    "# Sider with Mol2Vec"
   ]
  },
  {
   "cell_type": "markdown",
   "metadata": {},
   "source": [
    "# Implementação da Baseline"
   ]
  },
  {
   "cell_type": "markdown",
   "metadata": {},
   "source": [
    "- Nesta implementação vamos usar um modelo Mol2vec pre-treinado para criar embeddings dos compostos (Algo que esteja implementado no DeepChem). \n",
    "\n",
    "- Depois vamos usar os embeddings (carregados como NumpyDataset) como input para um modelo MultitaskClassifier.\n"
   ]
  },
  {
   "cell_type": "code",
   "execution_count": 1,
   "metadata": {},
   "outputs": [
    {
     "name": "stderr",
     "output_type": "stream",
     "text": [
      "Using TensorFlow backend.\n",
      "/home/mamonteiro/anaconda3/envs/lei/lib/python3.6/site-packages/sklearn/externals/joblib/__init__.py:15: DeprecationWarning: sklearn.externals.joblib is deprecated in 0.21 and will be removed in 0.23. Please import this functionality directly from joblib, which can be installed with: pip install joblib. If this warning is raised when loading pickled models, you may need to re-serialize those models with scikit-learn 0.21+.\n",
      "  warnings.warn(msg, category=DeprecationWarning)\n"
     ]
    }
   ],
   "source": [
    "from mol2vec.features import mol2alt_sentence, MolSentence, DfVec, sentences2vec\n",
    "from gensim.models import Word2Vec\n",
    "from gensim.models import word2vec\n",
    "from rdkit import Chem\n",
    "import pandas as pd\n",
    "import numpy as np\n",
    "from keras.callbacks import ModelCheckpoint, Callback\n",
    "import matplotlib.pyplot as plt\n",
    "import deepchem as dc\n",
    "from sklearn.model_selection import train_test_split\n",
    "from skmultilearn.model_selection import iterative_train_test_split\n",
    "from deepchem.data.datasets import NumpyDataset\n",
    "import os\n",
    "import deepchem as dc\n",
    "\n",
    "from deepchem.data.datasets import NumpyDataset # import NumpyDataset\n",
    "\n",
    "\n",
    "import warnings\n",
    "warnings.filterwarnings(\"ignore\")"
   ]
  },
  {
   "cell_type": "code",
   "execution_count": 2,
   "metadata": {},
   "outputs": [],
   "source": [
    "\"\"\"\n",
    "SIDER dataset loader.\n",
    "\"\"\"\n",
    "from __future__ import division\n",
    "from __future__ import unicode_literals\n",
    "\n",
    "import os\n",
    "import logging\n",
    "import deepchem\n",
    "\n",
    "logger = logging.getLogger(__name__)\n",
    "\n",
    "\n",
    "def load_sider_for_mol2vec(featurizer='ECFP', split='index', reload=True, K=4):\n",
    "  \"\"\"Load MUV datasets. Does not do train/test split\"\"\"\n",
    "  # Load Sider dataset\n",
    "  logger.info(\"About to load Sider dataset.\")\n",
    "  data_dir = deepchem.utils.get_data_dir()\n",
    "  if reload:\n",
    "    save_dir = os.path.join(data_dir, \"sider/\" + featurizer + \"/\" + str(split))\n",
    "\n",
    "  #dataset_file = os.path.join(data_dir, \"muv.csv.gz\")\n",
    "  dataset_file = os.path.join(\"./\", \"sider.csv.gz\")\n",
    "  #if not os.path.exists(dataset_file):\n",
    "  #  deepchem.utils.download_url(\n",
    "  #      'http://deepchem.io.s3-website-us-west-1.amazonaws.com/datasets/muv.csv.gz'\n",
    "  #  )\n",
    "\n",
    "  SIDER_tasks = sorted([ 'Hepatobiliary disorders',\n",
    "       'Metabolism and nutrition disorders', 'Product issues', 'Eye disorders',\n",
    "       'Investigations', 'Musculoskeletal and connective tissue disorders',\n",
    "       'Gastrointestinal disorders', 'Social circumstances',\n",
    "       'Immune system disorders', 'Reproductive system and breast disorders',\n",
    "       'Neoplasms benign, malignant and unspecified (incl cysts and polyps)',\n",
    "       'General disorders and administration site conditions',\n",
    "       'Endocrine disorders', 'Surgical and medical procedures',\n",
    "       'Vascular disorders', 'Blood and lymphatic system disorders',\n",
    "       'Skin and subcutaneous tissue disorders',\n",
    "       'Congenital, familial and genetic disorders',\n",
    "       'Infections and infestations',\n",
    "       'Respiratory, thoracic and mediastinal disorders',\n",
    "       'Psychiatric disorders', 'Renal and urinary disorders',\n",
    "       'Pregnancy, puerperium and perinatal conditions',\n",
    "       'Ear and labyrinth disorders', 'Cardiac disorders',\n",
    "       'Nervous system disorders',\n",
    "       'Injury, poisoning and procedural complications'\n",
    "  ])\n",
    "\n",
    "  if reload:\n",
    "    loaded, all_dataset, transformers = deepchem.utils.save.load_dataset_from_disk(\n",
    "        save_dir)\n",
    "    if loaded:\n",
    "      return SIDER_tasks, all_dataset, transformers\n",
    "\n",
    "  # Featurize MUV dataset\n",
    "  logger.info(\"About to featurize MUV dataset.\")\n",
    "\n",
    "  if featurizer == 'ECFP':\n",
    "    featurizer = deepchem.feat.CircularFingerprint(size=1024)\n",
    "  elif featurizer == 'GraphConv':\n",
    "    featurizer = deepchem.feat.ConvMolFeaturizer()\n",
    "  elif featurizer == 'Weave':\n",
    "    featurizer = deepchem.feat.WeaveFeaturizer()\n",
    "  elif featurizer == 'Raw':\n",
    "    featurizer = deepchem.feat.RawFeaturizer()\n",
    "\n",
    "  loader = deepchem.data.CSVLoader(\n",
    "      tasks=SIDER_tasks, smiles_field=\"smiles\", featurizer=featurizer)\n",
    "  dataset = loader.featurize(dataset_file)\n",
    "\n",
    "  # Initialize transformers\n",
    "  transformers = [\n",
    "      deepchem.trans.BalancingTransformer(transform_w=True, dataset=dataset)\n",
    "  ]\n",
    "  logger.info(\"About to transform data\")\n",
    "  for transformer in transformers:\n",
    "    dataset = transformer.transform(dataset)\n",
    "\n",
    "  if split == None:\n",
    "    return SIDER_tasks, (dataset, None, None), transformers\n",
    "\n",
    "  splitters = {\n",
    "      'index': deepchem.splits.IndexSplitter(),\n",
    "      'random': deepchem.splits.RandomSplitter(),\n",
    "      'scaffold': deepchem.splits.ScaffoldSplitter(),\n",
    "      'task': deepchem.splits.TaskSplitter()\n",
    "  }\n",
    "  splitter = splitters[split]\n",
    "  if split == 'task':\n",
    "    fold_datasets = splitter.k_fold_split(dataset, K)\n",
    "    all_dataset = fold_datasets\n",
    "  else:\n",
    "    train, valid, test = splitter.train_valid_test_split(dataset)\n",
    "    all_dataset = (train, valid, test)\n",
    "    if reload:\n",
    "      deepchem.utils.save.save_dataset_to_disk(save_dir, train, valid, test,\n",
    "                                               transformers)\n",
    "  return SIDER_tasks, all_dataset, transformers\n"
   ]
  },
  {
   "cell_type": "code",
   "execution_count": 3,
   "metadata": {},
   "outputs": [
    {
     "name": "stdout",
     "output_type": "stream",
     "text": [
      "Loading dataset from disk.\n",
      "Loading dataset from disk.\n",
      "Loading dataset from disk.\n"
     ]
    }
   ],
   "source": [
    "tasks, datasets, transformers = load_sider_for_mol2vec()\n",
    "train_dataset, valid_dataset, test_dataset = datasets\n",
    "train_smiles = train_dataset.ids\n",
    "valid_smiles = valid_dataset.ids\n",
    "test_smiles = test_dataset.ids"
   ]
  },
  {
   "cell_type": "code",
   "execution_count": 4,
   "metadata": {},
   "outputs": [
    {
     "data": {
      "text/plain": [
       "1141"
      ]
     },
     "execution_count": 4,
     "metadata": {},
     "output_type": "execute_result"
    }
   ],
   "source": [
    "len(train_dataset)"
   ]
  },
  {
   "cell_type": "code",
   "execution_count": 5,
   "metadata": {},
   "outputs": [
    {
     "data": {
      "text/plain": [
       "array(['C(CNCCNCCNCCN)N',\n",
       "       'CC(C)(C)C1=CC(=C(C=C1NC(=O)C2=CNC3=CC=CC=C3C2=O)O)C(C)(C)C',\n",
       "       'CC[C@]12CC(=C)[C@H]3[C@H]([C@@H]1CC[C@]2(C#C)O)CCC4=CCCC[C@H]34',\n",
       "       ..., 'CC12CC(C3(C(C1CC(C2(C(=O)CO)O)O)CCC4=CC(=O)C=CC43C)F)O',\n",
       "       'CC1=CC(=CC(=C1OC2=NC(=NC(=C2Br)N)NC3=CC=C(C=C3)C#N)C)C#N',\n",
       "       'CC1=NN=C2N1C3=C(C=C(C=C3)Cl)C(=NC2)C4=CC=CC=C4Cl'], dtype=object)"
      ]
     },
     "execution_count": 5,
     "metadata": {},
     "output_type": "execute_result"
    }
   ],
   "source": [
    "train_dataset.ids"
   ]
  },
  {
   "cell_type": "code",
   "execution_count": 6,
   "metadata": {},
   "outputs": [],
   "source": [
    "# Get SMILES from file\n",
    "def getSMILES(filepath):\n",
    "    df = pd.read_csv(filepath)    \n",
    "    smiles_df = df[['smiles']].dropna()\n",
    "    return smiles_df"
   ]
  },
  {
   "cell_type": "code",
   "execution_count": 7,
   "metadata": {},
   "outputs": [],
   "source": [
    "# Generate molecules from SMILES strings\n",
    "def generateEmbeddings(smiles_df, trained_model):\n",
    "    smiles = list(smiles_df['smiles'])\n",
    "    smiles = [x.split(';')[0] for x in smiles]\n",
    "    # SMILES to Mol\n",
    "    molecules = [Chem.MolFromSmiles(x) for x in smiles]\n",
    "    # Load previously trained mol2vec model\n",
    "    model = Word2Vec.load(trained_model)\n",
    "    # Convert molecules to sentences and then to embeddings\n",
    "    sentences = [mol2alt_sentence(x, 1) for x in molecules]\n",
    "    vectors = [DfVec(x) for x in sentences2vec(sentences, model, unseen='UNK')]\n",
    "    vec_df = pd.DataFrame(data=np.array([x.vec for x in vectors]))\n",
    "    vec_df.columns = ['mol2vec_' + str(x+1) for x in vec_df.columns.values]\n",
    "    vec_df.index = smiles_df.index.values\n",
    "    return pd.concat([smiles_df, vec_df], axis=1)"
   ]
  },
  {
   "cell_type": "code",
   "execution_count": 8,
   "metadata": {},
   "outputs": [],
   "source": [
    "train_smiles_from_sider=pd.DataFrame(train_smiles,  columns=['smiles'])\n",
    "valid_smiles_from_sider=pd.DataFrame(valid_smiles,  columns=['smiles'])\n",
    "test_smiles_from_sider=pd.DataFrame(test_smiles,  columns=['smiles'])"
   ]
  },
  {
   "cell_type": "code",
   "execution_count": 9,
   "metadata": {},
   "outputs": [
    {
     "data": {
      "text/plain": [
       "1141"
      ]
     },
     "execution_count": 9,
     "metadata": {},
     "output_type": "execute_result"
    }
   ],
   "source": [
    "len(train_smiles_from_sider)"
   ]
  },
  {
   "cell_type": "code",
   "execution_count": 10,
   "metadata": {},
   "outputs": [
    {
     "name": "stdout",
     "output_type": "stream",
     "text": [
      "current directory is : /home/mamonteiro/source-code/Project-LEI/sider\n",
      "Directory name is : sider\n"
     ]
    }
   ],
   "source": [
    "import os\n",
    " \n",
    "dirpath = os.getcwd()\n",
    "print(\"current directory is : \" + dirpath)\n",
    "foldername = os.path.basename(dirpath)\n",
    "print(\"Directory name is : \" + foldername)"
   ]
  },
  {
   "cell_type": "code",
   "execution_count": 11,
   "metadata": {},
   "outputs": [
    {
     "name": "stderr",
     "output_type": "stream",
     "text": [
      "WARNING:smart_open.smart_open_lib:this function is deprecated, use smart_open.open instead\n",
      "WARNING:smart_open.smart_open_lib:this function is deprecated, use smart_open.open instead\n",
      "WARNING:smart_open.smart_open_lib:this function is deprecated, use smart_open.open instead\n",
      "WARNING:smart_open.smart_open_lib:this function is deprecated, use smart_open.open instead\n",
      "WARNING:smart_open.smart_open_lib:this function is deprecated, use smart_open.open instead\n",
      "WARNING:smart_open.smart_open_lib:this function is deprecated, use smart_open.open instead\n"
     ]
    }
   ],
   "source": [
    "#Estas 3 linhas deveriam ser feitas de outra maneira\n",
    "#Deveriamos fazer o mesmo com o dataset completo mas neste momento vai ficar assim pelo receio que tenho de nao ter o dataset dividido como suposto\n",
    "\n",
    "train_embeddings_generated_from_mol2vec = generateEmbeddings(train_smiles_from_sider, '/home/mamonteiro/source-code/Project-LEI/mol2vec/examples/models/model_300dim.pkl')\n",
    "valid_embeddings_generated_from_mol2vec = generateEmbeddings(valid_smiles_from_sider, '/home/mamonteiro/source-code/Project-LEI/mol2vec/examples/models/model_300dim.pkl')\n",
    "test_embeddings_generated_from_mol2vec = generateEmbeddings(test_smiles_from_sider, '/home/mamonteiro/source-code/Project-LEI/mol2vec/examples/models/model_300dim.pkl')"
   ]
  },
  {
   "cell_type": "code",
   "execution_count": 12,
   "metadata": {},
   "outputs": [
    {
     "data": {
      "text/html": [
       "<div>\n",
       "<style scoped>\n",
       "    .dataframe tbody tr th:only-of-type {\n",
       "        vertical-align: middle;\n",
       "    }\n",
       "\n",
       "    .dataframe tbody tr th {\n",
       "        vertical-align: top;\n",
       "    }\n",
       "\n",
       "    .dataframe thead th {\n",
       "        text-align: right;\n",
       "    }\n",
       "</style>\n",
       "<table border=\"1\" class=\"dataframe\">\n",
       "  <thead>\n",
       "    <tr style=\"text-align: right;\">\n",
       "      <th></th>\n",
       "      <th>smiles</th>\n",
       "      <th>mol2vec_1</th>\n",
       "      <th>mol2vec_2</th>\n",
       "      <th>mol2vec_3</th>\n",
       "      <th>mol2vec_4</th>\n",
       "      <th>mol2vec_5</th>\n",
       "      <th>mol2vec_6</th>\n",
       "      <th>mol2vec_7</th>\n",
       "      <th>mol2vec_8</th>\n",
       "      <th>mol2vec_9</th>\n",
       "      <th>...</th>\n",
       "      <th>mol2vec_291</th>\n",
       "      <th>mol2vec_292</th>\n",
       "      <th>mol2vec_293</th>\n",
       "      <th>mol2vec_294</th>\n",
       "      <th>mol2vec_295</th>\n",
       "      <th>mol2vec_296</th>\n",
       "      <th>mol2vec_297</th>\n",
       "      <th>mol2vec_298</th>\n",
       "      <th>mol2vec_299</th>\n",
       "      <th>mol2vec_300</th>\n",
       "    </tr>\n",
       "  </thead>\n",
       "  <tbody>\n",
       "    <tr>\n",
       "      <th>0</th>\n",
       "      <td>C(CNCCNCCNCCN)N</td>\n",
       "      <td>-0.990727</td>\n",
       "      <td>-1.723967</td>\n",
       "      <td>1.596080</td>\n",
       "      <td>0.336589</td>\n",
       "      <td>5.995870</td>\n",
       "      <td>1.602312</td>\n",
       "      <td>-7.893780</td>\n",
       "      <td>-0.770941</td>\n",
       "      <td>2.798226</td>\n",
       "      <td>...</td>\n",
       "      <td>1.845091</td>\n",
       "      <td>4.080578</td>\n",
       "      <td>5.290233</td>\n",
       "      <td>2.681949</td>\n",
       "      <td>-6.017433</td>\n",
       "      <td>0.732134</td>\n",
       "      <td>-0.161610</td>\n",
       "      <td>-7.355957</td>\n",
       "      <td>-6.514126</td>\n",
       "      <td>-4.416229</td>\n",
       "    </tr>\n",
       "    <tr>\n",
       "      <th>1</th>\n",
       "      <td>CC(C)(C)C1=CC(=C(C=C1NC(=O)C2=CNC3=CC=CC=C3C2=...</td>\n",
       "      <td>0.596306</td>\n",
       "      <td>0.060384</td>\n",
       "      <td>-4.686247</td>\n",
       "      <td>4.381831</td>\n",
       "      <td>2.139633</td>\n",
       "      <td>-0.343262</td>\n",
       "      <td>-13.849467</td>\n",
       "      <td>0.780369</td>\n",
       "      <td>9.671047</td>\n",
       "      <td>...</td>\n",
       "      <td>-0.760953</td>\n",
       "      <td>9.614191</td>\n",
       "      <td>13.119958</td>\n",
       "      <td>-0.408570</td>\n",
       "      <td>-7.577562</td>\n",
       "      <td>-4.803534</td>\n",
       "      <td>-4.880173</td>\n",
       "      <td>-7.033062</td>\n",
       "      <td>-15.572207</td>\n",
       "      <td>-4.429869</td>\n",
       "    </tr>\n",
       "    <tr>\n",
       "      <th>2</th>\n",
       "      <td>CC[C@]12CC(=C)[C@H]3[C@H]([C@@H]1CC[C@]2(C#C)O...</td>\n",
       "      <td>1.854099</td>\n",
       "      <td>-4.819261</td>\n",
       "      <td>0.775984</td>\n",
       "      <td>3.286393</td>\n",
       "      <td>1.519570</td>\n",
       "      <td>-6.281527</td>\n",
       "      <td>-10.383826</td>\n",
       "      <td>5.000489</td>\n",
       "      <td>-0.742257</td>\n",
       "      <td>...</td>\n",
       "      <td>0.873612</td>\n",
       "      <td>15.422496</td>\n",
       "      <td>-1.348580</td>\n",
       "      <td>-1.571692</td>\n",
       "      <td>-17.224537</td>\n",
       "      <td>-6.963869</td>\n",
       "      <td>-12.192692</td>\n",
       "      <td>-3.912728</td>\n",
       "      <td>-8.017673</td>\n",
       "      <td>1.265650</td>\n",
       "    </tr>\n",
       "    <tr>\n",
       "      <th>3</th>\n",
       "      <td>CCC12CC(=C)C3C(C1CC[C@]2(C#C)O)CCC4=CC(=O)CCC34</td>\n",
       "      <td>2.140168</td>\n",
       "      <td>-5.169839</td>\n",
       "      <td>-0.039611</td>\n",
       "      <td>3.000724</td>\n",
       "      <td>0.787211</td>\n",
       "      <td>-6.880911</td>\n",
       "      <td>-10.384640</td>\n",
       "      <td>5.767844</td>\n",
       "      <td>-0.478307</td>\n",
       "      <td>...</td>\n",
       "      <td>0.627151</td>\n",
       "      <td>15.921182</td>\n",
       "      <td>-1.159732</td>\n",
       "      <td>-1.260444</td>\n",
       "      <td>-17.655016</td>\n",
       "      <td>-7.629984</td>\n",
       "      <td>-13.157971</td>\n",
       "      <td>-3.574889</td>\n",
       "      <td>-8.912206</td>\n",
       "      <td>1.509292</td>\n",
       "    </tr>\n",
       "    <tr>\n",
       "      <th>4</th>\n",
       "      <td>C1C(C2=CC=CC=C2N(C3=CC=CC=C31)C(=O)N)O</td>\n",
       "      <td>-0.227203</td>\n",
       "      <td>-2.800524</td>\n",
       "      <td>-1.099674</td>\n",
       "      <td>4.259158</td>\n",
       "      <td>-1.261016</td>\n",
       "      <td>-2.570959</td>\n",
       "      <td>-8.051775</td>\n",
       "      <td>1.025365</td>\n",
       "      <td>6.135835</td>\n",
       "      <td>...</td>\n",
       "      <td>-0.972749</td>\n",
       "      <td>9.117423</td>\n",
       "      <td>7.184863</td>\n",
       "      <td>-0.012285</td>\n",
       "      <td>-7.312431</td>\n",
       "      <td>-1.483516</td>\n",
       "      <td>-4.117091</td>\n",
       "      <td>-2.378627</td>\n",
       "      <td>-9.008883</td>\n",
       "      <td>-0.717169</td>\n",
       "    </tr>\n",
       "  </tbody>\n",
       "</table>\n",
       "<p>5 rows × 301 columns</p>\n",
       "</div>"
      ],
      "text/plain": [
       "                                              smiles  mol2vec_1  mol2vec_2  \\\n",
       "0                                    C(CNCCNCCNCCN)N  -0.990727  -1.723967   \n",
       "1  CC(C)(C)C1=CC(=C(C=C1NC(=O)C2=CNC3=CC=CC=C3C2=...   0.596306   0.060384   \n",
       "2  CC[C@]12CC(=C)[C@H]3[C@H]([C@@H]1CC[C@]2(C#C)O...   1.854099  -4.819261   \n",
       "3    CCC12CC(=C)C3C(C1CC[C@]2(C#C)O)CCC4=CC(=O)CCC34   2.140168  -5.169839   \n",
       "4             C1C(C2=CC=CC=C2N(C3=CC=CC=C31)C(=O)N)O  -0.227203  -2.800524   \n",
       "\n",
       "   mol2vec_3  mol2vec_4  mol2vec_5  mol2vec_6  mol2vec_7  mol2vec_8  \\\n",
       "0   1.596080   0.336589   5.995870   1.602312  -7.893780  -0.770941   \n",
       "1  -4.686247   4.381831   2.139633  -0.343262 -13.849467   0.780369   \n",
       "2   0.775984   3.286393   1.519570  -6.281527 -10.383826   5.000489   \n",
       "3  -0.039611   3.000724   0.787211  -6.880911 -10.384640   5.767844   \n",
       "4  -1.099674   4.259158  -1.261016  -2.570959  -8.051775   1.025365   \n",
       "\n",
       "   mol2vec_9  ...  mol2vec_291  mol2vec_292  mol2vec_293  mol2vec_294  \\\n",
       "0   2.798226  ...     1.845091     4.080578     5.290233     2.681949   \n",
       "1   9.671047  ...    -0.760953     9.614191    13.119958    -0.408570   \n",
       "2  -0.742257  ...     0.873612    15.422496    -1.348580    -1.571692   \n",
       "3  -0.478307  ...     0.627151    15.921182    -1.159732    -1.260444   \n",
       "4   6.135835  ...    -0.972749     9.117423     7.184863    -0.012285   \n",
       "\n",
       "   mol2vec_295  mol2vec_296  mol2vec_297  mol2vec_298  mol2vec_299  \\\n",
       "0    -6.017433     0.732134    -0.161610    -7.355957    -6.514126   \n",
       "1    -7.577562    -4.803534    -4.880173    -7.033062   -15.572207   \n",
       "2   -17.224537    -6.963869   -12.192692    -3.912728    -8.017673   \n",
       "3   -17.655016    -7.629984   -13.157971    -3.574889    -8.912206   \n",
       "4    -7.312431    -1.483516    -4.117091    -2.378627    -9.008883   \n",
       "\n",
       "   mol2vec_300  \n",
       "0    -4.416229  \n",
       "1    -4.429869  \n",
       "2     1.265650  \n",
       "3     1.509292  \n",
       "4    -0.717169  \n",
       "\n",
       "[5 rows x 301 columns]"
      ]
     },
     "execution_count": 12,
     "metadata": {},
     "output_type": "execute_result"
    }
   ],
   "source": [
    "train_embeddings_generated_from_mol2vec.head()"
   ]
  },
  {
   "cell_type": "code",
   "execution_count": 13,
   "metadata": {},
   "outputs": [
    {
     "data": {
      "text/plain": [
       "(1141, 143, 143)"
      ]
     },
     "execution_count": 13,
     "metadata": {},
     "output_type": "execute_result"
    }
   ],
   "source": [
    "len(train_embeddings_generated_from_mol2vec),len(valid_embeddings_generated_from_mol2vec),len(test_embeddings_generated_from_mol2vec) "
   ]
  },
  {
   "cell_type": "code",
   "execution_count": 14,
   "metadata": {},
   "outputs": [
    {
     "data": {
      "text/plain": [
       "'C(CNCCNCCNCCN)N'"
      ]
     },
     "execution_count": 14,
     "metadata": {},
     "output_type": "execute_result"
    }
   ],
   "source": [
    "train_embeddings_generated_from_mol2vec.iloc[0][0]"
   ]
  },
  {
   "cell_type": "code",
   "execution_count": 15,
   "metadata": {},
   "outputs": [],
   "source": [
    "train_embeddings=train_embeddings_generated_from_mol2vec.drop(['smiles'], axis=1)\n",
    "valid_embeddings=valid_embeddings_generated_from_mol2vec.drop(['smiles'], axis=1)\n",
    "test_embeddings=test_embeddings_generated_from_mol2vec.drop(['smiles'], axis=1)"
   ]
  },
  {
   "cell_type": "code",
   "execution_count": 16,
   "metadata": {},
   "outputs": [
    {
     "data": {
      "text/html": [
       "<div>\n",
       "<style scoped>\n",
       "    .dataframe tbody tr th:only-of-type {\n",
       "        vertical-align: middle;\n",
       "    }\n",
       "\n",
       "    .dataframe tbody tr th {\n",
       "        vertical-align: top;\n",
       "    }\n",
       "\n",
       "    .dataframe thead th {\n",
       "        text-align: right;\n",
       "    }\n",
       "</style>\n",
       "<table border=\"1\" class=\"dataframe\">\n",
       "  <thead>\n",
       "    <tr style=\"text-align: right;\">\n",
       "      <th></th>\n",
       "      <th>mol2vec_1</th>\n",
       "      <th>mol2vec_2</th>\n",
       "      <th>mol2vec_3</th>\n",
       "      <th>mol2vec_4</th>\n",
       "      <th>mol2vec_5</th>\n",
       "      <th>mol2vec_6</th>\n",
       "      <th>mol2vec_7</th>\n",
       "      <th>mol2vec_8</th>\n",
       "      <th>mol2vec_9</th>\n",
       "      <th>mol2vec_10</th>\n",
       "      <th>...</th>\n",
       "      <th>mol2vec_291</th>\n",
       "      <th>mol2vec_292</th>\n",
       "      <th>mol2vec_293</th>\n",
       "      <th>mol2vec_294</th>\n",
       "      <th>mol2vec_295</th>\n",
       "      <th>mol2vec_296</th>\n",
       "      <th>mol2vec_297</th>\n",
       "      <th>mol2vec_298</th>\n",
       "      <th>mol2vec_299</th>\n",
       "      <th>mol2vec_300</th>\n",
       "    </tr>\n",
       "  </thead>\n",
       "  <tbody>\n",
       "    <tr>\n",
       "      <th>0</th>\n",
       "      <td>-0.990727</td>\n",
       "      <td>-1.723967</td>\n",
       "      <td>1.596080</td>\n",
       "      <td>0.336589</td>\n",
       "      <td>5.995870</td>\n",
       "      <td>1.602312</td>\n",
       "      <td>-7.893780</td>\n",
       "      <td>-0.770941</td>\n",
       "      <td>2.798226</td>\n",
       "      <td>-4.712134</td>\n",
       "      <td>...</td>\n",
       "      <td>1.845091</td>\n",
       "      <td>4.080578</td>\n",
       "      <td>5.290233</td>\n",
       "      <td>2.681949</td>\n",
       "      <td>-6.017433</td>\n",
       "      <td>0.732134</td>\n",
       "      <td>-0.161610</td>\n",
       "      <td>-7.355957</td>\n",
       "      <td>-6.514126</td>\n",
       "      <td>-4.416229</td>\n",
       "    </tr>\n",
       "    <tr>\n",
       "      <th>1</th>\n",
       "      <td>0.596306</td>\n",
       "      <td>0.060384</td>\n",
       "      <td>-4.686247</td>\n",
       "      <td>4.381831</td>\n",
       "      <td>2.139633</td>\n",
       "      <td>-0.343262</td>\n",
       "      <td>-13.849467</td>\n",
       "      <td>0.780369</td>\n",
       "      <td>9.671047</td>\n",
       "      <td>4.445226</td>\n",
       "      <td>...</td>\n",
       "      <td>-0.760953</td>\n",
       "      <td>9.614191</td>\n",
       "      <td>13.119958</td>\n",
       "      <td>-0.408570</td>\n",
       "      <td>-7.577562</td>\n",
       "      <td>-4.803534</td>\n",
       "      <td>-4.880173</td>\n",
       "      <td>-7.033062</td>\n",
       "      <td>-15.572207</td>\n",
       "      <td>-4.429869</td>\n",
       "    </tr>\n",
       "    <tr>\n",
       "      <th>2</th>\n",
       "      <td>1.854099</td>\n",
       "      <td>-4.819261</td>\n",
       "      <td>0.775984</td>\n",
       "      <td>3.286393</td>\n",
       "      <td>1.519570</td>\n",
       "      <td>-6.281527</td>\n",
       "      <td>-10.383826</td>\n",
       "      <td>5.000489</td>\n",
       "      <td>-0.742257</td>\n",
       "      <td>0.579260</td>\n",
       "      <td>...</td>\n",
       "      <td>0.873612</td>\n",
       "      <td>15.422496</td>\n",
       "      <td>-1.348580</td>\n",
       "      <td>-1.571692</td>\n",
       "      <td>-17.224537</td>\n",
       "      <td>-6.963869</td>\n",
       "      <td>-12.192692</td>\n",
       "      <td>-3.912728</td>\n",
       "      <td>-8.017673</td>\n",
       "      <td>1.265650</td>\n",
       "    </tr>\n",
       "    <tr>\n",
       "      <th>3</th>\n",
       "      <td>2.140168</td>\n",
       "      <td>-5.169839</td>\n",
       "      <td>-0.039611</td>\n",
       "      <td>3.000724</td>\n",
       "      <td>0.787211</td>\n",
       "      <td>-6.880911</td>\n",
       "      <td>-10.384640</td>\n",
       "      <td>5.767844</td>\n",
       "      <td>-0.478307</td>\n",
       "      <td>0.191780</td>\n",
       "      <td>...</td>\n",
       "      <td>0.627151</td>\n",
       "      <td>15.921182</td>\n",
       "      <td>-1.159732</td>\n",
       "      <td>-1.260444</td>\n",
       "      <td>-17.655016</td>\n",
       "      <td>-7.629984</td>\n",
       "      <td>-13.157971</td>\n",
       "      <td>-3.574889</td>\n",
       "      <td>-8.912206</td>\n",
       "      <td>1.509292</td>\n",
       "    </tr>\n",
       "    <tr>\n",
       "      <th>4</th>\n",
       "      <td>-0.227203</td>\n",
       "      <td>-2.800524</td>\n",
       "      <td>-1.099674</td>\n",
       "      <td>4.259158</td>\n",
       "      <td>-1.261016</td>\n",
       "      <td>-2.570959</td>\n",
       "      <td>-8.051775</td>\n",
       "      <td>1.025365</td>\n",
       "      <td>6.135835</td>\n",
       "      <td>2.401863</td>\n",
       "      <td>...</td>\n",
       "      <td>-0.972749</td>\n",
       "      <td>9.117423</td>\n",
       "      <td>7.184863</td>\n",
       "      <td>-0.012285</td>\n",
       "      <td>-7.312431</td>\n",
       "      <td>-1.483516</td>\n",
       "      <td>-4.117091</td>\n",
       "      <td>-2.378627</td>\n",
       "      <td>-9.008883</td>\n",
       "      <td>-0.717169</td>\n",
       "    </tr>\n",
       "  </tbody>\n",
       "</table>\n",
       "<p>5 rows × 300 columns</p>\n",
       "</div>"
      ],
      "text/plain": [
       "   mol2vec_1  mol2vec_2  mol2vec_3  mol2vec_4  mol2vec_5  mol2vec_6  \\\n",
       "0  -0.990727  -1.723967   1.596080   0.336589   5.995870   1.602312   \n",
       "1   0.596306   0.060384  -4.686247   4.381831   2.139633  -0.343262   \n",
       "2   1.854099  -4.819261   0.775984   3.286393   1.519570  -6.281527   \n",
       "3   2.140168  -5.169839  -0.039611   3.000724   0.787211  -6.880911   \n",
       "4  -0.227203  -2.800524  -1.099674   4.259158  -1.261016  -2.570959   \n",
       "\n",
       "   mol2vec_7  mol2vec_8  mol2vec_9  mol2vec_10  ...  mol2vec_291  mol2vec_292  \\\n",
       "0  -7.893780  -0.770941   2.798226   -4.712134  ...     1.845091     4.080578   \n",
       "1 -13.849467   0.780369   9.671047    4.445226  ...    -0.760953     9.614191   \n",
       "2 -10.383826   5.000489  -0.742257    0.579260  ...     0.873612    15.422496   \n",
       "3 -10.384640   5.767844  -0.478307    0.191780  ...     0.627151    15.921182   \n",
       "4  -8.051775   1.025365   6.135835    2.401863  ...    -0.972749     9.117423   \n",
       "\n",
       "   mol2vec_293  mol2vec_294  mol2vec_295  mol2vec_296  mol2vec_297  \\\n",
       "0     5.290233     2.681949    -6.017433     0.732134    -0.161610   \n",
       "1    13.119958    -0.408570    -7.577562    -4.803534    -4.880173   \n",
       "2    -1.348580    -1.571692   -17.224537    -6.963869   -12.192692   \n",
       "3    -1.159732    -1.260444   -17.655016    -7.629984   -13.157971   \n",
       "4     7.184863    -0.012285    -7.312431    -1.483516    -4.117091   \n",
       "\n",
       "   mol2vec_298  mol2vec_299  mol2vec_300  \n",
       "0    -7.355957    -6.514126    -4.416229  \n",
       "1    -7.033062   -15.572207    -4.429869  \n",
       "2    -3.912728    -8.017673     1.265650  \n",
       "3    -3.574889    -8.912206     1.509292  \n",
       "4    -2.378627    -9.008883    -0.717169  \n",
       "\n",
       "[5 rows x 300 columns]"
      ]
     },
     "execution_count": 16,
     "metadata": {},
     "output_type": "execute_result"
    }
   ],
   "source": [
    "train_embeddings.head()"
   ]
  },
  {
   "cell_type": "code",
   "execution_count": 17,
   "metadata": {},
   "outputs": [
    {
     "data": {
      "text/plain": [
       "False"
      ]
     },
     "execution_count": 17,
     "metadata": {},
     "output_type": "execute_result"
    }
   ],
   "source": [
    "train_embeddings.isnull().any().any()"
   ]
  },
  {
   "cell_type": "code",
   "execution_count": 18,
   "metadata": {},
   "outputs": [
    {
     "data": {
      "text/plain": [
       "300"
      ]
     },
     "execution_count": 18,
     "metadata": {},
     "output_type": "execute_result"
    }
   ],
   "source": [
    "len(train_embeddings.columns)"
   ]
  },
  {
   "cell_type": "code",
   "execution_count": 19,
   "metadata": {},
   "outputs": [
    {
     "data": {
      "text/plain": [
       "1141"
      ]
     },
     "execution_count": 19,
     "metadata": {},
     "output_type": "execute_result"
    }
   ],
   "source": [
    "len(train_embeddings)"
   ]
  },
  {
   "cell_type": "code",
   "execution_count": 20,
   "metadata": {},
   "outputs": [],
   "source": [
    "NCA1 = 100\n",
    "NCA2 = 100\n",
    "DROPRATE = 0.2\n",
    "EP = 50\n",
    "BATCH_SIZE = 128\n",
    "VAL_RATIO = 0.1\n",
    "TEST_RATIO = 0.1"
   ]
  },
  {
   "cell_type": "code",
   "execution_count": 21,
   "metadata": {},
   "outputs": [],
   "source": [
    "#dataset_with_weights"
   ]
  },
  {
   "cell_type": "code",
   "execution_count": 22,
   "metadata": {},
   "outputs": [],
   "source": [
    "train_embeddings_dataset = dc.data.NumpyDataset(train_embeddings,\n",
    "                                                train_dataset.y,\n",
    "                                                train_dataset.w,\n",
    "                                                train_dataset.ids)"
   ]
  },
  {
   "cell_type": "code",
   "execution_count": 23,
   "metadata": {},
   "outputs": [],
   "source": [
    "valid_embeddings_dataset = dc.data.NumpyDataset(valid_embeddings,\n",
    "                                                valid_dataset.y,\n",
    "                                                valid_dataset.w,\n",
    "                                                valid_dataset.ids)"
   ]
  },
  {
   "cell_type": "code",
   "execution_count": 24,
   "metadata": {},
   "outputs": [],
   "source": [
    "test_embeddings_dataset = dc.data.NumpyDataset(test_embeddings,\n",
    "                                                test_dataset.y,\n",
    "                                                test_dataset.w,\n",
    "                                                test_dataset.ids)"
   ]
  },
  {
   "cell_type": "code",
   "execution_count": 25,
   "metadata": {},
   "outputs": [],
   "source": [
    "nb_epochs=[50,100, 150, 200,250,300,400,500,1000,2000]\n",
    "losses = []\n",
    "loss =0"
   ]
  },
  {
   "cell_type": "code",
   "execution_count": 26,
   "metadata": {},
   "outputs": [
    {
     "name": "stdout",
     "output_type": "stream",
     "text": [
      "WARNING:tensorflow:From /home/mamonteiro/anaconda3/envs/lei/lib/python3.6/site-packages/tensorflow/python/ops/resource_variable_ops.py:435: colocate_with (from tensorflow.python.framework.ops) is deprecated and will be removed in a future version.\n",
      "Instructions for updating:\n",
      "Colocations handled automatically by placer.\n"
     ]
    },
    {
     "name": "stderr",
     "output_type": "stream",
     "text": [
      "WARNING:tensorflow:From /home/mamonteiro/anaconda3/envs/lei/lib/python3.6/site-packages/tensorflow/python/ops/resource_variable_ops.py:435: colocate_with (from tensorflow.python.framework.ops) is deprecated and will be removed in a future version.\n",
      "Instructions for updating:\n",
      "Colocations handled automatically by placer.\n"
     ]
    },
    {
     "name": "stdout",
     "output_type": "stream",
     "text": [
      "Epoch 50 loss: 1702.814650\n",
      "Epoch 100 loss: 1453.071419\n",
      "Epoch 150 loss: 1413.613593\n",
      "Epoch 200 loss: 1390.167327\n",
      "Epoch 250 loss: 1369.464629\n",
      "WARNING:tensorflow:From /home/mamonteiro/anaconda3/envs/lei/lib/python3.6/site-packages/tensorflow/python/training/checkpoint_management.py:624: remove_checkpoint (from tensorflow.python.training.checkpoint_management) is deprecated and will be removed in a future version.\n",
      "Instructions for updating:\n",
      "Use standard file APIs to delete files with this prefix.\n"
     ]
    },
    {
     "name": "stderr",
     "output_type": "stream",
     "text": [
      "WARNING:tensorflow:From /home/mamonteiro/anaconda3/envs/lei/lib/python3.6/site-packages/tensorflow/python/training/checkpoint_management.py:624: remove_checkpoint (from tensorflow.python.training.checkpoint_management) is deprecated and will be removed in a future version.\n",
      "Instructions for updating:\n",
      "Use standard file APIs to delete files with this prefix.\n"
     ]
    },
    {
     "name": "stdout",
     "output_type": "stream",
     "text": [
      "Epoch 300 loss: 1337.737402\n",
      "Epoch 400 loss: 1331.885448\n",
      "Epoch 500 loss: 1313.393778\n",
      "Epoch 1000 loss: 1301.574305\n",
      "Epoch 2000 loss: 1288.130271\n"
     ]
    }
   ],
   "source": [
    "model = dc.models.MultitaskClassifier(n_tasks=27,\n",
    "                                      n_features=300,\n",
    "                                      layer_sizes=[512])\n",
    "\n",
    "for epoch in nb_epochs :\n",
    "    loss = model.fit(train_embeddings_dataset, epoch=epoch)\n",
    "    print(\"Epoch %d loss: %f\" % (epoch, loss))\n",
    "    losses.append(loss)"
   ]
  },
  {
   "cell_type": "code",
   "execution_count": 27,
   "metadata": {
    "scrolled": true
   },
   "outputs": [
    {
     "data": {
      "text/plain": [
       "<module 'matplotlib.pyplot' from '/home/mamonteiro/anaconda3/envs/lei/lib/python3.6/site-packages/matplotlib/pyplot.py'>"
      ]
     },
     "execution_count": 27,
     "metadata": {},
     "output_type": "execute_result"
    },
    {
     "data": {
      "image/png": "[encoded data removed]",
      "text/plain": [
       "<Figure size 720x504 with 1 Axes>"
      ]
     },
     "metadata": {
      "needs_background": "light"
     },
     "output_type": "display_data"
    }
   ],
   "source": [
    "import matplotlib.pyplot as plot\n",
    "\n",
    "plot.figure(figsize=(10,7))\n",
    "plot.ylabel(\"Loss\")\n",
    "plot.xlabel(\"Epoch\")\n",
    "x = nb_epochs\n",
    "y = losses\n",
    "plot.scatter(x, y)\n",
    "plot"
   ]
  },
  {
   "cell_type": "code",
   "execution_count": 28,
   "metadata": {},
   "outputs": [
    {
     "name": "stdout",
     "output_type": "stream",
     "text": [
      "computed_metrics: [0.7987732733513626, 0.80583645443196, 0.7674468833191019, 0.7545170519287742, 0.8146831510620565, 0.7733852309355411, 0.8655993718373758, 0.7851815304743618, 0.7977572396796057, 0.7222271723550149, 0.7428387602103614, 0.7301491918773312, 0.8247282872392043, 0.7645276220091816, 0.7602316364085104, 0.82854537610793, 0.8874651116427432, 0.8574278359992646, 0.9620977577633925, 0.7971611407302321, 0.7577958693403624, 0.7874744715927265, 0.7721629270264807, 0.818316036570299, 0.800683306979896, 0.784160091851154, 0.774087710241013]\n",
      "\n",
      "\n",
      "Training set ROC AUC: {'mean-roc_auc_score': 0.7976022404801939}\n"
     ]
    }
   ],
   "source": [
    "import numpy as np\n",
    "metric = dc.metrics.Metric(dc.metrics.roc_auc_score, np.mean, mode=\"classification\")\n",
    "train_score = model.evaluate(train_embeddings_dataset, [metric], transformers)\n",
    "print('\\n')\n",
    "print('Training set ROC AUC:', train_score)"
   ]
  },
  {
   "cell_type": "code",
   "execution_count": 29,
   "metadata": {},
   "outputs": [
    {
     "name": "stdout",
     "output_type": "stream",
     "text": [
      "computed_metrics: [0.5995069475571493, 0.6241595696996862, 0.6104605776736924, 0.6297429620563035, 0.6600140056022409, 0.5937624950019992, 0.4042081949058693, 0.6246556473829201, 0.6803797468354431, 0.5498670212765958, 0.6674418604651162, 0.5183290707587382, 0.6758076634109691, 0.5683639792550683, 0.4882205513784461, 0.6264076576576576, 0.6138676844783715, 0.7779898218829516, 0.8450704225352113, 0.6083720930232558, 0.555362570560139, 0.6570247933884297, 0.5447922288181327, 0.6491141732283465, 0.5976271186440678, 0.6239837398373984, 0.5569321533923304]\n",
      "\n",
      "\n",
      "Validation set ROC AUC: {'mean-roc_auc_score': 0.6130172129891308}\n"
     ]
    }
   ],
   "source": [
    "valid_score = model.evaluate(valid_embeddings_dataset, [metric], transformers)\n",
    "print('\\n')\n",
    "print('Validation set ROC AUC:', valid_score)"
   ]
  },
  {
   "cell_type": "code",
   "execution_count": 30,
   "metadata": {},
   "outputs": [
    {
     "name": "stdout",
     "output_type": "stream",
     "text": [
      "computed_metrics: [0.5659806295399517, 0.589832285115304, 0.6475256769374417, 0.6239911218724778, 0.7638983050847458, 0.6221568627450981, 0.5974409448818898, 0.5364583333333333, 0.7007515822784811, 0.6877551020408164, 0.659906914893617, 0.6019322622666088, 0.6990320629159106, 0.6202046035805627, 0.667233560090703, 0.6844181459566075, 0.6559895833333333, 0.5527777777777778, 0.5585106382978724, 0.7029960920538427, 0.6767645858833129, 0.6814358372456963, 0.6611268269684112, 0.6470588235294117, 0.6071428571428571, 0.5193744164332399, 0.537128712871287]\n",
      "\n",
      "\n",
      "Validation set ROC AUC: {'mean-roc_auc_score': 0.6321786868544663}\n"
     ]
    }
   ],
   "source": [
    "test_score = model.evaluate(test_embeddings_dataset, [metric], transformers)\n",
    "print('\\n')\n",
    "print('Validation set ROC AUC:', test_score)"
   ]
  },
  {
   "cell_type": "code",
   "execution_count": 31,
   "metadata": {},
   "outputs": [
    {
     "data": {
      "text/plain": [
       "[(0, 0.6637876211971896)]"
      ]
     },
     "execution_count": 31,
     "metadata": {},
     "output_type": "execute_result"
    },
    {
     "data": {
      "image/png": "[encoded data removed]",
      "text/plain": [
       "<Figure size 720x288 with 1 Axes>"
      ]
     },
     "metadata": {},
     "output_type": "display_data"
    }
   ],
   "source": [
    "import seaborn as sns\n",
    "\n",
    "sns.set(rc={'figure.figsize':(10,4)})\n",
    "sns.set(style=\"whitegrid\")\n",
    "ax = sns.barplot(x=[test_score['mean-roc_auc_score']],\n",
    "                 y=['First Scenario'])\n",
    "ax.set(xlim=(0, None))"
   ]
  },
  {
   "cell_type": "markdown",
   "metadata": {},
   "source": [
    "\n",
    "# Valores com hyperparameters"
   ]
  },
  {
   "cell_type": "code",
   "execution_count": 32,
   "metadata": {},
   "outputs": [],
   "source": [
    "sider_tasks = sorted([ 'Hepatobiliary disorders',\n",
    "   'Metabolism and nutrition disorders', 'Product issues', 'Eye disorders',\n",
    "   'Investigations', 'Musculoskeletal and connective tissue disorders',\n",
    "   'Gastrointestinal disorders', 'Social circumstances',\n",
    "   'Immune system disorders', 'Reproductive system and breast disorders',\n",
    "   'Neoplasms benign, malignant and unspecified (incl cysts and polyps)',\n",
    "   'General disorders and administration site conditions',\n",
    "   'Endocrine disorders', 'Surgical and medical procedures',\n",
    "   'Vascular disorders', 'Blood and lymphatic system disorders',\n",
    "   'Skin and subcutaneous tissue disorders',\n",
    "   'Congenital, familial and genetic disorders',\n",
    "   'Infections and infestations',\n",
    "   'Respiratory, thoracic and mediastinal disorders',\n",
    "   'Psychiatric disorders', 'Renal and urinary disorders',\n",
    "   'Pregnancy, puerperium and perinatal conditions',\n",
    "   'Ear and labyrinth disorders', 'Cardiac disorders',\n",
    "   'Nervous system disorders',\n",
    "   'Injury, poisoning and procedural complications'\n",
    "])\n"
   ]
  },
  {
   "cell_type": "code",
   "execution_count": 33,
   "metadata": {},
   "outputs": [],
   "source": [
    "params_dict = {\"activation\": [\"relu\",\"sigmoid\",\"tanh\"],\n",
    "               \"optimizer\": ['RMSprop','adam'],\n",
    "               \"momentum\": [.9],\n",
    "               \"dropouts\": [.5,0.2],\n",
    "               \"nb_layers\": [512],\n",
    "               \"penalty\": [0.]\n",
    "              }\n",
    "\n",
    "n_features = train_dataset.get_data_shape()[0]\n",
    "\n",
    "def model_builder(model_params, model_dir):\n",
    "    model = dc.models.MultitaskClassifier(\n",
    "    len(sider_tasks), n_features, **model_params)\n",
    "    return model"
   ]
  },
  {
   "cell_type": "code",
   "execution_count": 34,
   "metadata": {},
   "outputs": [
    {
     "data": {
      "text/plain": [
       "1024"
      ]
     },
     "execution_count": 34,
     "metadata": {},
     "output_type": "execute_result"
    }
   ],
   "source": [
    "train_dataset.get_data_shape()[0]"
   ]
  },
  {
   "cell_type": "code",
   "execution_count": 35,
   "metadata": {},
   "outputs": [
    {
     "name": "stdout",
     "output_type": "stream",
     "text": [
      "Fitting model 1/12\n",
      "hyperparameters: {'activation': 'relu', 'optimizer': 'RMSprop', 'momentum': 0.9, 'dropouts': 0.5, 'nb_layers': 512, 'penalty': 0.0}\n",
      "computed_metrics: [0.6781712236665173, 0.6770506499327655, 0.6389539422326307, 0.6148510811913505, 0.6242997198879552, 0.5605757696921232, 0.7436323366555925, 0.6363636363636365, 0.7339794303797469, 0.5591755319148937, 0.6451162790697674, 0.5792838874680307, 0.7235161532682195, 0.5832154644035832, 0.575187969924812, 0.665259009009009, 0.75, 0.7360050890585241, 0.823943661971831, 0.6134883720930233, 0.6508901432913591, 0.6688311688311688, 0.628440366972477, 0.6796259842519685, 0.5467796610169491, 0.5296747967479676, 0.6339233038348083]\n",
      "Model 1/12, Metric mean-roc_auc_score, Validation set 0: 0.648157\n",
      "\tbest_validation_score so far: 0.648157\n",
      "Fitting model 2/12\n",
      "hyperparameters: {'activation': 'relu', 'optimizer': 'RMSprop', 'momentum': 0.9, 'dropouts': 0.2, 'nb_layers': 512, 'penalty': 0.0}\n",
      "computed_metrics: [0.6786194531600179, 0.662034961900493, 0.6116315378610461, 0.613831089351285, 0.6260504201680672, 0.5721711315473811, 0.7375415282392026, 0.6322314049586777, 0.7122231012658228, 0.5777925531914894, 0.643953488372093, 0.5942028985507246, 0.708114199849737, 0.5869872701555869, 0.5844611528822056, 0.6663851351351351, 0.7150127226463103, 0.7372773536895674, 0.8732394366197183, 0.6102325581395349, 0.6498046026921407, 0.6865407319952774, 0.6592012951969779, 0.6687992125984252, 0.5294915254237289, 0.5422764227642276, 0.6064896755162241]\n",
      "Model 2/12, Metric mean-roc_auc_score, Validation set 1: 0.647652\n",
      "\tbest_validation_score so far: 0.648157\n",
      "Fitting model 3/12\n",
      "hyperparameters: {'activation': 'relu', 'optimizer': 'adam', 'momentum': 0.9, 'dropouts': 0.5, 'nb_layers': 512, 'penalty': 0.0}\n",
      "computed_metrics: [0.6689825190497535, 0.6680860600627521, 0.6483216237314597, 0.6160750713994289, 0.6151960784313726, 0.5629748100759696, 0.7414174972314507, 0.6370523415977962, 0.7258702531645569, 0.5715868794326242, 0.6430232558139536, 0.5801364023870417, 0.6983471074380165, 0.5959453088165959, 0.5779448621553885, 0.6841216216216216, 0.7067430025445293, 0.7557251908396947, 0.8802816901408451, 0.6093023255813954, 0.6498046026921407, 0.6843762298307754, 0.6513761467889909, 0.6633858267716535, 0.5644067796610169, 0.545528455284553, 0.5958702064896755]\n",
      "Model 3/12, Metric mean-roc_auc_score, Validation set 2: 0.649699\n",
      "\tbest_validation_score so far: 0.649699\n",
      "Fitting model 4/12\n",
      "hyperparameters: {'activation': 'relu', 'optimizer': 'adam', 'momentum': 0.9, 'dropouts': 0.2, 'nb_layers': 512, 'penalty': 0.0}\n",
      "computed_metrics: [0.6707754370237562, 0.6557597489914837, 0.6256830601092896, 0.620359037127703, 0.6053921568627452, 0.5719712115153938, 0.751937984496124, 0.6528925619834711, 0.7086629746835442, 0.5766843971631206, 0.6406976744186046, 0.58461210571185, 0.7054845980465816, 0.5678925035360678, 0.5867167919799499, 0.6770833333333333, 0.7372773536895674, 0.7309160305343512, 0.7746478873239436, 0.6146511627906976, 0.6547980894485455, 0.6776859504132231, 0.6524554776038856, 0.6968503937007874, 0.5308474576271186, 0.5634146341463415, 0.6000000000000001]\n",
      "Model 4/12, Metric mean-roc_auc_score, Validation set 3: 0.645783\n",
      "\tbest_validation_score so far: 0.649699\n",
      "Fitting model 5/12\n",
      "hyperparameters: {'activation': 'sigmoid', 'optimizer': 'RMSprop', 'momentum': 0.9, 'dropouts': 0.5, 'nb_layers': 512, 'penalty': 0.0}\n",
      "computed_metrics: [0.6705513222770059, 0.6658449125952488, 0.6471506635441062, 0.6073031415748673, 0.6085434173669468, 0.5543782487005198, 0.7259136212624584, 0.6260330578512396, 0.7223101265822784, 0.5691489361702128, 0.6465116279069767, 0.5756606990622336, 0.6968444778362134, 0.5893446487505893, 0.5809523809523809, 0.6756756756756757, 0.72264631043257, 0.7557251908396947, 0.852112676056338, 0.6137209302325581, 0.6621797655232307, 0.6690279417552145, 0.6435509983810037, 0.6624015748031495, 0.5383050847457627, 0.5317073170731708, 0.5985250737463127]\n",
      "Model 5/12, Metric mean-roc_auc_score, Validation set 4: 0.644891\n",
      "\tbest_validation_score so far: 0.649699\n",
      "Fitting model 6/12\n",
      "hyperparameters: {'activation': 'sigmoid', 'optimizer': 'RMSprop', 'momentum': 0.9, 'dropouts': 0.2, 'nb_layers': 512, 'penalty': 0.0}\n",
      "computed_metrics: [0.6786194531600179, 0.6714477812640072, 0.626463700234192, 0.616687066503468, 0.6088935574229692, 0.5713714514194322, 0.7347729789590255, 0.6604683195592287, 0.714003164556962, 0.5908687943262412, 0.6625581395348836, 0.575234441602728, 0.7160030052592037, 0.5775577557755776, 0.5829573934837092, 0.6722972972972971, 0.7576335877862594, 0.7474554707379135, 0.8380281690140845, 0.6130232558139534, 0.6558836300477637, 0.6745375836284928, 0.6556934700485699, 0.6889763779527558, 0.5206779661016949, 0.5321138211382114, 0.6115044247787611]\n",
      "Model 6/12, Metric mean-roc_auc_score, Validation set 5: 0.650212\n",
      "\tbest_validation_score so far: 0.650212\n",
      "Fitting model 7/12\n",
      "hyperparameters: {'activation': 'sigmoid', 'optimizer': 'adam', 'momentum': 0.9, 'dropouts': 0.5, 'nb_layers': 512, 'penalty': 0.0}\n",
      "computed_metrics: [0.684670551322277, 0.6799641416405199, 0.6139734582357533, 0.6234190126478989, 0.6144957983193278, 0.5625749700119953, 0.7486157253599113, 0.6391184573002755, 0.7179588607594937, 0.5731382978723405, 0.6511627906976745, 0.5835464620630861, 0.7182569496619085, 0.5902876001885904, 0.5914786967418546, 0.6790540540540541, 0.7372773536895674, 0.7366412213740459, 0.8732394366197183, 0.61, 0.6665219279201042, 0.6761117670208581, 0.6578521316783594, 0.6968503937007874, 0.5488135593220338, 0.5284552845528455, 0.6053097345132743]\n",
      "Model 7/12, Metric mean-roc_auc_score, Validation set 6: 0.652177\n",
      "\tbest_validation_score so far: 0.652177\n",
      "Fitting model 8/12\n",
      "hyperparameters: {'activation': 'sigmoid', 'optimizer': 'adam', 'momentum': 0.9, 'dropouts': 0.2, 'nb_layers': 512, 'penalty': 0.0}\n",
      "computed_metrics: [0.6835499775885254, 0.6658449125952488, 0.6100702576112411, 0.6252549979600164, 0.6204481792717087, 0.5525789684126349, 0.7441860465116279, 0.6611570247933884, 0.7100474683544304, 0.5755762411347518, 0.6479069767441861, 0.5760869565217391, 0.7047332832456799, 0.5872230080150872, 0.5771929824561404, 0.6756756756756757, 0.7156488549618321, 0.7391857506361323, 0.8098591549295775, 0.6072093023255813, 0.6476335214937039, 0.6711924439197168, 0.6543443065299515, 0.6815944881889764, 0.5393220338983051, 0.5504065040650407, 0.6112094395280236]\n",
      "Model 8/12, Metric mean-roc_auc_score, Validation set 7: 0.646116\n",
      "\tbest_validation_score so far: 0.652177\n",
      "Fitting model 9/12\n",
      "hyperparameters: {'activation': 'tanh', 'optimizer': 'RMSprop', 'momentum': 0.9, 'dropouts': 0.5, 'nb_layers': 512, 'penalty': 0.0}\n",
      "computed_metrics: [0.6815329448677723, 0.674585387718512, 0.6451990632318501, 0.6160750713994287, 0.6109943977591037, 0.5671731307477009, 0.743078626799557, 0.599862258953168, 0.7215189873417722, 0.5693705673758865, 0.6467441860465116, 0.5835464620630861, 0.7047332832456799, 0.5761433286185762, 0.593984962406015, 0.6804617117117118, 0.700381679389313, 0.7461832061068703, 0.8309859154929577, 0.623953488372093, 0.6602257924446374, 0.6757182211727666, 0.6713437668645441, 0.6938976377952756, 0.5572881355932204, 0.5467479674796748, 0.5997050147492625]\n",
      "Model 9/12, Metric mean-roc_auc_score, Validation set 8: 0.648942\n",
      "\tbest_validation_score so far: 0.652177\n",
      "Fitting model 10/12\n",
      "hyperparameters: {'activation': 'tanh', 'optimizer': 'RMSprop', 'momentum': 0.9, 'dropouts': 0.2, 'nb_layers': 512, 'penalty': 0.0}\n",
      "computed_metrics: [0.6660690273419991, 0.662707306140744, 0.6268540202966433, 0.6223990208078336, 0.615546218487395, 0.5695721711315473, 0.7137320044296789, 0.6673553719008265, 0.7090585443037976, 0.5802304964539007, 0.6437209302325582, 0.5733162830349532, 0.7017280240420737, 0.5917020273455917, 0.5804511278195489, 0.6810247747747749, 0.7169211195928753, 0.7455470737913485, 0.8309859154929577, 0.6193023255813954, 0.6524099001302649, 0.6829988193624557, 0.6497571505666486, 0.671751968503937, 0.5372881355932204, 0.5459349593495935, 0.5852507374631268]\n",
      "Model 10/12, Metric mean-roc_auc_score, Validation set 9: 0.646060\n",
      "\tbest_validation_score so far: 0.652177\n",
      "Fitting model 11/12\n",
      "hyperparameters: {'activation': 'tanh', 'optimizer': 'adam', 'momentum': 0.9, 'dropouts': 0.5, 'nb_layers': 512, 'penalty': 0.0}\n"
     ]
    },
    {
     "name": "stdout",
     "output_type": "stream",
     "text": [
      "computed_metrics: [0.6844464365755267, 0.6754818467055131, 0.6510538641686183, 0.627906976744186, 0.6190476190476191, 0.5693722510995601, 0.7081949058693244, 0.6301652892561984, 0.7242879746835444, 0.5649379432624113, 0.6453488372093024, 0.5812020460358056, 0.7235161532682194, 0.5839226779820839, 0.5859649122807018, 0.6793355855855856, 0.7258269720101781, 0.7442748091603053, 0.8943661971830986, 0.6106976744186046, 0.662613981762918, 0.6672569854388035, 0.6386940097139773, 0.6830708661417323, 0.5457627118644068, 0.55, 0.5790560471976401]\n",
      "Model 11/12, Metric mean-roc_auc_score, Validation set 10: 0.650215\n",
      "\tbest_validation_score so far: 0.652177\n",
      "Fitting model 12/12\n",
      "hyperparameters: {'activation': 'tanh', 'optimizer': 'adam', 'momentum': 0.9, 'dropouts': 0.2, 'nb_layers': 512, 'penalty': 0.0}\n",
      "computed_metrics: [0.6687584043030032, 0.6521739130434783, 0.6221701795472288, 0.6301509587923296, 0.6214985994397759, 0.5663734506197521, 0.7674418604651163, 0.6763085399449036, 0.7217167721518987, 0.5722517730496455, 0.6474418604651162, 0.5786445012787723, 0.7148760330578512, 0.5777934936350778, 0.5852130325814536, 0.6925675675675675, 0.732824427480916, 0.7436386768447838, 0.8943661971830986, 0.6195348837209302, 0.6474164133738602, 0.6845730027548209, 0.6513761467889909, 0.6825787401574803, 0.5410169491525423, 0.558130081300813, 0.595575221238938]\n",
      "Model 12/12, Metric mean-roc_auc_score, Validation set 11: 0.653571\n",
      "\tbest_validation_score so far: 0.653571\n",
      "computed_metrics: [0.9220830299563139, 0.9177223323786443, 0.9725375458335426, 0.9184389955468505, 0.9585701176133828, 0.9090067168065178, 0.9506097442757712, 0.9368732664817581, 0.9257640172520025, 0.898086235617712, 0.8866099735183319, 0.8945987014781047, 0.9085492479378943, 0.8929089877456579, 0.888490044207638, 0.9580594556435799, 0.945334928229665, 0.9869829012686155, 0.9993901866966882, 0.9161632687305983, 0.9148810516832939, 0.9340444378829262, 0.8820375985445724, 0.9347047195453422, 0.9647308869129515, 0.9781323598681113, 0.9013531505583785]\n",
      "Best hyperparameters: ('tanh', 'adam', 0.9, 0.2, 512, 0.0)\n",
      "train_score: 0.929506\n",
      "validation_score: 0.653571\n"
     ]
    }
   ],
   "source": [
    "\n",
    "metric = dc.metrics.Metric(dc.metrics.roc_auc_score, np.mean)\n",
    "optimizer = dc.hyper.HyperparamOpt(model_builder)\n",
    "best_dnn, best_hyperparams, all_results = optimizer.hyperparam_search(\n",
    "    params_dict, train_dataset, valid_dataset, [], metric)"
   ]
  },
  {
   "cell_type": "code",
   "execution_count": 36,
   "metadata": {},
   "outputs": [
    {
     "data": {
      "text/plain": [
       "MultitaskClassifier(activation_fns=None, bias_init_consts=None, dropouts=None,\n",
       "                    layer_sizes=None, n_classes=2, n_features=1024, n_tasks=27,\n",
       "                    weight_decay_penalty=None, weight_decay_penalty_type=None,\n",
       "                    weight_init_stddevs=None)"
      ]
     },
     "execution_count": 36,
     "metadata": {},
     "output_type": "execute_result"
    }
   ],
   "source": [
    "best_dnn"
   ]
  },
  {
   "cell_type": "code",
   "execution_count": 37,
   "metadata": {
    "scrolled": true
   },
   "outputs": [
    {
     "data": {
      "text/plain": [
       "('tanh', 'adam', 0.9, 0.2, 512, 0.0)"
      ]
     },
     "execution_count": 37,
     "metadata": {},
     "output_type": "execute_result"
    }
   ],
   "source": [
    "best_hyperparams"
   ]
  },
  {
   "cell_type": "code",
   "execution_count": 38,
   "metadata": {},
   "outputs": [],
   "source": [
    "obj=best_dnn.fit(train_dataset,**params_dict)"
   ]
  },
  {
   "cell_type": "code",
   "execution_count": 39,
   "metadata": {},
   "outputs": [],
   "source": [
    "metric = dc.metrics.Metric(dc.metrics.roc_auc_score, np.mean)"
   ]
  },
  {
   "cell_type": "code",
   "execution_count": 40,
   "metadata": {},
   "outputs": [
    {
     "name": "stdout",
     "output_type": "stream",
     "text": [
      "computed_metrics: [0.960877366340753, 0.963866857604465, 0.991559093877141, 0.9632476579389864, 0.9840207444076815, 0.9594874068117251, 0.9765117586614708, 0.969161154967641, 0.9659827479975355, 0.9447642660674853, 0.9465256797583081, 0.9473062577704103, 0.959383794274624, 0.9469997863043174, 0.9443157978789044, 0.9885402776688368, 0.9722089314194577, 0.9966537966537967, 0.9992025518341308, 0.9616254414265992, 0.9596743518734778, 0.9700548706970793, 0.9409015564988881, 0.9758710155670867, 0.9899788487997208, 0.9921808761186999, 0.9534141238485994]\n",
      "{'mean-roc_auc_score': 0.9675672967802896}\n"
     ]
    }
   ],
   "source": [
    "train_scores = best_dnn.evaluate(train_dataset, [metric], transformers)\n",
    "print(train_scores)"
   ]
  },
  {
   "cell_type": "code",
   "execution_count": 41,
   "metadata": {},
   "outputs": [
    {
     "name": "stdout",
     "output_type": "stream",
     "text": [
      "computed_metrics: [0.6743612729717616, 0.6696548632900046, 0.6112412177985949, 0.6219910240718074, 0.6292016806722689, 0.5793682526989203, 0.7851605758582503, 0.7258953168044078, 0.703125, 0.5859929078014184, 0.6323255813953488, 0.5705456095481671, 0.6945905334335085, 0.6037246581801037, 0.5942355889724311, 0.6692004504504505, 0.7270992366412214, 0.7633587786259541, 0.9084507042253521, 0.6376744186046511, 0.6478506296135476, 0.6922471467926015, 0.6497571505666487, 0.6697834645669292, 0.5335593220338983, 0.556910569105691, 0.5961651917404129]\n",
      "{'mean-roc_auc_score': 0.6567952276468279}\n"
     ]
    }
   ],
   "source": [
    "valid_scores = best_dnn.evaluate(valid_dataset, [metric], transformers)\n",
    "print(valid_scores)\n"
   ]
  },
  {
   "cell_type": "code",
   "execution_count": 42,
   "metadata": {
    "scrolled": true
   },
   "outputs": [
    {
     "name": "stdout",
     "output_type": "stream",
     "text": [
      "computed_metrics: [0.6721146085552865, 0.630607966457023, 0.469187675070028, 0.602905569007264, 0.7101694915254237, 0.6184313725490196, 0.812992125984252, 0.6541666666666666, 0.7353639240506329, 0.6811791383219954, 0.6972517730496455, 0.603126356925749, 0.7534785238959467, 0.6994884910485935, 0.6557823129251701, 0.6969921104536488, 0.7734375, 0.475, 0.10283687943262412, 0.6406860616587061, 0.7186862505099959, 0.6643192488262911, 0.6765676567656767, 0.711484593837535, 0.5522875816993464, 0.5975723622782447, 0.670909948137671]\n",
      "{'mean-roc_auc_score': 0.6398898588752755}\n"
     ]
    }
   ],
   "source": [
    "test_scores_v1 = best_dnn.evaluate(test_dataset, [metric], transformers)\n",
    "print(test_scores_v1)"
   ]
  },
  {
   "cell_type": "markdown",
   "metadata": {},
   "source": [
    "# Nossos resultados Finais"
   ]
  },
  {
   "cell_type": "code",
   "execution_count": 43,
   "metadata": {},
   "outputs": [
    {
     "data": {
      "text/plain": [
       "[(0, 0.6718843518190393)]"
      ]
     },
     "execution_count": 43,
     "metadata": {},
     "output_type": "execute_result"
    },
    {
     "data": {
      "image/png": "[encoded data removed]",
      "text/plain": [
       "<Figure size 720x288 with 1 Axes>"
      ]
     },
     "metadata": {},
     "output_type": "display_data"
    }
   ],
   "source": [
    "import seaborn as sns\n",
    "\n",
    "sns.set(rc={'figure.figsize':(10,4)})\n",
    "sns.set(style=\"whitegrid\")\n",
    "ax = sns.barplot(x=[test_score['mean-roc_auc_score'],test_scores_v1['mean-roc_auc_score']],\n",
    "                 y=['First Scenario','Second Scenario'])\n",
    "ax.set(xlim=(0, None))"
   ]
  },
  {
   "cell_type": "code",
   "execution_count": 46,
   "metadata": {},
   "outputs": [
    {
     "name": "stdout",
     "output_type": "stream",
     "text": [
      "0.6321786868544663\n",
      "0.6398898588752755\n"
     ]
    }
   ],
   "source": [
    "print(test_score['mean-roc_auc_score'])\n",
    "print(test_scores_v1['mean-roc_auc_score'])\n"
   ]
  },
  {
   "cell_type": "code",
   "execution_count": null,
   "metadata": {},
   "outputs": [],
   "source": []
  }
 ],
 "metadata": {
  "kernelspec": {
   "display_name": "Python 3",
   "language": "python",
   "name": "python3"
  },
  "language_info": {
   "codemirror_mode": {
    "name": "ipython",
    "version": 3
   },
   "file_extension": ".py",
   "mimetype": "text/x-python",
   "name": "python",
   "nbconvert_exporter": "python",
   "pygments_lexer": "ipython3",
   "version": "3.6.8"
  }
 },
 "nbformat": 4,
 "nbformat_minor": 2
}
