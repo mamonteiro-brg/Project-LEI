{
 "cells": [
  {
   "cell_type": "markdown",
   "metadata": {},
   "source": [
    "## Graph Convolutions For SIDER +OFFSIDES"
   ]
  },
  {
   "cell_type": "markdown",
   "metadata": {},
   "source": [
    "Featurization=ConvMolFeaturizer\n",
    "\n",
    "É utilizado com modelos GraphConvModel.\n",
    "\n",
    "Alternativamente, também implementamos este modelo (GraphConvModel) usando layers do TensorGraph"
   ]
  },
  {
   "cell_type": "code",
   "execution_count": 1,
   "metadata": {},
   "outputs": [
    {
     "name": "stderr",
     "output_type": "stream",
     "text": [
      "/home/mamonteiro/anaconda3/envs/lei/lib/python3.6/site-packages/sklearn/externals/joblib/__init__.py:15: DeprecationWarning: sklearn.externals.joblib is deprecated in 0.21 and will be removed in 0.23. Please import this functionality directly from joblib, which can be installed with: pip install joblib. If this warning is raised when loading pickled models, you may need to re-serialize those models with scikit-learn 0.21+.\n",
      "  warnings.warn(msg, category=DeprecationWarning)\n"
     ]
    }
   ],
   "source": [
    "from __future__ import division\n",
    "from __future__ import print_function\n",
    "from __future__ import unicode_literals\n",
    "import numpy as np\n",
    "import tensorflow as tf\n",
    "import deepchem as dc\n",
    "import pandas as pd\n",
    "from deepchem.models.tensorgraph.models.graph_models import GraphConvModel\n",
    "\n",
    "\n",
    "import warnings\n",
    "warnings.filterwarnings('ignore')"
   ]
  },
  {
   "cell_type": "code",
   "execution_count": 2,
   "metadata": {},
   "outputs": [],
   "source": [
    "\"\"\"\n",
    "OFFSIDES dataset loader.\n",
    "\"\"\"\n",
    "from __future__ import division\n",
    "from __future__ import unicode_literals\n",
    "\n",
    "import os\n",
    "import logging\n",
    "import deepchem\n",
    "\n",
    "logger = logging.getLogger(__name__)\n",
    "\n",
    "\n",
    "def load_offsides(featurizer='ECFP', split='index', reload=True, K=4):\n",
    "  logger.info(\"About to load ofssides dataset.\")\n",
    "  data_dir = deepchem.utils.get_data_dir()\n",
    "  if reload:\n",
    "    save_dir = os.path.join(data_dir, \"offsides/\" + featurizer + \"/\" + str(split))\n",
    "\n",
    "  dataset_file = os.path.join(\"/home/mamonteiro/source-code/Project-LEI/sider+offsides/\", \"sider+offsides_combined.csv.gz\")\n",
    "\n",
    "\n",
    "  dataset = deepchem.utils.save.load_from_disk(dataset_file)\n",
    "  logger.info(\"Columns of dataset: %s\" % str(dataset.columns.values))\n",
    "  logger.info(\"Number of examples in dataset: %s\" % str(dataset.shape[0]))\n",
    "  OFFSIDES_tasks = dataset.columns.values[1:].tolist()\n",
    "\n",
    "  if reload:\n",
    "    loaded, all_dataset, transformers = deepchem.utils.save.load_dataset_from_disk(\n",
    "        save_dir)\n",
    "    if loaded:\n",
    "      return OFFSIDES_tasks, all_dataset, transformers\n",
    "\n",
    "  # Featurize OFFSIDES dataset\n",
    "  logger.info(\"About to featurize OFFSIDES dataset.\")\n",
    "  if featurizer == 'ECFP':\n",
    "    featurizer = deepchem.feat.CircularFingerprint(size=1024)\n",
    "  elif featurizer == 'GraphConv':\n",
    "    featurizer = deepchem.feat.ConvMolFeaturizer()\n",
    "  elif featurizer == 'Weave':\n",
    "    featurizer = deepchem.feat.WeaveFeaturizer()\n",
    "  elif featurizer == 'Raw':\n",
    "    featurizer = deepchem.feat.RawFeaturizer()\n",
    "\n",
    "  logger.info(\"OFFSIDES tasks: %s\" % str(OFFSIDES_tasks))\n",
    "  logger.info(\"%d tasks in total\" % len(OFFSIDES_tasks))\n",
    "\n",
    "  loader = deepchem.data.CSVLoader(\n",
    "      tasks=OFFSIDES_tasks, smiles_field=\"smiles\", featurizer=featurizer)\n",
    "  dataset = loader.featurize(dataset_file)\n",
    "  logger.info(\"%d datapoints in OFFSIDES dataset\" % len(dataset))\n",
    "\n",
    "  # Initialize transformers\n",
    "  transformers = [\n",
    "      deepchem.trans.BalancingTransformer(transform_w=True, dataset=dataset)\n",
    "  ]\n",
    "  logger.info(\"About to transform data\")\n",
    "  for transformer in transformers:\n",
    "    dataset = transformer.transform(dataset)\n",
    "\n",
    "  if split == None:\n",
    "    return OFFSIDES_tasks, (dataset, None, None), transformers\n",
    "\n",
    "  splitters = {\n",
    "      'index': deepchem.splits.IndexSplitter(),\n",
    "      'random': deepchem.splits.RandomSplitter(),\n",
    "      'scaffold': deepchem.splits.ScaffoldSplitter(),\n",
    "      'task': deepchem.splits.TaskSplitter()\n",
    "  }\n",
    "  splitter = splitters[split]\n",
    "  if split == 'task':\n",
    "    fold_datasets = splitter.k_fold_split(dataset, K)\n",
    "    all_dataset = fold_datasets\n",
    "  else:\n",
    "    train, valid, test = splitter.train_valid_test_split(dataset)\n",
    "    if reload:\n",
    "      deepchem.utils.save.save_dataset_to_disk(save_dir, train, valid, test,\n",
    "                                               transformers)\n",
    "    all_dataset = (train, valid, test)\n",
    "  return OFFSIDES_tasks, all_dataset, transformers\n"
   ]
  },
  {
   "cell_type": "markdown",
   "metadata": {},
   "source": [
    "# Load SIDER + OFFSIDES Dataset"
   ]
  },
  {
   "cell_type": "markdown",
   "metadata": {},
   "source": [
    "All MoleculeNet datasets are split into training, validation and test subsets following a 80/10/10 ratio. \n",
    "\n",
    "Different  splittings are recommended depending on each dataset's contents."
   ]
  },
  {
   "cell_type": "code",
   "execution_count": 3,
   "metadata": {
    "scrolled": true
   },
   "outputs": [
    {
     "name": "stdout",
     "output_type": "stream",
     "text": [
      "Loading dataset from disk.\n",
      "Loading dataset from disk.\n",
      "Loading dataset from disk.\n"
     ]
    }
   ],
   "source": [
    "sider_tasks, sider_datasets, transformers = load_offsides(featurizer='GraphConv',reload=True)\n",
    "train_dataset, valid_dataset, test_dataset = sider_datasets"
   ]
  },
  {
   "cell_type": "code",
   "execution_count": 4,
   "metadata": {},
   "outputs": [
    {
     "data": {
      "text/plain": [
       "['Renal and urinary disorders',\n",
       " 'Respiratory, thoracic and mediastinal disorders',\n",
       " 'Skin and subcutaneous tissue disorders',\n",
       " 'Congenital, familial and genetic disorders',\n",
       " 'Hepatobiliary disorders',\n",
       " 'Infections and infestations',\n",
       " 'Cardiac disorders',\n",
       " 'Ear and labyrinth disorders',\n",
       " 'Investigations',\n",
       " 'Vascular disorders',\n",
       " 'Endocrine disorders',\n",
       " 'Immune system disorders',\n",
       " 'Product issues',\n",
       " 'Blood and lymphatic system disorders',\n",
       " 'Pregnancy, puerperium and perinatal conditions',\n",
       " 'Surgical and medical procedures',\n",
       " 'Psychiatric disorders',\n",
       " 'Reproductive system and breast disorders',\n",
       " 'Social circumstances',\n",
       " 'Eye disorders',\n",
       " 'Gastrointestinal disorders',\n",
       " 'General disorders and administration site conditions',\n",
       " 'Neoplasms benign, malignant and unspecified (incl cysts and polyps)',\n",
       " 'Injury, poisoning and procedural complications',\n",
       " 'Musculoskeletal and connective tissue disorders',\n",
       " 'Metabolism and nutrition disorders',\n",
       " 'Nervous system disorders']"
      ]
     },
     "execution_count": 4,
     "metadata": {},
     "output_type": "execute_result"
    }
   ],
   "source": [
    "sider_tasks"
   ]
  },
  {
   "cell_type": "markdown",
   "metadata": {},
   "source": [
    "Different classification and regress metrics are recommended based on previous works and dataset's contents:\n",
    "          ROC-AUC:  Area Under Curve of Receiver Operating Characteristics\n",
    "          PRC-AUC:  Area Under Curve of Precision Recall Curve\n",
    "          RMSE: Root-Mean-Square Error\n",
    "          MAE: Mean Absolute Error"
   ]
  },
  {
   "cell_type": "code",
   "execution_count": 5,
   "metadata": {},
   "outputs": [],
   "source": [
    "num_epochs = [10,20,30,40,50,60]\n",
    "losses = []\n",
    "loss =0\n",
    "\n",
    "model = GraphConvModel(\n",
    "    27, batch_size=50, mode='classification')"
   ]
  },
  {
   "cell_type": "code",
   "execution_count": 6,
   "metadata": {
    "scrolled": true
   },
   "outputs": [
    {
     "name": "stdout",
     "output_type": "stream",
     "text": [
      "WARNING:tensorflow:From /home/mamonteiro/anaconda3/envs/lei/lib/python3.6/site-packages/tensorflow/python/ops/resource_variable_ops.py:435: colocate_with (from tensorflow.python.framework.ops) is deprecated and will be removed in a future version.\n",
      "Instructions for updating:\n",
      "Colocations handled automatically by placer.\n"
     ]
    },
    {
     "name": "stderr",
     "output_type": "stream",
     "text": [
      "WARNING:tensorflow:From /home/mamonteiro/anaconda3/envs/lei/lib/python3.6/site-packages/tensorflow/python/ops/resource_variable_ops.py:435: colocate_with (from tensorflow.python.framework.ops) is deprecated and will be removed in a future version.\n",
      "Instructions for updating:\n",
      "Colocations handled automatically by placer.\n"
     ]
    },
    {
     "name": "stdout",
     "output_type": "stream",
     "text": [
      "WARNING:tensorflow:From /home/mamonteiro/anaconda3/envs/lei/lib/python3.6/site-packages/tensorflow/python/ops/math_grad.py:317: div (from tensorflow.python.ops.math_ops) is deprecated and will be removed in a future version.\n",
      "Instructions for updating:\n",
      "Deprecated in favor of operator or tf.math.divide.\n"
     ]
    },
    {
     "name": "stderr",
     "output_type": "stream",
     "text": [
      "WARNING:tensorflow:From /home/mamonteiro/anaconda3/envs/lei/lib/python3.6/site-packages/tensorflow/python/ops/math_grad.py:317: div (from tensorflow.python.ops.math_ops) is deprecated and will be removed in a future version.\n",
      "Instructions for updating:\n",
      "Deprecated in favor of operator or tf.math.divide.\n"
     ]
    },
    {
     "name": "stdout",
     "output_type": "stream",
     "text": [
      "WARNING:tensorflow:From /home/mamonteiro/anaconda3/envs/lei/lib/python3.6/site-packages/tensorflow/python/ops/math_ops.py:3066: to_int32 (from tensorflow.python.ops.math_ops) is deprecated and will be removed in a future version.\n",
      "Instructions for updating:\n",
      "Use tf.cast instead.\n"
     ]
    },
    {
     "name": "stderr",
     "output_type": "stream",
     "text": [
      "WARNING:tensorflow:From /home/mamonteiro/anaconda3/envs/lei/lib/python3.6/site-packages/tensorflow/python/ops/math_ops.py:3066: to_int32 (from tensorflow.python.ops.math_ops) is deprecated and will be removed in a future version.\n",
      "Instructions for updating:\n",
      "Use tf.cast instead.\n"
     ]
    },
    {
     "name": "stdout",
     "output_type": "stream",
     "text": [
      "Epoch 10 loss: 1481.643977\n",
      "Epoch 20 loss: 1170.718116\n",
      "Epoch 30 loss: 763.895280\n",
      "Epoch 40 loss: 431.787801\n",
      "WARNING:tensorflow:From /home/mamonteiro/anaconda3/envs/lei/lib/python3.6/site-packages/tensorflow/python/training/checkpoint_management.py:624: remove_checkpoint (from tensorflow.python.training.checkpoint_management) is deprecated and will be removed in a future version.\n",
      "Instructions for updating:\n",
      "Use standard file APIs to delete files with this prefix.\n"
     ]
    },
    {
     "name": "stderr",
     "output_type": "stream",
     "text": [
      "WARNING:tensorflow:From /home/mamonteiro/anaconda3/envs/lei/lib/python3.6/site-packages/tensorflow/python/training/checkpoint_management.py:624: remove_checkpoint (from tensorflow.python.training.checkpoint_management) is deprecated and will be removed in a future version.\n",
      "Instructions for updating:\n",
      "Use standard file APIs to delete files with this prefix.\n"
     ]
    },
    {
     "name": "stdout",
     "output_type": "stream",
     "text": [
      "Epoch 50 loss: 209.753397\n",
      "Epoch 60 loss: 106.195895\n"
     ]
    }
   ],
   "source": [
    "for i in num_epochs:\n",
    "    # Set nb_epoch=10 for better results.\n",
    "    loss = model.fit(train_dataset, nb_epoch=i)\n",
    "    print(\"Epoch %d loss: %f\" % (i, loss))\n",
    "    losses.append(loss)"
   ]
  },
  {
   "cell_type": "code",
   "execution_count": 7,
   "metadata": {},
   "outputs": [
    {
     "data": {
      "text/plain": [
       "<module 'matplotlib.pyplot' from '/home/mamonteiro/anaconda3/envs/lei/lib/python3.6/site-packages/matplotlib/pyplot.py'>"
      ]
     },
     "execution_count": 7,
     "metadata": {},
     "output_type": "execute_result"
    }
   ],
   "source": [
    "import matplotlib.pyplot as plot\n",
    "\n",
    "plot.figure(figsize=(10,7))\n",
    "plot.ylabel(\"Loss\")\n",
    "plot.xlabel(\"Epoch\")\n",
    "x = num_epochs\n",
    "y = losses\n",
    "plot.scatter(x, y)\n",
    "plot"
   ]
  },
  {
   "cell_type": "code",
   "execution_count": 8,
   "metadata": {},
   "outputs": [
    {
     "name": "stdout",
     "output_type": "stream",
     "text": [
      "Evaluating model\n",
      "computed_metrics: [0.9999657346491228, 1.0, 0.9995633128181334, 0.9985413060753513, 1.0, 0.9983931080319359, 0.999941796170188, 1.0, 0.9934752747252749, 1.0, 1.0, 1.0, 1.0, 0.9991096979332272, 1.0, 0.9969980688796757, 1.0, 0.9999686908060552, 0.9998070987654321, 1.0, 1.0, 0.9998576014913007, 0.9983590002524614, 0.9999785589468155, 0.9999691619767173, 1.0, 0.9993950850661626]\n",
      "Training ROC-AUC Score: 0.999382\n"
     ]
    }
   ],
   "source": [
    "metric = dc.metrics.Metric(\n",
    "    dc.metrics.roc_auc_score, np.mean, mode=\"classification\")\n",
    "\n",
    "print(\"Evaluating model\")\n",
    "train_scores_1 = model.evaluate(train_dataset, [metric], transformers)\n",
    "print(\"Training ROC-AUC Score: %f\" % train_scores_1[\"mean-roc_auc_score\"])\n"
   ]
  },
  {
   "cell_type": "code",
   "execution_count": 9,
   "metadata": {},
   "outputs": [
    {
     "name": "stdout",
     "output_type": "stream",
     "text": [
      "computed_metrics: [0.34509803921568627, 0.36078431372549025, 0.478125, 0.5844298245614035, 0.5472560975609756, 0.48949771689497723, 0.2441860465116279, 0.8160919540229885, 0.5138888888888888, 0.3488372093023256, 0.5159883720930233, 0.3968023255813954, 0.6104651162790697, 0.40963855421686746, 0.6976744186046512, 0.5230224321133412, 0.6470588235294117, 0.3254901960784314, 0.272289156626506, 0.5058139534883721, 0.3598173515981735, 0.4991181657848325, 0.48632974316487154, 0.45175438596491224, 0.2941176470588235, 0.49411764705882355, 0.5406504065040649]\n",
      "Validation ROC-AUC Score: 0.472531\n"
     ]
    }
   ],
   "source": [
    "valid_scores_1 = model.evaluate(valid_dataset, [metric], transformers)\n",
    "print(\"Validation ROC-AUC Score: %f\" % valid_scores_1[\"mean-roc_auc_score\"])"
   ]
  },
  {
   "cell_type": "code",
   "execution_count": 10,
   "metadata": {},
   "outputs": [
    {
     "name": "stdout",
     "output_type": "stream",
     "text": [
      "computed_metrics: [0.6363636363636364, 0.7586206896551724, 0.5401606425702812, 0.7074592074592074, nan, 0.47943722943722944, 0.6472868217054264, 0.7045454545454546, 0.40734649122807015, nan, 0.6639705882352942, 0.7209302325581395, nan, 0.34090909090909094, 0.8977272727272727, 0.5334967320261438, 0.41917670682730923, 0.5462962962962963, 0.49127906976744184, 0.37630662020905925, 0.6744186046511628, 0.36764705882352944, 0.590080971659919, 0.39743589743589747, 0.6206896551724138, nan, 0.4418604651162791]\n",
      "Validation ROC-AUC Score: 0.563628\n"
     ]
    }
   ],
   "source": [
    "test_scores_1 = model.evaluate(test_dataset, [metric], transformers)\n",
    "print(\"Validation ROC-AUC Score: %f\" % test_scores_1[\"mean-roc_auc_score\"])"
   ]
  },
  {
   "cell_type": "code",
   "execution_count": 11,
   "metadata": {},
   "outputs": [],
   "source": [
    "num_epochs = [60,70,80,90]\n",
    "losses = []\n",
    "\n",
    "model = GraphConvModel(\n",
    "    len(sider_tasks), batch_size=50, mode='classification')\n",
    "# Set nb_epoch=10 for better results.\n"
   ]
  },
  {
   "cell_type": "code",
   "execution_count": 12,
   "metadata": {
    "scrolled": true
   },
   "outputs": [
    {
     "name": "stdout",
     "output_type": "stream",
     "text": [
      "Epoch 60 loss: 1009.424640\n",
      "Epoch 70 loss: 377.555114\n",
      "Epoch 80 loss: 108.966400\n",
      "Epoch 90 loss: 61.103640\n"
     ]
    }
   ],
   "source": [
    "\n",
    "for i in num_epochs:\n",
    "    # Set nb_epoch=10 for better results.\n",
    "    loss = model.fit(train_dataset, nb_epoch=i)\n",
    "    print(\"Epoch %d loss: %f\" % (i, loss))\n",
    "    losses.append(loss)"
   ]
  },
  {
   "cell_type": "code",
   "execution_count": 13,
   "metadata": {
    "scrolled": true
   },
   "outputs": [
    {
     "data": {
      "text/plain": [
       "<module 'matplotlib.pyplot' from '/home/mamonteiro/anaconda3/envs/lei/lib/python3.6/site-packages/matplotlib/pyplot.py'>"
      ]
     },
     "execution_count": 13,
     "metadata": {},
     "output_type": "execute_result"
    },
    {
     "data": {
      "image/png": "[encoded data removed]",
      "text/plain": [
       "<Figure size 720x504 with 1 Axes>"
      ]
     },
     "metadata": {
      "needs_background": "light"
     },
     "output_type": "display_data"
    }
   ],
   "source": [
    "import matplotlib.pyplot as plot\n",
    "\n",
    "plot.figure(figsize=(10,7))\n",
    "plot.ylabel(\"Loss\")\n",
    "plot.xlabel(\"Epoch\")\n",
    "x = num_epochs\n",
    "y = losses\n",
    "plot.scatter(x, y)\n",
    "plot"
   ]
  },
  {
   "cell_type": "code",
   "execution_count": 14,
   "metadata": {
    "scrolled": true
   },
   "outputs": [
    {
     "name": "stdout",
     "output_type": "stream",
     "text": [
      "Evaluating model\n",
      "computed_metrics: [1.0, 1.0, 1.0, 1.0, 1.0, 0.9997812607792165, 1.0, 1.0, 0.9943092621664051, 1.0, 1.0, 1.0, 1.0, 1.0, 1.0, 0.9999908477709747, 1.0, 1.0, 0.999972442680776, 1.0, 1.0, 0.9999870546810273, 0.9999909835178706, 0.9999785589468154, 1.0, 0.9996274801976316, 1.0]\n",
      "Training ROC-AUC Score: 0.999764\n"
     ]
    }
   ],
   "source": [
    "metric = dc.metrics.Metric(\n",
    "    dc.metrics.roc_auc_score, np.mean, mode=\"classification\")\n",
    "\n",
    "print(\"Evaluating model\")\n",
    "train_scores_2 = model.evaluate(train_dataset, [metric], transformers)\n",
    "print(\"Training ROC-AUC Score: %f\" % train_scores_2[\"mean-roc_auc_score\"])\n",
    "\n"
   ]
  },
  {
   "cell_type": "code",
   "execution_count": 15,
   "metadata": {},
   "outputs": [
    {
     "name": "stdout",
     "output_type": "stream",
     "text": [
      "computed_metrics: [0.4549019607843137, 0.607843137254902, 0.5515625, 0.3486842105263158, 0.5685975609756098, 0.4666666666666667, 0.4941860465116279, 0.7816091954022988, 0.46955128205128205, 0.2558139534883721, 0.4767441860465116, 0.42296511627906974, 0.37209302325581395, 0.3192771084337349, 0.49127906976744184, 0.5041322314049587, 0.603921568627451, 0.6, 0.48012048192771084, 0.4709302325581395, 0.5397260273972603, 0.4184303350970018, 0.5062137531068767, 0.5219298245614035, 0.7137254901960783, 0.580392156862745, 0.49390243902439024]\n",
      "Validation ROC-AUC Score: 0.500563\n"
     ]
    }
   ],
   "source": [
    "valid_scores_2 = model.evaluate(valid_dataset, [metric], transformers)\n",
    "print(\"Validation ROC-AUC Score: %f\" % valid_scores_2[\"mean-roc_auc_score\"])"
   ]
  },
  {
   "cell_type": "code",
   "execution_count": 16,
   "metadata": {},
   "outputs": [
    {
     "name": "stdout",
     "output_type": "stream",
     "text": [
      "computed_metrics: [1.0, 0.6781609195402298, 0.6947791164658634, 0.6958041958041958, nan, 0.5313852813852814, 0.3875968992248062, 0.11363636363636365, 0.5093201754385965, nan, 0.8205882352941176, 0.7713178294573644, nan, 0.011363636363636359, 0.7727272727272727, 0.6576797385620915, 0.5120481927710843, 0.6049382716049383, 0.437984496124031, 0.2935540069686411, 0.6046511627906976, 0.4764705882352941, 0.5850202429149798, 0.29953379953379955, 0.49425287356321834, nan, 0.49224806201550386]\n",
      "Validation ROC-AUC Score: 0.541090\n"
     ]
    }
   ],
   "source": [
    "test_scores_2 = model.evaluate(test_dataset, [metric], transformers)\n",
    "print(\"Validation ROC-AUC Score: %f\" % test_scores_2[\"mean-roc_auc_score\"])"
   ]
  },
  {
   "cell_type": "code",
   "execution_count": 17,
   "metadata": {},
   "outputs": [
    {
     "data": {
      "text/plain": [
       "0.5410896243661742"
      ]
     },
     "execution_count": 17,
     "metadata": {},
     "output_type": "execute_result"
    }
   ],
   "source": [
    "type(test_scores_2)\n",
    "test_scores_2['mean-roc_auc_score']"
   ]
  },
  {
   "cell_type": "code",
   "execution_count": 18,
   "metadata": {},
   "outputs": [
    {
     "data": {
      "text/plain": [
       "[(0.0, 0.591809465528205)]"
      ]
     },
     "execution_count": 18,
     "metadata": {},
     "output_type": "execute_result"
    },
    {
     "data": {
      "image/png": "[encoded data removed]",
      "text/plain": [
       "<Figure size 720x504 with 1 Axes>"
      ]
     },
     "metadata": {},
     "output_type": "display_data"
    }
   ],
   "source": [
    "import seaborn as sns\n",
    "\n",
    "sns.set(style=\"whitegrid\")\n",
    "sns.set(rc={'figure.figsize':(10,7)})\n",
    "ax = sns.barplot(x=[test_scores_1['mean-roc_auc_score'],test_scores_2['mean-roc_auc_score']],\n",
    "                 y=['First Scenario','Scenario Scenario'])\n",
    "ax.set(xlim=(0.00, None))"
   ]
  },
  {
   "cell_type": "code",
   "execution_count": 19,
   "metadata": {},
   "outputs": [],
   "source": [
    "# Hiperparameters permitidos pelo deepchem e os valores que são utilizados por defeito\n",
    "#/home/mamonteiro/source-code/knowledge-base/deepchem/deepchem/molnet/preset_hyper_parameters.py"
   ]
  },
  {
   "cell_type": "raw",
   "metadata": {},
   "source": [
    "# hps['graphconv'] = {\n",
    "    'batch_size': 64,\n",
    "    'nb_epoch': 40,\n",
    "    'learning_rate': 0.0005,\n",
    "    'n_filters': 64,\n",
    "    'n_fully_connected_nodes': 128,\n",
    "    'seed': 123\n",
    "}"
   ]
  },
  {
   "cell_type": "raw",
   "metadata": {},
   "source": [
    "batch_size = hyper_parameters['batch_size']\n",
    "nb_epoch = hyper_parameters['nb_epoch']\n",
    "learning_rate = hyper_parameters['learning_rate']\n",
    "n_filters = hyper_parameters['n_filters']\n",
    "n_fully_connected_nodes = hyper_parameters['n_fully_connected_nodes']\n",
    "    "
   ]
  },
  {
   "cell_type": "code",
   "execution_count": 20,
   "metadata": {},
   "outputs": [],
   "source": [
    "params_dict = {'batch_size' : [32,64,128,256],\n",
    "               'nb_epoch': [40,100,200],\n",
    "               'learning_rate': [0.0005,0.5,0.75,1],\n",
    "               'n_filters': [32,64,128],\n",
    "               'n_fully_connected_nodes' : [32,64,128]\n",
    "              }"
   ]
  },
  {
   "cell_type": "code",
   "execution_count": 21,
   "metadata": {},
   "outputs": [],
   "source": [
    "params_dict = {'batch_size' : [32],\n",
    "               'nb_epoch': [10,20],\n",
    "               'learning_rate': [0.0005],\n",
    "               'n_filters': [32],\n",
    "               'n_fully_connected_nodes' : [32]\n",
    "              }"
   ]
  },
  {
   "cell_type": "code",
   "execution_count": 22,
   "metadata": {},
   "outputs": [
    {
     "data": {
      "text/plain": [
       "704"
      ]
     },
     "execution_count": 22,
     "metadata": {},
     "output_type": "execute_result"
    }
   ],
   "source": [
    "len(train_dataset)"
   ]
  },
  {
   "cell_type": "code",
   "execution_count": 23,
   "metadata": {},
   "outputs": [],
   "source": [
    "n_features = len(train_dataset)\n",
    "\n",
    "def model_builder(model_params, model_dir):\n",
    "    model = GraphConvModel(\n",
    "            len(sider_tasks), mode='classification',**model_params)\n",
    "    \n",
    "    return model\n",
    "\n"
   ]
  },
  {
   "cell_type": "code",
   "execution_count": 24,
   "metadata": {},
   "outputs": [
    {
     "name": "stdout",
     "output_type": "stream",
     "text": [
      "Fitting model 1/2\n",
      "hyperparameters: {'batch_size': 32, 'nb_epoch': 10, 'learning_rate': 0.0005, 'n_filters': 32, 'n_fully_connected_nodes': 32}\n",
      "computed_metrics: [0.5215686274509804, 0.3529411764705882, 0.5796874999999999, 0.41995614035087714, 0.5426829268292683, 0.4986301369863014, 0.5581395348837209, 0.6091954022988506, 0.5016025641025641, 0.2616279069767442, 0.17441860465116277, 0.27325581395348836, 0.4534883720930233, 0.6216867469879519, 0.7151162790697674, 0.4757969303423849, 0.615686274509804, 0.7372549019607844, 0.41445783132530123, 0.5813953488372092, 0.4474885844748858, 0.527336860670194, 0.6652858326429164, 0.5986842105263157, 0.5450980392156863, 0.403921568627451, 0.5]\n",
      "Model 1/2, Metric mean-roc_auc_score, Validation set 0: 0.503571\n",
      "\tbest_validation_score so far: 0.503571\n",
      "Fitting model 2/2\n",
      "hyperparameters: {'batch_size': 32, 'nb_epoch': 20, 'learning_rate': 0.0005, 'n_filters': 32, 'n_fully_connected_nodes': 32}\n",
      "computed_metrics: [0.42745098039215684, 0.5058823529411764, 0.34843749999999996, 0.3837719298245614, 0.5386178861788617, 0.4474885844748858, 0.3023255813953488, 0.8160919540229885, 0.5475427350427351, 0.3081395348837209, 0.19767441860465118, 0.2616279069767442, 0.37790697674418605, 0.508433734939759, 0.3488372093023256, 0.5301062573789846, 0.603921568627451, 0.6784313725490196, 0.2891566265060241, 0.7093023255813953, 0.4584474885844749, 0.3121693121693122, 0.6528583264291632, 0.4144736842105263, 0.35686274509803917, 0.7450980392156863, 0.6666666666666667]\n",
      "Model 2/2, Metric mean-roc_auc_score, Validation set 1: 0.471768\n",
      "\tbest_validation_score so far: 0.503571\n",
      "computed_metrics: [0.7176535087719298, 0.7878174350668132, 0.7051542733934688, 0.685880060524912, 0.8130251595040328, 0.6949765696642353, 0.7592883611741653, 0.8843719090009892, 0.6345356652276295, 0.762650427722198, 0.8232617453554764, 0.8443926292949901, 0.8899616858237547, 0.7846528881823, 0.775850906400296, 0.6819371607955118, 0.7017592039158037, 0.7451744704832574, 0.7705026455026455, 0.7323087293562522, 0.7103942652329749, 0.7147498964374481, 0.6613950301150504, 0.6864353177028055, 0.7603114640351554, 0.8095051368520116, 0.7015608965703484]\n",
      "Best hyperparameters: (32, 10, 0.0005, 32, 32)\n",
      "train_score: 0.749611\n",
      "validation_score: 0.503571\n"
     ]
    }
   ],
   "source": [
    "metric = dc.metrics.Metric(dc.metrics.roc_auc_score, np.mean)\n",
    "optimizer = dc.hyper.HyperparamOpt(model_builder)\n",
    "best_dnn, best_hyperparams, all_results = optimizer.hyperparam_search(\n",
    "   params_dict, train_dataset, valid_dataset, [], metric)"
   ]
  },
  {
   "cell_type": "code",
   "execution_count": 25,
   "metadata": {},
   "outputs": [
    {
     "data": {
      "text/plain": [
       "GraphConvModel(dense_layer_size=128, dropout=[0.0, 0.0, 0.0],\n",
       "               graph_conv_layers=[64, 64], mode='classification', n_classes=2,\n",
       "               n_tasks=27, number_atom_features=75, uncertainty=False)"
      ]
     },
     "execution_count": 25,
     "metadata": {},
     "output_type": "execute_result"
    }
   ],
   "source": [
    "best_dnn"
   ]
  },
  {
   "cell_type": "code",
   "execution_count": 26,
   "metadata": {},
   "outputs": [
    {
     "data": {
      "text/plain": [
       "(32, 10, 0.0005, 32, 32)"
      ]
     },
     "execution_count": 26,
     "metadata": {},
     "output_type": "execute_result"
    }
   ],
   "source": [
    "best_hyperparams"
   ]
  },
  {
   "cell_type": "code",
   "execution_count": 27,
   "metadata": {},
   "outputs": [
    {
     "data": {
      "text/plain": [
       "{'(32, 10, 0.0005, 32, 32)': 0.5035705228236379,\n",
       " '(32, 20, 0.0005, 32, 32)': 0.4717675443978091}"
      ]
     },
     "execution_count": 27,
     "metadata": {},
     "output_type": "execute_result"
    }
   ],
   "source": [
    "all_results"
   ]
  },
  {
   "cell_type": "code",
   "execution_count": 28,
   "metadata": {},
   "outputs": [
    {
     "data": {
      "text/plain": [
       "44.996270343462626"
      ]
     },
     "execution_count": 28,
     "metadata": {},
     "output_type": "execute_result"
    }
   ],
   "source": [
    "###AQUI\n",
    "\n",
    "#(32, 40, 0.0005, 64, 32)\n",
    "\n",
    "#'batch_size' : [32,64,128,256],\n",
    "#'nb_epoch': [40,100,200],\n",
    "#'learning_rate': [0.0005,0.5,0.75,1],\n",
    "#'n_filters': [32,64,128],\n",
    "#'n_fully_connected_nodes' : [32,64,128]\n",
    "\n",
    "#model=model_builder(params_dict,params_dict)\n",
    "\n",
    "#model =GraphConvModel(dense_layer_size=128, dropout=[0.0, 0.0, 0.0],\n",
    "#               graph_conv_layers=[64, 64], mode='classification', n_classes=2,\n",
    "#               n_tasks=27, number_atom_features=75, uncertainty=False)\n",
    "\n",
    "\n",
    "model.fit(train_dataset,batch_size=32,nb_epoch=30,learning_rate=0.0005,n_filters=64,n_fully_connected_nodes=32)"
   ]
  },
  {
   "cell_type": "code",
   "execution_count": 29,
   "metadata": {},
   "outputs": [
    {
     "name": "stdout",
     "output_type": "stream",
     "text": [
      "Evaluating model\n",
      "computed_metrics: [1.0, 1.0, 1.0, 1.0, 1.0, 0.9999326956243743, 1.0, 1.0, 0.9979232077446363, 1.0, 1.0, 1.0, 1.0, 1.0, 1.0, 1.0, 1.0, 1.0, 1.0, 1.0, 1.0, 1.0, 1.0, 1.0, 1.0, 1.0, 1.0]\n",
      "Training ROC-AUC Score: 0.999921\n"
     ]
    }
   ],
   "source": [
    "metric = dc.metrics.Metric(\n",
    "    dc.metrics.roc_auc_score, np.mean, mode=\"classification\")\n",
    "\n",
    "print(\"Evaluating model\")\n",
    "train_scores_3 = model.evaluate(train_dataset, [metric], transformers)\n",
    "print(\"Training ROC-AUC Score: %f\" % train_scores_3[\"mean-roc_auc_score\"])\n"
   ]
  },
  {
   "cell_type": "code",
   "execution_count": 30,
   "metadata": {},
   "outputs": [
    {
     "name": "stdout",
     "output_type": "stream",
     "text": [
      "computed_metrics: [0.47058823529411764, 0.596078431372549, 0.5765625, 0.3475877192982456, 0.5426829268292683, 0.4757990867579909, 0.43023255813953487, 0.7816091954022988, 0.4807692307692308, 0.3023255813953488, 0.5116279069767442, 0.36046511627906974, 0.4200581395348837, 0.3120481927710843, 0.49709302325581395, 0.49232585596221956, 0.596078431372549, 0.6196078431372549, 0.394578313253012, 0.48255813953488375, 0.5442922374429224, 0.40476190476190477, 0.49627174813587405, 0.5142543859649122, 0.7529411764705882, 0.5686274509803921, 0.4796747967479674]\n",
      "Validation ROC-AUC Score: 0.498204\n"
     ]
    }
   ],
   "source": [
    "valid_scores_3 = model.evaluate(valid_dataset, [metric], transformers)\n",
    "print(\"Validation ROC-AUC Score: %f\" % valid_scores_3[\"mean-roc_auc_score\"])"
   ]
  },
  {
   "cell_type": "code",
   "execution_count": 31,
   "metadata": {},
   "outputs": [
    {
     "name": "stdout",
     "output_type": "stream",
     "text": [
      "computed_metrics: [1.0, 0.6551724137931034, 0.7208835341365462, 0.7272727272727273, nan, 0.5941558441558441, 0.39534883720930236, 0.12784090909090912, 0.5274122807017543, nan, 0.8500000000000001, 0.7674418604651163, nan, 0.01704545454545454, 0.7272727272727273, 0.6601307189542484, 0.5060240963855422, 0.6037808641975309, 0.46124031007751937, 0.31402439024390244, 0.5503875968992249, 0.4647058823529412, 0.5738866396761133, 0.30623543123543123, 0.40804597701149425, nan, 0.49224806201550386]\n",
      "Validation ROC-AUC Score: 0.541329\n"
     ]
    }
   ],
   "source": [
    "test_scores_3 = model.evaluate(test_dataset, [metric], transformers)\n",
    "print(\"Validation ROC-AUC Score: %f\" % test_scores_3[\"mean-roc_auc_score\"])"
   ]
  },
  {
   "cell_type": "code",
   "execution_count": 32,
   "metadata": {},
   "outputs": [
    {
     "data": {
      "text/plain": [
       "[(0.0, 0.591809465528205)]"
      ]
     },
     "execution_count": 32,
     "metadata": {},
     "output_type": "execute_result"
    },
    {
     "data": {
      "image/png": "[encoded data removed]",
      "text/plain": [
       "<Figure size 720x504 with 1 Axes>"
      ]
     },
     "metadata": {},
     "output_type": "display_data"
    }
   ],
   "source": [
    "import seaborn as sns\n",
    "\n",
    "\n",
    "sns.set(rc={'figure.figsize':(10,7)})\n",
    "\n",
    "sns.set(style=\"whitegrid\")\n",
    "ax = sns.barplot(x=[test_scores_1['mean-roc_auc_score'],test_scores_2['mean-roc_auc_score'],test_scores_2['mean-roc_auc_score']],\n",
    "                 y=['First Scenario','Scenario Scenario','Third Scenario'])\n",
    "ax.set(xlim=(0.0, None))"
   ]
  },
  {
   "cell_type": "markdown",
   "metadata": {},
   "source": [
    "# Another Implementation GraphConvModel"
   ]
  },
  {
   "cell_type": "markdown",
   "metadata": {},
   "source": [
    "TensorGraph - Simplicity is Beauty\n",
    "TensorGraph is a simple, lean, and clean framework on TensorFlow for building any imaginable models.\n",
    "\n"
   ]
  },
  {
   "cell_type": "markdown",
   "metadata": {},
   "source": [
    "What’s going on under the hood? \n",
    "\n",
    "Now we will build GraphConvModel ourselves.\n",
    "\n",
    "The first step is to create a TensorGraph object. \n",
    "This object will hold the “computational graph” that defines the computation that a graph convolutional network will perform.\n"
   ]
  },
  {
   "cell_type": "code",
   "execution_count": 33,
   "metadata": {},
   "outputs": [
    {
     "name": "stderr",
     "output_type": "stream",
     "text": [
      "Using TensorFlow backend.\n"
     ]
    }
   ],
   "source": [
    "from deepchem.models.tensorgraph.tensor_graph import TensorGraph\n",
    "from deepchem.models.tensorgraph.layers import Dense, BatchNorm,GraphConv\n",
    "from deepchem.models.tensorgraph.layers import GraphPool, GraphGather,Dropout\n",
    "import keras\n",
    "import tensorflow as tf\n"
   ]
  },
  {
   "cell_type": "code",
   "execution_count": 34,
   "metadata": {},
   "outputs": [],
   "source": [
    "tg = TensorGraph(use_queue=False)"
   ]
  },
  {
   "cell_type": "code",
   "execution_count": 35,
   "metadata": {},
   "outputs": [],
   "source": [
    "from deepchem.models.tensorgraph.layers import Feature\n",
    "\n",
    "atom_features = Feature(shape=(None, 75))\n",
    "degree_slice = Feature(shape=(None, 2), dtype=tf.int32)\n",
    "membership = Feature(shape=(None,), dtype=tf.int32)\n",
    "\n",
    "deg_adjs = []\n",
    "for i in range(0, 10 + 1):\n",
    "    deg_adj = Feature(shape=(None, i + 1), dtype=tf.int32)\n",
    "    deg_adjs.append(deg_adj)"
   ]
  },
  {
   "cell_type": "markdown",
   "metadata": {},
   "source": [
    "# ver mais um atomo na tiro a camada de dropout e verifico se esta em overfitting"
   ]
  },
  {
   "cell_type": "code",
   "execution_count": 36,
   "metadata": {},
   "outputs": [],
   "source": [
    "batch_size = 50\n",
    "\n",
    "gc1 = GraphConv(64,activation_fn=tf.nn.relu,in_layers=[atom_features, degree_slice, membership] + deg_adjs)\n",
    "dropout_1 = Dropout(dropout_prob=0.5, in_layers=[gc1])\n",
    "batch_norm1 = BatchNorm(in_layers=[dropout_1])\n",
    "gp1 = GraphPool(in_layers=[batch_norm1, degree_slice, membership] + deg_adjs)\n",
    "\n",
    "gc2 = GraphConv(64,activation_fn=tf.nn.relu,in_layers=[gp1, degree_slice, membership] + deg_adjs)\n",
    "batch_norm2 = BatchNorm(in_layers=[gc2])\n",
    "gp2 = GraphPool(in_layers=[batch_norm2, degree_slice, membership] + deg_adjs)\n",
    "\n",
    "gc3 = GraphConv(64,activation_fn=tf.nn.relu,in_layers=[gp1, degree_slice, membership] + deg_adjs)\n",
    "batch_norm3 = BatchNorm(in_layers=[gc3])\n",
    "gp3 = GraphPool(in_layers=[batch_norm3, degree_slice, membership] + deg_adjs)\n",
    "\n",
    "dense = Dense(out_channels=128, activation_fn=tf.nn.relu, in_layers=[gp3])\n",
    "batch_norm4 = BatchNorm(in_layers=[dense])\n",
    "\n",
    "readout = GraphGather(batch_size=batch_size,activation_fn=tf.nn.tanh,in_layers=[batch_norm4, degree_slice, membership] + deg_adjs)"
   ]
  },
  {
   "cell_type": "code",
   "execution_count": 37,
   "metadata": {},
   "outputs": [],
   "source": [
    "from deepchem.models.tensorgraph.layers import Dense, SoftMax, \\\n",
    "    SoftMaxCrossEntropy, WeightedError, Stack\n",
    "\n",
    "from deepchem.models.tensorgraph.layers import Label, Weights\n",
    "\n",
    "costs = []\n",
    "labels = []\n",
    "for task in range(len(sider_tasks)):\n",
    "    classification = Dense(out_channels=2, activation_fn=None, in_layers=[readout])\n",
    "\n",
    "    softmax = SoftMax(in_layers=[classification])\n",
    "    tg.add_output(softmax)\n",
    "\n",
    "    label = Label(shape=(None, 2))\n",
    "    labels.append(label)\n",
    "    cost = SoftMaxCrossEntropy(in_layers=[label, classification])\n",
    "    costs.append(cost)\n",
    "    \n",
    "all_cost = Stack(in_layers=costs, axis=1)\n",
    "weights = Weights(shape=(None, len(sider_tasks)))\n",
    "loss = WeightedError(in_layers=[all_cost, weights])\n",
    "tg.set_loss(loss)"
   ]
  },
  {
   "cell_type": "code",
   "execution_count": 38,
   "metadata": {},
   "outputs": [],
   "source": [
    "from deepchem.metrics import to_one_hot\n",
    "from deepchem.feat.mol_graphs import ConvMol\n",
    "\n",
    "def data_generator(dataset, epochs=1, predict=False, pad_batches=True):\n",
    "    for epoch in range(epochs):\n",
    "        if not predict:\n",
    "            print('Starting epoch %i' % epoch)\n",
    "        for ind, (X_b, y_b, w_b, ids_b) in enumerate(\n",
    "            dataset.iterbatches(batch_size, pad_batches=pad_batches, deterministic=True)):\n",
    "            d = {}\n",
    "\n",
    "            for index, label in enumerate(labels):\n",
    "                d[label] = to_one_hot(y_b[:, index])\n",
    "            d[weights] = w_b\n",
    "            multiConvMol = ConvMol.agglomerate_mols(X_b)\n",
    "            d[atom_features] = multiConvMol.get_atom_features()\n",
    "            d[degree_slice] = multiConvMol.deg_slice\n",
    "            d[membership] = multiConvMol.membership\n",
    "            for i in range(1, len(multiConvMol.get_deg_adjacency_lists())):\n",
    "                d[deg_adjs[i - 1]] = multiConvMol.get_deg_adjacency_lists()[i]\n",
    "            yield d"
   ]
  },
  {
   "cell_type": "code",
   "execution_count": 39,
   "metadata": {},
   "outputs": [
    {
     "name": "stdout",
     "output_type": "stream",
     "text": [
      "Starting epoch 0\n",
      "Starting epoch 1\n",
      "Starting epoch 2\n",
      "Starting epoch 3\n",
      "Starting epoch 4\n",
      "Starting epoch 5\n",
      "Starting epoch 6\n",
      "Starting epoch 7\n",
      "Starting epoch 8\n",
      "Starting epoch 9\n",
      "Starting epoch 10\n",
      "Starting epoch 11\n",
      "Starting epoch 12\n",
      "Starting epoch 13\n",
      "Starting epoch 14\n",
      "Starting epoch 15\n",
      "Starting epoch 16\n",
      "Starting epoch 17\n",
      "Starting epoch 18\n",
      "Starting epoch 19\n",
      "Starting epoch 20\n",
      "Starting epoch 21\n",
      "Starting epoch 22\n",
      "Starting epoch 23\n",
      "Starting epoch 24\n",
      "Starting epoch 25\n",
      "Starting epoch 26\n",
      "Starting epoch 27\n",
      "Starting epoch 28\n",
      "Starting epoch 29\n",
      "Starting epoch 30\n",
      "Starting epoch 31\n",
      "Starting epoch 32\n",
      "Starting epoch 33\n",
      "Starting epoch 34\n",
      "Starting epoch 35\n",
      "Starting epoch 36\n",
      "Starting epoch 37\n",
      "Starting epoch 38\n",
      "Starting epoch 39\n",
      "Starting epoch 40\n",
      "Starting epoch 41\n",
      "Starting epoch 42\n",
      "Starting epoch 43\n",
      "Starting epoch 44\n",
      "Starting epoch 45\n",
      "Starting epoch 46\n",
      "Starting epoch 47\n",
      "Starting epoch 48\n",
      "Starting epoch 49\n",
      "Starting epoch 50\n",
      "Starting epoch 51\n",
      "Starting epoch 52\n",
      "Starting epoch 53\n",
      "Starting epoch 54\n",
      "Starting epoch 55\n",
      "Starting epoch 56\n",
      "Starting epoch 57\n",
      "Starting epoch 58\n",
      "Starting epoch 59\n"
     ]
    }
   ],
   "source": [
    "# Epochs set to 1 to render tutorials online.\n",
    "# Set epochs=10 for better results.\n",
    "history=tg.fit_generator(data_generator(train_dataset, epochs=60))"
   ]
  },
  {
   "cell_type": "code",
   "execution_count": 40,
   "metadata": {},
   "outputs": [],
   "source": [
    "# Training dataset"
   ]
  },
  {
   "cell_type": "code",
   "execution_count": 41,
   "metadata": {
    "scrolled": false
   },
   "outputs": [],
   "source": [
    "metric = dc.metrics.Metric(\n",
    "    dc.metrics.roc_auc_score, np.mean, mode=\"classification\")\n",
    "\n",
    "def reshape_y_pred(y_true, y_pred):\n",
    "    \"\"\"\n",
    "    TensorGraph.Predict returns a list of arrays, one for each output\n",
    "    We also have to remove the padding on the last batch\n",
    "    Metrics taks results of shape (samples, n_task, prob_of_class)\n",
    "    \"\"\"\n",
    "    n_samples = len(y_true)\n",
    "    retval = np.stack(y_pred, axis=1)\n",
    "    return retval[:n_samples]\n"
   ]
  },
  {
   "cell_type": "code",
   "execution_count": 42,
   "metadata": {},
   "outputs": [
    {
     "name": "stdout",
     "output_type": "stream",
     "text": [
      "Evaluating model\n",
      "computed_metrics: [0.7935683936403508, 0.7831029097009312, 0.7549502586006905, 0.7015555773271067, 0.8476947153003491, 0.7365033694253047, 0.7924839454436101, 0.9121167161226509, 0.6704359628466772, 0.8214130367240415, 0.8494333826044113, 0.8886621976100262, 0.9249042145593869, 0.7666136724960255, 0.8696587125416204, 0.6839735317536586, 0.7761820913364457, 0.7729300709153244, 0.8238536155202821, 0.7109133805190428, 0.7296198366531523, 0.774634942004971, 0.7095069787571682, 0.7371862905905937, 0.7840875799861229, 0.8312877421378715, 0.7229813664596273]\n",
      "----------------\n",
      "Training ROC-AUC Score: 0.784083\n"
     ]
    }
   ],
   "source": [
    "print(\"Evaluating model\")\n",
    "train_predictions = tg.predict_on_generator(data_generator(train_dataset, predict=True))\n",
    "train_predictions = reshape_y_pred(train_dataset.y, train_predictions)\n",
    "train_scores_4 = metric.compute_metric(train_dataset.y, train_predictions, train_dataset.w)\n",
    "\n",
    "print(\"----------------\")\n",
    "print(\"Training ROC-AUC Score: %f\" % train_scores_4)\n"
   ]
  },
  {
   "cell_type": "code",
   "execution_count": 43,
   "metadata": {},
   "outputs": [],
   "source": [
    "# Validation Dataset"
   ]
  },
  {
   "cell_type": "code",
   "execution_count": 44,
   "metadata": {},
   "outputs": [
    {
     "name": "stdout",
     "output_type": "stream",
     "text": [
      "computed_metrics: [0.6862745098039216, 0.580392156862745, 0.5578125, 0.375, 0.7540650406504066, 0.5461187214611872, 0.14534883720930233, 0.5747126436781609, 0.5037393162393162, 0.3081395348837209, 0.436046511627907, 0.05813953488372093, 0.4534883720930233, 0.636144578313253, 0.6046511627906976, 0.4391971664698937, 0.5764705882352941, 0.7333333333333333, 0.23855421686746991, 0.563953488372093, 0.4511415525114155, 0.30335097001763667, 0.7207953603976802, 0.5164473684210527, 0.5372549019607844, 0.5647058823529412, 0.5528455284552846]\n",
      "Valid ROC-AUC Score: 0.496968\n"
     ]
    }
   ],
   "source": [
    "valid_predictions = tg.predict_on_generator(data_generator(valid_dataset, predict=True))\n",
    "valid_predictions = reshape_y_pred(valid_dataset.y, valid_predictions)\n",
    "valid_scores_4 = metric.compute_metric(valid_dataset.y, valid_predictions, valid_dataset.w)\n",
    "print(\"Valid ROC-AUC Score: %f\" % valid_scores_4)\n"
   ]
  },
  {
   "cell_type": "code",
   "execution_count": 45,
   "metadata": {},
   "outputs": [],
   "source": [
    "# Test Dataset"
   ]
  },
  {
   "cell_type": "code",
   "execution_count": 46,
   "metadata": {
    "scrolled": true
   },
   "outputs": [
    {
     "name": "stdout",
     "output_type": "stream",
     "text": [
      "computed_metrics: [0.7159090909090908, 0.4367816091954023, 0.4257028112449799, 0.5955710955710956, nan, 0.5173160173160173, 0.42248062015503873, 0.7840909090909091, 0.5098684210526316, nan, 0.6911764705882353, 0.6007751937984496, nan, 0.2954545454545454, 0.8068181818181819, 0.6895424836601307, 0.39357429718875503, 0.6280864197530864, 0.5542635658914729, 0.25435540069686413, 0.3333333333333333, 0.5264705882352941, 0.6811740890688258, 0.3135198135198135, 0.1781609195402299, nan, 0.3604651162790698]\n",
      "Test  ROC-AUC Score: 0.509343\n"
     ]
    }
   ],
   "source": [
    "test_predictions = tg.predict_on_generator(data_generator(test_dataset, predict=True))\n",
    "test_predictions = reshape_y_pred(test_dataset.y, test_predictions)\n",
    "test_scores_4 = metric.compute_metric(test_dataset.y, test_predictions, test_dataset.w)\n",
    "print(\"Test  ROC-AUC Score: %f\" % test_scores_4)"
   ]
  },
  {
   "cell_type": "markdown",
   "metadata": {},
   "source": [
    "\n",
    "# Comparision of Results with MoleculeNet results"
   ]
  },
  {
   "cell_type": "code",
   "execution_count": 47,
   "metadata": {
    "scrolled": false
   },
   "outputs": [
    {
     "data": {
      "text/plain": [
       "[(0.0, 0.591809465528205)]"
      ]
     },
     "execution_count": 47,
     "metadata": {},
     "output_type": "execute_result"
    },
    {
     "data": {
      "image/png": "[encoded data removed]",
      "text/plain": [
       "<Figure size 720x504 with 1 Axes>"
      ]
     },
     "metadata": {},
     "output_type": "display_data"
    }
   ],
   "source": [
    "import seaborn as sns\n",
    "\n",
    "\n",
    "sns.set(rc={'figure.figsize':(10,7)})\n",
    "\n",
    "sns.set(style=\"whitegrid\")\n",
    "ax = sns.barplot(x=[test_scores_1['mean-roc_auc_score'],test_scores_2['mean-roc_auc_score'],test_scores_3['mean-roc_auc_score'],test_scores_4],\n",
    "                 y=['First Scenario','Scenario Scenario','Third Scenario','Modelo Desenvolvido Raiz'])\n",
    "ax.set(xlim=(0.0, None))"
   ]
  },
  {
   "cell_type": "code",
   "execution_count": 48,
   "metadata": {},
   "outputs": [
    {
     "name": "stdout",
     "output_type": "stream",
     "text": [
      "0.5636280624078143\n",
      "0.5410896243661742\n",
      "0.5413285459866494\n",
      "0.5093430866678893\n"
     ]
    }
   ],
   "source": [
    "print(test_scores_1['mean-roc_auc_score'])\n",
    "\n",
    "print(test_scores_2['mean-roc_auc_score'])\n",
    "print(test_scores_3['mean-roc_auc_score'])\n",
    "print(test_scores_4)"
   ]
  },
  {
   "cell_type": "code",
   "execution_count": 49,
   "metadata": {},
   "outputs": [
    {
     "data": {
      "text/plain": [
       "[(0.0, 0.591809465528205)]"
      ]
     },
     "execution_count": 49,
     "metadata": {},
     "output_type": "execute_result"
    },
    {
     "data": {
      "image/png": "[encoded data removed]",
      "text/plain": [
       "<Figure size 720x504 with 1 Axes>"
      ]
     },
     "metadata": {},
     "output_type": "display_data"
    }
   ],
   "source": [
    "import seaborn as sns\n",
    "\n",
    "sns.set(style=\"whitegrid\")\n",
    "ax = sns.barplot(x=[test_scores_1['mean-roc_auc_score'],test_scores_2['mean-roc_auc_score'],test_scores_3['mean-roc_auc_score'],test_scores_4],\n",
    "                 y=['First Scenario','Scenario Scenario','Third Scenario','fourth Scenario'])\n",
    "ax.set(xlim=(0.0, None))"
   ]
  },
  {
   "cell_type": "code",
   "execution_count": null,
   "metadata": {},
   "outputs": [],
   "source": []
  },
  {
   "cell_type": "code",
   "execution_count": null,
   "metadata": {},
   "outputs": [],
   "source": []
  }
 ],
 "metadata": {
  "kernelspec": {
   "display_name": "Python 3",
   "language": "python",
   "name": "python3"
  },
  "language_info": {
   "codemirror_mode": {
    "name": "ipython",
    "version": 3
   },
   "file_extension": ".py",
   "mimetype": "text/x-python",
   "name": "python",
   "nbconvert_exporter": "python",
   "pygments_lexer": "ipython3",
   "version": "3.6.8"
  }
 },
 "nbformat": 4,
 "nbformat_minor": 2
}
