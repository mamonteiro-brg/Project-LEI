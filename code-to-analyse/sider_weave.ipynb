{
 "cells": [
  {
   "cell_type": "code",
   "execution_count": 1,
   "metadata": {},
   "outputs": [],
   "source": [
    "\"\"\"\n",
    "Script that trains weave models on tox21 dataset.\n",
    "\"\"\"\n",
    "from __future__ import print_function\n",
    "from __future__ import division\n",
    "from __future__ import unicode_literals\n",
    "\n",
    "import numpy as np\n",
    "np.random.seed(123)\n",
    "import tensorflow as tf\n",
    "tf.set_random_seed(123)\n",
    "import deepchem as dc\n",
    "\n"
   ]
  },
  {
   "cell_type": "code",
   "execution_count": 3,
   "metadata": {},
   "outputs": [
    {
     "name": "stdout",
     "output_type": "stream",
     "text": [
      "Loading dataset from disk.\n",
      "Loading dataset from disk.\n",
      "Loading dataset from disk.\n"
     ]
    }
   ],
   "source": [
    "# Load tox21 dataset\n",
    "tox21_tasks, tox21_datasets, transformers = dc.molnet.load_sider(\n",
    "    featurizer='Weave', split='index')\n",
    "train_dataset, valid_dataset, test_dataset = tox21_datasets\n",
    "\n"
   ]
  },
  {
   "cell_type": "code",
   "execution_count": 4,
   "metadata": {},
   "outputs": [],
   "source": [
    "# Fit models\n",
    "metric = dc.metrics.Metric(dc.metrics.roc_auc_score, np.mean)\n"
   ]
  },
  {
   "cell_type": "code",
   "execution_count": 5,
   "metadata": {},
   "outputs": [],
   "source": [
    "\n",
    "n_atom_feat = 75\n",
    "n_pair_feat = 14\n",
    "# Batch size of models\n",
    "batch_size = 64\n",
    "n_feat = 128\n",
    "\n",
    "model = dc.models.WeaveModel(\n",
    "    len(tox21_tasks),\n",
    "    batch_size=batch_size,\n",
    "    learning_rate=1e-3,\n",
    "    use_queue=False,\n",
    "    mode='classification')\n"
   ]
  },
  {
   "cell_type": "code",
   "execution_count": 6,
   "metadata": {},
   "outputs": [
    {
     "name": "stdout",
     "output_type": "stream",
     "text": [
      "WARNING:tensorflow:From /home/mamonteiro/anaconda3/envs/lei_deepchem_python36/lib/python3.6/site-packages/tensorflow/python/framework/op_def_library.py:263: colocate_with (from tensorflow.python.framework.ops) is deprecated and will be removed in a future version.\n",
      "Instructions for updating:\n",
      "Colocations handled automatically by placer.\n",
      "WARNING:tensorflow:From /home/mamonteiro/anaconda3/envs/lei_deepchem_python36/lib/python3.6/site-packages/deepchem/models/tensorgraph/graph_layers.py:280: Normal.__init__ (from tensorflow.python.ops.distributions.normal) is deprecated and will be removed after 2019-01-01.\n",
      "Instructions for updating:\n",
      "The TensorFlow Distributions library has moved to TensorFlow Probability (https://github.com/tensorflow/probability). You should update all references to use `tfp.distributions` instead of `tf.distributions`.\n",
      "WARNING:tensorflow:From /home/mamonteiro/anaconda3/envs/lei_deepchem_python36/lib/python3.6/site-packages/tensorflow/python/ops/distributions/normal.py:160: Distribution.__init__ (from tensorflow.python.ops.distributions.distribution) is deprecated and will be removed after 2019-01-01.\n",
      "Instructions for updating:\n",
      "The TensorFlow Distributions library has moved to TensorFlow Probability (https://github.com/tensorflow/probability). You should update all references to use `tfp.distributions` instead of `tf.distributions`.\n",
      "WARNING:tensorflow:From /home/mamonteiro/anaconda3/envs/lei_deepchem_python36/lib/python3.6/site-packages/tensorflow/python/ops/math_ops.py:3066: to_int32 (from tensorflow.python.ops.math_ops) is deprecated and will be removed in a future version.\n",
      "Instructions for updating:\n",
      "Use tf.cast instead.\n"
     ]
    },
    {
     "data": {
      "text/plain": [
       "1183.051289876302"
      ]
     },
     "execution_count": 6,
     "metadata": {},
     "output_type": "execute_result"
    }
   ],
   "source": [
    "\n",
    "# Fit trained model\n",
    "model.fit(train_dataset, nb_epoch=1)\n"
   ]
  },
  {
   "cell_type": "code",
   "execution_count": 7,
   "metadata": {},
   "outputs": [
    {
     "name": "stdout",
     "output_type": "stream",
     "text": [
      "Evaluating model\n",
      "computed_metrics: [0.5339656500308071, 0.5374354307441768, 0.6080307721174594, 0.5781858689992024, 0.47223556525958266, 0.5549111128855465, 0.5034485934198026, 0.5720154732324374, 0.5770483864719328, 0.5430838008415146, 0.5078359086987215, 0.4956173102908755, 0.5224955589792808, 0.6006108690532266, 0.5458239364544557, 0.4239455481589349, 0.5956974301952063, 0.534417851223065, 0.5203601133862966, 0.5339326864766525, 0.5612353080261462, 0.5771178806179307, 0.5047366243794815, 0.5326502706997542, 0.45259051186017474, 0.42642543859649124, 0.5656401091310955]\n",
      "computed_metrics: [0.49881329113924056, 0.48656294200848654, 0.8873239436619719, 0.5548780487804879, 0.4477836213373404, 0.5423558897243108, 0.5321151716500554, 0.5674576271186441, 0.544104609929078, 0.6092089728453365, 0.4769144144144144, 0.5688705234159779, 0.4943977591036415, 0.6052845528455284, 0.4994100294985251, 0.43500672344240254, 0.7495078740157481, 0.5823575331772053, 0.5474418604651163, 0.5590933621154883, 0.5686046511627907, 0.5627442466348241, 0.6875, 0.584812321501428, 0.3883908561183326, 0.6183206106870229, 0.5296248934356351]\n",
      "Train scores\n",
      "{'mean-roc_auc_score': 0.532647926304824}\n",
      "Validation scores\n",
      "{'mean-roc_auc_score': 0.5603291233418161}\n"
     ]
    }
   ],
   "source": [
    "print(\"Evaluating model\")\n",
    "train_scores = model.evaluate(train_dataset, [metric], transformers)\n",
    "valid_scores = model.evaluate(valid_dataset, [metric], transformers)\n",
    "\n",
    "print(\"Train scores\")\n",
    "print(train_scores)\n",
    "\n",
    "print(\"Validation scores\")\n",
    "print(valid_scores)"
   ]
  },
  {
   "cell_type": "code",
   "execution_count": null,
   "metadata": {},
   "outputs": [],
   "source": []
  }
 ],
 "metadata": {
  "kernelspec": {
   "display_name": "Python 3",
   "language": "python",
   "name": "python3"
  },
  "language_info": {
   "codemirror_mode": {
    "name": "ipython",
    "version": 3
   },
   "file_extension": ".py",
   "mimetype": "text/x-python",
   "name": "python",
   "nbconvert_exporter": "python",
   "pygments_lexer": "ipython3",
   "version": "3.6.8"
  }
 },
 "nbformat": 4,
 "nbformat_minor": 2
}
