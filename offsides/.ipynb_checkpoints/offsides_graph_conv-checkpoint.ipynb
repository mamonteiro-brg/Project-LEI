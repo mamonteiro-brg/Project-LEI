{
 "cells": [
  {
   "cell_type": "markdown",
   "metadata": {},
   "source": [
    "## Graph Convolutions For OFFSIDES"
   ]
  },
  {
   "cell_type": "markdown",
   "metadata": {},
   "source": [
    "Featurization=ConvMolFeaturizer\n",
    "\n",
    "É utilizado com modelos GraphConvModel.\n",
    "\n",
    "Alternativamente, também implementamos este modelo (GraphConvModel) usando layers do TensorGraph"
   ]
  },
  {
   "cell_type": "code",
   "execution_count": 1,
   "metadata": {},
   "outputs": [
    {
     "name": "stderr",
     "output_type": "stream",
     "text": [
      "/home/mamonteiro/anaconda3/envs/lei/lib/python3.6/site-packages/sklearn/externals/joblib/__init__.py:15: DeprecationWarning: sklearn.externals.joblib is deprecated in 0.21 and will be removed in 0.23. Please import this functionality directly from joblib, which can be installed with: pip install joblib. If this warning is raised when loading pickled models, you may need to re-serialize those models with scikit-learn 0.21+.\n",
      "  warnings.warn(msg, category=DeprecationWarning)\n"
     ]
    }
   ],
   "source": [
    "from __future__ import division\n",
    "from __future__ import print_function\n",
    "from __future__ import unicode_literals\n",
    "import numpy as np\n",
    "import tensorflow as tf\n",
    "import deepchem as dc\n",
    "import pandas as pd\n",
    "from deepchem.models.tensorgraph.models.graph_models import GraphConvModel\n",
    "\n",
    "\n",
    "import warnings\n",
    "warnings.filterwarnings('ignore')"
   ]
  },
  {
   "cell_type": "code",
   "execution_count": 2,
   "metadata": {},
   "outputs": [],
   "source": [
    "\"\"\"\n",
    "OFFSIDES dataset loader.\n",
    "\"\"\"\n",
    "from __future__ import division\n",
    "from __future__ import unicode_literals\n",
    "\n",
    "import os\n",
    "import logging\n",
    "import deepchem\n",
    "\n",
    "logger = logging.getLogger(__name__)\n",
    "\n",
    "\n",
    "def load_offsides(featurizer='ECFP', split='index', reload=True, K=4):\n",
    "  logger.info(\"About to load ofssides dataset.\")\n",
    "  data_dir = deepchem.utils.get_data_dir()\n",
    "  if reload:\n",
    "    save_dir = os.path.join(data_dir, \"offsides/\" + featurizer + \"/\" + str(split))\n",
    "\n",
    "  dataset_file = os.path.join(\"/home/mamonteiro/source-code/Project-LEI/offsides/\", \"offsides.csv.gz\")\n",
    "\n",
    "\n",
    "  dataset = deepchem.utils.save.load_from_disk(dataset_file)\n",
    "  logger.info(\"Columns of dataset: %s\" % str(dataset.columns.values))\n",
    "  logger.info(\"Number of examples in dataset: %s\" % str(dataset.shape[0]))\n",
    "  OFFSIDES_tasks = dataset.columns.values[1:].tolist()\n",
    "\n",
    "  if reload:\n",
    "    loaded, all_dataset, transformers = deepchem.utils.save.load_dataset_from_disk(\n",
    "        save_dir)\n",
    "    if loaded:\n",
    "      return OFFSIDES_tasks, all_dataset, transformers\n",
    "\n",
    "  # Featurize OFFSIDES dataset\n",
    "  logger.info(\"About to featurize OFFSIDES dataset.\")\n",
    "  if featurizer == 'ECFP':\n",
    "    featurizer = deepchem.feat.CircularFingerprint(size=1024)\n",
    "  elif featurizer == 'GraphConv':\n",
    "    featurizer = deepchem.feat.ConvMolFeaturizer()\n",
    "  elif featurizer == 'Weave':\n",
    "    featurizer = deepchem.feat.WeaveFeaturizer()\n",
    "  elif featurizer == 'Raw':\n",
    "    featurizer = deepchem.feat.RawFeaturizer()\n",
    "\n",
    "  logger.info(\"OFFSIDES tasks: %s\" % str(OFFSIDES_tasks))\n",
    "  logger.info(\"%d tasks in total\" % len(OFFSIDES_tasks))\n",
    "\n",
    "  loader = deepchem.data.CSVLoader(\n",
    "      tasks=OFFSIDES_tasks, smiles_field=\"smiles\", featurizer=featurizer)\n",
    "  dataset = loader.featurize(dataset_file)\n",
    "  logger.info(\"%d datapoints in OFFSIDES dataset\" % len(dataset))\n",
    "\n",
    "  # Initialize transformers\n",
    "  transformers = [\n",
    "      deepchem.trans.BalancingTransformer(transform_w=True, dataset=dataset)\n",
    "  ]\n",
    "  logger.info(\"About to transform data\")\n",
    "  for transformer in transformers:\n",
    "    dataset = transformer.transform(dataset)\n",
    "\n",
    "  if split == None:\n",
    "    return OFFSIDES_tasks, (dataset, None, None), transformers\n",
    "\n",
    "  splitters = {\n",
    "      'index': deepchem.splits.IndexSplitter(),\n",
    "      'random': deepchem.splits.RandomSplitter(),\n",
    "      'scaffold': deepchem.splits.ScaffoldSplitter(),\n",
    "      'task': deepchem.splits.TaskSplitter()\n",
    "  }\n",
    "  splitter = splitters[split]\n",
    "  if split == 'task':\n",
    "    fold_datasets = splitter.k_fold_split(dataset, K)\n",
    "    all_dataset = fold_datasets\n",
    "  else:\n",
    "    train, valid, test = splitter.train_valid_test_split(dataset)\n",
    "    if reload:\n",
    "      deepchem.utils.save.save_dataset_to_disk(save_dir, train, valid, test,\n",
    "                                               transformers)\n",
    "    all_dataset = (train, valid, test)\n",
    "  return OFFSIDES_tasks, all_dataset, transformers\n"
   ]
  },
  {
   "cell_type": "markdown",
   "metadata": {},
   "source": [
    "# Load OFFSIDES Dataset"
   ]
  },
  {
   "cell_type": "markdown",
   "metadata": {},
   "source": [
    "All MoleculeNet datasets are split into training, validation and test subsets following a 80/10/10 ratio. \n",
    "\n",
    "Different  splittings are recommended depending on each dataset's contents."
   ]
  },
  {
   "cell_type": "code",
   "execution_count": 3,
   "metadata": {
    "scrolled": true
   },
   "outputs": [
    {
     "name": "stdout",
     "output_type": "stream",
     "text": [
      "Loading dataset from disk.\n",
      "Loading dataset from disk.\n",
      "Loading dataset from disk.\n"
     ]
    }
   ],
   "source": [
    "sider_tasks, sider_datasets, transformers = load_offsides(featurizer='GraphConv',reload=True)\n",
    "train_dataset, valid_dataset, test_dataset = sider_datasets"
   ]
  },
  {
   "cell_type": "code",
   "execution_count": 4,
   "metadata": {},
   "outputs": [
    {
     "data": {
      "text/plain": [
       "['Renal and urinary disorders',\n",
       " 'Respiratory, thoracic and mediastinal disorders',\n",
       " 'Skin and subcutaneous tissue disorders',\n",
       " 'Congenital, familial and genetic disorders',\n",
       " 'Hepatobiliary disorders',\n",
       " 'Infections and infestations',\n",
       " 'Cardiac disorders',\n",
       " 'Ear and labyrinth disorders',\n",
       " 'Investigations',\n",
       " 'Vascular disorders',\n",
       " 'Endocrine disorders',\n",
       " 'Immune system disorders',\n",
       " 'Product issues',\n",
       " 'Blood and lymphatic system disorders',\n",
       " 'Pregnancy, puerperium and perinatal conditions',\n",
       " 'Surgical and medical procedures',\n",
       " 'Psychiatric disorders',\n",
       " 'Reproductive system and breast disorders',\n",
       " 'Social circumstances',\n",
       " 'Eye disorders',\n",
       " 'Gastrointestinal disorders',\n",
       " 'General disorders and administration site conditions',\n",
       " 'Neoplasms benign, malignant and unspecified (incl cysts and polyps)',\n",
       " 'Injury, poisoning and procedural complications',\n",
       " 'Musculoskeletal and connective tissue disorders',\n",
       " 'Metabolism and nutrition disorders',\n",
       " 'Nervous system disorders']"
      ]
     },
     "execution_count": 4,
     "metadata": {},
     "output_type": "execute_result"
    }
   ],
   "source": [
    "sider_tasks"
   ]
  },
  {
   "cell_type": "markdown",
   "metadata": {},
   "source": [
    "Different classification and regress metrics are recommended based on previous works and dataset's contents:\n",
    "          ROC-AUC:  Area Under Curve of Receiver Operating Characteristics\n",
    "          PRC-AUC:  Area Under Curve of Precision Recall Curve\n",
    "          RMSE: Root-Mean-Square Error\n",
    "          MAE: Mean Absolute Error"
   ]
  },
  {
   "cell_type": "code",
   "execution_count": 5,
   "metadata": {},
   "outputs": [],
   "source": [
    "num_epochs = [10,20,30,40,50,60]\n",
    "losses = []\n",
    "loss =0\n",
    "\n",
    "model = GraphConvModel(\n",
    "    27, batch_size=50, mode='classification')"
   ]
  },
  {
   "cell_type": "code",
   "execution_count": 6,
   "metadata": {
    "scrolled": true
   },
   "outputs": [
    {
     "name": "stdout",
     "output_type": "stream",
     "text": [
      "WARNING:tensorflow:From /home/mamonteiro/anaconda3/envs/lei/lib/python3.6/site-packages/tensorflow/python/ops/resource_variable_ops.py:435: colocate_with (from tensorflow.python.framework.ops) is deprecated and will be removed in a future version.\n",
      "Instructions for updating:\n",
      "Colocations handled automatically by placer.\n"
     ]
    },
    {
     "name": "stderr",
     "output_type": "stream",
     "text": [
      "WARNING:tensorflow:From /home/mamonteiro/anaconda3/envs/lei/lib/python3.6/site-packages/tensorflow/python/ops/resource_variable_ops.py:435: colocate_with (from tensorflow.python.framework.ops) is deprecated and will be removed in a future version.\n",
      "Instructions for updating:\n",
      "Colocations handled automatically by placer.\n"
     ]
    },
    {
     "name": "stdout",
     "output_type": "stream",
     "text": [
      "WARNING:tensorflow:From /home/mamonteiro/anaconda3/envs/lei/lib/python3.6/site-packages/tensorflow/python/ops/math_grad.py:317: div (from tensorflow.python.ops.math_ops) is deprecated and will be removed in a future version.\n",
      "Instructions for updating:\n",
      "Deprecated in favor of operator or tf.math.divide.\n"
     ]
    },
    {
     "name": "stderr",
     "output_type": "stream",
     "text": [
      "WARNING:tensorflow:From /home/mamonteiro/anaconda3/envs/lei/lib/python3.6/site-packages/tensorflow/python/ops/math_grad.py:317: div (from tensorflow.python.ops.math_ops) is deprecated and will be removed in a future version.\n",
      "Instructions for updating:\n",
      "Deprecated in favor of operator or tf.math.divide.\n"
     ]
    },
    {
     "name": "stdout",
     "output_type": "stream",
     "text": [
      "WARNING:tensorflow:From /home/mamonteiro/anaconda3/envs/lei/lib/python3.6/site-packages/tensorflow/python/ops/math_ops.py:3066: to_int32 (from tensorflow.python.ops.math_ops) is deprecated and will be removed in a future version.\n",
      "Instructions for updating:\n",
      "Use tf.cast instead.\n"
     ]
    },
    {
     "name": "stderr",
     "output_type": "stream",
     "text": [
      "WARNING:tensorflow:From /home/mamonteiro/anaconda3/envs/lei/lib/python3.6/site-packages/tensorflow/python/ops/math_ops.py:3066: to_int32 (from tensorflow.python.ops.math_ops) is deprecated and will be removed in a future version.\n",
      "Instructions for updating:\n",
      "Use tf.cast instead.\n"
     ]
    },
    {
     "name": "stdout",
     "output_type": "stream",
     "text": [
      "Epoch 10 loss: 1487.585831\n",
      "Epoch 20 loss: 1166.392047\n",
      "Epoch 30 loss: 773.664945\n",
      "Epoch 40 loss: 435.569427\n",
      "WARNING:tensorflow:From /home/mamonteiro/anaconda3/envs/lei/lib/python3.6/site-packages/tensorflow/python/training/checkpoint_management.py:624: remove_checkpoint (from tensorflow.python.training.checkpoint_management) is deprecated and will be removed in a future version.\n",
      "Instructions for updating:\n",
      "Use standard file APIs to delete files with this prefix.\n"
     ]
    },
    {
     "name": "stderr",
     "output_type": "stream",
     "text": [
      "WARNING:tensorflow:From /home/mamonteiro/anaconda3/envs/lei/lib/python3.6/site-packages/tensorflow/python/training/checkpoint_management.py:624: remove_checkpoint (from tensorflow.python.training.checkpoint_management) is deprecated and will be removed in a future version.\n",
      "Instructions for updating:\n",
      "Use standard file APIs to delete files with this prefix.\n"
     ]
    },
    {
     "name": "stdout",
     "output_type": "stream",
     "text": [
      "Epoch 50 loss: 208.354140\n",
      "Epoch 60 loss: 100.565710\n"
     ]
    }
   ],
   "source": [
    "for i in num_epochs:\n",
    "    # Set nb_epoch=10 for better results.\n",
    "    loss = model.fit(train_dataset, nb_epoch=i)\n",
    "    print(\"Epoch %d loss: %f\" % (i, loss))\n",
    "    losses.append(loss)"
   ]
  },
  {
   "cell_type": "code",
   "execution_count": 7,
   "metadata": {},
   "outputs": [
    {
     "data": {
      "text/plain": [
       "<module 'matplotlib.pyplot' from '/home/mamonteiro/anaconda3/envs/lei/lib/python3.6/site-packages/matplotlib/pyplot.py'>"
      ]
     },
     "execution_count": 7,
     "metadata": {},
     "output_type": "execute_result"
    }
   ],
   "source": [
    "import matplotlib.pyplot as plot\n",
    "\n",
    "plot.figure(figsize=(10,7))\n",
    "plot.ylabel(\"Loss\")\n",
    "plot.xlabel(\"Epoch\")\n",
    "x = num_epochs\n",
    "y = losses\n",
    "plot.scatter(x, y)\n",
    "plot"
   ]
  },
  {
   "cell_type": "code",
   "execution_count": 8,
   "metadata": {},
   "outputs": [
    {
     "name": "stdout",
     "output_type": "stream",
     "text": [
      "Evaluating model\n",
      "computed_metrics: [1.0, 1.0, 0.9999454141022668, 0.9998258275910867, 0.9999036956783436, 0.9995036302297603, 1.0, 1.0, 0.9950696624803768, 1.0, 1.0, 1.0, 1.0, 0.9997880233174351, 1.0, 0.9983251420883557, 1.0, 0.9999843454030276, 0.9995590828924162, 0.9997573306370071, 0.9995181855573183, 0.9997281483015741, 0.9976286651999855, 0.9986063315430054, 0.999522010639118, 0.9999607873892244, 0.9999027815284904]\n",
      "Training ROC-AUC Score: 0.999501\n"
     ]
    }
   ],
   "source": [
    "metric = dc.metrics.Metric(\n",
    "    dc.metrics.roc_auc_score, np.mean, mode=\"classification\")\n",
    "\n",
    "print(\"Evaluating model\")\n",
    "train_scores_1 = model.evaluate(train_dataset, [metric], transformers)\n",
    "print(\"Training ROC-AUC Score: %f\" % train_scores_1[\"mean-roc_auc_score\"])\n"
   ]
  },
  {
   "cell_type": "code",
   "execution_count": 9,
   "metadata": {},
   "outputs": [
    {
     "name": "stdout",
     "output_type": "stream",
     "text": [
      "computed_metrics: [0.20784313725490194, 0.1411764705882353, 0.578125, 0.3980263157894737, 0.5447154471544715, 0.4684931506849315, 0.43023255813953487, 0.7931034482758621, 0.44818376068376065, 0.38953488372093026, 0.3284883720930233, 0.33139534883720934, 0.38372093023255816, 0.5783132530120483, 0.6569767441860466, 0.4757969303423849, 0.6470588235294117, 0.2784313725490196, 0.37650602409638556, 0.9360465116279071, 0.5114155251141552, 0.4457671957671958, 0.5782932891466446, 0.45285087719298245, 0.6196078431372549, 0.5372549019607843, 0.6321138211382114]\n",
      "Validation ROC-AUC Score: 0.487758\n"
     ]
    }
   ],
   "source": [
    "valid_scores_1 = model.evaluate(valid_dataset, [metric], transformers)\n",
    "print(\"Validation ROC-AUC Score: %f\" % valid_scores_1[\"mean-roc_auc_score\"])"
   ]
  },
  {
   "cell_type": "code",
   "execution_count": 10,
   "metadata": {},
   "outputs": [
    {
     "name": "stdout",
     "output_type": "stream",
     "text": [
      "computed_metrics: [0.9772727272727273, 0.8218390804597702, 0.6807228915662651, 0.557109557109557, nan, 0.3885281385281385, 0.6162790697674418, 0.48863636363636365, 0.5126096491228069, nan, 0.6875, 0.6976744186046513, nan, 0.7159090909090908, 0.875, 0.5702614379084967, 0.35542168674698793, 0.49074074074074076, 0.565891472868217, 0.5679442508710801, 0.8178294573643412, 0.6705882352941177, 0.561740890688259, 0.42074592074592077, 0.48275862068965514, nan, 0.33333333333333337]\n",
      "Validation ROC-AUC Score: 0.602449\n"
     ]
    }
   ],
   "source": [
    "test_scores_1 = model.evaluate(test_dataset, [metric], transformers)\n",
    "print(\"Validation ROC-AUC Score: %f\" % test_scores_1[\"mean-roc_auc_score\"])"
   ]
  },
  {
   "cell_type": "code",
   "execution_count": 11,
   "metadata": {},
   "outputs": [],
   "source": [
    "num_epochs = [60,70,80,90]\n",
    "losses = []\n",
    "\n",
    "model = GraphConvModel(\n",
    "    len(sider_tasks), batch_size=50, mode='classification')\n",
    "# Set nb_epoch=10 for better results.\n"
   ]
  },
  {
   "cell_type": "code",
   "execution_count": 12,
   "metadata": {
    "scrolled": true
   },
   "outputs": [
    {
     "name": "stdout",
     "output_type": "stream",
     "text": [
      "Epoch 60 loss: 1041.798323\n",
      "Epoch 70 loss: 411.305646\n",
      "Epoch 80 loss: 145.960664\n",
      "Epoch 90 loss: 254.251910\n"
     ]
    }
   ],
   "source": [
    "\n",
    "for i in num_epochs:\n",
    "    # Set nb_epoch=10 for better results.\n",
    "    loss = model.fit(train_dataset, nb_epoch=i)\n",
    "    print(\"Epoch %d loss: %f\" % (i, loss))\n",
    "    losses.append(loss)"
   ]
  },
  {
   "cell_type": "code",
   "execution_count": 13,
   "metadata": {
    "scrolled": true
   },
   "outputs": [
    {
     "data": {
      "text/plain": [
       "<module 'matplotlib.pyplot' from '/home/mamonteiro/anaconda3/envs/lei/lib/python3.6/site-packages/matplotlib/pyplot.py'>"
      ]
     },
     "execution_count": 13,
     "metadata": {},
     "output_type": "execute_result"
    },
    {
     "data": {
      "image/png": "[encoded data removed]",
      "text/plain": [
       "<Figure size 720x504 with 1 Axes>"
      ]
     },
     "metadata": {
      "needs_background": "light"
     },
     "output_type": "display_data"
    }
   ],
   "source": [
    "import matplotlib.pyplot as plot\n",
    "\n",
    "plot.figure(figsize=(10,7))\n",
    "plot.ylabel(\"Loss\")\n",
    "plot.xlabel(\"Epoch\")\n",
    "x = num_epochs\n",
    "y = losses\n",
    "plot.scatter(x, y)\n",
    "plot"
   ]
  },
  {
   "cell_type": "code",
   "execution_count": 14,
   "metadata": {
    "scrolled": true
   },
   "outputs": [
    {
     "name": "stdout",
     "output_type": "stream",
     "text": [
      "Evaluating model\n",
      "computed_metrics: [0.9948430646929824, 0.9855382657488285, 0.9802262585461046, 0.9634999945571122, 0.9945347297459974, 0.9408310407780385, 0.9881652212715597, 0.9994559841740851, 0.8874852825745683, 0.9953188757016509, 0.9965220415616033, 0.997312089122057, 0.9989272030651342, 0.9900370959194489, 0.9893405475397705, 0.9396959629517769, 0.9941198326413906, 0.9843297484306266, 0.9969135802469136, 0.9732254802831143, 0.9794112462541864, 0.9858248757249379, 0.9494445847008331, 0.9715155608443486, 0.9880502659779509, 0.9905693671084621, 0.9775965433432352]\n",
      "Training ROC-AUC Score: 0.978990\n"
     ]
    }
   ],
   "source": [
    "metric = dc.metrics.Metric(\n",
    "    dc.metrics.roc_auc_score, np.mean, mode=\"classification\")\n",
    "\n",
    "print(\"Evaluating model\")\n",
    "train_scores_2 = model.evaluate(train_dataset, [metric], transformers)\n",
    "print(\"Training ROC-AUC Score: %f\" % train_scores_2[\"mean-roc_auc_score\"])\n",
    "\n"
   ]
  },
  {
   "cell_type": "code",
   "execution_count": 15,
   "metadata": {},
   "outputs": [
    {
     "name": "stdout",
     "output_type": "stream",
     "text": [
      "computed_metrics: [0.34901960784313724, 0.2235294117647059, 0.5140625000000001, 0.4682017543859649, 0.556910569105691, 0.5981735159817352, 0.2906976744186046, 0.8160919540229885, 0.5705128205128205, 0.4898255813953489, 0.5058139534883721, 0.2718023255813954, 0.29941860465116277, 0.39759036144578314, 0.7848837209302326, 0.5808736717827627, 0.9019607843137254, 0.41960784313725497, 0.4433734939759036, 0.6453488372093024, 0.4712328767123287, 0.48677248677248675, 0.5675227837613919, 0.46271929824561403, 0.4823529411764706, 0.9490196078431372, 0.5528455284552846]\n",
      "Validation ROC-AUC Score: 0.522228\n"
     ]
    }
   ],
   "source": [
    "valid_scores_2 = model.evaluate(valid_dataset, [metric], transformers)\n",
    "print(\"Validation ROC-AUC Score: %f\" % valid_scores_2[\"mean-roc_auc_score\"])"
   ]
  },
  {
   "cell_type": "code",
   "execution_count": 16,
   "metadata": {},
   "outputs": [
    {
     "name": "stdout",
     "output_type": "stream",
     "text": [
      "computed_metrics: [0.9659090909090909, 0.7241379310344828, 0.5682730923694779, 0.458041958041958, nan, 0.6893939393939394, 0.6589147286821706, 0.8636363636363636, 0.44956140350877194, nan, 0.8205882352941176, 0.7945736434108528, nan, 0.6704545454545454, 0.9431818181818182, 0.636437908496732, 0.43373493975903615, 0.529320987654321, 0.7248062015503877, 0.26655052264808365, 0.6472868217054264, 0.6088235294117648, 0.6599190283400811, 0.4825174825174825, 0.12068965517241378, nan, 0.33333333333333337]\n",
      "Validation ROC-AUC Score: 0.610873\n"
     ]
    }
   ],
   "source": [
    "test_scores_2 = model.evaluate(test_dataset, [metric], transformers)\n",
    "print(\"Validation ROC-AUC Score: %f\" % test_scores_2[\"mean-roc_auc_score\"])"
   ]
  },
  {
   "cell_type": "code",
   "execution_count": 17,
   "metadata": {},
   "outputs": [
    {
     "data": {
      "text/plain": [
       "0.6108733548046371"
      ]
     },
     "execution_count": 17,
     "metadata": {},
     "output_type": "execute_result"
    }
   ],
   "source": [
    "type(test_scores_2)\n",
    "test_scores_2['mean-roc_auc_score']"
   ]
  },
  {
   "cell_type": "code",
   "execution_count": 18,
   "metadata": {},
   "outputs": [
    {
     "data": {
      "text/plain": [
       "[(0.0, 0.641417022544869)]"
      ]
     },
     "execution_count": 18,
     "metadata": {},
     "output_type": "execute_result"
    },
    {
     "data": {
      "image/png": "[encoded data removed]",
      "text/plain": [
       "<Figure size 720x288 with 1 Axes>"
      ]
     },
     "metadata": {},
     "output_type": "display_data"
    }
   ],
   "source": [
    "import seaborn as sns\n",
    "\n",
    "sns.set(style=\"whitegrid\")\n",
    "sns.set(rc={'figure.figsize':(10,4)})\n",
    "ax = sns.barplot(x=[test_scores_1['mean-roc_auc_score'],test_scores_2['mean-roc_auc_score']],\n",
    "                 y=['First Scenario','Scenario Scenario'])\n",
    "ax.set(xlim=(0.00, None))"
   ]
  },
  {
   "cell_type": "code",
   "execution_count": 19,
   "metadata": {},
   "outputs": [],
   "source": [
    "# Hiperparameters permitidos pelo deepchem e os valores que são utilizados por defeito\n",
    "#/home/mamonteiro/source-code/knowledge-base/deepchem/deepchem/molnet/preset_hyper_parameters.py"
   ]
  },
  {
   "cell_type": "raw",
   "metadata": {},
   "source": [
    "# hps['graphconv'] = {\n",
    "    'batch_size': 64,\n",
    "    'nb_epoch': 40,\n",
    "    'learning_rate': 0.0005,\n",
    "    'n_filters': 64,\n",
    "    'n_fully_connected_nodes': 128,\n",
    "    'seed': 123\n",
    "}"
   ]
  },
  {
   "cell_type": "raw",
   "metadata": {},
   "source": [
    "batch_size = hyper_parameters['batch_size']\n",
    "nb_epoch = hyper_parameters['nb_epoch']\n",
    "learning_rate = hyper_parameters['learning_rate']\n",
    "n_filters = hyper_parameters['n_filters']\n",
    "n_fully_connected_nodes = hyper_parameters['n_fully_connected_nodes']\n",
    "    "
   ]
  },
  {
   "cell_type": "code",
   "execution_count": 20,
   "metadata": {},
   "outputs": [],
   "source": [
    "params_dict = {'batch_size' : [32,64],\n",
    "               'nb_epoch': [40,100],\n",
    "               'learning_rate': [0.0005,0.5],\n",
    "               'n_filters': [32,64],\n",
    "               'n_fully_connected_nodes' : [32,64]\n",
    "              }"
   ]
  },
  {
   "cell_type": "code",
   "execution_count": 21,
   "metadata": {},
   "outputs": [],
   "source": [
    "#params_dict = {'batch_size' : [32],\n",
    "#               'nb_epoch': [10,20],\n",
    "#               'learning_rate': [0.0005],\n",
    "#               'n_filters': [32],\n",
    "#               'n_fully_connected_nodes' : [32]\n",
    "#              }"
   ]
  },
  {
   "cell_type": "code",
   "execution_count": 22,
   "metadata": {},
   "outputs": [
    {
     "data": {
      "text/plain": [
       "704"
      ]
     },
     "execution_count": 22,
     "metadata": {},
     "output_type": "execute_result"
    }
   ],
   "source": [
    "len(train_dataset)"
   ]
  },
  {
   "cell_type": "code",
   "execution_count": 23,
   "metadata": {},
   "outputs": [],
   "source": [
    "n_features = len(train_dataset)\n",
    "\n",
    "def model_builder(model_params, model_dir):\n",
    "    model = GraphConvModel(\n",
    "            len(sider_tasks), mode='classification',**model_params)\n",
    "    \n",
    "    return model\n",
    "\n"
   ]
  },
  {
   "cell_type": "code",
   "execution_count": 60,
   "metadata": {},
   "outputs": [
    {
     "name": "stdout",
     "output_type": "stream",
     "text": [
      "Fitting model 1/32\n",
      "hyperparameters: {'batch_size': 32, 'nb_epoch': 40, 'learning_rate': 0.0005, 'n_filters': 32, 'n_fully_connected_nodes': 32}\n",
      "computed_metrics: [0.4156862745098039, 0.5686274509803921, 0.440625, 0.29934210526315785, 0.7886178861788617, 0.3908675799086758, 0.37790697674418605, 0.7931034482758621, 0.4519230769230769, 0.4534883720930233, 0.25, 0.4941860465116279, 0.5348837209302326, 0.43855421686746987, 0.8953488372093024, 0.42266824085005905, 0.6549019607843137, 0.2901960784313725, 0.3542168674698795, 0.7034883720930232, 0.5141552511415526, 0.40740740740740744, 0.5376967688483845, 0.45833333333333337, 0.6941176470588235, 0.6745098039215687, 0.5304878048780488]\n",
      "Model 1/32, Metric mean-roc_auc_score, Validation set 0: 0.512420\n",
      "\tbest_validation_score so far: 0.512420\n",
      "Fitting model 2/32\n",
      "hyperparameters: {'batch_size': 32, 'nb_epoch': 40, 'learning_rate': 0.0005, 'n_filters': 32, 'n_fully_connected_nodes': 64}\n",
      "computed_metrics: [0.3058823529411765, 0.5333333333333333, 0.559375, 0.5679824561403509, 0.5995934959349594, 0.5643835616438357, 0.6162790697674418, 0.48275862068965514, 0.4962606837606838, 0.3488372093023256, 0.5406976744186047, 0.34302325581395354, 0.2965116279069767, 0.3156626506024096, 0.6860465116279071, 0.3671782762691853, 0.6980392156862745, 0.34901960784313724, 0.36144578313253006, 0.8139534883720931, 0.54337899543379, 0.3562610229276896, 0.5327257663628832, 0.41557017543859653, 0.9333333333333333, 0.9019607843137255, 0.5995934959349594]\n",
      "Model 2/32, Metric mean-roc_auc_score, Validation set 1: 0.523300\n",
      "\tbest_validation_score so far: 0.523300\n",
      "Fitting model 3/32\n",
      "hyperparameters: {'batch_size': 32, 'nb_epoch': 40, 'learning_rate': 0.0005, 'n_filters': 64, 'n_fully_connected_nodes': 32}\n",
      "computed_metrics: [0.43137254901960786, 0.47058823529411764, 0.503125, 0.45723684210526316, 0.6422764227642277, 0.4246575342465754, 0.11627906976744184, 0.735632183908046, 0.4967948717948718, 0.38953488372093026, 0.22674418604651164, 0.4011627906976744, 0.3488372093023256, 0.5518072289156626, 0.37209302325581395, 0.461629279811098, 0.403921568627451, 0.5490196078431373, 0.2024096385542169, 0.5465116279069767, 0.47762557077625567, 0.2892416225749559, 0.5277547638773818, 0.4649122807017544, 0.6392156862745098, 0.7254901960784315, 0.5955284552845528]\n",
      "Model 3/32, Metric mean-roc_auc_score, Validation set 2: 0.461163\n",
      "\tbest_validation_score so far: 0.523300\n",
      "Fitting model 4/32\n",
      "hyperparameters: {'batch_size': 32, 'nb_epoch': 40, 'learning_rate': 0.0005, 'n_filters': 64, 'n_fully_connected_nodes': 64}\n",
      "computed_metrics: [0.3803921568627451, 0.41960784313725485, 0.5406249999999999, 0.45394736842105254, 0.6422764227642277, 0.5424657534246575, 0.2674418604651163, 0.0, 0.4775641025641026, 0.4476744186046512, 0.4011627906976744, 0.5, 0.34883720930232553, 0.47951807228915666, 0.5813953488372093, 0.5017709563164109, 0.4823529411764706, 0.5294117647058822, 0.2578313253012048, 0.8372093023255813, 0.4219178082191781, 0.4991181657848325, 0.6346313173156586, 0.48574561403508776, 0.5254901960784314, 0.5058823529411764, 0.47764227642276424]\n",
      "Model 4/32, Metric mean-roc_auc_score, Validation set 3: 0.468219\n",
      "\tbest_validation_score so far: 0.523300\n",
      "Fitting model 5/32\n",
      "hyperparameters: {'batch_size': 32, 'nb_epoch': 40, 'learning_rate': 0.5, 'n_filters': 32, 'n_fully_connected_nodes': 32}\n",
      "computed_metrics: [0.6607843137254903, 0.55, 0.450390625, 0.5446820175438596, 0.5335365853658536, 0.5127853881278539, 0.41279069767441856, 0.7614942528735632, 0.5399305555555556, 0.2718023255813954, 0.13953488372093023, 0.3531976744186046, 0.5857558139534884, 0.5644578313253013, 0.7441860465116279, 0.4734356552538371, 0.6058823529411764, 0.807843137254902, 0.5753012048192772, 0.5915697674418605, 0.5662100456621004, 0.6305114638447972, 0.5437033968516984, 0.41721491228070173, 0.4362745098039216, 0.6127450980392157, 0.48221544715447157]\n",
      "Model 5/32, Metric mean-roc_auc_score, Validation set 4: 0.532157\n",
      "\tbest_validation_score so far: 0.532157\n",
      "Fitting model 6/32\n",
      "hyperparameters: {'batch_size': 32, 'nb_epoch': 40, 'learning_rate': 0.5, 'n_filters': 32, 'n_fully_connected_nodes': 64}\n",
      "computed_metrics: [0.4794117647058823, 0.6843137254901961, 0.47265625, 0.4605263157894737, 0.6183943089430894, 0.46986301369863015, 0.17151162790697677, 0.9798850574712644, 0.4903846153846154, 0.40116279069767447, 0.8037790697674418, 0.6191860465116279, 0.1438953488372093, 0.5210843373493976, 0.5101744186046512, 0.46841794569067297, 0.5343137254901961, 0.6549019607843137, 0.31024096385542166, 0.872093023255814, 0.47009132420091326, 0.5846560846560847, 0.5809859154929577, 0.4136513157894737, 0.103921568627451, 0.20294117647058826, 0.7545731707317074]\n",
      "Model 6/32, Metric mean-roc_auc_score, Validation set 5: 0.510260\n",
      "\tbest_validation_score so far: 0.532157\n",
      "Fitting model 7/32\n",
      "hyperparameters: {'batch_size': 32, 'nb_epoch': 40, 'learning_rate': 0.5, 'n_filters': 64, 'n_fully_connected_nodes': 32}\n",
      "computed_metrics: [0.5294117647058824, 0.40784313725490196, 0.46328125, 0.4602521929824561, 0.3729674796747967, 0.43789954337899545, 0.2180232558139535, 0.9798850574712643, 0.46808226495726496, 0.5813953488372092, 0.4593023255813954, 0.6468023255813954, 0.41860465116279066, 0.5150602409638554, 0.5101744186046512, 0.5578512396694215, 0.5058823529411764, 0.5431372549019609, 0.3, 0.48401162790697677, 0.42420091324200915, 0.49691358024691357, 0.5894780447390224, 0.4698464912280702, 0.3970588235294118, 0.5, 0.7103658536585367]\n",
      "Model 7/32, Metric mean-roc_auc_score, Validation set 6: 0.498064\n",
      "\tbest_validation_score so far: 0.532157\n",
      "Fitting model 8/32\n",
      "hyperparameters: {'batch_size': 32, 'nb_epoch': 40, 'learning_rate': 0.5, 'n_filters': 64, 'n_fully_connected_nodes': 64}\n",
      "computed_metrics: [0.6098039215686275, 0.5705882352941176, 0.51484375, 0.5512609649122807, 0.43140243902439024, 0.4803652968036529, 0.36046511627906974, 0.5689655172413793, 0.5054754273504274, 0.28779069767441856, 0.2761627906976744, 0.5450581395348837, 0.41860465116279066, 0.5602409638554218, 0.6438953488372093, 0.47786304604486424, 0.3686274509803922, 0.5784313725490196, 0.2987951807228916, 0.47965116279069764, 0.49497716894977173, 0.6472663139329806, 0.5134631317315659, 0.4849232456140351, 0.3921568627450981, 0.5, 0.583841463414634]\n",
      "Model 8/32, Metric mean-roc_auc_score, Validation set 7: 0.486849\n",
      "\tbest_validation_score so far: 0.532157\n",
      "Fitting model 9/32\n",
      "hyperparameters: {'batch_size': 32, 'nb_epoch': 100, 'learning_rate': 0.0005, 'n_filters': 32, 'n_fully_connected_nodes': 32}\n",
      "computed_metrics: [0.5176470588235293, 0.4784313725490196, 0.6375, 0.4682017543859649, 0.6991869918699187, 0.6401826484018265, 0.19767441860465118, 0.4252873563218391, 0.452457264957265, 0.4244186046511628, 0.3081395348837209, 0.18023255813953487, 0.41860465116279066, 0.6650602409638554, 0.47093023255813954, 0.48878394332939784, 0.49411764705882355, 0.6509803921568627, 0.3397590361445783, 0.6569767441860466, 0.47945205479452047, 0.3015873015873016, 0.5981772990886496, 0.32236842105263164, 0.40784313725490196, 0.776470588235294, 0.3516260162601626]\n",
      "Model 9/32, Metric mean-roc_auc_score, Validation set 8: 0.476004\n",
      "\tbest_validation_score so far: 0.532157\n",
      "Fitting model 10/32\n",
      "hyperparameters: {'batch_size': 32, 'nb_epoch': 100, 'learning_rate': 0.0005, 'n_filters': 32, 'n_fully_connected_nodes': 64}\n",
      "computed_metrics: [0.29803921568627456, 0.396078431372549, 0.5765625000000001, 0.5515350877192982, 0.524390243902439, 0.47671232876712333, 0.2965116279069767, 0.8505747126436781, 0.5368589743589743, 0.37790697674418605, 0.436046511627907, 0.26744186046511625, 0.08139534883720932, 0.5855421686746989, 0.7325581395348837, 0.5088547815820543, 0.5058823529411764, 0.49411764705882355, 0.3060240963855422, 0.8662790697674418, 0.4648401826484019, 0.544973544973545, 0.5890637945318973, 0.5120614035087719, 0.5098039215686274, 0.6588235294117647, 0.6117886178861789]\n",
      "Model 10/32, Metric mean-roc_auc_score, Validation set 9: 0.502247\n",
      "\tbest_validation_score so far: 0.532157\n",
      "Fitting model 11/32\n",
      "hyperparameters: {'batch_size': 32, 'nb_epoch': 100, 'learning_rate': 0.0005, 'n_filters': 64, 'n_fully_connected_nodes': 32}\n",
      "computed_metrics: [0.4392156862745098, 0.47843137254901963, 0.6375, 0.5723684210526316, 0.5426829268292683, 0.5863013698630137, 0.22674418604651164, 0.8045977011494253, 0.5384615384615384, 0.43023255813953487, 0.25, 0.4593023255813954, 0.47093023255813954, 0.49879518072289164, 0.35465116279069764, 0.4427390791027155, 0.596078431372549, 0.34509803921568627, 0.29156626506024097, 0.7965116279069768, 0.5242009132420091, 0.3368606701940035, 0.5459817729908865, 0.575657894736842, 0.7686274509803921, 0.6823529411764706, 0.48983739837398377]\n",
      "Model 11/32, Metric mean-roc_auc_score, Validation set 10: 0.506879\n",
      "\tbest_validation_score so far: 0.532157\n",
      "Fitting model 12/32\n",
      "hyperparameters: {'batch_size': 32, 'nb_epoch': 100, 'learning_rate': 0.0005, 'n_filters': 64, 'n_fully_connected_nodes': 64}\n"
     ]
    },
    {
     "name": "stdout",
     "output_type": "stream",
     "text": [
      "computed_metrics: [0.26274509803921564, 0.5411764705882354, 0.49375, 0.5548245614035088, 0.5182926829268293, 0.4155251141552512, 0.07558139534883722, 0.8620689655172413, 0.5389957264957266, 0.5, 0.5058139534883721, 0.38372093023255816, 0.13953488372093026, 0.5469879518072289, 0.6744186046511629, 0.38134592680047225, 0.5725490196078431, 0.5098039215686274, 0.3927710843373494, 0.8662790697674418, 0.6255707762557078, 0.40388007054673725, 0.5169842584921291, 0.5197368421052632, 0.39607843137254906, 0.7960784313725491, 0.36788617886178865]\n",
      "Model 12/32, Metric mean-roc_auc_score, Validation set 11: 0.494904\n",
      "\tbest_validation_score so far: 0.532157\n",
      "Fitting model 13/32\n",
      "hyperparameters: {'batch_size': 32, 'nb_epoch': 100, 'learning_rate': 0.5, 'n_filters': 32, 'n_fully_connected_nodes': 32}\n",
      "computed_metrics: [0.45294117647058824, 0.7823529411764706, 0.495703125, 0.474780701754386, 0.5152439024390244, 0.43858447488584484, 0.3590116279069767, 0.6264367816091954, 0.5575587606837606, 0.4433139534883721, 0.25, 0.6497093023255814, 0.502906976744186, 0.480722891566265, 0.5072674418604651, 0.5850059031877213, 0.4323529411764706, 0.603921568627451, 0.35843373493975905, 0.438953488372093, 0.4929223744292238, 0.5264550264550265, 0.5886495443247721, 0.4692982456140351, 0.33137254901960783, 0.6784313725490196, 0.5335365853658537]\n",
      "Model 13/32, Metric mean-roc_auc_score, Validation set 12: 0.502810\n",
      "\tbest_validation_score so far: 0.532157\n",
      "Fitting model 14/32\n",
      "hyperparameters: {'batch_size': 32, 'nb_epoch': 100, 'learning_rate': 0.5, 'n_filters': 32, 'n_fully_connected_nodes': 64}\n",
      "computed_metrics: [0.5558823529411765, 0.5431372549019609, 0.349609375, 0.39309210526315785, 0.48882113821138207, 0.43059360730593604, 0.563953488372093, 0.7298850574712643, 0.4388354700854701, 0.5145348837209303, 0.5261627906976744, 0.34883720930232553, 0.37790697674418605, 0.5740963855421687, 0.5668604651162791, 0.5097402597402598, 0.38235294117647056, 0.6294117647058823, 0.38433734939759034, 0.5377906976744186, 0.5203196347031963, 0.3818342151675485, 0.48301574150787074, 0.34950657894736836, 0.41666666666666663, 0.5068627450980392, 0.5757113821138211]\n",
      "Model 14/32, Metric mean-roc_auc_score, Validation set 13: 0.484436\n",
      "\tbest_validation_score so far: 0.532157\n",
      "Fitting model 15/32\n",
      "hyperparameters: {'batch_size': 32, 'nb_epoch': 100, 'learning_rate': 0.5, 'n_filters': 64, 'n_fully_connected_nodes': 32}\n",
      "computed_metrics: [0.7245098039215686, 0.5568627450980392, 0.5519531249999999, 0.5109649122807017, 0.5101626016260163, 0.47305936073059357, 0.32558139534883723, 0.9597701149425287, 0.5176282051282052, 0.5813953488372093, 0.3168604651162791, 0.6613372093023255, 0.4433139534883721, 0.5210843373493975, 0.4578488372093023, 0.6319362455726092, 0.30980392156862746, 0.5990196078431372, 0.3427710843373494, 0.7136627906976745, 0.5321917808219178, 0.4435626102292769, 0.6097763048881524, 0.4320175438596491, 0.446078431372549, 0.6313725490196078, 0.4801829268292683]\n",
      "Model 15/32, Metric mean-roc_auc_score, Validation set 14: 0.529063\n",
      "\tbest_validation_score so far: 0.532157\n",
      "Fitting model 16/32\n",
      "hyperparameters: {'batch_size': 32, 'nb_epoch': 100, 'learning_rate': 0.5, 'n_filters': 64, 'n_fully_connected_nodes': 64}\n",
      "computed_metrics: [0.5147058823529411, 0.34019607843137256, 0.496484375, 0.4725877192982456, 0.40040650406504064, 0.5084474885844749, 0.3866279069767442, 0.9195402298850575, 0.4811698717948718, 0.37209302325581395, 0.5697674418604651, 0.4738372093023256, 0.46802325581395354, 0.4987951807228916, 0.48691860465116277, 0.5020661157024794, 0.6735294117647059, 0.6245098039215686, 0.5457831325301205, 0.6729651162790697, 0.46598173515981745, 0.5352733686067019, 0.648301574150787, 0.3242872807017544, 0.42549019607843136, 0.5127450980392156, 0.7886178861788617]\n",
      "Model 16/32, Metric mean-roc_auc_score, Validation set 15: 0.522561\n",
      "\tbest_validation_score so far: 0.532157\n",
      "Fitting model 17/32\n",
      "hyperparameters: {'batch_size': 64, 'nb_epoch': 40, 'learning_rate': 0.0005, 'n_filters': 32, 'n_fully_connected_nodes': 32}\n",
      "computed_metrics: [0.4156862745098039, 0.6392156862745098, 0.5234375, 0.4199561403508772, 0.7804878048780488, 0.5214611872146119, 0.34302325581395343, 0.735632183908046, 0.4898504273504274, 0.3488372093023256, 0.38953488372093026, 0.21511627906976744, 0.5058139534883721, 0.636144578313253, 0.6569767441860466, 0.3317591499409681, 0.607843137254902, 0.6392156862745098, 0.19759036144578312, 0.8313953488372092, 0.4940639269406393, 0.41446208112874783, 0.6130903065451533, 0.46710526315789475, 0.5215686274509803, 0.7019607843137254, 0.6747967479674797]\n",
      "Model 17/32, Metric mean-roc_auc_score, Validation set 16: 0.522816\n",
      "\tbest_validation_score so far: 0.532157\n",
      "Fitting model 18/32\n",
      "hyperparameters: {'batch_size': 64, 'nb_epoch': 40, 'learning_rate': 0.0005, 'n_filters': 32, 'n_fully_connected_nodes': 64}\n",
      "computed_metrics: [0.5411764705882353, 0.5215686274509804, 0.5328125, 0.3826754385964912, 0.7479674796747968, 0.5662100456621004, 0.16860465116279072, 0.5402298850574713, 0.5876068376068376, 0.36627906976744184, 0.16860465116279066, 0.2441860465116279, 0.313953488372093, 0.5518072289156627, 0.563953488372093, 0.3093270365997639, 0.5333333333333333, 0.5254901960784313, 0.41686746987951806, 0.7732558139534884, 0.4575342465753425, 0.39682539682539686, 0.5882352941176471, 0.5142543859649122, 0.4745098039215686, 0.780392156862745, 0.5284552845528455]\n",
      "Model 18/32, Metric mean-roc_auc_score, Validation set 17: 0.485041\n",
      "\tbest_validation_score so far: 0.532157\n",
      "Fitting model 19/32\n",
      "hyperparameters: {'batch_size': 64, 'nb_epoch': 40, 'learning_rate': 0.0005, 'n_filters': 64, 'n_fully_connected_nodes': 32}\n",
      "computed_metrics: [0.6941176470588235, 0.2980392156862745, 0.3625, 0.4364035087719298, 0.7215447154471545, 0.5963470319634703, 0.4476744186046512, 0.9195402298850575, 0.5325854700854701, 0.14534883720930236, 0.2383720930232558, 0.32558139534883723, 0.38953488372093026, 0.6096385542168674, 0.6162790697674418, 0.3093270365997639, 0.588235294117647, 0.3764705882352941, 0.363855421686747, 0.7441860465116279, 0.48310502283105017, 0.3686067019400353, 0.5144987572493787, 0.493421052631579, 0.4509803921568628, 0.4196078431372549, 0.5101626016260163]\n",
      "Model 19/32, Metric mean-roc_auc_score, Validation set 18: 0.479851\n",
      "\tbest_validation_score so far: 0.532157\n",
      "Fitting model 20/32\n",
      "hyperparameters: {'batch_size': 64, 'nb_epoch': 40, 'learning_rate': 0.0005, 'n_filters': 64, 'n_fully_connected_nodes': 64}\n",
      "computed_metrics: [0.2235294117647059, 0.5529411764705883, 0.5046875, 0.3026315789473684, 0.6504065040650406, 0.6027397260273972, 0.19186046511627908, 0.8390804597701149, 0.6351495726495726, 0.2325581395348837, 0.6802325581395349, 0.2441860465116279, 0.4476744186046512, 0.6072289156626506, 0.5290697674418605, 0.45218417945690675, 0.6196078431372549, 0.607843137254902, 0.43373493975903615, 0.936046511627907, 0.46849315068493147, 0.36684303350970016, 0.6578293289146645, 0.4649122807017544, 0.5098039215686274, 0.8235294117647058, 0.6260162601626016]\n",
      "Model 20/32, Metric mean-roc_auc_score, Validation set 19: 0.526327\n",
      "\tbest_validation_score so far: 0.532157\n",
      "Fitting model 21/32\n",
      "hyperparameters: {'batch_size': 64, 'nb_epoch': 40, 'learning_rate': 0.5, 'n_filters': 32, 'n_fully_connected_nodes': 32}\n",
      "computed_metrics: [0.5980392156862746, 0.5029411764705882, 0.465234375, 0.4747807017543859, 0.35772357723577236, 0.4853881278538813, 0.3081395348837209, 0.9137931034482758, 0.4586004273504274, 0.32122093023255816, 0.4127906976744186, 0.6206395348837209, 0.4229651162790698, 0.5042168674698795, 0.6206395348837209, 0.49350649350649345, 0.5088235294117647, 0.5176470588235293, 0.3849397590361445, 0.36773255813953487, 0.41712328767123286, 0.5912698412698413, 0.4643744821872411, 0.5589364035087718, 0.15784313725490196, 0.45784313725490194, 0.5558943089430894]\n",
      "Model 21/32, Metric mean-roc_auc_score, Validation set 20: 0.479372\n",
      "\tbest_validation_score so far: 0.532157\n",
      "Fitting model 22/32\n",
      "hyperparameters: {'batch_size': 64, 'nb_epoch': 40, 'learning_rate': 0.5, 'n_filters': 32, 'n_fully_connected_nodes': 64}\n",
      "computed_metrics: [0.4509803921568627, 0.5352941176470588, 0.5, 0.5476973684210527, 0.502540650406504, 0.42922374429223753, 0.08430232558139536, 0.9195402298850575, 0.5129540598290598, 0.7063953488372092, 0.6075581395348837, 0.7034883720930233, 0.5072674418604651, 0.3331325301204819, 0.47965116279069764, 0.5602125147579693, 0.6147058823529412, 0.7009803921568627, 0.3397590361445783, 0.8444767441860465, 0.4981735159817351, 0.5467372134038802, 0.4685169842584921, 0.38596491228070173, 0.442156862745098, 0.6990196078431372, 0.8201219512195121]\n"
     ]
    },
    {
     "name": "stdout",
     "output_type": "stream",
     "text": [
      "Model 22/32, Metric mean-roc_auc_score, Validation set 21: 0.545957\n",
      "\tbest_validation_score so far: 0.545957\n",
      "Fitting model 23/32\n",
      "hyperparameters: {'batch_size': 64, 'nb_epoch': 40, 'learning_rate': 0.5, 'n_filters': 64, 'n_fully_connected_nodes': 32}\n",
      "computed_metrics: [0.35686274509803917, 0.4558823529411764, 0.43085937500000004, 0.5424890350877192, 0.36890243902439024, 0.49611872146118724, 0.5072674418604651, 0.9425287356321839, 0.5088141025641026, 0.5581395348837209, 0.5305232558139534, 0.5843023255813953, 0.6104651162790697, 0.4746987951807229, 0.6802325581395349, 0.5250885478158205, 0.5235294117647058, 0.6127450980392157, 0.5030120481927711, 0.5581395348837209, 0.4146118721461187, 0.521604938271605, 0.471830985915493, 0.33031798245614036, 0.403921568627451, 0.5529411764705883, 0.49390243902439024]\n",
      "Model 23/32, Metric mean-roc_auc_score, Validation set 22: 0.517027\n",
      "\tbest_validation_score so far: 0.545957\n",
      "Fitting model 24/32\n",
      "hyperparameters: {'batch_size': 64, 'nb_epoch': 40, 'learning_rate': 0.5, 'n_filters': 64, 'n_fully_connected_nodes': 64}\n",
      "computed_metrics: [0.4696078431372549, 0.30000000000000004, 0.42109375, 0.6126644736842105, 0.38871951219512196, 0.5315068493150685, 0.1875, 0.8936781609195401, 0.546073717948718, 0.3517441860465116, 0.6337209302325582, 0.41860465116279066, 0.4273255813953488, 0.5204819277108433, 0.625, 0.4256198347107438, 0.6411764705882352, 0.6558823529411765, 0.4951807228915662, 0.6206395348837209, 0.5, 0.5683421516754851, 0.4850869925434963, 0.3917214912280702, 0.23039215686274508, 0.503921568627451, 0.5914634146341464]\n",
      "Model 24/32, Metric mean-roc_auc_score, Validation set 23: 0.497672\n",
      "\tbest_validation_score so far: 0.545957\n",
      "Fitting model 25/32\n",
      "hyperparameters: {'batch_size': 64, 'nb_epoch': 100, 'learning_rate': 0.0005, 'n_filters': 32, 'n_fully_connected_nodes': 32}\n",
      "computed_metrics: [0.3254901960784314, 0.7450980392156863, 0.521875, 0.418859649122807, 0.6666666666666667, 0.5771689497716894, 0.33720930232558144, 0.7931034482758621, 0.5715811965811965, 0.34302325581395354, 0.5930232558139534, 0.436046511627907, 0.36627906976744184, 0.5228915662650602, 0.6453488372093024, 0.4403778040141677, 0.6352941176470588, 0.6352941176470588, 0.4554216867469879, 0.7965116279069767, 0.5059360730593607, 0.345679012345679, 0.5608947804473903, 0.4396929824561404, 0.5843137254901961, 0.7058823529411765, 0.6300813008130082]\n",
      "Model 25/32, Metric mean-roc_auc_score, Validation set 24: 0.540705\n",
      "\tbest_validation_score so far: 0.545957\n",
      "Fitting model 26/32\n",
      "hyperparameters: {'batch_size': 64, 'nb_epoch': 100, 'learning_rate': 0.0005, 'n_filters': 32, 'n_fully_connected_nodes': 64}\n",
      "computed_metrics: [0.45098039215686275, 0.43529411764705883, 0.5765625000000001, 0.3497807017543859, 0.43089430894308944, 0.5452054794520549, 0.5406976744186046, 0.3448275862068966, 0.5806623931623932, 0.43023255813953487, 0.3372093023255814, 0.313953488372093, 0.5058139534883721, 0.42168674698795183, 0.4476744186046512, 0.4167650531286895, 0.611764705882353, 0.596078431372549, 0.49879518072289153, 0.5348837209302326, 0.6000000000000001, 0.44620811287477957, 0.6503728251864126, 0.4835526315789474, 0.6784313725490196, 0.49019607843137253, 0.774390243902439]\n",
      "Model 26/32, Metric mean-roc_auc_score, Validation set 25: 0.499738\n",
      "\tbest_validation_score so far: 0.545957\n",
      "Fitting model 27/32\n",
      "hyperparameters: {'batch_size': 64, 'nb_epoch': 100, 'learning_rate': 0.0005, 'n_filters': 64, 'n_fully_connected_nodes': 32}\n",
      "computed_metrics: [0.21960784313725487, 0.30196078431372547, 0.45781249999999996, 0.3486842105263158, 0.5975609756097561, 0.4493150684931507, 0.11627906976744184, 0.9080459770114943, 0.4866452991452992, 0.37209302325581395, 0.15116279069767444, 0.1453488372093023, 0.563953488372093, 0.5253012048192771, 0.5988372093023255, 0.6540731995277449, 0.7215686274509805, 0.48235294117647054, 0.44819277108433736, 0.9011627906976745, 0.5041095890410958, 0.41622574955908287, 0.5774647887323944, 0.5460526315789473, 0.4666666666666667, 0.7882352941176471, 0.5752032520325203]\n",
      "Model 27/32, Metric mean-roc_auc_score, Validation set 26: 0.493478\n",
      "\tbest_validation_score so far: 0.545957\n",
      "Fitting model 28/32\n",
      "hyperparameters: {'batch_size': 64, 'nb_epoch': 100, 'learning_rate': 0.0005, 'n_filters': 64, 'n_fully_connected_nodes': 64}\n",
      "computed_metrics: [0.35686274509803917, 0.6313725490196078, 0.590625, 0.49780701754385964, 0.7215447154471545, 0.5625570776255708, 0.28488372093023256, 0.7586206896551724, 0.548076923076923, 0.39534883720930236, 0.313953488372093, 0.436046511627907, 0.08720930232558141, 0.48674698795180726, 0.4069767441860465, 0.41086186540731995, 0.8196078431372549, 0.4156862745098039, 0.27469879518072293, 0.8953488372093024, 0.5150684931506849, 0.2663139329805997, 0.48798674399337205, 0.3508771929824561, 0.5725490196078431, 0.6431372549019609, 0.6219512195121951]\n",
      "Model 28/32, Metric mean-roc_auc_score, Validation set 27: 0.494545\n",
      "\tbest_validation_score so far: 0.545957\n",
      "Fitting model 29/32\n",
      "hyperparameters: {'batch_size': 64, 'nb_epoch': 100, 'learning_rate': 0.5, 'n_filters': 32, 'n_fully_connected_nodes': 32}\n",
      "computed_metrics: [0.5264705882352941, 0.47941176470588237, 0.537109375, 0.5578399122807017, 0.45884146341463417, 0.47146118721461183, 0.251453488372093, 0.48563218390804597, 0.452991452991453, 0.49127906976744184, 0.5, 0.5, 0.5, 0.5572289156626506, 0.5348837209302326, 0.5726092089728454, 0.5117647058823529, 0.5980392156862745, 0.39759036144578314, 0.7645348837209303, 0.44771689497716893, 0.5357142857142857, 0.65016570008285, 0.40844298245614036, 0.4392156862745098, 0.5774509803921568, 0.5365853658536586]\n",
      "Model 29/32, Metric mean-roc_auc_score, Validation set 28: 0.509053\n",
      "\tbest_validation_score so far: 0.545957\n",
      "Fitting model 30/32\n",
      "hyperparameters: {'batch_size': 64, 'nb_epoch': 100, 'learning_rate': 0.5, 'n_filters': 32, 'n_fully_connected_nodes': 64}\n",
      "computed_metrics: [0.5372549019607843, 0.5480392156862746, 0.4859375, 0.6477521929824561, 0.4563008130081301, 0.46232876712328763, 0.23982558139534882, 0.9425287356321839, 0.5814636752136753, 0.561046511627907, 0.32122093023255816, 0.27906976744186046, 0.5363372093023255, 0.5084337349397591, 0.6366279069767442, 0.4306375442739079, 0.6490196078431372, 0.48529411764705876, 0.5524096385542169, 0.5203488372093024, 0.38515981735159815, 0.47266313932980597, 0.5849212924606462, 0.3684210526315789, 0.19411764705882353, 0.5931372549019608, 0.7240853658536586]\n",
      "Model 30/32, Metric mean-roc_auc_score, Validation set 29: 0.507570\n",
      "\tbest_validation_score so far: 0.545957\n",
      "Fitting model 31/32\n",
      "hyperparameters: {'batch_size': 64, 'nb_epoch': 100, 'learning_rate': 0.5, 'n_filters': 64, 'n_fully_connected_nodes': 32}\n",
      "computed_metrics: [0.41666666666666663, 0.5137254901960784, 0.585546875, 0.47066885964912286, 0.39430894308943093, 0.4785388127853882, 0.3125, 0.9971264367816092, 0.49933226495726496, 0.7311046511627907, 0.6162790697674418, 0.7674418604651163, 0.4215116279069767, 0.5367469879518072, 0.6002906976744187, 0.4973435655253837, 0.592156862745098, 0.5656862745098039, 0.40602409638554215, 0.5537790697674418, 0.4762557077625571, 0.5026455026455027, 0.594241922120961, 0.4043311403508772, 0.35980392156862745, 0.603921568627451, 0.6422764227642277]\n",
      "Model 31/32, Metric mean-roc_auc_score, Validation set 30: 0.538528\n",
      "\tbest_validation_score so far: 0.545957\n",
      "Fitting model 32/32\n",
      "hyperparameters: {'batch_size': 64, 'nb_epoch': 100, 'learning_rate': 0.5, 'n_filters': 64, 'n_fully_connected_nodes': 64}\n",
      "computed_metrics: [0.7156862745098039, 0.5833333333333333, 0.48320312499999996, 0.31414473684210525, 0.5518292682926829, 0.47009132420091326, 0.14389534883720934, 0.7959770114942528, 0.5381944444444445, 0.25, 0.2674418604651163, 0.4258720930232558, 0.4651162790697674, 0.477710843373494, 0.5348837209302326, 0.44628099173553715, 0.41372549019607846, 0.6098039215686275, 0.4186746987951807, 0.42877906976744184, 0.48515981735159813, 0.5612874779541446, 0.5973487986743993, 0.44216008771929827, 0.18627450980392157, 0.6362745098039216, 0.7225609756097562]\n",
      "Model 32/32, Metric mean-roc_auc_score, Validation set 31: 0.480211\n",
      "\tbest_validation_score so far: 0.545957\n",
      "computed_metrics: [0.5609751918859649, 0.5710758084109446, 0.5, 0.5472605945810609, 0.6467738052245094, 0.5176821214339198, 0.5670847641774829, 0.6403189910979229, 0.5401397337781266, 0.5308156755525177, 0.5831811726516535, 0.5732050908384339, 0.5543422733077905, 0.5655484896661368, 0.526810488346282, 0.5204026065548264, 0.5272159669159815, 0.563213262574555, 0.5143160273368607, 0.5325446579036064, 0.6109201480698043, 0.5713351801988401, 0.5557376384030006, 0.586656696576936, 0.5525441369208233, 0.5032987608814995, 0.5777909802862544]\n",
      "Best hyperparameters: (64, 40, 0.5, 32, 64)\n",
      "train_score: 0.557081\n",
      "validation_score: 0.545957\n"
     ]
    }
   ],
   "source": [
    "metric = dc.metrics.Metric(dc.metrics.roc_auc_score, np.mean)\n",
    "optimizer = dc.hyper.HyperparamOpt(model_builder)\n",
    "best_dnn, best_hyperparams, all_results = optimizer.hyperparam_search(\n",
    "   params_dict, train_dataset, valid_dataset, [], metric)"
   ]
  },
  {
   "cell_type": "code",
   "execution_count": 61,
   "metadata": {},
   "outputs": [
    {
     "data": {
      "text/plain": [
       "GraphConvModel(dense_layer_size=128, dropout=[0.0, 0.0, 0.0],\n",
       "               graph_conv_layers=[64, 64], mode='classification', n_classes=2,\n",
       "               n_tasks=27, number_atom_features=75, uncertainty=False)"
      ]
     },
     "execution_count": 61,
     "metadata": {},
     "output_type": "execute_result"
    }
   ],
   "source": [
    "best_dnn"
   ]
  },
  {
   "cell_type": "code",
   "execution_count": 62,
   "metadata": {},
   "outputs": [
    {
     "data": {
      "text/plain": [
       "(64, 40, 0.5, 32, 64)"
      ]
     },
     "execution_count": 62,
     "metadata": {},
     "output_type": "execute_result"
    }
   ],
   "source": [
    "best_hyperparams"
   ]
  },
  {
   "cell_type": "code",
   "execution_count": null,
   "metadata": {},
   "outputs": [],
   "source": [
    "all_results"
   ]
  },
  {
   "cell_type": "code",
   "execution_count": 24,
   "metadata": {},
   "outputs": [
    {
     "data": {
      "text/plain": [
       "66.29267070848162"
      ]
     },
     "execution_count": 24,
     "metadata": {},
     "output_type": "execute_result"
    }
   ],
   "source": [
    "###AQUI\n",
    "\n",
    "#(32, 40, 0.0005, 64, 32)\n",
    "\n",
    "#'batch_size' : [32,64,128,256],\n",
    "#'nb_epoch': [40,100,200],\n",
    "#'learning_rate': [0.0005,0.5,0.75,1],\n",
    "#'n_filters': [32,64,128],\n",
    "#'n_fully_connected_nodes' : [32,64,128]\n",
    "\n",
    "#model=model_builder(params_dict,params_dict)\n",
    "\n",
    "#model =GraphConvModel(dense_layer_size=128, dropout=[0.0, 0.0, 0.0],\n",
    "#               graph_conv_layers=[64, 64], mode='classification', n_classes=2,\n",
    "#               n_tasks=27, number_atom_features=75, uncertainty=False)\n",
    "\n",
    "\n",
    "model.fit(train_dataset,batch_size=64,nb_epoch=40,learning_rate=0.5,n_filters=32,n_fully_connected_nodes=64)"
   ]
  },
  {
   "cell_type": "code",
   "execution_count": 25,
   "metadata": {},
   "outputs": [
    {
     "name": "stdout",
     "output_type": "stream",
     "text": [
      "Evaluating model\n",
      "computed_metrics: [1.0, 1.0, 0.9998635352556667, 1.0, 1.0, 0.9995288693706199, 1.0, 1.0, 0.9975716248037676, 1.0, 1.0, 1.0, 1.0, 1.0, 1.0, 0.9987552968525484, 1.0, 1.0, 1.0, 1.0, 1.0, 1.0, 0.999486060518628, 0.9999892794734078, 1.0, 1.0, 1.0]\n",
      "Training ROC-AUC Score: 0.999822\n"
     ]
    }
   ],
   "source": [
    "metric = dc.metrics.Metric(\n",
    "    dc.metrics.roc_auc_score, np.mean, mode=\"classification\")\n",
    "\n",
    "print(\"Evaluating model\")\n",
    "train_scores_3 = model.evaluate(train_dataset, [metric], transformers)\n",
    "print(\"Training ROC-AUC Score: %f\" % train_scores_3[\"mean-roc_auc_score\"])\n"
   ]
  },
  {
   "cell_type": "code",
   "execution_count": 26,
   "metadata": {},
   "outputs": [
    {
     "name": "stdout",
     "output_type": "stream",
     "text": [
      "computed_metrics: [0.33333333333333337, 0.43529411764705883, 0.45625000000000004, 0.4122807017543859, 0.6061991869918699, 0.571689497716895, 0.020348837209302348, 0.8390804597701149, 0.6095085470085471, 0.4651162790697675, 0.4767441860465116, 0.32848837209302323, 0.40406976744186046, 0.3813253012048193, 0.7790697674418605, 0.5914994096812278, 0.8352941176470587, 0.3176470588235294, 0.363855421686747, 0.5348837209302326, 0.4255707762557077, 0.5467372134038802, 0.5592377796188899, 0.4682017543859649, 0.45098039215686275, 0.9098039215686275, 0.5894308943089431]\n",
      "Validation ROC-AUC Score: 0.507850\n"
     ]
    }
   ],
   "source": [
    "valid_scores_3 = model.evaluate(valid_dataset, [metric], transformers)\n",
    "print(\"Validation ROC-AUC Score: %f\" % valid_scores_3[\"mean-roc_auc_score\"])"
   ]
  },
  {
   "cell_type": "code",
   "execution_count": 27,
   "metadata": {},
   "outputs": [
    {
     "name": "stdout",
     "output_type": "stream",
     "text": [
      "computed_metrics: [0.9659090909090909, 0.5919540229885057, 0.5783132530120482, 0.4836829836829837, nan, 0.6742424242424243, 0.6085271317829457, 0.9545454545454546, 0.42489035087719296, nan, 0.8911764705882352, 0.7364341085271318, nan, 0.7159090909090908, 0.9545454545454546, 0.6609477124183006, 0.5005020080321285, 0.558641975308642, 0.8682170542635659, 0.28222996515679444, 0.6395348837209303, 0.4764705882352941, 0.6842105263157895, 0.44755244755244755, 0.09770114942528735, nan, 0.43023255813953487]\n",
      "Validation ROC-AUC Score: 0.618538\n"
     ]
    }
   ],
   "source": [
    "test_scores_3 = model.evaluate(test_dataset, [metric], transformers)\n",
    "print(\"Validation ROC-AUC Score: %f\" % test_scores_3[\"mean-roc_auc_score\"])"
   ]
  },
  {
   "cell_type": "code",
   "execution_count": 30,
   "metadata": {},
   "outputs": [
    {
     "data": {
      "text/plain": [
       "[(0.0, 0.641417022544869)]"
      ]
     },
     "execution_count": 30,
     "metadata": {},
     "output_type": "execute_result"
    },
    {
     "data": {
      "image/png": "[encoded data removed]",
      "text/plain": [
       "<Figure size 720x360 with 1 Axes>"
      ]
     },
     "metadata": {},
     "output_type": "display_data"
    }
   ],
   "source": [
    "import seaborn as sns\n",
    "\n",
    "\n",
    "sns.set(rc={'figure.figsize':(10,5)})\n",
    "\n",
    "sns.set(style=\"whitegrid\")\n",
    "ax = sns.barplot(x=[test_scores_1['mean-roc_auc_score'],test_scores_2['mean-roc_auc_score'],test_scores_2['mean-roc_auc_score']],\n",
    "                 y=['First Scenario','Scenario Scenario','Third Scenario'])\n",
    "ax.set(xlim=(0.0, None))"
   ]
  },
  {
   "cell_type": "markdown",
   "metadata": {},
   "source": [
    "# Another Implementation GraphConvModel"
   ]
  },
  {
   "cell_type": "markdown",
   "metadata": {},
   "source": [
    "TensorGraph - Simplicity is Beauty\n",
    "TensorGraph is a simple, lean, and clean framework on TensorFlow for building any imaginable models.\n",
    "\n"
   ]
  },
  {
   "cell_type": "markdown",
   "metadata": {},
   "source": [
    "What’s going on under the hood? \n",
    "\n",
    "Now we will build GraphConvModel ourselves.\n",
    "\n",
    "The first step is to create a TensorGraph object. \n",
    "This object will hold the “computational graph” that defines the computation that a graph convolutional network will perform.\n"
   ]
  },
  {
   "cell_type": "code",
   "execution_count": 58,
   "metadata": {},
   "outputs": [],
   "source": [
    "from deepchem.models.tensorgraph.tensor_graph import TensorGraph\n",
    "from deepchem.models.tensorgraph.layers import Dense, BatchNorm,GraphConv\n",
    "from deepchem.models.tensorgraph.layers import GraphPool, GraphGather,Dropout\n",
    "import keras\n",
    "import tensorflow as tf\n"
   ]
  },
  {
   "cell_type": "code",
   "execution_count": 59,
   "metadata": {},
   "outputs": [],
   "source": [
    "tg = TensorGraph(use_queue=False)"
   ]
  },
  {
   "cell_type": "code",
   "execution_count": 60,
   "metadata": {},
   "outputs": [],
   "source": [
    "from deepchem.models.tensorgraph.layers import Feature\n",
    "\n",
    "atom_features = Feature(shape=(None, 75))\n",
    "degree_slice = Feature(shape=(None, 2), dtype=tf.int32)\n",
    "membership = Feature(shape=(None,), dtype=tf.int32)\n",
    "\n",
    "deg_adjs = []\n",
    "for i in range(0, 10 + 1):\n",
    "    deg_adj = Feature(shape=(None, i + 1), dtype=tf.int32)\n",
    "    deg_adjs.append(deg_adj)"
   ]
  },
  {
   "cell_type": "markdown",
   "metadata": {},
   "source": [
    "# ver mais um atomo na tiro a camada de dropout e verifico se esta em overfitting"
   ]
  },
  {
   "cell_type": "code",
   "execution_count": 61,
   "metadata": {},
   "outputs": [],
   "source": [
    "batch_size = 50\n",
    "\n",
    "gc1 = GraphConv(64,activation_fn=tf.nn.relu,in_layers=[atom_features, degree_slice, membership] + deg_adjs)\n",
    "dropout_1 = Dropout(dropout_prob=0.5, in_layers=[gc1])\n",
    "batch_norm1 = BatchNorm(in_layers=[dropout_1])\n",
    "gp1 = GraphPool(in_layers=[batch_norm1, degree_slice, membership] + deg_adjs)\n",
    "\n",
    "gc2 = GraphConv(64,activation_fn=tf.nn.relu,in_layers=[gp1, degree_slice, membership] + deg_adjs)\n",
    "dropout_2 = Dropout(dropout_prob=0.5, in_layers=[gc2])\n",
    "batch_norm2 = BatchNorm(in_layers=[dropout_2])\n",
    "gp2 = GraphPool(in_layers=[batch_norm2, degree_slice, membership] + deg_adjs)\n",
    "\n",
    "gc3 = GraphConv(64,activation_fn=tf.nn.relu,in_layers=[gp1, degree_slice, membership] + deg_adjs)\n",
    "dropout_3 = Dropout(dropout_prob=0.5, in_layers=[gc3])\n",
    "batch_norm3 = BatchNorm(in_layers=[dropout_3])\n",
    "gp3 = GraphPool(in_layers=[batch_norm3, degree_slice, membership] + deg_adjs)\n",
    "\n",
    "dense = Dense(out_channels=128, activation_fn=tf.nn.relu, in_layers=[gp3])\n",
    "batch_norm4 = BatchNorm(in_layers=[dense])\n",
    "\n",
    "readout = GraphGather(batch_size=batch_size,activation_fn=tf.nn.tanh,in_layers=[batch_norm4, degree_slice, membership] + deg_adjs)"
   ]
  },
  {
   "cell_type": "code",
   "execution_count": 62,
   "metadata": {},
   "outputs": [],
   "source": [
    "from deepchem.models.tensorgraph.layers import Dense, SoftMax, \\\n",
    "    SoftMaxCrossEntropy, WeightedError, Stack\n",
    "\n",
    "from deepchem.models.tensorgraph.layers import Label, Weights\n",
    "\n",
    "costs = []\n",
    "labels = []\n",
    "for task in range(len(sider_tasks)):\n",
    "    classification = Dense(out_channels=2, activation_fn=None, in_layers=[readout])\n",
    "\n",
    "    softmax = SoftMax(in_layers=[classification])\n",
    "    tg.add_output(softmax)\n",
    "\n",
    "    label = Label(shape=(None, 2))\n",
    "    labels.append(label)\n",
    "    cost = SoftMaxCrossEntropy(in_layers=[label, classification])\n",
    "    costs.append(cost)\n",
    "    \n",
    "all_cost = Stack(in_layers=costs, axis=1)\n",
    "weights = Weights(shape=(None, len(sider_tasks)))\n",
    "loss = WeightedError(in_layers=[all_cost, weights])\n",
    "tg.set_loss(loss)"
   ]
  },
  {
   "cell_type": "code",
   "execution_count": 63,
   "metadata": {},
   "outputs": [],
   "source": [
    "from deepchem.metrics import to_one_hot\n",
    "from deepchem.feat.mol_graphs import ConvMol\n",
    "\n",
    "def data_generator(dataset, epochs=1, predict=False, pad_batches=True):\n",
    "    for epoch in range(epochs):\n",
    "        if not predict:\n",
    "            print('Starting epoch %i' % epoch)\n",
    "        for ind, (X_b, y_b, w_b, ids_b) in enumerate(\n",
    "            dataset.iterbatches(batch_size, pad_batches=pad_batches, deterministic=True)):\n",
    "            d = {}\n",
    "\n",
    "            for index, label in enumerate(labels):\n",
    "                d[label] = to_one_hot(y_b[:, index])\n",
    "            d[weights] = w_b\n",
    "            multiConvMol = ConvMol.agglomerate_mols(X_b)\n",
    "            d[atom_features] = multiConvMol.get_atom_features()\n",
    "            d[degree_slice] = multiConvMol.deg_slice\n",
    "            d[membership] = multiConvMol.membership\n",
    "            for i in range(1, len(multiConvMol.get_deg_adjacency_lists())):\n",
    "                d[deg_adjs[i - 1]] = multiConvMol.get_deg_adjacency_lists()[i]\n",
    "            yield d"
   ]
  },
  {
   "cell_type": "code",
   "execution_count": 64,
   "metadata": {},
   "outputs": [
    {
     "name": "stdout",
     "output_type": "stream",
     "text": [
      "Starting epoch 0\n",
      "Starting epoch 1\n",
      "Starting epoch 2\n",
      "Starting epoch 3\n",
      "Starting epoch 4\n",
      "Starting epoch 5\n",
      "Starting epoch 6\n",
      "Starting epoch 7\n",
      "Starting epoch 8\n",
      "Starting epoch 9\n",
      "Starting epoch 10\n",
      "Starting epoch 11\n",
      "Starting epoch 12\n",
      "Starting epoch 13\n",
      "Starting epoch 14\n",
      "Starting epoch 15\n",
      "Starting epoch 16\n",
      "Starting epoch 17\n",
      "Starting epoch 18\n",
      "Starting epoch 19\n",
      "Starting epoch 20\n",
      "Starting epoch 21\n",
      "Starting epoch 22\n",
      "Starting epoch 23\n",
      "Starting epoch 24\n",
      "Starting epoch 25\n",
      "Starting epoch 26\n",
      "Starting epoch 27\n",
      "Starting epoch 28\n",
      "Starting epoch 29\n",
      "Starting epoch 30\n",
      "Starting epoch 31\n",
      "Starting epoch 32\n",
      "Starting epoch 33\n",
      "Starting epoch 34\n",
      "Starting epoch 35\n",
      "Starting epoch 36\n",
      "Starting epoch 37\n",
      "Starting epoch 38\n",
      "Starting epoch 39\n",
      "Starting epoch 40\n",
      "Starting epoch 41\n",
      "Starting epoch 42\n",
      "Starting epoch 43\n",
      "Starting epoch 44\n",
      "Starting epoch 45\n",
      "Starting epoch 46\n",
      "Starting epoch 47\n",
      "Starting epoch 48\n",
      "Starting epoch 49\n",
      "Starting epoch 50\n",
      "Starting epoch 51\n",
      "Starting epoch 52\n",
      "Starting epoch 53\n",
      "Starting epoch 54\n",
      "Starting epoch 55\n",
      "Starting epoch 56\n",
      "Starting epoch 57\n",
      "Starting epoch 58\n",
      "Starting epoch 59\n"
     ]
    }
   ],
   "source": [
    "# Epochs set to 1 to render tutorials online.\n",
    "# Set epochs=10 for better results.\n",
    "history=tg.fit_generator(data_generator(train_dataset, epochs=60))"
   ]
  },
  {
   "cell_type": "code",
   "execution_count": null,
   "metadata": {},
   "outputs": [],
   "source": [
    "# Training dataset"
   ]
  },
  {
   "cell_type": "code",
   "execution_count": 65,
   "metadata": {
    "scrolled": false
   },
   "outputs": [],
   "source": [
    "metric = dc.metrics.Metric(\n",
    "    dc.metrics.roc_auc_score, np.mean, mode=\"classification\")\n",
    "\n",
    "def reshape_y_pred(y_true, y_pred):\n",
    "    \"\"\"\n",
    "    TensorGraph.Predict returns a list of arrays, one for each output\n",
    "    We also have to remove the padding on the last batch\n",
    "    Metrics taks results of shape (samples, n_task, prob_of_class)\n",
    "    \"\"\"\n",
    "    n_samples = len(y_true)\n",
    "    retval = np.stack(y_pred, axis=1)\n",
    "    return retval[:n_samples]\n"
   ]
  },
  {
   "cell_type": "code",
   "execution_count": 66,
   "metadata": {},
   "outputs": [
    {
     "name": "stdout",
     "output_type": "stream",
     "text": [
      "Evaluating model\n",
      "computed_metrics: [0.7098924067982455, 0.7050963151501128, 0.6708060972447768, 0.6331847424969792, 0.7511014806789454, 0.6616693167764569, 0.712492482005316, 0.797131552917903, 0.5984268707482994, 0.699538101451977, 0.7574993478827928, 0.804754039962434, 0.8, 0.6556226815050344, 0.7246577876433592, 0.6060056926864538, 0.6700967642925222, 0.6617354686203604, 0.6930941358024691, 0.6606943040107853, 0.6811681062342089, 0.6800952775476388, 0.6485555595628811, 0.6511004620546961, 0.6894302675198518, 0.7429809426711631, 0.6839859573318929]\n",
      "----------------\n",
      "Training ROC-AUC Score: 0.694475\n"
     ]
    }
   ],
   "source": [
    "print(\"Evaluating model\")\n",
    "train_predictions = tg.predict_on_generator(data_generator(train_dataset, predict=True))\n",
    "train_predictions = reshape_y_pred(train_dataset.y, train_predictions)\n",
    "train_scores_4 = metric.compute_metric(train_dataset.y, train_predictions, train_dataset.w)\n",
    "\n",
    "print(\"----------------\")\n",
    "print(\"Training ROC-AUC Score: %f\" % train_scores_4)\n"
   ]
  },
  {
   "cell_type": "code",
   "execution_count": 67,
   "metadata": {},
   "outputs": [],
   "source": [
    "# Validation Dataset"
   ]
  },
  {
   "cell_type": "code",
   "execution_count": 68,
   "metadata": {},
   "outputs": [
    {
     "name": "stdout",
     "output_type": "stream",
     "text": [
      "computed_metrics: [0.5333333333333333, 0.4784313725490196, 0.54375, 0.39364035087719296, 0.5995934959349594, 0.5424657534246575, 0.26744186046511625, 0.3563218390804598, 0.6063034188034189, 0.1569767441860465, 0.16279069767441862, 0.16860465116279072, 0.5639534883720931, 0.5132530120481927, 0.40116279069767447, 0.3919716646989374, 0.34509803921568627, 0.603921568627451, 0.25542168674698795, 0.4941860465116279, 0.4611872146118721, 0.4215167548500882, 0.6909693454846728, 0.36622807017543857, 0.5098039215686274, 0.4980392156862745, 0.532520325203252]\n",
      "Valid ROC-AUC Score: 0.439218\n"
     ]
    }
   ],
   "source": [
    "valid_predictions = tg.predict_on_generator(data_generator(valid_dataset, predict=True))\n",
    "valid_predictions = reshape_y_pred(valid_dataset.y, valid_predictions)\n",
    "valid_scores_4 = metric.compute_metric(valid_dataset.y, valid_predictions, valid_dataset.w)\n",
    "print(\"Valid ROC-AUC Score: %f\" % valid_scores_4)\n"
   ]
  },
  {
   "cell_type": "code",
   "execution_count": 69,
   "metadata": {},
   "outputs": [],
   "source": [
    "# Test Dataset"
   ]
  },
  {
   "cell_type": "code",
   "execution_count": 70,
   "metadata": {
    "scrolled": true
   },
   "outputs": [
    {
     "name": "stdout",
     "output_type": "stream",
     "text": [
      "computed_metrics: [0.31818181818181823, 0.49425287356321834, 0.31726907630522083, 0.3892773892773893, nan, 0.40367965367965364, 0.5736434108527131, 1.0, 0.5487938596491228, nan, 0.7117647058823529, 0.6976744186046512, nan, 0.125, 0.6704545454545454, 0.6462418300653595, 0.5582329317269077, 0.5385802469135803, 0.8488372093023255, 0.28397212543554007, 0.5, 0.27647058823529413, 0.6649797570850202, 0.45571095571095577, 0.5862068965517242, nan, 0.4147286821705426]\n",
      "Test  ROC-AUC Score: 0.522781\n"
     ]
    }
   ],
   "source": [
    "test_predictions = tg.predict_on_generator(data_generator(test_dataset, predict=True))\n",
    "test_predictions = reshape_y_pred(test_dataset.y, test_predictions)\n",
    "test_scores_4 = metric.compute_metric(test_dataset.y, test_predictions, test_dataset.w)\n",
    "print(\"Test  ROC-AUC Score: %f\" % test_scores_4)"
   ]
  },
  {
   "cell_type": "markdown",
   "metadata": {},
   "source": [
    "\n",
    "# Comparision of Results with MoleculeNet results"
   ]
  },
  {
   "cell_type": "code",
   "execution_count": 71,
   "metadata": {
    "scrolled": false
   },
   "outputs": [
    {
     "data": {
      "text/plain": [
       "[(0.0, 0.6494647495842711)]"
      ]
     },
     "execution_count": 71,
     "metadata": {},
     "output_type": "execute_result"
    },
    {
     "data": {
      "image/png": "[encoded data removed]",
      "text/plain": [
       "<Figure size 720x504 with 1 Axes>"
      ]
     },
     "metadata": {},
     "output_type": "display_data"
    }
   ],
   "source": [
    "import seaborn as sns\n",
    "\n",
    "\n",
    "sns.set(rc={'figure.figsize':(10,7)})\n",
    "\n",
    "sns.set(style=\"whitegrid\")\n",
    "ax = sns.barplot(x=[test_scores_1['mean-roc_auc_score'],test_scores_2['mean-roc_auc_score'],test_scores_3['mean-roc_auc_score'],test_scores_4],\n",
    "                 y=['First Scenario','Scenario Scenario','Third Scenario','Modelo Desenvolvido Raiz'])\n",
    "ax.set(xlim=(0.0, None))"
   ]
  },
  {
   "cell_type": "code",
   "execution_count": 72,
   "metadata": {},
   "outputs": [
    {
     "name": "stdout",
     "output_type": "stream",
     "text": [
      "0.602449436270781\n",
      "0.6108733548046371\n",
      "0.6185378567469249\n",
      "0.5227805641151277\n"
     ]
    }
   ],
   "source": [
    "print(test_scores_1['mean-roc_auc_score'])\n",
    "\n",
    "print(test_scores_2['mean-roc_auc_score'])\n",
    "print(test_scores_3['mean-roc_auc_score'])\n",
    "print(test_scores_4)"
   ]
  },
  {
   "cell_type": "code",
   "execution_count": 73,
   "metadata": {},
   "outputs": [
    {
     "data": {
      "text/plain": [
       "[(0.0, 0.6494647495842711)]"
      ]
     },
     "execution_count": 73,
     "metadata": {},
     "output_type": "execute_result"
    },
    {
     "data": {
      "image/png": "[encoded data removed]",
      "text/plain": [
       "<Figure size 720x504 with 1 Axes>"
      ]
     },
     "metadata": {},
     "output_type": "display_data"
    }
   ],
   "source": [
    "import seaborn as sns\n",
    "\n",
    "sns.set(style=\"whitegrid\")\n",
    "ax = sns.barplot(x=[test_scores_1['mean-roc_auc_score'],\n",
    "                    test_scores_2['mean-roc_auc_score'],\n",
    "                    test_scores_3['mean-roc_auc_score'],\n",
    "                    test_scores_4],\n",
    "                 y=['First Scenario','Scenario Scenario','Third Scenario','fourth Scenario'])\n",
    "ax.set(xlim=(0.0, None))"
   ]
  },
  {
   "cell_type": "code",
   "execution_count": null,
   "metadata": {},
   "outputs": [],
   "source": []
  }
 ],
 "metadata": {
  "kernelspec": {
   "display_name": "Python 3",
   "language": "python",
   "name": "python3"
  },
  "language_info": {
   "codemirror_mode": {
    "name": "ipython",
    "version": 3
   },
   "file_extension": ".py",
   "mimetype": "text/x-python",
   "name": "python",
   "nbconvert_exporter": "python",
   "pygments_lexer": "ipython3",
   "version": "3.6.8"
  }
 },
 "nbformat": 4,
 "nbformat_minor": 2
}
