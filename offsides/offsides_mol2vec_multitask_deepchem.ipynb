{
 "cells": [
  {
   "cell_type": "markdown",
   "metadata": {},
   "source": [
    "# Offsides with Mol2Vec"
   ]
  },
  {
   "cell_type": "code",
   "execution_count": null,
   "metadata": {},
   "outputs": [],
   "source": []
  },
  {
   "cell_type": "markdown",
   "metadata": {},
   "source": [
    "# Implementação da Baseline"
   ]
  },
  {
   "cell_type": "code",
   "execution_count": 2,
   "metadata": {},
   "outputs": [
    {
     "name": "stderr",
     "output_type": "stream",
     "text": [
      "Using TensorFlow backend.\n",
      "/home/mamonteiro/anaconda3/envs/lei/lib/python3.6/site-packages/sklearn/externals/joblib/__init__.py:15: DeprecationWarning: sklearn.externals.joblib is deprecated in 0.21 and will be removed in 0.23. Please import this functionality directly from joblib, which can be installed with: pip install joblib. If this warning is raised when loading pickled models, you may need to re-serialize those models with scikit-learn 0.21+.\n",
      "  warnings.warn(msg, category=DeprecationWarning)\n"
     ]
    }
   ],
   "source": [
    "from mol2vec.features import mol2alt_sentence, MolSentence, DfVec, sentences2vec\n",
    "from gensim.models import Word2Vec\n",
    "from gensim.models import word2vec\n",
    "from rdkit import Chem\n",
    "import pandas as pd\n",
    "import numpy as np\n",
    "from keras.callbacks import ModelCheckpoint, Callback\n",
    "import matplotlib.pyplot as plt\n",
    "import deepchem as dc\n",
    "from sklearn.model_selection import train_test_split\n",
    "from skmultilearn.model_selection import iterative_train_test_split\n",
    "from deepchem.data.datasets import NumpyDataset\n"
   ]
  },
  {
   "cell_type": "code",
   "execution_count": 3,
   "metadata": {},
   "outputs": [],
   "source": [
    "\"\"\"\n",
    "OFFSIDES dataset loader.\n",
    "\"\"\"\n",
    "from __future__ import division\n",
    "from __future__ import unicode_literals\n",
    "\n",
    "import os\n",
    "import logging\n",
    "import deepchem\n",
    "\n",
    "logger = logging.getLogger(__name__)\n",
    "\n",
    "\n",
    "def load_offsides_for_mol2vec(featurizer='ECFP', split='index', reload=True, K=4):\n",
    "  \"\"\"Load OFFSIDES datasets. Does not do train/test split\"\"\"\n",
    "  # Load Sider dataset\n",
    "  logger.info(\"About to load Offsides dataset.\")\n",
    "  data_dir = deepchem.utils.get_data_dir()\n",
    "  if reload:\n",
    "    save_dir = os.path.join(data_dir, \"offsides/\" + featurizer + \"/\" + str(split))\n",
    "\n",
    "  #dataset_file = os.path.join(data_dir, \"muv.csv.gz\")\n",
    "  dataset_file = os.path.join(\"/home/mamonteiro/source-code/Project-LEI/offsides/\", \"offsides.csv.gz\")\n",
    "  #if not os.path.exists(dataset_file):\n",
    "  #  deepchem.utils.download_url(\n",
    "  #      'http://deepchem.io.s3-website-us-west-1.amazonaws.com/datasets/muv.csv.gz'\n",
    "  #  )\n",
    "\n",
    "  OFFSIDES_tasks = sorted([ 'Hepatobiliary disorders',\n",
    "       'Metabolism and nutrition disorders', 'Product issues', 'Eye disorders',\n",
    "       'Investigations', 'Musculoskeletal and connective tissue disorders',\n",
    "       'Gastrointestinal disorders', 'Social circumstances',\n",
    "       'Immune system disorders', 'Reproductive system and breast disorders',\n",
    "       'Neoplasms benign, malignant and unspecified (incl cysts and polyps)',\n",
    "       'General disorders and administration site conditions',\n",
    "       'Endocrine disorders', 'Surgical and medical procedures',\n",
    "       'Vascular disorders', 'Blood and lymphatic system disorders',\n",
    "       'Skin and subcutaneous tissue disorders',\n",
    "       'Congenital, familial and genetic disorders',\n",
    "       'Infections and infestations',\n",
    "       'Respiratory, thoracic and mediastinal disorders',\n",
    "       'Psychiatric disorders', 'Renal and urinary disorders',\n",
    "       'Pregnancy, puerperium and perinatal conditions',\n",
    "       'Ear and labyrinth disorders', 'Cardiac disorders',\n",
    "       'Nervous system disorders',\n",
    "       'Injury, poisoning and procedural complications'\n",
    "  ])\n",
    "\n",
    "  if reload:\n",
    "    loaded, all_dataset, transformers = deepchem.utils.save.load_dataset_from_disk(save_dir)\n",
    "    if loaded:\n",
    "      return OFFSIDES_tasks, all_dataset, transformers\n",
    "\n",
    "  # Featurize MUV dataset\n",
    "  logger.info(\"About to featurize OFFSIDES dataset.\")\n",
    "\n",
    "  if featurizer == 'ECFP':\n",
    "    featurizer = deepchem.feat.CircularFingerprint(size=1024)\n",
    "  elif featurizer == 'GraphConv':\n",
    "    featurizer = deepchem.feat.ConvMolFeaturizer()\n",
    "  elif featurizer == 'Weave':\n",
    "    featurizer = deepchem.feat.WeaveFeaturizer()\n",
    "  elif featurizer == 'Raw':\n",
    "    featurizer = deepchem.feat.RawFeaturizer()\n",
    "\n",
    "  loader = deepchem.data.CSVLoader(\n",
    "      tasks=OFFSIDES_tasks, smiles_field=\"smiles\", featurizer=featurizer)\n",
    "  dataset = loader.featurize(dataset_file)\n",
    "\n",
    "  # Initialize transformers\n",
    "  transformers = [\n",
    "      deepchem.trans.BalancingTransformer(transform_w=True, dataset=dataset)\n",
    "  ]\n",
    "  logger.info(\"About to transform data\")\n",
    "  for transformer in transformers:\n",
    "    dataset = transformer.transform(dataset)\n",
    "\n",
    "  if split == None:\n",
    "    return OFFSIDES_tasks, (dataset, None, None), transformers\n",
    "\n",
    "  splitters = {\n",
    "      'index': deepchem.splits.IndexSplitter(),\n",
    "      'random': deepchem.splits.RandomSplitter(),\n",
    "      'scaffold': deepchem.splits.ScaffoldSplitter(),\n",
    "      'task': deepchem.splits.TaskSplitter()\n",
    "  }\n",
    "  splitter = splitters[split]\n",
    "  if split == 'task':\n",
    "    fold_datasets = splitter.k_fold_split(dataset, K)\n",
    "    all_dataset = fold_datasets\n",
    "  else:\n",
    "    train, valid, test = splitter.train_valid_test_split(dataset)\n",
    "    all_dataset = (train, valid, test)\n",
    "    if reload:\n",
    "      deepchem.utils.save.save_dataset_to_disk(save_dir, train, valid, test,\n",
    "                                               transformers)\n",
    "  return OFFSIDES_tasks, all_dataset, transformers\n"
   ]
  },
  {
   "cell_type": "code",
   "execution_count": 4,
   "metadata": {},
   "outputs": [
    {
     "name": "stdout",
     "output_type": "stream",
     "text": [
      "Loading raw samples now.\n",
      "shard_size: 8192\n",
      "About to start loading CSV from /home/mamonteiro/source-code/Project-LEI/offsides/offsides.csv.gz\n",
      "Loading shard 1 of size 8192.\n",
      "Featurizing sample 0\n",
      "TIMING: featurizing shard 0 took 1.833 s\n",
      "TIMING: dataset construction took 1.870 s\n",
      "Loading dataset from disk.\n",
      "TIMING: dataset construction took 0.039 s\n",
      "Loading dataset from disk.\n",
      "TIMING: dataset construction took 0.034 s\n",
      "Loading dataset from disk.\n",
      "TIMING: dataset construction took 0.016 s\n",
      "Loading dataset from disk.\n",
      "TIMING: dataset construction took 0.018 s\n",
      "Loading dataset from disk.\n"
     ]
    }
   ],
   "source": [
    "tasks, datasets, transformers = load_offsides_for_mol2vec()\n",
    "train_dataset, valid_dataset, test_dataset = datasets\n",
    "train_smiles = train_dataset.ids\n",
    "valid_smiles = valid_dataset.ids\n",
    "test_smiles = test_dataset.ids"
   ]
  },
  {
   "cell_type": "code",
   "execution_count": 5,
   "metadata": {},
   "outputs": [
    {
     "data": {
      "text/plain": [
       "(704, 88, 89)"
      ]
     },
     "execution_count": 5,
     "metadata": {},
     "output_type": "execute_result"
    }
   ],
   "source": [
    "len(train_dataset),len(valid_smiles),len(test_smiles)"
   ]
  },
  {
   "cell_type": "code",
   "execution_count": 6,
   "metadata": {},
   "outputs": [
    {
     "data": {
      "text/plain": [
       "array(['CC12CCC3C(C1CCC2=O)CC=C4C3(CCC(C4)O)C', 'C[N+](C)(C)CC(CC(=O)O)O',\n",
       "       'C(CC(=O)O)CN',\n",
       "       'C1C(N(C2=C(N1)NC(=NC2=O)N)C=O)CNC3=CC=C(C=C3)C(=O)NC(CCC(=O)O)C(=O)O',\n",
       "       'CCCCCC(C=CC1C(CC(=O)C1CC=CCCCC(=O)O)O)O',\n",
       "       'CCCCCC(C=CC1C(CC2C1CC(=CCCCC(=O)O)O2)O)O',\n",
       "       'C1=NC2=C(C(=N1)N)N=CN2C3C(C(C(O3)CO)O)O',\n",
       "       'C(C1C(C(C(C(O1)O)O)O)O)O',\n",
       "       'CCCCCC(C=CC1C(CC(=O)C1CCCCCCC(=O)O)O)O',\n",
       "       'C(C(C1C(=O)C(=C(O1)O)O)O)O',\n",
       "       'C1=NC2=C(C(=N1)N)N=CN2C3C(C(C(O3)COP(=O)(O)OP(=O)(O)OP(=O)(O)O)O)O',\n",
       "       'C1C2C(C(S1)CCCCC(=O)O)NC(=O)N2', '[Ca+2]',\n",
       "       'C1=CC(=CC=C1C(C(CO)NC(=O)C(Cl)Cl)O)[N+](=O)[O-]',\n",
       "       'CC(C)CCCC(C)C1CCC2C1(CCC3C2CC=C4C3(CCC(C4)O)C)C', '[Cl-]',\n",
       "       'C1=CC=C(C(=C1)C(=O)O)O', 'C(C(C(=O)O)N)C(=O)O',\n",
       "       'CC(C(=O)C1=CC(=CC=C1)Cl)NC(C)(C)C',\n",
       "       'CC12CCC3C(C1CCC2O)CCC4=C3C=CC(=C4)O', 'C(C(C(C(C(CO)O)O)O)O)O',\n",
       "       'C(CCC(=O)O)CCN', 'CC(=O)NC(CS)C(=O)O',\n",
       "       'C1=CN(C(=O)N=C1N)C2C(C(C(O2)CO)O)O', 'C(CS(=O)(=O)O)S',\n",
       "       'C(C(C(C(C(C(=O)O)O)O)O)O)O', 'C1=CC(=C(C=C1CCN)O)O', 'CCO',\n",
       "       'CC1=CC2=C(C=C1C)N(C3=NC(=O)NC(=O)C3=N2)CC(C(C(COP(=O)(O)OP(=O)(O)OCC4C(C(C(O4)N5C=NC6=C5N=CN=C6N)O)O)O)O)O',\n",
       "       'C(CC(=O)N)C(C(=O)O)N', 'C(C1C(C(C(C(O1)O)N)O)O)O',\n",
       "       'C(CC(=O)NC(CS)C(=O)NCC(=O)O)C(C(=O)O)N', 'C(C(CO)O)O',\n",
       "       'C(=O)(O)O',\n",
       "       'CC(=O)NC1C(C(C(OC1O)COS(=O)(=O)O)OC2C(C(C(C(O2)C(=O)O)OC3C(C(C(C(O3)CO)OC4C(C(C(C(O4)C(=O)O)O)O)OS(=O)(=O)O)OS(=O)(=O)O)NS(=O)(=O)O)O)OS(=O)(=O)O)O',\n",
       "       'II', '[K+]',\n",
       "       'C1C(C(C(C(C1N)OC2C(C(C(C(O2)CN)O)O)O)O)OC3C(C(C(C(O3)CO)O)N)O)N',\n",
       "       'C1=CC(=C(C=C1CC(C(=O)O)N)O)O', 'CNCC(C1=CC(=C(C=C1)O)O)O',\n",
       "       'C1=C(C=C(C(=C1I)OC2=CC(=C(C(=C2)I)O)I)I)CC(C(=O)O)N',\n",
       "       'C1=CC(=C(C=C1OC2=C(C=C(C=C2I)CC(C(=O)O)N)I)I)O',\n",
       "       'C(CCN)CC(C(=O)O)N', '[Mg+2]', 'CC(=O)NCCC1=CNC2=C1C=C(C=C2)OC',\n",
       "       '[Na+]',\n",
       "       'C1=CC(=C[N+](=C1)C2C(C(C(O2)COP(=O)(O)OP(=O)(O)OCC3C(C(C(O3)N4C=NC5=C4N=CN=C5N)OP(=O)(O)O)O)O)O)C(=O)N',\n",
       "       'C1=CC(=CN=C1)C(=O)N', 'C1=CC(=CN=C1)C(=O)[O-]',\n",
       "       'CN1CCCC1C2=CN=CC=C2', '[N+](=O)([O-])[O-]', '[N-]=[N+]=O',\n",
       "       'C1=CC(=C(C=C1C(CN)O)O)O', '[OH-]', 'O=O', 'OP(=O)(O)[O-]',\n",
       "       'CCC(=O)O', 'C1=CN=C(C=N1)C(=O)N', 'CC1=NC=C(C(=C1O)C=O)CO',\n",
       "       'CC1=NC=C(C(=C1O)C=O)COP(=O)(O)O', 'CC1=NC=C(C(=C1O)CO)CO',\n",
       "       'COC1=CC2=C(C=CN=C2C=C1)C(C3CC4CCN3CC4C=C)O', 'CSC',\n",
       "       'CC1=C(C(CCC1)(C)C)C=CC(=CC=CC(=CCO)C)C', 'C(C(C(=O)O)N)SCC(=O)O',\n",
       "       '[O-]S(=O)(=O)[O-]', 'C(CS(=O)(=O)O)N',\n",
       "       'CC(C(C1CNC2=C(N1)C(=O)N=C(N2)N)O)O',\n",
       "       'CC1=C(SC=[N+]1CC2=CN=C(N=C2N)C)CCO',\n",
       "       'CC1=CN(C(=O)NC1=O)C2CC(C(O2)CO)O',\n",
       "       'CC1=C(C(=O)C(=C(C1=O)OC)OC)CC=C(C)CCC=C(C)CCC=C(C)CCC=C(C)CCC=C(C)CCC=C(C)CCC=C(C)CCC=C(C)CCC=C(C)CCC=C(C)C',\n",
       "       'C(=O)(N)N', 'CC(CC1=CC=CC=C1)NC',\n",
       "       'CC(C1=CC2=C(C=C1)C=C(C=C2)OC)C(=O)O',\n",
       "       'C1C(C(OC1N2C=NC3=C2N=C(N=C3N)Cl)CO)O',\n",
       "       'CC(CC1=CC2=C(C=C1)OCO2)NC',\n",
       "       'CC1C(C(CC(O1)OC2CC(CC3=C(C4=C(C(=C23)O)C(=O)C5=C(C4=O)C=CC=C5OC)O)(C(=O)CO)O)[NH3+])O',\n",
       "       'C1=CC=C(C=C1)C2(C(=O)NC(=O)N2)C3=CC=CC=C3',\n",
       "       'C1=NC(=NC(=O)N1C2C(C(C(O2)CO)O)O)N',\n",
       "       'CC1CC2C3CCC(C3(CC(C2C4(C1=CC(=O)C=C4)C)O)C)(C(=O)COC(=O)CCC(=O)O)O',\n",
       "       'C1CC1NC2=NC(=NC3=C2N=CN3C4CC(C=C4)CO)N',\n",
       "       'CC1C=CC=CC=CC=CC=CC=CC=CC(CC2C(C(CC(O2)(CC(CC(C(CCC(CC(CC(=O)OC(C(C1O)C)C)O)O)O)O)O)O)O)C(=O)O)OC3C(C(C(C(O3)C)O)N)O',\n",
       "       'CCCC(=O)NC1=CC(=C(C=C1)OCC(CNC(C)C)O)C(=O)C',\n",
       "       'CC1=C(C2=C(N1C(=O)C3=CC=C(C=C3)Cl)C=CC(=C2)OC)CC(=O)OCC(=O)O',\n",
       "       'CC(=O)NC1=CC=C(C=C1)O', 'CC(=O)NC1=NN=C(S1)S(=O)(=O)N',\n",
       "       'CC(=O)NC1=CC=C(C=C1)CC(=O)O',\n",
       "       'CC1C(C(=O)NC(C(=O)N2CCCC2C(=O)N(CC(=O)N(C(C(=O)O1)C(C)C)C)C)C(C)C)NC(=O)C3=C4C(=C(C=C3)C)OC5=C(C(=O)C(=C(C5=N4)C(=O)NC6C(OC(=O)C(N(C(=O)CN(C(=O)C7CCCN7C(=O)C(NC6=O)C(C)C)C)C)C(C)C)C)N)C',\n",
       "       'C1=NC2=C(N1COCCO)NC(=NC2=O)N',\n",
       "       'CCCSC1=CC2=C(C=C1)N=C(N2)NC(=O)OC',\n",
       "       'CC(C)(C)NCC(C1=CC(=C(C=C1)O)CO)O',\n",
       "       'C(CC(O)(P(=O)(O)O)P(=O)(O)O)CN',\n",
       "       'CC(C)CCCC(C)C1CCC2C1(CCCC2=CC=C3CC(CC(C3=C)O)O)C',\n",
       "       'CN(CCCNC(=O)C1CCCO1)C2=NC3=CC(=C(C=C3C(=N2)N)OC)OC',\n",
       "       'C1=C2C(=NC=NC2=O)NN1',\n",
       "       'CC1=C(N=CN1)CN2CCC3=C(C2=O)C4=CC=CC=C4N3C',\n",
       "       'CC1=C(C(=C2CCC(OC2=C1C)(C)CCCC(C)CCCC(C)CCCC(C)C)C)O',\n",
       "       'CC1=C2C(=C(C(=C1C)OC(=O)C)C)CCC(O2)(C)CCCC(C)CCCC(C)CCCC(C)C',\n",
       "       'CC1=NN=C2N1C3=C(C=C(C=C3)Cl)C(=NC2)C4=CC=CC=C4',\n",
       "       'C1C2CC3CC1CC(C2)(C3)N', 'C1CC(CCC1NCC2=CC(=CC(=C2N)Br)Br)O',\n",
       "       'CC(=O)NC1=C(C(=C(C(=C1I)C(=O)O)I)NC(=O)C)I',\n",
       "       'C(CN)CNCCSP(=O)(O)O',\n",
       "       'C1C(C(C(C(C1NC(=O)C(CCN)O)OC2C(C(C(C(O2)CO)O)N)O)O)OC3C(C(C(C(O3)CN)O)O)O)N',\n",
       "       'CN1C2=C(C(=O)N(C1=O)C)NC=N2',\n",
       "       'CCCCC1=C(C2=CC=CC=C2O1)C(=O)C3=CC(=C(C(=C3)I)OCC[NH+](CC)CC)I',\n",
       "       'CCN1CCCC1CNC(=O)C2=CC(=C(C=C2OC)N)S(=O)(=O)CC',\n",
       "       'CN(C)CCC=C1C2=CC=CC=C2CCC3=CC=CC=C31',\n",
       "       'CCOC(=O)C1=C(NC(=C(C1C2=CC=CC=C2Cl)C(=O)OC)C)COCCN',\n",
       "       'C1CN(CCN1)C2=NC3=CC=CC=C3OC4=C2C=C(C=C4)Cl',\n",
       "       'CC1(C(N2C(S1)C(C2=O)NC(=O)C(C3=CC=C(C=C3)O)N)C(=O)O)C',\n",
       "       'C1C2N(C1=O)C(C(=CCO)O2)C(=O)O',\n",
       "       'CC1(C(N2C(S1)C(C2=O)NC(=O)C(C3=CC=CC=C3)N)C(=O)[O-])C',\n",
       "       'CC(C)CN(CC(C(CC1=CC=CC=C1)NC(=O)OC2CCOC2)O)S(=O)(=O)C3=CC=C(C=C3)N',\n",
       "       'C1C2=C(C=CC(=C2Cl)Cl)NC3=NC(=O)CN31',\n",
       "       'CC(C)(C#N)C1=CC(=CC(=C1)CN2C=NC=N2)C(C)(C)C#N',\n",
       "       'COC1=CC=C(C=C1)C2=CC(=S)SS2',\n",
       "       'CN1CCC2=CC=CC3=C2C1CC4=C3C(=C(C=C4)O)O',\n",
       "       'C1CC(C(OC1CN)OC2C(CC(C(C2O)OC3C(C(C(C(O3)CO)O)N)O)NC(=O)C(CCN)O)N)N',\n",
       "       'CC1CCN(C(C1)C(=O)O)C(=O)C(CCCN=C(N)N)NS(=O)(=O)C2=CC=CC3=C2NCC(C3)C',\n",
       "       'CC(C)(C)NCC(CSC1=NC(=CS1)C2=CC=C(S2)C(=O)N)O',\n",
       "       'CC(=O)OC1=CC=CC=C1C(=O)O', 'CC(C)NCC(COC1=CC=C(C=C1)CC(=O)N)O',\n",
       "       'CC(C)C1=C(C(=C(N1CCC(CC(CC(=O)O)O)O)C2=CC=C(C=C2)F)C3=CC=CC=C3)C(=O)NC4=CC=CC=C4',\n",
       "       'CN1C(=O)COC2=C1C=C(C=C2C(=O)NC3CN4CCC3CC4)Cl',\n",
       "       'CN1C=NC(=C1SC2=NC=NC3=C2NC=N3)[N+](=O)[O-]',\n",
       "       'C(CCCC(=O)O)CCCC(=O)O',\n",
       "       'CN1CCCC(CC1)N2C(=O)C3=CC=CC=C3C(=N2)CC4=CC=C(C=C4)Cl',\n",
       "       'CCC1C(C(C(N(CC(CC(C(C(C(C(C(=O)O1)C)OC2CC(C(C(O2)C)O)(C)OC)C)OC3C(C(CC(O3)C)N(C)C)O)(C)O)C)C)C)O)(C)O',\n",
       "       'CC1C(C(=O)N1S(=O)(=O)O)NC(=O)C(=NOC(C)(C)C(=O)O)C2=CSC(=N2)N',\n",
       "       'CC1=C2C(=CC(=C2C=C(C=C1)C(C)C)C)S(=O)(=O)O',\n",
       "       'CCC(C)C1C(=O)NC(C(=O)NC(C(=O)NC(C(=O)NC(C(=O)NC(C(=O)NC(C(=O)N1)CCCN)CCCCNC(=O)C(C(C)CC)NC(=O)C(CCC(=O)O)NC(=O)C(CC(C)C)NC(=O)C2CSC(=N2)C(C(C)CC)N)CC(=O)N)CC(=O)O)CC3=CN=CN3)CC4=CC=CC=C4',\n",
       "       'C1=CC(=CC=C1C(CC(=O)O)CN)Cl',\n",
       "       'CCC(=O)OCC(=O)C1(C(CC2C1(CC(C3(C2CCC4=CC(=O)C=CC43C)Cl)O)C)C)OC(=O)CC',\n",
       "       'CC1CC2C3CCC4=CC(=O)C=CC4(C3(C(CC2(C1(C(=O)CO)O)C)O)Cl)C',\n",
       "       'CCOC(=O)C(CCC1=CC=CC=C1)NC2CCC3=CC=CC=C3N(C2=O)CC(=O)O',\n",
       "       'C1=CC=C(C=C1)CC2NC3=C(C=C(C(=C3)C(F)(F)F)S(=O)(=O)N)S(=O)(=O)N2',\n",
       "       'CC(CC1=CC(=CC=C1)C(F)(F)F)NCCOC(=O)C2=CC=CC=C2',\n",
       "       'CC1=C(C(C(=C(N1)C)C(=O)OC2CCCN(C2)CC3=CC=CC=C3)C4=CC(=CC=C4)[N+](=O)[O-])C(=O)OC',\n",
       "       'CCC1=C(C2=CC=CC=C2O1)C(=O)C3=CC(=C(C(=C3)Br)O)Br',\n",
       "       'CN1C2CCC1CC(C2)OC(C3=CC=CC=C3)C4=CC=CC=C4',\n",
       "       'CC1(C(N2C(S1)C(C2=O)NC(=O)CC3=CC=CC=C3)C(=O)O)C',\n",
       "       'CC#CCC(C)C(C=CC1C(CC2C1C3=C(O2)C(=CC=C3)CCCC(=O)O)O)O',\n",
       "       'CNCCC1=CC=CC=N1',\n",
       "       'CC1CC2C3CCC4=CC(=O)C=CC4(C3(C(CC2(C1(C(=O)COP(=O)(O)O)O)C)O)F)C',\n",
       "       'CC(C)NCC(COC1=CC=C(C=C1)CCOCC2CC2)O', 'CC(C[N+](C)(C)C)OC(=O)N',\n",
       "       'CC(CS(=O)(=O)C1=CC=C(C=C1)F)(C(=O)NC2=CC(=C(C=C2)C#N)C(F)(F)F)O',\n",
       "       'C1CCN(CC1)CCC(C2CC3CC2C=C3)(C4=CC=CC=C4)O',\n",
       "       'CC(=O)OC1=CC=C(C=C1)C(C2=CC=C(C=C2)OC(=O)C)C3=CC=CC=N3',\n",
       "       'CC(C)NCC(COC1=CC=C(C=C1)COCCOC(C)C)O',\n",
       "       'C1CN=C(N1)NC2=C(C3=NC=CN=C3C=C2)Br',\n",
       "       'C1C(=O)NC2=C(C=C(C=C2)Br)C(=N1)C3=CC=CC=N3',\n",
       "       'CC(C)CC1C(=O)N2CCCC2C3(N1C(=O)C(O3)(C(C)C)NC(=O)C4CN(C5CC6=C(NC7=CC=CC(=C67)C5=C4)Br)C)O',\n",
       "       'CCN(CC)CCNC(=O)C1=CC(=C(C=C1OC)N)Br',\n",
       "       'CC1=NN=C2N1C3=C(C=C(S3)Br)C(=NC2)C4=CC=CC=C4Cl',\n",
       "       'CC(C)(C(=O)NC(CS)C(=O)O)S',\n",
       "       'CCCC1OC2CC3C4CCC5=CC(=O)C=CC5(C4C(CC3(C2(O1)C(=O)CO)C)O)C',\n",
       "       'COC1=CC(=C(C(=C1)OC)C(=O)CCCN2CCCC2)OC',\n",
       "       'CCCCNC1=C(C(=CC(=C1)C(=O)O)S(=O)(=O)N)OC2=CC=CC=C2',\n",
       "       'CCCCN1CCCCC1C(=O)NC2=C(C=CC=C2C)C',\n",
       "       'CC(C)(C)C(C)(C1CC23CCC1(C4C25CCN(C3CC6=C5C(=C(C=C6)O)O4)CC7CC7)OC)O',\n",
       "       'C1CCC2(C1)CC(=O)N(C(=O)C2)CCCCN3CCN(CC3)C4=NC=CC=N4',\n",
       "       'CS(=O)(=O)OCCCCOS(=O)(=O)C', 'CC(C)CC1(C(=O)NC(=O)NC1=O)CC=C',\n",
       "       'C1CCC2(C3CC4=C(C2(C1)CCN3CC5CCC5)C=C(C=C4)O)O',\n",
       "       'CCNC(=O)N(CCCN(C)C)C(=O)C1CC2C(CC3=CNC4=CC=CC2=C34)N(C1)CC=C',\n",
       "       'CN1C=NC2=C1C(=O)N(C(=O)N2C)C',\n",
       "       'CC(C)C(CCCN(C)CCC1=CC(=C(C=C1)OC)OC)(C#N)C2=CC(=C(C=C2)OC)OC',\n",
       "       'CC(C=CC(C1CC1)O)C2CCC3C2(CCCC3=CC=C4CC(CC(C4=C)O)O)C',\n",
       "       'CC(CCCC(C)(C)O)C1CCC2C1(CCCC2=CC=C3CC(CC(C3=C)O)O)C',\n",
       "       'CN(C)C(=O)COC(=O)CC1=CC=C(C=C1)OC(=O)C2=CC=C(C=C2)N=C(N)N',\n",
       "       'CCOC1=NC2=CC=CC(=C2N1CC3=CC=C(C=C3)C4=CC=CC=C4C5=NNN=N5)C(=O)OC(C)OC(=O)OC6CCCCC6',\n",
       "       'CCOC1=NC2=CC=CC(=C2N1CC3=CC=C(C=C3)C4=CC=CC=C4C5=NNN=N5)C(=O)O',\n",
       "       'CC(CS)C(=O)N1CCCC1C(=O)O', 'C1=CC=C2C(=C1)C=CC3=CC=CC=C3N2C(=O)N',\n",
       "       'CCCC(C)(COC(=O)N)COC(=O)NC(C)C', 'C(CCl)NC(=O)N(CCCl)N=O',\n",
       "       'CC(C)(C)NCC(COC1=CC=CC2=C1CCC(=O)N2)O',\n",
       "       'COC1=CC=CC=C1OCCNCC(COC2=CC=CC3=C2C4=CC=CC=C4N3)O',\n",
       "       'C1C(=C(N2C(S1)C(C2=O)NC(=O)C(C3=CC=CC=C3)N)C(=O)O)Cl',\n",
       "       'CC1=C(N2C(C(C2=O)NC(=O)C(C3=CC=C(C=C3)O)N)SC1)C(=O)O',\n",
       "       'CC1=NN=C(S1)SCC2=C(N3C(C(C3=O)NC(=O)CN4C=NN=N4)SC2)C(=O)[O-]',\n",
       "       'C[N+]1(CCCC1)CC2=C(N3C(C(C3=O)NC(=O)C(=NOC)C4=CSC(=N4)N)SC2)C(=O)[O-]',\n",
       "       'CN1C(=NN=N1)SCC2=C(N3C(C(C3=O)(NC(=O)CSCC#N)OC)SC2)C(=O)[O-]',\n",
       "       'CC(=O)OCC1=C(N2C(C(C2=O)NC(=O)C(=NOC)C3=CSC(=N3)N)SC1)C(=O)[O-]',\n",
       "       'CN(C)CCN1C(=NN=N1)SCC2=C(N3C(C(C3=O)NC(=O)CC4=CSC(=N4)N)SC2)C(=O)O',\n",
       "       'CON=C(C1=NSC(=N1)N)C(=O)NC2C3N(C2=O)C(=C(CS3)C[N+]4=C5C=CC=NN5C=C4)C(=O)O',\n",
       "       'CC(C)OC(=O)OC(C)OC(=O)C1=C(CSC2N1C(=O)C2NC(=O)C(=NOC)C3=CSC(=N3)N)COC',\n",
       "       'CC=CC1=C(N2C(C(C2=O)NC(=O)C(C3=CC=C(C=C3)O)N)SC1)C(=O)O',\n",
       "       'CC(C)(C(=O)O)ON=C(C1=CSC(=N1)N)C(=O)NC2C3N(C2=O)C(=C(CS3)C[N+]4=CC=CC=C4)C(=O)[O-]',\n",
       "       'CN1C(=NC(=O)C(=N1)[O-])SCC2=C(N3C(C(C3=O)NC(=O)C(=NOC)C4=CSC(=N4)N)SC2)C(=O)[O-]',\n",
       "       'CON=C(C1=CC=CO1)C(=O)NC2C3N(C2=O)C(=C(CS3)COC(=O)N)C(=O)[O-]',\n",
       "       'CC1=CC=C(C=C1)C2=CC(=NN2C3=CC=C(C=C3)S(=O)(=O)N)C(F)(F)F',\n",
       "       'CCN(CC)C(=O)NC1=CC(=C(C=C1)OCC(CNC(C)(C)C)O)C(=O)C',\n",
       "       'CC1=C(N2C(C(C2=O)NC(=O)C(C3=CC=CC=C3)N)SC1)C(=O)O',\n",
       "       'C=CC1=C(N2C(C(C2=O)NC(=O)C(=NOCC(=O)O)C3=CSC(=N3)N)SC1)C(=O)O',\n",
       "       'CC(C)C1=C(C(=C(C(=N1)C(C)C)C=CC(CC(CC(=O)O)O)O)C2=CC=C(C=C2)F)COC',\n",
       "       'C1CN(CCN1CCOCC(=O)O)C(C2=CC=CC=C2)C3=CC=C(C=C3)Cl',\n",
       "       'CC1OC2(CN3CCC2CC3)CS1', 'C(C(Cl)(Cl)Cl)(O)O',\n",
       "       'C1=CC(=CC=C1CCCC(=O)O)N(CCCl)CCCl',\n",
       "       'CN=C1CN(C(=C2C=C(C=CC2=N1)Cl)C3=CC=CC=C3)O',\n",
       "       'C1=CC(=CC=C1NC(=NC(=NCCCCCCN=C(N)N=C(N)NC2=CC=C(C=C2)Cl)N)N)Cl',\n",
       "       'CCN(CC)CCCC(C)NC1=C2C=CC(=CC2=NC=C1)Cl',\n",
       "       'C1=C2C(=CC(=C1Cl)S(=O)(=O)N)S(=O)(=O)N=CN2',\n",
       "       'CN(C)CCC(C1=CC=C(C=C1)Cl)C2=CC=CC=N2',\n",
       "       'CN(C)CCCN1C2=CC=CC=C2SC3=C1C=C(C=C3)Cl',\n",
       "       'CCCNC(=O)NS(=O)(=O)C1=CC=C(C=C1)Cl',\n",
       "       'CN(C)CCC=C1C2=CC=CC=C2SC3=C1C=C(C=C3)Cl',\n",
       "       'C1=CC=C2C(=C1)C(=O)NC2(C3=CC(=C(C=C3)Cl)S(=O)(=O)N)O',\n",
       "       'C1=CC2=C(C=C1Cl)NC(=O)O2',\n",
       "       'CC(C)CCCC(C)C1CCC2C1(CCCC2=CC=C3CC(CCC3=C)O)C',\n",
       "       'C1CN=C(N1)C2CC2(C3=CC=CC=C3)C4=CC=CC=C4',\n",
       "       'CC1=CC(=O)N(C(=C1)C2CCCCC2)O',\n",
       "       'CCOC(=O)C(CCC1=CC=CC=C1)NC2CCCN3CCCC(N3C2=O)C(=O)O',\n",
       "       'CC1=C(C(C(=C(N1)C)C(=O)OCC=CC2=CC=CC=C2)C3=CC(=CC=C3)[N+](=O)[O-])C(=O)OCCOC',\n",
       "       'C1CCC(CC1)N2C(=NN=N2)CCCCOC3=CC4=C(C=C3)NC(=O)CC4',\n",
       "       'CC1=C(N=CN1)CSCCNC(=NC)NC#N',\n",
       "       'C1CN(CCN1CC=CC2=CC=CC=C2)C(C3=CC=CC=C3)C4=CC=CC=C4',\n",
       "       'CC(C)(C(=O)O)OC1=CC=C(C=C1)C2CC2(Cl)Cl',\n",
       "       'C1CC1N2C=C(C(=O)C3=CC(=C(C=C32)N4CCNCC4)F)C(=O)O',\n",
       "       'COC1CN(CCC1NC(=O)C2=CC(=C(C=C2OC)N)Cl)CCCOC3=CC=C(C=C3)F',\n",
       "       'Cl[Pt]Cl', 'CN(C)CCCC1(C2=C(CO1)C=C(C=C2)C#N)C3=CC=C(C=C3)F',\n",
       "       'CC(C1=CC=CC=C1)(C2=CC=C(C=C2)Cl)OCCC3CCCN3C',\n",
       "       'CC(C)(C)NCC(C1=CC(=C(C(=C1)Cl)N)Cl)O',\n",
       "       'CCCC1CC(N(C1)C)C(=O)NC(C2C(C(C(C(O2)SC)O)O)O)C(C)Cl',\n",
       "       'CN1C(=O)CC(=O)N(C2=C1C=CC(=C2)Cl)C3=CC=CC=C3',\n",
       "       'CCC(=O)OC1(C(CC2C1(CC(C3(C2CCC4=CC(=O)C=CC43C)F)O)C)C)C(=O)CCl',\n",
       "       'CCN(CC)CCOC1=CC=C(C=C1)C(=C(C2=CC=CC=C2)Cl)C3=CC=CC=C3',\n",
       "       'CN(C)CCCN1C2=CC=CC=C2CCC3=C1C=C(C=C3)Cl',\n",
       "       'C1C(=O)NC2=C(C=C(C=C2)[N+](=O)[O-])C(=N1)C3=CC=CC=C3Cl',\n",
       "       'C1CN=C(N1)NC2=C(C=CC=C2Cl)Cl',\n",
       "       'COC(=O)C(C1=CC=CC=C1Cl)N2CCC3=C(C2)C=CS3',\n",
       "       'C1=CC=C(C=C1)C2=NC(C(=O)NC3=C2C=C(C=C3)Cl)C(=O)O',\n",
       "       'CCC1=CC2=C(S1)N(C(=O)CN=C2C3=CC=CC=C3Cl)C',\n",
       "       'C1=CC=C(C=C1)C(C2=CC=CC=C2)(C3=CC=CC=C3Cl)N4C=CN=C4',\n",
       "       'CC1=C(C(=NO1)C2=CC=CC=C2Cl)C(=O)NC3C4N(C3=O)C(C(S4)(C)C)C(=O)[O-]',\n",
       "       'C1COC2(N1CC(=O)NC3=C2C=C(C=C3)Cl)C4=CC=CC=C4Cl',\n",
       "       'CN1CCN(CC1)C2=C3C=CC=CC3=NC4=C(N2)C=C(C=C4)Cl',\n",
       "       'CN1C2CCC1C(C(C2)OC(=O)C3=CC=CC=C3)C(=O)OC',\n",
       "       'CN1CCC23C4C1CC5=C2C(=C(C=C5)OC)OC3C(C=C4)O',\n",
       "       'CC1=CC2=C(C=C1C)N(C=N2)C3C(C(C(O3)CO)OP(=O)(O)OC(C)CNC(=O)CCC4(C(C5=NC4=C(C6=NC(=CC7=NC(=C(C8=NC5(C(C8CCC(=O)N)(C)CC(=O)N)C)C)C(C7CCC(=O)N)(C)CC(=O)N)C(C6CCC(=O)N)(C)C)C)CC(=O)N)C)O.[C-]#N.[Co]',\n",
       "       'CC(=O)NC1CCC2=CC(=C(C(=C2C3=CC=C(C(=O)C=C13)OC)OC)OC)OC',\n",
       "       'CC(=O)OCC(=O)C1(CCC2C1(CC(=O)C3C2CCC4=CC(=O)CCC34C)C)O',\n",
       "       'C1=CC2=C(C(=C1)OCC(COC3=CC=CC4=C3C(=O)C=C(O4)C(=O)[O-])O)C(=O)C=C(O2)C(=O)[O-]',\n",
       "       'CCN(C1=CC=CC=C1C)C(=O)C=CC',\n",
       "       'CN(C)CCC=C1C2=CC=CC=C2C=CC3=CC=CC=C31',\n",
       "       'CN(C)CCOC(=O)C(C1=CC=CC=C1)C2(CCCC2)O',\n",
       "       'C1CNP(=O)(OC1)N(CCCl)CCCl',\n",
       "       'CCC1C(=O)N(CC(=O)N(C(C(=O)NC(C(=O)N(C(C(=O)NC(C(=O)NC(C(=O)N(C(C(=O)N(C(C(=O)N(C(C(=O)N(C(C(=O)N1)C(C(C)CC=CC)O)C)C(C)C)C)CC(C)C)C)CC(C)C)C)C)C)CC(C)C)C)C(C)C)CC(C)C)C)C',\n",
       "       'CN1CCC(=C2C3=CC=CC=C3C=CC4=CC=CC=C42)CC1',\n",
       "       'CC(=O)C1(CCC2C1(CCC3C2C=C(C4=CC(=O)C5CC5C34C)Cl)C)OC(=O)C',\n",
       "       'CC12CCC3C(C1CCC2(C#C)O)CCC4=CC5=C(CC34C)C=NO5',\n",
       "       'C1=CC2=C(C(=C1)O)C(=O)C3=C(C2=O)C=CC=C3O',\n",
       "       'C1C(=NC(=O)N1N=CC2=CC=C(O2)C3=CC=C(C=C3)[N+](=O)[O-])[O-]',\n",
       "       'C1=CC(=CC=C1N)S(=O)(=O)C2=CC=C(C=C2)N',\n",
       "       'CC1C(C(CC(O1)OC2CC(CC3=C(C4=C(C(=C23)O)C(=O)C5=C(C4=O)C=CC=C5OC)O)(C(=O)C)O)N)O',\n",
       "       'CC(=O)N(CCCCCNC(=O)CCC(=O)N(CCCCCNC(=O)CCC(=O)N(CCCCCN)O)O)O',\n",
       "       'CCCCCC1=CC2=C(C3C=C(CCC3C(O2)(C)C)C)C(=C1)O',\n",
       "       'C1C(=O)NC2=C(C=C(C=C2)Cl)C(=N1)C3=CC=CC=C3',\n",
       "       'CC1CC2C3CCC4=CC(=O)C=CC4(C3(C(CC2(C1C(=O)CO)C)O)F)C',\n",
       "       'CC(=O)OCC(=O)C1CCC2C1(CCC3C2CCC4=CC(=O)CCC34C)C',\n",
       "       'CC(CC1=CC=CC=C1)N', 'CN1CCC23CCCCC2C1CC4=C3C=C(C=C4)OC',\n",
       "       'CN1C(=O)CN=C(C2=C1C=CC(=C2)Cl)C3=CC=CC=C3',\n",
       "       'C1=CC=C(C(=C1)CC(=O)[O-])NC2=C(C=CC=C2Cl)Cl',\n",
       "       'CC1=C(C(=NO1)C2=C(C=CC=C2Cl)Cl)C(=O)NC3C4N(C3=O)C(C(S4)(C)C)C(=O)[O-]',\n",
       "       'CCN(CC)CCOC(=O)C1(CCCCC1)C2CCCCC2',\n",
       "       'C1CC(OC1CO)N2C=NC3=C2NC=NC3=O',\n",
       "       'C1=CC(=C(C=C1C2=C(C=C(C=C2)F)F)C(=O)O)O',\n",
       "       'CCCC(=O)OC1(CCC2C1(CC(C3(C2CC(C4=CC(=O)C=CC43C)F)F)O)C)C(=O)COC(=O)C',\n",
       "       'CC1C(C(CC(O1)OC2C(OC(CC2O)OC3C(OC(CC3O)OC4CCC5(C(C4)CCC6C5CCC7(C6(CCC7C8=CC(=O)OC8)O)C)C)C)C)O)O',\n",
       "       'CC1C(C(CC(O1)OC2C(OC(CC2O)OC3C(OC(CC3O)OC4CCC5(C(C4)CCC6C5CC(C7(C6(CCC7C8=CC(=O)OC8)O)C)O)C)C)C)O)O',\n",
       "       'CN1CCC23C4C1CC5=C2C(=C(C=C5)OC)OC3C(CC4)O',\n",
       "       'CC1(C(=O)N2C(C(=O)N3CCCC3C2(O1)O)CC4=CC=CC=C4)NC(=O)C5CC6C(CC7=CNC8=CC=CC6=C78)N(C5)C',\n",
       "       'CC(=O)OC1C(SC2=CC=CC=C2N(C1=O)CC[NH+](C)C)C3=CC=C(C=C3)OC',\n",
       "       'CC1=CC2=C(CC3C4C2(CCCC4)CCN3C)C=C1',\n",
       "       'CN(C)CCOC(C1=CC=CC=C1)C2=CC=CC=C2',\n",
       "       'C1CCN(CC1)C2=NC(=NC3=C2N=C(N=C3N4CCCCC4)N(CCO)CCO)N(CCO)CCO',\n",
       "       'CC1=C(C(=O)N(N1C)C2=CC=CC=C2)N(C)CS(=O)(=O)[O-]',\n",
       "       'CC(C)N(CCC(C1=CC=CC=C1)(C2=CC=CC=N2)C(=O)N)C(C)C',\n",
       "       'C[N+]1=CC=CC(=C1)OC(=O)N(C)CCCCCCN(C)C(=O)OC2=C[N+](=CC=C2)C',\n",
       "       'CCN(CC)C(=S)SSC(=S)N(CC)CC', 'CCCC(CCC)C(=O)O',\n",
       "       'CC1=C2C(C(=O)C3(C(CC4C(C3C(C(C2(C)C)(CC1OC(=O)C(C(C5=CC=CC=C5)NC(=O)OC(C)(C)C)O)O)OC(=O)C6=CC=CC=C6)(CO4)OC(=O)C)O)C)O',\n",
       "       'C1C2CC3CC(CC1N3CC2=O)OC(=O)C4=CNC5=CC=CC=C54',\n",
       "       'C1CN(CCC1N2C3=C(C=C(C=C3)Cl)NC2=O)CCCN4C5=CC=CC=C5NC4=O',\n",
       "       'COC1=C(C=C2C(=C1)CC(C2=O)CC3CCN(CC3)CC4=CC=CC=C4)OC',\n",
       "       'CCNC1CC(S(=O)(=O)C2=C1C=C(S2)S(=O)(=O)N)C',\n",
       "       'CN(C)CCC=C1C2=CC=CC=C2CSC3=CC=CC=C31',\n",
       "       'COC1=C(C=C2C(=C1)C(=NC(=N2)N3CCN(CC3)C(=O)C4COC5=CC=CC=C5O4)N)OC',\n",
       "       'CN(C)CCC=C1C2=CC=CC=C2COC3=CC=CC=C31',\n",
       "       'CC1C(C(C(O1)N2C=C(C(=O)NC2=O)F)O)O',\n",
       "       'CC1C2C(C3C(C(=O)C(=C(N)O)C(=O)C3(C(=O)C2=C(C4=C1C=CC=C4O)O)O)N(C)C)O',\n",
       "       'CC(C1=CC=CC=C1)(C2=CC=CC=N2)OCCN(C)C',\n",
       "       'C1CN(CC=C1N2C3=CC=CC=C3NC2=O)CCCC(=O)C4=CC=C(C=C4)F',\n",
       "       'C1=CC(=C(C=C1C(C(C(=O)O)N)O)O)O',\n",
       "       'CN1C2=C(C(=O)N(C1=O)C)N(C=N2)CC(CO)O',\n",
       "       'CC(C)(C)C1=CC=C(C=C1)C(=O)CCCN2CCC(CC2)OC(C3=CC=CC=C3)C4=CC=CC=C4',\n",
       "       'C1=CC(=CC=C1COC(CN2C=CN=C2)C3=C(C=C(C=C3)Cl)Cl)Cl',\n",
       "       'C1CC1C#CC2(C3=C(C=CC(=C3)Cl)NC(=O)O2)C(F)(F)F',\n",
       "       'CCOC(=O)C(CCC1=CC=CC=C1)NC(C)C(=O)N2CCCC2C(=O)O',\n",
       "       'CC(=CC1=CC=CC=C1)C=C2C(=O)N(C(=S)S2)CC(=O)O',\n",
       "       'CCC1=CC=C(C=C1)C(=O)C(C)CN2CCCCC2',\n",
       "       'C1C2C3=CC=CC=C3CC4=CC=CC=C4N2C(=N1)N',\n",
       "       'CC(C)C(C)C=CC(C)C1CCC2C1(CCCC2=CC=C3CC(CCC3=C)O)C',\n",
       "       'CCC1C(C(C(C(=O)C(CC(C(C(C(C(C(=O)O1)C)OC2CC(C(C(O2)C)O)(C)OC)C)OC3C(C(CC(O3)C)N(C)C)O)(C)O)C)C)O)(C)O',\n",
       "       'CCC1C(C(C(C(=O)C(CC(C(C(C(C(C(=O)O1)C)OC2CC(C(C(O2)C)O)(C)OC)C)OC3C(C(CC(O3)C)N(C)C)OC(=O)CCC(=O)OCC)(C)O)C)C)O)(C)O',\n",
       "       'C1C2=NN=CN2C3=C(C=C(C=C3)Cl)C(=N1)C4=CC=CC=C4',\n",
       "       'CCCCC(=O)OC1CCC2C1(CCC3C2CCC4=C3C=CC(=C4)O)C',\n",
       "       'CC12CCC3C(C1CCC2OP(=O)(O)O)CCC4=C3C=CC(=C4)OC(=O)N(CCCl)CCCl',\n",
       "       'CCC(CO)NCCNC(CC)CO', 'CC12CCC3C(C1CCC2(C#C)O)CCC4=C3C=CC(=C4)O',\n",
       "       'CCC1(CC(=O)NC1=O)C',\n",
       "       'CCOC(=O)C1C(=O)NC2=C(C=C(C=C2)Cl)C(=N1)C3=CC=CC=C3F',\n",
       "       'CC(O)(P(=O)(O)O)P(=O)(O)O', 'CCNCC(C1=CC(=CC=C1)O)O',\n",
       "       'CCC1=CC2=C(S1)N3C(=NN=C3CN=C2C4=CC=CC=C4Cl)C',\n",
       "       'CCC1=CC=CC2=C1NC3=C2CCOC3(CC)CC(=O)O',\n",
       "       'CC1OCC2C(O1)C(C(C(O2)OC3C4COC(=O)C4C(C5=CC6=C(C=C35)OCO6)C7=CC(=C(C(=C7)OC)O)OC)O)O',\n",
       "       'CC(=O)OCC(CCN1C=NC2=CN=C(N=C21)N)COC(=O)C',\n",
       "       'C1=C(N=C(S1)N=C(N)N)CSCCC(=NS(=O)(=O)N)N',\n",
       "       'C1=CC=C(C=C1)C2=CC=C(C=C2)CC(=O)O',\n",
       "       'CCOC(=O)C1=C(NC(=C(C1C2=C(C(=CC=C2)Cl)Cl)C(=O)OC)C)C',\n",
       "       'CC(C)OC(=O)C(C)(C)OC1=CC=C(C=C1)C(=O)C2=CC=C(C=C2)Cl',\n",
       "       'CC(CC1=CC=C(C=C1)O)NCC(C2=CC(=CC(=C2)O)O)O',\n",
       "       'CCC(=O)N(C1CCN(CC1)CCC2=CC=CC=C2)C3=CC=CC=C3',\n",
       "       'CC(C)(C1=CC=C(C=C1)C(CCCN2CCC(CC2)C(C3=CC=CC=C3)(C4=CC=CC=C4)O)O)C(=O)O',\n",
       "       'CC12CCC3C(C1CCC2C(=O)NC(C)(C)C)CCC4C3(C=CC(=O)N4)C',\n",
       "       'C1CCNC(C1)C[NH2+]C(=O)C2=C(C=CC(=C2)OCC(F)(F)F)OCC(F)(F)F',\n",
       "       'CC1=C(C(=NO1)C2=C(C=CC=C2Cl)F)C(=O)NC3C4N(C3=O)C(C(S4)(C)C)C(=O)O',\n",
       "       'C1=CC(=C(C=C1F)F)C(CN2C=NC=N2)(CN3C=NC=N3)O',\n",
       "       'C1=NC(=O)NC(=C1F)N', 'C1=NC2=C(N1C3C(C(C(O3)CO)O)O)N=C(N=C2N)F',\n",
       "       'C1=NC2=C(N1C3C(C(C(O3)COP(=O)(O)O)O)O)N=C(N=C2N)F',\n",
       "       'CC(=O)OCC(=O)C1(CCC2C1(CC(C3(C2CCC4=CC(=O)CCC43C)F)O)C)O',\n",
       "       'C1CN(CCN1CCCN2C3=CC=CC=C3SC4=C2C=C(C=C4)C(F)(F)F)CCO',\n",
       "       'CCOC(=O)C1=C2CN(C(=O)C3=C(N2C=N1)C=CC(=C3)F)C',\n",
       "       'CN1C(=O)CN=C(C2=C1C=CC(=C2)[N+](=O)[O-])C3=CC=CC=C3F',\n",
       "       'CC1(OC2CC3C4CC(C5=CC(=O)C=CC5(C4(C(CC3(C2(O1)C(=O)CO)C)O)F)C)F)C',\n",
       "       'CC(=O)OCC(=O)C12C(CC3C1(CC(C4(C3CC(C5=CC(=O)C=CC54C)F)F)O)C)OC(O2)(C)C',\n",
       "       'CC1CC2C3CCC(C3(CC(C2(C4(C1=CC(=O)C=C4)C)F)O)C)(C(=O)C)O',\n",
       "       'C1=C(C(=O)NC(=O)N1)F', 'CNCCC(C1=CC=CC=C1)OC2=CC=C(C=C2)C(F)(F)F',\n",
       "       'CCN(CC)CCN1C(=O)CN=C(C2=C1C=CC(=C2)Cl)C3=CC=CC=C3F',\n",
       "       'CC(C1=CC(=C(C=C1)C2=CC=CC=C2)F)C(=O)O',\n",
       "       'CC(C1=CC(=C(C=C1)C2=CC=CC=C2)F)C(=O)OC(C)OC(=O)C',\n",
       "       'CC(C)C(=O)NC1=CC(=C(C=C1)[N+](=O)[O-])C(F)(F)F',\n",
       "       'CCC(=O)OC1(C(CC2C1(CC(C3(C2CC(C4=CC(=O)C=CC43C)F)F)O)C)C)C(=O)SCF',\n",
       "       'CC(C)N1C2=CC=CC=C2C(=C1C=CC(CC(CC(=O)O)O)O)C3=CC=C(C=C3)F',\n",
       "       'COCCCCC(=NOCCN)C1=CC=C(C=C1)C(F)(F)F',\n",
       "       'C1=CC(=CC=C1C(=O)NC(CCC(=O)O)C(=O)O)NCC2=CN=C3C(=N2)C(=O)N=C(N3)N',\n",
       "       'CC(CC1=CC=C(C=C1)OC)NCC(C2=CC(=C(C=C2)O)NC=O)O',\n",
       "       'C(=O)([O-])P(=O)([O-])[O-]',\n",
       "       'CCC(=O)OC(C(C)C)OP(=O)(CCCCC1=CC=CC=C1)CC(=O)N2CC(CC2C(=O)[O-])C3CCCCC3',\n",
       "       'C1=COC(=C1)CNC2=CC(=C(C=C2C(=O)O)S(=O)(=O)N)Cl',\n",
       "       'C1CCC(CC1)(CC(=O)O)CN', 'CCOC(=O)C1=CC=C(C=C1)OC(=O)CCCCCN=C(N)N',\n",
       "       'CN1CCC23C=CC(CC2OC4=C(C=CC(=C34)C1)OC)O',\n",
       "       'C1=NC2=C(N1COC(CO)CO)NC(=NC2=O)N',\n",
       "       'CC1=CC(=C(C=C1)C)OCCCC(C)(C)C(=O)O',\n",
       "       'CC1=CC=C(C=C1)S(=O)(=O)NC(=O)NN2CC3CCCC3C2',\n",
       "       'CCC1=C(CN(C1=O)C(=O)NCCC2=CC=C(C=C2)S(=O)(=O)NC(=O)NC3CCC(CC3)C)C',\n",
       "       'CC1=NC=C(N=C1)C(=O)NCCC2=CC=C(C=C2)S(=O)(=O)NC(=O)NC3CCCCC3',\n",
       "       'COC1=C(C=C(C=C1)Cl)C(=O)NCCC2=CC=C(C=C2)S(=O)(=O)NC(=O)NC3CCCCC3',\n",
       "       'C[N+]1(CCC(C1)OC(=O)C(C2CCCC2)(C3=CC=CC=C3)O)C',\n",
       "       'CC1(C2CCC3(C(C2(CCC1OC4C(C(C(C(O4)C(=O)O)O)O)OC5C(C(C(C(O5)C(=O)O)O)O)O)C)C(=O)C=C6C3(CCC7(C6CC(CC7)(C)C(=O)O)C)C)C)C',\n",
       "       'COC1=CC=CC=C1OCC(CO)O', 'C1=CC(=C(C(=C1)Cl)CC(=O)N=C(N)N)Cl',\n",
       "       'C1CN(CCC1(C2=CC=C(C=C2)Cl)O)CCCC(=O)C3=CC=C(C=C3)F',\n",
       "       'CCCC[N+]1(C2CC(CC1C3C2O3)OC(=O)C(CO)C4=CC=CC=C4)C',\n",
       "       'C1=CC=C2C(=C1)C=NN=C2NN',\n",
       "       'C1NC2=CC(=C(C=C2S(=O)(=O)N1)S(=O)(=O)N)Cl',\n",
       "       'CC12CCC(=O)C=C1CCC3C2C(CC4(C3CCC4(C(=O)CO)O)C)O',\n",
       "       'CC(=O)OCC(=O)C1(CCC2C1(CC(C3C2CCC4=CC(=O)CCC34C)O)C)O',\n",
       "       'CC12CCC(=O)C=C1CCC3C2C(CC4(C3CCC4(C(=O)COC(=O)CCC(=O)O)O)C)O',\n",
       "       'CN1CCC23C4C1CC5=C2C(=C(C=C5)O)OC3C(=O)CC4',\n",
       "       'CCN(CCCC(C)NC1=C2C=CC(=CC2=NC=C1)Cl)CCO', 'C(=O)(N)NO',\n",
       "       'C1CN(CCN1CCOCCO)C(C2=CC=CC=C2)C3=CC=C(C=C3)Cl',\n",
       "       'CN1C2CCC1CC(C2)OC(=O)C(CO)C3=CC=CC=C3',\n",
       "       'CC(C)CC1=CC=C(C=C1)C(C)C(=O)O', 'CCN(CC)CC(=O)NC1=C(C=CC=C1C)C',\n",
       "       'CC1CC2C3CCC4=CC(=O)C=CC4(C3(C(CC2(C1(C(=O)COC(=O)C)O)C)O)F)C',\n",
       "       'CC1C(C(CC(O1)OC2CC(CC3=C(C4=C(C(=C23)O)C(=O)C5=CC=CC=C5C4=O)O)(C(=O)C)O)N)O',\n",
       "       'CC(C(C1=CC=C(C=C1)O)O)N2CCC(CC2)CC3=CC=CC=C3',\n",
       "       'C1CN(P(=O)(OC1)NCCCl)CCCl',\n",
       "       'CCOC(=O)C(CCC1=CC=CC=C1)NC(C)C(=O)N2C(CN(C2=O)C)C(=O)O',\n",
       "       'CC(C1C2CC(=C(N2C1=O)C(=O)O)SCCN=CN)O',\n",
       "       'CN(C)CCCN1C2=CC=CC=C2CCC3=CC=CC=C31',\n",
       "       'CC1CC2=CC=CC=C2N1NC(=O)C3=CC(=C(C=C3)Cl)S(=O)(=O)N',\n",
       "       'CC(C)(C)NC(=O)C1CN(CCN1CC(CC(CC2=CC=CC=C2)C(=O)NC3C(CC4=CC=CC=C34)O)O)CC5=CN=CC=C5',\n",
       "       'CC1=C(C2=C(N1C(=O)C3=CC=C(C=C3)Cl)C=CC(=C2)OC)CC(=O)O',\n",
       "       'CC(=O)N(CC(CO)O)C1=C(C(=C(C(=C1I)C(=O)NCC(CO)O)I)C(=O)NCC(CO)O)I',\n",
       "       'CC(C(=O)NC1=C(C(=C(C(=C1I)C(=O)NC(CO)CO)I)C(=O)NC(CO)CO)I)O',\n",
       "       'CN(CC(CO)O)C(=O)C1=C(C(=C(C(=C1I)C(=O)NCC(CO)O)I)NC(=O)COC)I',\n",
       "       'C(CO)N(C1=C(C(=C(C(=C1I)C(=O)NCC(CO)O)I)C(=O)NCC(CO)O)I)C(=O)CO',\n",
       "       'CC(C)[N+]1(C2CCC1CC(C2)OC(=O)C(CO)C3=CC=CC=C3)C',\n",
       "       'CCCCC1=NC2(CCCC2)C(=O)N1CC3=CC=C(C=C3)C4=CC=CC=C4C5=NNN=N5',\n",
       "       'CCC1=C2C=C(C=CC2=NC3=C1CN4C3=CC5=C(C4=O)COC(=O)C5(CC)O)OC(=O)N6CCC(CC6)N7CCCCC7',\n",
       "       'C1=CC(=C(C=C1Cl)C2=NC(=NC(=N2)N)N)Cl', 'C(C(F)(F)F)(OC(F)F)Cl',\n",
       "       'C1=CN=CC=C1C(=O)NN',\n",
       "       'C1C(C2C(O1)C(CO2)O[N+](=O)[O-])O[N+](=O)[O-]',\n",
       "       'CC1=C(C(C(=C(N1)C)C(=O)OC(C)C)C2=CC=CC3=NON=C32)C(=O)OC',\n",
       "       'CCC(C)N1C(=O)N(C=N1)C2=CC=C(C=C2)N3CCN(CC3)C4=CC=C(C=C4)OCC5COC(O5)(CN6C=NC=N6)C7=C(C=C(C=C7)Cl)Cl',\n",
       "       'CC1=C(C(=CC=C1)C)OCC(=O)NC(CC2=CC=CC=C2)C(CC(CC3=CC=CC=C3)NC(=O)C(C(C)C)N4CCCNC4=O)O',\n",
       "       'CNC1(CCCCC1=O)C2=CC=CC=C2Cl',\n",
       "       'CC(=O)N1CCN(CC1)C2=CC=C(C=C2)OCC3COC(O3)(CN4C=CN=C4)C5=C(C=C(C=C5)Cl)Cl',\n",
       "       'CC(C1=CC=CC(=C1)C(=O)C2=CC=CC=C2)C(=O)O',\n",
       "       'C1CN2C(=CC=C2C(=O)C3=CC=CC=C3)C1C(=O)O',\n",
       "       'CN1CCC(=C2C3=C(C(=O)CC4=CC=CC=C42)SC=C3)CC1',\n",
       "       'C1CCN(CC1)CC2=CC(=NC=C2)OCC=CCNC(=O)CS(=O)CC3=CC=CO3',\n",
       "       'C1C(OC(S1)CO)N2C=CC(=NC2=O)N',\n",
       "       'C1=CC(=C(C(=C1)Cl)Cl)C2=C(N=C(N=N2)N)N',\n",
       "       'CC1=C(C=NO1)C(=O)NC2=CC=C(C=C2)C(F)(F)F',\n",
       "       'C1=CC(=CC=C1C#N)C(C2=CC=C(C=C2)C#N)N3C=NC=N3',\n",
       "       'CC(C)(C)NCC(COC1=CC=CC2=C1CCCC2=O)O',\n",
       "       'CC(CN1C2=CC=CC=C2SC3=C1C=C(C=C3)OC)CN(C)C',\n",
       "       'CC(=O)NCC1CN(C(=O)O1)C2=CC(=C(C=C2)N3CCOCC3)F',\n",
       "       'C1CC(N(C1)C(=O)C(CCCCN)NC(CCC2=CC=CC=C2)C(=O)O)C(=O)O',\n",
       "       'CN(CCCN1C2=CC=CC=C2CCC3=CC=CC=C31)CC(=O)C4=CC=C(C=C4)Cl',\n",
       "       'CN(C)C(=O)C(CC[NH+]1CCC(CC1)(C2=CC=C(C=C2)Cl)O)(C3=CC=CC=C3)C4=CC=CC=C4',\n",
       "       'CCOC(=O)N1CCC(=C2C3=C(CCC4=C2N=CC=C4)C=C(C=C3)Cl)CC1',\n",
       "       'C1=CC=C(C(=C1)C2=NC(C(=O)NC3=C2C=C(C=C3)Cl)O)Cl',\n",
       "       'CCCCC1=NC(=C(N1CC2=CC=C(C=C2)C3=CC=CC=C3C4=NNN=N4)CO)Cl',\n",
       "       'CCC(C)C(=O)OC1CC(C=C2C1C(C(C=C2)C)CCC3CC(CC(=O)O3)O)C',\n",
       "       'CC(C1=CC=C(C=C1)CC2CCCC2=O)C(=O)O',\n",
       "       'CCN(CC)C(=O)C1CN(C2CC3=CNC4=CC=CC(=C34)C2=C1)C',\n",
       "       'CNCCCC12CCC(C3=CC=CC=C31)C4=CC=CC=C24',\n",
       "       'CC(C1CCC2C1(CCCC2=CC=C3CC(CC(C3=C)O)O)C)OCCC(C)(C)O',\n",
       "       'COC(=O)NC1=NC2=C(N1)C=C(C=C2)C(=O)C3=CC=CC=C3',\n",
       "       'CC1=CC(=CC=C1)CN2CCN(CC2)C(C3=CC=CC=C3)C4=CC=C(C=C4)Cl',\n",
       "       'CC1CC2C(CCC3(C2CCC3(C(=O)C)OC(=O)C)C)C4(C1=CC(=O)CC4)C',\n",
       "       'C1CCNC(C1)C(C2=CC(=NC3=C2C=CC=C3C(F)(F)F)C(F)(F)F)O',\n",
       "       'CC1=CC2C(CCC3(C2CCC3(C(=O)C)OC(=O)C)C)C4(C1=CC(=O)CC4)C',\n",
       "       'CC12CC3CC(C1)(CC(C3)(C2)N)C',\n",
       "       'CC1=C(C(=O)C2=CC=CC=C2C1=O)CC=C(C)CCC=C(C)CCC=C(C)CCC=C(C)C',\n",
       "       'CCOC(=O)C1(CCN(CC1)C)C2=CC=CC=C2',\n",
       "       'CC1=C(C(=CC=C1)C)NC(=O)C2CCCCN2C',\n",
       "       'CC1CC2C3CCC4=CC(=O)C=CC4(C3C(=O)CC2(C1(C(=O)CO)O)C)C',\n",
       "       'CCCC(C)(COC(=O)N)COC(=O)N', 'CN(C)C(=N)N=C(N)N',\n",
       "       'COC1=CC=CC=C1OCC(COC(=O)N)O',\n",
       "       'CN(CC1=CN=C2C(=N1)C(=NC(=N2)N)N)C3=CC=C(C=C3)C(=O)NC(CCC(=O)O)C(=O)O',\n",
       "       'CC(CC1=CC(=C(C=C1)O)O)(C(=O)O)N',\n",
       "       'CCC(CO)NC(=O)C1CN(C2CC3=CNC4=CC=CC(=C34)C2=C1)C',\n",
       "       'COC(=O)C(C1CCCCN1)C2=CC=CC=C2',\n",
       "       'CC1CC2C3CCC(C3(CC(C2C4(C1=CC(=O)C=C4)C)O)C)(C(=O)CO)O',\n",
       "       'CC12CCC(=O)C=C1CCC3C2CCC4(C3CCC4(C)O)C',\n",
       "       'CC1C(C(CC(O1)OC2C(OC(CC2O)OC3C(OC(CC3O)OC4CCC5(C(C4)CCC6C5CC(C7(C6(CCC7C8=CC(=O)OC8)O)C)O)C)C)C)O)OC',\n",
       "       'CC1NC2=CC(=C(C=C2C(=O)N1C3=CC=CC=C3C)S(=O)(=O)N)Cl',\n",
       "       'CC(C)NCC(COC1=CC=C(C=C1)CCOC)O', 'CC1=NC=C(N1CCO)[N+](=O)[O-]',\n",
       "       'C1=CC(=C(C=C1Cl)Cl)COC(CN2C=CN=C2)C3=C(C=C(C=C3)Cl)Cl',\n",
       "       'CC1=NC=C2N1C3=C(C=C(C=C3)Cl)C(=NC2)C4=CC=CC=C4F',\n",
       "       'COC1=CC(=C(C=C1)OC)C(CNC(=O)CN)O',\n",
       "       'CN(C)C1C2CC3CC4=C(C=CC(=C4C(=C3C(=O)C2(C(=O)C(=C(N)O)C1=O)O)O)O)N(C)C',\n",
       "       'C1CCN(CC1)C2=NC(=N)N(C(=C2)N)O',\n",
       "       'C1=CC(=C2C(=C1NCCNCCO)C(=O)C3=C(C=CC(=C3C2=O)O)O)NCCNCCO',\n",
       "       'C1=NC(=C(N1C2C(C(C(O2)CO)O)O)O)C(=O)N',\n",
       "       'C1=CC=C(C=C1)C(C2=CC=CC=C2)S(=O)CC(=O)N',\n",
       "       'CC1CC2C3CCC4=CC(=O)C=CC4(C3(C(CC2(C1(C(=O)CCl)OC(=O)C5=CC=CO5)C)O)Cl)C',\n",
       "       'COC1(C2N(C1=O)C(=C(CO2)CSC3=NN=NN3CCO)C(=O)O)NC(=O)CSC(F)F',\n",
       "       'CN1CCC23C4C1CC5=C2C(=C(C=C5)O)OC3C(C=C4)O',\n",
       "       'CC1=C(C(=C(C2=C1COC2=O)O)CC=C(C)CCC(=O)OCCN3CCOCC3)OC',\n",
       "       'CC1=C(C(=C(C2=C1COC2=O)O)CC=C(C)CCC(=O)O)OC',\n",
       "       'CC(=O)CCC1=CC2=C(C=C1)C=C(C=C2)OC',\n",
       "       'COC1=CC=CC=C1N2CCN(CC2)CC(COC3=CC=CC4=CC=CC=C43)O',\n",
       "       'C1CC(C1)CN2CCC34C5C(CCC3(C2CC6=C4C(=C(C=C6)O)O5)O)O',\n",
       "       'C=CCN1CCC23C4C(=O)CCC2(C1CC5=C3C(=C(C=C5)O)O4)O',\n",
       "       'C1CC1CN2CCC34C5C(=O)CCC3(C2CC6=C4C(=C(C=C6)O)O5)O',\n",
       "       'CCCCCCCCCC(=O)OC1CCC2C1(CCC3C2CCC4=CC(=O)CCC34)C',\n",
       "       'CNS(=O)(=O)CCC1=CC2=C(C=C1)NC=C2C3CCN(CC3)C',\n",
       "       'CC(C)C1CCC(CC1)C(=O)NC(CC2=CC=CC=C2)C(=O)O',\n",
       "       'CCC1=NN(C(=O)N1CCOC2=CC=CC=C2)CCCN3CCN(CC3)C4=CC(=CC=C4)Cl',\n",
       "       'CC1=C(C=CC=C1O)C(=O)NC(CSC2=CC=CC=C2)C(CN3CC4CCCCC4CC3C(=O)NC(C)(C)C)O',\n",
       "       'CC1=C2C(=NC=C1)N(C3=C(C=CC=N3)C(=O)N2)C4CC4',\n",
       "       'CC1=C(C(C(=C(N1)C)C(=O)OCC[NH+](C)CC2=CC=CC=C2)C3=CC(=CC=C3)[N+](=O)[O-])C(=O)OC',\n",
       "       'CC1=C(C(C(=C(N1)C#N)C(=O)OC)C2=CC(=CC=C2)[N+](=O)[O-])C(=O)OC(C)C',\n",
       "       'CS(=O)(=O)NC1=C(C=C(C=C1)[N+](=O)[O-])OC2=CC=CC=C2',\n",
       "       'C1C(=O)NC2=C(C=C(C=C2)[N+](=O)[O-])C(=N1)C3=CC=CC=C3',\n",
       "       'CCOC(=O)C1=C(NC(=C(C1C2=CC(=CC=C2)[N+](=O)[O-])C(=O)OC)C)C',\n",
       "       'C1C(=O)NC(=O)N1N=CC2=CC=C(O2)[N+](=O)[O-]',\n",
       "       'CNC(=C[N+](=O)[O-])NCCSCC1=CSC(=N1)CN(C)C',\n",
       "       'CC12CCC3C(C1CCC2(C#C)O)CCC4=CC(=O)CCC34',\n",
       "       'CCN1C=C(C(=O)C2=CC(=C(C=C21)N3CCNCC3)F)C(=O)O',\n",
       "       'CCC12CCC3C(C1CCC2(C#C)O)CCC4=CC(=O)CCC34',\n",
       "       'CNCCC=C1C2=CC=CC=C2CCC3=CC=CC=C31',\n",
       "       'CCOC1=C(C=CC(=C1)CC(=O)NC(CC(C)C)C2=CC=CC=C2N3CCCCC3)C(=O)O',\n",
       "       'CC1C=CC=CCCC=CC=CC=CC=CC(CC2C(C(CC(O2)(CC(C(CCC(CC(CC(CC(=O)OC(C(C1O)C)C)O)O)O)O)O)O)O)C(=O)O)OC3C(C(C(C(O3)C)O)N)O',\n",
       "       'CC1COC2=C3N1C=C(C(=O)C3=CC(=C2N4CCN(CC4)C)F)C(=O)O',\n",
       "       'CC1=CC2=C(NC3=CC=CC=C3N=C2S1)N4CCN(CC4)C',\n",
       "       'CC1=CN=C(C(=C1OC)C)CS(=O)C2=NC3=C(N2)C=C(C=C3)OC',\n",
       "       'CCCCCCCCCCCC(CC1C(C(=O)O1)CCCCCC)OC(=O)C(CC(C)C)NC=O',\n",
       "       'CC1=CC=CC=C1C(C2=CC=CC=C2)OCCN(C)C',\n",
       "       'CCC(CC)OC1C=C(CC(C1NC(=O)C)N)C(=O)OCC',\n",
       "       'C1CCC(C(C1)[NH-])[NH-].C(=O)(C(=O)O)O.[Pt+2]',\n",
       "       'C1=CC=C(C=C1)C2=C(OC(=N2)CCC(=O)O)C3=CC=CC=C3',\n",
       "       'C1CN(CCN1CCCN2C3=CC=CC=C3NC2=O)C(C4=CC=CC=C4)C5=CC=CC=C5',\n",
       "       'C1=CC=C(C=C1)C2=NC(C(=O)NC3=C2C=C(C=C3)Cl)O',\n",
       "       'CCN(CC)CC#CCOC(=O)C(C1CCCCC1)(C2=CC=CC=C2)O',\n",
       "       'CN1CCC23C4C(=O)CCC2(C1CC5=C3C(=C(C=C5)OC)O4)O',\n",
       "       'CC1=C2C(C(=O)C3(C(CC4C(C3C(C(C2(C)C)(CC1OC(=O)C(C(C5=CC=CC=C5)NC(=O)C6=CC=CC=C6)O)O)OC(=O)C7=CC=CC=C7)(CO4)OC(=O)C)O)C)OC(=O)C',\n",
       "       'C(CN)C(O)(P(=O)(O)O)P(=O)(O)O',\n",
       "       'CC(=O)OC1CC2CCC3C(C2(CC1[N+]4(CCCCC4)C)C)CCC5(C3CC(C5OC(=O)C)[N+]6(CCCCC6)C)C',\n",
       "       'CC(C)(CO)C(C(=O)NCCCO)O',\n",
       "       'C1CNCC(C1C2=CC=C(C=C2)F)COC3=CC4=C(C=C3)OCO4',\n",
       "       'CC(C)(C(C(=O)O)N)S',\n",
       "       'CC1(C(N2C(S1)C(C2=O)NC(=O)COC3=CC=CC=C3)C(=O)[O-])C',\n",
       "       'CC1C2CC3=C(C1(CCN2CC=C(C)C)C)C=C(C=C3)O',\n",
       "       'CC(=O)CCCCN1C(=O)C2=C(N=CN2C)N(C1=O)C',\n",
       "       'CCCN1CC(CC2C1CC3=CNC4=CC=CC2=C34)CSC',\n",
       "       'C1CN(CCC1O)CCCN2C3=CC=CC=C3SC4=C2C=C(C=C4)C#N',\n",
       "       'CCOC1=CC=C(C=C1)NC(=O)C',\n",
       "       'CC(C(=O)NC1C2N(C1=O)C(C(S2)(C)C)C(=O)[O-])OC3=CC=CC=C3',\n",
       "       'CCC1(C(=O)NC(=O)NC1=O)C2=CC=CC=C2', 'CNCC(C1=CC(=CC=C1)O)O',\n",
       "       'CC1=NC(=C(C(=N1)Cl)NC2=NCCN2)OC',\n",
       "       'CC1=C(C(=O)C2=CC=CC=C2C1=O)CC=C(C)CCCC(C)CCCC(C)CCCC(C)C',\n",
       "       'CCC1C(COC1=O)CC2=CN=CN2C', 'CC1=C(C(=CC=C1)C)NC(=O)CC23CCCN2CCC3',\n",
       "       'CC1CC(=O)NN=C1C2=CC3=C(C=C2)N=C(N3)C4=CC=C(C=C4)OC',\n",
       "       'CC(C)NCC(COC1=CC=CC2=C1C=CN2)O',\n",
       "       'C1CCN(CC1)C2(CCN(CC2)CCCC(=O)C3=CC=C(C=C3)F)C(=O)N',\n",
       "       'CC1(C(N2C(S1(=O)=O)CC2=O)C(=O)O)CN3C=CN=N3',\n",
       "       'C1CC(=O)N(C1)CC(=O)N', 'CC(C)(C)NCC(C1=NC(=C(C=C1)O)CO)O',\n",
       "       'C1CCN(C1)C2=C(C(=CC(=C2)C(=O)O)S(=O)(=O)N)OC3=CC=CC=C3',\n",
       "       'C1CN(CCN1CC2=CC3=C(C=C2)OCO3)C4=NC=CC=N4',\n",
       "       'CN1C(=C(NC2=CC=CC=N2)O)C(=O)C3=CC=CC=C3S1(=O)=O', '[Cl-].[K+]',\n",
       "       'CCCNC1CCC2=C(C1)SC(=N2)N',\n",
       "       'CCC(C)C(=O)OC1CC(C=C2C1C(C(C=C2)C)CCC(CC(CC(=O)O)O)O)O',\n",
       "       'C1CC1CN2C(=O)CN=C(C3=C2C=CC(=C3)Cl)C4=CC=CC=C4',\n",
       "       'COC1=C(C=C2C(=C1)C(=NC(=N2)N3CCN(CC3)C(=O)C4=CC=CO4)N)OC',\n",
       "       'CC12CC(C3C(C1CCC2(C(=O)CO)O)CCC4=CC(=O)C=CC34C)O',\n",
       "       'CC(=O)OCC(=O)C1(CCC2C1(CC(C3C2CCC4=CC(=O)C=CC34C)O)C)O',\n",
       "       'CC12CC(C3C(C1CCC2(C(=O)COP(=O)(O)O)O)CCC4=CC(=O)C=CC34C)O',\n",
       "       'CCC1(C(=O)NCNC1=O)C2=CC=CC=C2',\n",
       "       'CCCN(CCC)S(=O)(=O)C1=CC=C(C=C1)C(=O)O',\n",
       "       'CC(C)NC(=O)C1=CC=C(C=C1)CNNC',\n",
       "       'CC(=O)C1CCC2C1(CCC3C2CCC4=CC(=O)CCC34C)C',\n",
       "       'CN(C)CCCN1C2=CC=CC=C2SC3=CC=CC=C31',\n",
       "       'CCCNCC(COC1=CC=CC=C1C(=O)CCC2=CC=CC=C2)O',\n",
       "       'CCC(=O)C1=CC2=C(C=C1)SC3=CC=CC=C3N2CC(C)N(C)C',\n",
       "       'CCCOC(C1=CC=CC=C1)(C2=CC=CC=C2)C(=O)OC3CCN(CC3)C',\n",
       "       'CC(C)C1=C(C(=CC=C1)C(C)C)O', 'CC(C)NCC(COC1=CC=CC2=CC=CC=C21)O',\n",
       "       'C[N+]1=CC=CC(=C1)OC(=O)N(C)C',\n",
       "       'C1CN(CCN1CCOCCO)C2=NC3=CC=CC=C3SC4=CC=CC=C42',\n",
       "       'CCOC(=O)C(CCC1=CC=CC=C1)NC(C)C(=O)N2CC3=CC=CC=C3CC2C(=O)O',\n",
       "       'CC1=C(C=CN=C1CS(=O)C2=NC3=CC=CC=C3N2)OCCCOC',\n",
       "       'CC(C(C1=CC=CC=C1)O)NC',\n",
       "       'C1CCN(CC1)CCOC2=CC=C(C=C2)C(=O)C3=C(SC4=C3C=CC(=C4)O)C5=CC=C(C=C5)O',\n",
       "       'CCOC(=O)C(CCC1=CC=CC=C1)NC(C)C(=O)N2C3CCCC3CC2C(=O)O',\n",
       "       'CNC(=C[N+](=O)[O-])NCCSCC1=CC=C(O1)CN(C)C',\n",
       "       'CC1CCC2CC(C(=CC=CC=CC(CC(C(=O)C(C(C(=CC(C(=O)CC(OC(=O)C3CCCCN3C(=O)C(=O)C1(O2)O)C(C)CC4CCC(C(C4)OC)O)C)C)O)OC)C)C)C)OC',\n",
       "       'C1=CC=C2C(=C1)C(=CC(=O)N2)CC(C(=O)O)NC(=O)C3=CC=C(C=C3)Cl',\n",
       "       'C1=NC(=NN1C2C(C(C(O2)CO)O)O)C(=O)N',\n",
       "       'CC1=C(C(=O)N2CCCCC2=N1)CCN3CCC(CC3)C4=NOC5=C4C=CC(=C5)F',\n",
       "       'CC(C)C1=NC(=CS1)CN(C)C(=O)NC(C(C)C)C(=O)NC(CC2=CC=CC=C2)CC(C(CC3=CC=CC=C3)NC(=O)OCC4=CN=CS4)O',\n",
       "       'CCN(C)C(=O)OC1=CC=CC(=C1)C(C)N(C)C',\n",
       "       'CN(C)CCC1=CNC2=C1C=C(C=C2)CN3C=NC=N3',\n",
       "       'CS(=O)(=O)C1=CC=C(C=C1)C2=C(C(=O)OC2)C3=CC=CC=C3',\n",
       "       'CCCN(CCC)CCC1=C2CC(=O)NC2=CC=C1',\n",
       "       'CC(=O)OCC(=O)NCCCOC1=CC=CC(=C1)CN2CCCCC2',\n",
       "       'CCC1C(C(C(C(=NOCOCCOC)C(CC(C(C(C(C(C(=O)O1)C)OC2CC(C(C(O2)C)O)(C)OC)C)OC3C(C(CC(O3)C)N(C)C)O)(C)O)C)C)O)(C)O',\n",
       "       'C1=CC=C(C=C1)CCCCOCCCCCCNCC(C2=CC(=C(C=C2)O)CO)O',\n",
       "       'CC1=CN(C(=O)NC1=O)C2C=CC(O2)CO',\n",
       "       'CN(C)CC(COC1=CC=CC=C1CCC2=CC(=CC=C2)OC)OC(=O)CCC(=O)O',\n",
       "       'CC(CC1=CC=CC=C1)N(C)CC#C',\n",
       "       'C1=CC2=C(C(=C1)OC3C(C(C(C(O3)CO)O)O)O)C(=O)C4=C(C2C5C6=C(C(=CC=C6)OC7C(C(C(C(O7)CO)O)O)O)C(=O)C8=C5C=C(C=C8O)C(=O)O)C=C(C=C4O)C(=O)O',\n",
       "       'CNC1CCC(C2=CC=CC=C12)C3=CC(=C(C=C3)Cl)Cl',\n",
       "       'C(OC(C(F)(F)F)C(F)(F)F)F',\n",
       "       'CC(C)CC(C1(CCC1)C2=CC=C(C=C2)Cl)N(C)C',\n",
       "       'CCCC1=NN(C2=C1NC(=NC2=O)C3=C(C=CC(=C3)S(=O)(=O)N4CCN(CC4)C)OCC)C',\n",
       "       'COC1=C(C=CC(=C1)C2C(OC3=C(O2)C=C(C=C3)C4C(C(=O)C5=C(C=C(C=C5O4)O)O)O)CO)O',\n",
       "       'C1=CN=C(N=C1)NS(=O)(=O)C2=CC=C(C=C2)N', '[Na+].[Cl-]',\n",
       "       '[Na+].[I-]',\n",
       "       'CC(=CCOC1=CC=C(C=C1)C=CC(=O)C2=C(C=C(C=C2)OCC=C(C)C)OCC(=O)O)C',\n",
       "       'CC(C)NCC(C1=CC=C(C=C1)NS(=O)(=O)C)O',\n",
       "       'CC(=O)SC1CC2=CC(=O)CCC2(C3C1C4CCC5(C4(CC3)C)CCC(=O)O5)C',\n",
       "       'CC1=C(C=C(C=C1)NC(=O)C2=CC=C(C=C2)CN3CCN(CC3)C)NC4=NC=CC(=N4)C5=CN=CC=C5',\n",
       "       'CC1C(C(C(O1)OC2C(C(C(C(C2O)O)N=C(N)N)O)N=C(N)N)OC3C(C(C(C(O3)CO)O)O)NC)(C=O)O',\n",
       "       'C[N+](C)(C)CCOC(=O)CCC(=O)OCC[N+](C)(C)C',\n",
       "       'C1=CC(=CC=C1N)S(=O)(=O)N',\n",
       "       'CCN1CCCC1CNC(=O)C2=C(C=CC(=C2)S(=O)(=O)N)OC',\n",
       "       'CCN1CCCC1CNC(=O)C2=C(C=CC(=C2)S(=O)(=O)CC)OC',\n",
       "       'CNS(=O)(=O)CC1=CC2=C(C=C1)NC=C2CCN(C)C',\n",
       "       'CCC(=C(C1=CC=CC=C1)C2=CC=C(C=C2)OCCN(C)C)C3=CC=CC=C3',\n",
       "       'C1CC2CC1C3C2C(=O)N(C3=O)CCCCN4CCN(CC4)C5=NC=CC=N5',\n",
       "       'CC1CN(CCN1)C2=C(C=C3C(=C2OC)N(C=C(C3=O)C(=O)O)C4CC4)F',\n",
       "       'CN1C(=O)N2C=NC(=C2N=N1)C(=O)N',\n",
       "       'CN1C(=C(NC2=CC=CC=N2)O)C(=O)C3=C(S1(=O)=O)C=CS3',\n",
       "       'CC(=CCCC(=CCCC(=CCCC(=CCCC(=O)C)C)C)C)C',\n",
       "       'CC(C)(C)C#CC=CCN(C)CC1=CC=CC2=CC=CC=C21',\n",
       "       'CC(C)(C)NCC(C1=CC(=CC(=C1)O)O)O',\n",
       "       'CC(C)N1CCN(CC1)C2=CC=C(C=C2)OCC3COC(O3)(CN4C=NC=N4)C5=C(C=C(C=C5)Cl)Cl',\n",
       "       'CC12CCC3C(C1CCC2O)CCC4=CC(=O)CCC34C',\n",
       "       'CCCCCCC(=O)OC1CCC2C1(CCC3C2CCC4=CC(=O)CCC34C)C',\n",
       "       'CC1(C2CC3C(C(=O)C(=C(N)O)C(=O)C3(C(=O)C2=C(C4=C1C=CC=C4O)O)O)N(C)C)O',\n",
       "       'C1CC(=O)NC(=O)C1N2C(=O)C3=CC=CC=C3C2=O',\n",
       "       'CN1CCCCC1CCN2C3=CC=CC=C3SC4=C2C=C(C=C4)SC',\n",
       "       'CC1=C(SC=C1)C(=CCCN2CCCC(C2)C(=O)O)C3=C(C=CS3)C',\n",
       "       'CCN(CC)CCNC(=O)C1=C(C=CC(=C1)S(=O)(=O)C)OC',\n",
       "       'CC(C1=CC=C(S1)C(=O)C2=CC=CC=C2)C(=O)O',\n",
       "       'CC1CC2=C(CCC(=O)C2)C3C1C4CCC(C4(CC3)C)(C#C)O',\n",
       "       'CC1(C(N2C(S1)C(C2=O)NC(=O)C(C3=CSC=C3)C(=O)O)C(=O)O)C',\n",
       "       'C1CN=C(N1)NC2=C(C=CC3=NSN=C32)Cl',\n",
       "       'C1C(C(C(C(C1N)OC2C(C(C(C(O2)CO)O)N)O)O)OC3C(CC(C(O3)CN)O)N)N',\n",
       "       'CC1=CC(=C(C=C1)O)C(CCN(C(C)C)C(C)C)C2=CC=CC=C2',\n",
       "       'CC1(OC2COC3(C(C2O1)OC(O3)(C)C)COS(=O)(=O)N)C',\n",
       "       'CCC1(C2=C(COC1=O)C(=O)N3CC4=C(C3=C2)N=C5C=CC(=C(C5=C4)CN(C)C)O)O',\n",
       "       'CN(C)CC1CCCCC1(C2=CC(=CC=C2)OC)O',\n",
       "       'CCOC(=O)C(CCC1=CC=CC=C1)NC(C)C(=O)N2C3CCCCC3CC2C(=O)O',\n",
       "       'C1CC(CCC1CN)C(=O)O',\n",
       "       'COC1=C(C=C(C=C1)C=CC(=O)NC2=CC=CC=C2C(=O)O)OC',\n",
       "       'C1C(C1N)C2=CC=CC=C2',\n",
       "       'C1CN(CCN1CCCN2C(=O)N3C=CC=CC3=N2)C4=CC(=CC=C4)Cl',\n",
       "       'CC1=C(C(CCC1)(C)C)C=CC(=CC=CC(=CC(=O)O)C)C',\n",
       "       'CC12CC(C3(C(C1CC(C2(C(=O)CO)O)O)CCC4=CC(=O)C=CC43C)F)O',\n",
       "       'C1=CC=C(C=C1)C2=NC3=C(N=C2N)N=C(N=C3N)N',\n",
       "       'CC1=NN=C2N1C3=C(C=C(C=C3)Cl)C(=NC2)C4=CC=CC=C4Cl',\n",
       "       'CN1CCN(CC1)CCCN2C3=CC=CC=C3SC4=C2C=C(C=C4)C(F)(F)F',\n",
       "       'CCC(COC(=O)C1=CC(=C(C(=C1)OC)OC)OC)(C2=CC=CC=C2)N(C)C',\n",
       "       'CN(C)CCOC1=CC=C(C=C1)CNC(=O)C2=CC(=C(C(=C2)OC)OC)OC',\n",
       "       'COC1=CC(=CC(=C1OC)OC)CC2=CN=C(N=C2N)N',\n",
       "       'CCN(CC1=CC=NC=C1)C(=O)C(CO)C2=CC=CC=C2',\n",
       "       'CC(C)C(C(=O)OCCOCN1C=NC2=C1NC(=NC2=O)N)N',\n",
       "       'CN(C)CC(C1=CC=C(C=C1)OC)C2(CCCCC2)O', 'C=CC(CCC(=O)O)N',\n",
       "       'CCC1=CC2CC(C3=C(CN(C2)C1)C4=CC=CC=C4N3)(C5=C(C=C6C(=C5)C78CCN9C7C(C=CC9)(C(C(C8N6C)(C(=O)OC)O)OC(=O)C)CC)OC)C(=O)OC',\n",
       "       'CC1=CC=CC=C1S(=O)(=O)NC(=O)C2=CC(=C(C=C2)CC3=CN(C4=C3C=C(C=C4)NC(=O)OC5CCCC5)C)OC',\n",
       "       'CC1=CN(C(=O)NC1=O)C2CC(C(O2)CO)N=[N+]=[N-]',\n",
       "       'CN(C)CCC1=CNC2=C1C=C(C=C2)CC3COC(=O)N3',\n",
       "       'CC1=CC=C(C=C1)C2=C(N3C=C(C=CC3=N2)C)CC(=O)N(C)C',\n",
       "       'C1=CC=C2C(=C1)C(=NO2)CS(=O)(=O)N',\n",
       "       'CN1CCN(CC1)C(=O)OC2C3=NC=CN=C3C(=O)N2C4=NC=C(C=C4)Cl',\n",
       "       'CC1=C(C(=O)C2=C(C1=O)N3C[C@H]4[C@@H]([C@@]3([C@@H]2COC(=O)N)OC)N4)N',\n",
       "       'CCC(C)C1C(=O)NC(C(=O)NC(C(=O)NC(CSSCC(C(=O)NC(C(=O)N1)CC2=CC=C(C=C2)O)N)C(=O)N3CCCC3C(=O)NC(CC(C)C)C(=O)NCC(=O)N)CC(=O)N)CCC(=O)N',\n",
       "       'CC(=O)O[C@]1(CC[C@@H]2[C@@]1(CC[C@H]3[C@H]2CCC4=CC(=O)CC[C@H]34)C)C#C',\n",
       "       'C[C@H]1C[C@H]2[C@@H]3CC[C@@]([C@]3(C[C@@H]([C@@H]2[C@@]4(C1=CC(=O)C=C4)C)O)C)(C(=O)COC(=O)C)O',\n",
       "       'CC[C@@]1(C[C@@H]2C[C@@](C3=C(CCN(C2)C1)C4=CC=CC=C4N3)(C5=C(C=C6C(=C5)[C@]78CCN9[C@H]7[C@@](C=CC9)([C@H]([C@@]([C@@H]8N6C=O)(C(=O)OC)O)OC(=O)C)CC)OC)C(=O)OC)O',\n",
       "       'CC12CCC3C(C1CCC2OC(=O)CCC4CCCC4)CCC5=CC(=O)CCC35C',\n",
       "       'CC(=O)[O-].CC(=O)[O-].[Ca+2]',\n",
       "       'CN1CCN(CC1)C(C2=CC=CC=C2)C3=CC=CC=C3',\n",
       "       'CCCCNC1=CC=C(C=C1)C(=O)OCCOCCOCCOCCOCCOCCOCCOCCOCCOC',\n",
       "       'C1=CC(=CC=C1C(=N)N)OCCCCCOC2=CC=C(C=C2)C(=N)N.C(CS(=O)(=O)O)O.C(CS(=O)(=O)O)O',\n",
       "       'C(=O)(O)[O-].[Na+]',\n",
       "       'CCOC1=C(C2=CC=CC=C2C=C1)C(=O)N[C@H]3[C@@H]4N(C3=O)[C@H](C(S4)(C)C)C(=O)O',\n",
       "       'CC(=O)CC(C1=CC=C(C=C1)[N+](=O)[O-])C2=C(OC3=CC=CC=C3C2=O)O',\n",
       "       'CN1C2=C(C(=O)N(C1=O)C)NC=N2.CN1C2=C(C(=O)N(C1=O)C)NC=N2.C(CN)N',\n",
       "       'CCC(C1=CC=CC=C1)C2=C(OC3=CC=CC=C3C2=O)O', 'C(CC(=O)O)CO',\n",
       "       'CC12CCC(=O)C=C1CCC3C2C(CC4(C3CC[C@@]4(C(=O)COC(=O)CCC5CCCC5)O)C)O',\n",
       "       'C[C@H]1C[C@@H]2[C@H](CC[C@]3([C@H]2CC[C@@]3(C(=O)C)O)C)[C@@]4(C1=CC(=O)CC4)C',\n",
       "       '[Li+].[Li+].C(=O)([O-])[O-]',\n",
       "       'CCCCC(CC)COC(=O)CC(C(=O)OCC(CC)CCCC)S(=O)(=O)O',\n",
       "       'CC1(O[C@@H]2C[C@H]3C4CCC5=CC(=O)C=CC5([C@H]4C(CC3([C@@]2(O1)C(=O)CO)C)O)C)C',\n",
       "       'C(C(=O)[O-])C(CC(=O)[O-])(C(=O)[O-])O.[K+].[K+].[K+]',\n",
       "       'C1=C(C(=C(C(=C1Cl)Cl)Cl)Cl)[N+](=O)[O-]',\n",
       "       'CCNC1=NC(=NC(=N1)SC)NC(C)(C)C', '[OH-].[OH-].[Mg+2]', 'O=[Zn]',\n",
       "       '[O-2].[O-2].[O-2].[As+3].[As+3]',\n",
       "       'CC1=CC(=CC(=C1)OCC2CNC(=O)O2)C',\n",
       "       'C1(=C(N=C(C(=N1)Cl)N)N)C(=O)N=C(N)N',\n",
       "       'C1CN(CCC1N2C3=CC=CC=C3NC2=O)CCCC(C4=CC=C(C=C4)F)C5=CC=C(C=C5)F',\n",
       "       'CCCCC(=O)O[C@@]1([C@H](C[C@@H]2[C@@]1(C[C@@H]([C@]3([C@H]2CCC4=CC(=O)C=C[C@@]43C)F)O)C)C)C(=O)CO',\n",
       "       'C1=CC=C2C(=C1)C(=O)OC23C4=C(C=C(C=C4)O)OC5=C3C=CC(=C5)O',\n",
       "       'CC12CCC3C(C1CCC2O)CCC4=C3C=CC(=C4)OC(=O)N(CCCl)CCCl',\n",
       "       'CC1=C[C@@H]2[C@H](CC[C@]3([C@H]2CC[C@@]3(C(=O)C)O)C)[C@@]4(C1=CC(=O)CC4)C',\n",
       "       'COC1=C(C(=C(C=C1)CN2CCNCC2)OC)OC',\n",
       "       'CC12CC[C@H]3C([C@@H]1CCC2=O)CCC4=C3C=CC(=C4)OS(=O)(=O)O.C1CNCCN1',\n",
       "       '[Fe]', '[Gd]',\n",
       "       'CC[C@]12CC[C@H]3[C@H]([C@@H]1CC[C@]2(C#C)O)CCC4=CC(=O)CC[C@H]34.C[C@]12CC[C@H]3[C@H]([C@@H]1CC[C@]2(C#C)O)CCC4=C3C=CC(=C4)O',\n",
       "       'CN1C(=O)CN=C(C2=C1C=CC(=C2)Cl)C3=CCCCC3',\n",
       "       'C1CC(N(C1)C(=O)C2CSSCCC(=O)NC(C(=O)NC(C(=O)NC(C(=O)NC(C(=O)N2)CC(=O)N)CCC(=O)N)CC3=CC=CC=C3)CC4=CC=C(C=C4)O)C(=O)NC(CCCN=C(N)N)C(=O)NCC(=O)N',\n",
       "       'CC12CCC3C(=CCC4=C3C=CC(=C4)OS(=O)(=O)O)C1CCC2=O',\n",
       "       'CC(CN1CC(=O)NC(=O)C1)N2CC(=O)NC(=O)C2', 'CCOC(=O)N1C=CN(C1=S)C',\n",
       "       'C(C(=O)O)C(CC(=O)[O-])(C(=O)[O-])O.[Fe]',\n",
       "       'C1C2=CC=CC=C2N(C3=CC=CC=C3C1=O)C(=O)N',\n",
       "       'CC(CCC1=CC=C(C=C1)O)NCCC2=CC(=C(C=C2)O)O',\n",
       "       'C1CC(C1)(C(=O)O)C(=O)O.N.N.[Pt]',\n",
       "       'CC(C)(C(=O)O)OC1=CC=C(C=C1)CCNC(=O)C2=CC=C(C=C2)Cl',\n",
       "       'CC(=O)O[C@H]1C[C@@H]2CC[C@@H]3[C@@H]([C@]2(C[C@@H]1N4CCCCC4)C)CC[C@]5([C@H]3C[C@@H]([C@@H]5OC(=O)C)[N+]6(CCCCC6)C)C',\n",
       "       'CC[C@@]1(C[C@@H]2C[C@@](C3=C(CCN(C2)C1)C4=CC=CC=C4N3)(C5=C(C=C6C(=C5)[C@]78CCN9[C@H]7[C@@](C=CC9)([C@H]([C@@]([C@@H]8N6C)(C(=O)N)O)O)CC)OC)C(=O)OC)O',\n",
       "       'CCC12CC(=C)C3C(C1CC[C@]2(C#C)O)CCC4=CC(=O)CCC34',\n",
       "       'CC1=CC(=C(C(=C1C=CC(=CC=CC(=CC(=O)O)C)C)C)C)OC',\n",
       "       'CCC(=O)N(C1=CC=CC=C1)C2(CCN(CC2)CCC3=CC=CS3)COC',\n",
       "       'C[C@@H]1[C@H]([C@@H]([C@H]([C@H](O1)O[C@@H]2[C@H](O[C@@H]([C@@H]([C@H]2O)O)O[C@@H]3[C@H](OC([C@@H]([C@H]3O)O)O)CO)CO)O)O)N[C@H]4C=C([C@H]([C@@H]([C@H]4O)O)O)CO',\n",
       "       'CC(=O)N(C)C1=C(C(=C(C(=C1I)C(=O)NCC(=O)NC2=C(C(=C(C(=C2I)C(=O)O)I)C(=O)NCCO)I)I)C(=O)NC)I.CNCC(C(C(C(CO)O)O)O)O',\n",
       "       'C[N+]1(CCC2=CC(=C(C=C2C1CC3=CC(=C(C=C3)OC)OC)OC)OC)CCC(=O)OCCCCCOC(=O)CC[N+]4(CCC5=CC(=C(C=C5C4CC6=CC(=C(C=C6)OC)OC)OC)OC)C.C1=CC=C(C=C1)S(=O)(=O)[O-].C1=CC=C(C=C1)S(=O)(=O)[O-]',\n",
       "       'CC(OC(=O)C)OC(=O)C1=C(CS[C@H]2N1C(=O)[C@H]2NC(=O)C(=NOC)C3=CC=CO3)COC(=O)N',\n",
       "       'CC(C)CC(C(=O)NC(CCCN=C(N)N)C(=O)N1CCCC1C(=O)NNC(=O)N)NC(=O)C(COC(C)(C)C)NC(=O)C(CC2=CC=C(C=C2)O)NC(=O)C(CO)NC(=O)C(CC3=CNC4=CC=CC=C43)NC(=O)C(CC5=CN=CN5)NC(=O)C6CCC(=O)N6',\n",
       "       'CCC(=O)N(C1=CC=CC=C1)C2(CCN(CC2)CCN3C(=O)N(N=N3)CC)COC',\n",
       "       'CCCCN1C[C@@H]([C@H]([C@@H]([C@H]1CO)O)O)O',\n",
       "       'C[C@H]([C@@H](CO)NC(=O)C1CSSCC(C(=O)NC(C(=O)NC(C(=O)NC(C(=O)NC(C(=O)N1)C(C)O)CCCCN)CC2=CNC3=CC=CC=C32)CC4=CC=CC=C4)NC(=O)C(CC5=CC=CC=C5)N)O'],\n",
       "      dtype=object)"
      ]
     },
     "execution_count": 6,
     "metadata": {},
     "output_type": "execute_result"
    }
   ],
   "source": [
    "train_dataset.ids"
   ]
  },
  {
   "cell_type": "code",
   "execution_count": 7,
   "metadata": {},
   "outputs": [],
   "source": [
    "#df['smiles'][0:5]"
   ]
  },
  {
   "cell_type": "code",
   "execution_count": 8,
   "metadata": {},
   "outputs": [],
   "source": [
    "# Get SMILES from file\n",
    "def getSMILES(filepath):\n",
    "    df = pd.read_csv(filepath)    \n",
    "    #smiles = list(df['SMILES or PubChem ID'].dropna())\n",
    "    smiles_df = df[['smiles']].dropna()\n",
    "    # some cases have 2 SMILES per compound, which I think are isomers (by looking at the molecular drawings)\n",
    "    # keeping only the first SMILE string:\n",
    "    #smiles = [x.split(';')[0] for x in smiles]\n",
    "    return smiles_df"
   ]
  },
  {
   "cell_type": "code",
   "execution_count": 9,
   "metadata": {},
   "outputs": [],
   "source": [
    "# Generate molecules from SMILES strings\n",
    "def generateEmbeddings(smiles_df, trained_model):\n",
    "    smiles = list(smiles_df['smiles'])\n",
    "    smiles = [x.split(';')[0] for x in smiles]\n",
    "    # SMILES to Mol\n",
    "    molecules = [Chem.MolFromSmiles(x) for x in smiles]\n",
    "    # Load previously trained mol2vec model\n",
    "    model = Word2Vec.load(trained_model)\n",
    "    # Convert molecules to sentences and then to embeddings\n",
    "    sentences = [mol2alt_sentence(x, 1) for x in molecules]\n",
    "    vectors = [DfVec(x) for x in sentences2vec(sentences, model, unseen='UNK')]\n",
    "    vec_df = pd.DataFrame(data=np.array([x.vec for x in vectors]))\n",
    "    vec_df.columns = ['mol2vec_' + str(x+1) for x in vec_df.columns.values]\n",
    "    vec_df.index = smiles_df.index.values\n",
    "    return pd.concat([smiles_df, vec_df], axis=1)"
   ]
  },
  {
   "cell_type": "code",
   "execution_count": 10,
   "metadata": {},
   "outputs": [],
   "source": [
    "def createDataset(original_data, embeddings_df, output):\n",
    "    original_df = pd.read_csv(original_data)\n",
    "    df = original_df.merge(embeddings_df, how='outer', on=\"smiles\")\n",
    "    df.to_csv(output, index=False)    "
   ]
  },
  {
   "cell_type": "code",
   "execution_count": 11,
   "metadata": {},
   "outputs": [],
   "source": [
    "train_smiles_from_offsides=train_dataset.ids\n",
    "valid_smiles_from_offsides=valid_dataset.ids\n",
    "test_smiles_from_offsides=test_dataset.ids"
   ]
  },
  {
   "cell_type": "code",
   "execution_count": 12,
   "metadata": {},
   "outputs": [
    {
     "data": {
      "text/plain": [
       "numpy.ndarray"
      ]
     },
     "execution_count": 12,
     "metadata": {},
     "output_type": "execute_result"
    }
   ],
   "source": [
    "type(train_smiles_from_offsides)"
   ]
  },
  {
   "cell_type": "code",
   "execution_count": 13,
   "metadata": {},
   "outputs": [],
   "source": [
    "train_smiles_from_offsides=pd.DataFrame(train_smiles_from_offsides,  columns=['smiles'])\n",
    "valid_smiles_from_offsides=pd.DataFrame(valid_smiles_from_offsides,  columns=['smiles'])\n",
    "test_smiles_from_offsides=pd.DataFrame(test_smiles_from_offsides,  columns=['smiles'])"
   ]
  },
  {
   "cell_type": "code",
   "execution_count": 14,
   "metadata": {},
   "outputs": [
    {
     "data": {
      "text/plain": [
       "704"
      ]
     },
     "execution_count": 14,
     "metadata": {},
     "output_type": "execute_result"
    }
   ],
   "source": [
    "len(train_smiles_from_offsides)"
   ]
  },
  {
   "cell_type": "code",
   "execution_count": 15,
   "metadata": {},
   "outputs": [
    {
     "name": "stdout",
     "output_type": "stream",
     "text": [
      "current directory is : /home/mamonteiro/source-code/Project-LEI/offsides\n",
      "Directory name is : offsides\n"
     ]
    }
   ],
   "source": [
    "import os\n",
    " \n",
    "dirpath = os.getcwd()\n",
    "print(\"current directory is : \" + dirpath)\n",
    "foldername = os.path.basename(dirpath)\n",
    "print(\"Directory name is : \" + foldername)"
   ]
  },
  {
   "cell_type": "code",
   "execution_count": 16,
   "metadata": {},
   "outputs": [
    {
     "name": "stderr",
     "output_type": "stream",
     "text": [
      "WARNING:smart_open.smart_open_lib:this function is deprecated, use smart_open.open instead\n",
      "WARNING:smart_open.smart_open_lib:this function is deprecated, use smart_open.open instead\n",
      "WARNING:smart_open.smart_open_lib:this function is deprecated, use smart_open.open instead\n",
      "WARNING:smart_open.smart_open_lib:this function is deprecated, use smart_open.open instead\n",
      "WARNING:smart_open.smart_open_lib:this function is deprecated, use smart_open.open instead\n",
      "WARNING:smart_open.smart_open_lib:this function is deprecated, use smart_open.open instead\n"
     ]
    }
   ],
   "source": [
    "#Estas 3 linhas deveriam ser feitas de outra maneira\n",
    "#Deveriamos fazer o mesmo com o dataset completo mas neste momento vai ficar assim pelo receio que tenho de nao ter o dataset dividido como suposto\n",
    "\n",
    "train_embeddings_generated_from_mol2vec = generateEmbeddings(train_smiles_from_offsides, '/home/mamonteiro/source-code/Project-LEI/mol2vec/examples/models/model_300dim.pkl')\n",
    "valid_embeddings_generated_from_mol2vec = generateEmbeddings(valid_smiles_from_offsides, '/home/mamonteiro/source-code/Project-LEI/mol2vec/examples/models/model_300dim.pkl')\n",
    "test_embeddings_generated_from_mol2vec = generateEmbeddings(test_smiles_from_offsides, '/home/mamonteiro/source-code/Project-LEI/mol2vec/examples/models/model_300dim.pkl')"
   ]
  },
  {
   "cell_type": "code",
   "execution_count": 17,
   "metadata": {},
   "outputs": [
    {
     "data": {
      "text/html": [
       "<div>\n",
       "<style scoped>\n",
       "    .dataframe tbody tr th:only-of-type {\n",
       "        vertical-align: middle;\n",
       "    }\n",
       "\n",
       "    .dataframe tbody tr th {\n",
       "        vertical-align: top;\n",
       "    }\n",
       "\n",
       "    .dataframe thead th {\n",
       "        text-align: right;\n",
       "    }\n",
       "</style>\n",
       "<table border=\"1\" class=\"dataframe\">\n",
       "  <thead>\n",
       "    <tr style=\"text-align: right;\">\n",
       "      <th></th>\n",
       "      <th>smiles</th>\n",
       "      <th>mol2vec_1</th>\n",
       "      <th>mol2vec_2</th>\n",
       "      <th>mol2vec_3</th>\n",
       "      <th>mol2vec_4</th>\n",
       "      <th>mol2vec_5</th>\n",
       "      <th>mol2vec_6</th>\n",
       "      <th>mol2vec_7</th>\n",
       "      <th>mol2vec_8</th>\n",
       "      <th>mol2vec_9</th>\n",
       "      <th>...</th>\n",
       "      <th>mol2vec_291</th>\n",
       "      <th>mol2vec_292</th>\n",
       "      <th>mol2vec_293</th>\n",
       "      <th>mol2vec_294</th>\n",
       "      <th>mol2vec_295</th>\n",
       "      <th>mol2vec_296</th>\n",
       "      <th>mol2vec_297</th>\n",
       "      <th>mol2vec_298</th>\n",
       "      <th>mol2vec_299</th>\n",
       "      <th>mol2vec_300</th>\n",
       "    </tr>\n",
       "  </thead>\n",
       "  <tbody>\n",
       "    <tr>\n",
       "      <th>0</th>\n",
       "      <td>CC12CCC3C(C1CCC2=O)CC=C4C3(CCC(C4)O)C</td>\n",
       "      <td>-1.687902</td>\n",
       "      <td>-4.574107</td>\n",
       "      <td>-3.788245</td>\n",
       "      <td>0.820349</td>\n",
       "      <td>-1.165568</td>\n",
       "      <td>-7.593350</td>\n",
       "      <td>-8.685431</td>\n",
       "      <td>3.990403</td>\n",
       "      <td>0.837541</td>\n",
       "      <td>...</td>\n",
       "      <td>1.517185</td>\n",
       "      <td>14.211781</td>\n",
       "      <td>-2.282333</td>\n",
       "      <td>-1.685342</td>\n",
       "      <td>-10.677238</td>\n",
       "      <td>-8.447270</td>\n",
       "      <td>-10.454116</td>\n",
       "      <td>-1.177601</td>\n",
       "      <td>-10.021074</td>\n",
       "      <td>2.415180</td>\n",
       "    </tr>\n",
       "    <tr>\n",
       "      <th>1</th>\n",
       "      <td>C[N+](C)(C)CC(CC(=O)O)O</td>\n",
       "      <td>2.769547</td>\n",
       "      <td>-3.059868</td>\n",
       "      <td>-1.797269</td>\n",
       "      <td>-0.953987</td>\n",
       "      <td>4.924242</td>\n",
       "      <td>0.454827</td>\n",
       "      <td>-9.468398</td>\n",
       "      <td>1.997672</td>\n",
       "      <td>2.284252</td>\n",
       "      <td>...</td>\n",
       "      <td>-1.738315</td>\n",
       "      <td>-0.433908</td>\n",
       "      <td>6.375163</td>\n",
       "      <td>1.494671</td>\n",
       "      <td>-5.280170</td>\n",
       "      <td>-2.230168</td>\n",
       "      <td>3.010262</td>\n",
       "      <td>-5.875394</td>\n",
       "      <td>-4.850206</td>\n",
       "      <td>0.262021</td>\n",
       "    </tr>\n",
       "    <tr>\n",
       "      <th>2</th>\n",
       "      <td>C(CC(=O)O)CN</td>\n",
       "      <td>-0.599405</td>\n",
       "      <td>0.307458</td>\n",
       "      <td>-0.714178</td>\n",
       "      <td>-0.674214</td>\n",
       "      <td>2.840279</td>\n",
       "      <td>-0.157350</td>\n",
       "      <td>-3.893690</td>\n",
       "      <td>-0.316774</td>\n",
       "      <td>1.240166</td>\n",
       "      <td>...</td>\n",
       "      <td>-0.479649</td>\n",
       "      <td>2.350071</td>\n",
       "      <td>2.795008</td>\n",
       "      <td>2.045637</td>\n",
       "      <td>-3.803340</td>\n",
       "      <td>-0.811048</td>\n",
       "      <td>0.601341</td>\n",
       "      <td>-3.857245</td>\n",
       "      <td>-3.734070</td>\n",
       "      <td>-1.403350</td>\n",
       "    </tr>\n",
       "    <tr>\n",
       "      <th>3</th>\n",
       "      <td>C1C(N(C2=C(N1)NC(=NC2=O)N)C=O)CNC3=CC=C(C=C3)C...</td>\n",
       "      <td>1.644671</td>\n",
       "      <td>-4.325292</td>\n",
       "      <td>-5.132446</td>\n",
       "      <td>4.536877</td>\n",
       "      <td>2.365319</td>\n",
       "      <td>-1.383428</td>\n",
       "      <td>-16.086567</td>\n",
       "      <td>-2.104912</td>\n",
       "      <td>9.071654</td>\n",
       "      <td>...</td>\n",
       "      <td>-0.469195</td>\n",
       "      <td>12.227261</td>\n",
       "      <td>11.296147</td>\n",
       "      <td>3.872406</td>\n",
       "      <td>-12.161841</td>\n",
       "      <td>-6.847059</td>\n",
       "      <td>-4.032226</td>\n",
       "      <td>-7.607767</td>\n",
       "      <td>-16.263073</td>\n",
       "      <td>-3.654300</td>\n",
       "    </tr>\n",
       "    <tr>\n",
       "      <th>4</th>\n",
       "      <td>CCCCCC(C=CC1C(CC(=O)C1CC=CCCCC(=O)O)O)O</td>\n",
       "      <td>-0.658838</td>\n",
       "      <td>-3.338789</td>\n",
       "      <td>-3.176840</td>\n",
       "      <td>-0.045156</td>\n",
       "      <td>6.762016</td>\n",
       "      <td>-4.120831</td>\n",
       "      <td>-17.303051</td>\n",
       "      <td>-0.583435</td>\n",
       "      <td>3.757764</td>\n",
       "      <td>...</td>\n",
       "      <td>-7.855739</td>\n",
       "      <td>6.595695</td>\n",
       "      <td>7.846533</td>\n",
       "      <td>1.867607</td>\n",
       "      <td>-9.597700</td>\n",
       "      <td>-8.820236</td>\n",
       "      <td>-5.526588</td>\n",
       "      <td>-5.572998</td>\n",
       "      <td>-11.429805</td>\n",
       "      <td>-4.801989</td>\n",
       "    </tr>\n",
       "  </tbody>\n",
       "</table>\n",
       "<p>5 rows × 301 columns</p>\n",
       "</div>"
      ],
      "text/plain": [
       "                                              smiles  mol2vec_1  mol2vec_2  \\\n",
       "0              CC12CCC3C(C1CCC2=O)CC=C4C3(CCC(C4)O)C  -1.687902  -4.574107   \n",
       "1                            C[N+](C)(C)CC(CC(=O)O)O   2.769547  -3.059868   \n",
       "2                                       C(CC(=O)O)CN  -0.599405   0.307458   \n",
       "3  C1C(N(C2=C(N1)NC(=NC2=O)N)C=O)CNC3=CC=C(C=C3)C...   1.644671  -4.325292   \n",
       "4            CCCCCC(C=CC1C(CC(=O)C1CC=CCCCC(=O)O)O)O  -0.658838  -3.338789   \n",
       "\n",
       "   mol2vec_3  mol2vec_4  mol2vec_5  mol2vec_6  mol2vec_7  mol2vec_8  \\\n",
       "0  -3.788245   0.820349  -1.165568  -7.593350  -8.685431   3.990403   \n",
       "1  -1.797269  -0.953987   4.924242   0.454827  -9.468398   1.997672   \n",
       "2  -0.714178  -0.674214   2.840279  -0.157350  -3.893690  -0.316774   \n",
       "3  -5.132446   4.536877   2.365319  -1.383428 -16.086567  -2.104912   \n",
       "4  -3.176840  -0.045156   6.762016  -4.120831 -17.303051  -0.583435   \n",
       "\n",
       "   mol2vec_9  ...  mol2vec_291  mol2vec_292  mol2vec_293  mol2vec_294  \\\n",
       "0   0.837541  ...     1.517185    14.211781    -2.282333    -1.685342   \n",
       "1   2.284252  ...    -1.738315    -0.433908     6.375163     1.494671   \n",
       "2   1.240166  ...    -0.479649     2.350071     2.795008     2.045637   \n",
       "3   9.071654  ...    -0.469195    12.227261    11.296147     3.872406   \n",
       "4   3.757764  ...    -7.855739     6.595695     7.846533     1.867607   \n",
       "\n",
       "   mol2vec_295  mol2vec_296  mol2vec_297  mol2vec_298  mol2vec_299  \\\n",
       "0   -10.677238    -8.447270   -10.454116    -1.177601   -10.021074   \n",
       "1    -5.280170    -2.230168     3.010262    -5.875394    -4.850206   \n",
       "2    -3.803340    -0.811048     0.601341    -3.857245    -3.734070   \n",
       "3   -12.161841    -6.847059    -4.032226    -7.607767   -16.263073   \n",
       "4    -9.597700    -8.820236    -5.526588    -5.572998   -11.429805   \n",
       "\n",
       "   mol2vec_300  \n",
       "0     2.415180  \n",
       "1     0.262021  \n",
       "2    -1.403350  \n",
       "3    -3.654300  \n",
       "4    -4.801989  \n",
       "\n",
       "[5 rows x 301 columns]"
      ]
     },
     "execution_count": 17,
     "metadata": {},
     "output_type": "execute_result"
    }
   ],
   "source": [
    "train_embeddings_generated_from_mol2vec.head()"
   ]
  },
  {
   "cell_type": "code",
   "execution_count": 18,
   "metadata": {},
   "outputs": [
    {
     "data": {
      "text/plain": [
       "(704, 88, 89)"
      ]
     },
     "execution_count": 18,
     "metadata": {},
     "output_type": "execute_result"
    }
   ],
   "source": [
    "len(train_embeddings_generated_from_mol2vec),len(valid_embeddings_generated_from_mol2vec),len(test_embeddings_generated_from_mol2vec) "
   ]
  },
  {
   "cell_type": "code",
   "execution_count": 19,
   "metadata": {},
   "outputs": [
    {
     "data": {
      "text/plain": [
       "'CC12CCC3C(C1CCC2=O)CC=C4C3(CCC(C4)O)C'"
      ]
     },
     "execution_count": 19,
     "metadata": {},
     "output_type": "execute_result"
    }
   ],
   "source": [
    "train_embeddings_generated_from_mol2vec.iloc[0][0]"
   ]
  },
  {
   "cell_type": "code",
   "execution_count": 20,
   "metadata": {},
   "outputs": [],
   "source": [
    "import os\n",
    "import deepchem as dc\n",
    "\n",
    "\n",
    "#current_dir = os.path.dirname(os.path.realpath(\"__file__\"))\n",
    "#dataset_file = \"medium_muv.csv.gz\"\n",
    "\n",
    "\n",
    "#dataset = dc.utils.save.load_from_disk('/home/mamonteiro/source-code/Project-LEI/SIDER/sider_embeddings.csv')\n",
    "#print(\"Columns of dataset: %s\" % str(dataset.columns.values))\n",
    "#print(\"Number of examples in dataset: %s\" % str(dataset.shape[0]))"
   ]
  },
  {
   "cell_type": "markdown",
   "metadata": {},
   "source": [
    "The dataset that we must manipulate is thhe follwoing one: dataset\n",
    "\n",
    "In this dataset has as columns the SMILES\n",
    "                               The side efects\n",
    "                               and finally the embeddings\n",
    "        \n",
    "We need to split this dataset in order to provide this data to multitask model"
   ]
  },
  {
   "cell_type": "code",
   "execution_count": 21,
   "metadata": {},
   "outputs": [],
   "source": [
    "#dataset=dataset.drop(['smiles'], axis=1)"
   ]
  },
  {
   "cell_type": "code",
   "execution_count": 22,
   "metadata": {},
   "outputs": [],
   "source": [
    "train_embeddings=train_embeddings_generated_from_mol2vec.drop(['smiles'], axis=1)\n",
    "valid_embeddings=valid_embeddings_generated_from_mol2vec.drop(['smiles'], axis=1)\n",
    "test_embeddings=test_embeddings_generated_from_mol2vec.drop(['smiles'], axis=1)"
   ]
  },
  {
   "cell_type": "code",
   "execution_count": 23,
   "metadata": {},
   "outputs": [
    {
     "data": {
      "text/html": [
       "<div>\n",
       "<style scoped>\n",
       "    .dataframe tbody tr th:only-of-type {\n",
       "        vertical-align: middle;\n",
       "    }\n",
       "\n",
       "    .dataframe tbody tr th {\n",
       "        vertical-align: top;\n",
       "    }\n",
       "\n",
       "    .dataframe thead th {\n",
       "        text-align: right;\n",
       "    }\n",
       "</style>\n",
       "<table border=\"1\" class=\"dataframe\">\n",
       "  <thead>\n",
       "    <tr style=\"text-align: right;\">\n",
       "      <th></th>\n",
       "      <th>mol2vec_1</th>\n",
       "      <th>mol2vec_2</th>\n",
       "      <th>mol2vec_3</th>\n",
       "      <th>mol2vec_4</th>\n",
       "      <th>mol2vec_5</th>\n",
       "      <th>mol2vec_6</th>\n",
       "      <th>mol2vec_7</th>\n",
       "      <th>mol2vec_8</th>\n",
       "      <th>mol2vec_9</th>\n",
       "      <th>mol2vec_10</th>\n",
       "      <th>...</th>\n",
       "      <th>mol2vec_291</th>\n",
       "      <th>mol2vec_292</th>\n",
       "      <th>mol2vec_293</th>\n",
       "      <th>mol2vec_294</th>\n",
       "      <th>mol2vec_295</th>\n",
       "      <th>mol2vec_296</th>\n",
       "      <th>mol2vec_297</th>\n",
       "      <th>mol2vec_298</th>\n",
       "      <th>mol2vec_299</th>\n",
       "      <th>mol2vec_300</th>\n",
       "    </tr>\n",
       "  </thead>\n",
       "  <tbody>\n",
       "    <tr>\n",
       "      <th>0</th>\n",
       "      <td>-1.687902</td>\n",
       "      <td>-4.574107</td>\n",
       "      <td>-3.788245</td>\n",
       "      <td>0.820349</td>\n",
       "      <td>-1.165568</td>\n",
       "      <td>-7.593350</td>\n",
       "      <td>-8.685431</td>\n",
       "      <td>3.990403</td>\n",
       "      <td>0.837541</td>\n",
       "      <td>-1.743650</td>\n",
       "      <td>...</td>\n",
       "      <td>1.517185</td>\n",
       "      <td>14.211781</td>\n",
       "      <td>-2.282333</td>\n",
       "      <td>-1.685342</td>\n",
       "      <td>-10.677238</td>\n",
       "      <td>-8.447270</td>\n",
       "      <td>-10.454116</td>\n",
       "      <td>-1.177601</td>\n",
       "      <td>-10.021074</td>\n",
       "      <td>2.415180</td>\n",
       "    </tr>\n",
       "    <tr>\n",
       "      <th>1</th>\n",
       "      <td>2.769547</td>\n",
       "      <td>-3.059868</td>\n",
       "      <td>-1.797269</td>\n",
       "      <td>-0.953987</td>\n",
       "      <td>4.924242</td>\n",
       "      <td>0.454827</td>\n",
       "      <td>-9.468398</td>\n",
       "      <td>1.997672</td>\n",
       "      <td>2.284252</td>\n",
       "      <td>-0.435059</td>\n",
       "      <td>...</td>\n",
       "      <td>-1.738315</td>\n",
       "      <td>-0.433908</td>\n",
       "      <td>6.375163</td>\n",
       "      <td>1.494671</td>\n",
       "      <td>-5.280170</td>\n",
       "      <td>-2.230168</td>\n",
       "      <td>3.010262</td>\n",
       "      <td>-5.875394</td>\n",
       "      <td>-4.850206</td>\n",
       "      <td>0.262021</td>\n",
       "    </tr>\n",
       "    <tr>\n",
       "      <th>2</th>\n",
       "      <td>-0.599405</td>\n",
       "      <td>0.307458</td>\n",
       "      <td>-0.714178</td>\n",
       "      <td>-0.674214</td>\n",
       "      <td>2.840279</td>\n",
       "      <td>-0.157350</td>\n",
       "      <td>-3.893690</td>\n",
       "      <td>-0.316774</td>\n",
       "      <td>1.240166</td>\n",
       "      <td>-1.818650</td>\n",
       "      <td>...</td>\n",
       "      <td>-0.479649</td>\n",
       "      <td>2.350071</td>\n",
       "      <td>2.795008</td>\n",
       "      <td>2.045637</td>\n",
       "      <td>-3.803340</td>\n",
       "      <td>-0.811048</td>\n",
       "      <td>0.601341</td>\n",
       "      <td>-3.857245</td>\n",
       "      <td>-3.734070</td>\n",
       "      <td>-1.403350</td>\n",
       "    </tr>\n",
       "    <tr>\n",
       "      <th>3</th>\n",
       "      <td>1.644671</td>\n",
       "      <td>-4.325292</td>\n",
       "      <td>-5.132446</td>\n",
       "      <td>4.536877</td>\n",
       "      <td>2.365319</td>\n",
       "      <td>-1.383428</td>\n",
       "      <td>-16.086567</td>\n",
       "      <td>-2.104912</td>\n",
       "      <td>9.071654</td>\n",
       "      <td>2.479271</td>\n",
       "      <td>...</td>\n",
       "      <td>-0.469195</td>\n",
       "      <td>12.227261</td>\n",
       "      <td>11.296147</td>\n",
       "      <td>3.872406</td>\n",
       "      <td>-12.161841</td>\n",
       "      <td>-6.847059</td>\n",
       "      <td>-4.032226</td>\n",
       "      <td>-7.607767</td>\n",
       "      <td>-16.263073</td>\n",
       "      <td>-3.654300</td>\n",
       "    </tr>\n",
       "    <tr>\n",
       "      <th>4</th>\n",
       "      <td>-0.658838</td>\n",
       "      <td>-3.338789</td>\n",
       "      <td>-3.176840</td>\n",
       "      <td>-0.045156</td>\n",
       "      <td>6.762016</td>\n",
       "      <td>-4.120831</td>\n",
       "      <td>-17.303051</td>\n",
       "      <td>-0.583435</td>\n",
       "      <td>3.757764</td>\n",
       "      <td>-3.908807</td>\n",
       "      <td>...</td>\n",
       "      <td>-7.855739</td>\n",
       "      <td>6.595695</td>\n",
       "      <td>7.846533</td>\n",
       "      <td>1.867607</td>\n",
       "      <td>-9.597700</td>\n",
       "      <td>-8.820236</td>\n",
       "      <td>-5.526588</td>\n",
       "      <td>-5.572998</td>\n",
       "      <td>-11.429805</td>\n",
       "      <td>-4.801989</td>\n",
       "    </tr>\n",
       "  </tbody>\n",
       "</table>\n",
       "<p>5 rows × 300 columns</p>\n",
       "</div>"
      ],
      "text/plain": [
       "   mol2vec_1  mol2vec_2  mol2vec_3  mol2vec_4  mol2vec_5  mol2vec_6  \\\n",
       "0  -1.687902  -4.574107  -3.788245   0.820349  -1.165568  -7.593350   \n",
       "1   2.769547  -3.059868  -1.797269  -0.953987   4.924242   0.454827   \n",
       "2  -0.599405   0.307458  -0.714178  -0.674214   2.840279  -0.157350   \n",
       "3   1.644671  -4.325292  -5.132446   4.536877   2.365319  -1.383428   \n",
       "4  -0.658838  -3.338789  -3.176840  -0.045156   6.762016  -4.120831   \n",
       "\n",
       "   mol2vec_7  mol2vec_8  mol2vec_9  mol2vec_10  ...  mol2vec_291  mol2vec_292  \\\n",
       "0  -8.685431   3.990403   0.837541   -1.743650  ...     1.517185    14.211781   \n",
       "1  -9.468398   1.997672   2.284252   -0.435059  ...    -1.738315    -0.433908   \n",
       "2  -3.893690  -0.316774   1.240166   -1.818650  ...    -0.479649     2.350071   \n",
       "3 -16.086567  -2.104912   9.071654    2.479271  ...    -0.469195    12.227261   \n",
       "4 -17.303051  -0.583435   3.757764   -3.908807  ...    -7.855739     6.595695   \n",
       "\n",
       "   mol2vec_293  mol2vec_294  mol2vec_295  mol2vec_296  mol2vec_297  \\\n",
       "0    -2.282333    -1.685342   -10.677238    -8.447270   -10.454116   \n",
       "1     6.375163     1.494671    -5.280170    -2.230168     3.010262   \n",
       "2     2.795008     2.045637    -3.803340    -0.811048     0.601341   \n",
       "3    11.296147     3.872406   -12.161841    -6.847059    -4.032226   \n",
       "4     7.846533     1.867607    -9.597700    -8.820236    -5.526588   \n",
       "\n",
       "   mol2vec_298  mol2vec_299  mol2vec_300  \n",
       "0    -1.177601   -10.021074     2.415180  \n",
       "1    -5.875394    -4.850206     0.262021  \n",
       "2    -3.857245    -3.734070    -1.403350  \n",
       "3    -7.607767   -16.263073    -3.654300  \n",
       "4    -5.572998   -11.429805    -4.801989  \n",
       "\n",
       "[5 rows x 300 columns]"
      ]
     },
     "execution_count": 23,
     "metadata": {},
     "output_type": "execute_result"
    }
   ],
   "source": [
    "train_embeddings.head()"
   ]
  },
  {
   "cell_type": "code",
   "execution_count": 24,
   "metadata": {},
   "outputs": [
    {
     "data": {
      "text/plain": [
       "False"
      ]
     },
     "execution_count": 24,
     "metadata": {},
     "output_type": "execute_result"
    }
   ],
   "source": [
    "train_embeddings.isnull().any().any()"
   ]
  },
  {
   "cell_type": "code",
   "execution_count": 25,
   "metadata": {},
   "outputs": [
    {
     "data": {
      "text/plain": [
       "300"
      ]
     },
     "execution_count": 25,
     "metadata": {},
     "output_type": "execute_result"
    }
   ],
   "source": [
    "len(train_embeddings.columns)"
   ]
  },
  {
   "cell_type": "code",
   "execution_count": 26,
   "metadata": {},
   "outputs": [
    {
     "data": {
      "text/plain": [
       "704"
      ]
     },
     "execution_count": 26,
     "metadata": {},
     "output_type": "execute_result"
    }
   ],
   "source": [
    "len(train_embeddings)"
   ]
  },
  {
   "cell_type": "code",
   "execution_count": 27,
   "metadata": {},
   "outputs": [],
   "source": [
    "NCA1 = 100\n",
    "NCA2 = 100\n",
    "DROPRATE = 0.2\n",
    "EP = 50\n",
    "BATCH_SIZE = 128\n",
    "VAL_RATIO = 0.1\n",
    "TEST_RATIO = 0.1"
   ]
  },
  {
   "cell_type": "code",
   "execution_count": 28,
   "metadata": {},
   "outputs": [],
   "source": [
    "# VERFICAR SE É NECESSÁRIO\n",
    "from deepchem.data.datasets import NumpyDataset # import NumpyDataset\n",
    "\n",
    "#NESTE MOMENTO NAO TENHO\n",
    "#dataset_with_weights = NumpyDataset(sideEfects) # creates numpy dataset object\n"
   ]
  },
  {
   "cell_type": "code",
   "execution_count": 29,
   "metadata": {},
   "outputs": [],
   "source": [
    "#dataset_with_weights"
   ]
  },
  {
   "cell_type": "code",
   "execution_count": 30,
   "metadata": {},
   "outputs": [],
   "source": [
    "train_embeddings_dataset = dc.data.NumpyDataset(train_embeddings,\n",
    "                                                train_dataset.y,\n",
    "                                                train_dataset.w,\n",
    "                                                train_dataset.ids)"
   ]
  },
  {
   "cell_type": "code",
   "execution_count": 31,
   "metadata": {},
   "outputs": [],
   "source": [
    "valid_embeddings_dataset = dc.data.NumpyDataset(valid_embeddings,\n",
    "                                                valid_dataset.y,\n",
    "                                                valid_dataset.w,\n",
    "                                                valid_dataset.ids)"
   ]
  },
  {
   "cell_type": "code",
   "execution_count": 32,
   "metadata": {},
   "outputs": [],
   "source": [
    "test_embeddings_dataset = dc.data.NumpyDataset(test_embeddings,\n",
    "                                                test_dataset.y,\n",
    "                                                test_dataset.w,\n",
    "                                                test_dataset.ids)"
   ]
  },
  {
   "cell_type": "code",
   "execution_count": 33,
   "metadata": {},
   "outputs": [],
   "source": [
    "nb_epochs=[50,100, 150, 200,250,300,400,500,1000]\n",
    "losses = []\n",
    "loss =0"
   ]
  },
  {
   "cell_type": "code",
   "execution_count": 34,
   "metadata": {},
   "outputs": [
    {
     "name": "stdout",
     "output_type": "stream",
     "text": [
      "WARNING:tensorflow:From /home/mamonteiro/anaconda3/envs/lei/lib/python3.6/site-packages/tensorflow/python/ops/resource_variable_ops.py:435: colocate_with (from tensorflow.python.framework.ops) is deprecated and will be removed in a future version.\n",
      "Instructions for updating:\n",
      "Colocations handled automatically by placer.\n"
     ]
    },
    {
     "name": "stderr",
     "output_type": "stream",
     "text": [
      "WARNING:tensorflow:From /home/mamonteiro/anaconda3/envs/lei/lib/python3.6/site-packages/tensorflow/python/ops/resource_variable_ops.py:435: colocate_with (from tensorflow.python.framework.ops) is deprecated and will be removed in a future version.\n",
      "Instructions for updating:\n",
      "Colocations handled automatically by placer.\n"
     ]
    },
    {
     "name": "stdout",
     "output_type": "stream",
     "text": [
      "Epoch 50 loss: 3075.037043\n",
      "Epoch 100 loss: 2661.236361\n",
      "Epoch 150 loss: 2530.917671\n",
      "Epoch 200 loss: 2449.768308\n",
      "Epoch 250 loss: 2360.078321\n",
      "WARNING:tensorflow:From /home/mamonteiro/anaconda3/envs/lei/lib/python3.6/site-packages/tensorflow/python/training/checkpoint_management.py:624: remove_checkpoint (from tensorflow.python.training.checkpoint_management) is deprecated and will be removed in a future version.\n",
      "Instructions for updating:\n",
      "Use standard file APIs to delete files with this prefix.\n"
     ]
    },
    {
     "name": "stderr",
     "output_type": "stream",
     "text": [
      "WARNING:tensorflow:From /home/mamonteiro/anaconda3/envs/lei/lib/python3.6/site-packages/tensorflow/python/training/checkpoint_management.py:624: remove_checkpoint (from tensorflow.python.training.checkpoint_management) is deprecated and will be removed in a future version.\n",
      "Instructions for updating:\n",
      "Use standard file APIs to delete files with this prefix.\n"
     ]
    },
    {
     "name": "stdout",
     "output_type": "stream",
     "text": [
      "Epoch 300 loss: 2311.119470\n",
      "Epoch 400 loss: 2253.138658\n",
      "Epoch 500 loss: 2198.767750\n",
      "Epoch 1000 loss: 2175.769902\n"
     ]
    }
   ],
   "source": [
    "model = dc.models.MultitaskClassifier(n_tasks=27,\n",
    "                                      n_features=300,\n",
    "                                      layer_sizes=[512])\n",
    "\n",
    "for epoch in nb_epochs :\n",
    "    loss = model.fit(train_embeddings_dataset, epoch=epoch)\n",
    "    print(\"Epoch %d loss: %f\" % (epoch, loss))\n",
    "    losses.append(loss)"
   ]
  },
  {
   "cell_type": "code",
   "execution_count": 35,
   "metadata": {},
   "outputs": [
    {
     "data": {
      "text/plain": [
       "<module 'matplotlib.pyplot' from '/home/mamonteiro/anaconda3/envs/lei/lib/python3.6/site-packages/matplotlib/pyplot.py'>"
      ]
     },
     "execution_count": 35,
     "metadata": {},
     "output_type": "execute_result"
    },
    {
     "data": {
      "image/png": "[encoded data removed]",
      "text/plain": [
       "<Figure size 720x504 with 1 Axes>"
      ]
     },
     "metadata": {
      "needs_background": "light"
     },
     "output_type": "display_data"
    }
   ],
   "source": [
    "import matplotlib.pyplot as plot\n",
    "\n",
    "plot.figure(figsize=(10,7))\n",
    "plot.ylabel(\"Loss\")\n",
    "plot.xlabel(\"Epoch\")\n",
    "x = nb_epochs\n",
    "y = losses\n",
    "plot.scatter(x, y)\n",
    "plot"
   ]
  },
  {
   "cell_type": "code",
   "execution_count": 36,
   "metadata": {},
   "outputs": [
    {
     "name": "stdout",
     "output_type": "stream",
     "text": [
      "computed_metrics: [0.8743402225755168, 0.9062433308111674, 0.7724328619792518, 0.9827893175074184, 0.9438889371938672, 0.8166565554432086, 0.8111287384687702, 0.8511806130903066, 0.9263753460936561, 0.9392143527963989, 0.7951002414544476, 0.8095498450883907, 0.7190770538984824, 0.9019292604501608, 0.8994063680518078, 0.7810888303819381, 0.8130704833918445, 0.9176378098409175, 0.9574968071519796, 0.8401208342083581, 0.8885519462719298, 0.8423425538909501, 0.8655492566668594, 0.8356964478227049, 0.9278549382716049, 0.7572554295598692, 0.9106236666045279]\n",
      "Training set ROC AUC: {'mean-roc_auc_score': 0.8624667425543087}\n"
     ]
    }
   ],
   "source": [
    "import numpy as np\n",
    "metric = dc.metrics.Metric(dc.metrics.roc_auc_score, np.mean, mode=\"classification\")\n",
    "train_score = model.evaluate(train_embeddings_dataset, [metric], transformers)\n",
    "print('Training set ROC AUC:', train_score)\n"
   ]
  },
  {
   "cell_type": "code",
   "execution_count": 37,
   "metadata": {},
   "outputs": [
    {
     "name": "stdout",
     "output_type": "stream",
     "text": [
      "computed_metrics: [0.47951807228915666, 0.4534883720930233, 0.4945175438596491, 0.8620689655172413, 0.2906976744186046, 0.686046511627907, 0.526027397260274, 0.4656084656084656, 0.5853658536585366, 0.7093023255813953, 0.54337899543379, 0.4418859649122807, 0.5539529914529915, 0.25098039215686274, 0.6235294117647059, 0.6512013256006628, 0.5223577235772358, 0.6918604651162792, 0.5058139534883721, 0.5254901960784313, 0.6588235294117648, 0.592156862745098, 0.2705882352941177, 0.478125, 0.455421686746988, 0.49350649350649356, 0.3953488372093023]\n",
      "Validation set ROC AUC: {'mean-roc_auc_score': 0.5261875276448011}\n"
     ]
    }
   ],
   "source": [
    "valid_score = model.evaluate(valid_embeddings_dataset, [metric], transformers)\n",
    "print('Validation set ROC AUC:', valid_score)"
   ]
  },
  {
   "cell_type": "code",
   "execution_count": 38,
   "metadata": {
    "scrolled": true
   },
   "outputs": [
    {
     "name": "stdout",
     "output_type": "stream",
     "text": [
      "computed_metrics: [0.11363636363636365, 0.48062015503875966, 0.5606060606060606, 0.3522727272727273, 0.7911764705882354, 0.35888501742160284, 0.4263565891472868, 0.32352941176470595, nan, 0.7286821705426356, 0.5205627705627706, 0.4988344988344988, 0.4742324561403509, nan, 0.39080459770114945, 0.5678137651821862, 0.18992248062015504, 0.9545454545454546, nan, 0.5502008032128514, 0.8295454545454546, 0.529320987654321, 0.5977011494252873, 0.5401606425702812, 0.41860465116279066, 0.5792483660130718, nan]\n",
      "\n",
      "\n",
      "Validation set ROC AUC: {'mean-roc_auc_score': 0.5120549149647392}\n"
     ]
    },
    {
     "name": "stderr",
     "output_type": "stream",
     "text": [
      "/home/mamonteiro/anaconda3/envs/lei/lib/python3.6/site-packages/deepchem/metrics/__init__.py:368: UserWarning: Error calculating metric mean-roc_auc_score: Only one class present in y_true. ROC AUC score is not defined in that case.\n",
      "  warnings.warn(\"Error calculating metric %s: %s\" % (self.name, e))\n",
      "/home/mamonteiro/anaconda3/envs/lei/lib/python3.6/site-packages/deepchem/metrics/__init__.py:368: UserWarning: Error calculating metric mean-roc_auc_score: Only one class present in y_true. ROC AUC score is not defined in that case.\n",
      "  warnings.warn(\"Error calculating metric %s: %s\" % (self.name, e))\n",
      "/home/mamonteiro/anaconda3/envs/lei/lib/python3.6/site-packages/deepchem/metrics/__init__.py:368: UserWarning: Error calculating metric mean-roc_auc_score: Only one class present in y_true. ROC AUC score is not defined in that case.\n",
      "  warnings.warn(\"Error calculating metric %s: %s\" % (self.name, e))\n",
      "/home/mamonteiro/anaconda3/envs/lei/lib/python3.6/site-packages/deepchem/metrics/__init__.py:368: UserWarning: Error calculating metric mean-roc_auc_score: Only one class present in y_true. ROC AUC score is not defined in that case.\n",
      "  warnings.warn(\"Error calculating metric %s: %s\" % (self.name, e))\n"
     ]
    }
   ],
   "source": [
    "test_score = model.evaluate(test_embeddings_dataset, [metric], transformers)\n",
    "print('\\n')\n",
    "print('Validation set ROC AUC:', test_score)"
   ]
  },
  {
   "cell_type": "code",
   "execution_count": 39,
   "metadata": {},
   "outputs": [
    {
     "data": {
      "text/plain": [
       "[(0, 0.5376576607129762)]"
      ]
     },
     "execution_count": 39,
     "metadata": {},
     "output_type": "execute_result"
    },
    {
     "data": {
      "image/png": "[encoded data removed]",
      "text/plain": [
       "<Figure size 720x216 with 1 Axes>"
      ]
     },
     "metadata": {},
     "output_type": "display_data"
    }
   ],
   "source": [
    "import seaborn as sns\n",
    "\n",
    "sns.set(rc={'figure.figsize':(10,3)})\n",
    "sns.set(style=\"whitegrid\")\n",
    "ax = sns.barplot(x=[test_score['mean-roc_auc_score']],\n",
    "                 y=['First Scenario'])\n",
    "ax.set(xlim=(0, None))"
   ]
  },
  {
   "cell_type": "markdown",
   "metadata": {},
   "source": [
    "\n",
    "# Valores muito fracos - Melhorar ...."
   ]
  },
  {
   "cell_type": "markdown",
   "metadata": {},
   "source": [
    "# Valores com hyperparameters"
   ]
  },
  {
   "cell_type": "code",
   "execution_count": 40,
   "metadata": {},
   "outputs": [],
   "source": [
    "sider_tasks = sorted([ 'Hepatobiliary disorders',\n",
    "   'Metabolism and nutrition disorders', 'Product issues', 'Eye disorders',\n",
    "   'Investigations', 'Musculoskeletal and connective tissue disorders',\n",
    "   'Gastrointestinal disorders', 'Social circumstances',\n",
    "   'Immune system disorders', 'Reproductive system and breast disorders',\n",
    "   'Neoplasms benign, malignant and unspecified (incl cysts and polyps)',\n",
    "   'General disorders and administration site conditions',\n",
    "   'Endocrine disorders', 'Surgical and medical procedures',\n",
    "   'Vascular disorders', 'Blood and lymphatic system disorders',\n",
    "   'Skin and subcutaneous tissue disorders',\n",
    "   'Congenital, familial and genetic disorders',\n",
    "   'Infections and infestations',\n",
    "   'Respiratory, thoracic and mediastinal disorders',\n",
    "   'Psychiatric disorders', 'Renal and urinary disorders',\n",
    "   'Pregnancy, puerperium and perinatal conditions',\n",
    "   'Ear and labyrinth disorders', 'Cardiac disorders',\n",
    "   'Nervous system disorders',\n",
    "   'Injury, poisoning and procedural complications'\n",
    "])\n"
   ]
  },
  {
   "cell_type": "code",
   "execution_count": 41,
   "metadata": {},
   "outputs": [],
   "source": [
    "params_dict = {\"activation\": [\"relu\",\"sigmoid\",\"tanh\"],\n",
    "               \"optimizer\": ['RMSprop','adam'],\n",
    "               \"momentum\": [.9],\n",
    "               \"dropouts\": [.5,0.2],\n",
    "               \"nb_layers\": [512],\n",
    "               \"penalty\": [0.]\n",
    "              }\n",
    "\n",
    "n_features = train_dataset.get_data_shape()[0]\n",
    "\n",
    "def model_builder(model_params, model_dir):\n",
    "    model = dc.models.MultitaskClassifier(\n",
    "    len(sider_tasks), n_features, **model_params)\n",
    "    return model"
   ]
  },
  {
   "cell_type": "code",
   "execution_count": 42,
   "metadata": {},
   "outputs": [
    {
     "data": {
      "text/plain": [
       "1024"
      ]
     },
     "execution_count": 42,
     "metadata": {},
     "output_type": "execute_result"
    }
   ],
   "source": [
    "train_dataset.get_data_shape()[0]"
   ]
  },
  {
   "cell_type": "code",
   "execution_count": 43,
   "metadata": {},
   "outputs": [
    {
     "name": "stdout",
     "output_type": "stream",
     "text": [
      "Fitting model 1/12\n",
      "hyperparameters: {'activation': 'relu', 'optimizer': 'RMSprop', 'momentum': 0.9, 'dropouts': 0.5, 'nb_layers': 512, 'penalty': 0.0}\n",
      "computed_metrics: [0.6602409638554216, 0.3023255813953488, 0.5032894736842106, 0.29885057471264365, 0.37790697674418605, 0.6162790697674418, 0.5388127853881279, 0.4814814814814815, 0.7113821138211383, 0.27325581395348836, 0.6264840182648402, 0.5657894736842105, 0.5389957264957265, 0.8235294117647058, 0.4745098039215686, 0.5874067937033969, 0.4166666666666667, 0.9418604651162791, 0.20930232558139533, 0.6509803921568627, 0.5254901960784314, 0.4980392156862745, 0.6784313725490196, 0.6328125, 0.4746987951807229, 0.4510035419126328, 0.36627906976744184]\n",
      "Model 1/12, Metric mean-roc_auc_score, Validation set 0: 0.526893\n",
      "\tbest_validation_score so far: 0.526893\n",
      "Fitting model 2/12\n",
      "hyperparameters: {'activation': 'relu', 'optimizer': 'RMSprop', 'momentum': 0.9, 'dropouts': 0.2, 'nb_layers': 512, 'penalty': 0.0}\n",
      "computed_metrics: [0.727710843373494, 0.32558139534883723, 0.48245614035087725, 0.33333333333333337, 0.36046511627906974, 0.6511627906976745, 0.5470319634703196, 0.4955908289241623, 0.7134146341463414, 0.24418604651162792, 0.6538812785388128, 0.5449561403508771, 0.5822649572649573, 0.803921568627451, 0.5058823529411764, 0.5782932891466446, 0.4654471544715447, 0.9069767441860466, 0.2965116279069767, 0.6941176470588235, 0.5019607843137255, 0.48235294117647065, 0.603921568627451, 0.628125, 0.491566265060241, 0.5017709563164108, 0.3604651162790698]\n",
      "Model 2/12, Metric mean-roc_auc_score, Validation set 1: 0.536420\n",
      "\tbest_validation_score so far: 0.536420\n",
      "Fitting model 3/12\n",
      "hyperparameters: {'activation': 'relu', 'optimizer': 'adam', 'momentum': 0.9, 'dropouts': 0.5, 'nb_layers': 512, 'penalty': 0.0}\n",
      "computed_metrics: [0.7373493975903614, 0.3081395348837209, 0.4791666666666667, 0.31034482758620685, 0.2848837209302325, 0.6686046511627908, 0.5497716894977169, 0.46737213403880074, 0.6890243902439024, 0.2732558139534884, 0.6228310502283105, 0.5504385964912282, 0.5827991452991452, 0.8, 0.45490196078431366, 0.5990057995028997, 0.3902439024390244, 0.8837209302325582, 0.3023255813953488, 0.6313725490196078, 0.5333333333333332, 0.4666666666666667, 0.6313725490196078, 0.6, 0.4891566265060241, 0.49586776859504134, 0.2965116279069767]\n",
      "Model 3/12, Metric mean-roc_auc_score, Validation set 2: 0.522165\n",
      "\tbest_validation_score so far: 0.536420\n",
      "Fitting model 4/12\n",
      "hyperparameters: {'activation': 'relu', 'optimizer': 'adam', 'momentum': 0.9, 'dropouts': 0.2, 'nb_layers': 512, 'penalty': 0.0}\n",
      "computed_metrics: [0.7156626506024097, 0.3604651162790698, 0.4649122807017544, 0.25287356321839083, 0.38372093023255816, 0.6627906976744187, 0.5607305936073059, 0.47089947089947093, 0.7093495934959351, 0.3081395348837209, 0.6410958904109589, 0.555921052631579, 0.5507478632478633, 0.8117647058823529, 0.5215686274509803, 0.5774647887323943, 0.45528455284552843, 0.9418604651162791, 0.2848837209302325, 0.7019607843137254, 0.5372549019607843, 0.4666666666666666, 0.6549019607843137, 0.6375, 0.5204819277108433, 0.4746162927981109, 0.3546511627906977]\n",
      "Model 4/12, Metric mean-roc_auc_score, Validation set 3: 0.539932\n",
      "\tbest_validation_score so far: 0.539932\n",
      "Fitting model 5/12\n",
      "hyperparameters: {'activation': 'sigmoid', 'optimizer': 'RMSprop', 'momentum': 0.9, 'dropouts': 0.5, 'nb_layers': 512, 'penalty': 0.0}\n",
      "computed_metrics: [0.6867469879518073, 0.33139534883720934, 0.48574561403508776, 0.29885057471264365, 0.4418604651162791, 0.6162790697674418, 0.5607305936073059, 0.45679012345679015, 0.733739837398374, 0.2558139534883721, 0.6155251141552511, 0.5603070175438596, 0.6036324786324787, 0.784313725490196, 0.4784313725490196, 0.5890637945318973, 0.4065040650406504, 0.8953488372093024, 0.2441860465116279, 0.7176470588235295, 0.5019607843137255, 0.4666666666666667, 0.6392156862745098, 0.621875, 0.508433734939759, 0.43683589138134593, 0.2732558139534884]\n",
      "Model 5/12, Metric mean-roc_auc_score, Validation set 4: 0.526339\n",
      "\tbest_validation_score so far: 0.539932\n",
      "Fitting model 6/12\n",
      "hyperparameters: {'activation': 'sigmoid', 'optimizer': 'RMSprop', 'momentum': 0.9, 'dropouts': 0.2, 'nb_layers': 512, 'penalty': 0.0}\n",
      "computed_metrics: [0.7373493975903616, 0.313953488372093, 0.5087719298245614, 0.29885057471264365, 0.3023255813953488, 0.6569767441860466, 0.5716894977168951, 0.4285714285714286, 0.7113821138211383, 0.29069767441860467, 0.6401826484018265, 0.5723684210526316, 0.5368589743589743, 0.8313725490196079, 0.5098039215686274, 0.5774647887323943, 0.47560975609756095, 0.9360465116279071, 0.2616279069767442, 0.6313725490196078, 0.49411764705882355, 0.5372549019607843, 0.6549019607843136, 0.665625, 0.5253012048192771, 0.4769775678866588, 0.3081395348837209]\n",
      "Model 6/12, Metric mean-roc_auc_score, Validation set 5: 0.535392\n",
      "\tbest_validation_score so far: 0.539932\n",
      "Fitting model 7/12\n",
      "hyperparameters: {'activation': 'sigmoid', 'optimizer': 'adam', 'momentum': 0.9, 'dropouts': 0.5, 'nb_layers': 512, 'penalty': 0.0}\n",
      "computed_metrics: [0.7060240963855422, 0.31976744186046513, 0.4473684210526315, 0.28735632183908044, 0.4593023255813954, 0.6686046511627908, 0.5570776255707763, 0.44620811287477957, 0.6890243902439024, 0.27906976744186046, 0.639269406392694, 0.5328947368421053, 0.5667735042735043, 0.8352941176470589, 0.49019607843137253, 0.6097763048881524, 0.45121951219512196, 0.9709302325581395, 0.2674418604651163, 0.7529411764705882, 0.4784313725490196, 0.48627450980392156, 0.6705882352941176, 0.6328125, 0.4530120481927711, 0.4876033057851239, 0.3430232558139535]\n",
      "Model 7/12, Metric mean-roc_auc_score, Validation set 6: 0.538085\n",
      "\tbest_validation_score so far: 0.539932\n",
      "Fitting model 8/12\n",
      "hyperparameters: {'activation': 'sigmoid', 'optimizer': 'adam', 'momentum': 0.9, 'dropouts': 0.2, 'nb_layers': 512, 'penalty': 0.0}\n",
      "computed_metrics: [0.7108433734939759, 0.2965116279069767, 0.5054824561403508, 0.25287356321839083, 0.47093023255813954, 0.6569767441860466, 0.5497716894977169, 0.5185185185185186, 0.7093495934959351, 0.3023255813953488, 0.6520547945205479, 0.5515350877192982, 0.5560897435897436, 0.7843137254901961, 0.4666666666666667, 0.5923777961888981, 0.4715447154471545, 0.872093023255814, 0.2616279069767442, 0.7176470588235295, 0.49411764705882355, 0.49411764705882355, 0.6823529411764706, 0.6468750000000001, 0.4891566265060241, 0.46044864226682414, 0.3488372093023256]\n",
      "Model 8/12, Metric mean-roc_auc_score, Validation set 7: 0.537609\n",
      "\tbest_validation_score so far: 0.539932\n",
      "Fitting model 9/12\n",
      "hyperparameters: {'activation': 'tanh', 'optimizer': 'RMSprop', 'momentum': 0.9, 'dropouts': 0.5, 'nb_layers': 512, 'penalty': 0.0}\n",
      "computed_metrics: [0.7012048192771085, 0.36046511627906974, 0.4714912280701755, 0.27586206896551724, 0.4418604651162791, 0.627906976744186, 0.5716894977168949, 0.4620811287477954, 0.7134146341463414, 0.2674418604651163, 0.6054794520547946, 0.5383771929824561, 0.5966880341880342, 0.8274509803921568, 0.5254901960784313, 0.6072908036454019, 0.43089430894308944, 0.8953488372093024, 0.23837209302325582, 0.6941176470588235, 0.4666666666666667, 0.4666666666666666, 0.6549019607843138, 0.64375, 0.5156626506024096, 0.4899645808736718, 0.33720930232558144]\n",
      "Model 9/12, Metric mean-roc_auc_score, Validation set 8: 0.534361\n",
      "\tbest_validation_score so far: 0.539932\n",
      "Fitting model 10/12\n",
      "hyperparameters: {'activation': 'tanh', 'optimizer': 'RMSprop', 'momentum': 0.9, 'dropouts': 0.2, 'nb_layers': 512, 'penalty': 0.0}\n",
      "computed_metrics: [0.6843373493975904, 0.3430232558139535, 0.47807017543859653, 0.21839080459770113, 0.4593023255813954, 0.7034883720930233, 0.558904109589041, 0.46737213403880074, 0.6869918699186992, 0.2965116279069767, 0.6821917808219178, 0.5614035087719298, 0.5614316239316239, 0.8235294117647058, 0.5098039215686274, 0.551781275890638, 0.4410569105691057, 0.9534883720930232, 0.2093023255813954, 0.7372549019607844, 0.5137254901960784, 0.5137254901960784, 0.6431372549019607, 0.6546875, 0.4819277108433735, 0.47225501770956313, 0.3023255813953488]\n",
      "Model 10/12, Metric mean-roc_auc_score, Validation set 9: 0.537386\n",
      "\tbest_validation_score so far: 0.539932\n",
      "Fitting model 11/12\n",
      "hyperparameters: {'activation': 'tanh', 'optimizer': 'adam', 'momentum': 0.9, 'dropouts': 0.5, 'nb_layers': 512, 'penalty': 0.0}\n"
     ]
    },
    {
     "name": "stdout",
     "output_type": "stream",
     "text": [
      "computed_metrics: [0.689156626506024, 0.29069767441860467, 0.5032894736842105, 0.3563218390804598, 0.41860465116279066, 0.6453488372093024, 0.5607305936073059, 0.45502645502645506, 0.7052845528455285, 0.3081395348837209, 0.6219178082191781, 0.5120614035087718, 0.5443376068376069, 0.788235294117647, 0.45882352941176474, 0.5584092792046396, 0.4532520325203252, 0.9476744186046511, 0.28488372093023256, 0.6509803921568628, 0.47058823529411764, 0.45490196078431366, 0.7176470588235294, 0.615625, 0.5036144578313253, 0.461629279811098, 0.3488372093023256]\n",
      "Model 11/12, Metric mean-roc_auc_score, Validation set 10: 0.530593\n",
      "\tbest_validation_score so far: 0.539932\n",
      "Fitting model 12/12\n",
      "hyperparameters: {'activation': 'tanh', 'optimizer': 'adam', 'momentum': 0.9, 'dropouts': 0.2, 'nb_layers': 512, 'penalty': 0.0}\n",
      "computed_metrics: [0.7421686746987952, 0.33720930232558144, 0.5032894736842105, 0.31034482758620685, 0.4593023255813954, 0.6395348837209303, 0.5534246575342466, 0.4814814814814815, 0.7052845528455285, 0.2965116279069767, 0.6557077625570776, 0.5975877192982456, 0.5576923076923077, 0.807843137254902, 0.4862745098039216, 0.5741507870753935, 0.483739837398374, 0.9244186046511628, 0.2616279069767442, 0.7254901960784313, 0.5058823529411764, 0.4784313725490196, 0.6235294117647059, 0.6609375, 0.4891566265060241, 0.45926800472255025, 0.3372093023255814]\n",
      "Model 12/12, Metric mean-roc_auc_score, Validation set 11: 0.542870\n",
      "\tbest_validation_score so far: 0.542870\n",
      "computed_metrics: [0.9789719130895602, 0.9790660225442834, 0.9426863916919761, 0.9973788328387735, 0.9893632437759035, 0.9434580384226492, 0.9590340208002821, 0.944762323943662, 0.9855543517515348, 0.9858156028368794, 0.8983956319460219, 0.9322355514102851, 0.8784913003663004, 0.9794525919535721, 0.9607431963611133, 0.9131622606123995, 0.9242776127464218, 0.9890399556048834, 0.9961685823754789, 0.9824887323716136, 0.9808799342105263, 0.9621941483116517, 0.9574969630358072, 0.9535610475033774, 0.9941854056437389, 0.9246496984340536, 0.9889600033140703]\n",
      "Best hyperparameters: ('tanh', 'adam', 0.9, 0.2, 512, 0.0)\n",
      "train_score: 0.960092\n",
      "validation_score: 0.542870\n"
     ]
    }
   ],
   "source": [
    "\n",
    "metric = dc.metrics.Metric(dc.metrics.roc_auc_score, np.mean)\n",
    "optimizer = dc.hyper.HyperparamOpt(model_builder)\n",
    "best_dnn, best_hyperparams, all_results = optimizer.hyperparam_search(\n",
    "    params_dict, train_dataset, valid_dataset, [], metric)"
   ]
  },
  {
   "cell_type": "code",
   "execution_count": 44,
   "metadata": {},
   "outputs": [
    {
     "data": {
      "text/plain": [
       "MultitaskClassifier(activation_fns=None, bias_init_consts=None, dropouts=None,\n",
       "                    layer_sizes=None, n_classes=2, n_features=1024, n_tasks=27,\n",
       "                    weight_decay_penalty=None, weight_decay_penalty_type=None,\n",
       "                    weight_init_stddevs=None)"
      ]
     },
     "execution_count": 44,
     "metadata": {},
     "output_type": "execute_result"
    }
   ],
   "source": [
    "best_dnn"
   ]
  },
  {
   "cell_type": "code",
   "execution_count": 45,
   "metadata": {},
   "outputs": [
    {
     "data": {
      "text/plain": [
       "('tanh', 'adam', 0.9, 0.2, 512, 0.0)"
      ]
     },
     "execution_count": 45,
     "metadata": {},
     "output_type": "execute_result"
    }
   ],
   "source": [
    "best_hyperparams"
   ]
  },
  {
   "cell_type": "code",
   "execution_count": 46,
   "metadata": {},
   "outputs": [],
   "source": [
    "obj=best_dnn.fit(train_dataset,**params_dict)"
   ]
  },
  {
   "cell_type": "code",
   "execution_count": 47,
   "metadata": {},
   "outputs": [],
   "source": [
    "metric = dc.metrics.Metric(dc.metrics.roc_auc_score, np.mean)"
   ]
  },
  {
   "cell_type": "code",
   "execution_count": 48,
   "metadata": {},
   "outputs": [
    {
     "name": "stdout",
     "output_type": "stream",
     "text": [
      "computed_metrics: [0.9931743508214097, 0.9971092097860039, 0.9826371879864582, 0.9996043521266074, 0.9990435614294408, 0.9841321199865184, 0.9863564251718667, 0.9860061101905551, 0.9946069579872396, 0.9957252501700184, 0.9584900263328369, 0.975835933061032, 0.9354886185243327, 0.9948435416830053, 0.9888983116182253, 0.9579290943845349, 0.9747556035646772, 0.9974334073251943, 0.9988250319284803, 0.9971245335444163, 0.9937123081140351, 0.9883686344495061, 0.989023543703361, 0.9886597797459027, 0.998208774250441, 0.9725707696109387, 0.9974523084570932]\n",
      "{'mean-roc_auc_score': 0.9861487313316344}\n"
     ]
    }
   ],
   "source": [
    "train_scores = best_dnn.evaluate(train_dataset, [metric], transformers)\n",
    "print(train_scores)"
   ]
  },
  {
   "cell_type": "code",
   "execution_count": 49,
   "metadata": {},
   "outputs": [
    {
     "name": "stdout",
     "output_type": "stream",
     "text": [
      "computed_metrics: [0.7012048192771084, 0.34302325581395343, 0.5010964912280702, 0.3563218390804598, 0.38953488372093026, 0.6104651162790697, 0.5680365296803653, 0.5343915343915344, 0.6707317073170731, 0.27906976744186046, 0.6474885844748859, 0.6567982456140351, 0.561965811965812, 0.792156862745098, 0.5333333333333334, 0.5393537696768849, 0.565040650406504, 0.8313953488372093, 0.27325581395348836, 0.7803921568627452, 0.5176470588235295, 0.5529411764705883, 0.6235294117647059, 0.7171875000000001, 0.5036144578313253, 0.5064935064935066, 0.32558139534883723]\n",
      "{'mean-roc_auc_score': 0.5511870751419599}\n"
     ]
    }
   ],
   "source": [
    "valid_scores = best_dnn.evaluate(valid_dataset, [metric], transformers)\n",
    "print(valid_scores)"
   ]
  },
  {
   "cell_type": "code",
   "execution_count": 50,
   "metadata": {},
   "outputs": [
    {
     "name": "stdout",
     "output_type": "stream",
     "text": [
      "computed_metrics: [0.30681818181818177, 0.22093023255813957, 0.5151515151515151, 0.6818181818181819, 0.7529411764705882, 0.25609756097560976, 0.5542635658914727, 0.526470588235294, nan, 0.7829457364341086, 0.6363636363636364, 0.43356643356643354, 0.4161184210526316, nan, 0.6264367816091954, 0.5647773279352226, 0.3875968992248062, 0.9545454545454546, nan, 0.5983935742971888, 0.7386363636363636, 0.5679012345679012, 0.867816091954023, 0.4056224899598393, 0.49612403100775193, 0.5906862745098039, nan]\n",
      "{'mean-roc_auc_score': 0.5600879023297105}\n"
     ]
    },
    {
     "name": "stderr",
     "output_type": "stream",
     "text": [
      "/home/mamonteiro/anaconda3/envs/lei/lib/python3.6/site-packages/deepchem/metrics/__init__.py:368: UserWarning: Error calculating metric mean-roc_auc_score: Only one class present in y_true. ROC AUC score is not defined in that case.\n",
      "  warnings.warn(\"Error calculating metric %s: %s\" % (self.name, e))\n",
      "/home/mamonteiro/anaconda3/envs/lei/lib/python3.6/site-packages/deepchem/metrics/__init__.py:368: UserWarning: Error calculating metric mean-roc_auc_score: Only one class present in y_true. ROC AUC score is not defined in that case.\n",
      "  warnings.warn(\"Error calculating metric %s: %s\" % (self.name, e))\n",
      "/home/mamonteiro/anaconda3/envs/lei/lib/python3.6/site-packages/deepchem/metrics/__init__.py:368: UserWarning: Error calculating metric mean-roc_auc_score: Only one class present in y_true. ROC AUC score is not defined in that case.\n",
      "  warnings.warn(\"Error calculating metric %s: %s\" % (self.name, e))\n",
      "/home/mamonteiro/anaconda3/envs/lei/lib/python3.6/site-packages/deepchem/metrics/__init__.py:368: UserWarning: Error calculating metric mean-roc_auc_score: Only one class present in y_true. ROC AUC score is not defined in that case.\n",
      "  warnings.warn(\"Error calculating metric %s: %s\" % (self.name, e))\n"
     ]
    }
   ],
   "source": [
    "test_scores_v1 = best_dnn.evaluate(test_dataset, [metric], transformers)\n",
    "print(test_scores_v1)"
   ]
  },
  {
   "cell_type": "code",
   "execution_count": 53,
   "metadata": {},
   "outputs": [
    {
     "data": {
      "text/plain": [
       "[(0, 0.5880922974461961)]"
      ]
     },
     "execution_count": 53,
     "metadata": {},
     "output_type": "execute_result"
    },
    {
     "data": {
      "image/png": "[encoded data removed]",
      "text/plain": [
       "<Figure size 792x432 with 1 Axes>"
      ]
     },
     "metadata": {},
     "output_type": "display_data"
    }
   ],
   "source": [
    "import seaborn as sns\n",
    "\n",
    "sns.set(rc={'figure.figsize':(11,6)})\n",
    "sns.set(style=\"whitegrid\")\n",
    "ax = sns.barplot(x=[test_score['mean-roc_auc_score'],test_scores_v1['mean-roc_auc_score']],\n",
    "                 y=['First Scenario','Second Scenario'])\n",
    "ax.set(xlim=(0, None))"
   ]
  },
  {
   "cell_type": "code",
   "execution_count": 54,
   "metadata": {},
   "outputs": [
    {
     "name": "stdout",
     "output_type": "stream",
     "text": [
      "0.5120549149647392\n",
      "0.5600879023297105\n"
     ]
    }
   ],
   "source": [
    "print(test_score['mean-roc_auc_score'])\n",
    "print(test_scores_v1['mean-roc_auc_score'])"
   ]
  },
  {
   "cell_type": "code",
   "execution_count": null,
   "metadata": {},
   "outputs": [],
   "source": []
  }
 ],
 "metadata": {
  "kernelspec": {
   "display_name": "Python 3",
   "language": "python",
   "name": "python3"
  },
  "language_info": {
   "codemirror_mode": {
    "name": "ipython",
    "version": 3
   },
   "file_extension": ".py",
   "mimetype": "text/x-python",
   "name": "python",
   "nbconvert_exporter": "python",
   "pygments_lexer": "ipython3",
   "version": "3.6.8"
  }
 },
 "nbformat": 4,
 "nbformat_minor": 2
}
