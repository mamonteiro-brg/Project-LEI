{
 "cells": [
  {
   "cell_type": "markdown",
   "metadata": {},
   "source": [
    "# Sider+Offsides with Mol2Vec"
   ]
  },
  {
   "cell_type": "code",
   "execution_count": null,
   "metadata": {},
   "outputs": [],
   "source": []
  },
  {
   "cell_type": "markdown",
   "metadata": {},
   "source": [
    "# Implementação da Baseline"
   ]
  },
  {
   "cell_type": "markdown",
   "metadata": {},
   "source": [
    " - Nesta implementação vamos usar um modelo Mol2vec pre-treinado para criar embeddings dos compostos (Algo que esteja implementado no DeepChem). \n",
    "\n",
    "- Depois vamos usar os embeddings (carregados como NumpyDataset) como input para um modelo MultitaskClassifier."
   ]
  },
  {
   "cell_type": "code",
   "execution_count": 1,
   "metadata": {},
   "outputs": [
    {
     "name": "stderr",
     "output_type": "stream",
     "text": [
      "Using TensorFlow backend.\n",
      "/home/mamonteiro/anaconda3/envs/lei/lib/python3.6/site-packages/sklearn/externals/joblib/__init__.py:15: DeprecationWarning: sklearn.externals.joblib is deprecated in 0.21 and will be removed in 0.23. Please import this functionality directly from joblib, which can be installed with: pip install joblib. If this warning is raised when loading pickled models, you may need to re-serialize those models with scikit-learn 0.21+.\n",
      "  warnings.warn(msg, category=DeprecationWarning)\n"
     ]
    }
   ],
   "source": [
    "from mol2vec.features import mol2alt_sentence, MolSentence, DfVec, sentences2vec\n",
    "from gensim.models import Word2Vec\n",
    "from gensim.models import word2vec\n",
    "from rdkit import Chem\n",
    "import pandas as pd\n",
    "import numpy as np\n",
    "from keras.callbacks import ModelCheckpoint, Callback\n",
    "import matplotlib.pyplot as plt\n",
    "import deepchem as dc\n",
    "from sklearn.model_selection import train_test_split\n",
    "from skmultilearn.model_selection import iterative_train_test_split\n",
    "from deepchem.data.datasets import NumpyDataset\n",
    "import warnings\n",
    "warnings.filterwarnings('ignore')"
   ]
  },
  {
   "cell_type": "code",
   "execution_count": 2,
   "metadata": {},
   "outputs": [],
   "source": [
    "\"\"\"\n",
    "OFFSIDES dataset loader.\n",
    "\"\"\"\n",
    "from __future__ import division\n",
    "from __future__ import unicode_literals\n",
    "\n",
    "import os\n",
    "import logging\n",
    "import deepchem\n",
    "\n",
    "logger = logging.getLogger(__name__)\n",
    "\n",
    "\n",
    "def load_sider_offsides_for_mol2vec(featurizer='ECFP', split='index', reload=True, K=4):\n",
    "  \"\"\"Load SIDER OFFSIDES datasets. Does not do train/test split\"\"\"\n",
    "  # Load Sider dataset\n",
    "  logger.info(\"About to load soderoffsides dataset.\")\n",
    "  data_dir = deepchem.utils.get_data_dir()\n",
    "  if reload:\n",
    "    save_dir = os.path.join(data_dir, \"sideroffsides/\" + featurizer + \"/\" + str(split))\n",
    "    print(save_dir)\n",
    "    dataset_file = os.path.join(\"/home/mamonteiro/source-code/Project-LEI/sider+offsides/\", \"sider+offsides_combined.csv.gz\")\n",
    "\n",
    "\n",
    "  SIDER_OFFSIDES_tasks = sorted([ 'Hepatobiliary disorders',\n",
    "       'Metabolism and nutrition disorders', 'Product issues', 'Eye disorders',\n",
    "       'Investigations', 'Musculoskeletal and connective tissue disorders',\n",
    "       'Gastrointestinal disorders', 'Social circumstances',\n",
    "       'Immune system disorders', 'Reproductive system and breast disorders',\n",
    "       'Neoplasms benign, malignant and unspecified (incl cysts and polyps)',\n",
    "       'General disorders and administration site conditions',\n",
    "       'Endocrine disorders', 'Surgical and medical procedures',\n",
    "       'Vascular disorders', 'Blood and lymphatic system disorders',\n",
    "       'Skin and subcutaneous tissue disorders',\n",
    "       'Congenital, familial and genetic disorders',\n",
    "       'Infections and infestations',\n",
    "       'Respiratory, thoracic and mediastinal disorders',\n",
    "       'Psychiatric disorders', 'Renal and urinary disorders',\n",
    "       'Pregnancy, puerperium and perinatal conditions',\n",
    "       'Ear and labyrinth disorders', 'Cardiac disorders',\n",
    "       'Nervous system disorders',\n",
    "       'Injury, poisoning and procedural complications'\n",
    "  ])\n",
    "\n",
    "  if reload:\n",
    "    loaded, all_dataset, transformers = deepchem.utils.save.load_dataset_from_disk(save_dir)\n",
    "    if loaded:\n",
    "      return SIDER_OFFSIDES_tasks, all_dataset, transformers\n",
    "\n",
    "  # Featurize MUV dataset\n",
    "  logger.info(\"About to featurize OFFSIDES dataset.\")\n",
    "\n",
    "  if featurizer == 'ECFP':\n",
    "    featurizer = deepchem.feat.CircularFingerprint(size=1024)\n",
    "  elif featurizer == 'GraphConv':\n",
    "    featurizer = deepchem.feat.ConvMolFeaturizer()\n",
    "  elif featurizer == 'Weave':\n",
    "    featurizer = deepchem.feat.WeaveFeaturizer()\n",
    "  elif featurizer == 'Raw':\n",
    "    featurizer = deepchem.feat.RawFeaturizer()\n",
    "\n",
    "  loader = deepchem.data.CSVLoader(\n",
    "      tasks=SIDER_OFFSIDES_tasks, smiles_field=\"smiles\", featurizer=featurizer)\n",
    "  dataset = loader.featurize(dataset_file)\n",
    "\n",
    "  # Initialize transformers\n",
    "  transformers = [\n",
    "      deepchem.trans.BalancingTransformer(transform_w=True, dataset=dataset)\n",
    "  ]\n",
    "  logger.info(\"About to transform data\")\n",
    "  for transformer in transformers:\n",
    "    dataset = transformer.transform(dataset)\n",
    "\n",
    "  if split == None:\n",
    "    return OFFSIDES_tasks, (dataset, None, None), transformers\n",
    "\n",
    "  splitters = {\n",
    "      'index': deepchem.splits.IndexSplitter(),\n",
    "      'random': deepchem.splits.RandomSplitter(),\n",
    "      'scaffold': deepchem.splits.ScaffoldSplitter(),\n",
    "      'task': deepchem.splits.TaskSplitter()\n",
    "  }\n",
    "  splitter = splitters[split]\n",
    "  if split == 'task':\n",
    "    fold_datasets = splitter.k_fold_split(dataset, K)\n",
    "    all_dataset = fold_datasets\n",
    "  else:\n",
    "    train, valid, test = splitter.train_valid_test_split(dataset)\n",
    "    all_dataset = (train, valid, test)\n",
    "    if reload:\n",
    "      deepchem.utils.save.save_dataset_to_disk(save_dir, train, valid, test,\n",
    "                                               transformers)\n",
    "  return SIDER_OFFSIDES_tasks, all_dataset, transformers\n"
   ]
  },
  {
   "cell_type": "code",
   "execution_count": 3,
   "metadata": {},
   "outputs": [
    {
     "name": "stdout",
     "output_type": "stream",
     "text": [
      "/tmp/sideroffsides/ECFP/index\n",
      "Loading dataset from disk.\n",
      "Loading dataset from disk.\n",
      "Loading dataset from disk.\n"
     ]
    }
   ],
   "source": [
    "tasks, datasets, transformers = load_sider_offsides_for_mol2vec()\n",
    "train_dataset, valid_dataset, test_dataset = datasets\n",
    "train_smiles = train_dataset.ids\n",
    "valid_smiles = valid_dataset.ids"
   ]
  },
  {
   "cell_type": "code",
   "execution_count": 4,
   "metadata": {},
   "outputs": [
    {
     "data": {
      "text/plain": [
       "1352"
      ]
     },
     "execution_count": 4,
     "metadata": {},
     "output_type": "execute_result"
    }
   ],
   "source": [
    "len(train_dataset)"
   ]
  },
  {
   "cell_type": "code",
   "execution_count": 5,
   "metadata": {},
   "outputs": [
    {
     "data": {
      "text/plain": [
       "array(['CC12CCC3C(C1CCC2=O)CC=C4C3(CCC(C4)O)C', 'C[N+](C)(C)CC(CC(=O)O)O',\n",
       "       'C(CC(=O)O)CN', ...,\n",
       "       'COC1=C(C(=NC=C1)CS(=O)C2=NC3=C(N2)C=C(C=C3)OC(F)F)OC',\n",
       "       'COC1=C(C=C(C=C1)CC2=NC=CC3=CC(=C(C=C32)OC)OC)OC',\n",
       "       'C1C(C(C(C(C1N)OC2C(C(C(C(O2)CO)O)O)N)OC3C(C(C(O3)CO)OC4C(C(C(C(O4)CN)O)O)N)O)O)N'],\n",
       "      dtype=object)"
      ]
     },
     "execution_count": 5,
     "metadata": {},
     "output_type": "execute_result"
    }
   ],
   "source": [
    "train_dataset.ids"
   ]
  },
  {
   "cell_type": "code",
   "execution_count": 6,
   "metadata": {},
   "outputs": [],
   "source": [
    "#df['smiles'][0:5]"
   ]
  },
  {
   "cell_type": "code",
   "execution_count": 7,
   "metadata": {},
   "outputs": [],
   "source": [
    "# Get SMILES from file\n",
    "def getSMILES(filepath):\n",
    "    df = pd.read_csv(filepath)    \n",
    "    #smiles = list(df['SMILES or PubChem ID'].dropna())\n",
    "    smiles_df = df[['smiles']].dropna()\n",
    "    # some cases have 2 SMILES per compound, which I think are isomers (by looking at the molecular drawings)\n",
    "    # keeping only the first SMILE string:\n",
    "    #smiles = [x.split(';')[0] for x in smiles]\n",
    "    return smiles_df"
   ]
  },
  {
   "cell_type": "code",
   "execution_count": 8,
   "metadata": {},
   "outputs": [],
   "source": [
    "# Generate molecules from SMILES strings\n",
    "def generateEmbeddings(smiles_df, trained_model):\n",
    "    smiles = list(smiles_df['smiles'])\n",
    "    smiles = [x.split(';')[0] for x in smiles]\n",
    "    # SMILES to Mol\n",
    "    molecules = [Chem.MolFromSmiles(x) for x in smiles]\n",
    "    # Load previously trained mol2vec model\n",
    "    model = Word2Vec.load(trained_model)\n",
    "    # Convert molecules to sentences and then to embeddings\n",
    "    sentences = [mol2alt_sentence(x, 1) for x in molecules]\n",
    "    vectors = [DfVec(x) for x in sentences2vec(sentences, model, unseen='UNK')]\n",
    "    vec_df = pd.DataFrame(data=np.array([x.vec for x in vectors]))\n",
    "    vec_df.columns = ['mol2vec_' + str(x+1) for x in vec_df.columns.values]\n",
    "    vec_df.index = smiles_df.index.values\n",
    "    return pd.concat([smiles_df, vec_df], axis=1)"
   ]
  },
  {
   "cell_type": "code",
   "execution_count": 9,
   "metadata": {},
   "outputs": [],
   "source": [
    "def createDataset(original_data, embeddings_df, output):\n",
    "    original_df = pd.read_csv(original_data)\n",
    "    df = original_df.merge(embeddings_df, how='outer', on=\"smiles\")\n",
    "    df.to_csv(output, index=False)    "
   ]
  },
  {
   "cell_type": "code",
   "execution_count": 10,
   "metadata": {},
   "outputs": [],
   "source": [
    "train_smiles_from_offsides=train_dataset.ids\n",
    "valid_smiles_from_offsides=valid_dataset.ids\n",
    "test_smiles_from_offsides=test_dataset.ids"
   ]
  },
  {
   "cell_type": "code",
   "execution_count": 11,
   "metadata": {},
   "outputs": [
    {
     "data": {
      "text/plain": [
       "numpy.ndarray"
      ]
     },
     "execution_count": 11,
     "metadata": {},
     "output_type": "execute_result"
    }
   ],
   "source": [
    "type(train_smiles_from_offsides)"
   ]
  },
  {
   "cell_type": "code",
   "execution_count": 12,
   "metadata": {},
   "outputs": [],
   "source": [
    "train_smiles_from_offsides=pd.DataFrame(train_smiles_from_offsides,  columns=['smiles'])\n",
    "valid_smiles_from_offsides=pd.DataFrame(valid_smiles_from_offsides,  columns=['smiles'])\n",
    "test_smiles_from_offsides=pd.DataFrame(test_smiles_from_offsides,  columns=['smiles'])"
   ]
  },
  {
   "cell_type": "code",
   "execution_count": 13,
   "metadata": {},
   "outputs": [
    {
     "data": {
      "text/plain": [
       "1352"
      ]
     },
     "execution_count": 13,
     "metadata": {},
     "output_type": "execute_result"
    }
   ],
   "source": [
    "len(train_smiles_from_offsides)"
   ]
  },
  {
   "cell_type": "code",
   "execution_count": 14,
   "metadata": {},
   "outputs": [
    {
     "name": "stdout",
     "output_type": "stream",
     "text": [
      "current directory is : /home/mamonteiro/source-code/Project-LEI/sider+offsides\n",
      "Directory name is : sider+offsides\n"
     ]
    }
   ],
   "source": [
    "import os\n",
    " \n",
    "dirpath = os.getcwd()\n",
    "print(\"current directory is : \" + dirpath)\n",
    "foldername = os.path.basename(dirpath)\n",
    "print(\"Directory name is : \" + foldername)"
   ]
  },
  {
   "cell_type": "code",
   "execution_count": 15,
   "metadata": {},
   "outputs": [
    {
     "name": "stderr",
     "output_type": "stream",
     "text": [
      "WARNING:smart_open.smart_open_lib:this function is deprecated, use smart_open.open instead\n",
      "WARNING:smart_open.smart_open_lib:this function is deprecated, use smart_open.open instead\n",
      "WARNING:smart_open.smart_open_lib:this function is deprecated, use smart_open.open instead\n",
      "WARNING:smart_open.smart_open_lib:this function is deprecated, use smart_open.open instead\n",
      "WARNING:smart_open.smart_open_lib:this function is deprecated, use smart_open.open instead\n",
      "WARNING:smart_open.smart_open_lib:this function is deprecated, use smart_open.open instead\n"
     ]
    }
   ],
   "source": [
    "#Transformar Smiles em Embeddings \n",
    "\n",
    "train_embeddings_generated_from_mol2vec = generateEmbeddings(train_smiles_from_offsides, '/home/mamonteiro/source-code/Project-LEI/mol2vec/examples/models/model_300dim.pkl')\n",
    "\n",
    "valid_embeddings_generated_from_mol2vec = generateEmbeddings(valid_smiles_from_offsides, '/home/mamonteiro/source-code/Project-LEI/mol2vec/examples/models/model_300dim.pkl')\n",
    "test_embeddings_generated_from_mol2vec = generateEmbeddings(test_smiles_from_offsides, '/home/mamonteiro/source-code/Project-LEI/mol2vec/examples/models/model_300dim.pkl')"
   ]
  },
  {
   "cell_type": "code",
   "execution_count": 16,
   "metadata": {},
   "outputs": [
    {
     "data": {
      "text/html": [
       "<div>\n",
       "<style scoped>\n",
       "    .dataframe tbody tr th:only-of-type {\n",
       "        vertical-align: middle;\n",
       "    }\n",
       "\n",
       "    .dataframe tbody tr th {\n",
       "        vertical-align: top;\n",
       "    }\n",
       "\n",
       "    .dataframe thead th {\n",
       "        text-align: right;\n",
       "    }\n",
       "</style>\n",
       "<table border=\"1\" class=\"dataframe\">\n",
       "  <thead>\n",
       "    <tr style=\"text-align: right;\">\n",
       "      <th></th>\n",
       "      <th>smiles</th>\n",
       "      <th>mol2vec_1</th>\n",
       "      <th>mol2vec_2</th>\n",
       "      <th>mol2vec_3</th>\n",
       "      <th>mol2vec_4</th>\n",
       "      <th>mol2vec_5</th>\n",
       "      <th>mol2vec_6</th>\n",
       "      <th>mol2vec_7</th>\n",
       "      <th>mol2vec_8</th>\n",
       "      <th>mol2vec_9</th>\n",
       "      <th>...</th>\n",
       "      <th>mol2vec_291</th>\n",
       "      <th>mol2vec_292</th>\n",
       "      <th>mol2vec_293</th>\n",
       "      <th>mol2vec_294</th>\n",
       "      <th>mol2vec_295</th>\n",
       "      <th>mol2vec_296</th>\n",
       "      <th>mol2vec_297</th>\n",
       "      <th>mol2vec_298</th>\n",
       "      <th>mol2vec_299</th>\n",
       "      <th>mol2vec_300</th>\n",
       "    </tr>\n",
       "  </thead>\n",
       "  <tbody>\n",
       "    <tr>\n",
       "      <th>0</th>\n",
       "      <td>CC12CCC3C(C1CCC2=O)CC=C4C3(CCC(C4)O)C</td>\n",
       "      <td>-1.687902</td>\n",
       "      <td>-4.574107</td>\n",
       "      <td>-3.788245</td>\n",
       "      <td>0.820349</td>\n",
       "      <td>-1.165568</td>\n",
       "      <td>-7.593350</td>\n",
       "      <td>-8.685431</td>\n",
       "      <td>3.990403</td>\n",
       "      <td>0.837541</td>\n",
       "      <td>...</td>\n",
       "      <td>1.517185</td>\n",
       "      <td>14.211781</td>\n",
       "      <td>-2.282333</td>\n",
       "      <td>-1.685342</td>\n",
       "      <td>-10.677238</td>\n",
       "      <td>-8.447270</td>\n",
       "      <td>-10.454116</td>\n",
       "      <td>-1.177601</td>\n",
       "      <td>-10.021074</td>\n",
       "      <td>2.415180</td>\n",
       "    </tr>\n",
       "    <tr>\n",
       "      <th>1</th>\n",
       "      <td>C[N+](C)(C)CC(CC(=O)O)O</td>\n",
       "      <td>2.769547</td>\n",
       "      <td>-3.059868</td>\n",
       "      <td>-1.797269</td>\n",
       "      <td>-0.953987</td>\n",
       "      <td>4.924242</td>\n",
       "      <td>0.454827</td>\n",
       "      <td>-9.468398</td>\n",
       "      <td>1.997672</td>\n",
       "      <td>2.284252</td>\n",
       "      <td>...</td>\n",
       "      <td>-1.738315</td>\n",
       "      <td>-0.433908</td>\n",
       "      <td>6.375163</td>\n",
       "      <td>1.494671</td>\n",
       "      <td>-5.280170</td>\n",
       "      <td>-2.230168</td>\n",
       "      <td>3.010262</td>\n",
       "      <td>-5.875394</td>\n",
       "      <td>-4.850206</td>\n",
       "      <td>0.262021</td>\n",
       "    </tr>\n",
       "    <tr>\n",
       "      <th>2</th>\n",
       "      <td>C(CC(=O)O)CN</td>\n",
       "      <td>-0.599405</td>\n",
       "      <td>0.307458</td>\n",
       "      <td>-0.714178</td>\n",
       "      <td>-0.674214</td>\n",
       "      <td>2.840279</td>\n",
       "      <td>-0.157350</td>\n",
       "      <td>-3.893690</td>\n",
       "      <td>-0.316774</td>\n",
       "      <td>1.240166</td>\n",
       "      <td>...</td>\n",
       "      <td>-0.479649</td>\n",
       "      <td>2.350071</td>\n",
       "      <td>2.795008</td>\n",
       "      <td>2.045637</td>\n",
       "      <td>-3.803340</td>\n",
       "      <td>-0.811048</td>\n",
       "      <td>0.601341</td>\n",
       "      <td>-3.857245</td>\n",
       "      <td>-3.734070</td>\n",
       "      <td>-1.403350</td>\n",
       "    </tr>\n",
       "    <tr>\n",
       "      <th>3</th>\n",
       "      <td>C1C(N(C2=C(N1)NC(=NC2=O)N)C=O)CNC3=CC=C(C=C3)C...</td>\n",
       "      <td>1.644671</td>\n",
       "      <td>-4.325292</td>\n",
       "      <td>-5.132446</td>\n",
       "      <td>4.536877</td>\n",
       "      <td>2.365319</td>\n",
       "      <td>-1.383428</td>\n",
       "      <td>-16.086567</td>\n",
       "      <td>-2.104912</td>\n",
       "      <td>9.071654</td>\n",
       "      <td>...</td>\n",
       "      <td>-0.469195</td>\n",
       "      <td>12.227261</td>\n",
       "      <td>11.296147</td>\n",
       "      <td>3.872406</td>\n",
       "      <td>-12.161841</td>\n",
       "      <td>-6.847059</td>\n",
       "      <td>-4.032226</td>\n",
       "      <td>-7.607767</td>\n",
       "      <td>-16.263073</td>\n",
       "      <td>-3.654300</td>\n",
       "    </tr>\n",
       "    <tr>\n",
       "      <th>4</th>\n",
       "      <td>CCCCCC(C=CC1C(CC(=O)C1CC=CCCCC(=O)O)O)O</td>\n",
       "      <td>-0.658838</td>\n",
       "      <td>-3.338789</td>\n",
       "      <td>-3.176840</td>\n",
       "      <td>-0.045156</td>\n",
       "      <td>6.762016</td>\n",
       "      <td>-4.120831</td>\n",
       "      <td>-17.303051</td>\n",
       "      <td>-0.583435</td>\n",
       "      <td>3.757764</td>\n",
       "      <td>...</td>\n",
       "      <td>-7.855739</td>\n",
       "      <td>6.595695</td>\n",
       "      <td>7.846533</td>\n",
       "      <td>1.867607</td>\n",
       "      <td>-9.597700</td>\n",
       "      <td>-8.820236</td>\n",
       "      <td>-5.526588</td>\n",
       "      <td>-5.572998</td>\n",
       "      <td>-11.429805</td>\n",
       "      <td>-4.801989</td>\n",
       "    </tr>\n",
       "  </tbody>\n",
       "</table>\n",
       "<p>5 rows × 301 columns</p>\n",
       "</div>"
      ],
      "text/plain": [
       "                                              smiles  mol2vec_1  mol2vec_2  \\\n",
       "0              CC12CCC3C(C1CCC2=O)CC=C4C3(CCC(C4)O)C  -1.687902  -4.574107   \n",
       "1                            C[N+](C)(C)CC(CC(=O)O)O   2.769547  -3.059868   \n",
       "2                                       C(CC(=O)O)CN  -0.599405   0.307458   \n",
       "3  C1C(N(C2=C(N1)NC(=NC2=O)N)C=O)CNC3=CC=C(C=C3)C...   1.644671  -4.325292   \n",
       "4            CCCCCC(C=CC1C(CC(=O)C1CC=CCCCC(=O)O)O)O  -0.658838  -3.338789   \n",
       "\n",
       "   mol2vec_3  mol2vec_4  mol2vec_5  mol2vec_6  mol2vec_7  mol2vec_8  \\\n",
       "0  -3.788245   0.820349  -1.165568  -7.593350  -8.685431   3.990403   \n",
       "1  -1.797269  -0.953987   4.924242   0.454827  -9.468398   1.997672   \n",
       "2  -0.714178  -0.674214   2.840279  -0.157350  -3.893690  -0.316774   \n",
       "3  -5.132446   4.536877   2.365319  -1.383428 -16.086567  -2.104912   \n",
       "4  -3.176840  -0.045156   6.762016  -4.120831 -17.303051  -0.583435   \n",
       "\n",
       "   mol2vec_9  ...  mol2vec_291  mol2vec_292  mol2vec_293  mol2vec_294  \\\n",
       "0   0.837541  ...     1.517185    14.211781    -2.282333    -1.685342   \n",
       "1   2.284252  ...    -1.738315    -0.433908     6.375163     1.494671   \n",
       "2   1.240166  ...    -0.479649     2.350071     2.795008     2.045637   \n",
       "3   9.071654  ...    -0.469195    12.227261    11.296147     3.872406   \n",
       "4   3.757764  ...    -7.855739     6.595695     7.846533     1.867607   \n",
       "\n",
       "   mol2vec_295  mol2vec_296  mol2vec_297  mol2vec_298  mol2vec_299  \\\n",
       "0   -10.677238    -8.447270   -10.454116    -1.177601   -10.021074   \n",
       "1    -5.280170    -2.230168     3.010262    -5.875394    -4.850206   \n",
       "2    -3.803340    -0.811048     0.601341    -3.857245    -3.734070   \n",
       "3   -12.161841    -6.847059    -4.032226    -7.607767   -16.263073   \n",
       "4    -9.597700    -8.820236    -5.526588    -5.572998   -11.429805   \n",
       "\n",
       "   mol2vec_300  \n",
       "0     2.415180  \n",
       "1     0.262021  \n",
       "2    -1.403350  \n",
       "3    -3.654300  \n",
       "4    -4.801989  \n",
       "\n",
       "[5 rows x 301 columns]"
      ]
     },
     "execution_count": 16,
     "metadata": {},
     "output_type": "execute_result"
    }
   ],
   "source": [
    "train_embeddings_generated_from_mol2vec.head()"
   ]
  },
  {
   "cell_type": "code",
   "execution_count": 17,
   "metadata": {},
   "outputs": [
    {
     "data": {
      "text/plain": [
       "(1352, 169, 169)"
      ]
     },
     "execution_count": 17,
     "metadata": {},
     "output_type": "execute_result"
    }
   ],
   "source": [
    "len(train_embeddings_generated_from_mol2vec),len(valid_embeddings_generated_from_mol2vec),len(test_embeddings_generated_from_mol2vec) "
   ]
  },
  {
   "cell_type": "code",
   "execution_count": 18,
   "metadata": {},
   "outputs": [
    {
     "data": {
      "text/plain": [
       "'CC12CCC3C(C1CCC2=O)CC=C4C3(CCC(C4)O)C'"
      ]
     },
     "execution_count": 18,
     "metadata": {},
     "output_type": "execute_result"
    }
   ],
   "source": [
    "train_embeddings_generated_from_mol2vec.iloc[0][0]"
   ]
  },
  {
   "cell_type": "markdown",
   "metadata": {},
   "source": [
    "\n",
    "# Multitask Networks On SIDER+OFFSIDES"
   ]
  },
  {
   "cell_type": "code",
   "execution_count": 19,
   "metadata": {},
   "outputs": [],
   "source": [
    "import os\n",
    "import deepchem as dc"
   ]
  },
  {
   "cell_type": "markdown",
   "metadata": {},
   "source": [
    "The dataset that we must manipulate is thhe follwoing one: dataset\n",
    "\n",
    "In this dataset has as columns the SMILES\n",
    "                               The side efects\n",
    "                               and finally the embeddings\n",
    "        \n",
    "We need to split this dataset in order to provide this data to multitask model"
   ]
  },
  {
   "cell_type": "code",
   "execution_count": 20,
   "metadata": {},
   "outputs": [],
   "source": [
    "#dataset=dataset.drop(['smiles'], axis=1)"
   ]
  },
  {
   "cell_type": "code",
   "execution_count": 21,
   "metadata": {},
   "outputs": [],
   "source": [
    "train_embeddings=train_embeddings_generated_from_mol2vec.drop(['smiles'], axis=1)\n",
    "valid_embeddings=valid_embeddings_generated_from_mol2vec.drop(['smiles'], axis=1)\n",
    "test_embeddings=test_embeddings_generated_from_mol2vec.drop(['smiles'], axis=1)"
   ]
  },
  {
   "cell_type": "code",
   "execution_count": 22,
   "metadata": {},
   "outputs": [
    {
     "data": {
      "text/html": [
       "<div>\n",
       "<style scoped>\n",
       "    .dataframe tbody tr th:only-of-type {\n",
       "        vertical-align: middle;\n",
       "    }\n",
       "\n",
       "    .dataframe tbody tr th {\n",
       "        vertical-align: top;\n",
       "    }\n",
       "\n",
       "    .dataframe thead th {\n",
       "        text-align: right;\n",
       "    }\n",
       "</style>\n",
       "<table border=\"1\" class=\"dataframe\">\n",
       "  <thead>\n",
       "    <tr style=\"text-align: right;\">\n",
       "      <th></th>\n",
       "      <th>mol2vec_1</th>\n",
       "      <th>mol2vec_2</th>\n",
       "      <th>mol2vec_3</th>\n",
       "      <th>mol2vec_4</th>\n",
       "      <th>mol2vec_5</th>\n",
       "      <th>mol2vec_6</th>\n",
       "      <th>mol2vec_7</th>\n",
       "      <th>mol2vec_8</th>\n",
       "      <th>mol2vec_9</th>\n",
       "      <th>mol2vec_10</th>\n",
       "      <th>...</th>\n",
       "      <th>mol2vec_291</th>\n",
       "      <th>mol2vec_292</th>\n",
       "      <th>mol2vec_293</th>\n",
       "      <th>mol2vec_294</th>\n",
       "      <th>mol2vec_295</th>\n",
       "      <th>mol2vec_296</th>\n",
       "      <th>mol2vec_297</th>\n",
       "      <th>mol2vec_298</th>\n",
       "      <th>mol2vec_299</th>\n",
       "      <th>mol2vec_300</th>\n",
       "    </tr>\n",
       "  </thead>\n",
       "  <tbody>\n",
       "    <tr>\n",
       "      <th>0</th>\n",
       "      <td>-1.687902</td>\n",
       "      <td>-4.574107</td>\n",
       "      <td>-3.788245</td>\n",
       "      <td>0.820349</td>\n",
       "      <td>-1.165568</td>\n",
       "      <td>-7.593350</td>\n",
       "      <td>-8.685431</td>\n",
       "      <td>3.990403</td>\n",
       "      <td>0.837541</td>\n",
       "      <td>-1.743650</td>\n",
       "      <td>...</td>\n",
       "      <td>1.517185</td>\n",
       "      <td>14.211781</td>\n",
       "      <td>-2.282333</td>\n",
       "      <td>-1.685342</td>\n",
       "      <td>-10.677238</td>\n",
       "      <td>-8.447270</td>\n",
       "      <td>-10.454116</td>\n",
       "      <td>-1.177601</td>\n",
       "      <td>-10.021074</td>\n",
       "      <td>2.415180</td>\n",
       "    </tr>\n",
       "    <tr>\n",
       "      <th>1</th>\n",
       "      <td>2.769547</td>\n",
       "      <td>-3.059868</td>\n",
       "      <td>-1.797269</td>\n",
       "      <td>-0.953987</td>\n",
       "      <td>4.924242</td>\n",
       "      <td>0.454827</td>\n",
       "      <td>-9.468398</td>\n",
       "      <td>1.997672</td>\n",
       "      <td>2.284252</td>\n",
       "      <td>-0.435059</td>\n",
       "      <td>...</td>\n",
       "      <td>-1.738315</td>\n",
       "      <td>-0.433908</td>\n",
       "      <td>6.375163</td>\n",
       "      <td>1.494671</td>\n",
       "      <td>-5.280170</td>\n",
       "      <td>-2.230168</td>\n",
       "      <td>3.010262</td>\n",
       "      <td>-5.875394</td>\n",
       "      <td>-4.850206</td>\n",
       "      <td>0.262021</td>\n",
       "    </tr>\n",
       "    <tr>\n",
       "      <th>2</th>\n",
       "      <td>-0.599405</td>\n",
       "      <td>0.307458</td>\n",
       "      <td>-0.714178</td>\n",
       "      <td>-0.674214</td>\n",
       "      <td>2.840279</td>\n",
       "      <td>-0.157350</td>\n",
       "      <td>-3.893690</td>\n",
       "      <td>-0.316774</td>\n",
       "      <td>1.240166</td>\n",
       "      <td>-1.818650</td>\n",
       "      <td>...</td>\n",
       "      <td>-0.479649</td>\n",
       "      <td>2.350071</td>\n",
       "      <td>2.795008</td>\n",
       "      <td>2.045637</td>\n",
       "      <td>-3.803340</td>\n",
       "      <td>-0.811048</td>\n",
       "      <td>0.601341</td>\n",
       "      <td>-3.857245</td>\n",
       "      <td>-3.734070</td>\n",
       "      <td>-1.403350</td>\n",
       "    </tr>\n",
       "    <tr>\n",
       "      <th>3</th>\n",
       "      <td>1.644671</td>\n",
       "      <td>-4.325292</td>\n",
       "      <td>-5.132446</td>\n",
       "      <td>4.536877</td>\n",
       "      <td>2.365319</td>\n",
       "      <td>-1.383428</td>\n",
       "      <td>-16.086567</td>\n",
       "      <td>-2.104912</td>\n",
       "      <td>9.071654</td>\n",
       "      <td>2.479271</td>\n",
       "      <td>...</td>\n",
       "      <td>-0.469195</td>\n",
       "      <td>12.227261</td>\n",
       "      <td>11.296147</td>\n",
       "      <td>3.872406</td>\n",
       "      <td>-12.161841</td>\n",
       "      <td>-6.847059</td>\n",
       "      <td>-4.032226</td>\n",
       "      <td>-7.607767</td>\n",
       "      <td>-16.263073</td>\n",
       "      <td>-3.654300</td>\n",
       "    </tr>\n",
       "    <tr>\n",
       "      <th>4</th>\n",
       "      <td>-0.658838</td>\n",
       "      <td>-3.338789</td>\n",
       "      <td>-3.176840</td>\n",
       "      <td>-0.045156</td>\n",
       "      <td>6.762016</td>\n",
       "      <td>-4.120831</td>\n",
       "      <td>-17.303051</td>\n",
       "      <td>-0.583435</td>\n",
       "      <td>3.757764</td>\n",
       "      <td>-3.908807</td>\n",
       "      <td>...</td>\n",
       "      <td>-7.855739</td>\n",
       "      <td>6.595695</td>\n",
       "      <td>7.846533</td>\n",
       "      <td>1.867607</td>\n",
       "      <td>-9.597700</td>\n",
       "      <td>-8.820236</td>\n",
       "      <td>-5.526588</td>\n",
       "      <td>-5.572998</td>\n",
       "      <td>-11.429805</td>\n",
       "      <td>-4.801989</td>\n",
       "    </tr>\n",
       "  </tbody>\n",
       "</table>\n",
       "<p>5 rows × 300 columns</p>\n",
       "</div>"
      ],
      "text/plain": [
       "   mol2vec_1  mol2vec_2  mol2vec_3  mol2vec_4  mol2vec_5  mol2vec_6  \\\n",
       "0  -1.687902  -4.574107  -3.788245   0.820349  -1.165568  -7.593350   \n",
       "1   2.769547  -3.059868  -1.797269  -0.953987   4.924242   0.454827   \n",
       "2  -0.599405   0.307458  -0.714178  -0.674214   2.840279  -0.157350   \n",
       "3   1.644671  -4.325292  -5.132446   4.536877   2.365319  -1.383428   \n",
       "4  -0.658838  -3.338789  -3.176840  -0.045156   6.762016  -4.120831   \n",
       "\n",
       "   mol2vec_7  mol2vec_8  mol2vec_9  mol2vec_10  ...  mol2vec_291  mol2vec_292  \\\n",
       "0  -8.685431   3.990403   0.837541   -1.743650  ...     1.517185    14.211781   \n",
       "1  -9.468398   1.997672   2.284252   -0.435059  ...    -1.738315    -0.433908   \n",
       "2  -3.893690  -0.316774   1.240166   -1.818650  ...    -0.479649     2.350071   \n",
       "3 -16.086567  -2.104912   9.071654    2.479271  ...    -0.469195    12.227261   \n",
       "4 -17.303051  -0.583435   3.757764   -3.908807  ...    -7.855739     6.595695   \n",
       "\n",
       "   mol2vec_293  mol2vec_294  mol2vec_295  mol2vec_296  mol2vec_297  \\\n",
       "0    -2.282333    -1.685342   -10.677238    -8.447270   -10.454116   \n",
       "1     6.375163     1.494671    -5.280170    -2.230168     3.010262   \n",
       "2     2.795008     2.045637    -3.803340    -0.811048     0.601341   \n",
       "3    11.296147     3.872406   -12.161841    -6.847059    -4.032226   \n",
       "4     7.846533     1.867607    -9.597700    -8.820236    -5.526588   \n",
       "\n",
       "   mol2vec_298  mol2vec_299  mol2vec_300  \n",
       "0    -1.177601   -10.021074     2.415180  \n",
       "1    -5.875394    -4.850206     0.262021  \n",
       "2    -3.857245    -3.734070    -1.403350  \n",
       "3    -7.607767   -16.263073    -3.654300  \n",
       "4    -5.572998   -11.429805    -4.801989  \n",
       "\n",
       "[5 rows x 300 columns]"
      ]
     },
     "execution_count": 22,
     "metadata": {},
     "output_type": "execute_result"
    }
   ],
   "source": [
    "train_embeddings.head()"
   ]
  },
  {
   "cell_type": "code",
   "execution_count": 23,
   "metadata": {},
   "outputs": [
    {
     "data": {
      "text/plain": [
       "False"
      ]
     },
     "execution_count": 23,
     "metadata": {},
     "output_type": "execute_result"
    }
   ],
   "source": [
    "train_embeddings.isnull().any().any()"
   ]
  },
  {
   "cell_type": "code",
   "execution_count": 24,
   "metadata": {},
   "outputs": [
    {
     "data": {
      "text/plain": [
       "300"
      ]
     },
     "execution_count": 24,
     "metadata": {},
     "output_type": "execute_result"
    }
   ],
   "source": [
    "len(train_embeddings.columns)"
   ]
  },
  {
   "cell_type": "code",
   "execution_count": 25,
   "metadata": {},
   "outputs": [
    {
     "data": {
      "text/plain": [
       "1352"
      ]
     },
     "execution_count": 25,
     "metadata": {},
     "output_type": "execute_result"
    }
   ],
   "source": [
    "len(train_embeddings)"
   ]
  },
  {
   "cell_type": "code",
   "execution_count": 26,
   "metadata": {},
   "outputs": [],
   "source": [
    "NCA1 = 100\n",
    "NCA2 = 100\n",
    "DROPRATE = 0.2\n",
    "EP = 50\n",
    "BATCH_SIZE = 128\n",
    "VAL_RATIO = 0.1\n",
    "TEST_RATIO = 0.1"
   ]
  },
  {
   "cell_type": "code",
   "execution_count": 27,
   "metadata": {},
   "outputs": [],
   "source": [
    "# VERFICAR SE É NECESSÁRIO\n",
    "from deepchem.data.datasets import NumpyDataset # import NumpyDataset"
   ]
  },
  {
   "cell_type": "code",
   "execution_count": 28,
   "metadata": {},
   "outputs": [],
   "source": [
    "train_embeddings_dataset = dc.data.NumpyDataset(train_embeddings,\n",
    "                                                train_dataset.y,\n",
    "                                                train_dataset.w,\n",
    "                                                train_dataset.ids)"
   ]
  },
  {
   "cell_type": "code",
   "execution_count": 29,
   "metadata": {},
   "outputs": [],
   "source": [
    "valid_embeddings_dataset = dc.data.NumpyDataset(valid_embeddings,\n",
    "                                                valid_dataset.y,\n",
    "                                                valid_dataset.w,\n",
    "                                                valid_dataset.ids)"
   ]
  },
  {
   "cell_type": "code",
   "execution_count": 30,
   "metadata": {},
   "outputs": [],
   "source": [
    "test_embeddings_dataset = dc.data.NumpyDataset(test_embeddings,\n",
    "                                                test_dataset.y,\n",
    "                                                test_dataset.w,\n",
    "                                                test_dataset.ids)"
   ]
  },
  {
   "cell_type": "code",
   "execution_count": 31,
   "metadata": {},
   "outputs": [],
   "source": [
    "nb_epochs=[50,100, 150, 200,250,300,400,500,1000]\n",
    "losses = []\n",
    "loss =0"
   ]
  },
  {
   "cell_type": "code",
   "execution_count": 32,
   "metadata": {},
   "outputs": [
    {
     "name": "stdout",
     "output_type": "stream",
     "text": [
      "WARNING:tensorflow:From /home/mamonteiro/anaconda3/envs/lei/lib/python3.6/site-packages/tensorflow/python/ops/resource_variable_ops.py:435: colocate_with (from tensorflow.python.framework.ops) is deprecated and will be removed in a future version.\n",
      "Instructions for updating:\n",
      "Colocations handled automatically by placer.\n"
     ]
    },
    {
     "name": "stderr",
     "output_type": "stream",
     "text": [
      "WARNING:tensorflow:From /home/mamonteiro/anaconda3/envs/lei/lib/python3.6/site-packages/tensorflow/python/ops/resource_variable_ops.py:435: colocate_with (from tensorflow.python.framework.ops) is deprecated and will be removed in a future version.\n",
      "Instructions for updating:\n",
      "Colocations handled automatically by placer.\n"
     ]
    },
    {
     "name": "stdout",
     "output_type": "stream",
     "text": [
      "Epoch 50 loss: 2565.239478\n",
      "Epoch 100 loss: 2322.194314\n",
      "Epoch 150 loss: 2279.397798\n",
      "Epoch 200 loss: 2253.152531\n",
      "Epoch 250 loss: 2222.849846\n",
      "WARNING:tensorflow:From /home/mamonteiro/anaconda3/envs/lei/lib/python3.6/site-packages/tensorflow/python/training/checkpoint_management.py:624: remove_checkpoint (from tensorflow.python.training.checkpoint_management) is deprecated and will be removed in a future version.\n",
      "Instructions for updating:\n",
      "Use standard file APIs to delete files with this prefix.\n"
     ]
    },
    {
     "name": "stderr",
     "output_type": "stream",
     "text": [
      "WARNING:tensorflow:From /home/mamonteiro/anaconda3/envs/lei/lib/python3.6/site-packages/tensorflow/python/training/checkpoint_management.py:624: remove_checkpoint (from tensorflow.python.training.checkpoint_management) is deprecated and will be removed in a future version.\n",
      "Instructions for updating:\n",
      "Use standard file APIs to delete files with this prefix.\n"
     ]
    },
    {
     "name": "stdout",
     "output_type": "stream",
     "text": [
      "Epoch 300 loss: 2197.326122\n",
      "Epoch 400 loss: 2180.454863\n",
      "Epoch 500 loss: 2162.459187\n",
      "Epoch 1000 loss: 2152.004160\n"
     ]
    }
   ],
   "source": [
    "model = dc.models.MultitaskClassifier(n_tasks=27,\n",
    "                                      n_features=300,\n",
    "                                      layer_sizes=[512])\n",
    "\n",
    "for epoch in nb_epochs :\n",
    "    loss = model.fit(train_embeddings_dataset, epoch=epoch)\n",
    "    print(\"Epoch %d loss: %f\" % (epoch, loss))\n",
    "    losses.append(loss)"
   ]
  },
  {
   "cell_type": "code",
   "execution_count": 33,
   "metadata": {},
   "outputs": [
    {
     "data": {
      "text/plain": [
       "<module 'matplotlib.pyplot' from '/home/mamonteiro/anaconda3/envs/lei/lib/python3.6/site-packages/matplotlib/pyplot.py'>"
      ]
     },
     "execution_count": 33,
     "metadata": {},
     "output_type": "execute_result"
    },
    {
     "data": {
      "image/png": "[encoded data removed]",
      "text/plain": [
       "<Figure size 720x504 with 1 Axes>"
      ]
     },
     "metadata": {
      "needs_background": "light"
     },
     "output_type": "display_data"
    }
   ],
   "source": [
    "import matplotlib.pyplot as plot\n",
    "\n",
    "plot.figure(figsize=(10,7))\n",
    "plot.ylabel(\"Loss\")\n",
    "plot.xlabel(\"Epoch\")\n",
    "x = nb_epochs\n",
    "y = losses\n",
    "plot.scatter(x, y)\n",
    "plot"
   ]
  },
  {
   "cell_type": "code",
   "execution_count": 34,
   "metadata": {},
   "outputs": [
    {
     "name": "stdout",
     "output_type": "stream",
     "text": [
      "computed_metrics: [0.7279100048449613, 0.7309416795162014, 0.6854089067056985, 0.7584842333920909, 0.7242921013412816, 0.6690789967710445, 0.6973110594961587, 0.7052039924148661, 0.7354166666666666, 0.7291602979971241, 0.6824051494544565, 0.7027535492479617, 0.6659997735507246, 0.7240073112836927, 0.7317020162346164, 0.7056251821626349, 0.7103485475332533, 0.842028041809018, 0.9046903789153249, 0.7214510449719511, 0.723488031464818, 0.7046590125555218, 0.7295371100861754, 0.6771611201298702, 0.7602309325135411, 0.6973879807931532, 0.7380808323701813]\n",
      "Training set ROC AUC: {'mean-roc_auc_score': 0.7253616279341847}\n"
     ]
    }
   ],
   "source": [
    "import numpy as np\n",
    "metric = dc.metrics.Metric(dc.metrics.roc_auc_score, np.mean, mode=\"classification\")\n",
    "train_score = model.evaluate(train_embeddings_dataset, [metric], transformers)\n",
    "print('Training set ROC AUC:', train_score)"
   ]
  },
  {
   "cell_type": "code",
   "execution_count": 35,
   "metadata": {},
   "outputs": [
    {
     "name": "stdout",
     "output_type": "stream",
     "text": [
      "computed_metrics: [0.6103765449841909, 0.4749925127283618, 0.5265100671140939, 0.5009044317154056, 0.482397504456328, 0.5096638655462185, 0.5108225108225108, 0.42912280701754385, 0.6280470720089661, 0.5784397163120567, 0.5360824742268042, 0.4978662873399715, 0.5578512396694215, 0.5700159489633174, 0.5801954584650761, 0.6446078431372548, 0.46134817563388997, 0.6001552795031055, 0.9583333333333333, 0.5084745762711864, 0.5579896907216495, 0.5923801117975875, 0.5264525993883792, 0.5253863134657837, 0.5235259082787374, 0.5264150943396226, 0.46634768740031896]\n",
      "Validation set ROC AUC: {'mean-roc_auc_score': 0.5512853723941153}\n"
     ]
    }
   ],
   "source": [
    "valid_score = model.evaluate(valid_embeddings_dataset, [metric], transformers)\n",
    "print('Validation set ROC AUC:', valid_score)"
   ]
  },
  {
   "cell_type": "code",
   "execution_count": 36,
   "metadata": {},
   "outputs": [
    {
     "name": "stdout",
     "output_type": "stream",
     "text": [
      "computed_metrics: [0.4947463768115942, 0.431263189629183, 0.468266253869969, 0.5057799239098625, 0.5711111111111111, 0.4497476871320437, 0.5375275938189845, 0.45105263157894737, 0.6456906392694064, 0.6286634460547504, 0.534170653907496, 0.5465945866431303, 0.4941502463054187, 0.5334821428571428, 0.49887278582930755, 0.6286821705426356, 0.45538999264164826, 0.5660377358490566, 0.5598802395209581, 0.5662946428571428, 0.49877958579881654, 0.5574809805579036, 0.42779909312870595, 0.48868374032162, 0.5082251082251082, 0.574496644295302, 0.4779569892473118]\n",
      "Validation set ROC AUC: {'mean-roc_auc_score': 0.5222528219153539}\n"
     ]
    }
   ],
   "source": [
    "test_score = model.evaluate(test_embeddings_dataset, [metric], transformers)\n",
    "print('Validation set ROC AUC:', test_score)"
   ]
  },
  {
   "cell_type": "markdown",
   "metadata": {},
   "source": [
    "\n",
    "# Valores da Baseline ...."
   ]
  },
  {
   "cell_type": "code",
   "execution_count": 37,
   "metadata": {},
   "outputs": [
    {
     "data": {
      "text/plain": [
       "[(0, 0.5483654630111217)]"
      ]
     },
     "execution_count": 37,
     "metadata": {},
     "output_type": "execute_result"
    },
    {
     "data": {
      "image/png": "[encoded data removed]",
      "text/plain": [
       "<Figure size 720x288 with 1 Axes>"
      ]
     },
     "metadata": {},
     "output_type": "display_data"
    }
   ],
   "source": [
    "import seaborn as sns\n",
    "\n",
    "sns.set(rc={'figure.figsize':(10,4)})\n",
    "sns.set(style=\"whitegrid\")\n",
    "ax = sns.barplot(x=[test_score['mean-roc_auc_score']],\n",
    "                 y=['First Scenario'])\n",
    "ax.set(xlim=(0, None))"
   ]
  },
  {
   "cell_type": "markdown",
   "metadata": {},
   "source": [
    "# # Valores com hyperparameters"
   ]
  },
  {
   "cell_type": "code",
   "execution_count": 38,
   "metadata": {},
   "outputs": [],
   "source": [
    "sider_offsides_tasks = sorted([ 'Hepatobiliary disorders',\n",
    "   'Metabolism and nutrition disorders', 'Product issues', 'Eye disorders',\n",
    "   'Investigations', 'Musculoskeletal and connective tissue disorders',\n",
    "   'Gastrointestinal disorders', 'Social circumstances',\n",
    "   'Immune system disorders', 'Reproductive system and breast disorders',\n",
    "   'Neoplasms benign, malignant and unspecified (incl cysts and polyps)',\n",
    "   'General disorders and administration site conditions',\n",
    "   'Endocrine disorders', 'Surgical and medical procedures',\n",
    "   'Vascular disorders', 'Blood and lymphatic system disorders',\n",
    "   'Skin and subcutaneous tissue disorders',\n",
    "   'Congenital, familial and genetic disorders',\n",
    "   'Infections and infestations',\n",
    "   'Respiratory, thoracic and mediastinal disorders',\n",
    "   'Psychiatric disorders', 'Renal and urinary disorders',\n",
    "   'Pregnancy, puerperium and perinatal conditions',\n",
    "   'Ear and labyrinth disorders', 'Cardiac disorders',\n",
    "   'Nervous system disorders',\n",
    "   'Injury, poisoning and procedural complications'\n",
    "])\n"
   ]
  },
  {
   "cell_type": "code",
   "execution_count": 39,
   "metadata": {},
   "outputs": [],
   "source": [
    "params_dict = {\"activation\": [\"relu\",\"sigmoid\",\"tanh\"],\n",
    "               \"optimizer\": ['RMSprop','adam'],\n",
    "               \"momentum\": [.9],\n",
    "               \"dropouts\": [.5,0.2],\n",
    "               \"nb_layers\": [512],\n",
    "               \"penalty\": [0.]\n",
    "              }\n",
    "\n",
    "n_features = train_dataset.get_data_shape()[0]\n",
    "\n",
    "def model_builder(model_params, model_dir):\n",
    "    model = dc.models.MultitaskClassifier(\n",
    "    len(sider_offsides_tasks), n_features, **model_params)\n",
    "    return model"
   ]
  },
  {
   "cell_type": "code",
   "execution_count": 40,
   "metadata": {},
   "outputs": [
    {
     "data": {
      "text/plain": [
       "1024"
      ]
     },
     "execution_count": 40,
     "metadata": {},
     "output_type": "execute_result"
    }
   ],
   "source": [
    "train_dataset.get_data_shape()[0]"
   ]
  },
  {
   "cell_type": "code",
   "execution_count": 41,
   "metadata": {},
   "outputs": [
    {
     "data": {
      "text/plain": [
       "1352"
      ]
     },
     "execution_count": 41,
     "metadata": {},
     "output_type": "execute_result"
    }
   ],
   "source": [
    "len(train_dataset)"
   ]
  },
  {
   "cell_type": "code",
   "execution_count": 42,
   "metadata": {},
   "outputs": [
    {
     "name": "stdout",
     "output_type": "stream",
     "text": [
      "Fitting model 1/12\n",
      "hyperparameters: {'activation': 'relu', 'optimizer': 'RMSprop', 'momentum': 0.9, 'dropouts': 0.5, 'nb_layers': 512, 'penalty': 0.0}\n",
      "computed_metrics: [0.5192584075883875, 0.5582509733453129, 0.6469798657718121, 0.4754296050648176, 0.5269607843137256, 0.542577030812325, 0.5652442795299938, 0.44280701754385965, 0.5330624824880918, 0.5524822695035461, 0.52262313860252, 0.49317211948790896, 0.5211776859504131, 0.5645933014354068, 0.5517390054613395, 0.6760249554367201, 0.5080395794681509, 0.6909937888198758, 0.06547619047619047, 0.5161787365177195, 0.5322164948453608, 0.5426596057664019, 0.4773700305810398, 0.4576894775570272, 0.504169148302561, 0.5088050314465409, 0.5626794258373206]\n",
      "Model 1/12, Metric mean-roc_auc_score, Validation set 0: 0.520691\n",
      "\tbest_validation_score so far: 0.520691\n",
      "Fitting model 2/12\n",
      "hyperparameters: {'activation': 'relu', 'optimizer': 'RMSprop', 'momentum': 0.9, 'dropouts': 0.2, 'nb_layers': 512, 'penalty': 0.0}\n",
      "computed_metrics: [0.5251509054325956, 0.5516621743036838, 0.6550335570469799, 0.47663551401869164, 0.518048128342246, 0.5422969187675071, 0.5674087816944959, 0.471578947368421, 0.5252171476604091, 0.5809929078014184, 0.5320733104238259, 0.5099573257467995, 0.540461432506887, 0.5527910685805423, 0.5326243173325669, 0.6880570409982174, 0.5349412492269635, 0.6762422360248448, 0.13095238095238093, 0.512788906009245, 0.5403780068728522, 0.568255369226243, 0.4923547400611621, 0.5202354672553349, 0.49255509231685524, 0.5427672955974843, 0.5751196172248805]\n",
      "Model 2/12, Metric mean-roc_auc_score, Validation set 1: 0.531725\n",
      "\tbest_validation_score so far: 0.531725\n",
      "Fitting model 3/12\n",
      "hyperparameters: {'activation': 'relu', 'optimizer': 'adam', 'momentum': 0.9, 'dropouts': 0.5, 'nb_layers': 512, 'penalty': 0.0}\n",
      "computed_metrics: [0.5418223627479162, 0.5357891584306678, 0.6473154362416107, 0.48085619535725055, 0.5309714795008913, 0.5063025210084033, 0.5330859616573902, 0.43614035087719294, 0.5173718128327263, 0.5641134751773049, 0.4941294387170676, 0.49402560455192035, 0.5043044077134986, 0.557097288676236, 0.5308996838171889, 0.6664438502673797, 0.5021645021645021, 0.701863354037267, 0.08333333333333334, 0.5036979969183359, 0.5279209621993127, 0.5591350397175641, 0.46636085626911317, 0.4830757910228109, 0.5128052412150089, 0.4962264150943396, 0.5631578947368421]\n",
      "Model 3/12, Metric mean-roc_auc_score, Validation set 2: 0.516311\n",
      "\tbest_validation_score so far: 0.531725\n",
      "Fitting model 4/12\n",
      "hyperparameters: {'activation': 'relu', 'optimizer': 'adam', 'momentum': 0.9, 'dropouts': 0.2, 'nb_layers': 512, 'penalty': 0.0}\n",
      "computed_metrics: [0.5132221902845645, 0.5465708295896975, 0.6516778523489933, 0.47784142297256554, 0.5229500891265597, 0.5154061624649859, 0.5797773654916512, 0.46175438596491225, 0.5082656206220231, 0.5828368794326241, 0.5310710194730813, 0.52375533428165, 0.5232438016528926, 0.5574162679425838, 0.5392354124748491, 0.658868092691622, 0.5092764378478665, 0.6746894409937888, 0.15476190476190477, 0.511402157164869, 0.5564146620847652, 0.568696675492792, 0.4870030581039755, 0.48859455481972036, 0.4865991661703395, 0.5433962264150942, 0.5929824561403509]\n",
      "Model 4/12, Metric mean-roc_auc_score, Validation set 3: 0.528434\n",
      "\tbest_validation_score so far: 0.531725\n",
      "Fitting model 5/12\n",
      "hyperparameters: {'activation': 'sigmoid', 'optimizer': 'RMSprop', 'momentum': 0.9, 'dropouts': 0.5, 'nb_layers': 512, 'penalty': 0.0}\n",
      "computed_metrics: [0.5413912043690716, 0.5515124288709194, 0.6154362416107382, 0.4826650587880615, 0.5338680926916222, 0.52703081232493, 0.5711193568336426, 0.4536842105263158, 0.5072849537685626, 0.5649645390070922, 0.5675830469644902, 0.5120910384068279, 0.5488980716253443, 0.5650717703349283, 0.5579189422247772, 0.6697860962566844, 0.5012368583797155, 0.7321428571428571, 0.09523809523809523, 0.49583975346687215, 0.5558419243986255, 0.5606060606060606, 0.4938837920489297, 0.48197203826342894, 0.4922572960095295, 0.489937106918239, 0.5639553429027113]\n",
      "Model 5/12, Metric mean-roc_auc_score, Validation set 4: 0.527156\n",
      "\tbest_validation_score so far: 0.531725\n",
      "Fitting model 6/12\n",
      "hyperparameters: {'activation': 'sigmoid', 'optimizer': 'RMSprop', 'momentum': 0.9, 'dropouts': 0.2, 'nb_layers': 512, 'penalty': 0.0}\n",
      "computed_metrics: [0.5040241448692153, 0.5519616651692123, 0.6543624161073824, 0.48522761531504377, 0.5338680926916222, 0.55, 0.5609152752009895, 0.4691228070175439, 0.514149621742785, 0.5713475177304965, 0.5282073310423826, 0.5372688477951636, 0.5442493112947658, 0.5601275917065391, 0.5311871227364184, 0.6885026737967914, 0.5272108843537415, 0.6545031055900621, 0.14285714285714288, 0.5143297380585516, 0.5461053837342498, 0.5807590467784642, 0.5059633027522936, 0.506990434142752, 0.4970220369267421, 0.5534591194968553, 0.5830940988835727]\n",
      "Model 6/12, Metric mean-roc_auc_score, Validation set 5: 0.533215\n",
      "\tbest_validation_score so far: 0.533215\n",
      "Fitting model 7/12\n",
      "hyperparameters: {'activation': 'sigmoid', 'optimizer': 'adam', 'momentum': 0.9, 'dropouts': 0.5, 'nb_layers': 512, 'penalty': 0.0}\n",
      "computed_metrics: [0.5346363897671744, 0.5528601377657982, 0.6231543624161073, 0.4965330117576123, 0.5459001782531194, 0.5379551820728292, 0.5661719233147805, 0.46842105263157896, 0.5155505743905856, 0.5739007092198583, 0.5292096219931272, 0.5156472261735419, 0.5225550964187328, 0.5719298245614036, 0.5741592411612533, 0.69674688057041, 0.49783549783549785, 0.7204968944099379, 0.125, 0.49861325115562405, 0.554553264604811, 0.5594292438952633, 0.5036697247706421, 0.5246504782928625, 0.5110184633710542, 0.48427672955974843, 0.5832535885167465]\n",
      "Model 7/12, Metric mean-roc_auc_score, Validation set 6: 0.532894\n",
      "\tbest_validation_score so far: 0.533215\n",
      "Fitting model 8/12\n",
      "hyperparameters: {'activation': 'sigmoid', 'optimizer': 'adam', 'momentum': 0.9, 'dropouts': 0.2, 'nb_layers': 512, 'penalty': 0.0}\n",
      "computed_metrics: [0.5139407875826387, 0.5443246480982331, 0.6533557046979867, 0.4951763641845041, 0.5267379679144385, 0.5399159663865547, 0.5630797773654916, 0.4856140350877193, 0.5183524796861866, 0.5841134751773049, 0.5488258877434135, 0.5183499288762446, 0.544249311294766, 0.5456140350877193, 0.5553319919517102, 0.6853832442067737, 0.5290661719233147, 0.6599378881987578, 0.1369047619047619, 0.5161787365177195, 0.5171821305841924, 0.5563401000294205, 0.4960244648318043, 0.48307579102281084, 0.5026801667659321, 0.5377358490566038, 0.5682615629984051]\n",
      "Model 8/12, Metric mean-roc_auc_score, Validation set 7: 0.530583\n",
      "\tbest_validation_score so far: 0.533215\n",
      "Fitting model 9/12\n",
      "hyperparameters: {'activation': 'tanh', 'optimizer': 'RMSprop', 'momentum': 0.9, 'dropouts': 0.5, 'nb_layers': 512, 'penalty': 0.0}\n",
      "computed_metrics: [0.5258695027306697, 0.5461215932914045, 0.6563758389261745, 0.4782936388302683, 0.5267379679144386, 0.5410364145658263, 0.5735930735930737, 0.46070175438596495, 0.52801905295601, 0.547659574468085, 0.5388029782359679, 0.4978662873399715, 0.49724517906336085, 0.5526315789473684, 0.5563380281690142, 0.6905080213903744, 0.5420531849103278, 0.6995341614906831, 0.0892857142857143, 0.5006163328197226, 0.5293528064146621, 0.5731097381582819, 0.4948012232415902, 0.4694628403237675, 0.5047647409172126, 0.5440251572327044, 0.5781499202551834]\n",
      "Model 9/12, Metric mean-roc_auc_score, Validation set 8: 0.527517\n",
      "\tbest_validation_score so far: 0.533215\n",
      "Fitting model 10/12\n",
      "hyperparameters: {'activation': 'tanh', 'optimizer': 'RMSprop', 'momentum': 0.9, 'dropouts': 0.2, 'nb_layers': 512, 'penalty': 0.0}\n",
      "computed_metrics: [0.5218453578614545, 0.5625935908954777, 0.6667785234899328, 0.4782936388302683, 0.5309714795008913, 0.5415966386554623, 0.564935064935065, 0.4670175438596491, 0.5252171476604091, 0.5724822695035461, 0.5315005727376861, 0.5200568990042673, 0.5142906336088154, 0.5559808612440191, 0.5467088243748204, 0.6717914438502675, 0.5476190476190477, 0.6917701863354038, 0.125, 0.5120184899845917, 0.5575601374570447, 0.549132097675787, 0.5013761467889908, 0.48785871964679917, 0.504169148302561, 0.5320754716981131, 0.564274322169059]\n",
      "Model 10/12, Metric mean-roc_auc_score, Validation set 9: 0.531293\n",
      "\tbest_validation_score so far: 0.533215\n",
      "Fitting model 11/12\n",
      "hyperparameters: {'activation': 'tanh', 'optimizer': 'adam', 'momentum': 0.9, 'dropouts': 0.5, 'nb_layers': 512, 'penalty': 0.0}\n"
     ]
    },
    {
     "name": "stdout",
     "output_type": "stream",
     "text": [
      "computed_metrics: [0.5331991951710262, 0.5601976639712489, 0.6171140939597315, 0.4849261380765752, 0.535427807486631, 0.5362745098039216, 0.531230674087817, 0.4536842105263158, 0.5305407677220509, 0.5619858156028368, 0.5448167239404353, 0.5133712660028449, 0.5457988980716253, 0.5629984051036683, 0.5518827249209544, 0.6700089126559714, 0.5225726654298083, 0.7298136645962733, 0.11904761904761905, 0.5146379044684131, 0.5337915234822451, 0.5526625478081789, 0.48379204892966365, 0.5033112582781457, 0.5110184633710542, 0.510691823899371, 0.5818181818181818]\n",
      "Model 11/12, Metric mean-roc_auc_score, Validation set 10: 0.529504\n",
      "\tbest_validation_score so far: 0.533215\n",
      "Fitting model 12/12\n",
      "hyperparameters: {'activation': 'tanh', 'optimizer': 'adam', 'momentum': 0.9, 'dropouts': 0.2, 'nb_layers': 512, 'penalty': 0.0}\n",
      "computed_metrics: [0.5037367059499857, 0.556304282719377, 0.6442953020134228, 0.4989448296653603, 0.5367647058823529, 0.5254901960784314, 0.5723562152133581, 0.4652631578947368, 0.5043429532081816, 0.573049645390071, 0.5286368843069874, 0.5139402560455193, 0.534263085399449, 0.550079744816587, 0.5409600459902271, 0.6686720142602496, 0.5287569573283859, 0.6630434782608696, 0.14285714285714288, 0.5075500770416025, 0.5330756013745704, 0.5567814062959694, 0.4931192660550459, 0.5161883738042679, 0.4880881477069684, 0.5660377358490566, 0.5711323763955343]\n",
      "Model 12/12, Metric mean-roc_auc_score, Validation set 11: 0.529027\n",
      "\tbest_validation_score so far: 0.533215\n",
      "computed_metrics: [0.9038214631782946, 0.8867805627549402, 0.9426026863573969, 0.9501695956412585, 0.9768132141082961, 0.8948323303189265, 0.8573744863319634, 0.8634301157073592, 0.9207681741335587, 0.8908141141039141, 0.8585761458835868, 0.871225091490635, 0.8397429800724638, 0.8876110683792495, 0.8813328096360302, 0.9083496412263536, 0.8564760443080208, 0.9906428643912999, 0.9978570856364656, 0.8937890776666533, 0.8912123758505188, 0.9161457915751327, 0.8684306347857749, 0.840945165945166, 0.9852876592007027, 0.9328040254764391, 0.88426791398083]\n",
      "Best hyperparameters: ('sigmoid', 'RMSprop', 0.9, 0.2, 512, 0.0)\n",
      "train_score: 0.903411\n",
      "validation_score: 0.533215\n"
     ]
    }
   ],
   "source": [
    "\n",
    "metric = dc.metrics.Metric(dc.metrics.roc_auc_score, np.mean)\n",
    "optimizer = dc.hyper.HyperparamOpt(model_builder)\n",
    "best_dnn, best_hyperparams, all_results = optimizer.hyperparam_search(\n",
    "    params_dict, train_dataset, valid_dataset, [], metric)"
   ]
  },
  {
   "cell_type": "code",
   "execution_count": 43,
   "metadata": {},
   "outputs": [
    {
     "data": {
      "text/plain": [
       "MultitaskClassifier(activation_fns=None, bias_init_consts=None, dropouts=None,\n",
       "                    layer_sizes=None, n_classes=2, n_features=1024, n_tasks=27,\n",
       "                    weight_decay_penalty=None, weight_decay_penalty_type=None,\n",
       "                    weight_init_stddevs=None)"
      ]
     },
     "execution_count": 43,
     "metadata": {},
     "output_type": "execute_result"
    }
   ],
   "source": [
    "best_dnn"
   ]
  },
  {
   "cell_type": "code",
   "execution_count": 44,
   "metadata": {},
   "outputs": [
    {
     "data": {
      "text/plain": [
       "('sigmoid', 'RMSprop', 0.9, 0.2, 512, 0.0)"
      ]
     },
     "execution_count": 44,
     "metadata": {},
     "output_type": "execute_result"
    }
   ],
   "source": [
    "best_hyperparams"
   ]
  },
  {
   "cell_type": "code",
   "execution_count": 45,
   "metadata": {},
   "outputs": [],
   "source": [
    "obj=best_dnn.fit(train_dataset,**params_dict)"
   ]
  },
  {
   "cell_type": "code",
   "execution_count": 46,
   "metadata": {},
   "outputs": [],
   "source": [
    "metric = dc.metrics.Metric(dc.metrics.roc_auc_score, np.mean)"
   ]
  },
  {
   "cell_type": "code",
   "execution_count": 47,
   "metadata": {},
   "outputs": [
    {
     "name": "stdout",
     "output_type": "stream",
     "text": [
      "computed_metrics: [0.9582091812015503, 0.9480181643209431, 0.9733694524243848, 0.983661396292933, 0.9918529557873821, 0.9481556871453243, 0.9174848132928355, 0.9222966604971216, 0.9687711327134405, 0.9438637161328306, 0.914936854418208, 0.9295632487269803, 0.8945482336956521, 0.945610610734795, 0.9439873003404031, 0.9468751301161678, 0.91919903020597, 0.9975095558637487, 0.9996995914443643, 0.9516139829430588, 0.9486012394524002, 0.9614226384234241, 0.9319420843953554, 0.9042906746031745, 0.995374030156639, 0.9691091954022988, 0.9409348650682223]\n",
      "{'mean-roc_auc_score': 0.9500333861407262}\n"
     ]
    }
   ],
   "source": [
    "train_scores = best_dnn.evaluate(train_dataset, [metric], transformers)\n",
    "print(train_scores)"
   ]
  },
  {
   "cell_type": "code",
   "execution_count": 48,
   "metadata": {},
   "outputs": [
    {
     "name": "stdout",
     "output_type": "stream",
     "text": [
      "computed_metrics: [0.44380569129060077, 0.5569032644504343, 0.6399328859060402, 0.5043714199577931, 0.5641711229946524, 0.5361344537815126, 0.5528756957328386, 0.5175438596491229, 0.4932754272905576, 0.5507801418439717, 0.5060137457044673, 0.5470839260312945, 0.5268595041322314, 0.532695374800638, 0.5531762000574878, 0.6575311942959002, 0.5516388373531231, 0.6940993788819876, 0.07738095238095236, 0.5097072419106318, 0.5350801832760596, 0.5485436893203883, 0.5016819571865443, 0.5272259013980869, 0.4907683144729005, 0.6018867924528302, 0.6118022328548645]\n",
      "{'mean-roc_auc_score': 0.5308507181262191}\n"
     ]
    }
   ],
   "source": [
    "valid_scores = best_dnn.evaluate(valid_dataset, [metric], transformers)\n",
    "print(valid_scores)"
   ]
  },
  {
   "cell_type": "code",
   "execution_count": 49,
   "metadata": {},
   "outputs": [
    {
     "name": "stdout",
     "output_type": "stream",
     "text": [
      "computed_metrics: [0.5689855072463768, 0.5290925535122099, 0.4260835913312694, 0.5823822066139889, 0.5477777777777777, 0.49607513316512475, 0.5198675496688742, 0.4487719298245614, 0.5636415525114156, 0.5161030595813204, 0.530622009569378, 0.510444248308326, 0.5591133004926109, 0.5257440476190476, 0.46344605475040257, 0.6153100775193798, 0.42935982339955847, 0.389937106918239, 0.12574850299401197, 0.4956845238095238, 0.528698224852071, 0.5717103409411102, 0.5076735263341472, 0.5631328171530673, 0.36796536796536794, 0.4442953020134228, 0.4854838709677419]\n",
      "{'mean-roc_auc_score': 0.49307962988297505}\n"
     ]
    }
   ],
   "source": [
    "test_scores_v1 = best_dnn.evaluate(test_dataset, [metric], transformers)\n",
    "print(test_scores_v1)"
   ]
  },
  {
   "cell_type": "code",
   "execution_count": 50,
   "metadata": {},
   "outputs": [
    {
     "data": {
      "text/plain": [
       "[(0, 0.5483654630111217)]"
      ]
     },
     "execution_count": 50,
     "metadata": {},
     "output_type": "execute_result"
    },
    {
     "data": {
      "image/png": "[encoded data removed]",
      "text/plain": [
       "<Figure size 720x288 with 1 Axes>"
      ]
     },
     "metadata": {},
     "output_type": "display_data"
    }
   ],
   "source": [
    "import seaborn as sns\n",
    "\n",
    "sns.set(rc={'figure.figsize':(10,4)})\n",
    "sns.set(style=\"whitegrid\")\n",
    "ax = sns.barplot(x=[test_score['mean-roc_auc_score'],test_scores_v1['mean-roc_auc_score']],\n",
    "                 y=['roc_auc_score - 1º','roc_auc_score - 2º'])\n",
    "ax.set(xlim=(0, None))"
   ]
  },
  {
   "cell_type": "code",
   "execution_count": 51,
   "metadata": {},
   "outputs": [
    {
     "name": "stdout",
     "output_type": "stream",
     "text": [
      "0.5222528219153539\n",
      "0.49307962988297505\n"
     ]
    }
   ],
   "source": [
    "print(test_score['mean-roc_auc_score'])\n",
    "print(test_scores_v1['mean-roc_auc_score'])"
   ]
  },
  {
   "cell_type": "code",
   "execution_count": null,
   "metadata": {},
   "outputs": [],
   "source": []
  }
 ],
 "metadata": {
  "kernelspec": {
   "display_name": "Python 3",
   "language": "python",
   "name": "python3"
  },
  "language_info": {
   "codemirror_mode": {
    "name": "ipython",
    "version": 3
   },
   "file_extension": ".py",
   "mimetype": "text/x-python",
   "name": "python",
   "nbconvert_exporter": "python",
   "pygments_lexer": "ipython3",
   "version": "3.6.8"
  }
 },
 "nbformat": 4,
 "nbformat_minor": 2
}
