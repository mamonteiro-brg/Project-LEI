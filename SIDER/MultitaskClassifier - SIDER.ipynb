{
 "cells": [
  {
   "cell_type": "code",
   "execution_count": 1,
   "metadata": {},
   "outputs": [],
   "source": [
    "\"\"\"\n",
    "Script that trains multitask models on Tox21 dataset.\n",
    "\"\"\"\n",
    "from __future__ import print_function\n",
    "from __future__ import division\n",
    "from __future__ import unicode_literals\n",
    "\n",
    "import numpy as np\n",
    "import deepchem as dc\n"
   ]
  },
  {
   "cell_type": "code",
   "execution_count": 2,
   "metadata": {},
   "outputs": [
    {
     "name": "stdout",
     "output_type": "stream",
     "text": [
      "Loading dataset from disk.\n",
      "Loading dataset from disk.\n",
      "Loading dataset from disk.\n"
     ]
    }
   ],
   "source": [
    "\n",
    "# Only for debug!\n",
    "np.random.seed(123)\n",
    "\n",
    "# Load Tox21 dataset\n",
    "n_features = 1024\n",
    "tox21_tasks, tox21_datasets, transformers = dc.molnet.load_sider()\n",
    "train_dataset, valid_dataset, test_dataset = tox21_datasets\n"
   ]
  },
  {
   "cell_type": "code",
   "execution_count": 3,
   "metadata": {},
   "outputs": [],
   "source": [
    "\n",
    "# Fit models\n",
    "metric = dc.metrics.Metric(dc.metrics.roc_auc_score, np.mean)\n",
    "\n",
    "model = dc.models.MultitaskClassifier(\n",
    "    len(tox21_tasks),\n",
    "    n_features,\n",
    "    layer_sizes=[1000],\n",
    "    dropouts=[.25],\n",
    "    learning_rate=0.001,\n",
    "    batch_size=50,\n",
    "    use_queue=False)\n",
    "\n"
   ]
  },
  {
   "cell_type": "code",
   "execution_count": 4,
   "metadata": {},
   "outputs": [
    {
     "name": "stdout",
     "output_type": "stream",
     "text": [
      "WARNING:tensorflow:From /home/mamonteiro/anaconda3/envs/lei_deepchem_python36/lib/python3.6/site-packages/tensorflow/python/framework/op_def_library.py:263: colocate_with (from tensorflow.python.framework.ops) is deprecated and will be removed in a future version.\n",
      "Instructions for updating:\n",
      "Colocations handled automatically by placer.\n",
      "WARNING:tensorflow:From /home/mamonteiro/anaconda3/envs/lei_deepchem_python36/lib/python3.6/site-packages/deepchem/models/tensorgraph/layers.py:3717: calling dropout (from tensorflow.python.ops.nn_ops) with keep_prob is deprecated and will be removed in a future version.\n",
      "Instructions for updating:\n",
      "Please use `rate` instead of `keep_prob`. Rate should be set to `rate = 1 - keep_prob`.\n",
      "Evaluating model\n",
      "computed_metrics: [0.7859812076401725, 0.70563051279595, 0.9651937329955906, 0.74396047696577, 0.7436147501213004, 0.7177534680129791, 0.7418910797029798, 0.8046850935375895, 0.711939720295975, 0.7960956915430231, 0.8080398462624521, 0.6746497404167555, 0.816811052458768, 0.8195065944418276, 0.7394913458141998, 0.7771446588308717, 0.7370150728935014, 0.8144030338038073, 0.7245533549662451, 0.7108186779866585, 0.7430744647583308, 0.7540722698608655, 0.8527854384997243, 0.7576605874708207, 0.7342962840566938, 0.8011961722488039, 0.7149502693742229]\n",
      "computed_metrics: [0.6679193037974683, 0.5993045733144743, 0.8169014084507042, 0.5559776089564175, 0.6427498121712998, 0.6325814536340852, 0.6096345514950167, 0.54, 0.521054964539007, 0.6487603305785123, 0.6582207207207207, 0.4421487603305785, 0.5952380952380952, 0.5345528455284553, 0.5371681415929204, 0.6376064545047064, 0.6924212598425197, 0.563231850117096, 0.6206976744186047, 0.5415542363734485, 0.5409302325581395, 0.6187581415544942, 0.6615776081424936, 0.635046919624643, 0.6604661586732408, 0.693384223918575, 0.5392156862745099]\n",
      "Train scores\n",
      "{'mean-roc_auc_score': 0.7665635036205882}\n",
      "Validation scores\n",
      "{'mean-roc_auc_score': 0.6076704820870454}\n"
     ]
    }
   ],
   "source": [
    "# Fit trained model\n",
    "model.fit(train_dataset, nb_epoch=1)\n",
    "model.save()\n",
    "\n",
    "print(\"Evaluating model\")\n",
    "train_scores = model.evaluate(train_dataset, [metric], transformers)\n",
    "valid_scores = model.evaluate(valid_dataset, [metric], transformers)\n",
    "\n",
    "print(\"Train scores\")\n",
    "print(train_scores)\n",
    "\n",
    "print(\"Validation scores\")\n",
    "print(valid_scores)"
   ]
  },
  {
   "cell_type": "code",
   "execution_count": null,
   "metadata": {},
   "outputs": [],
   "source": []
  }
 ],
 "metadata": {
  "kernelspec": {
   "display_name": "Python 3",
   "language": "python",
   "name": "python3"
  },
  "language_info": {
   "codemirror_mode": {
    "name": "ipython",
    "version": 3
   },
   "file_extension": ".py",
   "mimetype": "text/x-python",
   "name": "python",
   "nbconvert_exporter": "python",
   "pygments_lexer": "ipython3",
   "version": "3.6.8"
  }
 },
 "nbformat": 4,
 "nbformat_minor": 2
}
