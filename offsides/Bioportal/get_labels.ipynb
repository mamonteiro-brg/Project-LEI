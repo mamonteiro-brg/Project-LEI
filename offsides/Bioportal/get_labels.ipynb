{
 "cells": [
  {
   "cell_type": "markdown",
   "metadata": {},
   "source": [
    "Links que pode ser importantes\n",
    "\n",
    "https://github.com/ncbo/ncbo_rest_sample_code/tree/master/python/python3"
   ]
  },
  {
   "cell_type": "code",
   "execution_count": 2,
   "metadata": {},
   "outputs": [],
   "source": [
    "import urllib.request, urllib.error, urllib.parse\n",
    "import json\n",
    "\n",
    "REST_URL = \"http://data.bioontology.org\"\n",
    "API_KEY = \"70d0c0ad-f6be-48e2-9241-8d987f4d1037\"\n"
   ]
  },
  {
   "cell_type": "code",
   "execution_count": null,
   "metadata": {},
   "outputs": [],
   "source": [
    "def get_json(url):\n",
    "    opener = urllib.request.build_opener()\n",
    "    opener.addheaders = [('Authorization', 'apikey token=' + API_KEY)]\n",
    "    return json.loads(opener.open(url).read())\n",
    "\n",
    "# Get all ontologies from the REST service and parse the JSON\n",
    "ontologies = get_json(REST_URL+\"/ontologies\")\n",
    "\n",
    "# Iterate looking for ontology with acronym BRO\n",
    "bro = None\n",
    "for ontology in ontologies:\n",
    "    if ontology[\"acronym\"] == \"BRO\":\n",
    "        bro = ontology\n",
    "\n",
    "labels = []\n",
    "\n",
    "# Using the hypermedia link called `classes`, get the first page\n",
    "page = get_json(bro[\"links\"][\"classes\"])\n",
    "\n",
    "# Iterate over the available pages adding labels from all classes\n",
    "# When we hit the last page, the while loop will exit\n",
    "next_page = page\n",
    "while next_page:\n",
    "    next_page = page[\"links\"][\"nextPage\"]\n",
    "    for bro_class in page[\"collection\"]:\n",
    "        labels.append(bro_class[\"prefLabel\"])\n",
    "    if next_page:\n",
    "        page = get_json(next_page)\n",
    "\n",
    "# Output the labels\n",
    "for label in labels:\n",
    "    print(label)"
   ]
  },
  {
   "cell_type": "code",
   "execution_count": null,
   "metadata": {},
   "outputs": [],
   "source": []
  },
  {
   "cell_type": "code",
   "execution_count": null,
   "metadata": {},
   "outputs": [],
   "source": []
  },
  {
   "cell_type": "code",
   "execution_count": null,
   "metadata": {},
   "outputs": [],
   "source": []
  },
  {
   "cell_type": "code",
   "execution_count": null,
   "metadata": {},
   "outputs": [],
   "source": []
  },
  {
   "cell_type": "code",
   "execution_count": null,
   "metadata": {},
   "outputs": [],
   "source": []
  },
  {
   "cell_type": "code",
   "execution_count": null,
   "metadata": {},
   "outputs": [],
   "source": []
  }
 ],
 "metadata": {
  "kernelspec": {
   "display_name": "Python 3",
   "language": "python",
   "name": "python3"
  },
  "language_info": {
   "codemirror_mode": {
    "name": "ipython",
    "version": 3
   },
   "file_extension": ".py",
   "mimetype": "text/x-python",
   "name": "python",
   "nbconvert_exporter": "python",
   "pygments_lexer": "ipython3",
   "version": "3.6.6"
  }
 },
 "nbformat": 4,
 "nbformat_minor": 2
}
