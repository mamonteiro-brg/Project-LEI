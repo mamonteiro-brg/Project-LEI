{
 "cells": [
  {
   "cell_type": "code",
   "execution_count": 1,
   "metadata": {},
   "outputs": [
    {
     "name": "stderr",
     "output_type": "stream",
     "text": [
      "Using TensorFlow backend.\n",
      "/home/mamonteiro/anaconda3/envs/lei/lib/python3.6/site-packages/sklearn/externals/joblib/__init__.py:15: DeprecationWarning: sklearn.externals.joblib is deprecated in 0.21 and will be removed in 0.23. Please import this functionality directly from joblib, which can be installed with: pip install joblib. If this warning is raised when loading pickled models, you may need to re-serialize those models with scikit-learn 0.21+.\n",
      "  warnings.warn(msg, category=DeprecationWarning)\n"
     ]
    }
   ],
   "source": [
    "from mol2vec.features import mol2alt_sentence, MolSentence, DfVec, sentences2vec\n",
    "from gensim.models import Word2Vec\n",
    "from gensim.models import word2vec\n",
    "from rdkit import Chem\n",
    "import pandas as pd\n",
    "import numpy as np\n",
    "from keras.callbacks import ModelCheckpoint, Callback\n",
    "import matplotlib.pyplot as plt\n",
    "import deepchem as dc\n",
    "from sklearn.model_selection import train_test_split\n",
    "from skmultilearn.model_selection import iterative_train_test_split\n",
    "from deepchem.data.datasets import NumpyDataset\n"
   ]
  },
  {
   "cell_type": "code",
   "execution_count": 2,
   "metadata": {},
   "outputs": [],
   "source": [
    "\"\"\"\n",
    "SIDER dataset loader.\n",
    "\"\"\"\n",
    "from __future__ import division\n",
    "from __future__ import unicode_literals\n",
    "\n",
    "import os\n",
    "import logging\n",
    "import deepchem\n",
    "\n",
    "logger = logging.getLogger(__name__)\n",
    "\n",
    "\n",
    "def load_sider_for_mol2vec(featurizer='ECFP', split='index', reload=True, K=4):\n",
    "  \"\"\"Load MUV datasets. Does not do train/test split\"\"\"\n",
    "  # Load Sider dataset\n",
    "  logger.info(\"About to load Sider dataset.\")\n",
    "  data_dir = deepchem.utils.get_data_dir()\n",
    "  if reload:\n",
    "    save_dir = os.path.join(data_dir, \"sider/\" + featurizer + \"/\" + str(split))\n",
    "\n",
    "  #dataset_file = os.path.join(data_dir, \"muv.csv.gz\")\n",
    "  dataset_file = os.path.join(\"/home/mamonteiro/source-code/Project-LEI/SIDER/\", \"sider.csv.gz\")\n",
    "  #if not os.path.exists(dataset_file):\n",
    "  #  deepchem.utils.download_url(\n",
    "  #      'http://deepchem.io.s3-website-us-west-1.amazonaws.com/datasets/muv.csv.gz'\n",
    "  #  )\n",
    "\n",
    "  SIDER_tasks = sorted([ 'Hepatobiliary disorders',\n",
    "       'Metabolism and nutrition disorders', 'Product issues', 'Eye disorders',\n",
    "       'Investigations', 'Musculoskeletal and connective tissue disorders',\n",
    "       'Gastrointestinal disorders', 'Social circumstances',\n",
    "       'Immune system disorders', 'Reproductive system and breast disorders',\n",
    "       'Neoplasms benign, malignant and unspecified (incl cysts and polyps)',\n",
    "       'General disorders and administration site conditions',\n",
    "       'Endocrine disorders', 'Surgical and medical procedures',\n",
    "       'Vascular disorders', 'Blood and lymphatic system disorders',\n",
    "       'Skin and subcutaneous tissue disorders',\n",
    "       'Congenital, familial and genetic disorders',\n",
    "       'Infections and infestations',\n",
    "       'Respiratory, thoracic and mediastinal disorders',\n",
    "       'Psychiatric disorders', 'Renal and urinary disorders',\n",
    "       'Pregnancy, puerperium and perinatal conditions',\n",
    "       'Ear and labyrinth disorders', 'Cardiac disorders',\n",
    "       'Nervous system disorders',\n",
    "       'Injury, poisoning and procedural complications'\n",
    "  ])\n",
    "\n",
    "  if reload:\n",
    "    loaded, all_dataset, transformers = deepchem.utils.save.load_dataset_from_disk(\n",
    "        save_dir)\n",
    "    if loaded:\n",
    "      return SIDER_tasks, all_dataset, transformers\n",
    "\n",
    "  # Featurize MUV dataset\n",
    "  logger.info(\"About to featurize MUV dataset.\")\n",
    "\n",
    "  if featurizer == 'ECFP':\n",
    "    featurizer = deepchem.feat.CircularFingerprint(size=1024)\n",
    "  elif featurizer == 'GraphConv':\n",
    "    featurizer = deepchem.feat.ConvMolFeaturizer()\n",
    "  elif featurizer == 'Weave':\n",
    "    featurizer = deepchem.feat.WeaveFeaturizer()\n",
    "  elif featurizer == 'Raw':\n",
    "    featurizer = deepchem.feat.RawFeaturizer()\n",
    "\n",
    "  loader = deepchem.data.CSVLoader(\n",
    "      tasks=SIDER_tasks, smiles_field=\"smiles\", featurizer=featurizer)\n",
    "  dataset = loader.featurize(dataset_file)\n",
    "\n",
    "  # Initialize transformers\n",
    "  transformers = [\n",
    "      deepchem.trans.BalancingTransformer(transform_w=True, dataset=dataset)\n",
    "  ]\n",
    "  logger.info(\"About to transform data\")\n",
    "  for transformer in transformers:\n",
    "    dataset = transformer.transform(dataset)\n",
    "\n",
    "  if split == None:\n",
    "    return SIDER_tasks, (dataset, None, None), transformers\n",
    "\n",
    "  splitters = {\n",
    "      'index': deepchem.splits.IndexSplitter(),\n",
    "      'random': deepchem.splits.RandomSplitter(),\n",
    "      'scaffold': deepchem.splits.ScaffoldSplitter(),\n",
    "      'task': deepchem.splits.TaskSplitter()\n",
    "  }\n",
    "  splitter = splitters[split]\n",
    "  if split == 'task':\n",
    "    fold_datasets = splitter.k_fold_split(dataset, K)\n",
    "    all_dataset = fold_datasets\n",
    "  else:\n",
    "    train, valid, test = splitter.train_valid_test_split(dataset)\n",
    "    all_dataset = (train, valid, test)\n",
    "    if reload:\n",
    "      deepchem.utils.save.save_dataset_to_disk(save_dir, train, valid, test,\n",
    "                                               transformers)\n",
    "  return SIDER_tasks, all_dataset, transformers\n"
   ]
  },
  {
   "cell_type": "code",
   "execution_count": 3,
   "metadata": {},
   "outputs": [],
   "source": [
    "# df = pd.read_csv('/home/mamonteiro/source-code/Project-LEI/SIDER/sider.csv')    "
   ]
  },
  {
   "cell_type": "code",
   "execution_count": 4,
   "metadata": {},
   "outputs": [
    {
     "name": "stdout",
     "output_type": "stream",
     "text": [
      "Loading dataset from disk.\n",
      "Loading dataset from disk.\n",
      "Loading dataset from disk.\n"
     ]
    }
   ],
   "source": [
    "tasks, datasets, transformers = load_sider_for_mol2vec()\n",
    "train_dataset, valid_dataset, test_dataset = datasets\n",
    "train_smiles = train_dataset.ids\n",
    "valid_smiles = valid_dataset.ids"
   ]
  },
  {
   "cell_type": "code",
   "execution_count": 5,
   "metadata": {},
   "outputs": [
    {
     "data": {
      "text/plain": [
       "1141"
      ]
     },
     "execution_count": 5,
     "metadata": {},
     "output_type": "execute_result"
    }
   ],
   "source": [
    "len(train_dataset)"
   ]
  },
  {
   "cell_type": "code",
   "execution_count": 6,
   "metadata": {},
   "outputs": [
    {
     "data": {
      "text/plain": [
       "array(['C(CNCCNCCNCCN)N',\n",
       "       'CC(C)(C)C1=CC(=C(C=C1NC(=O)C2=CNC3=CC=CC=C3C2=O)O)C(C)(C)C',\n",
       "       'CC[C@]12CC(=C)[C@H]3[C@H]([C@@H]1CC[C@]2(C#C)O)CCC4=CCCC[C@H]34',\n",
       "       ..., 'CC12CC(C3(C(C1CC(C2(C(=O)CO)O)O)CCC4=CC(=O)C=CC43C)F)O',\n",
       "       'CC1=CC(=CC(=C1OC2=NC(=NC(=C2Br)N)NC3=CC=C(C=C3)C#N)C)C#N',\n",
       "       'CC1=NN=C2N1C3=C(C=C(C=C3)Cl)C(=NC2)C4=CC=CC=C4Cl'], dtype=object)"
      ]
     },
     "execution_count": 6,
     "metadata": {},
     "output_type": "execute_result"
    }
   ],
   "source": [
    "train_dataset.ids"
   ]
  },
  {
   "cell_type": "code",
   "execution_count": 7,
   "metadata": {},
   "outputs": [],
   "source": [
    "#df['smiles'][0:5]"
   ]
  },
  {
   "cell_type": "code",
   "execution_count": 8,
   "metadata": {},
   "outputs": [],
   "source": [
    "# Get SMILES from file\n",
    "def getSMILES(filepath):\n",
    "    df = pd.read_csv(filepath)    \n",
    "    #smiles = list(df['SMILES or PubChem ID'].dropna())\n",
    "    smiles_df = df[['smiles']].dropna()\n",
    "    # some cases have 2 SMILES per compound, which I think are isomers (by looking at the molecular drawings)\n",
    "    # keeping only the first SMILE string:\n",
    "    #smiles = [x.split(';')[0] for x in smiles]\n",
    "    return smiles_df"
   ]
  },
  {
   "cell_type": "code",
   "execution_count": 9,
   "metadata": {},
   "outputs": [],
   "source": [
    "# Generate molecules from SMILES strings\n",
    "def generateEmbeddings(smiles_df, trained_model):\n",
    "    smiles = list(smiles_df['smiles'])\n",
    "    smiles = [x.split(';')[0] for x in smiles]\n",
    "    # SMILES to Mol\n",
    "    molecules = [Chem.MolFromSmiles(x) for x in smiles]\n",
    "    # Load previously trained mol2vec model\n",
    "    model = Word2Vec.load(trained_model)\n",
    "    # Convert molecules to sentences and then to embeddings\n",
    "    sentences = [mol2alt_sentence(x, 1) for x in molecules]\n",
    "    vectors = [DfVec(x) for x in sentences2vec(sentences, model, unseen='UNK')]\n",
    "    vec_df = pd.DataFrame(data=np.array([x.vec for x in vectors]))\n",
    "    vec_df.columns = ['mol2vec_' + str(x+1) for x in vec_df.columns.values]\n",
    "    vec_df.index = smiles_df.index.values\n",
    "    return pd.concat([smiles_df, vec_df], axis=1)"
   ]
  },
  {
   "cell_type": "code",
   "execution_count": 10,
   "metadata": {},
   "outputs": [],
   "source": [
    "def createDataset(original_data, embeddings_df, output):\n",
    "    original_df = pd.read_csv(original_data)\n",
    "    df = original_df.merge(embeddings_df, how='outer', on=\"smiles\")\n",
    "    df.to_csv(output, index=False)    "
   ]
  },
  {
   "cell_type": "code",
   "execution_count": 11,
   "metadata": {},
   "outputs": [],
   "source": [
    "train_smiles_from_sider=train_dataset.ids\n",
    "valid_smiles_from_sider=valid_dataset.ids\n",
    "test_smiles_from_sider=test_dataset.ids"
   ]
  },
  {
   "cell_type": "code",
   "execution_count": 12,
   "metadata": {},
   "outputs": [
    {
     "ename": "NameError",
     "evalue": "name 'smiles_from_side' is not defined",
     "output_type": "error",
     "traceback": [
      "\u001b[0;31m---------------------------------------------------------------------------\u001b[0m",
      "\u001b[0;31mNameError\u001b[0m                                 Traceback (most recent call last)",
      "\u001b[0;32m<ipython-input-12-a644f0c5bcf9>\u001b[0m in \u001b[0;36m<module>\u001b[0;34m\u001b[0m\n\u001b[0;32m----> 1\u001b[0;31m \u001b[0mtype\u001b[0m\u001b[0;34m(\u001b[0m\u001b[0msmiles_from_side\u001b[0m\u001b[0;34m)\u001b[0m\u001b[0;34m\u001b[0m\u001b[0;34m\u001b[0m\u001b[0m\n\u001b[0m",
      "\u001b[0;31mNameError\u001b[0m: name 'smiles_from_side' is not defined"
     ]
    }
   ],
   "source": [
    "type(smiles_from_side)"
   ]
  },
  {
   "cell_type": "code",
   "execution_count": 13,
   "metadata": {},
   "outputs": [],
   "source": [
    "train_smiles_from_sider=pd.DataFrame(train_smiles_from_sider,  columns=['smiles'])\n",
    "valid_smiles_from_sider=pd.DataFrame(valid_smiles_from_sider,  columns=['smiles'])\n",
    "test_smiles_from_sider=pd.DataFrame(test_smiles_from_sider,  columns=['smiles'])"
   ]
  },
  {
   "cell_type": "code",
   "execution_count": 14,
   "metadata": {},
   "outputs": [
    {
     "data": {
      "text/plain": [
       "1141"
      ]
     },
     "execution_count": 14,
     "metadata": {},
     "output_type": "execute_result"
    }
   ],
   "source": [
    "len(train_smiles_from_sider)"
   ]
  },
  {
   "cell_type": "code",
   "execution_count": 15,
   "metadata": {},
   "outputs": [
    {
     "name": "stdout",
     "output_type": "stream",
     "text": [
      "current directory is : /home/mamonteiro/source-code/Project-LEI/SIDER\n",
      "Directory name is : SIDER\n"
     ]
    }
   ],
   "source": [
    "import os\n",
    " \n",
    "dirpath = os.getcwd()\n",
    "print(\"current directory is : \" + dirpath)\n",
    "foldername = os.path.basename(dirpath)\n",
    "print(\"Directory name is : \" + foldername)"
   ]
  },
  {
   "cell_type": "code",
   "execution_count": 16,
   "metadata": {},
   "outputs": [
    {
     "name": "stderr",
     "output_type": "stream",
     "text": [
      "WARNING:smart_open.smart_open_lib:this function is deprecated, use smart_open.open instead\n",
      "WARNING:smart_open.smart_open_lib:this function is deprecated, use smart_open.open instead\n",
      "WARNING:smart_open.smart_open_lib:this function is deprecated, use smart_open.open instead\n",
      "WARNING:smart_open.smart_open_lib:this function is deprecated, use smart_open.open instead\n",
      "WARNING:smart_open.smart_open_lib:this function is deprecated, use smart_open.open instead\n",
      "WARNING:smart_open.smart_open_lib:this function is deprecated, use smart_open.open instead\n"
     ]
    }
   ],
   "source": [
    "#Estas 3 linhas deveriam ser feitas de outra maneira\n",
    "#Deveriamos fazer o mesmo com o dataset completo mas neste momento vai ficar assim pelo receio que tenho de nao ter o dataset dividido como suposto\n",
    "\n",
    "train_embeddings_generated_from_mol2vec = generateEmbeddings(train_smiles_from_sider, '/home/mamonteiro/source-code/Project-LEI/mol2vec/examples/models/model_300dim.pkl')\n",
    "\n",
    "valid_embeddings_generated_from_mol2vec = generateEmbeddings(valid_smiles_from_sider, '/home/mamonteiro/source-code/Project-LEI/mol2vec/examples/models/model_300dim.pkl')\n",
    "test_embeddings_generated_from_mol2vec = generateEmbeddings(test_smiles_from_sider, '/home/mamonteiro/source-code/Project-LEI/mol2vec/examples/models/model_300dim.pkl')"
   ]
  },
  {
   "cell_type": "code",
   "execution_count": 17,
   "metadata": {},
   "outputs": [
    {
     "data": {
      "text/html": [
       "<div>\n",
       "<style scoped>\n",
       "    .dataframe tbody tr th:only-of-type {\n",
       "        vertical-align: middle;\n",
       "    }\n",
       "\n",
       "    .dataframe tbody tr th {\n",
       "        vertical-align: top;\n",
       "    }\n",
       "\n",
       "    .dataframe thead th {\n",
       "        text-align: right;\n",
       "    }\n",
       "</style>\n",
       "<table border=\"1\" class=\"dataframe\">\n",
       "  <thead>\n",
       "    <tr style=\"text-align: right;\">\n",
       "      <th></th>\n",
       "      <th>smiles</th>\n",
       "      <th>mol2vec_1</th>\n",
       "      <th>mol2vec_2</th>\n",
       "      <th>mol2vec_3</th>\n",
       "      <th>mol2vec_4</th>\n",
       "      <th>mol2vec_5</th>\n",
       "      <th>mol2vec_6</th>\n",
       "      <th>mol2vec_7</th>\n",
       "      <th>mol2vec_8</th>\n",
       "      <th>mol2vec_9</th>\n",
       "      <th>...</th>\n",
       "      <th>mol2vec_291</th>\n",
       "      <th>mol2vec_292</th>\n",
       "      <th>mol2vec_293</th>\n",
       "      <th>mol2vec_294</th>\n",
       "      <th>mol2vec_295</th>\n",
       "      <th>mol2vec_296</th>\n",
       "      <th>mol2vec_297</th>\n",
       "      <th>mol2vec_298</th>\n",
       "      <th>mol2vec_299</th>\n",
       "      <th>mol2vec_300</th>\n",
       "    </tr>\n",
       "  </thead>\n",
       "  <tbody>\n",
       "    <tr>\n",
       "      <th>0</th>\n",
       "      <td>C(CNCCNCCNCCN)N</td>\n",
       "      <td>-0.990727</td>\n",
       "      <td>-1.723967</td>\n",
       "      <td>1.596080</td>\n",
       "      <td>0.336589</td>\n",
       "      <td>5.995870</td>\n",
       "      <td>1.602312</td>\n",
       "      <td>-7.893780</td>\n",
       "      <td>-0.770941</td>\n",
       "      <td>2.798226</td>\n",
       "      <td>...</td>\n",
       "      <td>1.845091</td>\n",
       "      <td>4.080578</td>\n",
       "      <td>5.290233</td>\n",
       "      <td>2.681949</td>\n",
       "      <td>-6.017433</td>\n",
       "      <td>0.732134</td>\n",
       "      <td>-0.161610</td>\n",
       "      <td>-7.355957</td>\n",
       "      <td>-6.514126</td>\n",
       "      <td>-4.416229</td>\n",
       "    </tr>\n",
       "    <tr>\n",
       "      <th>1</th>\n",
       "      <td>CC(C)(C)C1=CC(=C(C=C1NC(=O)C2=CNC3=CC=CC=C3C2=...</td>\n",
       "      <td>0.596306</td>\n",
       "      <td>0.060384</td>\n",
       "      <td>-4.686247</td>\n",
       "      <td>4.381831</td>\n",
       "      <td>2.139633</td>\n",
       "      <td>-0.343262</td>\n",
       "      <td>-13.849467</td>\n",
       "      <td>0.780369</td>\n",
       "      <td>9.671047</td>\n",
       "      <td>...</td>\n",
       "      <td>-0.760953</td>\n",
       "      <td>9.614191</td>\n",
       "      <td>13.119958</td>\n",
       "      <td>-0.408570</td>\n",
       "      <td>-7.577562</td>\n",
       "      <td>-4.803534</td>\n",
       "      <td>-4.880173</td>\n",
       "      <td>-7.033062</td>\n",
       "      <td>-15.572207</td>\n",
       "      <td>-4.429869</td>\n",
       "    </tr>\n",
       "    <tr>\n",
       "      <th>2</th>\n",
       "      <td>CC[C@]12CC(=C)[C@H]3[C@H]([C@@H]1CC[C@]2(C#C)O...</td>\n",
       "      <td>1.854099</td>\n",
       "      <td>-4.819261</td>\n",
       "      <td>0.775984</td>\n",
       "      <td>3.286393</td>\n",
       "      <td>1.519570</td>\n",
       "      <td>-6.281527</td>\n",
       "      <td>-10.383826</td>\n",
       "      <td>5.000489</td>\n",
       "      <td>-0.742257</td>\n",
       "      <td>...</td>\n",
       "      <td>0.873612</td>\n",
       "      <td>15.422496</td>\n",
       "      <td>-1.348580</td>\n",
       "      <td>-1.571692</td>\n",
       "      <td>-17.224537</td>\n",
       "      <td>-6.963869</td>\n",
       "      <td>-12.192692</td>\n",
       "      <td>-3.912728</td>\n",
       "      <td>-8.017673</td>\n",
       "      <td>1.265650</td>\n",
       "    </tr>\n",
       "    <tr>\n",
       "      <th>3</th>\n",
       "      <td>CCC12CC(=C)C3C(C1CC[C@]2(C#C)O)CCC4=CC(=O)CCC34</td>\n",
       "      <td>2.140168</td>\n",
       "      <td>-5.169839</td>\n",
       "      <td>-0.039611</td>\n",
       "      <td>3.000724</td>\n",
       "      <td>0.787211</td>\n",
       "      <td>-6.880911</td>\n",
       "      <td>-10.384640</td>\n",
       "      <td>5.767844</td>\n",
       "      <td>-0.478307</td>\n",
       "      <td>...</td>\n",
       "      <td>0.627151</td>\n",
       "      <td>15.921182</td>\n",
       "      <td>-1.159732</td>\n",
       "      <td>-1.260444</td>\n",
       "      <td>-17.655016</td>\n",
       "      <td>-7.629984</td>\n",
       "      <td>-13.157971</td>\n",
       "      <td>-3.574889</td>\n",
       "      <td>-8.912206</td>\n",
       "      <td>1.509292</td>\n",
       "    </tr>\n",
       "    <tr>\n",
       "      <th>4</th>\n",
       "      <td>C1C(C2=CC=CC=C2N(C3=CC=CC=C31)C(=O)N)O</td>\n",
       "      <td>-0.227203</td>\n",
       "      <td>-2.800524</td>\n",
       "      <td>-1.099674</td>\n",
       "      <td>4.259158</td>\n",
       "      <td>-1.261016</td>\n",
       "      <td>-2.570959</td>\n",
       "      <td>-8.051775</td>\n",
       "      <td>1.025365</td>\n",
       "      <td>6.135835</td>\n",
       "      <td>...</td>\n",
       "      <td>-0.972749</td>\n",
       "      <td>9.117423</td>\n",
       "      <td>7.184863</td>\n",
       "      <td>-0.012285</td>\n",
       "      <td>-7.312431</td>\n",
       "      <td>-1.483516</td>\n",
       "      <td>-4.117091</td>\n",
       "      <td>-2.378627</td>\n",
       "      <td>-9.008883</td>\n",
       "      <td>-0.717169</td>\n",
       "    </tr>\n",
       "  </tbody>\n",
       "</table>\n",
       "<p>5 rows × 301 columns</p>\n",
       "</div>"
      ],
      "text/plain": [
       "                                              smiles  mol2vec_1  mol2vec_2  \\\n",
       "0                                    C(CNCCNCCNCCN)N  -0.990727  -1.723967   \n",
       "1  CC(C)(C)C1=CC(=C(C=C1NC(=O)C2=CNC3=CC=CC=C3C2=...   0.596306   0.060384   \n",
       "2  CC[C@]12CC(=C)[C@H]3[C@H]([C@@H]1CC[C@]2(C#C)O...   1.854099  -4.819261   \n",
       "3    CCC12CC(=C)C3C(C1CC[C@]2(C#C)O)CCC4=CC(=O)CCC34   2.140168  -5.169839   \n",
       "4             C1C(C2=CC=CC=C2N(C3=CC=CC=C31)C(=O)N)O  -0.227203  -2.800524   \n",
       "\n",
       "   mol2vec_3  mol2vec_4  mol2vec_5  mol2vec_6  mol2vec_7  mol2vec_8  \\\n",
       "0   1.596080   0.336589   5.995870   1.602312  -7.893780  -0.770941   \n",
       "1  -4.686247   4.381831   2.139633  -0.343262 -13.849467   0.780369   \n",
       "2   0.775984   3.286393   1.519570  -6.281527 -10.383826   5.000489   \n",
       "3  -0.039611   3.000724   0.787211  -6.880911 -10.384640   5.767844   \n",
       "4  -1.099674   4.259158  -1.261016  -2.570959  -8.051775   1.025365   \n",
       "\n",
       "   mol2vec_9  ...  mol2vec_291  mol2vec_292  mol2vec_293  mol2vec_294  \\\n",
       "0   2.798226  ...     1.845091     4.080578     5.290233     2.681949   \n",
       "1   9.671047  ...    -0.760953     9.614191    13.119958    -0.408570   \n",
       "2  -0.742257  ...     0.873612    15.422496    -1.348580    -1.571692   \n",
       "3  -0.478307  ...     0.627151    15.921182    -1.159732    -1.260444   \n",
       "4   6.135835  ...    -0.972749     9.117423     7.184863    -0.012285   \n",
       "\n",
       "   mol2vec_295  mol2vec_296  mol2vec_297  mol2vec_298  mol2vec_299  \\\n",
       "0    -6.017433     0.732134    -0.161610    -7.355957    -6.514126   \n",
       "1    -7.577562    -4.803534    -4.880173    -7.033062   -15.572207   \n",
       "2   -17.224537    -6.963869   -12.192692    -3.912728    -8.017673   \n",
       "3   -17.655016    -7.629984   -13.157971    -3.574889    -8.912206   \n",
       "4    -7.312431    -1.483516    -4.117091    -2.378627    -9.008883   \n",
       "\n",
       "   mol2vec_300  \n",
       "0    -4.416229  \n",
       "1    -4.429869  \n",
       "2     1.265650  \n",
       "3     1.509292  \n",
       "4    -0.717169  \n",
       "\n",
       "[5 rows x 301 columns]"
      ]
     },
     "execution_count": 17,
     "metadata": {},
     "output_type": "execute_result"
    }
   ],
   "source": [
    "train_embeddings_generated_from_mol2vec.head()"
   ]
  },
  {
   "cell_type": "code",
   "execution_count": 18,
   "metadata": {},
   "outputs": [
    {
     "data": {
      "text/plain": [
       "(1141, 143, 143)"
      ]
     },
     "execution_count": 18,
     "metadata": {},
     "output_type": "execute_result"
    }
   ],
   "source": [
    "len(train_embeddings_generated_from_mol2vec),len(valid_embeddings_generated_from_mol2vec),len(test_embeddings_generated_from_mol2vec) "
   ]
  },
  {
   "cell_type": "code",
   "execution_count": 19,
   "metadata": {},
   "outputs": [
    {
     "data": {
      "text/plain": [
       "'C(CNCCNCCNCCN)N'"
      ]
     },
     "execution_count": 19,
     "metadata": {},
     "output_type": "execute_result"
    }
   ],
   "source": [
    "train_embeddings_generated_from_mol2vec.iloc[0][0]"
   ]
  },
  {
   "cell_type": "code",
   "execution_count": 20,
   "metadata": {},
   "outputs": [],
   "source": [
    "#createDataset('/home/mamonteiro/source-code/Project-LEI/SIDER/sider.csv', emb_df, '/home/mamonteiro/source-code/Project-LEI/SIDER/sider_embeddings.csv')"
   ]
  },
  {
   "cell_type": "code",
   "execution_count": 21,
   "metadata": {},
   "outputs": [],
   "source": [
    "#df = pd.read_csv('/home/mamonteiro/source-code/Project-LEI/SIDER/sider_embeddings.csv')    "
   ]
  },
  {
   "cell_type": "code",
   "execution_count": 22,
   "metadata": {
    "scrolled": true
   },
   "outputs": [],
   "source": [
    "#df.head()"
   ]
  },
  {
   "cell_type": "code",
   "execution_count": 23,
   "metadata": {},
   "outputs": [],
   "source": [
    "#len(df)"
   ]
  },
  {
   "cell_type": "markdown",
   "metadata": {},
   "source": [
    "\n",
    "# Multitask Networks On SIDER"
   ]
  },
  {
   "cell_type": "code",
   "execution_count": 24,
   "metadata": {},
   "outputs": [],
   "source": [
    "import os\n",
    "import deepchem as dc\n",
    "\n",
    "\n",
    "#current_dir = os.path.dirname(os.path.realpath(\"__file__\"))\n",
    "#dataset_file = \"medium_muv.csv.gz\"\n",
    "\n",
    "\n",
    "#dataset = dc.utils.save.load_from_disk('/home/mamonteiro/source-code/Project-LEI/SIDER/sider_embeddings.csv')\n",
    "#print(\"Columns of dataset: %s\" % str(dataset.columns.values))\n",
    "#print(\"Number of examples in dataset: %s\" % str(dataset.shape[0]))"
   ]
  },
  {
   "cell_type": "markdown",
   "metadata": {},
   "source": [
    "The dataset that we must manipulate is thhe follwoing one: dataset\n",
    "\n",
    "In this dataset has as columns the SMILES\n",
    "                               The side efects\n",
    "                               and finally the embeddings\n",
    "        \n",
    "We need to split this dataset in order to provide this data to multitask model"
   ]
  },
  {
   "cell_type": "code",
   "execution_count": 25,
   "metadata": {},
   "outputs": [],
   "source": [
    "#dataset=dataset.drop(['smiles'], axis=1)"
   ]
  },
  {
   "cell_type": "code",
   "execution_count": 26,
   "metadata": {},
   "outputs": [],
   "source": [
    "train_embeddings=train_embeddings_generated_from_mol2vec.drop(['smiles'], axis=1)\n",
    "valid_embeddings=valid_embeddings_generated_from_mol2vec.drop(['smiles'], axis=1)\n",
    "test_embeddings=test_embeddings_generated_from_mol2vec.drop(['smiles'], axis=1)"
   ]
  },
  {
   "cell_type": "code",
   "execution_count": 27,
   "metadata": {},
   "outputs": [],
   "source": [
    "#sideEfects=\n",
    "#dataset.iloc[:,0:27].head()"
   ]
  },
  {
   "cell_type": "code",
   "execution_count": 28,
   "metadata": {},
   "outputs": [],
   "source": [
    "#sideEfects= dataset.iloc[:,0:27]"
   ]
  },
  {
   "cell_type": "code",
   "execution_count": 29,
   "metadata": {},
   "outputs": [],
   "source": [
    "#sideEfects.head()"
   ]
  },
  {
   "cell_type": "code",
   "execution_count": 30,
   "metadata": {},
   "outputs": [],
   "source": [
    "#dataset.iloc[:,27:]"
   ]
  },
  {
   "cell_type": "code",
   "execution_count": 31,
   "metadata": {},
   "outputs": [],
   "source": [
    "#Retirar, nao esta aqui a fazer nada\n",
    "#embeddings=dataset.iloc[:,27:]\n",
    "#embeddings=dataset"
   ]
  },
  {
   "cell_type": "code",
   "execution_count": 32,
   "metadata": {},
   "outputs": [
    {
     "data": {
      "text/html": [
       "<div>\n",
       "<style scoped>\n",
       "    .dataframe tbody tr th:only-of-type {\n",
       "        vertical-align: middle;\n",
       "    }\n",
       "\n",
       "    .dataframe tbody tr th {\n",
       "        vertical-align: top;\n",
       "    }\n",
       "\n",
       "    .dataframe thead th {\n",
       "        text-align: right;\n",
       "    }\n",
       "</style>\n",
       "<table border=\"1\" class=\"dataframe\">\n",
       "  <thead>\n",
       "    <tr style=\"text-align: right;\">\n",
       "      <th></th>\n",
       "      <th>mol2vec_1</th>\n",
       "      <th>mol2vec_2</th>\n",
       "      <th>mol2vec_3</th>\n",
       "      <th>mol2vec_4</th>\n",
       "      <th>mol2vec_5</th>\n",
       "      <th>mol2vec_6</th>\n",
       "      <th>mol2vec_7</th>\n",
       "      <th>mol2vec_8</th>\n",
       "      <th>mol2vec_9</th>\n",
       "      <th>mol2vec_10</th>\n",
       "      <th>...</th>\n",
       "      <th>mol2vec_291</th>\n",
       "      <th>mol2vec_292</th>\n",
       "      <th>mol2vec_293</th>\n",
       "      <th>mol2vec_294</th>\n",
       "      <th>mol2vec_295</th>\n",
       "      <th>mol2vec_296</th>\n",
       "      <th>mol2vec_297</th>\n",
       "      <th>mol2vec_298</th>\n",
       "      <th>mol2vec_299</th>\n",
       "      <th>mol2vec_300</th>\n",
       "    </tr>\n",
       "  </thead>\n",
       "  <tbody>\n",
       "    <tr>\n",
       "      <th>0</th>\n",
       "      <td>-0.990727</td>\n",
       "      <td>-1.723967</td>\n",
       "      <td>1.596080</td>\n",
       "      <td>0.336589</td>\n",
       "      <td>5.995870</td>\n",
       "      <td>1.602312</td>\n",
       "      <td>-7.893780</td>\n",
       "      <td>-0.770941</td>\n",
       "      <td>2.798226</td>\n",
       "      <td>-4.712134</td>\n",
       "      <td>...</td>\n",
       "      <td>1.845091</td>\n",
       "      <td>4.080578</td>\n",
       "      <td>5.290233</td>\n",
       "      <td>2.681949</td>\n",
       "      <td>-6.017433</td>\n",
       "      <td>0.732134</td>\n",
       "      <td>-0.161610</td>\n",
       "      <td>-7.355957</td>\n",
       "      <td>-6.514126</td>\n",
       "      <td>-4.416229</td>\n",
       "    </tr>\n",
       "    <tr>\n",
       "      <th>1</th>\n",
       "      <td>0.596306</td>\n",
       "      <td>0.060384</td>\n",
       "      <td>-4.686247</td>\n",
       "      <td>4.381831</td>\n",
       "      <td>2.139633</td>\n",
       "      <td>-0.343262</td>\n",
       "      <td>-13.849467</td>\n",
       "      <td>0.780369</td>\n",
       "      <td>9.671047</td>\n",
       "      <td>4.445226</td>\n",
       "      <td>...</td>\n",
       "      <td>-0.760953</td>\n",
       "      <td>9.614191</td>\n",
       "      <td>13.119958</td>\n",
       "      <td>-0.408570</td>\n",
       "      <td>-7.577562</td>\n",
       "      <td>-4.803534</td>\n",
       "      <td>-4.880173</td>\n",
       "      <td>-7.033062</td>\n",
       "      <td>-15.572207</td>\n",
       "      <td>-4.429869</td>\n",
       "    </tr>\n",
       "    <tr>\n",
       "      <th>2</th>\n",
       "      <td>1.854099</td>\n",
       "      <td>-4.819261</td>\n",
       "      <td>0.775984</td>\n",
       "      <td>3.286393</td>\n",
       "      <td>1.519570</td>\n",
       "      <td>-6.281527</td>\n",
       "      <td>-10.383826</td>\n",
       "      <td>5.000489</td>\n",
       "      <td>-0.742257</td>\n",
       "      <td>0.579260</td>\n",
       "      <td>...</td>\n",
       "      <td>0.873612</td>\n",
       "      <td>15.422496</td>\n",
       "      <td>-1.348580</td>\n",
       "      <td>-1.571692</td>\n",
       "      <td>-17.224537</td>\n",
       "      <td>-6.963869</td>\n",
       "      <td>-12.192692</td>\n",
       "      <td>-3.912728</td>\n",
       "      <td>-8.017673</td>\n",
       "      <td>1.265650</td>\n",
       "    </tr>\n",
       "    <tr>\n",
       "      <th>3</th>\n",
       "      <td>2.140168</td>\n",
       "      <td>-5.169839</td>\n",
       "      <td>-0.039611</td>\n",
       "      <td>3.000724</td>\n",
       "      <td>0.787211</td>\n",
       "      <td>-6.880911</td>\n",
       "      <td>-10.384640</td>\n",
       "      <td>5.767844</td>\n",
       "      <td>-0.478307</td>\n",
       "      <td>0.191780</td>\n",
       "      <td>...</td>\n",
       "      <td>0.627151</td>\n",
       "      <td>15.921182</td>\n",
       "      <td>-1.159732</td>\n",
       "      <td>-1.260444</td>\n",
       "      <td>-17.655016</td>\n",
       "      <td>-7.629984</td>\n",
       "      <td>-13.157971</td>\n",
       "      <td>-3.574889</td>\n",
       "      <td>-8.912206</td>\n",
       "      <td>1.509292</td>\n",
       "    </tr>\n",
       "    <tr>\n",
       "      <th>4</th>\n",
       "      <td>-0.227203</td>\n",
       "      <td>-2.800524</td>\n",
       "      <td>-1.099674</td>\n",
       "      <td>4.259158</td>\n",
       "      <td>-1.261016</td>\n",
       "      <td>-2.570959</td>\n",
       "      <td>-8.051775</td>\n",
       "      <td>1.025365</td>\n",
       "      <td>6.135835</td>\n",
       "      <td>2.401863</td>\n",
       "      <td>...</td>\n",
       "      <td>-0.972749</td>\n",
       "      <td>9.117423</td>\n",
       "      <td>7.184863</td>\n",
       "      <td>-0.012285</td>\n",
       "      <td>-7.312431</td>\n",
       "      <td>-1.483516</td>\n",
       "      <td>-4.117091</td>\n",
       "      <td>-2.378627</td>\n",
       "      <td>-9.008883</td>\n",
       "      <td>-0.717169</td>\n",
       "    </tr>\n",
       "  </tbody>\n",
       "</table>\n",
       "<p>5 rows × 300 columns</p>\n",
       "</div>"
      ],
      "text/plain": [
       "   mol2vec_1  mol2vec_2  mol2vec_3  mol2vec_4  mol2vec_5  mol2vec_6  \\\n",
       "0  -0.990727  -1.723967   1.596080   0.336589   5.995870   1.602312   \n",
       "1   0.596306   0.060384  -4.686247   4.381831   2.139633  -0.343262   \n",
       "2   1.854099  -4.819261   0.775984   3.286393   1.519570  -6.281527   \n",
       "3   2.140168  -5.169839  -0.039611   3.000724   0.787211  -6.880911   \n",
       "4  -0.227203  -2.800524  -1.099674   4.259158  -1.261016  -2.570959   \n",
       "\n",
       "   mol2vec_7  mol2vec_8  mol2vec_9  mol2vec_10  ...  mol2vec_291  mol2vec_292  \\\n",
       "0  -7.893780  -0.770941   2.798226   -4.712134  ...     1.845091     4.080578   \n",
       "1 -13.849467   0.780369   9.671047    4.445226  ...    -0.760953     9.614191   \n",
       "2 -10.383826   5.000489  -0.742257    0.579260  ...     0.873612    15.422496   \n",
       "3 -10.384640   5.767844  -0.478307    0.191780  ...     0.627151    15.921182   \n",
       "4  -8.051775   1.025365   6.135835    2.401863  ...    -0.972749     9.117423   \n",
       "\n",
       "   mol2vec_293  mol2vec_294  mol2vec_295  mol2vec_296  mol2vec_297  \\\n",
       "0     5.290233     2.681949    -6.017433     0.732134    -0.161610   \n",
       "1    13.119958    -0.408570    -7.577562    -4.803534    -4.880173   \n",
       "2    -1.348580    -1.571692   -17.224537    -6.963869   -12.192692   \n",
       "3    -1.159732    -1.260444   -17.655016    -7.629984   -13.157971   \n",
       "4     7.184863    -0.012285    -7.312431    -1.483516    -4.117091   \n",
       "\n",
       "   mol2vec_298  mol2vec_299  mol2vec_300  \n",
       "0    -7.355957    -6.514126    -4.416229  \n",
       "1    -7.033062   -15.572207    -4.429869  \n",
       "2    -3.912728    -8.017673     1.265650  \n",
       "3    -3.574889    -8.912206     1.509292  \n",
       "4    -2.378627    -9.008883    -0.717169  \n",
       "\n",
       "[5 rows x 300 columns]"
      ]
     },
     "execution_count": 32,
     "metadata": {},
     "output_type": "execute_result"
    }
   ],
   "source": [
    "train_embeddings.head()"
   ]
  },
  {
   "cell_type": "code",
   "execution_count": 33,
   "metadata": {},
   "outputs": [
    {
     "data": {
      "text/plain": [
       "False"
      ]
     },
     "execution_count": 33,
     "metadata": {},
     "output_type": "execute_result"
    }
   ],
   "source": [
    "train_embeddings.isnull().any().any()"
   ]
  },
  {
   "cell_type": "code",
   "execution_count": 34,
   "metadata": {},
   "outputs": [
    {
     "data": {
      "text/plain": [
       "300"
      ]
     },
     "execution_count": 34,
     "metadata": {},
     "output_type": "execute_result"
    }
   ],
   "source": [
    "len(train_embeddings.columns)"
   ]
  },
  {
   "cell_type": "code",
   "execution_count": 35,
   "metadata": {},
   "outputs": [
    {
     "data": {
      "text/plain": [
       "1141"
      ]
     },
     "execution_count": 35,
     "metadata": {},
     "output_type": "execute_result"
    }
   ],
   "source": [
    "len(train_embeddings)"
   ]
  },
  {
   "cell_type": "code",
   "execution_count": 36,
   "metadata": {},
   "outputs": [],
   "source": [
    "NCA1 = 100\n",
    "NCA2 = 100\n",
    "DROPRATE = 0.2\n",
    "EP = 50\n",
    "BATCH_SIZE = 128\n",
    "VAL_RATIO = 0.1\n",
    "TEST_RATIO = 0.1"
   ]
  },
  {
   "cell_type": "code",
   "execution_count": 37,
   "metadata": {},
   "outputs": [],
   "source": [
    "# VERFICAR SE É NECESSÁRIO\n",
    "from deepchem.data.datasets import NumpyDataset # import NumpyDataset\n",
    "\n",
    "#NESTE MOMENTO NAO TENHO\n",
    "#dataset_with_weights = NumpyDataset(sideEfects) # creates numpy dataset object\n"
   ]
  },
  {
   "cell_type": "markdown",
   "metadata": {},
   "source": [
    "Iterating over NumpyDataset\n",
    "¶\n",
    "In order to iterate over NumpyDataset, we use itersamples method. \n",
    "\n",
    "We iterate over 4 quantities, namely X, y, w and ids. \n",
    "\n",
    "The first three quantities are the same as discussed above and ids is the id of the data instance. \n",
    "\n",
    "By default the id is given in order starting from 1\n"
   ]
  },
  {
   "cell_type": "markdown",
   "metadata": {},
   "source": [
    "You can also extract the ids by dataset.ids. This would return a numpy array consisting of the ids of the data instances."
   ]
  },
  {
   "cell_type": "markdown",
   "metadata": {},
   "source": [
    "dataset.ids"
   ]
  },
  {
   "cell_type": "code",
   "execution_count": 38,
   "metadata": {},
   "outputs": [],
   "source": [
    "#from deepchem.splits.splitters import IndexSplitter\n",
    "#splitter=IndexSplitter()\n",
    "#train_data,valid_data,test_data=splitter.split(dataset_with_weights,frac_train=0.7,frac_valid=0.2,frac_test=0.1)\n"
   ]
  },
  {
   "cell_type": "code",
   "execution_count": 39,
   "metadata": {},
   "outputs": [],
   "source": [
    "#train_data=[i for i in train_data]\n",
    "#valid_data=[i for i in valid_data]\n",
    "#test_data=[i for i in test_data]"
   ]
  },
  {
   "cell_type": "code",
   "execution_count": 40,
   "metadata": {},
   "outputs": [],
   "source": [
    "#len(train_data),len(valid_data),len(test_data)"
   ]
  },
  {
   "cell_type": "code",
   "execution_count": 41,
   "metadata": {},
   "outputs": [],
   "source": [
    "#dataset_with_weights"
   ]
  },
  {
   "cell_type": "code",
   "execution_count": 42,
   "metadata": {},
   "outputs": [],
   "source": [
    "train_embeddings_dataset = dc.data.NumpyDataset(train_embeddings,\n",
    "                                                train_dataset.y,\n",
    "                                                train_dataset.w,\n",
    "                                                train_dataset.ids)"
   ]
  },
  {
   "cell_type": "code",
   "execution_count": 43,
   "metadata": {},
   "outputs": [],
   "source": [
    "nb_epochs=[50,100, 150, 200,250,300,400,500,1000]\n",
    "losses = []\n",
    "loss =0"
   ]
  },
  {
   "cell_type": "code",
   "execution_count": 44,
   "metadata": {},
   "outputs": [
    {
     "name": "stdout",
     "output_type": "stream",
     "text": [
      "WARNING:tensorflow:From /home/mamonteiro/anaconda3/envs/lei/lib/python3.6/site-packages/tensorflow/python/ops/resource_variable_ops.py:435: colocate_with (from tensorflow.python.framework.ops) is deprecated and will be removed in a future version.\n",
      "Instructions for updating:\n",
      "Colocations handled automatically by placer.\n"
     ]
    },
    {
     "name": "stderr",
     "output_type": "stream",
     "text": [
      "WARNING:tensorflow:From /home/mamonteiro/anaconda3/envs/lei/lib/python3.6/site-packages/tensorflow/python/ops/resource_variable_ops.py:435: colocate_with (from tensorflow.python.framework.ops) is deprecated and will be removed in a future version.\n",
      "Instructions for updating:\n",
      "Colocations handled automatically by placer.\n"
     ]
    },
    {
     "name": "stdout",
     "output_type": "stream",
     "text": [
      "Epoch 50 loss: 1780.938428\n",
      "Epoch 100 loss: 1453.974358\n",
      "Epoch 150 loss: 1409.504218\n",
      "Epoch 200 loss: 1376.049670\n",
      "Epoch 250 loss: 1347.792603\n",
      "WARNING:tensorflow:From /home/mamonteiro/anaconda3/envs/lei/lib/python3.6/site-packages/tensorflow/python/training/checkpoint_management.py:624: remove_checkpoint (from tensorflow.python.training.checkpoint_management) is deprecated and will be removed in a future version.\n",
      "Instructions for updating:\n",
      "Use standard file APIs to delete files with this prefix.\n"
     ]
    },
    {
     "name": "stderr",
     "output_type": "stream",
     "text": [
      "WARNING:tensorflow:From /home/mamonteiro/anaconda3/envs/lei/lib/python3.6/site-packages/tensorflow/python/training/checkpoint_management.py:624: remove_checkpoint (from tensorflow.python.training.checkpoint_management) is deprecated and will be removed in a future version.\n",
      "Instructions for updating:\n",
      "Use standard file APIs to delete files with this prefix.\n"
     ]
    },
    {
     "name": "stdout",
     "output_type": "stream",
     "text": [
      "Epoch 300 loss: 1321.751254\n",
      "Epoch 400 loss: 1306.433416\n",
      "Epoch 500 loss: 1296.039915\n",
      "Epoch 1000 loss: 1283.466371\n"
     ]
    }
   ],
   "source": [
    "model = dc.models.MultitaskClassifier(n_tasks=27,\n",
    "                                      n_features=300,\n",
    "                                      layer_sizes=[512])\n",
    "\n",
    "for epoch in nb_epochs :\n",
    "    loss = model.fit(train_embeddings_dataset, epoch=epoch)\n",
    "    print(\"Epoch %d loss: %f\" % (epoch, loss))\n",
    "    losses.append(loss)"
   ]
  },
  {
   "cell_type": "code",
   "execution_count": 45,
   "metadata": {},
   "outputs": [
    {
     "data": {
      "text/plain": [
       "<module 'matplotlib.pyplot' from '/home/mamonteiro/anaconda3/envs/lei/lib/python3.6/site-packages/matplotlib/pyplot.py'>"
      ]
     },
     "execution_count": 45,
     "metadata": {},
     "output_type": "execute_result"
    },
    {
     "data": {
      "image/png": "[encoded data removed]",
      "text/plain": [
       "<Figure size 720x504 with 1 Axes>"
      ]
     },
     "metadata": {
      "needs_background": "light"
     },
     "output_type": "display_data"
    }
   ],
   "source": [
    "import matplotlib.pyplot as plot\n",
    "\n",
    "plot.figure(figsize=(10,7))\n",
    "plot.ylabel(\"Loss\")\n",
    "plot.xlabel(\"Epoch\")\n",
    "x = nb_epochs\n",
    "y = losses\n",
    "plot.scatter(x, y)\n",
    "plot"
   ]
  },
  {
   "cell_type": "code",
   "execution_count": 46,
   "metadata": {},
   "outputs": [],
   "source": [
    "valid_embeddings_dataset = dc.data.NumpyDataset(valid_embeddings,\n",
    "                                                valid_dataset.y,\n",
    "                                                valid_dataset.w,\n",
    "                                                valid_dataset.ids)"
   ]
  },
  {
   "cell_type": "code",
   "execution_count": 47,
   "metadata": {},
   "outputs": [
    {
     "name": "stdout",
     "output_type": "stream",
     "text": [
      "Epoch 50 loss: 2009.583627\n",
      "Epoch 100 loss: 973.392764\n",
      "Epoch 150 loss: 867.350754\n",
      "Epoch 200 loss: 769.874193\n",
      "Epoch 250 loss: 719.001230\n",
      "Epoch 300 loss: 667.748344\n",
      "Epoch 400 loss: 602.804521\n",
      "Epoch 500 loss: 586.426575\n",
      "Epoch 1000 loss: 545.208789\n"
     ]
    }
   ],
   "source": [
    "model = dc.models.MultitaskClassifier(n_tasks=27,\n",
    "                                      n_features=300,\n",
    "                                      layer_sizes=[512])\n",
    "\n",
    "for epoch in nb_epochs :\n",
    "    loss = model.fit(valid_embeddings_dataset, epoch=epoch)\n",
    "    print(\"Epoch %d loss: %f\" % (epoch, loss))\n",
    "    losses.append(loss)"
   ]
  },
  {
   "cell_type": "code",
   "execution_count": 48,
   "metadata": {},
   "outputs": [],
   "source": [
    "test_embeddings_dataset = dc.data.NumpyDataset(test_embeddings,\n",
    "                                                test_dataset.y,\n",
    "                                                test_dataset.w,\n",
    "                                                test_dataset.ids)"
   ]
  },
  {
   "cell_type": "code",
   "execution_count": 50,
   "metadata": {},
   "outputs": [
    {
     "name": "stdout",
     "output_type": "stream",
     "text": [
      "computed_metrics: [0.9715374271627073, 0.9782608695652175, 0.9988290398126463, 0.945124439004488, 0.9936974789915967, 0.9362255097960815, 0.9850498338870431, 0.9896694214876034, 0.9667721518987342, 0.9343971631205674, 0.9476744186046512, 0.9475703324808185, 0.9789631855747558, 0.974068835454974, 0.9335839598997494, 0.9943693693693694, 0.9923664122137404, 0.9993638676844783, 1.0, 0.9372093023255813, 0.9524533217542337, 0.9506099960645416, 0.9570966001079331, 0.9596456692913387, 0.9877966101694915, 0.9951219512195122, 0.943952802359882]\n",
      "Training set ROC AUC: {'mean-roc_auc_score': 0.968570739603768}\n"
     ]
    }
   ],
   "source": [
    "import numpy as np\n",
    "metric = dc.metrics.Metric(dc.metrics.roc_auc_score, np.mean, mode=\"classification\")\n",
    "valid_score = model.evaluate(valid_embeddings_dataset, [metric], transformers)\n",
    "print('Training set ROC AUC:', valid_score)\n"
   ]
  },
  {
   "cell_type": "code",
   "execution_count": 52,
   "metadata": {},
   "outputs": [
    {
     "name": "stdout",
     "output_type": "stream",
     "text": [
      "computed_metrics: [0.5112994350282487, 0.5037211740041929, 0.5592903828197946, 0.5209846650524617, 0.49542372881355934, 0.5752941176470588, 0.6781496062992126, 0.7229166666666667, 0.598496835443038, 0.5875283446712019, 0.5084219858156028, 0.49891445940078155, 0.5659407138535996, 0.6415174765558398, 0.5077097505668935, 0.33142258382643, 0.6833333333333333, 0.44166666666666665, 0.5035460992907801, 0.615501519756839, 0.5687474500203998, 0.5756553208137716, 0.5278170674210279, 0.6633986928104576, 0.44911297852474324, 0.5527544351073763, 0.5325318246110324]\n",
      "Validation set ROC AUC: {'mean-roc_auc_score': 0.5526332338822596}\n"
     ]
    }
   ],
   "source": [
    "test_score = model.evaluate(test_embeddings_dataset, [metric], transformers)\n",
    "print('Validation set ROC AUC:', test_score)"
   ]
  },
  {
   "cell_type": "code",
   "execution_count": 53,
   "metadata": {},
   "outputs": [
    {
     "name": "stdout",
     "output_type": "stream",
     "text": [
      "computed_metrics: [0.5112994350282487, 0.5037211740041929, 0.5592903828197946, 0.5209846650524617, 0.49542372881355934, 0.5752941176470588, 0.6781496062992126, 0.7229166666666667, 0.598496835443038, 0.5875283446712019, 0.5084219858156028, 0.49891445940078155, 0.5659407138535996, 0.6415174765558398, 0.5077097505668935, 0.33142258382643, 0.6833333333333333, 0.44166666666666665, 0.5035460992907801, 0.615501519756839, 0.5687474500203998, 0.5756553208137716, 0.5278170674210279, 0.6633986928104576, 0.44911297852474324, 0.5527544351073763, 0.5325318246110324]\n",
      "Validation set ROC AUC: {'mean-roc_auc_score': 0.5526332338822596}\n"
     ]
    }
   ],
   "source": [
    "test_score = model.evaluate(test_embeddings_dataset, [metric], transformers)\n",
    "print('Validation set ROC AUC:', test_score)"
   ]
  },
  {
   "cell_type": "markdown",
   "metadata": {},
   "source": [
    "\n",
    "# Valores muito fracos - Melhorar ...."
   ]
  },
  {
   "cell_type": "code",
   "execution_count": null,
   "metadata": {},
   "outputs": [],
   "source": []
  }
 ],
 "metadata": {
  "kernelspec": {
   "display_name": "Python 3",
   "language": "python",
   "name": "python3"
  },
  "language_info": {
   "codemirror_mode": {
    "name": "ipython",
    "version": 3
   },
   "file_extension": ".py",
   "mimetype": "text/x-python",
   "name": "python",
   "nbconvert_exporter": "python",
   "pygments_lexer": "ipython3",
   "version": "3.6.8"
  }
 },
 "nbformat": 4,
 "nbformat_minor": 2
}
