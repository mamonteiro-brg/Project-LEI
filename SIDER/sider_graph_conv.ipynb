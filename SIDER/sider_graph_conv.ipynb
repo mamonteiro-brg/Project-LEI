{
 "cells": [
  {
   "cell_type": "markdown",
   "metadata": {},
   "source": [
    "## Graph Convolutions For SIDER"
   ]
  },
  {
   "cell_type": "code",
   "execution_count": null,
   "metadata": {},
   "outputs": [],
   "source": [
    "Featurization=ConvMolFeaturizer\n",
    "\n",
    "É utilizado com modelos GraphConvModel.\n",
    "\n",
    "Alternativamente, também implementamos este modelo (GraphConvModel) usando layers do TensorGraph"
   ]
  },
  {
   "cell_type": "code",
   "execution_count": 1,
   "metadata": {},
   "outputs": [
    {
     "name": "stderr",
     "output_type": "stream",
     "text": [
      "/home/mamonteiro/anaconda3/envs/lei/lib/python3.6/site-packages/sklearn/externals/joblib/__init__.py:15: DeprecationWarning: sklearn.externals.joblib is deprecated in 0.21 and will be removed in 0.23. Please import this functionality directly from joblib, which can be installed with: pip install joblib. If this warning is raised when loading pickled models, you may need to re-serialize those models with scikit-learn 0.21+.\n",
      "  warnings.warn(msg, category=DeprecationWarning)\n"
     ]
    }
   ],
   "source": [
    "from __future__ import division\n",
    "from __future__ import print_function\n",
    "from __future__ import unicode_literals\n",
    "\n",
    "import numpy as np\n",
    "import tensorflow as tf\n",
    "import deepchem as dc\n",
    "from deepchem.models.tensorgraph.models.graph_models import GraphConvModel"
   ]
  },
  {
   "cell_type": "markdown",
   "metadata": {},
   "source": [
    "# Load SIDER Dataset"
   ]
  },
  {
   "cell_type": "raw",
   "metadata": {},
   "source": [
    "All MoleculeNet datasets are split into training, validation and test subsets following a 80/10/10 ratio. \n",
    "\n",
    "Different  splittings are recommended depending on each dataset's contents."
   ]
  },
  {
   "cell_type": "code",
   "execution_count": 2,
   "metadata": {
    "scrolled": true
   },
   "outputs": [
    {
     "name": "stdout",
     "output_type": "stream",
     "text": [
      "Loading raw samples now.\n",
      "shard_size: 8192\n",
      "About to start loading CSV from /tmp/sider.csv.gz\n",
      "Loading shard 1 of size 8192.\n",
      "Featurizing sample 0\n",
      "Featurizing sample 1000\n",
      "TIMING: featurizing shard 0 took 3.017 s\n",
      "TIMING: dataset construction took 3.486 s\n",
      "Loading dataset from disk.\n",
      "TIMING: dataset construction took 0.676 s\n",
      "Loading dataset from disk.\n",
      "TIMING: dataset construction took 0.465 s\n",
      "Loading dataset from disk.\n",
      "TIMING: dataset construction took 0.265 s\n",
      "Loading dataset from disk.\n",
      "TIMING: dataset construction took 0.262 s\n",
      "Loading dataset from disk.\n"
     ]
    }
   ],
   "source": [
    "sider_tasks, sider_datasets, transformers = dc.molnet.load_sider(featurizer='GraphConv')\n",
    "train_dataset, valid_dataset, test_dataset = sider_datasets"
   ]
  },
  {
   "cell_type": "raw",
   "metadata": {},
   "source": [
    "Different classification and regress metrics are recommended based on previous works and dataset's contents:\n",
    "          ROC-AUC:  Area Under Curve of Receiver Operating Characteristics\n",
    "          PRC-AUC:  Area Under Curve of Precision Recall Curve\n",
    "          RMSE: Root-Mean-Square Error\n",
    "          MAE: Mean Absolute Error"
   ]
  },
  {
   "cell_type": "code",
   "execution_count": 4,
   "metadata": {
    "scrolled": true
   },
   "outputs": [
    {
     "name": "stdout",
     "output_type": "stream",
     "text": [
      "WARNING:tensorflow:From /home/mamonteiro/anaconda3/envs/lei/lib/python3.6/site-packages/tensorflow/python/ops/resource_variable_ops.py:435: colocate_with (from tensorflow.python.framework.ops) is deprecated and will be removed in a future version.\n",
      "Instructions for updating:\n",
      "Colocations handled automatically by placer.\n"
     ]
    },
    {
     "name": "stderr",
     "output_type": "stream",
     "text": [
      "WARNING:tensorflow:From /home/mamonteiro/anaconda3/envs/lei/lib/python3.6/site-packages/tensorflow/python/ops/resource_variable_ops.py:435: colocate_with (from tensorflow.python.framework.ops) is deprecated and will be removed in a future version.\n",
      "Instructions for updating:\n",
      "Colocations handled automatically by placer.\n"
     ]
    },
    {
     "name": "stdout",
     "output_type": "stream",
     "text": [
      "WARNING:tensorflow:From /home/mamonteiro/anaconda3/envs/lei/lib/python3.6/site-packages/tensorflow/python/ops/math_grad.py:317: div (from tensorflow.python.ops.math_ops) is deprecated and will be removed in a future version.\n",
      "Instructions for updating:\n",
      "Deprecated in favor of operator or tf.math.divide.\n"
     ]
    },
    {
     "name": "stderr",
     "output_type": "stream",
     "text": [
      "WARNING:tensorflow:From /home/mamonteiro/anaconda3/envs/lei/lib/python3.6/site-packages/tensorflow/python/ops/math_grad.py:317: div (from tensorflow.python.ops.math_ops) is deprecated and will be removed in a future version.\n",
      "Instructions for updating:\n",
      "Deprecated in favor of operator or tf.math.divide.\n"
     ]
    },
    {
     "name": "stdout",
     "output_type": "stream",
     "text": [
      "WARNING:tensorflow:From /home/mamonteiro/anaconda3/envs/lei/lib/python3.6/site-packages/tensorflow/python/ops/math_ops.py:3066: to_int32 (from tensorflow.python.ops.math_ops) is deprecated and will be removed in a future version.\n",
      "Instructions for updating:\n",
      "Use tf.cast instead.\n"
     ]
    },
    {
     "name": "stderr",
     "output_type": "stream",
     "text": [
      "WARNING:tensorflow:From /home/mamonteiro/anaconda3/envs/lei/lib/python3.6/site-packages/tensorflow/python/ops/math_ops.py:3066: to_int32 (from tensorflow.python.ops.math_ops) is deprecated and will be removed in a future version.\n",
      "Instructions for updating:\n",
      "Use tf.cast instead.\n",
      "/home/mamonteiro/anaconda3/envs/lei/lib/python3.6/site-packages/tensorflow/python/ops/gradients_impl.py:110: UserWarning: Converting sparse IndexedSlices to a dense Tensor of unknown shape. This may consume a large amount of memory.\n",
      "  \"Converting sparse IndexedSlices to a dense Tensor of unknown shape. \"\n"
     ]
    },
    {
     "name": "stdout",
     "output_type": "stream",
     "text": [
      "Epoch 0 loss: 871.807216\n",
      "Epoch 1 loss: 808.000897\n",
      "Epoch 2 loss: 789.030637\n",
      "Epoch 3 loss: 776.692194\n",
      "Epoch 4 loss: 768.987281\n",
      "WARNING:tensorflow:From /home/mamonteiro/anaconda3/envs/lei/lib/python3.6/site-packages/tensorflow/python/training/checkpoint_management.py:624: remove_checkpoint (from tensorflow.python.training.checkpoint_management) is deprecated and will be removed in a future version.\n",
      "Instructions for updating:\n",
      "Use standard file APIs to delete files with this prefix.\n"
     ]
    },
    {
     "name": "stderr",
     "output_type": "stream",
     "text": [
      "WARNING:tensorflow:From /home/mamonteiro/anaconda3/envs/lei/lib/python3.6/site-packages/tensorflow/python/training/checkpoint_management.py:624: remove_checkpoint (from tensorflow.python.training.checkpoint_management) is deprecated and will be removed in a future version.\n",
      "Instructions for updating:\n",
      "Use standard file APIs to delete files with this prefix.\n"
     ]
    },
    {
     "name": "stdout",
     "output_type": "stream",
     "text": [
      "Epoch 5 loss: 751.606896\n",
      "Epoch 6 loss: 740.793186\n",
      "Epoch 7 loss: 729.507178\n",
      "Epoch 8 loss: 714.042096\n",
      "Epoch 9 loss: 704.550155\n"
     ]
    }
   ],
   "source": [
    "num_epochs = 10\n",
    "losses = []\n",
    "\n",
    "model = GraphConvModel(\n",
    "    len(sider_tasks), batch_size=50, mode='classification')\n",
    "\n",
    "for i in range(num_epochs):\n",
    "    # Set nb_epoch=10 for better results.\n",
    "    loss = model.fit(train_dataset, nb_epoch=1)\n",
    "    print(\"Epoch %d loss: %f\" % (i, loss))\n",
    "    losses.append(loss)"
   ]
  },
  {
   "cell_type": "code",
   "execution_count": 5,
   "metadata": {},
   "outputs": [
    {
     "data": {
      "text/plain": [
       "<module 'matplotlib.pyplot' from '/home/mamonteiro/anaconda3/envs/lei/lib/python3.6/site-packages/matplotlib/pyplot.py'>"
      ]
     },
     "execution_count": 5,
     "metadata": {},
     "output_type": "execute_result"
    },
    {
     "data": {
      "image/png": "[encoded data removed]",
      "text/plain": [
       "<Figure size 432x288 with 1 Axes>"
      ]
     },
     "metadata": {
      "needs_background": "light"
     },
     "output_type": "display_data"
    }
   ],
   "source": [
    "import matplotlib.pyplot as plot\n",
    "\n",
    "plot.ylabel(\"Loss\")\n",
    "plot.xlabel(\"Epoch\")\n",
    "x = range(num_epochs)\n",
    "y = losses\n",
    "plot.scatter(x, y)\n",
    "plot"
   ]
  },
  {
   "cell_type": "code",
   "execution_count": 6,
   "metadata": {},
   "outputs": [
    {
     "name": "stdout",
     "output_type": "stream",
     "text": [
      "Evaluating model\n",
      "computed_metrics: [0.7464094269870609, 0.6902738989145734, 0.987944460080683, 0.7218128126874477, 0.7368292091217856, 0.7017617723705892, 0.7901713875802168, 0.7592613508018975, 0.6943788013791501, 0.7440608006692748, 0.7405992626872695, 0.7099779532038972, 0.7517700940401923, 0.7265279086198776, 0.6822722785280186, 0.7476580377574371, 0.7422782307882383, 0.7338439901552062, 0.6915743538100033, 0.6899474428946837, 0.7177844389019823, 0.688712422007941, 0.8078231292517007, 0.6766508373522546, 0.7286994198428435, 0.8181319776714514, 0.6666122737947231]\n",
      "Training ROC-AUC Score: 0.736806\n"
     ]
    }
   ],
   "source": [
    "metric = dc.metrics.Metric(\n",
    "    dc.metrics.roc_auc_score, np.mean, mode=\"classification\")\n",
    "\n",
    "print(\"Evaluating model\")\n",
    "train_scores = model.evaluate(train_dataset, [metric], transformers)\n",
    "print(\"Training ROC-AUC Score: %f\" % train_scores[\"mean-roc_auc_score\"])\n"
   ]
  },
  {
   "cell_type": "code",
   "execution_count": 7,
   "metadata": {},
   "outputs": [
    {
     "name": "stdout",
     "output_type": "stream",
     "text": [
      "computed_metrics: [0.6196598101265822, 0.5405469118340405, 0.2605633802816901, 0.6029588164734107, 0.6419984973703983, 0.5245614035087719, 0.6866002214839424, 0.6267796610169492, 0.5057624113475176, 0.5916961826052736, 0.632882882882883, 0.5096418732782368, 0.6421568627450981, 0.6333333333333333, 0.4911504424778761, 0.6586732406992379, 0.7007874015748032, 0.6202185792349726, 0.5906976744186047, 0.6189962223421479, 0.6176744186046512, 0.5907511940946591, 0.7111959287531806, 0.5110159118727051, 0.6611385029134917, 0.6533078880407125, 0.5765132139812447]\n",
      "Validation ROC-AUC Score: 0.593380\n"
     ]
    }
   ],
   "source": [
    "valid_scores = model.evaluate(valid_dataset, [metric], transformers)\n",
    "print(\"Validation ROC-AUC Score: %f\" % valid_scores[\"mean-roc_auc_score\"])"
   ]
  },
  {
   "cell_type": "code",
   "execution_count": 8,
   "metadata": {
    "scrolled": true
   },
   "outputs": [
    {
     "name": "stderr",
     "output_type": "stream",
     "text": [
      "/home/mamonteiro/anaconda3/envs/lei/lib/python3.6/site-packages/tensorflow/python/ops/gradients_impl.py:110: UserWarning: Converting sparse IndexedSlices to a dense Tensor of unknown shape. This may consume a large amount of memory.\n",
      "  \"Converting sparse IndexedSlices to a dense Tensor of unknown shape. \"\n"
     ]
    },
    {
     "name": "stdout",
     "output_type": "stream",
     "text": [
      "Epoch 0 loss: 843.251136\n",
      "Epoch 1 loss: 799.507433\n",
      "Epoch 2 loss: 787.025916\n",
      "Epoch 3 loss: 773.589685\n",
      "Epoch 4 loss: 757.007749\n",
      "Epoch 5 loss: 748.741155\n",
      "Epoch 6 loss: 736.781985\n",
      "Epoch 7 loss: 730.145288\n",
      "Epoch 8 loss: 718.407396\n",
      "Epoch 9 loss: 722.130337\n",
      "Epoch 10 loss: 709.288768\n",
      "Epoch 11 loss: 693.748230\n",
      "Epoch 12 loss: 691.672703\n",
      "Epoch 13 loss: 674.717147\n",
      "Epoch 14 loss: 669.324131\n"
     ]
    }
   ],
   "source": [
    "num_epochs = 15\n",
    "losses = []\n",
    "\n",
    "model = GraphConvModel(\n",
    "    len(sider_tasks), batch_size=50, mode='classification')\n",
    "# Set nb_epoch=10 for better results.\n",
    "\n",
    "for i in range(num_epochs):\n",
    "    # Set nb_epoch=10 for better results.\n",
    "    loss = model.fit(train_dataset, nb_epoch=1)\n",
    "    print(\"Epoch %d loss: %f\" % (i, loss))\n",
    "    losses.append(loss)"
   ]
  },
  {
   "cell_type": "code",
   "execution_count": 11,
   "metadata": {
    "scrolled": true
   },
   "outputs": [
    {
     "name": "stdout",
     "output_type": "stream",
     "text": [
      "Evaluating model\n",
      "computed_metrics: [0.7797905113986445, 0.7353342126787858, 0.9898208087062577, 0.7355199757430344, 0.7766448326055313, 0.7485391154116972, 0.8292473681149306, 0.7843861018132534, 0.7032348041684422, 0.7797544351762997, 0.7802141344419171, 0.7714422871772989, 0.7784372658466565, 0.788088789448893, 0.7339256763488484, 0.7938991964842936, 0.8179268594020263, 0.744788788989904, 0.705972362090187, 0.7159025672124519, 0.7706297813269875, 0.7540555870674986, 0.8479040264754552, 0.7412307445937041, 0.7446867885731072, 0.8475877192982456, 0.7004696781323387]\n",
      "Training ROC-AUC Score: 0.774053\n",
      "computed_metrics: [0.699367088607595, 0.6244695898161244, 0.7746478873239436, 0.5777688924430228, 0.6510142749812171, 0.487218045112782, 0.5254706533776301, 0.5532203389830508, 0.587322695035461, 0.6001574183392366, 0.6252815315315315, 0.4641873278236915, 0.5752801120448179, 0.698780487804878, 0.5651917404129794, 0.627969520394442, 0.6461614173228346, 0.6206088992974239, 0.5702325581395349, 0.5949811117107393, 0.576046511627907, 0.603126356925749, 0.7417302798982188, 0.5487556099551203, 0.597938144329897, 0.6736641221374046, 0.5315430520034101]\n",
      "Validation ROC-AUC Score: 0.605264\n"
     ]
    }
   ],
   "source": [
    "metric = dc.metrics.Metric(\n",
    "    dc.metrics.roc_auc_score, np.mean, mode=\"classification\")\n",
    "\n",
    "print(\"Evaluating model\")\n",
    "train_scores = model.evaluate(train_dataset, [metric], transformers)\n",
    "print(\"Training ROC-AUC Score: %f\" % train_scores[\"mean-roc_auc_score\"])\n",
    "\n",
    "valid_scores = model.evaluate(valid_dataset, [metric], transformers)\n",
    "print(\"Validation ROC-AUC Score: %f\" % valid_scores[\"mean-roc_auc_score\"])"
   ]
  },
  {
   "cell_type": "code",
   "execution_count": 12,
   "metadata": {},
   "outputs": [],
   "source": [
    "# Hiperparameters permitidos pelo deepchem e os valores que são utilizados por defeito"
   ]
  },
  {
   "cell_type": "markdown",
   "metadata": {},
   "source": [
    "hps['graphconv'] = {\n",
    "    'batch_size': 64,\n",
    "    'nb_epoch': 40,\n",
    "    'learning_rate': 0.0005,\n",
    "    'n_filters': 64,\n",
    "    'n_fully_connected_nodes': 128,\n",
    "    'seed': 123\n",
    "}"
   ]
  },
  {
   "cell_type": "markdown",
   "metadata": {},
   "source": [
    "batch_size = hyper_parameters['batch_size']\n",
    "nb_epoch = hyper_parameters['nb_epoch']\n",
    "learning_rate = hyper_parameters['learning_rate']\n",
    "n_filters = hyper_parameters['n_filters']\n",
    "n_fully_connected_nodes = hyper_parameters['n_fully_connected_nodes']\n",
    "    "
   ]
  },
  {
   "cell_type": "markdown",
   "metadata": {},
   "source": [
    "# Another Implementation GraphConvModel"
   ]
  },
  {
   "cell_type": "markdown",
   "metadata": {},
   "source": [
    "TensorGraph - Simplicity is Beauty\n",
    "TensorGraph is a simple, lean, and clean framework on TensorFlow for building any imaginable models.\n",
    "\n"
   ]
  },
  {
   "cell_type": "markdown",
   "metadata": {},
   "source": [
    "What’s going on under the hood? \n",
    "\n",
    "Now we will build GraphConvModel ourselves.\n",
    "\n",
    "The first step is to create a TensorGraph object. \n",
    "This object will hold the “computational graph” that defines the computation that a graph convolutional network will perform.\n"
   ]
  },
  {
   "cell_type": "code",
   "execution_count": 14,
   "metadata": {},
   "outputs": [],
   "source": [
    "from deepchem.models.tensorgraph.tensor_graph import TensorGraph\n",
    "\n",
    "tg = TensorGraph(use_queue=False)"
   ]
  },
  {
   "cell_type": "code",
   "execution_count": 15,
   "metadata": {},
   "outputs": [],
   "source": [
    "from deepchem.models.tensorgraph.layers import Feature\n",
    "\n",
    "atom_features = Feature(shape=(None, 75))\n",
    "degree_slice = Feature(shape=(None, 2), dtype=tf.int32)\n",
    "membership = Feature(shape=(None,), dtype=tf.int32)\n",
    "\n",
    "deg_adjs = []\n",
    "for i in range(0, 10 + 1):\n",
    "    deg_adj = Feature(shape=(None, i + 1), dtype=tf.int32)\n",
    "    deg_adjs.append(deg_adj)"
   ]
  },
  {
   "cell_type": "code",
   "execution_count": 18,
   "metadata": {},
   "outputs": [],
   "source": [
    "from deepchem.models.tensorgraph.layers import Dense, GraphConv, BatchNorm\n",
    "from deepchem.models.tensorgraph.layers import GraphPool, GraphGather\n",
    "\n",
    "batch_size = 50\n",
    "\n",
    "gc1 = GraphConv(64,activation_fn=tf.nn.relu,in_layers=[atom_features, degree_slice, membership] + deg_adjs)\n",
    "batch_norm1 = BatchNorm(in_layers=[gc1])\n",
    "gp1 = GraphPool(in_layers=[batch_norm1, degree_slice, membership] + deg_adjs)\n",
    "\n",
    "gc2 = GraphConv(64,activation_fn=tf.nn.relu,in_layers=[gp1, degree_slice, membership] + deg_adjs)\n",
    "batch_norm2 = BatchNorm(in_layers=[gc2])\n",
    "\n",
    "gp2 = GraphPool(in_layers=[batch_norm2, degree_slice, membership] + deg_adjs)\n",
    "    \n",
    "dense = Dense(out_channels=128, activation_fn=tf.nn.relu, in_layers=[gp2])\n",
    "batch_norm3 = BatchNorm(in_layers=[dense])\n",
    "readout = GraphGather(batch_size=batch_size,activation_fn=tf.nn.tanh,in_layers=[batch_norm3, degree_slice, membership] + deg_adjs)"
   ]
  },
  {
   "cell_type": "code",
   "execution_count": 22,
   "metadata": {},
   "outputs": [],
   "source": [
    "from deepchem.models.tensorgraph.layers import Dense, SoftMax, \\\n",
    "    SoftMaxCrossEntropy, WeightedError, Stack\n",
    "from deepchem.models.tensorgraph.layers import Label, Weights\n",
    "\n",
    "costs = []\n",
    "labels = []\n",
    "for task in range(len(sider_tasks)):\n",
    "    classification = Dense(\n",
    "        out_channels=2, activation_fn=None, in_layers=[readout])\n",
    "\n",
    "    softmax = SoftMax(in_layers=[classification])\n",
    "    tg.add_output(softmax)\n",
    "\n",
    "    label = Label(shape=(None, 2))\n",
    "    labels.append(label)\n",
    "    cost = SoftMaxCrossEntropy(in_layers=[label, classification])\n",
    "    costs.append(cost)\n",
    "all_cost = Stack(in_layers=costs, axis=1)\n",
    "weights = Weights(shape=(None, len(sider_tasks)))\n",
    "loss = WeightedError(in_layers=[all_cost, weights])\n",
    "tg.set_loss(loss)"
   ]
  },
  {
   "cell_type": "code",
   "execution_count": 30,
   "metadata": {},
   "outputs": [],
   "source": [
    "from deepchem.metrics import to_one_hot\n",
    "from deepchem.feat.mol_graphs import ConvMol\n",
    "\n",
    "def data_generator(dataset, epochs=1, predict=False, pad_batches=True):\n",
    "    for epoch in range(epochs):\n",
    "        if not predict:\n",
    "            print('Starting epoch %i' % epoch)\n",
    "        for ind, (X_b, y_b, w_b, ids_b) in enumerate(\n",
    "            dataset.iterbatches(batch_size, pad_batches=pad_batches, deterministic=True)):\n",
    "            d = {}\n",
    "\n",
    "            for index, label in enumerate(labels):\n",
    "                d[label] = to_one_hot(y_b[:, index])\n",
    "            d[weights] = w_b\n",
    "            multiConvMol = ConvMol.agglomerate_mols(X_b)\n",
    "            d[atom_features] = multiConvMol.get_atom_features()\n",
    "            d[degree_slice] = multiConvMol.deg_slice\n",
    "            d[membership] = multiConvMol.membership\n",
    "            for i in range(1, len(multiConvMol.get_deg_adjacency_lists())):\n",
    "                d[deg_adjs[i - 1]] = multiConvMol.get_deg_adjacency_lists()[i]\n",
    "            yield d"
   ]
  },
  {
   "cell_type": "code",
   "execution_count": 31,
   "metadata": {},
   "outputs": [
    {
     "name": "stdout",
     "output_type": "stream",
     "text": [
      "Starting epoch 0\n",
      "Starting epoch 1\n",
      "Starting epoch 2\n",
      "Starting epoch 3\n",
      "Starting epoch 4\n",
      "Starting epoch 5\n",
      "Starting epoch 6\n",
      "Starting epoch 7\n",
      "Starting epoch 8\n",
      "Starting epoch 9\n"
     ]
    },
    {
     "data": {
      "text/plain": [
       "632.3434734842052"
      ]
     },
     "execution_count": 31,
     "metadata": {},
     "output_type": "execute_result"
    }
   ],
   "source": [
    "# Epochs set to 1 to render tutorials online.\n",
    "# Set epochs=10 for better results.\n",
    "tg.fit_generator(data_generator(train_dataset, epochs=10))"
   ]
  },
  {
   "cell_type": "code",
   "execution_count": 26,
   "metadata": {
    "scrolled": false
   },
   "outputs": [
    {
     "name": "stdout",
     "output_type": "stream",
     "text": [
      "Evaluating model\n",
      "computed_metrics: [0.7544362292051756, 0.6940835771183504, 0.9945585889858336, 0.7110158263517656, 0.7401625424551188, 0.719597267692129, 0.7773076251963009, 0.791532332587223, 0.7129353426568009, 0.7560868334932703, 0.7591144403482626, 0.7127604722281489, 0.7726534151659805, 0.7511304757418746, 0.712387577099693, 0.7643784454961514, 0.7689893748455647, 0.7578180722286403, 0.7031255827831859, 0.7304083282797655, 0.7341944488936687, 0.7266691134763605, 0.8413311270454127, 0.6808606958739076, 0.7187522949254608, 0.82295653907496, 0.6877572869180826]\n",
      "Training ROC-AUC Score: 0.751741\n"
     ]
    }
   ],
   "source": [
    "metric = dc.metrics.Metric(\n",
    "    dc.metrics.roc_auc_score, np.mean, mode=\"classification\")\n",
    "\n",
    "def reshape_y_pred(y_true, y_pred):\n",
    "    \"\"\"\n",
    "    TensorGraph.Predict returns a list of arrays, one for each output\n",
    "    We also have to remove the padding on the last batch\n",
    "    Metrics taks results of shape (samples, n_task, prob_of_class)\n",
    "    \"\"\"\n",
    "    n_samples = len(y_true)\n",
    "    retval = np.stack(y_pred, axis=1)\n",
    "    return retval[:n_samples]\n",
    "\n",
    "\n",
    "print(\"Evaluating model\")\n",
    "train_predictions = tg.predict_on_generator(data_generator(train_dataset, predict=True))\n",
    "train_predictions = reshape_y_pred(train_dataset.y, train_predictions)\n",
    "train_scores = metric.compute_metric(train_dataset.y, train_predictions, train_dataset.w)\n",
    "print(\"Training ROC-AUC Score: %f\" % train_scores)\n",
    "\n"
   ]
  },
  {
   "cell_type": "code",
   "execution_count": null,
   "metadata": {},
   "outputs": [],
   "source": [
    "# Validation Dataset"
   ]
  },
  {
   "cell_type": "code",
   "execution_count": 27,
   "metadata": {},
   "outputs": [
    {
     "name": "stdout",
     "output_type": "stream",
     "text": [
      "computed_metrics: [0.6606012658227849, 0.49316360207449317, 0.5492957746478873, 0.5971611355457818, 0.6818181818181819, 0.4922305764411027, 0.6411960132890366, 0.5752542372881355, 0.5620567375886525, 0.5499803227075954, 0.5574324324324325, 0.4944903581267218, 0.6036414565826331, 0.6089430894308944, 0.54070796460177, 0.6548632900044823, 0.5659448818897637, 0.6752537080405933, 0.5883720930232558, 0.6395035078251483, 0.5795348837209302, 0.5998697351280938, 0.7118320610687023, 0.5791513667890658, 0.5788883908561184, 0.6075063613231553, 0.5569053708439897]\n",
      "Valid ROC-AUC Score: 0.590578\n"
     ]
    }
   ],
   "source": [
    "valid_predictions = tg.predict_on_generator(data_generator(valid_dataset, predict=True))\n",
    "valid_predictions = reshape_y_pred(valid_dataset.y, valid_predictions)\n",
    "valid_scores = metric.compute_metric(valid_dataset.y, valid_predictions, valid_dataset.w)\n",
    "print(\"Valid ROC-AUC Score: %f\" % valid_scores)\n"
   ]
  },
  {
   "cell_type": "code",
   "execution_count": 11,
   "metadata": {},
   "outputs": [],
   "source": [
    "# Test Dataset"
   ]
  },
  {
   "cell_type": "code",
   "execution_count": 28,
   "metadata": {
    "scrolled": true
   },
   "outputs": [
    {
     "name": "stdout",
     "output_type": "stream",
     "text": [
      "computed_metrics: [0.7019382911392404, 0.5047953964194374, 0.5425531914893618, 0.5866666666666667, 0.7301875378100424, 0.5988662131519275, 0.72121062992126, 0.5354808590102708, 0.6607709750566894, 0.6234350547730829, 0.5373520710059172, 0.58125, 0.6047457627118644, 0.4327731092436975, 0.5721357850070721, 0.5760694108151736, 0.6811391223155929, 0.5634920634920635, 0.629654255319149, 0.6572371522866572, 0.5284411636995223, 0.6138310893512853, 0.5111111111111111, 0.5675948345439872, 0.5610062893081762, 0.7213541666666667, 0.614090316977855]\n",
      "Valid ROC-AUC Score: 0.598488\n"
     ]
    }
   ],
   "source": [
    "test_predictions = tg.predict_on_generator(data_generator(test_dataset, predict=True))\n",
    "test_predictions = reshape_y_pred(test_dataset.y, test_predictions)\n",
    "test_scores = metric.compute_metric(test_dataset.y, test_predictions, test_dataset.w)\n",
    "print(\"Valid ROC-AUC Score: %f\" % test_scores)"
   ]
  },
  {
   "cell_type": "code",
   "execution_count": null,
   "metadata": {},
   "outputs": [],
   "source": []
  },
  {
   "cell_type": "markdown",
   "metadata": {},
   "source": [
    "\n",
    "# Comparision of Results with MoleculeNet results"
   ]
  },
  {
   "cell_type": "code",
   "execution_count": null,
   "metadata": {},
   "outputs": [],
   "source": []
  }
 ],
 "metadata": {
  "kernelspec": {
   "display_name": "Python 3",
   "language": "python",
   "name": "python3"
  },
  "language_info": {
   "codemirror_mode": {
    "name": "ipython",
    "version": 3
   },
   "file_extension": ".py",
   "mimetype": "text/x-python",
   "name": "python",
   "nbconvert_exporter": "python",
   "pygments_lexer": "ipython3",
   "version": "3.6.8"
  }
 },
 "nbformat": 4,
 "nbformat_minor": 2
}
