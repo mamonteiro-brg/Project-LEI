{
 "cells": [
  {
   "cell_type": "markdown",
   "metadata": {},
   "source": [
    "## Graph Convolutions For OFFSIDES"
   ]
  },
  {
   "cell_type": "markdown",
   "metadata": {},
   "source": [
    "Featurization=ConvMolFeaturizer\n",
    "\n",
    "É utilizado com modelos GraphConvModel.\n",
    "\n",
    "Alternativamente, também implementamos este modelo (GraphConvModel) usando layers do TensorGraph"
   ]
  },
  {
   "cell_type": "code",
   "execution_count": 51,
   "metadata": {},
   "outputs": [],
   "source": [
    "from __future__ import division\n",
    "from __future__ import print_function\n",
    "from __future__ import unicode_literals\n",
    "import numpy as np\n",
    "import tensorflow as tf\n",
    "import deepchem as dc\n",
    "import pandas as pd\n",
    "from deepchem.models.tensorgraph.models.graph_models import GraphConvModel\n",
    "\n",
    "\n",
    "import warnings\n",
    "warnings.filterwarnings('ignore')"
   ]
  },
  {
   "cell_type": "code",
   "execution_count": 52,
   "metadata": {},
   "outputs": [],
   "source": [
    "\"\"\"\n",
    "OFFSIDES dataset loader.\n",
    "\"\"\"\n",
    "from __future__ import division\n",
    "from __future__ import unicode_literals\n",
    "\n",
    "import os\n",
    "import logging\n",
    "import deepchem\n",
    "\n",
    "logger = logging.getLogger(__name__)\n",
    "\n",
    "\n",
    "def load_offsides(featurizer='ECFP', split='index', reload=True, K=4):\n",
    "  logger.info(\"About to load ofssides dataset.\")\n",
    "  data_dir = deepchem.utils.get_data_dir()\n",
    "  if reload:\n",
    "    save_dir = os.path.join(data_dir, \"offsides/\" + featurizer + \"/\" + str(split))\n",
    "\n",
    "  dataset_file = os.path.join(\"/home/mamonteiro/source-code/Project-LEI/OFFSIDES/\", \"offsides.csv.gz\")\n",
    "\n",
    "\n",
    "  dataset = deepchem.utils.save.load_from_disk(dataset_file)\n",
    "  logger.info(\"Columns of dataset: %s\" % str(dataset.columns.values))\n",
    "  logger.info(\"Number of examples in dataset: %s\" % str(dataset.shape[0]))\n",
    "  OFFSIDES_tasks = dataset.columns.values[1:].tolist()\n",
    "\n",
    "  if reload:\n",
    "    loaded, all_dataset, transformers = deepchem.utils.save.load_dataset_from_disk(\n",
    "        save_dir)\n",
    "    if loaded:\n",
    "      return OFFSIDES_tasks, all_dataset, transformers\n",
    "\n",
    "  # Featurize OFFSIDES dataset\n",
    "  logger.info(\"About to featurize OFFSIDES dataset.\")\n",
    "  if featurizer == 'ECFP':\n",
    "    featurizer = deepchem.feat.CircularFingerprint(size=1024)\n",
    "  elif featurizer == 'GraphConv':\n",
    "    featurizer = deepchem.feat.ConvMolFeaturizer()\n",
    "  elif featurizer == 'Weave':\n",
    "    featurizer = deepchem.feat.WeaveFeaturizer()\n",
    "  elif featurizer == 'Raw':\n",
    "    featurizer = deepchem.feat.RawFeaturizer()\n",
    "\n",
    "  logger.info(\"OFFSIDES tasks: %s\" % str(OFFSIDES_tasks))\n",
    "  logger.info(\"%d tasks in total\" % len(OFFSIDES_tasks))\n",
    "\n",
    "  loader = deepchem.data.CSVLoader(\n",
    "      tasks=OFFSIDES_tasks, smiles_field=\"smiles\", featurizer=featurizer)\n",
    "  dataset = loader.featurize(dataset_file)\n",
    "  logger.info(\"%d datapoints in OFFSIDES dataset\" % len(dataset))\n",
    "\n",
    "  # Initialize transformers\n",
    "  transformers = [\n",
    "      deepchem.trans.BalancingTransformer(transform_w=True, dataset=dataset)\n",
    "  ]\n",
    "  logger.info(\"About to transform data\")\n",
    "  for transformer in transformers:\n",
    "    dataset = transformer.transform(dataset)\n",
    "\n",
    "  if split == None:\n",
    "    return OFFSIDES_tasks, (dataset, None, None), transformers\n",
    "\n",
    "  splitters = {\n",
    "      'index': deepchem.splits.IndexSplitter(),\n",
    "      'random': deepchem.splits.RandomSplitter(),\n",
    "      'scaffold': deepchem.splits.ScaffoldSplitter(),\n",
    "      'task': deepchem.splits.TaskSplitter()\n",
    "  }\n",
    "  splitter = splitters[split]\n",
    "  if split == 'task':\n",
    "    fold_datasets = splitter.k_fold_split(dataset, K)\n",
    "    all_dataset = fold_datasets\n",
    "  else:\n",
    "    train, valid, test = splitter.train_valid_test_split(dataset)\n",
    "    if reload:\n",
    "      deepchem.utils.save.save_dataset_to_disk(save_dir, train, valid, test,\n",
    "                                               transformers)\n",
    "    all_dataset = (train, valid, test)\n",
    "  return OFFSIDES_tasks, all_dataset, transformers\n"
   ]
  },
  {
   "cell_type": "markdown",
   "metadata": {},
   "source": [
    "# Load OFFSIDES Dataset"
   ]
  },
  {
   "cell_type": "markdown",
   "metadata": {},
   "source": [
    "All MoleculeNet datasets are split into training, validation and test subsets following a 80/10/10 ratio. \n",
    "\n",
    "Different  splittings are recommended depending on each dataset's contents."
   ]
  },
  {
   "cell_type": "code",
   "execution_count": 3,
   "metadata": {
    "scrolled": true
   },
   "outputs": [
    {
     "name": "stdout",
     "output_type": "stream",
     "text": [
      "Loading dataset from disk.\n",
      "Loading dataset from disk.\n",
      "Loading dataset from disk.\n"
     ]
    }
   ],
   "source": [
    "sider_tasks, sider_datasets, transformers = load_offsides(featurizer='GraphConv',reload=True)\n",
    "train_dataset, valid_dataset, test_dataset = sider_datasets"
   ]
  },
  {
   "cell_type": "code",
   "execution_count": 4,
   "metadata": {},
   "outputs": [
    {
     "data": {
      "text/plain": [
       "['Renal and urinary disorders',\n",
       " 'Respiratory, thoracic and mediastinal disorders',\n",
       " 'Skin and subcutaneous tissue disorders',\n",
       " 'Congenital, familial and genetic disorders',\n",
       " 'Hepatobiliary disorders',\n",
       " 'Infections and infestations',\n",
       " 'Cardiac disorders',\n",
       " 'Ear and labyrinth disorders',\n",
       " 'Investigations',\n",
       " 'Vascular disorders',\n",
       " 'Endocrine disorders',\n",
       " 'Immune system disorders',\n",
       " 'Product issues',\n",
       " 'Blood and lymphatic system disorders',\n",
       " 'Pregnancy, puerperium and perinatal conditions',\n",
       " 'Surgical and medical procedures',\n",
       " 'Psychiatric disorders',\n",
       " 'Reproductive system and breast disorders',\n",
       " 'Social circumstances',\n",
       " 'Eye disorders',\n",
       " 'Gastrointestinal disorders',\n",
       " 'General disorders and administration site conditions',\n",
       " 'Neoplasms benign, malignant and unspecified (incl cysts and polyps)',\n",
       " 'Injury, poisoning and procedural complications',\n",
       " 'Musculoskeletal and connective tissue disorders',\n",
       " 'Metabolism and nutrition disorders',\n",
       " 'Nervous system disorders']"
      ]
     },
     "execution_count": 4,
     "metadata": {},
     "output_type": "execute_result"
    }
   ],
   "source": [
    "sider_tasks"
   ]
  },
  {
   "cell_type": "markdown",
   "metadata": {},
   "source": [
    "Different classification and regress metrics are recommended based on previous works and dataset's contents:\n",
    "          ROC-AUC:  Area Under Curve of Receiver Operating Characteristics\n",
    "          PRC-AUC:  Area Under Curve of Precision Recall Curve\n",
    "          RMSE: Root-Mean-Square Error\n",
    "          MAE: Mean Absolute Error"
   ]
  },
  {
   "cell_type": "code",
   "execution_count": 5,
   "metadata": {},
   "outputs": [],
   "source": [
    "num_epochs = [10,20,30,40,50,60]\n",
    "losses = []\n",
    "loss =0\n",
    "\n",
    "model = GraphConvModel(\n",
    "    27, batch_size=50, mode='classification')"
   ]
  },
  {
   "cell_type": "code",
   "execution_count": 6,
   "metadata": {
    "scrolled": true
   },
   "outputs": [
    {
     "name": "stdout",
     "output_type": "stream",
     "text": [
      "WARNING:tensorflow:From /home/mamonteiro/anaconda3/envs/lei/lib/python3.6/site-packages/tensorflow/python/ops/resource_variable_ops.py:435: colocate_with (from tensorflow.python.framework.ops) is deprecated and will be removed in a future version.\n",
      "Instructions for updating:\n",
      "Colocations handled automatically by placer.\n"
     ]
    },
    {
     "name": "stderr",
     "output_type": "stream",
     "text": [
      "WARNING:tensorflow:From /home/mamonteiro/anaconda3/envs/lei/lib/python3.6/site-packages/tensorflow/python/ops/resource_variable_ops.py:435: colocate_with (from tensorflow.python.framework.ops) is deprecated and will be removed in a future version.\n",
      "Instructions for updating:\n",
      "Colocations handled automatically by placer.\n"
     ]
    },
    {
     "name": "stdout",
     "output_type": "stream",
     "text": [
      "WARNING:tensorflow:From /home/mamonteiro/anaconda3/envs/lei/lib/python3.6/site-packages/tensorflow/python/ops/math_grad.py:317: div (from tensorflow.python.ops.math_ops) is deprecated and will be removed in a future version.\n",
      "Instructions for updating:\n",
      "Deprecated in favor of operator or tf.math.divide.\n"
     ]
    },
    {
     "name": "stderr",
     "output_type": "stream",
     "text": [
      "WARNING:tensorflow:From /home/mamonteiro/anaconda3/envs/lei/lib/python3.6/site-packages/tensorflow/python/ops/math_grad.py:317: div (from tensorflow.python.ops.math_ops) is deprecated and will be removed in a future version.\n",
      "Instructions for updating:\n",
      "Deprecated in favor of operator or tf.math.divide.\n"
     ]
    },
    {
     "name": "stdout",
     "output_type": "stream",
     "text": [
      "WARNING:tensorflow:From /home/mamonteiro/anaconda3/envs/lei/lib/python3.6/site-packages/tensorflow/python/ops/math_ops.py:3066: to_int32 (from tensorflow.python.ops.math_ops) is deprecated and will be removed in a future version.\n",
      "Instructions for updating:\n",
      "Use tf.cast instead.\n"
     ]
    },
    {
     "name": "stderr",
     "output_type": "stream",
     "text": [
      "WARNING:tensorflow:From /home/mamonteiro/anaconda3/envs/lei/lib/python3.6/site-packages/tensorflow/python/ops/math_ops.py:3066: to_int32 (from tensorflow.python.ops.math_ops) is deprecated and will be removed in a future version.\n",
      "Instructions for updating:\n",
      "Use tf.cast instead.\n"
     ]
    },
    {
     "name": "stdout",
     "output_type": "stream",
     "text": [
      "Epoch 10 loss: 1480.218435\n",
      "Epoch 20 loss: 1188.910103\n",
      "Epoch 30 loss: 789.084278\n",
      "Epoch 40 loss: 450.006761\n",
      "WARNING:tensorflow:From /home/mamonteiro/anaconda3/envs/lei/lib/python3.6/site-packages/tensorflow/python/training/checkpoint_management.py:624: remove_checkpoint (from tensorflow.python.training.checkpoint_management) is deprecated and will be removed in a future version.\n",
      "Instructions for updating:\n",
      "Use standard file APIs to delete files with this prefix.\n"
     ]
    },
    {
     "name": "stderr",
     "output_type": "stream",
     "text": [
      "WARNING:tensorflow:From /home/mamonteiro/anaconda3/envs/lei/lib/python3.6/site-packages/tensorflow/python/training/checkpoint_management.py:624: remove_checkpoint (from tensorflow.python.training.checkpoint_management) is deprecated and will be removed in a future version.\n",
      "Instructions for updating:\n",
      "Use standard file APIs to delete files with this prefix.\n"
     ]
    },
    {
     "name": "stdout",
     "output_type": "stream",
     "text": [
      "Epoch 50 loss: 219.293544\n",
      "Epoch 60 loss: 107.124096\n"
     ]
    }
   ],
   "source": [
    "for i in num_epochs:\n",
    "    # Set nb_epoch=10 for better results.\n",
    "    loss = model.fit(train_dataset, nb_epoch=i)\n",
    "    print(\"Epoch %d loss: %f\" % (i, loss))\n",
    "    losses.append(loss)"
   ]
  },
  {
   "cell_type": "code",
   "execution_count": 7,
   "metadata": {},
   "outputs": [
    {
     "data": {
      "text/plain": [
       "<module 'matplotlib.pyplot' from '/home/mamonteiro/anaconda3/envs/lei/lib/python3.6/site-packages/matplotlib/pyplot.py'>"
      ]
     },
     "execution_count": 7,
     "metadata": {},
     "output_type": "execute_result"
    }
   ],
   "source": [
    "import matplotlib.pyplot as plot\n",
    "\n",
    "plot.figure(figsize=(10,7))\n",
    "plot.ylabel(\"Loss\")\n",
    "plot.xlabel(\"Epoch\")\n",
    "x = num_epochs\n",
    "y = losses\n",
    "plot.scatter(x, y)\n",
    "plot"
   ]
  },
  {
   "cell_type": "code",
   "execution_count": 8,
   "metadata": {},
   "outputs": [
    {
     "name": "stdout",
     "output_type": "stream",
     "text": [
      "Evaluating model\n",
      "computed_metrics: [1.0, 0.9999855382657488, 1.0, 0.9989658513220774, 1.0, 0.9988389995204563, 0.999980598723396, 1.0, 0.9928293432757718, 1.0, 1.0, 0.999352310631821, 1.0, 1.0, 1.0, 0.9970346777957771, 0.9999838456940697, 1.0, 1.0, 1.0, 0.9992361478347729, 1.0, 0.9975475168608215, 0.9997534278883778, 0.9995528486624008, 1.0, 0.9989630029705643]\n",
      "Training ROC-AUC Score: 0.999334\n"
     ]
    }
   ],
   "source": [
    "metric = dc.metrics.Metric(\n",
    "    dc.metrics.roc_auc_score, np.mean, mode=\"classification\")\n",
    "\n",
    "print(\"Evaluating model\")\n",
    "train_scores_1 = model.evaluate(train_dataset, [metric], transformers)\n",
    "print(\"Training ROC-AUC Score: %f\" % train_scores_1[\"mean-roc_auc_score\"])\n"
   ]
  },
  {
   "cell_type": "code",
   "execution_count": 9,
   "metadata": {},
   "outputs": [
    {
     "name": "stdout",
     "output_type": "stream",
     "text": [
      "computed_metrics: [0.4235294117647059, 0.3686274509803922, 0.6328125, 0.41557017543859653, 0.5284552845528455, 0.5972602739726027, 0.5523255813953489, 0.9195402298850575, 0.6169871794871795, 0.41424418604651164, 0.23255813953488375, 0.4941860465116279, 0.1366279069767442, 0.29156626506024097, 0.691860465116279, 0.5206611570247934, 0.5764705882352941, 0.3333333333333333, 0.36867469879518067, 0.8662790697674418, 0.36803652968036527, 0.4250440917107584, 0.5385252692626346, 0.4780701754385964, 0.584313725490196, 0.8117647058823529, 0.5792682926829269]\n",
      "Validation ROC-AUC Score: 0.509874\n"
     ]
    }
   ],
   "source": [
    "valid_scores_1 = model.evaluate(valid_dataset, [metric], transformers)\n",
    "print(\"Validation ROC-AUC Score: %f\" % valid_scores_1[\"mean-roc_auc_score\"])"
   ]
  },
  {
   "cell_type": "code",
   "execution_count": 10,
   "metadata": {},
   "outputs": [
    {
     "name": "stdout",
     "output_type": "stream",
     "text": [
      "computed_metrics: [0.6477272727272727, 0.6666666666666667, 0.42971887550200805, 0.5734265734265734, nan, 0.7326839826839827, 0.5930232558139534, 0.75, 0.5816885964912281, nan, 0.6066176470588236, 0.7751937984496124, nan, 0.10227272727272729, 0.9886363636363636, 0.5743464052287581, 0.39959839357429716, 0.45679012345679015, 0.627906976744186, 0.445993031358885, 0.678294573643411, 0.47352941176470587, 0.49291497975708504, 0.2331002331002331, 0.5459770114942528, nan, 0.5891472868217054]\n",
      "Validation ROC-AUC Score: 0.563707\n"
     ]
    }
   ],
   "source": [
    "test_scores_1 = model.evaluate(test_dataset, [metric], transformers)\n",
    "print(\"Validation ROC-AUC Score: %f\" % test_scores_1[\"mean-roc_auc_score\"])"
   ]
  },
  {
   "cell_type": "code",
   "execution_count": 11,
   "metadata": {},
   "outputs": [],
   "source": [
    "num_epochs = [60,70,80,90]\n",
    "losses = []\n",
    "\n",
    "model = GraphConvModel(\n",
    "    len(sider_tasks), batch_size=50, mode='classification')\n",
    "# Set nb_epoch=10 for better results.\n"
   ]
  },
  {
   "cell_type": "code",
   "execution_count": 12,
   "metadata": {
    "scrolled": true
   },
   "outputs": [
    {
     "name": "stdout",
     "output_type": "stream",
     "text": [
      "Epoch 60 loss: 1482.148235\n",
      "Epoch 70 loss: 1265.451580\n",
      "Epoch 80 loss: 1081.664865\n",
      "Epoch 90 loss: 895.681472\n"
     ]
    }
   ],
   "source": [
    "\n",
    "for i in num_epochs:\n",
    "    # Set nb_epoch=10 for better results.\n",
    "    loss = model.fit(train_dataset, nb_epoch=10)\n",
    "    print(\"Epoch %d loss: %f\" % (i, loss))\n",
    "    losses.append(loss)"
   ]
  },
  {
   "cell_type": "code",
   "execution_count": 13,
   "metadata": {
    "scrolled": true
   },
   "outputs": [
    {
     "data": {
      "text/plain": [
       "<module 'matplotlib.pyplot' from '/home/mamonteiro/anaconda3/envs/lei/lib/python3.6/site-packages/matplotlib/pyplot.py'>"
      ]
     },
     "execution_count": 13,
     "metadata": {},
     "output_type": "execute_result"
    },
    {
     "data": {
      "image/png": "[encoded data removed]",
      "text/plain": [
       "<Figure size 720x504 with 1 Axes>"
      ]
     },
     "metadata": {
      "needs_background": "light"
     },
     "output_type": "display_data"
    }
   ],
   "source": [
    "import matplotlib.pyplot as plot\n",
    "\n",
    "plot.figure(figsize=(10,7))\n",
    "plot.ylabel(\"Loss\")\n",
    "plot.xlabel(\"Epoch\")\n",
    "x = num_epochs\n",
    "y = losses\n",
    "plot.scatter(x, y)\n",
    "plot"
   ]
  },
  {
   "cell_type": "code",
   "execution_count": 14,
   "metadata": {
    "scrolled": true
   },
   "outputs": [
    {
     "name": "stdout",
     "output_type": "stream",
     "text": [
      "Evaluating model\n",
      "computed_metrics: [0.9593270285087718, 0.9239602013073408, 0.895549884687291, 0.8425481423424013, 0.9675213675213676, 0.8282644725440214, 0.9499447063616786, 0.9955489614243325, 0.7740384615384616, 0.9644773089749167, 0.9873634176738255, 0.9864956766734674, 0.9938186462324394, 0.9487652358240592, 0.9685997040325565, 0.8181086003496152, 0.9380966996752984, 0.9115984908968517, 0.9748952821869489, 0.8919851702055949, 0.8834714143016629, 0.8930716652858326, 0.8270007573844989, 0.8522818640851639, 0.947914578675507, 0.9592973100149007, 0.8878314879827167]\n",
      "Training ROC-AUC Score: 0.917473\n"
     ]
    }
   ],
   "source": [
    "metric = dc.metrics.Metric(\n",
    "    dc.metrics.roc_auc_score, np.mean, mode=\"classification\")\n",
    "\n",
    "print(\"Evaluating model\")\n",
    "train_scores_2 = model.evaluate(train_dataset, [metric], transformers)\n",
    "print(\"Training ROC-AUC Score: %f\" % train_scores_2[\"mean-roc_auc_score\"])\n",
    "\n"
   ]
  },
  {
   "cell_type": "code",
   "execution_count": 15,
   "metadata": {},
   "outputs": [
    {
     "name": "stdout",
     "output_type": "stream",
     "text": [
      "computed_metrics: [0.34509803921568627, 0.8196078431372549, 0.41875, 0.4298245614035088, 0.5121951219512195, 0.4831050228310502, 0.09883720930232559, 0.6781609195402298, 0.5389957264957265, 0.4767441860465116, 0.3372093023255814, 0.1395348837209302, 0.436046511627907, 0.6144578313253013, 0.4593023255813954, 0.4451003541912633, 0.6941176470588235, 0.5568627450980392, 0.44819277108433736, 0.9011627906976745, 0.6018264840182648, 0.3386243386243386, 0.6048053024026512, 0.39035087719298245, 0.4666666666666667, 0.7960784313725491, 0.5508130081300813]\n",
      "Validation ROC-AUC Score: 0.503054\n"
     ]
    }
   ],
   "source": [
    "valid_scores_2 = model.evaluate(valid_dataset, [metric], transformers)\n",
    "print(\"Validation ROC-AUC Score: %f\" % valid_scores_2[\"mean-roc_auc_score\"])"
   ]
  },
  {
   "cell_type": "code",
   "execution_count": 16,
   "metadata": {},
   "outputs": [
    {
     "name": "stdout",
     "output_type": "stream",
     "text": [
      "computed_metrics: [0.375, 0.5919540229885057, 0.42971887550200805, 0.5571095571095571, nan, 0.6093073593073592, 0.6511627906976745, 0.8522727272727273, 0.5668859649122807, nan, 0.47058823529411764, 0.6046511627906976, nan, 0.38636363636363635, 0.9318181818181819, 0.6830065359477124, 0.3112449799196787, 0.632716049382716, 0.4728682170542636, 0.39198606271777003, 0.5155038759689923, 0.49411764705882355, 0.618421052631579, 0.4184149184149184, 0.31034482758620685, nan, 0.20930232558139533]\n",
      "Validation ROC-AUC Score: 0.525424\n"
     ]
    }
   ],
   "source": [
    "test_scores_2 = model.evaluate(test_dataset, [metric], transformers)\n",
    "print(\"Validation ROC-AUC Score: %f\" % test_scores_2[\"mean-roc_auc_score\"])"
   ]
  },
  {
   "cell_type": "code",
   "execution_count": 17,
   "metadata": {},
   "outputs": [
    {
     "data": {
      "text/plain": [
       "0.5254243046226436"
      ]
     },
     "execution_count": 17,
     "metadata": {},
     "output_type": "execute_result"
    }
   ],
   "source": [
    "type(test_scores_2)\n",
    "test_scores_2['mean-roc_auc_score']"
   ]
  },
  {
   "cell_type": "code",
   "execution_count": 18,
   "metadata": {},
   "outputs": [
    {
     "data": {
      "text/plain": [
       "[(0.0, 0.5918920389568346)]"
      ]
     },
     "execution_count": 18,
     "metadata": {},
     "output_type": "execute_result"
    },
    {
     "data": {
      "image/png": "[encoded data removed]",
      "text/plain": [
       "<Figure size 720x504 with 1 Axes>"
      ]
     },
     "metadata": {},
     "output_type": "display_data"
    }
   ],
   "source": [
    "import seaborn as sns\n",
    "\n",
    "sns.set(style=\"whitegrid\")\n",
    "sns.set(rc={'figure.figsize':(10,7)})\n",
    "ax = sns.barplot(x=[test_scores_1['mean-roc_auc_score'],test_scores_2['mean-roc_auc_score']],\n",
    "                 y=['First Scenario','Scenario Scenario'])\n",
    "ax.set(xlim=(0.00, None))"
   ]
  },
  {
   "cell_type": "code",
   "execution_count": 19,
   "metadata": {},
   "outputs": [],
   "source": [
    "# Hiperparameters permitidos pelo deepchem e os valores que são utilizados por defeito\n",
    "#/home/mamonteiro/source-code/knowledge-base/deepchem/deepchem/molnet/preset_hyper_parameters.py"
   ]
  },
  {
   "cell_type": "raw",
   "metadata": {},
   "source": [
    "# hps['graphconv'] = {\n",
    "    'batch_size': 64,\n",
    "    'nb_epoch': 40,\n",
    "    'learning_rate': 0.0005,\n",
    "    'n_filters': 64,\n",
    "    'n_fully_connected_nodes': 128,\n",
    "    'seed': 123\n",
    "}"
   ]
  },
  {
   "cell_type": "raw",
   "metadata": {},
   "source": [
    "batch_size = hyper_parameters['batch_size']\n",
    "nb_epoch = hyper_parameters['nb_epoch']\n",
    "learning_rate = hyper_parameters['learning_rate']\n",
    "n_filters = hyper_parameters['n_filters']\n",
    "n_fully_connected_nodes = hyper_parameters['n_fully_connected_nodes']\n",
    "    "
   ]
  },
  {
   "cell_type": "code",
   "execution_count": 20,
   "metadata": {},
   "outputs": [],
   "source": [
    "params_dict = {'batch_size' : [32,64,128,256],\n",
    "               'nb_epoch': [40,100,200],\n",
    "               'learning_rate': [0.0005,0.5,0.75,1],\n",
    "               'n_filters': [32,64,128],\n",
    "               'n_fully_connected_nodes' : [32,64,128]\n",
    "              }"
   ]
  },
  {
   "cell_type": "code",
   "execution_count": 21,
   "metadata": {},
   "outputs": [],
   "source": [
    "params_dict = {'batch_size' : [32],\n",
    "               'nb_epoch': [10,20],\n",
    "               'learning_rate': [0.0005],\n",
    "               'n_filters': [32],\n",
    "               'n_fully_connected_nodes' : [32]\n",
    "              }"
   ]
  },
  {
   "cell_type": "code",
   "execution_count": 22,
   "metadata": {},
   "outputs": [
    {
     "data": {
      "text/plain": [
       "704"
      ]
     },
     "execution_count": 22,
     "metadata": {},
     "output_type": "execute_result"
    }
   ],
   "source": [
    "len(train_dataset)"
   ]
  },
  {
   "cell_type": "code",
   "execution_count": 23,
   "metadata": {},
   "outputs": [],
   "source": [
    "n_features = len(train_dataset)\n",
    "\n",
    "def model_builder(model_params, model_dir):\n",
    "    model = GraphConvModel(\n",
    "            len(sider_tasks), mode='classification',**model_params)\n",
    "    \n",
    "    return model\n",
    "\n"
   ]
  },
  {
   "cell_type": "code",
   "execution_count": 24,
   "metadata": {},
   "outputs": [
    {
     "name": "stdout",
     "output_type": "stream",
     "text": [
      "Fitting model 1/2\n",
      "hyperparameters: {'batch_size': 32, 'nb_epoch': 10, 'learning_rate': 0.0005, 'n_filters': 32, 'n_fully_connected_nodes': 32}\n",
      "computed_metrics: [0.5058823529411764, 0.615686274509804, 0.5421875, 0.39692982456140347, 0.741869918699187, 0.526027397260274, 0.40697674418604657, 0.9425287356321839, 0.5470085470085471, 0.313953488372093, 0.5465116279069767, 0.06976744186046513, 0.37790697674418605, 0.5614457831325301, 0.7906976744186047, 0.38842975206611563, 0.6745098039215687, 0.43529411764705883, 0.45060240963855425, 0.6046511627906976, 0.4785388127853882, 0.5925925925925926, 0.5617232808616404, 0.6831140350877193, 0.5294117647058824, 0.4666666666666667, 0.47560975609756095]\n",
      "Model 1/2, Metric mean-roc_auc_score, Validation set 0: 0.526908\n",
      "\tbest_validation_score so far: 0.526908\n",
      "Fitting model 2/2\n",
      "hyperparameters: {'batch_size': 32, 'nb_epoch': 20, 'learning_rate': 0.0005, 'n_filters': 32, 'n_fully_connected_nodes': 32}\n",
      "computed_metrics: [0.45882352941176474, 0.6352941176470589, 0.5234375, 0.3706140350877193, 0.7459349593495934, 0.5853881278538813, 0.11046511627906978, 0.5517241379310345, 0.4946581196581197, 0.3313953488372093, 0.14534883720930233, 0.023255813953488393, 0.5290697674418605, 0.38795180722891565, 0.622093023255814, 0.4049586776859504, 0.5803921568627451, 0.6274509803921569, 0.3228915662650602, 0.6046511627906976, 0.5050228310502283, 0.28747795414462085, 0.6810273405136702, 0.412280701754386, 0.6196078431372549, 0.6313725490196078, 0.39024390243902435]\n",
      "Model 2/2, Metric mean-roc_auc_score, Validation set 1: 0.466031\n",
      "\tbest_validation_score so far: 0.526908\n",
      "computed_metrics: [0.7384183114035088, 0.746630415919477, 0.7438420284119598, 0.6454720616570329, 0.786252558083544, 0.6912327637700546, 0.7577944628756572, 0.9083580613254204, 0.6183199241234956, 0.7902814888460822, 0.8406805205344463, 0.8816347679652838, 0.896500638569604, 0.7398622151563328, 0.804245283018868, 0.6729084868619752, 0.7356670920633894, 0.7222717951126347, 0.8050044091710757, 0.6973778227165487, 0.6976908161466595, 0.7301418806959403, 0.6674450896238323, 0.6901660609569142, 0.75728933775345, 0.8133087600972473, 0.6920118822576289]\n",
      "Best hyperparameters: (32, 10, 0.0005, 32, 32)\n",
      "train_score: 0.750771\n",
      "validation_score: 0.526908\n"
     ]
    }
   ],
   "source": [
    "metric = dc.metrics.Metric(dc.metrics.roc_auc_score, np.mean)\n",
    "optimizer = dc.hyper.HyperparamOpt(model_builder)\n",
    "best_dnn, best_hyperparams, all_results = optimizer.hyperparam_search(\n",
    "   params_dict, train_dataset, valid_dataset, [], metric)"
   ]
  },
  {
   "cell_type": "code",
   "execution_count": 25,
   "metadata": {},
   "outputs": [
    {
     "data": {
      "text/plain": [
       "GraphConvModel(dense_layer_size=128, dropout=[0.0, 0.0, 0.0],\n",
       "               graph_conv_layers=[64, 64], mode='classification', n_classes=2,\n",
       "               n_tasks=27, number_atom_features=75, uncertainty=False)"
      ]
     },
     "execution_count": 25,
     "metadata": {},
     "output_type": "execute_result"
    }
   ],
   "source": [
    "best_dnn"
   ]
  },
  {
   "cell_type": "code",
   "execution_count": 26,
   "metadata": {},
   "outputs": [
    {
     "data": {
      "text/plain": [
       "(32, 10, 0.0005, 32, 32)"
      ]
     },
     "execution_count": 26,
     "metadata": {},
     "output_type": "execute_result"
    }
   ],
   "source": [
    "best_hyperparams"
   ]
  },
  {
   "cell_type": "code",
   "execution_count": 27,
   "metadata": {},
   "outputs": [
    {
     "data": {
      "text/plain": [
       "{'(32, 10, 0.0005, 32, 32)': 0.5269083126701823,\n",
       " '(32, 20, 0.0005, 32, 32)': 0.46603081137778646}"
      ]
     },
     "execution_count": 27,
     "metadata": {},
     "output_type": "execute_result"
    }
   ],
   "source": [
    "all_results"
   ]
  },
  {
   "cell_type": "code",
   "execution_count": 28,
   "metadata": {},
   "outputs": [
    {
     "data": {
      "text/plain": [
       "524.6337558521944"
      ]
     },
     "execution_count": 28,
     "metadata": {},
     "output_type": "execute_result"
    }
   ],
   "source": [
    "###AQUI\n",
    "\n",
    "#(32, 40, 0.0005, 64, 32)\n",
    "\n",
    "#'batch_size' : [32,64,128,256],\n",
    "#'nb_epoch': [40,100,200],\n",
    "#'learning_rate': [0.0005,0.5,0.75,1],\n",
    "#'n_filters': [32,64,128],\n",
    "#'n_fully_connected_nodes' : [32,64,128]\n",
    "\n",
    "#model=model_builder(params_dict,params_dict)\n",
    "\n",
    "#model =GraphConvModel(dense_layer_size=128, dropout=[0.0, 0.0, 0.0],\n",
    "#               graph_conv_layers=[64, 64], mode='classification', n_classes=2,\n",
    "#               n_tasks=27, number_atom_features=75, uncertainty=False)\n",
    "\n",
    "\n",
    "model.fit(train_dataset,batch_size=32,nb_epoch=30,learning_rate=0.0005,n_filters=64,n_fully_connected_nodes=32)"
   ]
  },
  {
   "cell_type": "code",
   "execution_count": 29,
   "metadata": {},
   "outputs": [
    {
     "name": "stdout",
     "output_type": "stream",
     "text": [
      "Evaluating model\n",
      "computed_metrics: [0.9900973135964912, 0.9764129114363396, 0.9681491286726076, 0.9314958144192984, 0.9933309257252918, 0.9000866543836181, 0.9908231961663078, 0.9992087042532147, 0.835009484563056, 0.9952981627622777, 0.9961742457177637, 0.996049094854108, 0.998109833971903, 0.9859459459459459, 0.9920921198668146, 0.8880224778744863, 0.9852349643797554, 0.9662956527184208, 0.9920083774250441, 0.9623053589484327, 0.9607732534226452, 0.9627304266777132, 0.905065459660259, 0.9399650510833093, 0.9859378613830854, 0.9911771625754844, 0.9599027815284904]\n",
      "Training ROC-AUC Score: 0.964730\n"
     ]
    }
   ],
   "source": [
    "metric = dc.metrics.Metric(\n",
    "    dc.metrics.roc_auc_score, np.mean, mode=\"classification\")\n",
    "\n",
    "print(\"Evaluating model\")\n",
    "train_scores_3 = model.evaluate(train_dataset, [metric], transformers)\n",
    "print(\"Training ROC-AUC Score: %f\" % train_scores_3[\"mean-roc_auc_score\"])\n"
   ]
  },
  {
   "cell_type": "code",
   "execution_count": 30,
   "metadata": {},
   "outputs": [
    {
     "name": "stdout",
     "output_type": "stream",
     "text": [
      "computed_metrics: [0.2823529411764706, 0.6705882352941177, 0.484375, 0.5844298245614035, 0.40447154471544716, 0.4520547945205479, 0.23255813953488375, 0.735632183908046, 0.516025641025641, 0.46511627906976744, 0.42441860465116277, 0.1337209302325581, 0.5406976744186046, 0.44819277108433736, 0.4883720930232558, 0.5419126328217236, 0.6980392156862745, 0.4901960784313726, 0.3493975903614458, 0.7558139534883721, 0.5662100456621004, 0.2857142857142857, 0.5509527754763878, 0.4364035087719298, 0.5568627450980392, 0.8823529411764706, 0.532520325203252]\n",
      "Validation ROC-AUC Score: 0.500348\n"
     ]
    }
   ],
   "source": [
    "valid_scores_3 = model.evaluate(valid_dataset, [metric], transformers)\n",
    "print(\"Validation ROC-AUC Score: %f\" % valid_scores_3[\"mean-roc_auc_score\"])"
   ]
  },
  {
   "cell_type": "code",
   "execution_count": 31,
   "metadata": {},
   "outputs": [
    {
     "name": "stdout",
     "output_type": "stream",
     "text": [
      "computed_metrics: [0.30681818181818177, 0.7528735632183908, 0.4979919678714859, 0.548951048951049, nan, 0.6558441558441559, 0.7325581395348837, 0.7613636363636364, 0.5860745614035088, nan, 0.3970588235294118, 0.7131782945736435, nan, 0.26136363636363635, 0.8409090909090909, 0.6911764705882353, 0.3875502008032129, 0.662037037037037, 0.4496124031007752, 0.46515679442508706, 0.4728682170542635, 0.5529411764705883, 0.6123481781376519, 0.42074592074592077, 0.31034482758620685, nan, 0.11627906976744186]\n",
      "Validation ROC-AUC Score: 0.530263\n"
     ]
    }
   ],
   "source": [
    "test_scores_3 = model.evaluate(test_dataset, [metric], transformers)\n",
    "print(\"Validation ROC-AUC Score: %f\" % test_scores_3[\"mean-roc_auc_score\"])"
   ]
  },
  {
   "cell_type": "code",
   "execution_count": 32,
   "metadata": {},
   "outputs": [
    {
     "data": {
      "text/plain": [
       "[(0.0, 0.5918920389568346)]"
      ]
     },
     "execution_count": 32,
     "metadata": {},
     "output_type": "execute_result"
    },
    {
     "data": {
      "image/png": "[encoded data removed]",
      "text/plain": [
       "<Figure size 720x504 with 1 Axes>"
      ]
     },
     "metadata": {},
     "output_type": "display_data"
    }
   ],
   "source": [
    "import seaborn as sns\n",
    "\n",
    "\n",
    "sns.set(rc={'figure.figsize':(10,7)})\n",
    "\n",
    "sns.set(style=\"whitegrid\")\n",
    "ax = sns.barplot(x=[test_scores_1['mean-roc_auc_score'],test_scores_2['mean-roc_auc_score'],test_scores_2['mean-roc_auc_score']],\n",
    "                 y=['First Scenario','Scenario Scenario','Third Scenario'])\n",
    "ax.set(xlim=(0.0, None))"
   ]
  },
  {
   "cell_type": "markdown",
   "metadata": {},
   "source": [
    "# Another Implementation GraphConvModel"
   ]
  },
  {
   "cell_type": "markdown",
   "metadata": {},
   "source": [
    "TensorGraph - Simplicity is Beauty\n",
    "TensorGraph is a simple, lean, and clean framework on TensorFlow for building any imaginable models.\n",
    "\n"
   ]
  },
  {
   "cell_type": "markdown",
   "metadata": {},
   "source": [
    "What’s going on under the hood? \n",
    "\n",
    "Now we will build GraphConvModel ourselves.\n",
    "\n",
    "The first step is to create a TensorGraph object. \n",
    "This object will hold the “computational graph” that defines the computation that a graph convolutional network will perform.\n"
   ]
  },
  {
   "cell_type": "code",
   "execution_count": 33,
   "metadata": {},
   "outputs": [
    {
     "name": "stderr",
     "output_type": "stream",
     "text": [
      "Using TensorFlow backend.\n"
     ]
    }
   ],
   "source": [
    "from deepchem.models.tensorgraph.tensor_graph import TensorGraph\n",
    "from deepchem.models.tensorgraph.layers import Dense, BatchNorm,GraphConv\n",
    "from deepchem.models.tensorgraph.layers import GraphPool, GraphGather,Dropout\n",
    "import keras\n",
    "import tensorflow as tf\n"
   ]
  },
  {
   "cell_type": "code",
   "execution_count": 34,
   "metadata": {},
   "outputs": [],
   "source": [
    "tg = TensorGraph(use_queue=False)"
   ]
  },
  {
   "cell_type": "code",
   "execution_count": 35,
   "metadata": {},
   "outputs": [],
   "source": [
    "from deepchem.models.tensorgraph.layers import Feature\n",
    "\n",
    "atom_features = Feature(shape=(None, 75))\n",
    "degree_slice = Feature(shape=(None, 2), dtype=tf.int32)\n",
    "membership = Feature(shape=(None,), dtype=tf.int32)\n",
    "\n",
    "deg_adjs = []\n",
    "for i in range(0, 10 + 1):\n",
    "    deg_adj = Feature(shape=(None, i + 1), dtype=tf.int32)\n",
    "    deg_adjs.append(deg_adj)"
   ]
  },
  {
   "cell_type": "markdown",
   "metadata": {},
   "source": [
    "# ver mais um atomo na tiro a camada de dropout e verifico se esta em overfitting"
   ]
  },
  {
   "cell_type": "code",
   "execution_count": 36,
   "metadata": {},
   "outputs": [],
   "source": [
    "batch_size = 50\n",
    "\n",
    "gc1 = GraphConv(64,activation_fn=tf.nn.relu,in_layers=[atom_features, degree_slice, membership] + deg_adjs)\n",
    "dropout_1 = Dropout(dropout_prob=0.5, in_layers=[gc1])\n",
    "batch_norm1 = BatchNorm(in_layers=[dropout_1])\n",
    "gp1 = GraphPool(in_layers=[batch_norm1, degree_slice, membership] + deg_adjs)\n",
    "\n",
    "gc2 = GraphConv(64,activation_fn=tf.nn.relu,in_layers=[gp1, degree_slice, membership] + deg_adjs)\n",
    "batch_norm2 = BatchNorm(in_layers=[gc2])\n",
    "gp2 = GraphPool(in_layers=[batch_norm2, degree_slice, membership] + deg_adjs)\n",
    "\n",
    "gc3 = GraphConv(64,activation_fn=tf.nn.relu,in_layers=[gp1, degree_slice, membership] + deg_adjs)\n",
    "batch_norm3 = BatchNorm(in_layers=[gc3])\n",
    "gp3 = GraphPool(in_layers=[batch_norm3, degree_slice, membership] + deg_adjs)\n",
    "\n",
    "dense = Dense(out_channels=128, activation_fn=tf.nn.relu, in_layers=[gp3])\n",
    "batch_norm4 = BatchNorm(in_layers=[dense])\n",
    "\n",
    "readout = GraphGather(batch_size=batch_size,activation_fn=tf.nn.tanh,in_layers=[batch_norm4, degree_slice, membership] + deg_adjs)"
   ]
  },
  {
   "cell_type": "code",
   "execution_count": 37,
   "metadata": {},
   "outputs": [],
   "source": [
    "from deepchem.models.tensorgraph.layers import Dense, SoftMax, \\\n",
    "    SoftMaxCrossEntropy, WeightedError, Stack\n",
    "\n",
    "from deepchem.models.tensorgraph.layers import Label, Weights\n",
    "\n",
    "costs = []\n",
    "labels = []\n",
    "for task in range(len(sider_tasks)):\n",
    "    classification = Dense(out_channels=2, activation_fn=None, in_layers=[readout])\n",
    "\n",
    "    softmax = SoftMax(in_layers=[classification])\n",
    "    tg.add_output(softmax)\n",
    "\n",
    "    label = Label(shape=(None, 2))\n",
    "    labels.append(label)\n",
    "    cost = SoftMaxCrossEntropy(in_layers=[label, classification])\n",
    "    costs.append(cost)\n",
    "    \n",
    "all_cost = Stack(in_layers=costs, axis=1)\n",
    "weights = Weights(shape=(None, len(sider_tasks)))\n",
    "loss = WeightedError(in_layers=[all_cost, weights])\n",
    "tg.set_loss(loss)"
   ]
  },
  {
   "cell_type": "code",
   "execution_count": 38,
   "metadata": {},
   "outputs": [],
   "source": [
    "from deepchem.metrics import to_one_hot\n",
    "from deepchem.feat.mol_graphs import ConvMol\n",
    "\n",
    "def data_generator(dataset, epochs=1, predict=False, pad_batches=True):\n",
    "    for epoch in range(epochs):\n",
    "        if not predict:\n",
    "            print('Starting epoch %i' % epoch)\n",
    "        for ind, (X_b, y_b, w_b, ids_b) in enumerate(\n",
    "            dataset.iterbatches(batch_size, pad_batches=pad_batches, deterministic=True)):\n",
    "            d = {}\n",
    "\n",
    "            for index, label in enumerate(labels):\n",
    "                d[label] = to_one_hot(y_b[:, index])\n",
    "            d[weights] = w_b\n",
    "            multiConvMol = ConvMol.agglomerate_mols(X_b)\n",
    "            d[atom_features] = multiConvMol.get_atom_features()\n",
    "            d[degree_slice] = multiConvMol.deg_slice\n",
    "            d[membership] = multiConvMol.membership\n",
    "            for i in range(1, len(multiConvMol.get_deg_adjacency_lists())):\n",
    "                d[deg_adjs[i - 1]] = multiConvMol.get_deg_adjacency_lists()[i]\n",
    "            yield d"
   ]
  },
  {
   "cell_type": "code",
   "execution_count": 39,
   "metadata": {},
   "outputs": [
    {
     "name": "stdout",
     "output_type": "stream",
     "text": [
      "Starting epoch 0\n",
      "Starting epoch 1\n",
      "Starting epoch 2\n",
      "Starting epoch 3\n",
      "Starting epoch 4\n",
      "Starting epoch 5\n",
      "Starting epoch 6\n",
      "Starting epoch 7\n",
      "Starting epoch 8\n",
      "Starting epoch 9\n",
      "Starting epoch 10\n",
      "Starting epoch 11\n",
      "Starting epoch 12\n",
      "Starting epoch 13\n",
      "Starting epoch 14\n",
      "Starting epoch 15\n",
      "Starting epoch 16\n",
      "Starting epoch 17\n",
      "Starting epoch 18\n",
      "Starting epoch 19\n",
      "Starting epoch 20\n",
      "Starting epoch 21\n",
      "Starting epoch 22\n",
      "Starting epoch 23\n",
      "Starting epoch 24\n",
      "Starting epoch 25\n",
      "Starting epoch 26\n",
      "Starting epoch 27\n",
      "Starting epoch 28\n",
      "Starting epoch 29\n",
      "Starting epoch 30\n",
      "Starting epoch 31\n",
      "Starting epoch 32\n",
      "Starting epoch 33\n",
      "Starting epoch 34\n",
      "Starting epoch 35\n",
      "Starting epoch 36\n",
      "Starting epoch 37\n",
      "Starting epoch 38\n",
      "Starting epoch 39\n",
      "Starting epoch 40\n",
      "Starting epoch 41\n",
      "Starting epoch 42\n",
      "Starting epoch 43\n",
      "Starting epoch 44\n",
      "Starting epoch 45\n",
      "Starting epoch 46\n",
      "Starting epoch 47\n",
      "Starting epoch 48\n",
      "Starting epoch 49\n",
      "Starting epoch 50\n",
      "Starting epoch 51\n",
      "Starting epoch 52\n",
      "Starting epoch 53\n",
      "Starting epoch 54\n",
      "Starting epoch 55\n",
      "Starting epoch 56\n",
      "Starting epoch 57\n",
      "Starting epoch 58\n",
      "Starting epoch 59\n"
     ]
    }
   ],
   "source": [
    "# Epochs set to 1 to render tutorials online.\n",
    "# Set epochs=10 for better results.\n",
    "history=tg.fit_generator(data_generator(train_dataset, epochs=60))"
   ]
  },
  {
   "cell_type": "code",
   "execution_count": 40,
   "metadata": {},
   "outputs": [],
   "source": [
    "# Training dataset"
   ]
  },
  {
   "cell_type": "code",
   "execution_count": 41,
   "metadata": {
    "scrolled": false
   },
   "outputs": [],
   "source": [
    "metric = dc.metrics.Metric(\n",
    "    dc.metrics.roc_auc_score, np.mean, mode=\"classification\")\n",
    "\n",
    "def reshape_y_pred(y_true, y_pred):\n",
    "    \"\"\"\n",
    "    TensorGraph.Predict returns a list of arrays, one for each output\n",
    "    We also have to remove the padding on the last batch\n",
    "    Metrics taks results of shape (samples, n_task, prob_of_class)\n",
    "    \"\"\"\n",
    "    n_samples = len(y_true)\n",
    "    retval = np.stack(y_pred, axis=1)\n",
    "    return retval[:n_samples]\n"
   ]
  },
  {
   "cell_type": "code",
   "execution_count": 42,
   "metadata": {},
   "outputs": [
    {
     "name": "stdout",
     "output_type": "stream",
     "text": [
      "Evaluating model\n",
      "computed_metrics: [0.7685718201754386, 0.7536154335627929, 0.7403348844825939, 0.7052676267920708, 0.8439869989165765, 0.7134347946795891, 0.786411345866558, 0.9309594460929772, 0.6410419937205651, 0.7832390894591852, 0.8848795756890705, 0.8679037533598887, 0.9280715197956577, 0.7745416004239534, 0.855299667036626, 0.674665714834848, 0.7316446698867582, 0.7530330781634027, 0.8156966490299824, 0.7276845298281092, 0.7253422645278806, 0.7596701532725767, 0.7047102102643632, 0.710052637785568, 0.7729704725927067, 0.8209160065877186, 0.7339562516878206]\n",
      "----------------\n",
      "Training ROC-AUC Score: 0.774367\n"
     ]
    }
   ],
   "source": [
    "print(\"Evaluating model\")\n",
    "train_predictions = tg.predict_on_generator(data_generator(train_dataset, predict=True))\n",
    "train_predictions = reshape_y_pred(train_dataset.y, train_predictions)\n",
    "train_scores_4 = metric.compute_metric(train_dataset.y, train_predictions, train_dataset.w)\n",
    "\n",
    "print(\"----------------\")\n",
    "print(\"Training ROC-AUC Score: %f\" % train_scores_4)\n"
   ]
  },
  {
   "cell_type": "code",
   "execution_count": 43,
   "metadata": {},
   "outputs": [],
   "source": [
    "# Validation Dataset"
   ]
  },
  {
   "cell_type": "code",
   "execution_count": 44,
   "metadata": {},
   "outputs": [
    {
     "name": "stdout",
     "output_type": "stream",
     "text": [
      "computed_metrics: [0.4980392156862745, 0.47058823529411764, 0.5546875, 0.3717105263157895, 0.8028455284552846, 0.5159817351598173, 0.3313953488372093, 0.896551724137931, 0.4983974358974359, 0.31976744186046513, 0.034883720930232565, 0.09302325581395349, 0.43023255813953487, 0.7132530120481928, 0.627906976744186, 0.49468713105076745, 0.7333333333333334, 0.6431372549019608, 0.2746987951807229, 0.686046511627907, 0.497716894977169, 0.37742504409171074, 0.6222038111019055, 0.5175438596491229, 0.45882352941176474, 0.6549019607843136, 0.47560975609756095]\n",
      "Valid ROC-AUC Score: 0.503533\n"
     ]
    }
   ],
   "source": [
    "valid_predictions = tg.predict_on_generator(data_generator(valid_dataset, predict=True))\n",
    "valid_predictions = reshape_y_pred(valid_dataset.y, valid_predictions)\n",
    "valid_scores_4 = metric.compute_metric(valid_dataset.y, valid_predictions, valid_dataset.w)\n",
    "print(\"Valid ROC-AUC Score: %f\" % valid_scores_4)\n"
   ]
  },
  {
   "cell_type": "code",
   "execution_count": 45,
   "metadata": {},
   "outputs": [],
   "source": [
    "# Test Dataset"
   ]
  },
  {
   "cell_type": "code",
   "execution_count": 47,
   "metadata": {
    "scrolled": true
   },
   "outputs": [
    {
     "name": "stdout",
     "output_type": "stream",
     "text": [
      "computed_metrics: [0.9886363636363636, 0.18965517241379312, 0.4799196787148594, 0.5547785547785549, nan, 0.38636363636363635, 0.5077519379844961, 0.8977272727272727, 0.5285087719298245, nan, 0.7029411764705882, 0.6666666666666667, nan, 0.10227272727272729, 0.7386363636363636, 0.5032679738562091, 0.4036144578313253, 0.6373456790123457, 0.47286821705426363, 0.2735191637630662, 0.49612403100775193, 0.2382352941176471, 0.6062753036437247, 0.3671328671328672, 0.1896551724137931, nan, 0.3294573643410853]\n",
      "Test  ROC-AUC Score: 0.489624\n"
     ]
    }
   ],
   "source": [
    "test_predictions = tg.predict_on_generator(data_generator(test_dataset, predict=True))\n",
    "test_predictions = reshape_y_pred(test_dataset.y, test_predictions)\n",
    "test_scores_4 = metric.compute_metric(test_dataset.y, test_predictions, test_dataset.w)\n",
    "print(\"Test  ROC-AUC Score: %f\" % test_scores_4)"
   ]
  },
  {
   "cell_type": "markdown",
   "metadata": {},
   "source": [
    "\n",
    "# Comparision of Results with MoleculeNet results"
   ]
  },
  {
   "cell_type": "code",
   "execution_count": 48,
   "metadata": {
    "scrolled": false
   },
   "outputs": [
    {
     "data": {
      "text/plain": [
       "[(0.0, 0.5918920389568346)]"
      ]
     },
     "execution_count": 48,
     "metadata": {},
     "output_type": "execute_result"
    },
    {
     "data": {
      "image/png": "[encoded data removed]",
      "text/plain": [
       "<Figure size 720x504 with 1 Axes>"
      ]
     },
     "metadata": {},
     "output_type": "display_data"
    }
   ],
   "source": [
    "import seaborn as sns\n",
    "\n",
    "\n",
    "sns.set(rc={'figure.figsize':(10,7)})\n",
    "\n",
    "sns.set(style=\"whitegrid\")\n",
    "ax = sns.barplot(x=[test_scores_1['mean-roc_auc_score'],test_scores_2['mean-roc_auc_score'],test_scores_3['mean-roc_auc_score'],test_scores_4],\n",
    "                 y=['First Scenario','Scenario Scenario','Third Scenario','Modelo Desenvolvido Raiz'])\n",
    "ax.set(xlim=(0.0, None))"
   ]
  },
  {
   "cell_type": "code",
   "execution_count": 49,
   "metadata": {},
   "outputs": [
    {
     "name": "stdout",
     "output_type": "stream",
     "text": [
      "0.5637067037684139\n",
      "0.5254243046226436\n",
      "0.5302628433085868\n",
      "0.4896240802943142\n"
     ]
    }
   ],
   "source": [
    "print(test_scores_1['mean-roc_auc_score'])\n",
    "\n",
    "print(test_scores_2['mean-roc_auc_score'])\n",
    "print(test_scores_3['mean-roc_auc_score'])\n",
    "print(test_scores_4)"
   ]
  },
  {
   "cell_type": "code",
   "execution_count": 50,
   "metadata": {},
   "outputs": [
    {
     "data": {
      "text/plain": [
       "[(0.0, 0.5918920389568346)]"
      ]
     },
     "execution_count": 50,
     "metadata": {},
     "output_type": "execute_result"
    },
    {
     "data": {
      "image/png": "[encoded data removed]",
      "text/plain": [
       "<Figure size 720x504 with 1 Axes>"
      ]
     },
     "metadata": {},
     "output_type": "display_data"
    }
   ],
   "source": [
    "import seaborn as sns\n",
    "\n",
    "sns.set(style=\"whitegrid\")\n",
    "ax = sns.barplot(x=[test_scores_1['mean-roc_auc_score'],test_scores_2['mean-roc_auc_score'],test_scores_3['mean-roc_auc_score'],test_scores_4],\n",
    "                 y=['First Scenario','Scenario Scenario','Third Scenario','fourth Scenario'])\n",
    "ax.set(xlim=(0.0, None))"
   ]
  },
  {
   "cell_type": "code",
   "execution_count": null,
   "metadata": {},
   "outputs": [],
   "source": []
  }
 ],
 "metadata": {
  "kernelspec": {
   "display_name": "Python 3",
   "language": "python",
   "name": "python3"
  },
  "language_info": {
   "codemirror_mode": {
    "name": "ipython",
    "version": 3
   },
   "file_extension": ".py",
   "mimetype": "text/x-python",
   "name": "python",
   "nbconvert_exporter": "python",
   "pygments_lexer": "ipython3",
   "version": "3.6.8"
  }
 },
 "nbformat": 4,
 "nbformat_minor": 2
}
