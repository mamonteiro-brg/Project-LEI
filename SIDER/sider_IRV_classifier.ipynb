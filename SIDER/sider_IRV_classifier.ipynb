{
 "cells": [
  {
   "cell_type": "markdown",
   "metadata": {},
   "source": [
    "## Multitask Networks On SIDER"
   ]
  },
  {
   "cell_type": "code",
   "execution_count": 10,
   "metadata": {},
   "outputs": [],
   "source": [
    "\"\"\"\n",
    "Script that trains multitask models on Tox21 dataset.\n",
    "\"\"\"\n",
    "from __future__ import print_function\n",
    "from __future__ import division\n",
    "from __future__ import unicode_literals\n",
    "\n",
    "import os\n",
    "import shutil\n",
    "import numpy as np\n",
    "import deepchem as dc\n",
    "import time\n",
    "from deepchem.molnet import load_sider\n"
   ]
  },
  {
   "cell_type": "code",
   "execution_count": 11,
   "metadata": {},
   "outputs": [
    {
     "name": "stdout",
     "output_type": "stream",
     "text": [
      "Loading dataset from disk.\n",
      "Loading dataset from disk.\n",
      "Loading dataset from disk.\n",
      "start similarity calculation\n",
      "similarity calculation takes 0 s\n",
      "start similarity calculation\n",
      "similarity calculation takes 0 s\n",
      "start similarity calculation\n",
      "similarity calculation takes 0 s\n"
     ]
    }
   ],
   "source": [
    "\n",
    "# Only for debug!\n",
    "np.random.seed(123)\n",
    "\n",
    "# Load Tox21 dataset\n",
    "n_features = 1024\n",
    "sider_tasks, sider_datasets, transformers = load_sider()\n",
    "train_dataset, valid_dataset, test_dataset = sider_datasets\n",
    "K = 10\n",
    "# Fit models\n",
    "metric = dc.metrics.Metric(dc.metrics.roc_auc_score, np.mean)\n",
    "transformers = [dc.trans.IRVTransformer(K, len(sider_tasks), train_dataset)]\n",
    "\n",
    "for transformer in transformers:\n",
    "  train_dataset = transformer.transform(train_dataset)\n",
    "  valid_dataset = transformer.transform(valid_dataset)\n",
    "  test_dataset = transformer.transform(test_dataset)\n"
   ]
  },
  {
   "cell_type": "code",
   "execution_count": 12,
   "metadata": {},
   "outputs": [
    {
     "data": {
      "text/plain": [
       "1078.8103247748481"
      ]
     },
     "execution_count": 12,
     "metadata": {},
     "output_type": "execute_result"
    }
   ],
   "source": [
    "\n",
    "model = dc.models.TensorflowMultitaskIRVClassifier(\n",
    "    len(sider_tasks), K=K, learning_rate=0.001, penalty=0.05, batch_size=32)"
   ]
  },
  {
   "cell_type": "code",
   "execution_count": 13,
   "metadata": {},
   "outputs": [
    {
     "name": "stdout",
     "output_type": "stream",
     "text": [
      "Epoch 0 loss: 656.480016\n",
      "Epoch 1 loss: 505.659527\n",
      "Epoch 2 loss: 506.516123\n",
      "Epoch 3 loss: 505.527075\n",
      "Epoch 4 loss: 503.505932\n",
      "Epoch 5 loss: 504.334237\n",
      "Epoch 6 loss: 503.718930\n",
      "Epoch 7 loss: 502.325944\n",
      "Epoch 8 loss: 502.450630\n",
      "Epoch 9 loss: 501.822075\n"
     ]
    }
   ],
   "source": [
    "num_epochs = 10\n",
    "losses = []\n",
    "\n",
    "for i in range(num_epochs):\n",
    "    # Set nb_epoch=10 for better results.\n",
    "    loss = model.fit(train_dataset, nb_epoch=num_epochs)\n",
    "    print(\"Epoch %d loss: %f\" % (i, loss))\n",
    "    losses.append(loss)"
   ]
  },
  {
   "cell_type": "code",
   "execution_count": 15,
   "metadata": {},
   "outputs": [
    {
     "data": {
      "text/plain": [
       "<module 'matplotlib.pyplot' from '/home/mamonteiro/anaconda3/envs/lei_deepchem_python36/lib/python3.6/site-packages/matplotlib/pyplot.py'>"
      ]
     },
     "execution_count": 15,
     "metadata": {},
     "output_type": "execute_result"
    },
    {
     "data": {
      "image/png": "[encoded data removed]",
      "text/plain": [
       "<Figure size 432x288 with 1 Axes>"
      ]
     },
     "metadata": {
      "needs_background": "light"
     },
     "output_type": "display_data"
    }
   ],
   "source": [
    "import matplotlib.pyplot as plot\n",
    "\n",
    "plot.ylabel(\"Loss\")\n",
    "plot.xlabel(\"Epoch\")\n",
    "x = range(num_epochs)\n",
    "y = losses\n",
    "plot.scatter(x, y)\n",
    "plot"
   ]
  },
  {
   "cell_type": "code",
   "execution_count": 16,
   "metadata": {},
   "outputs": [
    {
     "name": "stdout",
     "output_type": "stream",
     "text": [
      "Evaluating model\n",
      "computed_metrics: [0.7523105360443623, 0.6150640718606999, 0.5556337367482879, 0.7099776545887192, 0.6812615235322659, 0.6722355708157, 0.7518951511273968, 0.6493110458549807, 0.6614690272343393, 0.7677776137398193, 0.7363910894972154, 0.6255156105540146, 0.7151011542444372, 0.6445360339142723, 0.7002871142751044, 0.7472306012065737, 0.628107239930813, 0.6393214124265407, 0.6505053895789041, 0.6126298766929452, 0.6969105858484161, 0.6881568849888224, 0.6133112704541275, 0.675040189212661, 0.7400693985459352, 0.6994716905901115, 0.6400435142975549]\n",
      "computed_metrics: [0.7128164556962026, 0.5959453088165959, 0.6549295774647887, 0.5801679328268692, 0.7013523666416228, 0.5812030075187969, 0.7225913621262459, 0.5966101694915253, 0.6476063829787234, 0.7028728846910666, 0.7339527027027027, 0.6721763085399449, 0.6778711484593838, 0.6491869918699187, 0.6330383480825958, 0.6712236665172568, 0.6904527559055118, 0.5534738485558157, 0.6372093023255814, 0.6864543982730706, 0.6546511627906977, 0.7327399044724272, 0.6692111959287532, 0.682578539371685, 0.7427162707306141, 0.6762086513994912, 0.5628729752770674]\n",
      "Train scores\n",
      "{'mean-roc_auc_score': 0.6766505551038896}\n",
      "Validation scores\n",
      "{'mean-roc_auc_score': 0.6600782822020355}\n"
     ]
    }
   ],
   "source": [
    "print(\"Evaluating model\")\n",
    "train_scores = model.evaluate(train_dataset, [metric], transformers)\n",
    "valid_scores = model.evaluate(valid_dataset, [metric], transformers)\n",
    "\n",
    "print(\"Train scores\")\n",
    "print(train_scores)\n",
    "\n",
    "print(\"Validation scores\")\n",
    "print(valid_scores)"
   ]
  },
  {
   "cell_type": "code",
   "execution_count": 17,
   "metadata": {},
   "outputs": [
    {
     "name": "stdout",
     "output_type": "stream",
     "text": [
      "Evaluating model\n",
      "computed_metrics: [0.754746835443038, 0.7303921568627452, 0.2624113475177305, 0.5952941176470588, 0.7138535995160316, 0.6414965986394557, 0.7062007874015748, 0.5275443510737629, 0.6789115646258503, 0.6999217527386541, 0.6824457593688364, 0.7361979166666666, 0.6840677966101696, 0.611577964519141, 0.6826968411126827, 0.6269168684422921, 0.746031746031746, 0.4201680672268907, 0.7153147163120567, 0.610914662894861, 0.6098567086409032, 0.7141982864137086, 0.5953703703703703, 0.6317594834543987, 0.6283018867924528, 0.6567708333333333, 0.7020191055145462]\n",
      "Test scores\n",
      "{'mean-roc_auc_score': 0.6431623009322577}\n"
     ]
    }
   ],
   "source": [
    "print(\"Evaluating model\")\n",
    "test_scores = model.evaluate(test_dataset, [metric], transformers)\n",
    "\n",
    "print(\"Test scores\")\n",
    "print(test_scores)\n"
   ]
  },
  {
   "cell_type": "code",
   "execution_count": null,
   "metadata": {},
   "outputs": [],
   "source": []
  }
 ],
 "metadata": {
  "kernelspec": {
   "display_name": "Python 3",
   "language": "python",
   "name": "python3"
  },
  "language_info": {
   "codemirror_mode": {
    "name": "ipython",
    "version": 3
   },
   "file_extension": ".py",
   "mimetype": "text/x-python",
   "name": "python",
   "nbconvert_exporter": "python",
   "pygments_lexer": "ipython3",
   "version": "3.6.8"
  }
 },
 "nbformat": 4,
 "nbformat_minor": 2
}
