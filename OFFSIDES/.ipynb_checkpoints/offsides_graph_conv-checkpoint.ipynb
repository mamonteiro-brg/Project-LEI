{
 "cells": [
  {
   "cell_type": "markdown",
   "metadata": {},
   "source": [
    "## Graph Convolutions For SIDER"
   ]
  },
  {
   "cell_type": "markdown",
   "metadata": {},
   "source": [
    "Featurization=ConvMolFeaturizer\n",
    "\n",
    "É utilizado com modelos GraphConvModel.\n",
    "\n",
    "Alternativamente, também implementamos este modelo (GraphConvModel) usando layers do TensorGraph"
   ]
  },
  {
   "cell_type": "code",
   "execution_count": null,
   "metadata": {},
   "outputs": [],
   "source": []
  },
  {
   "cell_type": "code",
   "execution_count": 1,
   "metadata": {},
   "outputs": [
    {
     "name": "stderr",
     "output_type": "stream",
     "text": [
      "/home/mamonteiro/anaconda3/envs/lei/lib/python3.6/site-packages/sklearn/externals/joblib/__init__.py:15: DeprecationWarning: sklearn.externals.joblib is deprecated in 0.21 and will be removed in 0.23. Please import this functionality directly from joblib, which can be installed with: pip install joblib. If this warning is raised when loading pickled models, you may need to re-serialize those models with scikit-learn 0.21+.\n",
      "  warnings.warn(msg, category=DeprecationWarning)\n"
     ]
    }
   ],
   "source": [
    "\"\"\"\n",
    "OFFSIDES dataset loader.\n",
    "\"\"\"\n",
    "from __future__ import division\n",
    "from __future__ import unicode_literals\n",
    "\n",
    "import os\n",
    "import logging\n",
    "import deepchem\n",
    "\n",
    "logger = logging.getLogger(__name__)\n",
    "\n",
    "\n",
    "def load_offsides(featurizer='ECFP', split='index', reload=True, K=4):\n",
    "  logger.info(\"About to load ofssides dataset.\")\n",
    "  data_dir = deepchem.utils.get_data_dir()\n",
    "  if reload:\n",
    "    save_dir = os.path.join(data_dir, \"offsides/\" + featurizer + \"/\" + str(split))\n",
    "\n",
    "  dataset_file = os.path.join(\"/home/mamonteiro/source-code/Project-LEI/OFFSIDES/\", \"offsides.csv.gz\")\n",
    "\n",
    "\n",
    "  dataset = deepchem.utils.save.load_from_disk(dataset_file)\n",
    "  logger.info(\"Columns of dataset: %s\" % str(dataset.columns.values))\n",
    "  logger.info(\"Number of examples in dataset: %s\" % str(dataset.shape[0]))\n",
    "  OFFSIDES_tasks = dataset.columns.values[1:].tolist()\n",
    "\n",
    "  if reload:\n",
    "    loaded, all_dataset, transformers = deepchem.utils.save.load_dataset_from_disk(\n",
    "        save_dir)\n",
    "    if loaded:\n",
    "      return OFFSIDES_tasks, all_dataset, transformers\n",
    "\n",
    "  # Featurize OFFSIDES dataset\n",
    "  logger.info(\"About to featurize OFFSIDES dataset.\")\n",
    "  if featurizer == 'ECFP':\n",
    "    featurizer = deepchem.feat.CircularFingerprint(size=1024)\n",
    "  elif featurizer == 'GraphConv':\n",
    "    featurizer = deepchem.feat.ConvMolFeaturizer()\n",
    "  elif featurizer == 'Weave':\n",
    "    featurizer = deepchem.feat.WeaveFeaturizer()\n",
    "  elif featurizer == 'Raw':\n",
    "    featurizer = deepchem.feat.RawFeaturizer()\n",
    "\n",
    "  logger.info(\"OFFSIDES tasks: %s\" % str(OFFSIDES_tasks))\n",
    "  logger.info(\"%d tasks in total\" % len(OFFSIDES_tasks))\n",
    "\n",
    "  loader = deepchem.data.CSVLoader(\n",
    "      tasks=OFFSIDES_tasks, smiles_field=\"smiles\", featurizer=featurizer)\n",
    "  dataset = loader.featurize(dataset_file)\n",
    "  logger.info(\"%d datapoints in OFFSIDES dataset\" % len(dataset))\n",
    "\n",
    "  # Initialize transformers\n",
    "  transformers = [\n",
    "      deepchem.trans.BalancingTransformer(transform_w=True, dataset=dataset)\n",
    "  ]\n",
    "  logger.info(\"About to transform data\")\n",
    "  for transformer in transformers:\n",
    "    dataset = transformer.transform(dataset)\n",
    "\n",
    "  if split == None:\n",
    "    return OFFSIDES_tasks, (dataset, None, None), transformers\n",
    "\n",
    "  splitters = {\n",
    "      'index': deepchem.splits.IndexSplitter(),\n",
    "      'random': deepchem.splits.RandomSplitter(),\n",
    "      'scaffold': deepchem.splits.ScaffoldSplitter(),\n",
    "      'task': deepchem.splits.TaskSplitter()\n",
    "  }\n",
    "  splitter = splitters[split]\n",
    "  if split == 'task':\n",
    "    fold_datasets = splitter.k_fold_split(dataset, K)\n",
    "    all_dataset = fold_datasets\n",
    "  else:\n",
    "    train, valid, test = splitter.train_valid_test_split(dataset)\n",
    "    if reload:\n",
    "      deepchem.utils.save.save_dataset_to_disk(save_dir, train, valid, test,\n",
    "                                               transformers)\n",
    "    all_dataset = (train, valid, test)\n",
    "  return OFFSIDES_tasks, all_dataset, transformers\n"
   ]
  },
  {
   "cell_type": "code",
   "execution_count": 2,
   "metadata": {},
   "outputs": [
    {
     "data": {
      "text/plain": [
       "'/tmp'"
      ]
     },
     "execution_count": 2,
     "metadata": {},
     "output_type": "execute_result"
    }
   ],
   "source": [
    "deepchem.utils.get_data_dir()"
   ]
  },
  {
   "cell_type": "code",
   "execution_count": null,
   "metadata": {},
   "outputs": [],
   "source": []
  },
  {
   "cell_type": "code",
   "execution_count": 3,
   "metadata": {},
   "outputs": [],
   "source": [
    "from __future__ import division\n",
    "from __future__ import print_function\n",
    "from __future__ import unicode_literals\n",
    "\n",
    "import warnings\n",
    "warnings.filterwarnings('ignore')"
   ]
  },
  {
   "cell_type": "code",
   "execution_count": 4,
   "metadata": {},
   "outputs": [],
   "source": [
    "import numpy as np\n",
    "import tensorflow as tf\n",
    "import deepchem as dc\n",
    "import pandas as pd\n",
    "from deepchem.models.tensorgraph.models.graph_models import GraphConvModel\n"
   ]
  },
  {
   "cell_type": "markdown",
   "metadata": {},
   "source": [
    "# Load OFFSIDES Dataset"
   ]
  },
  {
   "cell_type": "markdown",
   "metadata": {},
   "source": [
    "All MoleculeNet datasets are split into training, validation and test subsets following a 80/10/10 ratio. \n",
    "\n",
    "Different  splittings are recommended depending on each dataset's contents."
   ]
  },
  {
   "cell_type": "code",
   "execution_count": 5,
   "metadata": {
    "scrolled": true
   },
   "outputs": [
    {
     "name": "stdout",
     "output_type": "stream",
     "text": [
      "Loading dataset from disk.\n",
      "Loading dataset from disk.\n",
      "Loading dataset from disk.\n"
     ]
    }
   ],
   "source": [
    "sider_tasks, sider_datasets, transformers = load_offsides(featurizer='GraphConv',reload=True)\n",
    "train_dataset, valid_dataset, test_dataset = sider_datasets"
   ]
  },
  {
   "cell_type": "code",
   "execution_count": 6,
   "metadata": {},
   "outputs": [
    {
     "data": {
      "text/plain": [
       "1141"
      ]
     },
     "execution_count": 6,
     "metadata": {},
     "output_type": "execute_result"
    }
   ],
   "source": [
    "len(train_dataset)"
   ]
  },
  {
   "cell_type": "code",
   "execution_count": 7,
   "metadata": {},
   "outputs": [
    {
     "data": {
      "text/plain": [
       "['Renal and urinary disorders',\n",
       " 'Respiratory, thoracic and mediastinal disorders',\n",
       " 'Skin and subcutaneous tissue disorders',\n",
       " 'Congenital, familial and genetic disorders',\n",
       " 'Hepatobiliary disorders',\n",
       " 'Infections and infestations',\n",
       " 'Cardiac disorders',\n",
       " 'Ear and labyrinth disorders',\n",
       " 'Investigations',\n",
       " 'Vascular disorders',\n",
       " 'Endocrine disorders',\n",
       " 'Immune system disorders',\n",
       " 'Product issues',\n",
       " 'Blood and lymphatic system disorders',\n",
       " 'Pregnancy, puerperium and perinatal conditions',\n",
       " 'Surgical and medical procedures',\n",
       " 'Psychiatric disorders',\n",
       " 'Reproductive system and breast disorders',\n",
       " 'Social circumstances',\n",
       " 'Eye disorders',\n",
       " 'Gastrointestinal disorders',\n",
       " 'General disorders and administration site conditions',\n",
       " 'Neoplasms benign, malignant and unspecified (incl cysts and polyps)',\n",
       " 'Injury, poisoning and procedural complications',\n",
       " 'Musculoskeletal and connective tissue disorders',\n",
       " 'Metabolism and nutrition disorders',\n",
       " 'Nervous system disorders']"
      ]
     },
     "execution_count": 7,
     "metadata": {},
     "output_type": "execute_result"
    }
   ],
   "source": [
    "sider_tasks"
   ]
  },
  {
   "cell_type": "markdown",
   "metadata": {},
   "source": [
    "Different classification and regress metrics are recommended based on previous works and dataset's contents:\n",
    "          ROC-AUC:  Area Under Curve of Receiver Operating Characteristics\n",
    "          PRC-AUC:  Area Under Curve of Precision Recall Curve\n",
    "          RMSE: Root-Mean-Square Error\n",
    "          MAE: Mean Absolute Error"
   ]
  },
  {
   "cell_type": "code",
   "execution_count": 8,
   "metadata": {},
   "outputs": [],
   "source": [
    "num_epochs = [10,20,30,40,50,60]\n",
    "losses = []\n",
    "loss =0\n",
    "\n",
    "model = GraphConvModel(\n",
    "    27, batch_size=50, mode='classification')"
   ]
  },
  {
   "cell_type": "code",
   "execution_count": 9,
   "metadata": {
    "scrolled": true
   },
   "outputs": [
    {
     "name": "stdout",
     "output_type": "stream",
     "text": [
      "WARNING:tensorflow:From /home/mamonteiro/anaconda3/envs/lei/lib/python3.6/site-packages/tensorflow/python/ops/resource_variable_ops.py:435: colocate_with (from tensorflow.python.framework.ops) is deprecated and will be removed in a future version.\n",
      "Instructions for updating:\n",
      "Colocations handled automatically by placer.\n"
     ]
    },
    {
     "name": "stderr",
     "output_type": "stream",
     "text": [
      "WARNING:tensorflow:From /home/mamonteiro/anaconda3/envs/lei/lib/python3.6/site-packages/tensorflow/python/ops/resource_variable_ops.py:435: colocate_with (from tensorflow.python.framework.ops) is deprecated and will be removed in a future version.\n",
      "Instructions for updating:\n",
      "Colocations handled automatically by placer.\n"
     ]
    },
    {
     "name": "stdout",
     "output_type": "stream",
     "text": [
      "WARNING:tensorflow:From /home/mamonteiro/anaconda3/envs/lei/lib/python3.6/site-packages/tensorflow/python/ops/math_grad.py:317: div (from tensorflow.python.ops.math_ops) is deprecated and will be removed in a future version.\n",
      "Instructions for updating:\n",
      "Deprecated in favor of operator or tf.math.divide.\n"
     ]
    },
    {
     "name": "stderr",
     "output_type": "stream",
     "text": [
      "WARNING:tensorflow:From /home/mamonteiro/anaconda3/envs/lei/lib/python3.6/site-packages/tensorflow/python/ops/math_grad.py:317: div (from tensorflow.python.ops.math_ops) is deprecated and will be removed in a future version.\n",
      "Instructions for updating:\n",
      "Deprecated in favor of operator or tf.math.divide.\n"
     ]
    },
    {
     "name": "stdout",
     "output_type": "stream",
     "text": [
      "WARNING:tensorflow:From /home/mamonteiro/anaconda3/envs/lei/lib/python3.6/site-packages/tensorflow/python/ops/math_ops.py:3066: to_int32 (from tensorflow.python.ops.math_ops) is deprecated and will be removed in a future version.\n",
      "Instructions for updating:\n",
      "Use tf.cast instead.\n"
     ]
    },
    {
     "name": "stderr",
     "output_type": "stream",
     "text": [
      "WARNING:tensorflow:From /home/mamonteiro/anaconda3/envs/lei/lib/python3.6/site-packages/tensorflow/python/ops/math_ops.py:3066: to_int32 (from tensorflow.python.ops.math_ops) is deprecated and will be removed in a future version.\n",
      "Instructions for updating:\n",
      "Use tf.cast instead.\n"
     ]
    },
    {
     "name": "stdout",
     "output_type": "stream",
     "text": [
      "Epoch 10 loss: 778.136019\n",
      "Epoch 20 loss: 633.278606\n",
      "Epoch 30 loss: 384.433875\n",
      "WARNING:tensorflow:From /home/mamonteiro/anaconda3/envs/lei/lib/python3.6/site-packages/tensorflow/python/training/checkpoint_management.py:624: remove_checkpoint (from tensorflow.python.training.checkpoint_management) is deprecated and will be removed in a future version.\n",
      "Instructions for updating:\n",
      "Use standard file APIs to delete files with this prefix.\n"
     ]
    },
    {
     "name": "stderr",
     "output_type": "stream",
     "text": [
      "WARNING:tensorflow:From /home/mamonteiro/anaconda3/envs/lei/lib/python3.6/site-packages/tensorflow/python/training/checkpoint_management.py:624: remove_checkpoint (from tensorflow.python.training.checkpoint_management) is deprecated and will be removed in a future version.\n",
      "Instructions for updating:\n",
      "Use standard file APIs to delete files with this prefix.\n"
     ]
    },
    {
     "name": "stdout",
     "output_type": "stream",
     "text": [
      "Epoch 40 loss: 219.738846\n",
      "Epoch 50 loss: 131.713163\n",
      "Epoch 60 loss: 79.090283\n"
     ]
    }
   ],
   "source": [
    "for i in num_epochs:\n",
    "    # Set nb_epoch=10 for better results.\n",
    "    loss = model.fit(train_dataset, nb_epoch=i)\n",
    "    print(\"Epoch %d loss: %f\" % (i, loss))\n",
    "    losses.append(loss)"
   ]
  },
  {
   "cell_type": "code",
   "execution_count": 10,
   "metadata": {},
   "outputs": [
    {
     "data": {
      "text/plain": [
       "<module 'matplotlib.pyplot' from '/home/mamonteiro/anaconda3/envs/lei/lib/python3.6/site-packages/matplotlib/pyplot.py'>"
      ]
     },
     "execution_count": 10,
     "metadata": {},
     "output_type": "execute_result"
    }
   ],
   "source": [
    "import matplotlib.pyplot as plot\n",
    "\n",
    "plot.figure(figsize=(10,7))\n",
    "plot.ylabel(\"Loss\")\n",
    "plot.xlabel(\"Epoch\")\n",
    "x = num_epochs\n",
    "y = losses\n",
    "plot.scatter(x, y)\n",
    "plot"
   ]
  },
  {
   "cell_type": "code",
   "execution_count": 11,
   "metadata": {},
   "outputs": [
    {
     "name": "stdout",
     "output_type": "stream",
     "text": [
      "Evaluating model\n",
      "computed_metrics: [0.9991558841651262, 0.994038627336836, 1.0, 0.9994199421260439, 0.9966060164968462, 0.99657009705355, 0.9977074002985711, 1.0, 0.9916282493317321, 0.9984037056174799, 1.0, 0.9915457648815873, 0.9999915810033759, 1.0, 0.999067105036727, 0.997511766694404, 0.9964418087472202, 0.999889497212316, 0.9978777367498415, 0.9946371538306045, 0.9962798129800395, 0.9978846218010744, 1.0, 0.9998490979754491, 0.998501872659176, 0.9965410685805423, 0.9985944191186629]\n",
      "Training ROC-AUC Score: 0.997709\n"
     ]
    }
   ],
   "source": [
    "metric = dc.metrics.Metric(\n",
    "    dc.metrics.roc_auc_score, np.mean, mode=\"classification\")\n",
    "\n",
    "print(\"Evaluating model\")\n",
    "train_scores_1 = model.evaluate(train_dataset, [metric], transformers)\n",
    "print(\"Training ROC-AUC Score: %f\" % train_scores_1[\"mean-roc_auc_score\"])\n"
   ]
  },
  {
   "cell_type": "code",
   "execution_count": 12,
   "metadata": {},
   "outputs": [
    {
     "name": "stdout",
     "output_type": "stream",
     "text": [
      "computed_metrics: [0.6538765822784811, 0.5636492220650636, 0.7816901408450705, 0.6117552978808476, 0.6265965439519159, 0.6829573934837093, 0.7148394241417497, 0.6274576271186441, 0.549645390070922, 0.6056670602125147, 0.6475929054054055, 0.6143250688705235, 0.5552345938375349, 0.5535569105691056, 0.6734513274336283, 0.6528462572837292, 0.5685285433070866, 0.6569086651053864, 0.6686046511627907, 0.6071235833783054, 0.6493023255813953, 0.678245766391663, 0.6720737913486006, 0.6209710322317421, 0.7126848946660691, 0.6851145038167938, 0.6221227621483376]\n",
      "Validation ROC-AUC Score: 0.639142\n"
     ]
    }
   ],
   "source": [
    "valid_scores_1 = model.evaluate(valid_dataset, [metric], transformers)\n",
    "print(\"Validation ROC-AUC Score: %f\" % valid_scores_1[\"mean-roc_auc_score\"])"
   ]
  },
  {
   "cell_type": "code",
   "execution_count": 13,
   "metadata": {},
   "outputs": [
    {
     "name": "stdout",
     "output_type": "stream",
     "text": [
      "computed_metrics: [0.701592167721519, 0.6464194373401535, 0.5274822695035462, 0.5962745098039215, 0.7150635208711433, 0.6412131519274377, 0.7456938976377953, 0.5926704014939309, 0.6056689342403627, 0.6699921752738655, 0.6701183431952663, 0.6572916666666666, 0.6484745762711863, 0.6171802054154996, 0.6574728901461574, 0.6616222760290558, 0.6503267973856209, 0.5546218487394958, 0.6717641843971631, 0.7105139085337104, 0.5790273556231003, 0.6607507139942881, 0.5108796296296296, 0.6069410815173526, 0.6436058700209644, 0.684375, 0.6432913590968301]\n",
      "Validation ROC-AUC Score: 0.639642\n"
     ]
    }
   ],
   "source": [
    "test_scores_1 = model.evaluate(test_dataset, [metric], transformers)\n",
    "print(\"Validation ROC-AUC Score: %f\" % test_scores_1[\"mean-roc_auc_score\"])"
   ]
  },
  {
   "cell_type": "code",
   "execution_count": 14,
   "metadata": {},
   "outputs": [],
   "source": [
    "num_epochs = [60,70,80,90]\n",
    "losses = []\n",
    "\n",
    "model = GraphConvModel(\n",
    "    len(sider_tasks), batch_size=50, mode='classification')\n",
    "# Set nb_epoch=10 for better results.\n"
   ]
  },
  {
   "cell_type": "code",
   "execution_count": 15,
   "metadata": {
    "scrolled": true
   },
   "outputs": [
    {
     "name": "stdout",
     "output_type": "stream",
     "text": [
      "Epoch 60 loss: 775.304345\n",
      "Epoch 70 loss: 666.987900\n",
      "Epoch 80 loss: 576.970132\n",
      "Epoch 90 loss: 486.467053\n"
     ]
    }
   ],
   "source": [
    "\n",
    "for i in num_epochs:\n",
    "    # Set nb_epoch=10 for better results.\n",
    "    loss = model.fit(train_dataset, nb_epoch=10)\n",
    "    print(\"Epoch %d loss: %f\" % (i, loss))\n",
    "    losses.append(loss)"
   ]
  },
  {
   "cell_type": "code",
   "execution_count": 16,
   "metadata": {
    "scrolled": true
   },
   "outputs": [
    {
     "data": {
      "text/plain": [
       "<module 'matplotlib.pyplot' from '/home/mamonteiro/anaconda3/envs/lei/lib/python3.6/site-packages/matplotlib/pyplot.py'>"
      ]
     },
     "execution_count": 16,
     "metadata": {},
     "output_type": "execute_result"
    },
    {
     "data": {
      "image/png": "[encoded data removed]",
      "text/plain": [
       "<Figure size 720x504 with 1 Axes>"
      ]
     },
     "metadata": {
      "needs_background": "light"
     },
     "output_type": "display_data"
    }
   ],
   "source": [
    "import matplotlib.pyplot as plot\n",
    "\n",
    "plot.figure(figsize=(10,7))\n",
    "plot.ylabel(\"Loss\")\n",
    "plot.xlabel(\"Epoch\")\n",
    "x = num_epochs\n",
    "y = losses\n",
    "plot.scatter(x, y)\n",
    "plot"
   ]
  },
  {
   "cell_type": "code",
   "execution_count": 17,
   "metadata": {
    "scrolled": true
   },
   "outputs": [
    {
     "name": "stdout",
     "output_type": "stream",
     "text": [
      "Evaluating model\n",
      "computed_metrics: [0.8984134319162045, 0.8497019313668418, 0.9994370954123276, 0.8685015391308359, 0.9138403687530325, 0.874690582829434, 0.9396605207545707, 0.9325009754194304, 0.8293999147716267, 0.9148335424817302, 0.9245156482861401, 0.8896771211151411, 0.9516202359002854, 0.9435998586905323, 0.9030332672155349, 0.9001407452673185, 0.918890536199654, 0.9359334974132303, 0.8475215396665547, 0.85582979583586, 0.8907931568389662, 0.8736945714190384, 0.9689373046515903, 0.8778155546111346, 0.8869097451714768, 0.9258971291866029, 0.8574112446470508]\n",
      "Training ROC-AUC Score: 0.902711\n"
     ]
    }
   ],
   "source": [
    "metric = dc.metrics.Metric(\n",
    "    dc.metrics.roc_auc_score, np.mean, mode=\"classification\")\n",
    "\n",
    "print(\"Evaluating model\")\n",
    "train_scores_2 = model.evaluate(train_dataset, [metric], transformers)\n",
    "print(\"Training ROC-AUC Score: %f\" % train_scores_2[\"mean-roc_auc_score\"])\n",
    "\n"
   ]
  },
  {
   "cell_type": "code",
   "execution_count": 18,
   "metadata": {},
   "outputs": [
    {
     "name": "stdout",
     "output_type": "stream",
     "text": [
      "computed_metrics: [0.6698971518987342, 0.6027817067421027, 0.6830985915492958, 0.5997600959616154, 0.7250187828700225, 0.5791979949874686, 0.5869324473975637, 0.5833898305084746, 0.5483156028368794, 0.6182605273514364, 0.6297860360360359, 0.5633608815426998, 0.5738795518207283, 0.6252032520325204, 0.6327433628318584, 0.7014791573285521, 0.6299212598425197, 0.7029664324746292, 0.5469767441860465, 0.5914732865623313, 0.6109302325581395, 0.6576204950065132, 0.7442748091603053, 0.6301509587923296, 0.6694307485432542, 0.727735368956743, 0.5752344416027281]\n",
      "Validation ROC-AUC Score: 0.629993\n"
     ]
    }
   ],
   "source": [
    "valid_scores_2 = model.evaluate(valid_dataset, [metric], transformers)\n",
    "print(\"Validation ROC-AUC Score: %f\" % valid_scores_2[\"mean-roc_auc_score\"])"
   ]
  },
  {
   "cell_type": "code",
   "execution_count": 19,
   "metadata": {},
   "outputs": [
    {
     "name": "stdout",
     "output_type": "stream",
     "text": [
      "computed_metrics: [0.7132120253164557, 0.676150895140665, 0.38652482269503546, 0.5660784313725489, 0.6999395039322445, 0.6272108843537414, 0.7599655511811023, 0.6013071895424836, 0.6503401360544218, 0.6809467918622848, 0.5853057199211045, 0.6166666666666667, 0.6894915254237288, 0.496265172735761, 0.6185761433286185, 0.6606133979015335, 0.7259570494864612, 0.5611577964519141, 0.6354166666666667, 0.6824611032531824, 0.6198436821537125, 0.7319461444308446, 0.41203703703703703, 0.5623486682808717, 0.5532494758909853, 0.6880208333333333, 0.6397090751194094]\n",
      "Validation ROC-AUC Score: 0.623731\n"
     ]
    }
   ],
   "source": [
    "test_scores_2 = model.evaluate(test_dataset, [metric], transformers)\n",
    "print(\"Validation ROC-AUC Score: %f\" % test_scores_2[\"mean-roc_auc_score\"])"
   ]
  },
  {
   "cell_type": "code",
   "execution_count": 20,
   "metadata": {},
   "outputs": [
    {
     "data": {
      "text/plain": [
       "0.6237311996123265"
      ]
     },
     "execution_count": 20,
     "metadata": {},
     "output_type": "execute_result"
    }
   ],
   "source": [
    "type(test_scores_2)\n",
    "test_scores_2['mean-roc_auc_score']"
   ]
  },
  {
   "cell_type": "code",
   "execution_count": 21,
   "metadata": {},
   "outputs": [
    {
     "data": {
      "text/plain": [
       "[(0.55, 0.6716238733740536)]"
      ]
     },
     "execution_count": 21,
     "metadata": {},
     "output_type": "execute_result"
    },
    {
     "data": {
      "image/png": "[encoded data removed]",
      "text/plain": [
       "<Figure size 432x288 with 1 Axes>"
      ]
     },
     "metadata": {},
     "output_type": "display_data"
    }
   ],
   "source": [
    "import seaborn as sns\n",
    "\n",
    "sns.set(style=\"whitegrid\")\n",
    "ax = sns.barplot(x=[test_scores_1['mean-roc_auc_score'],test_scores_2['mean-roc_auc_score']],\n",
    "                 y=['First Scenario','Scenario Scenario'])\n",
    "ax.set(xlim=(0.55, None))"
   ]
  },
  {
   "cell_type": "code",
   "execution_count": 22,
   "metadata": {},
   "outputs": [],
   "source": [
    "# Hiperparameters permitidos pelo deepchem e os valores que são utilizados por defeito\n",
    "#/home/mamonteiro/source-code/knowledge-base/deepchem/deepchem/molnet/preset_hyper_parameters.py"
   ]
  },
  {
   "cell_type": "raw",
   "metadata": {},
   "source": [
    "# hps['graphconv'] = {\n",
    "    'batch_size': 64,\n",
    "    'nb_epoch': 40,\n",
    "    'learning_rate': 0.0005,\n",
    "    'n_filters': 64,\n",
    "    'n_fully_connected_nodes': 128,\n",
    "    'seed': 123\n",
    "}"
   ]
  },
  {
   "cell_type": "raw",
   "metadata": {},
   "source": [
    "batch_size = hyper_parameters['batch_size']\n",
    "nb_epoch = hyper_parameters['nb_epoch']\n",
    "learning_rate = hyper_parameters['learning_rate']\n",
    "n_filters = hyper_parameters['n_filters']\n",
    "n_fully_connected_nodes = hyper_parameters['n_fully_connected_nodes']\n",
    "    "
   ]
  },
  {
   "cell_type": "code",
   "execution_count": 23,
   "metadata": {},
   "outputs": [],
   "source": [
    "params_dict = {'batch_size' : [32,64,128,256],\n",
    "               'nb_epoch': [40,100,200],\n",
    "               'learning_rate': [0.0005,0.5,0.75,1],\n",
    "               'n_filters': [32,64,128],\n",
    "               'n_fully_connected_nodes' : [32,64,128]\n",
    "              }"
   ]
  },
  {
   "cell_type": "code",
   "execution_count": null,
   "metadata": {},
   "outputs": [],
   "source": [
    "params_dict = {'batch_size' : [32],\n",
    "               'nb_epoch': [10,20,30,40,50,60],\n",
    "               'learning_rate': [0.0005,0.5],\n",
    "               'n_filters': [32,64],\n",
    "               'n_fully_connected_nodes' : [32,64]\n",
    "              }"
   ]
  },
  {
   "cell_type": "code",
   "execution_count": null,
   "metadata": {},
   "outputs": [],
   "source": [
    "len(train_dataset)"
   ]
  },
  {
   "cell_type": "code",
   "execution_count": null,
   "metadata": {},
   "outputs": [],
   "source": [
    "n_features = len(train_dataset)\n",
    "\n",
    "def model_builder(model_params, model_dir):\n",
    "    model = GraphConvModel(\n",
    "            len(sider_tasks), mode='classification',**model_params)\n",
    "    \n",
    "    return model\n",
    "\n"
   ]
  },
  {
   "cell_type": "code",
   "execution_count": null,
   "metadata": {},
   "outputs": [
    {
     "name": "stdout",
     "output_type": "stream",
     "text": [
      "Fitting model 1/48\n",
      "hyperparameters: {'batch_size': 32, 'nb_epoch': 10, 'learning_rate': 0.0005, 'n_filters': 32, 'n_fully_connected_nodes': 32}\n",
      "computed_metrics: [0.7223101265822784, 0.5115511551155116, 0.30281690140845074, 0.5641743302678928, 0.6870773854244928, 0.5606516290726817, 0.7032115171650055, 0.5972881355932204, 0.568927304964539, 0.5643447461629281, 0.5436373873873874, 0.3939393939393939, 0.5591736694677871, 0.6292682926829268, 0.5920353982300884, 0.6645002241147467, 0.6333661417322834, 0.6010928961748634, 0.6055813953488373, 0.6654074473826227, 0.6053488372093023, 0.5894485453755971, 0.7436386768447838, 0.5338637290901672, 0.6779471089197668, 0.6208651399491094, 0.4887041773231032]\n",
      "Model 1/48, Metric mean-roc_auc_score, Validation set 0: 0.590006\n",
      "\tbest_validation_score so far: 0.590006\n",
      "Fitting model 2/48\n",
      "hyperparameters: {'batch_size': 32, 'nb_epoch': 10, 'learning_rate': 0.0005, 'n_filters': 32, 'n_fully_connected_nodes': 64}\n",
      "computed_metrics: [0.6784018987341773, 0.48962753418198957, 0.4436619718309859, 0.5989604158336665, 0.6307287753568744, 0.5541353383458647, 0.7718715393133998, 0.5627118644067797, 0.5709219858156029, 0.6312475403384494, 0.5917792792792793, 0.40289256198347106, 0.5829831932773109, 0.6101626016260162, 0.5348082595870206, 0.6678619453160017, 0.6919291338582677, 0.5675253708040593, 0.5816279069767442, 0.5277927684835402, 0.5602325581395349, 0.6309161962657404, 0.6876590330788804, 0.5922072623419012, 0.6268489466606902, 0.7137404580152673, 0.5515771526001705]\n",
      "Model 2/48, Metric mean-roc_auc_score, Validation set 1: 0.594623\n",
      "\tbest_validation_score so far: 0.594623\n",
      "Fitting model 3/48\n",
      "hyperparameters: {'batch_size': 32, 'nb_epoch': 10, 'learning_rate': 0.0005, 'n_filters': 64, 'n_fully_connected_nodes': 32}\n",
      "computed_metrics: [0.6305379746835443, 0.5238095238095237, 0.4084507042253521, 0.568172730907637, 0.589030803906837, 0.48245614035087725, 0.5498338870431894, 0.6247457627118644, 0.53125, 0.6436442345533255, 0.5836148648648649, 0.4511019283746557, 0.6088935574229691, 0.5662601626016259, 0.5678466076696165, 0.6344688480502017, 0.7121062992125985, 0.626463700234192, 0.5776744186046512, 0.5706961683756071, 0.5732558139534885, 0.6026921406860617, 0.6647582697201018, 0.5136678906568748, 0.6069027341999104, 0.7417302798982188, 0.5639386189258313]\n",
      "Model 3/48, Metric mean-roc_auc_score, Validation set 2: 0.582148\n",
      "\tbest_validation_score so far: 0.594623\n",
      "Fitting model 4/48\n",
      "hyperparameters: {'batch_size': 32, 'nb_epoch': 10, 'learning_rate': 0.0005, 'n_filters': 64, 'n_fully_connected_nodes': 64}\n",
      "computed_metrics: [0.7082674050632911, 0.6041961338991042, 0.647887323943662, 0.5651739304278289, 0.6697971450037565, 0.5390977443609022, 0.6627906976744186, 0.6749152542372883, 0.5598404255319148, 0.58008658008658, 0.5458896396396395, 0.7334710743801653, 0.6701680672268908, 0.628048780487805, 0.6067846607669616, 0.720753025549081, 0.6176181102362205, 0.6030444964871194, 0.6130232558139534, 0.5550458715596331, 0.5667441860465117, 0.6793313069908815, 0.6762086513994912, 0.5830273357813138, 0.66001792917974, 0.7041984732824427, 0.6101875532821825]\n",
      "Model 4/48, Metric mean-roc_auc_score, Validation set 3: 0.629097\n",
      "\tbest_validation_score so far: 0.629097\n",
      "Fitting model 5/48\n",
      "hyperparameters: {'batch_size': 32, 'nb_epoch': 10, 'learning_rate': 0.5, 'n_filters': 32, 'n_fully_connected_nodes': 32}\n",
      "computed_metrics: [0.5785700158227849, 0.547913719943423, 0.7605633802816901, 0.5635745701719312, 0.5507137490608565, 0.5381578947368422, 0.6339977851605758, 0.5653389830508475, 0.5570146276595744, 0.5676406926406927, 0.44883164414414417, 0.5628443526170799, 0.5199579831932774, 0.4678861788617886, 0.539306784660767, 0.5337852980726132, 0.5481053149606299, 0.3779274004683841, 0.5442441860465117, 0.5575418240690772, 0.5229651162790698, 0.5897199305254016, 0.584764631043257, 0.4863321093431253, 0.6239354549529359, 0.5815839694656488, 0.5320225916453538]\n",
      "Model 5/48, Metric mean-roc_auc_score, Validation set 4: 0.551305\n",
      "\tbest_validation_score so far: 0.629097\n",
      "Fitting model 6/48\n",
      "hyperparameters: {'batch_size': 32, 'nb_epoch': 10, 'learning_rate': 0.5, 'n_filters': 32, 'n_fully_connected_nodes': 64}\n",
      "computed_metrics: [0.5314972310126582, 0.5073668081093824, 0.5017605633802817, 0.5088964414234306, 0.6199286250939144, 0.5672932330827067, 0.5307308970099667, 0.385593220338983, 0.5369570035460993, 0.5230224321133412, 0.48831644144144143, 0.41029614325068864, 0.5161064425770308, 0.4568089430894309, 0.49985250737463127, 0.5169766920663379, 0.5958415354330708, 0.4833138173302108, 0.5364534883720931, 0.49345655693470053, 0.44005813953488376, 0.6095853234910986, 0.5147900763358779, 0.5107609139126887, 0.5549081129538325, 0.5936704834605598, 0.5456628303495312]\n",
      "Model 6/48, Metric mean-roc_auc_score, Validation set 5: 0.517774\n",
      "\tbest_validation_score so far: 0.629097\n",
      "Fitting model 7/48\n",
      "hyperparameters: {'batch_size': 32, 'nb_epoch': 10, 'learning_rate': 0.5, 'n_filters': 64, 'n_fully_connected_nodes': 32}\n",
      "computed_metrics: [0.5297666139240507, 0.5216289486091467, 0.18309859154929575, 0.5003998400639744, 0.567336589030804, 0.5259398496240602, 0.5056755260243633, 0.5465254237288135, 0.49573359929078015, 0.5318280204643842, 0.5663006756756757, 0.4931129476584022, 0.5458683473389356, 0.5715447154471545, 0.47691740412979355, 0.5117099955177051, 0.5869832677165354, 0.48497267759562845, 0.5329069767441861, 0.5282649757150566, 0.45616279069767446, 0.5306122448979592, 0.535941475826972, 0.479906160750714, 0.5609592111160915, 0.7084923664122138, 0.5255754475703325]\n",
      "Model 7/48, Metric mean-roc_auc_score, Validation set 6: 0.518673\n",
      "\tbest_validation_score so far: 0.629097\n",
      "Fitting model 8/48\n",
      "hyperparameters: {'batch_size': 32, 'nb_epoch': 10, 'learning_rate': 0.5, 'n_filters': 64, 'n_fully_connected_nodes': 64}\n",
      "computed_metrics: [0.5383208069620253, 0.5166784535596417, 0.5440140845070423, 0.5144442223110756, 0.5616078136739294, 0.48922305764411034, 0.5386212624584719, 0.5144915254237288, 0.5326351950354611, 0.581267217630854, 0.5247043918918919, 0.5764462809917356, 0.5596988795518207, 0.4660569105691057, 0.5772861356932154, 0.5159121470192739, 0.5306348425196851, 0.5429352068696331, 0.5119186046511628, 0.49696438208310845, 0.471860465116279, 0.553300043421624, 0.5001590330788804, 0.5032639738882089, 0.5986665172568355, 0.630884223918575, 0.509963768115942]\n",
      "Model 8/48, Metric mean-roc_auc_score, Validation set 7: 0.533406\n",
      "\tbest_validation_score so far: 0.629097\n",
      "Fitting model 9/48\n",
      "hyperparameters: {'batch_size': 32, 'nb_epoch': 20, 'learning_rate': 0.0005, 'n_filters': 32, 'n_fully_connected_nodes': 32}\n",
      "computed_metrics: [0.6728639240506329, 0.5594059405940595, 0.6901408450704225, 0.5729708116753298, 0.6983471074380165, 0.5005012531328321, 0.5736434108527132, 0.5338983050847458, 0.5144060283687943, 0.6174734356552538, 0.6078265765765766, 0.5, 0.561624649859944, 0.5329268292682927, 0.6000000000000001, 0.7171671896010758, 0.6328740157480315, 0.6623731459797033, 0.5858139534883722, 0.5447922288181328, 0.573953488372093, 0.594224924012158, 0.6914758269720103, 0.5648714810281518, 0.6772747646795159, 0.7092875318066156, 0.5247229326513214]\n",
      "Model 9/48, Metric mean-roc_auc_score, Validation set 8: 0.600550\n",
      "\tbest_validation_score so far: 0.629097\n",
      "Fitting model 10/48\n",
      "hyperparameters: {'batch_size': 32, 'nb_epoch': 20, 'learning_rate': 0.0005, 'n_filters': 32, 'n_fully_connected_nodes': 64}\n",
      "computed_metrics: [0.65625, 0.5537482319660537, 0.27464788732394363, 0.607157137145142, 0.7051089406461308, 0.5576441102756893, 0.6207087486157254, 0.5993220338983051, 0.5806737588652482, 0.666469893742621, 0.5782657657657657, 0.6067493112947658, 0.6200980392156863, 0.6105691056910569, 0.5572271386430678, 0.7283729269385926, 0.6441929133858268, 0.5975800156128025, 0.5946511627906976, 0.6314085267134377, 0.5976744186046512, 0.6602257924446375, 0.7760814249363868, 0.5434516523867808, 0.6591214701927387, 0.6793893129770993, 0.5174765558397272]\n",
      "Model 10/48, Metric mean-roc_auc_score, Validation set 9: 0.608306\n",
      "\tbest_validation_score so far: 0.629097\n",
      "Fitting model 11/48\n",
      "hyperparameters: {'batch_size': 32, 'nb_epoch': 20, 'learning_rate': 0.0005, 'n_filters': 64, 'n_fully_connected_nodes': 32}\n",
      "computed_metrics: [0.7021360759493671, 0.5761433286185761, 0.5352112676056338, 0.5735705717712914, 0.7145003756574004, 0.4721804511278196, 0.636766334440753, 0.5572881355932204, 0.5498670212765957, 0.640495867768595, 0.6143018018018018, 0.44283746556473835, 0.5490196078431373, 0.5813008130081301, 0.5584070796460177, 0.7097714029583146, 0.6048228346456692, 0.6487119437939111, 0.5909302325581396, 0.577711818672423, 0.5388372093023255, 0.6237516283108989, 0.7022900763358779, 0.5277437780497756, 0.624607799193187, 0.6501272264631044, 0.5238704177323104]\n",
      "Model 11/48, Metric mean-roc_auc_score, Validation set 10: 0.593600\n",
      "\tbest_validation_score so far: 0.629097\n",
      "Fitting model 12/48\n",
      "hyperparameters: {'batch_size': 32, 'nb_epoch': 20, 'learning_rate': 0.0005, 'n_filters': 64, 'n_fully_connected_nodes': 64}\n"
     ]
    },
    {
     "name": "stdout",
     "output_type": "stream",
     "text": [
      "computed_metrics: [0.7062895569620253, 0.5308816595945309, 0.8169014084507042, 0.5981607357057177, 0.6964688204357625, 0.524561403508772, 0.6389811738648947, 0.6467796610169492, 0.5538563829787234, 0.6328217237308147, 0.5864301801801802, 0.6019283746556474, 0.6260504201680672, 0.6512195121951219, 0.6188790560471977, 0.6761541909457642, 0.6545275590551181, 0.6768149882903981, 0.5941860465116279, 0.617916891527253, 0.6099999999999999, 0.6504559270516718, 0.6723918575063613, 0.5707874337005303, 0.6718960107575079, 0.7118320610687023, 0.5411338448422847]\n",
      "Model 12/48, Metric mean-roc_auc_score, Validation set 11: 0.632530\n",
      "\tbest_validation_score so far: 0.632530\n",
      "Fitting model 13/48\n",
      "hyperparameters: {'batch_size': 32, 'nb_epoch': 20, 'learning_rate': 0.5, 'n_filters': 32, 'n_fully_connected_nodes': 32}\n",
      "computed_metrics: [0.5361451740506329, 0.5736680810938237, 0.5, 0.5499300279888044, 0.5979526671675431, 0.4800751879699248, 0.5985603543743079, 0.5922033898305085, 0.5278147163120568, 0.5199724517906336, 0.5332911036036037, 0.4099517906336088, 0.5601365546218486, 0.5941056910569106, 0.4926991150442477, 0.5513783056925146, 0.5984251968503936, 0.4992193598750976, 0.5498837209302325, 0.5371694549379384, 0.44540697674418606, 0.5855405992184108, 0.5911259541984732, 0.5077519379844961, 0.5028014343343792, 0.6003498727735369, 0.5165174765558398]\n",
      "Model 13/48, Metric mean-roc_auc_score, Validation set 12: 0.538966\n",
      "\tbest_validation_score so far: 0.632530\n",
      "Fitting model 14/48\n",
      "hyperparameters: {'batch_size': 32, 'nb_epoch': 20, 'learning_rate': 0.5, 'n_filters': 32, 'n_fully_connected_nodes': 64}\n",
      "computed_metrics: [0.5702136075949369, 0.5071310702498821, 0.25176056338028163, 0.4733106757297081, 0.5560668670172803, 0.50031328320802, 0.4795127353266888, 0.5800847457627119, 0.46869459219858156, 0.5659681227863046, 0.5161880630630631, 0.45282369146005513, 0.6026785714285714, 0.500609756097561, 0.499188790560472, 0.4835835948005379, 0.48511318897637795, 0.4972677595628415, 0.551453488372093, 0.5327846735024284, 0.5323837209302326, 0.6011723838471559, 0.49220737913486, 0.5058649530803754, 0.4973666517256835, 0.666030534351145, 0.524349957374254]\n",
      "Model 14/48, Metric mean-roc_auc_score, Validation set 13: 0.514597\n",
      "\tbest_validation_score so far: 0.632530\n",
      "Fitting model 15/48\n",
      "hyperparameters: {'batch_size': 32, 'nb_epoch': 20, 'learning_rate': 0.5, 'n_filters': 64, 'n_fully_connected_nodes': 32}\n",
      "computed_metrics: [0.5289754746835443, 0.5734912776991985, 0.5, 0.5445821671331468, 0.5637678437265214, 0.5129072681704261, 0.5635382059800664, 0.5933050847457628, 0.49573359929078015, 0.5297127115308934, 0.5691863738738738, 0.5418388429752066, 0.5207457983193278, 0.5856707317073171, 0.5218289085545723, 0.560342895562528, 0.6049458661417323, 0.5589383294301327, 0.5215116279069767, 0.4958175930922828, 0.5815697674418605, 0.5530829353017803, 0.5348282442748091, 0.5020399836801305, 0.47820484087852977, 0.7278944020356234, 0.5055413469735721]\n",
      "Model 15/48, Metric mean-roc_auc_score, Validation set 14: 0.547037\n",
      "\tbest_validation_score so far: 0.632530\n",
      "Fitting model 16/48\n",
      "hyperparameters: {'batch_size': 32, 'nb_epoch': 20, 'learning_rate': 0.5, 'n_filters': 64, 'n_fully_connected_nodes': 64}\n",
      "computed_metrics: [0.5506823575949367, 0.5114332861857614, 0.5246478873239437, 0.5607257097161136, 0.5354996243425996, 0.5274436090225565, 0.5260243632336656, 0.5127118644067796, 0.5406139184397163, 0.5014757969303424, 0.5160472972972974, 0.5003443526170799, 0.5507703081232493, 0.49329268292682926, 0.5435103244837758, 0.6344128193635141, 0.5500738188976377, 0.4651639344262295, 0.573953488372093, 0.4170939017808959, 0.5080813953488372, 0.5512917933130699, 0.47248727735368956, 0.48327213382292944, 0.6361497086508292, 0.5423027989821882, 0.5372442455242967]\n",
      "Model 16/48, Metric mean-roc_auc_score, Validation set 15: 0.528398\n",
      "\tbest_validation_score so far: 0.632530\n",
      "Fitting model 17/48\n",
      "hyperparameters: {'batch_size': 32, 'nb_epoch': 30, 'learning_rate': 0.0005, 'n_filters': 32, 'n_fully_connected_nodes': 32}\n"
     ]
    }
   ],
   "source": [
    "metric = dc.metrics.Metric(dc.metrics.roc_auc_score, np.mean)\n",
    "optimizer = dc.hyper.HyperparamOpt(model_builder)\n",
    "best_dnn, best_hyperparams, all_results = optimizer.hyperparam_search(\n",
    "   params_dict, train_dataset, valid_dataset, [], metric)"
   ]
  },
  {
   "cell_type": "code",
   "execution_count": null,
   "metadata": {},
   "outputs": [],
   "source": [
    "best_dnn"
   ]
  },
  {
   "cell_type": "code",
   "execution_count": null,
   "metadata": {},
   "outputs": [],
   "source": [
    "best_hyperparams"
   ]
  },
  {
   "cell_type": "code",
   "execution_count": null,
   "metadata": {},
   "outputs": [],
   "source": [
    "all_results"
   ]
  },
  {
   "cell_type": "code",
   "execution_count": null,
   "metadata": {},
   "outputs": [],
   "source": [
    "###AQUI\n",
    "\n",
    "#(32, 40, 0.0005, 64, 32)\n",
    "\n",
    "#'batch_size' : [32,64,128,256],\n",
    "#'nb_epoch': [40,100,200],\n",
    "#'learning_rate': [0.0005,0.5,0.75,1],\n",
    "#'n_filters': [32,64,128],\n",
    "#'n_fully_connected_nodes' : [32,64,128]\n",
    "\n",
    "#model=model_builder(params_dict,params_dict)\n",
    "\n",
    "#model =GraphConvModel(dense_layer_size=128, dropout=[0.0, 0.0, 0.0],\n",
    "#               graph_conv_layers=[64, 64], mode='classification', n_classes=2,\n",
    "#               n_tasks=27, number_atom_features=75, uncertainty=False)\n",
    "\n",
    "\n",
    "model.fit(train_dataset,batch_size=32,nb_epoch=30,learning_rate=0.0005,n_filters=64,n_fully_connected_nodes=32)"
   ]
  },
  {
   "cell_type": "code",
   "execution_count": null,
   "metadata": {},
   "outputs": [],
   "source": [
    "metric = dc.metrics.Metric(\n",
    "    dc.metrics.roc_auc_score, np.mean, mode=\"classification\")\n",
    "\n",
    "print(\"Evaluating model\")\n",
    "train_scores_3 = model.evaluate(train_dataset, [metric], transformers)\n",
    "print(\"Training ROC-AUC Score: %f\" % train_scores_3[\"mean-roc_auc_score\"])\n"
   ]
  },
  {
   "cell_type": "code",
   "execution_count": null,
   "metadata": {},
   "outputs": [],
   "source": [
    "valid_scores_3 = model.evaluate(valid_dataset, [metric], transformers)\n",
    "print(\"Validation ROC-AUC Score: %f\" % valid_scores_3[\"mean-roc_auc_score\"])"
   ]
  },
  {
   "cell_type": "code",
   "execution_count": null,
   "metadata": {},
   "outputs": [],
   "source": [
    "test_scores_3 = model.evaluate(test_dataset, [metric], transformers)\n",
    "print(\"Validation ROC-AUC Score: %f\" % test_scores_3[\"mean-roc_auc_score\"])"
   ]
  },
  {
   "cell_type": "code",
   "execution_count": null,
   "metadata": {},
   "outputs": [],
   "source": [
    "import seaborn as sns\n",
    "\n",
    "\n",
    "sns.set(rc={'figure.figsize':(11.7,8.27)})\n",
    "\n",
    "sns.set(style=\"whitegrid\")\n",
    "ax = sns.barplot(x=[test_scores_1['mean-roc_auc_score'],test_scores_2['mean-roc_auc_score'],test_scores_2['mean-roc_auc_score']],\n",
    "                 y=['First Scenario','Scenario Scenario','Third Scenario'])\n",
    "ax.set(xlim=(0.55, None))"
   ]
  },
  {
   "cell_type": "markdown",
   "metadata": {},
   "source": [
    "# Another Implementation GraphConvModel"
   ]
  },
  {
   "cell_type": "markdown",
   "metadata": {},
   "source": [
    "TensorGraph - Simplicity is Beauty\n",
    "TensorGraph is a simple, lean, and clean framework on TensorFlow for building any imaginable models.\n",
    "\n"
   ]
  },
  {
   "cell_type": "markdown",
   "metadata": {},
   "source": [
    "What’s going on under the hood? \n",
    "\n",
    "Now we will build GraphConvModel ourselves.\n",
    "\n",
    "The first step is to create a TensorGraph object. \n",
    "This object will hold the “computational graph” that defines the computation that a graph convolutional network will perform.\n"
   ]
  },
  {
   "cell_type": "code",
   "execution_count": null,
   "metadata": {},
   "outputs": [],
   "source": [
    "from deepchem.models.tensorgraph.tensor_graph import TensorGraph\n",
    "from deepchem.models.tensorgraph.layers import Dense, BatchNorm,GraphConv\n",
    "from deepchem.models.tensorgraph.layers import GraphPool, GraphGather,Dropout\n",
    "import keras\n",
    "import tensorflow as tf\n"
   ]
  },
  {
   "cell_type": "code",
   "execution_count": null,
   "metadata": {},
   "outputs": [],
   "source": [
    "tg = TensorGraph(use_queue=False)"
   ]
  },
  {
   "cell_type": "code",
   "execution_count": null,
   "metadata": {},
   "outputs": [],
   "source": [
    "from deepchem.models.tensorgraph.layers import Feature\n",
    "\n",
    "atom_features = Feature(shape=(None, 75))\n",
    "degree_slice = Feature(shape=(None, 2), dtype=tf.int32)\n",
    "membership = Feature(shape=(None,), dtype=tf.int32)\n",
    "\n",
    "deg_adjs = []\n",
    "for i in range(0, 10 + 1):\n",
    "    deg_adj = Feature(shape=(None, i + 1), dtype=tf.int32)\n",
    "    deg_adjs.append(deg_adj)"
   ]
  },
  {
   "cell_type": "code",
   "execution_count": null,
   "metadata": {},
   "outputs": [],
   "source": [
    "# ver mais um atomo na \n",
    "\n",
    "tiro a camada de dropout e verifico se esta em overfitting"
   ]
  },
  {
   "cell_type": "code",
   "execution_count": null,
   "metadata": {},
   "outputs": [],
   "source": [
    "batch_size = 50\n",
    "\n",
    "gc1 = GraphConv(64,activation_fn=tf.nn.relu,in_layers=[atom_features, degree_slice, membership] + deg_adjs)\n",
    "dropout_1 = Dropout(dropout_prob=0.5, in_layers=[gc1])\n",
    "batch_norm1 = BatchNorm(in_layers=[dropout_1])\n",
    "gp1 = GraphPool(in_layers=[batch_norm1, degree_slice, membership] + deg_adjs)\n",
    "\n",
    "gc2 = GraphConv(64,activation_fn=tf.nn.relu,in_layers=[gp1, degree_slice, membership] + deg_adjs)\n",
    "batch_norm2 = BatchNorm(in_layers=[gc2])\n",
    "gp2 = GraphPool(in_layers=[batch_norm2, degree_slice, membership] + deg_adjs)\n",
    "\n",
    "gc3 = GraphConv(64,activation_fn=tf.nn.relu,in_layers=[gp1, degree_slice, membership] + deg_adjs)\n",
    "batch_norm3 = BatchNorm(in_layers=[gc3])\n",
    "gp3 = GraphPool(in_layers=[batch_norm3, degree_slice, membership] + deg_adjs)\n",
    "\n",
    "dense = Dense(out_channels=128, activation_fn=tf.nn.relu, in_layers=[gp3])\n",
    "batch_norm4 = BatchNorm(in_layers=[dense])\n",
    "\n",
    "readout = GraphGather(batch_size=batch_size,activation_fn=tf.nn.tanh,in_layers=[batch_norm4, degree_slice, membership] + deg_adjs)"
   ]
  },
  {
   "cell_type": "code",
   "execution_count": null,
   "metadata": {},
   "outputs": [],
   "source": [
    "from deepchem.models.tensorgraph.layers import Dense, SoftMax, \\\n",
    "    SoftMaxCrossEntropy, WeightedError, Stack\n",
    "\n",
    "from deepchem.models.tensorgraph.layers import Label, Weights\n",
    "\n",
    "costs = []\n",
    "labels = []\n",
    "for task in range(len(sider_tasks)):\n",
    "    classification = Dense(out_channels=2, activation_fn=None, in_layers=[readout])\n",
    "\n",
    "    softmax = SoftMax(in_layers=[classification])\n",
    "    tg.add_output(softmax)\n",
    "\n",
    "    label = Label(shape=(None, 2))\n",
    "    labels.append(label)\n",
    "    cost = SoftMaxCrossEntropy(in_layers=[label, classification])\n",
    "    costs.append(cost)\n",
    "    \n",
    "all_cost = Stack(in_layers=costs, axis=1)\n",
    "weights = Weights(shape=(None, len(sider_tasks)))\n",
    "loss = WeightedError(in_layers=[all_cost, weights])\n",
    "tg.set_loss(loss)"
   ]
  },
  {
   "cell_type": "code",
   "execution_count": null,
   "metadata": {},
   "outputs": [],
   "source": [
    "from deepchem.metrics import to_one_hot\n",
    "from deepchem.feat.mol_graphs import ConvMol\n",
    "\n",
    "def data_generator(dataset, epochs=1, predict=False, pad_batches=True):\n",
    "    for epoch in range(epochs):\n",
    "        if not predict:\n",
    "            print('Starting epoch %i' % epoch)\n",
    "        for ind, (X_b, y_b, w_b, ids_b) in enumerate(\n",
    "            dataset.iterbatches(batch_size, pad_batches=pad_batches, deterministic=True)):\n",
    "            d = {}\n",
    "\n",
    "            for index, label in enumerate(labels):\n",
    "                d[label] = to_one_hot(y_b[:, index])\n",
    "            d[weights] = w_b\n",
    "            multiConvMol = ConvMol.agglomerate_mols(X_b)\n",
    "            d[atom_features] = multiConvMol.get_atom_features()\n",
    "            d[degree_slice] = multiConvMol.deg_slice\n",
    "            d[membership] = multiConvMol.membership\n",
    "            for i in range(1, len(multiConvMol.get_deg_adjacency_lists())):\n",
    "                d[deg_adjs[i - 1]] = multiConvMol.get_deg_adjacency_lists()[i]\n",
    "            yield d"
   ]
  },
  {
   "cell_type": "code",
   "execution_count": null,
   "metadata": {},
   "outputs": [],
   "source": [
    "# Epochs set to 1 to render tutorials online.\n",
    "# Set epochs=10 for better results.\n",
    "tg.fit_generator(data_generator(train_dataset, epochs=60))"
   ]
  },
  {
   "cell_type": "code",
   "execution_count": null,
   "metadata": {},
   "outputs": [],
   "source": [
    "# Training dataset"
   ]
  },
  {
   "cell_type": "code",
   "execution_count": null,
   "metadata": {
    "scrolled": false
   },
   "outputs": [],
   "source": [
    "metric = dc.metrics.Metric(\n",
    "    dc.metrics.roc_auc_score, np.mean, mode=\"classification\")\n",
    "\n",
    "def reshape_y_pred(y_true, y_pred):\n",
    "    \"\"\"\n",
    "    TensorGraph.Predict returns a list of arrays, one for each output\n",
    "    We also have to remove the padding on the last batch\n",
    "    Metrics taks results of shape (samples, n_task, prob_of_class)\n",
    "    \"\"\"\n",
    "    n_samples = len(y_true)\n",
    "    retval = np.stack(y_pred, axis=1)\n",
    "    return retval[:n_samples]\n"
   ]
  },
  {
   "cell_type": "code",
   "execution_count": null,
   "metadata": {},
   "outputs": [],
   "source": [
    "print(\"Evaluating model\")\n",
    "train_predictions = tg.predict_on_generator(data_generator(train_dataset, predict=True))\n",
    "train_predictions = reshape_y_pred(train_dataset.y, train_predictions)\n",
    "train_scores_4 = metric.compute_metric(train_dataset.y, train_predictions, train_dataset.w)\n",
    "\n",
    "print(\"----------------\")\n",
    "print(\"Training ROC-AUC Score: %f\" % train_scores_4)\n"
   ]
  },
  {
   "cell_type": "code",
   "execution_count": null,
   "metadata": {},
   "outputs": [],
   "source": [
    "# Validation Dataset"
   ]
  },
  {
   "cell_type": "code",
   "execution_count": null,
   "metadata": {},
   "outputs": [],
   "source": [
    "valid_predictions = tg.predict_on_generator(data_generator(valid_dataset, predict=True))\n",
    "valid_predictions = reshape_y_pred(valid_dataset.y, valid_predictions)\n",
    "valid_scores_4 = metric.compute_metric(valid_dataset.y, valid_predictions, valid_dataset.w)\n",
    "print(\"Valid ROC-AUC Score: %f\" % valid_scores_4)\n"
   ]
  },
  {
   "cell_type": "code",
   "execution_count": null,
   "metadata": {},
   "outputs": [],
   "source": [
    "# Test Dataset"
   ]
  },
  {
   "cell_type": "code",
   "execution_count": null,
   "metadata": {
    "scrolled": true
   },
   "outputs": [],
   "source": [
    "test_predictions = tg.predict_on_generator(data_generator(test_dataset, predict=True))\n",
    "test_predictions = reshape_y_pred(test_dataset.y, test_predictions)\n",
    "test_scores_4 = metric.compute_metric(test_dataset.y, test_predictions, test_dataset.w)\n",
    "print(\"Test  ROC-AUC Score: %f\" % test_scores_4)"
   ]
  },
  {
   "cell_type": "markdown",
   "metadata": {},
   "source": [
    "\n",
    "# Comparision of Results with MoleculeNet results"
   ]
  },
  {
   "cell_type": "code",
   "execution_count": null,
   "metadata": {
    "scrolled": false
   },
   "outputs": [],
   "source": [
    "import seaborn as sns\n",
    "\n",
    "\n",
    "sns.set(rc={'figure.figsize':(11.7,8.27)})\n",
    "\n",
    "sns.set(style=\"whitegrid\")\n",
    "ax = sns.barplot(x=[test_scores_1['mean-roc_auc_score'],test_scores_2['mean-roc_auc_score'],test_scores_3['mean-roc_auc_score'],test_scores_4],\n",
    "                 y=['First Scenario','Scenario Scenario','Third Scenario','Modelo Desenvolvido Raiz'])\n",
    "ax.set(xlim=(0.55, None))"
   ]
  },
  {
   "cell_type": "code",
   "execution_count": null,
   "metadata": {},
   "outputs": [],
   "source": [
    "print(test_scores_1['mean-roc_auc_score'])\n",
    "\n",
    "print(test_scores_2['mean-roc_auc_score'])\n",
    "print(test_scores_3['mean-roc_auc_score'])\n",
    "print(test_scores_4)"
   ]
  },
  {
   "cell_type": "code",
   "execution_count": null,
   "metadata": {},
   "outputs": [],
   "source": [
    "import seaborn as sns\n",
    "\n",
    "sns.set(style=\"whitegrid\")\n",
    "ax = sns.barplot(x=[test_scores_1['mean-roc_auc_score'],test_scores_2['mean-roc_auc_score'],test_scores_3['mean-roc_auc_score'],test_scores_4['mean-roc_auc_score']],\n",
    "                 y=['First Scenario','Scenario Scenario','Third Scenario','fourth Scenario'])\n",
    "ax.set(xlim=(0.55, None))"
   ]
  }
 ],
 "metadata": {
  "kernelspec": {
   "display_name": "Python 3",
   "language": "python",
   "name": "python3"
  },
  "language_info": {
   "codemirror_mode": {
    "name": "ipython",
    "version": 3
   },
   "file_extension": ".py",
   "mimetype": "text/x-python",
   "name": "python",
   "nbconvert_exporter": "python",
   "pygments_lexer": "ipython3",
   "version": "3.6.8"
  }
 },
 "nbformat": 4,
 "nbformat_minor": 2
}
