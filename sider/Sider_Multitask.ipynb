{
 "cells": [
  {
   "cell_type": "markdown",
   "metadata": {},
   "source": [
    "# Sider Multitask Classifier"
   ]
  },
  {
   "cell_type": "code",
   "execution_count": null,
   "metadata": {},
   "outputs": [],
   "source": []
  },
  {
   "cell_type": "markdown",
   "metadata": {},
   "source": [
    "# Baseline "
   ]
  },
  {
   "cell_type": "code",
   "execution_count": 1,
   "metadata": {},
   "outputs": [
    {
     "name": "stderr",
     "output_type": "stream",
     "text": [
      "/home/mamonteiro/anaconda3/envs/lei/lib/python3.6/site-packages/sklearn/externals/joblib/__init__.py:15: DeprecationWarning: sklearn.externals.joblib is deprecated in 0.21 and will be removed in 0.23. Please import this functionality directly from joblib, which can be installed with: pip install joblib. If this warning is raised when loading pickled models, you may need to re-serialize those models with scikit-learn 0.21+.\n",
      "  warnings.warn(msg, category=DeprecationWarning)\n"
     ]
    }
   ],
   "source": [
    "import numpy as np\n",
    "import tensorflow as tf\n",
    "import deepchem as dc"
   ]
  },
  {
   "cell_type": "code",
   "execution_count": 2,
   "metadata": {},
   "outputs": [
    {
     "name": "stdout",
     "output_type": "stream",
     "text": [
      "Loading dataset from disk.\n",
      "Loading dataset from disk.\n",
      "Loading dataset from disk.\n"
     ]
    }
   ],
   "source": [
    "sider_tasks, sider_datasets, transformers = dc.molnet.load_sider(featurizer = 'GraphConv')\n",
    "train_dataset, valid_dataset, test_dataset = sider_datasets"
   ]
  },
  {
   "cell_type": "code",
   "execution_count": 3,
   "metadata": {},
   "outputs": [
    {
     "data": {
      "text/plain": [
       "(<deepchem.data.datasets.DiskDataset at 0x7f28e02262e8>,\n",
       " <deepchem.data.datasets.DiskDataset at 0x7f28959ec4a8>,\n",
       " <deepchem.data.datasets.DiskDataset at 0x7f28959ecf60>)"
      ]
     },
     "execution_count": 3,
     "metadata": {},
     "output_type": "execute_result"
    }
   ],
   "source": [
    "sider_datasets"
   ]
  },
  {
   "cell_type": "code",
   "execution_count": 4,
   "metadata": {},
   "outputs": [
    {
     "data": {
      "text/plain": [
       "(1141, 27)"
      ]
     },
     "execution_count": 4,
     "metadata": {},
     "output_type": "execute_result"
    }
   ],
   "source": [
    "train_dataset.y.shape"
   ]
  },
  {
   "cell_type": "code",
   "execution_count": 5,
   "metadata": {},
   "outputs": [
    {
     "data": {
      "text/plain": [
       "(143, 27)"
      ]
     },
     "execution_count": 5,
     "metadata": {},
     "output_type": "execute_result"
    }
   ],
   "source": [
    "valid_dataset.y.shape"
   ]
  },
  {
   "cell_type": "code",
   "execution_count": 6,
   "metadata": {},
   "outputs": [
    {
     "data": {
      "text/plain": [
       "(143, 27)"
      ]
     },
     "execution_count": 6,
     "metadata": {},
     "output_type": "execute_result"
    }
   ],
   "source": [
    "test_dataset.y.shape"
   ]
  },
  {
   "cell_type": "code",
   "execution_count": 7,
   "metadata": {},
   "outputs": [],
   "source": [
    "featurizer = dc.feat.CircularFingerprint(size = 1024)"
   ]
  },
  {
   "cell_type": "code",
   "execution_count": 8,
   "metadata": {},
   "outputs": [],
   "source": [
    "loader = dc.data.CSVLoader(\n",
    "      tasks=sider_tasks, smiles_field=\"smiles\",\n",
    "      featurizer=featurizer)"
   ]
  },
  {
   "cell_type": "code",
   "execution_count": 9,
   "metadata": {},
   "outputs": [
    {
     "name": "stdout",
     "output_type": "stream",
     "text": [
      "Loading raw samples now.\n",
      "shard_size: 8192\n",
      "About to start loading CSV from sider.csv\n",
      "Loading shard 1 of size 8192.\n",
      "Featurizing sample 0\n",
      "Featurizing sample 1000\n",
      "TIMING: featurizing shard 0 took 1.937 s\n",
      "TIMING: dataset construction took 1.989 s\n",
      "Loading dataset from disk.\n"
     ]
    }
   ],
   "source": [
    "dataset = loader.featurize('sider.csv')"
   ]
  },
  {
   "cell_type": "code",
   "execution_count": 10,
   "metadata": {},
   "outputs": [
    {
     "data": {
      "text/plain": [
       "['Hepatobiliary disorders',\n",
       " 'Metabolism and nutrition disorders',\n",
       " 'Product issues',\n",
       " 'Eye disorders',\n",
       " 'Investigations',\n",
       " 'Musculoskeletal and connective tissue disorders',\n",
       " 'Gastrointestinal disorders',\n",
       " 'Social circumstances',\n",
       " 'Immune system disorders',\n",
       " 'Reproductive system and breast disorders',\n",
       " 'Neoplasms benign, malignant and unspecified (incl cysts and polyps)',\n",
       " 'General disorders and administration site conditions',\n",
       " 'Endocrine disorders',\n",
       " 'Surgical and medical procedures',\n",
       " 'Vascular disorders',\n",
       " 'Blood and lymphatic system disorders',\n",
       " 'Skin and subcutaneous tissue disorders',\n",
       " 'Congenital, familial and genetic disorders',\n",
       " 'Infections and infestations',\n",
       " 'Respiratory, thoracic and mediastinal disorders',\n",
       " 'Psychiatric disorders',\n",
       " 'Renal and urinary disorders',\n",
       " 'Pregnancy, puerperium and perinatal conditions',\n",
       " 'Ear and labyrinth disorders',\n",
       " 'Cardiac disorders',\n",
       " 'Nervous system disorders',\n",
       " 'Injury, poisoning and procedural complications']"
      ]
     },
     "execution_count": 10,
     "metadata": {},
     "output_type": "execute_result"
    }
   ],
   "source": [
    "sider_tasks"
   ]
  },
  {
   "cell_type": "code",
   "execution_count": 11,
   "metadata": {},
   "outputs": [
    {
     "name": "stdout",
     "output_type": "stream",
     "text": [
      "Computing train/valid/test indices\n",
      "TIMING: dataset construction took 0.077 s\n",
      "Loading dataset from disk.\n",
      "TIMING: dataset construction took 0.023 s\n",
      "Loading dataset from disk.\n",
      "TIMING: dataset construction took 0.025 s\n",
      "Loading dataset from disk.\n"
     ]
    }
   ],
   "source": [
    "splitter = dc.splits.RandomSplitter('sider.csv')\n",
    "train_dataset, valid_dataset, test_dataset = splitter.train_valid_test_split(\n",
    "    dataset)\n",
    "#NOTE THE RENAMING:\n",
    "valid_dataset, test_dataset = test_dataset, valid_dataset\n"
   ]
  },
  {
   "cell_type": "code",
   "execution_count": 12,
   "metadata": {},
   "outputs": [],
   "source": [
    "n_features = train_dataset.get_data_shape()[0]"
   ]
  },
  {
   "cell_type": "code",
   "execution_count": 13,
   "metadata": {},
   "outputs": [],
   "source": [
    "params_dict = {\"activation\": [\"relu\"],\n",
    "               \"optimizer\": [\"Adam\"],\n",
    "               \"momentum\": [.9],\n",
    "               \"penalty\": [0.]\n",
    "              }\n",
    "\n",
    "n_features = train_dataset.get_data_shape()[0]\n",
    "def model_builder(model_params, model_dir):\n",
    "    model = dc.models.MultitaskClassifier(\n",
    "    len(sider_tasks), n_features, **model_params)\n",
    "    return model"
   ]
  },
  {
   "cell_type": "code",
   "execution_count": 14,
   "metadata": {},
   "outputs": [
    {
     "name": "stdout",
     "output_type": "stream",
     "text": [
      "Fitting model 1/1\n",
      "hyperparameters: {'activation': 'relu', 'optimizer': 'Adam', 'momentum': 0.9, 'penalty': 0.0}\n",
      "WARNING:tensorflow:From /home/mamonteiro/anaconda3/envs/lei/lib/python3.6/site-packages/tensorflow/python/ops/resource_variable_ops.py:435: colocate_with (from tensorflow.python.framework.ops) is deprecated and will be removed in a future version.\n",
      "Instructions for updating:\n",
      "Colocations handled automatically by placer.\n"
     ]
    },
    {
     "name": "stderr",
     "output_type": "stream",
     "text": [
      "WARNING:tensorflow:From /home/mamonteiro/anaconda3/envs/lei/lib/python3.6/site-packages/tensorflow/python/ops/resource_variable_ops.py:435: colocate_with (from tensorflow.python.framework.ops) is deprecated and will be removed in a future version.\n",
      "Instructions for updating:\n",
      "Colocations handled automatically by placer.\n"
     ]
    },
    {
     "name": "stdout",
     "output_type": "stream",
     "text": [
      "computed_metrics: [0.7175129948020791, 0.6900485436893204, 0.6524822695035462, 0.6504515599343186, 0.7173913043478262, 0.6892523364485981, 0.8598673300165838, 0.544496487119438, 0.6218604651162791, 0.7983935742971888, 0.6929824561403508, 0.7527777777777778, 0.7261904761904763, 0.4910569105691057, 0.7007319819819819, 0.7166042446941323, 0.8519283746556474, 0.6635154061624651, 0.6458737864077669, 0.6347826086956522, 0.7107393416082028, 0.7129090094128194, 0.5863905325443788, 0.636150234741784, 0.7395786642761093, 0.8187022900763359, 0.6427906976744187]\n",
      "Model 1/1, Metric mean-roc_auc_score, Validation set 0: 0.691313\n",
      "\tbest_validation_score so far: 0.691313\n",
      "computed_metrics: [0.9223252167496772, 0.9112974291748598, 0.9447777777777777, 0.924949582252953, 0.9417890247702134, 0.9155356446641507, 0.9703862093289833, 0.925221951092882, 0.9272281741509003, 0.919900570887795, 0.9272009435470974, 0.9580427473583093, 0.9140499825844652, 0.9316415449835139, 0.9362061134577826, 0.9318165607573596, 0.976233857926982, 0.9246466524973432, 0.9240666144492932, 0.9222073404765713, 0.9324249186634508, 0.9134554685060037, 0.9218392993145468, 0.9124348918059559, 0.928636241552276, 0.9684401785361614, 0.9134356012097762]\n",
      "Best hyperparameters: ('relu', 'Adam', 0.9, 0.0)\n",
      "train_score: 0.931118\n",
      "validation_score: 0.691313\n"
     ]
    }
   ],
   "source": [
    "\n",
    "metric = dc.metrics.Metric(dc.metrics.roc_auc_score, np.mean)\n",
    "optimizer = dc.hyper.HyperparamOpt(model_builder)\n",
    "best_dnn, best_hyperparams, all_results = optimizer.hyperparam_search(\n",
    "    params_dict, train_dataset, valid_dataset, [], metric)"
   ]
  },
  {
   "cell_type": "code",
   "execution_count": 15,
   "metadata": {},
   "outputs": [
    {
     "data": {
      "text/plain": [
       "MultitaskClassifier(activation_fns=None, bias_init_consts=None, dropouts=None,\n",
       "                    layer_sizes=None, n_classes=2, n_features=1024, n_tasks=27,\n",
       "                    weight_decay_penalty=None, weight_decay_penalty_type=None,\n",
       "                    weight_init_stddevs=None)"
      ]
     },
     "execution_count": 15,
     "metadata": {},
     "output_type": "execute_result"
    }
   ],
   "source": [
    "best_dnn"
   ]
  },
  {
   "cell_type": "code",
   "execution_count": 16,
   "metadata": {},
   "outputs": [
    {
     "data": {
      "text/plain": [
       "('relu', 'Adam', 0.9, 0.0)"
      ]
     },
     "execution_count": 16,
     "metadata": {},
     "output_type": "execute_result"
    }
   ],
   "source": [
    "best_hyperparams"
   ]
  },
  {
   "cell_type": "code",
   "execution_count": 17,
   "metadata": {},
   "outputs": [
    {
     "data": {
      "text/plain": [
       "{\"('relu', 'Adam', 0.9, 0.0)\": 0.691313394773503}"
      ]
     },
     "execution_count": 17,
     "metadata": {},
     "output_type": "execute_result"
    }
   ],
   "source": [
    "all_results"
   ]
  },
  {
   "cell_type": "code",
   "execution_count": 18,
   "metadata": {},
   "outputs": [
    {
     "data": {
      "text/plain": [
       "143.9023218107461"
      ]
     },
     "execution_count": 18,
     "metadata": {},
     "output_type": "execute_result"
    }
   ],
   "source": [
    "model=model_builder(params_dict,params_dict)\n",
    "model.fit(train_dataset, nb_epoch=100)"
   ]
  },
  {
   "cell_type": "code",
   "execution_count": 19,
   "metadata": {},
   "outputs": [],
   "source": [
    "obj=best_dnn.fit(train_dataset,**params_dict,epochs=100)"
   ]
  },
  {
   "cell_type": "code",
   "execution_count": 20,
   "metadata": {},
   "outputs": [],
   "source": [
    "metric = dc.metrics.Metric(dc.metrics.roc_auc_score, np.mean)\n",
    "metric_recall_score = dc.metrics.Metric(dc.metrics.recall_score, np.mean,mode=\"classification\")\n",
    "metric_precision_score = dc.metrics.Metric(dc.metrics.precision_score, np.mean,mode=\"classification\")\n"
   ]
  },
  {
   "cell_type": "code",
   "execution_count": 21,
   "metadata": {},
   "outputs": [
    {
     "name": "stdout",
     "output_type": "stream",
     "text": [
      "computed_metrics: [0.9995188464612925, 0.9999289927900371, 1.0, 0.999957439564181, 0.9999318429661941, 0.9999006907509986, 0.9999250507009965, 0.9999948081615699, 0.9998936251044752, 0.9997019584708319, 0.9996741564049256, 0.9999087415946206, 0.9999738766980146, 0.9974211022138484, 0.9999477676341009, 0.9998622098301129, 0.999840572118341, 0.9988974495217853, 0.9999421879079482, 0.9997901007516392, 0.9999624311550918, 0.9999202599525546, 0.9975818735719726, 0.9999551511252428, 0.9999491866230155, 1.0, 0.999850140323152]\n",
      "rac_auc = {'mean-roc_auc_score': 0.9996752023109978}\n"
     ]
    }
   ],
   "source": [
    "train_scores = model.evaluate(train_dataset, [metric], transformers)\n",
    "print ('rac_auc = %s' % (train_scores))\n"
   ]
  },
  {
   "cell_type": "code",
   "execution_count": 22,
   "metadata": {},
   "outputs": [
    {
     "name": "stdout",
     "output_type": "stream",
     "text": [
      "computed_metrics: [0.9948717948717949, 0.9987437185929648, 1.0, 0.9943820224719101, 0.9967284623773174, 0.9987531172069826, 1.0, 1.0, 0.9951219512195122, 0.9947735191637631, 0.9831081081081081, 1.0, 0.9923371647509579, 0.9829545454545454, 0.9988826815642458, 0.9942938659058488, 1.0, 0.98, 1.0, 0.9964497041420118, 0.9963144963144963, 0.9958734525447043, 0.9900990099009901, 0.982824427480916, 0.9949622166246851, 1.0, 0.9946595460614153]\n",
      "metric_accuracy_score = {'mean-recall_score': 0.9946716223984139}\n"
     ]
    }
   ],
   "source": [
    "\n",
    "train_recall_score = model.evaluate(train_dataset, [metric_recall_score], transformers)\n",
    "print ('metric_accuracy_score = %s' % (train_recall_score))\n"
   ]
  },
  {
   "cell_type": "code",
   "execution_count": 23,
   "metadata": {},
   "outputs": [
    {
     "name": "stdout",
     "output_type": "stream",
     "text": [
      "computed_metrics: [0.6921231507397041, 0.583495145631068, 0.5886524822695035, 0.666871921182266, 0.6413043478260869, 0.6884735202492211, 0.6865671641791045, 0.5017564402810304, 0.613953488372093, 0.7744979919678714, 0.6588972431077693, 0.7231481481481481, 0.6952380952380952, 0.5443089430894309, 0.7198761261261262, 0.6400332917186851, 0.78099173553719, 0.6827731092436975, 0.6533980582524272, 0.6086956521739131, 0.7048030221262817, 0.6999103541012999, 0.6372781065088757, 0.6130672926447576, 0.6893769610040341, 0.7404580152671756, 0.6509302325581395]\n"
     ]
    }
   ],
   "source": [
    "valid_scores = model.evaluate(valid_dataset, [metric], transformers)"
   ]
  },
  {
   "cell_type": "code",
   "execution_count": 24,
   "metadata": {},
   "outputs": [
    {
     "name": "stdout",
     "output_type": "stream",
     "text": [
      "computed_metrics: [0.6219512195121951, 0.7572815533980582, 0.0, 0.7011494252873564, 0.85, 0.7570093457943925, 0.9328358208955224, 0.2857142857142857, 0.84, 0.7590361445783133, 0.47368421052631576, 0.9185185185185185, 0.34285714285714286, 0.15, 0.8648648648648649, 0.6966292134831461, 0.9621212121212122, 0.3333333333333333, 0.7669902912621359, 0.8, 0.7614678899082569, 0.7422680412371134, 0.15384615384615385, 0.4166666666666667, 0.7422680412371134, 0.9465648854961832, 0.68]\n",
      "metric_recall_score = {'mean-recall_score': 0.6391503059458622}\n"
     ]
    }
   ],
   "source": [
    "valid_recall_score = model.evaluate(valid_dataset, [metric_recall_score], transformers)\n",
    "print ('metric_recall_score = %s' % (valid_recall_score))\n"
   ]
  },
  {
   "cell_type": "code",
   "execution_count": 25,
   "metadata": {},
   "outputs": [
    {
     "name": "stdout",
     "output_type": "stream",
     "text": [
      "computed_metrics: [0.6417910447761194, 0.5922792469744509, 0.4118705035971223, 0.6098484848484849, 0.5904416212946159, 0.584349173553719, 0.5406015037593985, 0.5712535014005603, 0.5747041420118344, 0.6434442270058709, 0.6317774634606317, 0.5675287356321839, 0.6484674329501916, 0.7021475256769374, 0.5538020086083213, 0.6678179824561403, 0.5375000000000001, 0.5762250453720509, 0.5058064516129033, 0.5908139534883721, 0.5832258064516129, 0.6837027914614122, 0.7947658402203857, 0.6032242063492064, 0.6706073509636934, 0.6345514950166113, 0.6081913939937247]\n"
     ]
    }
   ],
   "source": [
    "test_scores = model.evaluate(test_dataset, [metric], transformers)"
   ]
  },
  {
   "cell_type": "code",
   "execution_count": 26,
   "metadata": {},
   "outputs": [
    {
     "name": "stdout",
     "output_type": "stream",
     "text": [
      "computed_metrics: [0.6710526315789473, 0.7628865979381443, 0.0, 0.6493506493506493, 0.8333333333333334, 0.7840909090909091, 0.9172932330827067, 0.16666666666666666, 0.8173076923076923, 0.6285714285714286, 0.42857142857142855, 0.9224137931034483, 0.48148148148148145, 0.35294117647058826, 0.8137254901960784, 0.7473684210526316, 0.953125, 0.20689655172413793, 0.7526881720430108, 0.83, 0.7634408602150538, 0.8620689655172413, 0.2727272727272727, 0.5555555555555556, 0.7938144329896907, 0.9069767441860465, 0.7938144329896907]\n",
      "metric_recall_score = {'mean-recall_score': 0.6543764044719939}\n"
     ]
    }
   ],
   "source": [
    "test_recall_score = model.evaluate(test_dataset, [metric_recall_score], transformers)\n",
    "print ('metric_recall_score = %s' % (test_recall_score))"
   ]
  },
  {
   "cell_type": "code",
   "execution_count": 27,
   "metadata": {},
   "outputs": [
    {
     "name": "stdout",
     "output_type": "stream",
     "text": [
      "{'mean-roc_auc_score': 0.9996752023109978}\n",
      "{'mean-roc_auc_score': 0.6622548162794073}\n",
      "{'mean-roc_auc_score': 0.6044718123309836}\n"
     ]
    }
   ],
   "source": [
    "print(train_scores)\n",
    "print(valid_scores)\n",
    "print(test_scores)"
   ]
  },
  {
   "cell_type": "code",
   "execution_count": 28,
   "metadata": {},
   "outputs": [
    {
     "name": "stdout",
     "output_type": "stream",
     "text": [
      "{'mean-recall_score': 0.9946716223984139}\n",
      "{'mean-recall_score': 0.6391503059458622}\n",
      "{'mean-recall_score': 0.6543764044719939}\n"
     ]
    }
   ],
   "source": [
    "print(train_recall_score)\n",
    "print(valid_recall_score)\n",
    "print(test_recall_score)"
   ]
  },
  {
   "cell_type": "code",
   "execution_count": 29,
   "metadata": {},
   "outputs": [
    {
     "data": {
      "text/plain": [
       "{'mean-recall_score': 0.6543764044719939}"
      ]
     },
     "execution_count": 29,
     "metadata": {},
     "output_type": "execute_result"
    }
   ],
   "source": [
    "test_recall_score"
   ]
  },
  {
   "cell_type": "code",
   "execution_count": 30,
   "metadata": {},
   "outputs": [
    {
     "data": {
      "text/plain": [
       "[(0, 0.6870952246955936)]"
      ]
     },
     "execution_count": 30,
     "metadata": {},
     "output_type": "execute_result"
    }
   ],
   "source": [
    "import seaborn as sns\n",
    "\n",
    "\n",
    "sns.set(rc={'figure.figsize':(10,3)})\n",
    "sns.set(style=\"whitegrid\")\n",
    "ax = sns.barplot(x=[test_scores['mean-roc_auc_score'],test_recall_score['mean-recall_score']],\n",
    "                 y=['roc_auc_score','recall_score'])\n",
    "ax.set(xlim=(0, None))"
   ]
  },
  {
   "cell_type": "markdown",
   "metadata": {},
   "source": [
    "\n",
    "# hyperparameters"
   ]
  },
  {
   "cell_type": "code",
   "execution_count": 31,
   "metadata": {},
   "outputs": [],
   "source": [
    "params_dict = {\"activation\": [\"relu\",\"sigmoid\",\"tanh\"],\n",
    "               \"optimizer\": ['RMSprop','adam'],\n",
    "               \"momentum\": [.9],\n",
    "               \"dropouts\": [.5,0.2],\n",
    "               \"learning_rate\": [1e-3],\n",
    "               \"batch_size\": [50],\n",
    "               \"nb_layers\": [64,128.,256,512],\n",
    "               \"penalty\": [0.]\n",
    "              }\n",
    "\n",
    "n_features = train_dataset.get_data_shape()[0]\n",
    "\n",
    "def model_builder(model_params, model_dir):\n",
    "    model = dc.models.MultitaskClassifier(\n",
    "    len(sider_tasks), n_features, **model_params)\n",
    "    return model\n"
   ]
  },
  {
   "cell_type": "code",
   "execution_count": 32,
   "metadata": {},
   "outputs": [
    {
     "name": "stdout",
     "output_type": "stream",
     "text": [
      "Fitting model 1/48\n",
      "hyperparameters: {'activation': 'relu', 'optimizer': 'RMSprop', 'momentum': 0.9, 'dropouts': 0.5, 'learning_rate': 0.001, 'batch_size': 50, 'nb_layers': 64, 'penalty': 0.0}\n",
      "computed_metrics: [0.7217113154738105, 0.7026699029126213, 0.7198581560283688, 0.6510673234811166, 0.7130434782608697, 0.6991173416407062, 0.8416252072968491, 0.5464480874316939, 0.656046511627907, 0.7973895582329316, 0.6892230576441103, 0.7074074074074075, 0.7002645502645504, 0.5341463414634147, 0.7088963963963963, 0.7114024136496047, 0.8519283746556474, 0.6607142857142858, 0.6589805825242718, 0.6562111801242236, 0.7420399352401511, 0.7077543702375616, 0.565680473372781, 0.6441705790297341, 0.7454056476916181, 0.8282442748091603, 0.6516279069767441]\n",
      "Model 1/48, Metric mean-roc_auc_score, Validation set 0: 0.696781\n",
      "\tbest_validation_score so far: 0.696781\n",
      "Fitting model 2/48\n",
      "hyperparameters: {'activation': 'relu', 'optimizer': 'RMSprop', 'momentum': 0.9, 'dropouts': 0.5, 'learning_rate': 0.001, 'batch_size': 50, 'nb_layers': 128.0, 'penalty': 0.0}\n",
      "computed_metrics: [0.7219112355057977, 0.6810679611650485, 0.6950354609929078, 0.647783251231527, 0.7039855072463768, 0.6887331256490135, 0.8391376451077943, 0.5437158469945356, 0.650232558139535, 0.7959839357429719, 0.6829573934837093, 0.737037037037037, 0.7142857142857143, 0.5410569105691057, 0.701295045045045, 0.7078651685393258, 0.8553719008264463, 0.6579131652661064, 0.6536407766990291, 0.6145962732919255, 0.7361036157582299, 0.7135813536530704, 0.6136094674556213, 0.6535602503912363, 0.735992828328104, 0.8148854961832062, 0.6323255813953489]\n",
      "Model 2/48, Metric mean-roc_auc_score, Validation set 1: 0.693839\n",
      "\tbest_validation_score so far: 0.696781\n",
      "Fitting model 3/48\n",
      "hyperparameters: {'activation': 'relu', 'optimizer': 'RMSprop', 'momentum': 0.9, 'dropouts': 0.5, 'learning_rate': 0.001, 'batch_size': 50, 'nb_layers': 256, 'penalty': 0.0}\n",
      "computed_metrics: [0.7219112355057977, 0.6713592233009709, 0.6099290780141844, 0.6574302134646963, 0.7072463768115942, 0.7001557632398754, 0.830016583747927, 0.5585480093676816, 0.6506976744186046, 0.795582329317269, 0.6814536340852131, 0.7092592592592593, 0.7193121693121693, 0.49390243902439024, 0.6891891891891893, 0.7145235122763212, 0.8285123966942148, 0.6680672268907564, 0.6599514563106796, 0.6304347826086957, 0.7417701025364274, 0.7108919766920664, 0.5964497041420118, 0.6418231611893583, 0.7268041237113403, 0.8040712468193384, 0.6423255813953489]\n",
      "Model 3/48, Metric mean-roc_auc_score, Validation set 2: 0.687467\n",
      "\tbest_validation_score so far: 0.696781\n",
      "Fitting model 4/48\n",
      "hyperparameters: {'activation': 'relu', 'optimizer': 'RMSprop', 'momentum': 0.9, 'dropouts': 0.5, 'learning_rate': 0.001, 'batch_size': 50, 'nb_layers': 512, 'penalty': 0.0}\n",
      "computed_metrics: [0.7167133146741304, 0.683252427184466, 0.7340425531914894, 0.659072249589491, 0.7202898550724637, 0.6939252336448598, 0.8275290215588722, 0.5234192037470726, 0.6783720930232559, 0.7857429718875502, 0.681704260651629, 0.7722222222222223, 0.7026455026455026, 0.5231707317073171, 0.7117117117117118, 0.7049521431543904, 0.8402203856749312, 0.6834733893557423, 0.6679611650485437, 0.6428571428571428, 0.7352941176470589, 0.7034961900493053, 0.6071005917159763, 0.6410406885758999, 0.7324069923800987, 0.8091603053435115, 0.6453488372093024]\n",
      "Model 4/48, Metric mean-roc_auc_score, Validation set 3: 0.697301\n",
      "\tbest_validation_score so far: 0.697301\n",
      "Fitting model 5/48\n",
      "hyperparameters: {'activation': 'relu', 'optimizer': 'RMSprop', 'momentum': 0.9, 'dropouts': 0.2, 'learning_rate': 0.001, 'batch_size': 50, 'nb_layers': 64, 'penalty': 0.0}\n",
      "computed_metrics: [0.7315073970411836, 0.6609223300970873, 0.6737588652482269, 0.6559934318555007, 0.7021739130434783, 0.6744548286604362, 0.8242122719734659, 0.5546448087431695, 0.6483720930232558, 0.7885542168674698, 0.662907268170426, 0.7481481481481482, 0.7272486772486773, 0.5052845528455285, 0.7035472972972974, 0.6945484810653351, 0.8360881542699724, 0.6544117647058822, 0.6400485436893204, 0.6086956521739131, 0.7080410145709659, 0.6875840430300313, 0.6183431952662721, 0.636150234741784, 0.7142536978933214, 0.7958015267175572, 0.6383720930232558]\n",
      "Model 5/48, Metric mean-roc_auc_score, Validation set 4: 0.684966\n",
      "\tbest_validation_score so far: 0.697301\n",
      "Fitting model 6/48\n",
      "hyperparameters: {'activation': 'relu', 'optimizer': 'RMSprop', 'momentum': 0.9, 'dropouts': 0.2, 'learning_rate': 0.001, 'batch_size': 50, 'nb_layers': 128.0, 'penalty': 0.0}\n",
      "computed_metrics: [0.7279088364654138, 0.6805825242718446, 0.6524822695035462, 0.6545566502463054, 0.7101449275362319, 0.6954828660436136, 0.8515754560530681, 0.5394223263075721, 0.6465116279069767, 0.7953815261044177, 0.6837092731829575, 0.7425925925925926, 0.7288359788359788, 0.5105691056910568, 0.7108671171171171, 0.7032875572201416, 0.8381542699724518, 0.6516106442577031, 0.6473300970873787, 0.6298136645962733, 0.7228818132757691, 0.7017032720753025, 0.6195266272189349, 0.6324334898278561, 0.7241147467503362, 0.7970737913486006, 0.6511627906976745]\n",
      "Model 6/48, Metric mean-roc_auc_score, Validation set 5: 0.690730\n",
      "\tbest_validation_score so far: 0.697301\n",
      "Fitting model 7/48\n",
      "hyperparameters: {'activation': 'relu', 'optimizer': 'RMSprop', 'momentum': 0.9, 'dropouts': 0.2, 'learning_rate': 0.001, 'batch_size': 50, 'nb_layers': 256, 'penalty': 0.0}\n",
      "computed_metrics: [0.7293082766893242, 0.6985436893203882, 0.75177304964539, 0.6500410509031198, 0.7032608695652174, 0.6791277258566979, 0.8524046434494196, 0.5292740046838407, 0.6632558139534885, 0.7949799196787148, 0.6593984962406014, 0.7638888888888888, 0.7132275132275132, 0.5113821138211382, 0.7226914414414414, 0.7072409488139825, 0.8353994490358128, 0.6533613445378151, 0.6526699029126213, 0.6322981366459627, 0.7315164597949271, 0.6985656656207979, 0.6201183431952663, 0.6371283255086071, 0.7285970416853429, 0.8218829516539441, 0.6458139534883721]\n",
      "Model 7/48, Metric mean-roc_auc_score, Validation set 6: 0.695820\n",
      "\tbest_validation_score so far: 0.697301\n",
      "Fitting model 8/48\n",
      "hyperparameters: {'activation': 'relu', 'optimizer': 'RMSprop', 'momentum': 0.9, 'dropouts': 0.2, 'learning_rate': 0.001, 'batch_size': 50, 'nb_layers': 512, 'penalty': 0.0}\n",
      "computed_metrics: [0.7273090763694523, 0.662378640776699, 0.574468085106383, 0.6555829228243022, 0.717391304347826, 0.6786085150571133, 0.8432835820895521, 0.5534738485558157, 0.6246511627906977, 0.797991967871486, 0.6659147869674185, 0.7555555555555555, 0.7105820105820106, 0.5020325203252033, 0.6973536036036037, 0.6912193091968373, 0.8464187327823691, 0.6418067226890756, 0.6436893203883495, 0.6326086956521739, 0.7191041554236373, 0.709323173464814, 0.6230769230769231, 0.6412363067292645, 0.7328552218735993, 0.8059796437659033, 0.6423255813953488]\n",
      "Model 8/48, Metric mean-roc_auc_score, Validation set 7: 0.685045\n",
      "\tbest_validation_score so far: 0.697301\n",
      "Fitting model 9/48\n",
      "hyperparameters: {'activation': 'relu', 'optimizer': 'adam', 'momentum': 0.9, 'dropouts': 0.5, 'learning_rate': 0.001, 'batch_size': 50, 'nb_layers': 64, 'penalty': 0.0}\n",
      "computed_metrics: [0.7293082766893243, 0.6766990291262136, 0.6312056737588653, 0.6543513957307061, 0.7217391304347827, 0.6939252336448598, 0.8026533996683249, 0.5659640905542545, 0.6283720930232557, 0.7953815261044177, 0.6671679197994987, 0.7055555555555555, 0.712962962962963, 0.49390243902439024, 0.7094594594594594, 0.714107365792759, 0.8209366391184574, 0.655812324929972, 0.63373786407767, 0.6391304347826087, 0.7363734484619535, 0.7140295831465711, 0.5692307692307692, 0.6484741784037559, 0.7281488121918422, 0.8059796437659033, 0.646046511627907]\n",
      "Model 9/48, Metric mean-roc_auc_score, Validation set 8: 0.685209\n",
      "\tbest_validation_score so far: 0.697301\n",
      "Fitting model 10/48\n",
      "hyperparameters: {'activation': 'relu', 'optimizer': 'adam', 'momentum': 0.9, 'dropouts': 0.5, 'learning_rate': 0.001, 'batch_size': 50, 'nb_layers': 128.0, 'penalty': 0.0}\n",
      "computed_metrics: [0.7335065973610556, 0.6733009708737864, 0.6631205673758864, 0.6611247947454844, 0.7123188405797101, 0.6949636552440291, 0.8200663349917081, 0.5378610460577673, 0.653953488372093, 0.7967871485943775, 0.6837092731829574, 0.737037037037037, 0.7253968253968255, 0.5085365853658537, 0.7249436936936936, 0.72180607573866, 0.8533057851239669, 0.6631652661064426, 0.654854368932039, 0.641614906832298, 0.7312466270912035, 0.712012550425818, 0.5769230769230769, 0.6322378716744914, 0.738682205289108, 0.8161577608142494, 0.6276744186046512]\n",
      "Model 10/48, Metric mean-roc_auc_score, Validation set 9: 0.692456\n",
      "\tbest_validation_score so far: 0.697301\n",
      "Fitting model 11/48\n",
      "hyperparameters: {'activation': 'relu', 'optimizer': 'adam', 'momentum': 0.9, 'dropouts': 0.5, 'learning_rate': 0.001, 'batch_size': 50, 'nb_layers': 256, 'penalty': 0.0}\n"
     ]
    },
    {
     "name": "stdout",
     "output_type": "stream",
     "text": [
      "computed_metrics: [0.7225109956017594, 0.6805825242718447, 0.7056737588652482, 0.6496305418719213, 0.6920289855072463, 0.7084631360332294, 0.8449419568822554, 0.5382513661202186, 0.650232558139535, 0.7951807228915663, 0.6764411027568922, 0.7388888888888889, 0.7137566137566138, 0.5166666666666666, 0.7173423423423424, 0.7051602163961714, 0.862258953168044, 0.665266106442577, 0.654126213592233, 0.6406832298136647, 0.7247706422018348, 0.7050649932765576, 0.6029585798816568, 0.639866979655712, 0.7409233527566115, 0.8231552162849873, 0.6325581395348837]\n",
      "Model 11/48, Metric mean-roc_auc_score, Validation set 10: 0.694348\n",
      "\tbest_validation_score so far: 0.697301\n",
      "Fitting model 12/48\n",
      "hyperparameters: {'activation': 'relu', 'optimizer': 'adam', 'momentum': 0.9, 'dropouts': 0.5, 'learning_rate': 0.001, 'batch_size': 50, 'nb_layers': 512, 'penalty': 0.0}\n",
      "computed_metrics: [0.7277089164334266, 0.7055825242718448, 0.75177304964539, 0.6600985221674878, 0.697463768115942, 0.6936656282450675, 0.8623548922056385, 0.5491803278688525, 0.6390697674418604, 0.7917670682730924, 0.7012531328320802, 0.737037037037037, 0.7211640211640212, 0.5170731707317073, 0.7156531531531531, 0.7109862671660423, 0.8574380165289257, 0.6687675070028012, 0.6713592233009709, 0.6413043478260869, 0.7347544522396114, 0.7223218287763336, 0.5828402366863905, 0.645735524256651, 0.7321828776333482, 0.8142493638676844, 0.6332558139534884]\n",
      "Model 12/48, Metric mean-roc_auc_score, Validation set 11: 0.699483\n",
      "\tbest_validation_score so far: 0.699483\n",
      "Fitting model 13/48\n",
      "hyperparameters: {'activation': 'relu', 'optimizer': 'adam', 'momentum': 0.9, 'dropouts': 0.2, 'learning_rate': 0.001, 'batch_size': 50, 'nb_layers': 64, 'penalty': 0.0}\n",
      "computed_metrics: [0.7347061175529788, 0.6706310679611651, 0.7163120567375887, 0.6555829228243022, 0.7173913043478262, 0.6869158878504673, 0.8316749585406302, 0.5312256049960968, 0.645813953488372, 0.795582329317269, 0.643859649122807, 0.750925925925926, 0.7126984126984127, 0.5113821138211382, 0.7111486486486487, 0.7009987515605492, 0.834710743801653, 0.6281512605042017, 0.6497572815533981, 0.6260869565217391, 0.7247706422018348, 0.7052891080233079, 0.6059171597633135, 0.6422143974960877, 0.7364410578216047, 0.8091603053435115, 0.6444186046511627]\n",
      "Model 13/48, Metric mean-roc_auc_score, Validation set 12: 0.689769\n",
      "\tbest_validation_score so far: 0.699483\n",
      "Fitting model 14/48\n",
      "hyperparameters: {'activation': 'relu', 'optimizer': 'adam', 'momentum': 0.9, 'dropouts': 0.2, 'learning_rate': 0.001, 'batch_size': 50, 'nb_layers': 128.0, 'penalty': 0.0}\n",
      "computed_metrics: [0.7311075569772092, 0.6733009708737864, 0.6950354609929078, 0.6397783251231526, 0.7152173913043479, 0.685098650051921, 0.8482587064676618, 0.546448087431694, 0.6474418604651164, 0.7939759036144578, 0.6568922305764411, 0.7629629629629631, 0.7232804232804233, 0.5004065040650407, 0.7080518018018018, 0.7055763628797336, 0.8347107438016529, 0.6330532212885154, 0.654126213592233, 0.6251552795031057, 0.729087965461414, 0.701255042581802, 0.6272189349112427, 0.6410406885758999, 0.7263558942178396, 0.7913486005089059, 0.6599999999999999]\n",
      "Model 14/48, Metric mean-roc_auc_score, Validation set 13: 0.690970\n",
      "\tbest_validation_score so far: 0.699483\n",
      "Fitting model 15/48\n",
      "hyperparameters: {'activation': 'relu', 'optimizer': 'adam', 'momentum': 0.9, 'dropouts': 0.2, 'learning_rate': 0.001, 'batch_size': 50, 'nb_layers': 256, 'penalty': 0.0}\n",
      "computed_metrics: [0.7297081167532986, 0.670388349514563, 0.7375886524822695, 0.6430623973727421, 0.6981884057971014, 0.6941848390446521, 0.8507462686567164, 0.5452771272443404, 0.6593023255813952, 0.7975903614457831, 0.6661654135338346, 0.7555555555555555, 0.7261904761904763, 0.5154471544715447, 0.6920045045045045, 0.7074490220557637, 0.8491735537190084, 0.648109243697479, 0.6604368932038835, 0.631055900621118, 0.7331354560172693, 0.7117884356790678, 0.6213017751479291, 0.6459311424100156, 0.7272523532048409, 0.8123409669211197, 0.6595348837209303]\n",
      "Model 15/48, Metric mean-roc_auc_score, Validation set 14: 0.695886\n",
      "\tbest_validation_score so far: 0.699483\n",
      "Fitting model 16/48\n",
      "hyperparameters: {'activation': 'relu', 'optimizer': 'adam', 'momentum': 0.9, 'dropouts': 0.2, 'learning_rate': 0.001, 'batch_size': 50, 'nb_layers': 512, 'penalty': 0.0}\n",
      "computed_metrics: [0.7187125149940023, 0.645873786407767, 0.6134751773049645, 0.6428571428571428, 0.7144927536231884, 0.6812045690550363, 0.8441127694859039, 0.5277127244340359, 0.6206976744186047, 0.7917670682730924, 0.6654135338345863, 0.7379629629629629, 0.728042328042328, 0.5040650406504065, 0.6981981981981982, 0.6924677486475239, 0.8422865013774106, 0.6442577030812325, 0.6441747572815534, 0.6319875776397516, 0.726389638424177, 0.7111160914388167, 0.6082840236686391, 0.6386932707355242, 0.7171671896010756, 0.8015267175572519, 0.6341860465116278]\n",
      "Model 16/48, Metric mean-roc_auc_score, Validation set 15: 0.682486\n",
      "\tbest_validation_score so far: 0.699483\n",
      "Fitting model 17/48\n",
      "hyperparameters: {'activation': 'sigmoid', 'optimizer': 'RMSprop', 'momentum': 0.9, 'dropouts': 0.5, 'learning_rate': 0.001, 'batch_size': 50, 'nb_layers': 64, 'penalty': 0.0}\n",
      "computed_metrics: [0.7255097960815673, 0.683252427184466, 0.7234042553191489, 0.6557881773399015, 0.7163043478260869, 0.7043094496365525, 0.8449419568822554, 0.5460577673692428, 0.6453488372093024, 0.8026104417670683, 0.6849624060150377, 0.7388888888888889, 0.7267195767195768, 0.5308943089430895, 0.7156531531531531, 0.7211818560133166, 0.8464187327823691, 0.6614145658263306, 0.6300970873786408, 0.6425465838509317, 0.7315164597949271, 0.7200806813088301, 0.5863905325443787, 0.6332159624413146, 0.731958762886598, 0.8110687022900763, 0.6372093023255814]\n",
      "Model 17/48, Metric mean-roc_auc_score, Validation set 16: 0.696213\n",
      "\tbest_validation_score so far: 0.699483\n",
      "Fitting model 18/48\n",
      "hyperparameters: {'activation': 'sigmoid', 'optimizer': 'RMSprop', 'momentum': 0.9, 'dropouts': 0.5, 'learning_rate': 0.001, 'batch_size': 50, 'nb_layers': 128.0, 'penalty': 0.0}\n",
      "computed_metrics: [0.7331067572970811, 0.6905339805825242, 0.624113475177305, 0.6570197044334976, 0.7057971014492753, 0.6884735202492211, 0.8208955223880596, 0.544496487119438, 0.6393023255813952, 0.7915662650602409, 0.687468671679198, 0.7416666666666667, 0.7298941798941798, 0.556910569105691, 0.709177927927928, 0.7103620474406991, 0.8684573002754821, 0.6652661064425771, 0.6582524271844661, 0.6335403726708074, 0.7304371289800324, 0.7008068130883012, 0.5698224852071007, 0.6293035993740219, 0.7301658449125953, 0.8250636132315521, 0.6341860465116278]\n",
      "Model 18/48, Metric mean-roc_auc_score, Validation set 17: 0.691707\n",
      "\tbest_validation_score so far: 0.699483\n",
      "Fitting model 19/48\n",
      "hyperparameters: {'activation': 'sigmoid', 'optimizer': 'RMSprop', 'momentum': 0.9, 'dropouts': 0.5, 'learning_rate': 0.001, 'batch_size': 50, 'nb_layers': 256, 'penalty': 0.0}\n",
      "computed_metrics: [0.7339064374250299, 0.6861650485436892, 0.6631205673758864, 0.6609195402298851, 0.721376811594203, 0.6876947040498442, 0.830016583747927, 0.5464480874316939, 0.6383720930232559, 0.7997991967871486, 0.6741854636591479, 0.7398148148148147, 0.7095238095238094, 0.5369918699186992, 0.7139639639639639, 0.7120266333749479, 0.8539944903581267, 0.6733193277310925, 0.6436893203883495, 0.6211180124223603, 0.7280086346465192, 0.6996862393545495, 0.5946745562130178, 0.6426056338028169, 0.7364410578216046, 0.8206106870229007, 0.6293023255813954]\n",
      "Model 19/48, Metric mean-roc_auc_score, Validation set 18: 0.692510\n",
      "\tbest_validation_score so far: 0.699483\n",
      "Fitting model 20/48\n",
      "hyperparameters: {'activation': 'sigmoid', 'optimizer': 'RMSprop', 'momentum': 0.9, 'dropouts': 0.5, 'learning_rate': 0.001, 'batch_size': 50, 'nb_layers': 512, 'penalty': 0.0}\n",
      "computed_metrics: [0.7275089964014395, 0.6922330097087379, 0.5709219858156028, 0.6371100164203611, 0.7079710144927536, 0.6939252336448598, 0.8449419568822554, 0.5499609679937549, 0.6627906976744186, 0.7845381526104418, 0.6779448621553885, 0.7462962962962962, 0.71984126984127, 0.525609756097561, 0.7024211711711712, 0.7109862671660424, 0.8457300275482094, 0.6596638655462185, 0.6453883495145631, 0.6298136645962734, 0.7228818132757691, 0.7057373375168086, 0.5940828402366864, 0.6334115805946792, 0.738009861048857, 0.8314249363867685, 0.64]\n",
      "Model 20/48, Metric mean-roc_auc_score, Validation set 19: 0.688931\n",
      "\tbest_validation_score so far: 0.699483\n",
      "Fitting model 21/48\n",
      "hyperparameters: {'activation': 'sigmoid', 'optimizer': 'RMSprop', 'momentum': 0.9, 'dropouts': 0.2, 'learning_rate': 0.001, 'batch_size': 50, 'nb_layers': 64, 'penalty': 0.0}\n"
     ]
    },
    {
     "name": "stdout",
     "output_type": "stream",
     "text": [
      "computed_metrics: [0.7205117952818871, 0.6686893203883495, 0.6382978723404256, 0.6471674876847291, 0.7050724637681158, 0.6882139148494288, 0.8631840796019901, 0.5316159250585479, 0.6504651162790698, 0.7871485943775101, 0.6696741854636592, 0.7462962962962962, 0.7108465608465608, 0.525609756097561, 0.7024211711711712, 0.6995422388680816, 0.8181818181818182, 0.6624649859943977, 0.6529126213592233, 0.6276397515527949, 0.7231516459794927, 0.7164948453608248, 0.6384615384615384, 0.6422143974960877, 0.7200806813088301, 0.8187022900763359, 0.6506976744186046]\n",
      "Model 21/48, Metric mean-roc_auc_score, Validation set 20: 0.689843\n",
      "\tbest_validation_score so far: 0.699483\n",
      "Fitting model 22/48\n",
      "hyperparameters: {'activation': 'sigmoid', 'optimizer': 'RMSprop', 'momentum': 0.9, 'dropouts': 0.2, 'learning_rate': 0.001, 'batch_size': 50, 'nb_layers': 128.0, 'penalty': 0.0}\n",
      "computed_metrics: [0.7207117153138745, 0.6364077669902914, 0.648936170212766, 0.6410098522167489, 0.7043478260869566, 0.686656282450675, 0.8325041459369817, 0.5167837626854019, 0.6316279069767441, 0.7833333333333333, 0.6576441102756893, 0.7731481481481481, 0.7269841269841271, 0.4983739837398374, 0.705518018018018, 0.6962130669995839, 0.8429752066115703, 0.6631652661064427, 0.6223300970873786, 0.6149068322981366, 0.7285483000539665, 0.7021515015688032, 0.6207100591715976, 0.6451486697965572, 0.7187359928283281, 0.7977099236641221, 0.6530232558139535]\n",
      "Model 22/48, Metric mean-roc_auc_score, Validation set 21: 0.684059\n",
      "\tbest_validation_score so far: 0.699483\n",
      "Fitting model 23/48\n",
      "hyperparameters: {'activation': 'sigmoid', 'optimizer': 'RMSprop', 'momentum': 0.9, 'dropouts': 0.2, 'learning_rate': 0.001, 'batch_size': 50, 'nb_layers': 256, 'penalty': 0.0}\n",
      "computed_metrics: [0.7309076369452219, 0.6723300970873787, 0.6631205673758864, 0.6412151067323482, 0.7083333333333334, 0.686656282450675, 0.8656716417910447, 0.5433255269320842, 0.6593023255813953, 0.8012048192771084, 0.6611528822055137, 0.7324074074074074, 0.7021164021164021, 0.48739837398373986, 0.6965090090090089, 0.7059925093632959, 0.8491735537190082, 0.6593137254901961, 0.6645631067961164, 0.631055900621118, 0.7107393416082028, 0.7059614522635589, 0.6201183431952662, 0.6424100156494523, 0.7223218287763336, 0.7926208651399491, 0.6497674418604651]\n",
      "Model 23/48, Metric mean-roc_auc_score, Validation set 22: 0.689100\n",
      "\tbest_validation_score so far: 0.699483\n",
      "Fitting model 24/48\n",
      "hyperparameters: {'activation': 'sigmoid', 'optimizer': 'RMSprop', 'momentum': 0.9, 'dropouts': 0.2, 'learning_rate': 0.001, 'batch_size': 50, 'nb_layers': 512, 'penalty': 0.0}\n",
      "computed_metrics: [0.7223110755697721, 0.6412621359223301, 0.6773049645390071, 0.6438834154351396, 0.7032608695652174, 0.6874350986500519, 0.8532338308457712, 0.5195160031225605, 0.6248837209302325, 0.7993975903614458, 0.6646616541353383, 0.7472222222222222, 0.7142857142857142, 0.4857723577235772, 0.6979166666666667, 0.7049521431543904, 0.8567493112947658, 0.649859943977591, 0.6514563106796116, 0.6257763975155279, 0.7304371289800324, 0.7122366651725685, 0.6112426035502958, 0.6428012519561814, 0.7155983863738234, 0.799618320610687, 0.6437209302325582]\n",
      "Model 24/48, Metric mean-roc_auc_score, Validation set 23: 0.686178\n",
      "\tbest_validation_score so far: 0.699483\n",
      "Fitting model 25/48\n",
      "hyperparameters: {'activation': 'sigmoid', 'optimizer': 'adam', 'momentum': 0.9, 'dropouts': 0.5, 'learning_rate': 0.001, 'batch_size': 50, 'nb_layers': 64, 'penalty': 0.0}\n",
      "computed_metrics: [0.7203118752499, 0.666504854368932, 0.677304964539007, 0.6529146141215105, 0.7010869565217391, 0.6960020768431983, 0.8416252072968491, 0.5382513661202186, 0.6593023255813952, 0.7887550200803213, 0.6887218045112782, 0.7194444444444446, 0.7214285714285714, 0.5065040650406504, 0.7021396396396397, 0.7103620474406991, 0.8429752066115703, 0.6530112044817927, 0.6436893203883496, 0.6475155279503105, 0.733405288720993, 0.7021515015688032, 0.5633136094674556, 0.6431924882629109, 0.731958762886598, 0.8148854961832062, 0.6302325581395347]\n",
      "Model 25/48, Metric mean-roc_auc_score, Validation set 24: 0.688777\n",
      "\tbest_validation_score so far: 0.699483\n",
      "Fitting model 26/48\n",
      "hyperparameters: {'activation': 'sigmoid', 'optimizer': 'adam', 'momentum': 0.9, 'dropouts': 0.5, 'learning_rate': 0.001, 'batch_size': 50, 'nb_layers': 128.0, 'penalty': 0.0}\n",
      "computed_metrics: [0.7303078768492602, 0.683252427184466, 0.6737588652482269, 0.6598932676518885, 0.7065217391304348, 0.7032710280373832, 0.8308457711442785, 0.5398126463700235, 0.633953488372093, 0.7939759036144578, 0.6706766917293232, 0.7574074074074075, 0.7174603174603175, 0.517479674796748, 0.71875, 0.7228464419475655, 0.8601928374655647, 0.6621148459383753, 0.6475728155339806, 0.632919254658385, 0.7323259579060982, 0.7129090094128194, 0.5562130177514792, 0.6422143974960877, 0.7268041237113403, 0.823791348600509, 0.6367441860465116]\n",
      "Model 26/48, Metric mean-roc_auc_score, Validation set 25: 0.692371\n",
      "\tbest_validation_score so far: 0.699483\n",
      "Fitting model 27/48\n",
      "hyperparameters: {'activation': 'sigmoid', 'optimizer': 'adam', 'momentum': 0.9, 'dropouts': 0.5, 'learning_rate': 0.001, 'batch_size': 50, 'nb_layers': 256, 'penalty': 0.0}\n",
      "computed_metrics: [0.7293082766893242, 0.6640776699029126, 0.6312056737588652, 0.6594827586206897, 0.7242753623188406, 0.6998961578400831, 0.8200663349917081, 0.5394223263075721, 0.6365116279069767, 0.798995983935743, 0.6844611528822055, 0.7518518518518518, 0.7166666666666668, 0.5247967479674797, 0.7212837837837838, 0.7118185601331669, 0.8429752066115703, 0.6705182072829131, 0.6725728155339805, 0.6478260869565218, 0.7239611440906638, 0.7169430748543254, 0.5846153846153846, 0.6437793427230047, 0.729269385925594, 0.8053435114503817, 0.6486046511627908]\n",
      "Model 27/48, Metric mean-roc_auc_score, Validation set 26: 0.692612\n",
      "\tbest_validation_score so far: 0.699483\n",
      "Fitting model 28/48\n",
      "hyperparameters: {'activation': 'sigmoid', 'optimizer': 'adam', 'momentum': 0.9, 'dropouts': 0.5, 'learning_rate': 0.001, 'batch_size': 50, 'nb_layers': 512, 'penalty': 0.0}\n",
      "computed_metrics: [0.7321071571371451, 0.6946601941747573, 0.7553191489361702, 0.6572249589490969, 0.7126811594202899, 0.7019730010384215, 0.8034825870646767, 0.5468384074941453, 0.6448837209302325, 0.7927710843373494, 0.693984962406015, 0.7305555555555556, 0.7084656084656085, 0.5138211382113821, 0.7156531531531531, 0.7172284644194756, 0.8533057851239669, 0.6684173669467787, 0.6553398058252426, 0.6298136645962733, 0.7150566648677819, 0.715374271627073, 0.5591715976331362, 0.6353677621283256, 0.7164948453608248, 0.811704834605598, 0.6427906976744187]\n",
      "Model 28/48, Metric mean-roc_auc_score, Validation set 27: 0.693500\n",
      "\tbest_validation_score so far: 0.699483\n",
      "Fitting model 29/48\n",
      "hyperparameters: {'activation': 'sigmoid', 'optimizer': 'adam', 'momentum': 0.9, 'dropouts': 0.2, 'learning_rate': 0.001, 'batch_size': 50, 'nb_layers': 64, 'penalty': 0.0}\n",
      "computed_metrics: [0.7253098760495802, 0.6604368932038835, 0.6312056737588653, 0.646551724137931, 0.7086956521739131, 0.6858774662512981, 0.8565505804311775, 0.565183450429352, 0.6497674418604651, 0.7879518072289158, 0.6636591478696742, 0.7435185185185185, 0.7119047619047619, 0.5138211382113822, 0.701295045045045, 0.6891385767790262, 0.8367768595041323, 0.6456582633053222, 0.6351941747572816, 0.6316770186335404, 0.725580140313006, 0.7104437471985656, 0.6325443786982248, 0.6402582159624414, 0.7220977140295831, 0.8072519083969465, 0.6497674418604651]\n",
      "Model 29/48, Metric mean-roc_auc_score, Validation set 28: 0.688078\n",
      "\tbest_validation_score so far: 0.699483\n",
      "Fitting model 30/48\n",
      "hyperparameters: {'activation': 'sigmoid', 'optimizer': 'adam', 'momentum': 0.9, 'dropouts': 0.2, 'learning_rate': 0.001, 'batch_size': 50, 'nb_layers': 128.0, 'penalty': 0.0}\n",
      "computed_metrics: [0.721311475409836, 0.6720873786407766, 0.7127659574468085, 0.6543513957307061, 0.7170289855072465, 0.6892523364485982, 0.8391376451077943, 0.5347384855581576, 0.6318604651162791, 0.8014056224899598, 0.6604010025062657, 0.7490740740740741, 0.7105820105820106, 0.5032520325203251, 0.7162162162162162, 0.698293799417395, 0.8202479338842974, 0.6449579831932774, 0.6461165048543689, 0.6307453416149069, 0.737722611980572, 0.7046167637830569, 0.6331360946745561, 0.6496478873239437, 0.7256835499775887, 0.7938931297709924, 0.6488372093023256]\n",
      "Model 30/48, Metric mean-roc_auc_score, Validation set 29: 0.690643\n",
      "\tbest_validation_score so far: 0.699483\n",
      "Fitting model 31/48\n",
      "hyperparameters: {'activation': 'sigmoid', 'optimizer': 'adam', 'momentum': 0.9, 'dropouts': 0.2, 'learning_rate': 0.001, 'batch_size': 50, 'nb_layers': 256, 'penalty': 0.0}\n"
     ]
    },
    {
     "name": "stdout",
     "output_type": "stream",
     "text": [
      "computed_metrics: [0.7233106757297081, 0.6560679611650486, 0.6418439716312057, 0.6631773399014778, 0.7047101449275361, 0.6845794392523364, 0.8383084577114428, 0.5472287275565964, 0.6441860465116279, 0.7939759036144578, 0.6606516290726816, 0.7444444444444445, 0.7193121693121693, 0.5150406504065042, 0.7080518018018018, 0.7047440699126093, 0.8581267217630855, 0.6582633053221288, 0.6439320388349514, 0.6273291925465839, 0.7417701025364275, 0.7133572389063201, 0.6236686390532544, 0.6384976525821595, 0.7281488121918422, 0.8085241730279898, 0.6562790697674419]\n",
      "Model 31/48, Metric mean-roc_auc_score, Validation set 30: 0.690649\n",
      "\tbest_validation_score so far: 0.699483\n",
      "Fitting model 32/48\n",
      "hyperparameters: {'activation': 'sigmoid', 'optimizer': 'adam', 'momentum': 0.9, 'dropouts': 0.2, 'learning_rate': 0.001, 'batch_size': 50, 'nb_layers': 512, 'penalty': 0.0}\n",
      "computed_metrics: [0.7249100359856058, 0.6601941747572815, 0.6347517730496455, 0.652504105090312, 0.6963768115942031, 0.6936656282450675, 0.855721393034826, 0.5304449648711944, 0.645813953488372, 0.7939759036144578, 0.6601503759398495, 0.7444444444444445, 0.7208994708994709, 0.5060975609756098, 0.7128378378378378, 0.6901789429879317, 0.8388429752066116, 0.6509103641456583, 0.645873786407767, 0.631055900621118, 0.7185644900161898, 0.7102196324518153, 0.6260355029585798, 0.6408450704225352, 0.7191842223218288, 0.8034351145038168, 0.6469767441860466]\n",
      "Model 32/48, Metric mean-roc_auc_score, Validation set 31: 0.687219\n",
      "\tbest_validation_score so far: 0.699483\n",
      "Fitting model 33/48\n",
      "hyperparameters: {'activation': 'tanh', 'optimizer': 'RMSprop', 'momentum': 0.9, 'dropouts': 0.5, 'learning_rate': 0.001, 'batch_size': 50, 'nb_layers': 64, 'penalty': 0.0}\n",
      "computed_metrics: [0.7339064374250299, 0.6815533980582524, 0.7588652482269503, 0.6457307060755337, 0.71268115942029, 0.702232606438214, 0.8590381426202323, 0.5542544886807181, 0.6681395348837209, 0.7959839357429719, 0.6802005012531328, 0.7324074074074074, 0.7079365079365079, 0.5089430894308943, 0.7027027027027026, 0.7226383687057845, 0.8402203856749311, 0.6684173669467787, 0.662621359223301, 0.6335403726708075, 0.7366432811656771, 0.7122366651725683, 0.5976331360946745, 0.6564945226917058, 0.7245629762438368, 0.8206106870229006, 0.660232558139535]\n",
      "Model 33/48, Metric mean-roc_auc_score, Validation set 32: 0.699275\n",
      "\tbest_validation_score so far: 0.699483\n",
      "Fitting model 34/48\n",
      "hyperparameters: {'activation': 'tanh', 'optimizer': 'RMSprop', 'momentum': 0.9, 'dropouts': 0.5, 'learning_rate': 0.001, 'batch_size': 50, 'nb_layers': 128.0, 'penalty': 0.0}\n",
      "computed_metrics: [0.7201119552179128, 0.679126213592233, 0.6914893617021276, 0.6664614121510672, 0.6963768115942028, 0.6905503634475597, 0.8308457711442787, 0.5495706479313036, 0.6481395348837209, 0.782730923694779, 0.680952380952381, 0.6925925925925926, 0.7137566137566138, 0.5219512195121951, 0.7263513513513513, 0.7128589263420724, 0.8443526170798898, 0.671218487394958, 0.6531553398058253, 0.653416149068323, 0.7258499730167296, 0.7064096817570596, 0.5928994082840238, 0.6451486697965572, 0.7359928283281041, 0.8034351145038168, 0.6397674418604651]\n",
      "Model 34/48, Metric mean-roc_auc_score, Validation set 33: 0.691686\n",
      "\tbest_validation_score so far: 0.699483\n",
      "Fitting model 35/48\n",
      "hyperparameters: {'activation': 'tanh', 'optimizer': 'RMSprop', 'momentum': 0.9, 'dropouts': 0.5, 'learning_rate': 0.001, 'batch_size': 50, 'nb_layers': 256, 'penalty': 0.0}\n",
      "computed_metrics: [0.7241103558576569, 0.6941747572815535, 0.6737588652482269, 0.6658456486042693, 0.7170289855072464, 0.6970404984423677, 0.8084577114427862, 0.5534738485558157, 0.6586046511627908, 0.8034136546184739, 0.6807017543859649, 0.7250000000000001, 0.7158730158730159, 0.5284552845528456, 0.7162162162162162, 0.7103620474406991, 0.8491735537190083, 0.6603641456582634, 0.658009708737864, 0.6475155279503106, 0.7390717754991905, 0.7041685342895563, 0.5704142011834319, 0.6332159624413145, 0.7341999103541013, 0.806615776081425, 0.6432558139534884]\n",
      "Model 35/48, Metric mean-roc_auc_score, Validation set 34: 0.693279\n",
      "\tbest_validation_score so far: 0.699483\n",
      "Fitting model 36/48\n",
      "hyperparameters: {'activation': 'tanh', 'optimizer': 'RMSprop', 'momentum': 0.9, 'dropouts': 0.5, 'learning_rate': 0.001, 'batch_size': 50, 'nb_layers': 512, 'penalty': 0.0}\n",
      "computed_metrics: [0.7305077968812475, 0.6798543689320389, 0.7553191489361701, 0.6543513957307061, 0.7282608695652173, 0.695742471443406, 0.861525704809287, 0.5316159250585479, 0.6646511627906977, 0.7929718875502008, 0.6862155388471178, 0.7379629629629629, 0.7113756613756614, 0.5109756097560976, 0.7027027027027026, 0.7188930503537245, 0.8409090909090909, 0.6761204481792717, 0.6589805825242718, 0.6406832298136647, 0.7374527792768484, 0.7028238458090543, 0.606508875739645, 0.6422143974960877, 0.7375616315553564, 0.8155216284987277, 0.6383720930232557]\n",
      "Model 36/48, Metric mean-roc_auc_score, Validation set 35: 0.698521\n",
      "\tbest_validation_score so far: 0.699483\n",
      "Fitting model 37/48\n",
      "hyperparameters: {'activation': 'tanh', 'optimizer': 'RMSprop', 'momentum': 0.9, 'dropouts': 0.2, 'learning_rate': 0.001, 'batch_size': 50, 'nb_layers': 64, 'penalty': 0.0}\n",
      "computed_metrics: [0.732906837265094, 0.6682038834951456, 0.5531914893617021, 0.6557881773399015, 0.7119565217391304, 0.6840602284527519, 0.8565505804311775, 0.5612802498048399, 0.6597674418604651, 0.797991967871486, 0.6576441102756891, 0.7611111111111111, 0.716931216931217, 0.4995934959349593, 0.7243806306306306, 0.7030794839783603, 0.8477961432506886, 0.6614145658263305, 0.654126213592233, 0.6295031055900622, 0.7377226119805721, 0.7167189601075751, 0.6082840236686391, 0.6371283255086073, 0.7256835499775885, 0.8136132315521629, 0.6509302325581395]\n",
      "Model 37/48, Metric mean-roc_auc_score, Validation set 36: 0.689902\n",
      "\tbest_validation_score so far: 0.699483\n",
      "Fitting model 38/48\n",
      "hyperparameters: {'activation': 'tanh', 'optimizer': 'RMSprop', 'momentum': 0.9, 'dropouts': 0.2, 'learning_rate': 0.001, 'batch_size': 50, 'nb_layers': 128.0, 'penalty': 0.0}\n",
      "computed_metrics: [0.7297081167532986, 0.6679611650485437, 0.6453900709219857, 0.6481937602627257, 0.7115942028985507, 0.6871754932502596, 0.8424543946932006, 0.5460577673692428, 0.6511627906976745, 0.7917670682730923, 0.6538847117794486, 0.7583333333333333, 0.717989417989418, 0.5146341463414634, 0.7091779279279278, 0.6964211402413649, 0.8526170798898072, 0.6589635854341737, 0.6461165048543689, 0.6416149068322982, 0.7191041554236373, 0.7140295831465711, 0.6313609467455621, 0.6343896713615023, 0.7274764679515913, 0.8059796437659034, 0.6411627906976745]\n",
      "Model 38/48, Metric mean-roc_auc_score, Validation set 37: 0.690545\n",
      "\tbest_validation_score so far: 0.699483\n",
      "Fitting model 39/48\n",
      "hyperparameters: {'activation': 'tanh', 'optimizer': 'RMSprop', 'momentum': 0.9, 'dropouts': 0.2, 'learning_rate': 0.001, 'batch_size': 50, 'nb_layers': 256, 'penalty': 0.0}\n",
      "computed_metrics: [0.7171131547381048, 0.6529126213592233, 0.7198581560283688, 0.6418308702791462, 0.7068840579710145, 0.6926272066458983, 0.8482587064676617, 0.5511319281811085, 0.6523255813953488, 0.7921686746987953, 0.66265664160401, 0.7444444444444445, 0.7259259259259259, 0.5028455284552846, 0.7086148648648649, 0.7074490220557637, 0.8298898071625345, 0.6505602240896359, 0.6553398058252428, 0.632919254658385, 0.7312466270912035, 0.7144778126400717, 0.6236686390532544, 0.6504303599374022, 0.7301658449125953, 0.811704834605598, 0.6374418604651163]\n",
      "Model 39/48, Metric mean-roc_auc_score, Validation set 38: 0.692403\n",
      "\tbest_validation_score so far: 0.699483\n",
      "Fitting model 40/48\n",
      "hyperparameters: {'activation': 'tanh', 'optimizer': 'RMSprop', 'momentum': 0.9, 'dropouts': 0.2, 'learning_rate': 0.001, 'batch_size': 50, 'nb_layers': 512, 'penalty': 0.0}\n",
      "computed_metrics: [0.7175129948020791, 0.654854368932039, 0.6950354609929077, 0.6611247947454844, 0.7083333333333333, 0.6879543094496365, 0.8441127694859039, 0.5210772833723654, 0.6493023255813953, 0.7961847389558232, 0.6656641604010025, 0.75, 0.7259259259259259, 0.49959349593495933, 0.6981981981981982, 0.6853932584269662, 0.8381542699724518, 0.6509103641456583, 0.6631067961165049, 0.6242236024844721, 0.7253103076092824, 0.7185118780815778, 0.6301775147928994, 0.6504303599374022, 0.7274764679515913, 0.806615776081425, 0.6516279069767441]\n",
      "Model 40/48, Metric mean-roc_auc_score, Validation set 39: 0.690623\n",
      "\tbest_validation_score so far: 0.699483\n",
      "Fitting model 41/48\n",
      "hyperparameters: {'activation': 'tanh', 'optimizer': 'adam', 'momentum': 0.9, 'dropouts': 0.5, 'learning_rate': 0.001, 'batch_size': 50, 'nb_layers': 64, 'penalty': 0.0}\n"
     ]
    },
    {
     "name": "stdout",
     "output_type": "stream",
     "text": [
      "computed_metrics: [0.7361055577768891, 0.6834951456310681, 0.6702127659574468, 0.6545566502463054, 0.722463768115942, 0.6985981308411214, 0.8250414593698177, 0.5565964090554255, 0.6655813953488372, 0.7953815261044177, 0.6902255639097745, 0.7222222222222222, 0.7142857142857143, 0.5158536585365854, 0.7088963963963963, 0.717852684144819, 0.8388429752066116, 0.6729691876750701, 0.6728155339805825, 0.6487577639751553, 0.7304371289800324, 0.7185118780815778, 0.6053254437869823, 0.6406494522691706, 0.7321828776333482, 0.799618320610687, 0.6458139534883721]\n",
      "Model 41/48, Metric mean-roc_auc_score, Validation set 40: 0.695678\n",
      "\tbest_validation_score so far: 0.699483\n",
      "Fitting model 42/48\n",
      "hyperparameters: {'activation': 'tanh', 'optimizer': 'adam', 'momentum': 0.9, 'dropouts': 0.5, 'learning_rate': 0.001, 'batch_size': 50, 'nb_layers': 128.0, 'penalty': 0.0}\n",
      "computed_metrics: [0.734906037584966, 0.6800970873786407, 0.6595744680851063, 0.6689244663382594, 0.6960144927536231, 0.7017133956386293, 0.8275290215588723, 0.5339578454332552, 0.6332558139534883, 0.802008032128514, 0.6819548872180451, 0.7037037037037037, 0.7126984126984126, 0.5169715447154472, 0.7094594594594594, 0.7097378277153558, 0.8526170798898072, 0.6624649859943978, 0.6485436893203884, 0.639751552795031, 0.7191041554236374, 0.6972209771402959, 0.5834319526627219, 0.6410406885758999, 0.7483191393993724, 0.8008905852417303, 0.6458139534883722]\n",
      "Model 42/48, Metric mean-roc_auc_score, Validation set 41: 0.689322\n",
      "\tbest_validation_score so far: 0.699483\n",
      "Fitting model 43/48\n",
      "hyperparameters: {'activation': 'tanh', 'optimizer': 'adam', 'momentum': 0.9, 'dropouts': 0.5, 'learning_rate': 0.001, 'batch_size': 50, 'nb_layers': 256, 'penalty': 0.0}\n",
      "computed_metrics: [0.7265093962415035, 0.6834951456310681, 0.6737588652482269, 0.6557881773399015, 0.7163043478260869, 0.6900311526479751, 0.8009950248756219, 0.5409836065573771, 0.6474418604651162, 0.7975903614457831, 0.6789473684210525, 0.7481481481481482, 0.7174603174603174, 0.5345528455284553, 0.7212837837837839, 0.7170203911776946, 0.8601928374655647, 0.6659663865546219, 0.6633495145631068, 0.6288819875776398, 0.7274689692390718, 0.6990138951142986, 0.5911242603550296, 0.6355633802816901, 0.7436127297176154, 0.8199745547073791, 0.632093023255814]\n",
      "Model 43/48, Metric mean-roc_auc_score, Validation set 42: 0.693243\n",
      "\tbest_validation_score so far: 0.699483\n",
      "Fitting model 44/48\n",
      "hyperparameters: {'activation': 'tanh', 'optimizer': 'adam', 'momentum': 0.9, 'dropouts': 0.5, 'learning_rate': 0.001, 'batch_size': 50, 'nb_layers': 512, 'penalty': 0.0}\n",
      "computed_metrics: [0.7293082766893242, 0.6856796116504855, 0.6524822695035462, 0.6483990147783252, 0.7068840579710145, 0.6910695742471444, 0.8150912106135988, 0.559328649492584, 0.6616279069767441, 0.7975903614457831, 0.6934837092731829, 0.7268518518518519, 0.7190476190476189, 0.5117886178861788, 0.7257882882882882, 0.7136912193091969, 0.8533057851239669, 0.6537114845938375, 0.6623786407766991, 0.6295031055900622, 0.7352941176470589, 0.7003585835948005, 0.5757396449704142, 0.6482785602503912, 0.7341999103541013, 0.8123409669211195, 0.6355813953488372]\n",
      "Model 44/48, Metric mean-roc_auc_score, Validation set 43: 0.691808\n",
      "\tbest_validation_score so far: 0.699483\n",
      "Fitting model 45/48\n",
      "hyperparameters: {'activation': 'tanh', 'optimizer': 'adam', 'momentum': 0.9, 'dropouts': 0.2, 'learning_rate': 0.001, 'batch_size': 50, 'nb_layers': 64, 'penalty': 0.0}\n",
      "computed_metrics: [0.7143142742902839, 0.6720873786407766, 0.7446808510638299, 0.6461412151067323, 0.7177536231884059, 0.6814641744548287, 0.8640132669983417, 0.5222482435597189, 0.6523255813953488, 0.8012048192771084, 0.6711779448621553, 0.7611111111111111, 0.7198412698412697, 0.5199186991869919, 0.7077702702702702, 0.7066167290886392, 0.8560606060606062, 0.6407563025210083, 0.6609223300970873, 0.6201863354037267, 0.7209929843497032, 0.7028238458090542, 0.6082840236686391, 0.6428012519561815, 0.7303899596593455, 0.8021628498727735, 0.6553488372093024]\n",
      "Model 45/48, Metric mean-roc_auc_score, Validation set 44: 0.694200\n",
      "\tbest_validation_score so far: 0.699483\n",
      "Fitting model 46/48\n",
      "hyperparameters: {'activation': 'tanh', 'optimizer': 'adam', 'momentum': 0.9, 'dropouts': 0.2, 'learning_rate': 0.001, 'batch_size': 50, 'nb_layers': 128.0, 'penalty': 0.0}\n",
      "computed_metrics: [0.7267093162734906, 0.6543689320388351, 0.6276595744680851, 0.6305418719211824, 0.7032608695652174, 0.6863966770508827, 0.8374792703150913, 0.5128805620608899, 0.6541860465116279, 0.7875502008032128, 0.6543859649122807, 0.7361111111111112, 0.712962962962963, 0.4906504065040651, 0.7077702702702703, 0.7097378277153559, 0.8257575757575757, 0.6505602240896359, 0.6485436893203884, 0.6313664596273292, 0.7166756610901241, 0.7046167637830569, 0.6284023668639054, 0.6467136150234742, 0.7245629762438368, 0.8059796437659034, 0.6411627906976745]\n",
      "Model 46/48, Metric mean-roc_auc_score, Validation set 45: 0.683592\n",
      "\tbest_validation_score so far: 0.699483\n",
      "Fitting model 47/48\n",
      "hyperparameters: {'activation': 'tanh', 'optimizer': 'adam', 'momentum': 0.9, 'dropouts': 0.2, 'learning_rate': 0.001, 'batch_size': 50, 'nb_layers': 256, 'penalty': 0.0}\n",
      "computed_metrics: [0.7215113954418233, 0.6543689320388348, 0.5709219858156028, 0.6508620689655173, 0.7072463768115942, 0.6874350986500519, 0.834162520729685, 0.5281030444964872, 0.623953488372093, 0.7867469879518072, 0.6478696741854636, 0.7361111111111112, 0.7113756613756614, 0.48983739837398377, 0.7117117117117118, 0.6991260923845194, 0.8367768595041323, 0.6474089635854342, 0.6354368932038834, 0.6279503105590063, 0.7155963302752293, 0.7010309278350515, 0.6100591715976331, 0.6474960876369327, 0.7138054683998207, 0.7951653944020356, 0.63]\n",
      "Model 47/48, Metric mean-roc_auc_score, Validation set 46: 0.678595\n",
      "\tbest_validation_score so far: 0.699483\n",
      "Fitting model 48/48\n",
      "hyperparameters: {'activation': 'tanh', 'optimizer': 'adam', 'momentum': 0.9, 'dropouts': 0.2, 'learning_rate': 0.001, 'batch_size': 50, 'nb_layers': 512, 'penalty': 0.0}\n",
      "computed_metrics: [0.7305077968812475, 0.6699029126213591, 0.7304964539007093, 0.6385467980295567, 0.7043478260869565, 0.6786085150571133, 0.8466003316749586, 0.5292740046838407, 0.6386046511627906, 0.7931726907630521, 0.6651629072681704, 0.7416666666666667, 0.7137566137566138, 0.4951219512195122, 0.713963963963964, 0.6935081148564295, 0.8498622589531681, 0.6621148459383753, 0.6478155339805826, 0.6350931677018634, 0.7218024824608742, 0.6978933213805468, 0.6301775147928994, 0.6410406885758998, 0.7279246974450919, 0.8015267175572519, 0.650232558139535]\n",
      "Model 48/48, Metric mean-roc_auc_score, Validation set 47: 0.690694\n",
      "\tbest_validation_score so far: 0.699483\n",
      "computed_metrics: [0.9469916374592633, 0.9260523632656033, 0.9598333333333333, 0.9446878028338701, 0.9608486524380744, 0.9371593141041201, 0.9839035358434001, 0.950428326670474, 0.9440012157130917, 0.9429757449501932, 0.9509975211898289, 0.9759894332372718, 0.9383707767328457, 0.9498645784267545, 0.9549461779533996, 0.948853909998703, 0.9823946067825176, 0.9464213602550477, 0.9365316474581327, 0.9450763633455941, 0.9530013750197237, 0.9342277508655117, 0.9509139375476008, 0.9331952812797704, 0.9486095282340898, 0.9839732195757791, 0.9253732868314215]\n",
      "Best hyperparameters: ('relu', 'adam', 0.9, 0.5, 0.001, 50, 512, 0.0)\n",
      "train_score: 0.950208\n",
      "validation_score: 0.699483\n"
     ]
    }
   ],
   "source": [
    "\n",
    "metric = dc.metrics.Metric(dc.metrics.roc_auc_score, np.mean)\n",
    "optimizer = dc.hyper.HyperparamOpt(model_builder)\n",
    "best_dnn, best_hyperparams, all_results = optimizer.hyperparam_search(\n",
    "    params_dict, train_dataset, valid_dataset, [], metric)"
   ]
  },
  {
   "cell_type": "code",
   "execution_count": 33,
   "metadata": {},
   "outputs": [],
   "source": [
    "#model=model_builder(params_dict,params_dict)\n",
    "#model.fit(train_dataset,nb_epoch=100)"
   ]
  },
  {
   "cell_type": "code",
   "execution_count": 34,
   "metadata": {},
   "outputs": [],
   "source": [
    "obj=best_dnn.fit(train_dataset,**params_dict)"
   ]
  },
  {
   "cell_type": "code",
   "execution_count": 35,
   "metadata": {},
   "outputs": [],
   "source": [
    "metric = dc.metrics.Metric(dc.metrics.roc_auc_score, np.mean)"
   ]
  },
  {
   "cell_type": "code",
   "execution_count": 36,
   "metadata": {},
   "outputs": [
    {
     "name": "stdout",
     "output_type": "stream",
     "text": [
      "computed_metrics: [0.981889872717211, 0.9805749763309299, 0.9957222222222222, 0.983833582148189, 0.990419068390715, 0.9801602189217222, 0.9953663698086589, 0.9886298738383261, 0.9785236684142542, 0.9796471434102096, 0.9804393890932352, 0.9939433237271853, 0.9829806687565309, 0.9828367875647668, 0.9906004451105964, 0.9839887822591105, 0.9931446010886646, 0.9868411264612115, 0.9830088396553653, 0.9871601631217016, 0.9868734455890419, 0.9768089362013171, 0.9847201066260473, 0.9797143899934428, 0.9877140513505469, 0.9948058616739741, 0.9789106563853845]\n",
      "{'mean-roc_auc_score': 0.9855280952170579}\n"
     ]
    }
   ],
   "source": [
    "train_scores = best_dnn.evaluate(train_dataset, [metric], transformers)\n",
    "print(train_scores)\n"
   ]
  },
  {
   "cell_type": "code",
   "execution_count": 37,
   "metadata": {},
   "outputs": [
    {
     "name": "stdout",
     "output_type": "stream",
     "text": [
      "computed_metrics: [0.7135145941623351, 0.6317961165048545, 0.7553191489361702, 0.6594827586206896, 0.6996376811594203, 0.7027518172377986, 0.8150912106135988, 0.5117096018735363, 0.6479069767441861, 0.7891566265060241, 0.6739348370927318, 0.7324074074074074, 0.692063492063492, 0.5195121951219512, 0.7226914414414414, 0.6783187682064087, 0.8319559228650137, 0.6491596638655462, 0.6512135922330097, 0.6375776397515527, 0.7433890987587696, 0.7077543702375616, 0.5775147928994082, 0.636737089201878, 0.7164948453608249, 0.7888040712468194, 0.6427906976744187]\n",
      "{'mean-roc_auc_score': 0.6862476465846981}\n"
     ]
    }
   ],
   "source": [
    "valid_scores = best_dnn.evaluate(valid_dataset, [metric], transformers)\n",
    "print(valid_scores)\n"
   ]
  },
  {
   "cell_type": "code",
   "execution_count": 38,
   "metadata": {},
   "outputs": [
    {
     "name": "stdout",
     "output_type": "stream",
     "text": [
      "computed_metrics: [0.6822466614296936, 0.612057373375168, 0.40287769784172656, 0.6271153089334907, 0.6243194192377495, 0.6214876033057852, 0.6157894736842107, 0.5196078431372548, 0.6131656804733727, 0.6688845401174168, 0.644978783592645, 0.5839719029374202, 0.6411238825031929, 0.6792717086834734, 0.6006695361071257, 0.7109649122807018, 0.5401041666666666, 0.5834845735027223, 0.538494623655914, 0.6186046511627907, 0.5905376344086022, 0.6709770114942529, 0.743801652892562, 0.589484126984127, 0.6772747646795159, 0.699889258028793, 0.6111609143881668]\n",
      "{'mean-roc_auc_score': 0.6189757668705385}\n"
     ]
    }
   ],
   "source": [
    "test_scores_v1 = best_dnn.evaluate(test_dataset, [metric], transformers)\n",
    "print(test_scores_v1)"
   ]
  },
  {
   "cell_type": "code",
   "execution_count": 39,
   "metadata": {},
   "outputs": [
    {
     "data": {
      "text/plain": [
       "[(0, 0.6499245552140653)]"
      ]
     },
     "execution_count": 39,
     "metadata": {},
     "output_type": "execute_result"
    },
    {
     "data": {
      "image/png": "[encoded data removed]",
      "text/plain": [
       "<Figure size 720x288 with 1 Axes>"
      ]
     },
     "metadata": {},
     "output_type": "display_data"
    }
   ],
   "source": [
    "import seaborn as sns\n",
    "\n",
    "sns.set(rc={'figure.figsize':(10,4)})\n",
    "sns.set(style=\"whitegrid\")\n",
    "ax = sns.barplot(x=[test_scores['mean-roc_auc_score'],test_scores_v1['mean-roc_auc_score']],\n",
    "                 y=['First Scenario','Second Scenario'])\n",
    "ax.set(xlim=(0, None))"
   ]
  },
  {
   "cell_type": "code",
   "execution_count": null,
   "metadata": {},
   "outputs": [],
   "source": []
  }
 ],
 "metadata": {
  "kernelspec": {
   "display_name": "Python 3",
   "language": "python",
   "name": "python3"
  },
  "language_info": {
   "codemirror_mode": {
    "name": "ipython",
    "version": 3
   },
   "file_extension": ".py",
   "mimetype": "text/x-python",
   "name": "python",
   "nbconvert_exporter": "python",
   "pygments_lexer": "ipython3",
   "version": "3.6.8"
  }
 },
 "nbformat": 4,
 "nbformat_minor": 2
}
